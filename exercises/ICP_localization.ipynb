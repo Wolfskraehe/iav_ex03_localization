{
 "cells": [
  {
   "attachments": {},
   "cell_type": "markdown",
   "metadata": {},
   "source": [
    "# General Imports"
   ]
  },
  {
   "cell_type": "code",
   "execution_count": null,
   "metadata": {},
   "outputs": [],
   "source": [
    "import numpy as np\n",
    "from matplotlib import animation, rc\n",
    "import matplotlib.pyplot as plt\n",
    "from scipy.spatial import KDTree\n",
    "from typing import Tuple\n",
    "\n",
    "import tools.utils as utils\n",
    "from IPython.display import display, Math, Latex, Markdown, HTML\n",
    "\n",
    "%matplotlib inline\n"
   ]
  },
  {
   "attachments": {},
   "cell_type": "markdown",
   "metadata": {},
   "source": [
    "# Create ICP class"
   ]
  },
  {
   "cell_type": "code",
   "execution_count": null,
   "metadata": {},
   "outputs": [],
   "source": [
    "class ICP:\n",
    "    \"\"\"\n",
    "    Implementation of an ICP class\n",
    "    \"\"\"\n",
    "\n",
    "    def __init__(\n",
    "        self, max_iterations: int = 50, max_dist: int = 10, tol: int = 1e-5\n",
    "    ) -> None:\n",
    "        \"\"\"\n",
    "        Args:\n",
    "            max_iterations (int, optional): Maximum iterations for the ICP algorithm. Defaults to 50.\n",
    "            max_dist (int, optional): Max distance to cosider coincidences. Defaults to 10.\n",
    "            tol (int, optional): Maximum tolerance to check if the algorithm converged. Defaults to 1e-5.\n",
    "        \"\"\"\n",
    "        self.max_iterations = max_iterations\n",
    "        self.max_dist = max_dist\n",
    "        self.tol = tol\n",
    "\n",
    "    def align(\n",
    "        self, source: np.array, target: np.array, method: str = \"svd\"\n",
    "    ) -> Tuple[np.array, np.array]:\n",
    "        \"\"\"\n",
    "        Align function to compute the transformation from source to target. This function can be extended use different\n",
    "        methods rather than only ICP.\n",
    "\n",
    "        Args:\n",
    "            source (np.array): Pointcloud to be aligned\n",
    "            target (np.array): Base Pointcloud, in localization, this is the map\n",
    "            method (str, optional): Method to perform ICP. Defaults to \"svd\".\n",
    "\n",
    "        Raises:\n",
    "            ValueError: If method is different to the ones programmed.\n",
    "\n",
    "        Returns:\n",
    "            Tuple[np.array, np.array]: Returns the rotation matrix and translation from source to target.\n",
    "            Also returns a list with all Rotations and translations for each iteration in ICP.\n",
    "        \"\"\"\n",
    "        if method == \"svd\":\n",
    "            return self._align_svd(source, target)\n",
    "        else:\n",
    "            raise ValueError(f\"{method} is not available\")\n",
    "\n",
    "    def _align_svd(\n",
    "        self, source: np.array, target: np.array\n",
    "    ) -> Tuple[np.array, np.array]:\n",
    "        \"\"\"\n",
    "        Align function to compute the transformation from source to target using Single Value Decomposition.\n",
    "\n",
    "        Args:\n",
    "            source (np.array): Pointcloud to be aligned\n",
    "            target (np.array): Base Pointcloud, in localization, this is the map\n",
    "\n",
    "        Returns:\n",
    "            Tuple[np.array, np.array]: Returns the rotation matrix and translation from source to target.\n",
    "            Also returns a list with all Rotations and translations for each iteration in ICP.\n",
    "\n",
    "        \"\"\"\n",
    "\n",
    "        mean_target = np.mean(target, axis=0)\n",
    "        centered_target = target - mean_target\n",
    "        tree = KDTree(centered_target)\n",
    "\n",
    "        source_copy = source.copy()\n",
    "\n",
    "        R = np.eye(target.shape[1])\n",
    "        t = np.zeros((target.shape[1], 1))\n",
    "\n",
    "        R_list = [R]\n",
    "        t_list = [t]\n",
    "        corres_values = []\n",
    "\n",
    "        for iteration in range(self.max_iterations):\n",
    "            # Center source\n",
    "            mean_source = np.mean(source_copy, axis=0)\n",
    "            centered_source = source_copy - mean_source\n",
    "            # Find nearest neighbors\n",
    "            distances, indices = tree.query(centered_source)\n",
    "            # Compute correspondences\n",
    "            correspondences = np.asarray([(i, j) for i, j in enumerate(indices)])\n",
    "            mask = distances < self.max_dist\n",
    "            # Filter correspondences\n",
    "            correspondences = correspondences[mask, :]\n",
    "            distances = distances[mask]\n",
    "            #  Compute covariance matrix\n",
    "            E = np.dot(\n",
    "                (centered_source[correspondences[:, 0]]).T,\n",
    "                centered_target[correspondences[:, 1]],\n",
    "            )\n",
    "\n",
    "            # Singular value decomposition\n",
    "            U, S, Vt = np.linalg.svd(E)\n",
    "            # Compute rotation and translation\n",
    "            Rn = np.dot(Vt.T, U.T)\n",
    "            tn = mean_target.reshape((target.shape[1], 1)) - np.dot(\n",
    "                Rn, mean_source.reshape((target.shape[1], 1))\n",
    "            )\n",
    "\n",
    "            # Apply transform to point cloud\n",
    "            source_copy = Rn.dot(source_copy.T) + tn\n",
    "            source_copy = source_copy.T\n",
    "\n",
    "            # Update transformation\n",
    "            t = Rn @ t + tn\n",
    "            R = np.dot(R, Rn)\n",
    "            t_list.append(t.copy())\n",
    "            R_list.append(R.copy())\n",
    "            corres_values.append(correspondences.copy())\n",
    "\n",
    "            if np.allclose(tn, 0, atol=self.tol) and np.allclose(Rn, np.eye(Rn.shape[0]), atol=self.tol):\n",
    "                break\n",
    "\n",
    "        return R, t, R_list, t_list, corres_values"
   ]
  },
  {
   "cell_type": "markdown",
   "metadata": {},
   "source": [
    "# Example 1"
   ]
  },
  {
   "cell_type": "code",
   "execution_count": null,
   "metadata": {},
   "outputs": [],
   "source": [
    "\n",
    "# initialize pertrubation rotation\n",
    "angle = np.pi / 4\n",
    "R_true = np.array([[np.cos(angle), -np.sin(angle), 0], \n",
    "                   [np.sin(angle), np.cos(angle), 0],\n",
    "                   [0, 0 , 1]])\n",
    "t_true = np.array([[-2], [5], [0]])\n",
    "\n",
    "# Generate data as a list of 2d points\n",
    "num_points = 30\n",
    "true_data = np.zeros((3, num_points))\n",
    "true_data[0, :] = range(0, num_points)\n",
    "true_data[1, :] = 0.2 * true_data[0, :] * np.sin(0.5 * true_data[0, :])\n",
    "# Move the data\n",
    "moved_data = R_true.dot(true_data) + t_true\n",
    "\n",
    "# Assign to variables we use in formulas.\n",
    "Q = true_data\n",
    "P = moved_data\n",
    "\n",
    "fig, ax = plt.subplots()\n",
    "utils.plot_pcd(ax, Q.T, color=\"red\", label=\"Target\")\n",
    "utils.plot_pcd(ax, P.T, color=\"blue\", label=\"Source\")\n",
    "ax.legend()\n",
    "ax.grid()\n",
    "ax.set_ylabel(\"y [m]\")\n",
    "ax.set_xlabel(\"x [m]\")\n"
   ]
  },
  {
   "cell_type": "code",
   "execution_count": null,
   "metadata": {},
   "outputs": [],
   "source": [
    "# Create ICP object and align pointlcloud\n",
    "\n",
    "icp = ICP(max_iterations=10, max_dist=1000)\n",
    "R, t, R_list, t_list, correspondences = icp.align(P.T, Q.T)\n",
    "utils.animate_icp_results(P,Q, R_list, t_list, correspondences, (-5,30), (-6, 30))"
   ]
  },
  {
   "attachments": {},
   "cell_type": "markdown",
   "metadata": {},
   "source": [
    "# Example 2"
   ]
  },
  {
   "cell_type": "code",
   "execution_count": null,
   "metadata": {},
   "outputs": [],
   "source": [
    "source_pcd = utils.pcl_from_pcd(\"dataset/source.pcd\")\n",
    "target_pcd = utils.pcl_from_pcd(\"dataset/target.pcd\")\n",
    "\n",
    "fig, ax = plt.subplots()\n",
    "utils.plot_pcd(ax, target_pcd, color=\"red\", label=\"Target\")\n",
    "utils.plot_pcd(ax, source_pcd, color=\"blue\", label=\"Source\")\n",
    "ax.legend()\n",
    "ax.grid()\n",
    "ax.set_ylabel(\"y [m]\")\n",
    "ax.set_xlabel(\"x [m]\")"
   ]
  },
  {
   "cell_type": "code",
   "execution_count": null,
   "metadata": {},
   "outputs": [],
   "source": [
    "# Create ICP object and align pointlcloud\n",
    "\n",
    "icp = ICP(max_iterations=30, max_dist=1000, tol=1e-5)\n",
    "R, t, R_list, t_list, correspondences = icp.align(source_pcd, target_pcd)\n",
    "print(t)\n",
    "print(R)\n",
    "utils.animate_icp_results(source_pcd.T,target_pcd.T, R_list, t_list, correspondences, (-7,7), (-7, 7))"
   ]
  }
 ],
 "metadata": {
  "kernelspec": {
   "display_name": "Python 3",
   "language": "python",
   "name": "python3"
  },
  "language_info": {
   "codemirror_mode": {
    "name": "ipython",
    "version": 3
   },
   "file_extension": ".py",
   "mimetype": "text/x-python",
   "name": "python",
   "nbconvert_exporter": "python",
   "pygments_lexer": "ipython3",
   "version": "3.8.10"
  },
  "orig_nbformat": 4,
  "vscode": {
   "interpreter": {
    "hash": "916dbcbb3f70747c44a77c7bcd40155683ae19c65e1c03b4aa3499c5328201f1"
   }
  }
 },
 "nbformat": 4,
 "nbformat_minor": 2
}
