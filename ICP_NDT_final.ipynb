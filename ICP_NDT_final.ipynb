{
 "cells": [
  {
   "cell_type": "code",
   "execution_count": 1,
   "metadata": {},
   "outputs": [
    {
     "name": "stdout",
     "output_type": "stream",
     "text": [
      "Jupyter environment detected. Enabling Open3D WebVisualizer.\n",
      "[Open3D INFO] WebRTC GUI backend enabled.\n",
      "[Open3D INFO] WebRTCWindowSystem: HTTP handshake server disabled.\n"
     ]
    }
   ],
   "source": [
    "\n",
    "#import libraries and frameworks\n",
    "from typing import Tuple, List\n",
    "\n",
    "import numpy as np\n",
    "import open3d as o3d\n",
    "import os\n",
    "import copy\n",
    "import numpy as np\n",
    "import matplotlib.pyplot as plt\n",
    "import exercises.tools.utils as utils\n",
    "from matplotlib import animation, rc\n",
    "import matplotlib.pyplot as plt\n",
    "from scipy.stats import multivariate_normal\n",
    "from IPython.display import display, Math, Latex, Markdown, HTML\n",
    "\n",
    "from tqdm import tqdm\n",
    "import time\n",
    "import pandas as pd\n",
    "\n",
    "%matplotlib inline"
   ]
  },
  {
   "cell_type": "code",
   "execution_count": 2,
   "metadata": {},
   "outputs": [
    {
     "name": "stdout",
     "output_type": "stream",
     "text": [
      "REGLIB loaded\n",
      "<CDLL '/app/asdas/libregistration_pcl110.so', handle 4d9cfd0 at 0x7f4b753ccf10>\n"
     ]
    }
   ],
   "source": [
    "#lib wrapper for cpp registration libary slightly altered from: https://github.com/hummat/registration\n",
    "#using registration library pcl110\n",
    "\n",
    "import os\n",
    "import ctypes\n",
    "import csv\n",
    "\n",
    "import numpy as np\n",
    "\n",
    "\n",
    "def load_library(path: str = os.getcwd(), name: str = \"libregistration_pcl110\") -> None:\n",
    "    global REGLIB\n",
    "    try:\n",
    "        REGLIB = np.ctypeslib.load_library(libname=name, loader_path=path)\n",
    "        print(\"REGLIB loaded\")\n",
    "        print(REGLIB)\n",
    "    except OSError:\n",
    "        print(\"Compiled C++ library was not found in the current directory. Please use `load_library` to load it from \"\n",
    "              \"a custom directory, then ignore this message.\")\n",
    "\n",
    "\n",
    "load_library()\n",
    "\n",
    "\n",
    "def load_data(path: str, delimiter: str = ' ') -> np.ndarray:\n",
    "    \"\"\"Loads point cloud data of type `CSV`, `PLY` and `PCD`.\n",
    "\n",
    "    The file should contain one point per line where each number is separated by the `delimiter` character.\n",
    "    Any none numeric lines will be skipped.\n",
    "\n",
    "    Args:\n",
    "        path (str): The path to the file.\n",
    "        delimiter (char): Separation of numbers in each line of the file.\n",
    "\n",
    "    Returns:\n",
    "        A ndarray of shape NxD where `N` are the number of points in the point cloud and `D` their dimension.\n",
    "    \"\"\"\n",
    "    data = list()\n",
    "    with open(path, newline='\\n') as file:\n",
    "        reader = csv.reader(file, delimiter=delimiter, quoting=csv.QUOTE_NONNUMERIC)\n",
    "        lines = 0\n",
    "        skips = 0\n",
    "        while True:\n",
    "            try:\n",
    "                row = next(reader)\n",
    "                row = [x for x in row if not isinstance(x, str)]\n",
    "                if len(row) in [3, 6, 9]:\n",
    "                    data.append(row[:3])\n",
    "                else:\n",
    "                    skips += 1\n",
    "            except ValueError:\n",
    "                skips += 1\n",
    "                pass\n",
    "            except StopIteration:\n",
    "                print(f\"Found {lines} lines. Skipped {skips}. Loaded {lines - skips} points.\")\n",
    "                break\n",
    "            lines += 1\n",
    "    return np.array(data)\n",
    "\n",
    "\n",
    "def set_argtypes(algorithm, source, target):\n",
    "    \"\"\"Tells the underlying C++ code which data types and dimensions to expect.\n",
    "\n",
    "    Args:\n",
    "        algorithm (str): The registration algorithm to use. One of `icp` or `ndt`.\n",
    "        source (ndarray): The source point cloud.\n",
    "        target (ndarray): The target point cloud.\n",
    "    \"\"\"\n",
    "    REGLIB.icp.restype = ctypes.c_double\n",
    "    REGLIB.ndt.restype = ctypes.c_double\n",
    "    argtypes = [np.ctypeslib.ndpointer(dtype=np.float64, ndim=source.ndim, shape=source.shape,\n",
    "                                       flags='C_CONTIGUOUS'), ctypes.c_size_t,\n",
    "                np.ctypeslib.ndpointer(dtype=np.float64, ndim=target.ndim, shape=target.shape,\n",
    "                                       flags='C_CONTIGUOUS'), ctypes.c_size_t,\n",
    "                np.ctypeslib.ndpointer(dtype=np.float64, ndim=2, shape=(4, 4), flags='C_CONTIGUOUS'),\n",
    "                ctypes.c_int, ctypes.c_double, ctypes.c_double, ctypes.c_double, ctypes.c_double, ctypes.c_bool]\n",
    "    if algorithm == 'icp':\n",
    "        REGLIB.icp.argtypes = argtypes\n",
    "    elif algorithm == 'ndt':\n",
    "        argtypes.extend([ctypes.c_float, ctypes.c_double, ctypes.c_float])\n",
    "        REGLIB.ndt.argtypes = argtypes\n",
    "\n",
    "\n",
    "def icp(source,\n",
    "        target,\n",
    "        transformation,\n",
    "        nr_iterations=25,\n",
    "        distance_threshold=1.0,\n",
    "        epsilon=1e-6,\n",
    "        inlier_threshold=0.0005,\n",
    "        downsample=0,\n",
    "        visualize=False):\n",
    "    \"\"\"The `Iterative Closest Point` (ICP) algorithm.\n",
    "\n",
    "    Args:\n",
    "        source (ndarray): The point cloud that we want to align to the target.\n",
    "        target (ndarray): The point cloud that the source is aligned to.\n",
    "        nr_iterations (int): The maximum number of iterations the internal optimization should run for.\n",
    "        distance_threshold (float): The maximum distance threshold between two correspondent points in\n",
    "                                    source -> target. If the distance is larger than this threshold, the points will\n",
    "                                    be ignored in the alignment process.\n",
    "        epsilon (float): The transformation epsilon (maximum allowable difference between two consecutive\n",
    "                 transformations) in order for an optimization to be considered as having converged to the final\n",
    "                 solution.\n",
    "        inlier_threshold (float): The inlier distance threshold for the internal RANSAC outlier rejection loop.\n",
    "                          The method considers a point to be an inlier, if the distance between the target data\n",
    "                          index and the transformed source index is smaller than the given inlier distance\n",
    "                          threshold.\n",
    "        downsample (float): Assembles a local 3D grid over a given PointCloud and downsamples + filters the data.\n",
    "        visualize (bool): Can be used to visualize and control the progress of the algorithm.\n",
    "\n",
    "    Returns:\n",
    "        A ndarray with the final transformation matrix between source and target.\n",
    "    \"\"\"\n",
    "\n",
    " \n",
    "    \n",
    "    set_argtypes('icp', source, target)\n",
    "    score = REGLIB.icp(source, len(source), target, len(target), transformation,\n",
    "                       nr_iterations, distance_threshold, epsilon, inlier_threshold, downsample, visualize)\n",
    "    print(f\"ICP converged. Fitness score: {score:.2f}\") if score > 0 else print(\"ICP did not converge!\")\n",
    "    return transformation\n",
    "\n",
    "\n",
    "def ndt(source,\n",
    "        target,\n",
    "        nr_iterations=25,\n",
    "        distance_threshold=1.0,\n",
    "        epsilon=0.01,\n",
    "        inlier_threshold=0.05,\n",
    "        downsample=0,\n",
    "        visualize=False,\n",
    "        resolution=1.0,\n",
    "        step_size=0.1,\n",
    "        voxelize=0,\n",
    "        transformation=np.identity(4)):\n",
    "    \"\"\"The `Normal Distributions Transform` (NDT) algorithm.\n",
    "\n",
    "    Args:\n",
    "        source (ndarray): The point cloud that we want to align to the target.\n",
    "        target (ndarray): The point cloud that the source is aligned to.\n",
    "        nr_iterations (int): The maximum number of iterations the internal optimization should run for.\n",
    "        distance_threshold (float): The maximum distance threshold between two correspondent points in\n",
    "                                    source -> target. If the distance is larger than this threshold, the points will\n",
    "                                    be ignored in the alignment process.\n",
    "        epsilon (float): The transformation epsilon (maximum allowable difference between two consecutive\n",
    "                 transformations) in order for an optimization to be considered as having converged to the final\n",
    "                 solution.\n",
    "        inlier_threshold (float): The inlier distance threshold for the internal RANSAC outlier rejection loop.\n",
    "                          The method considers a point to be an inlier, if the distance between the target data\n",
    "                          index and the transformed source index is smaller than the given inlier distance\n",
    "                          threshold.\n",
    "        downsample (float): Assembles a local 3D grid over a given PointCloud and downsamples + filters the data.\n",
    "        visualize (bool): Can be used to visualize and control the progress of the algorithm.\n",
    "        resolution (float): The resolution of the voxel grid. Try increasing this in case of core dumps.\n",
    "        step_size (float): The Newton line search maximum step length.\n",
    "        voxelize (bool): If set to `True`, the source cloud is converted into a voxel model before alignment.\n",
    "\n",
    "    Returns:\n",
    "        A ndarray with the final transformation matrix between source and target.\n",
    "    \"\"\"\n",
    "\n",
    "\n",
    "    set_argtypes('ndt', source, target)\n",
    "    score = REGLIB.ndt(source, len(source), target, len(target), transformation,\n",
    "                  nr_iterations, distance_threshold, epsilon, inlier_threshold, downsample, visualize,\n",
    "                  resolution, step_size, voxelize)\n",
    "    #print(f\"NDT converged. Fitness score: {score:.2f}\") if score > 0 else print(\"NDT did not converge!\")\n",
    "    return transformation, score"
   ]
  },
  {
   "cell_type": "code",
   "execution_count": 3,
   "metadata": {},
   "outputs": [],
   "source": [
    "#implementation of voxel filter using open3d to downsample points\n",
    "def voxel_downsample(points, voxel_size):\n",
    "\n",
    "    pcd = o3d.geometry.PointCloud()\n",
    "    pcd.points = o3d.utility.Vector3dVector(points)\n",
    "\n",
    "\n",
    "    frame_cloud_downsampled = pcd.voxel_down_sample(voxel_size)\n",
    "\n",
    "    return np.array(frame_cloud_downsampled.points)"
   ]
  },
  {
   "cell_type": "code",
   "execution_count": 4,
   "metadata": {},
   "outputs": [
    {
     "name": "stdout",
     "output_type": "stream",
     "text": [
      "Found 143960 lines. Skipped 11. Loaded 143949 points.\n"
     ]
    }
   ],
   "source": [
    "#Load source frames, target map and ground truth\n",
    "frames_dir = \"/app/dataset/frames\"\n",
    "frame_files = os.listdir(frames_dir)\n",
    "#frames = [o3d.io.read_point_cloud(os.path.join(frames_dir, f)) for f in frame_files]\n",
    "\n",
    "\n",
    "#load ground truth csv as pandas dataframe\n",
    "g_df = pd.read_csv(\"/app/dataset/ground_truth.csv\")\n",
    "samples = len(frame_files)\n",
    "\n",
    "\n",
    "#Load target map points\n",
    "target_points = load_data(\"/app/dataset/map.pcd\")"
   ]
  },
  {
   "attachments": {},
   "cell_type": "markdown",
   "metadata": {},
   "source": [
    "## ICP localization ##"
   ]
  },
  {
   "cell_type": "code",
   "execution_count": 5,
   "metadata": {},
   "outputs": [
    {
     "name": "stderr",
     "output_type": "stream",
     "text": [
      "  0%|          | 0/1014 [00:00<?, ?it/s]"
     ]
    },
    {
     "name": "stdout",
     "output_type": "stream",
     "text": [
      "Found 9104 lines. Skipped 11. Loaded 9093 points.\n"
     ]
    },
    {
     "name": "stderr",
     "output_type": "stream",
     "text": [
      "  0%|          | 1/1014 [00:02<38:29,  2.28s/it]"
     ]
    },
    {
     "name": "stdout",
     "output_type": "stream",
     "text": [
      "ICP converged. Fitness score: 0.08\n",
      "Frame : 0\n",
      "Error--------: 0.0\n",
      "Found 22369 lines. Skipped 11. Loaded 22358 points.\n"
     ]
    },
    {
     "name": "stderr",
     "output_type": "stream",
     "text": [
      "  0%|          | 2/1014 [00:03<30:32,  1.81s/it]"
     ]
    },
    {
     "name": "stdout",
     "output_type": "stream",
     "text": [
      "ICP converged. Fitness score: 0.04\n",
      "Frame : 1\n",
      "Error--------: 0.01890081407239171\n",
      "Found 13580 lines. Skipped 11. Loaded 13569 points.\n"
     ]
    },
    {
     "name": "stderr",
     "output_type": "stream",
     "text": [
      "  0%|          | 3/1014 [00:06<37:45,  2.24s/it]"
     ]
    },
    {
     "name": "stdout",
     "output_type": "stream",
     "text": [
      "ICP converged. Fitness score: 0.08\n",
      "Frame : 2\n",
      "Error--------: 0.0092898673609281\n",
      "Found 14875 lines. Skipped 11. Loaded 14864 points.\n"
     ]
    },
    {
     "name": "stderr",
     "output_type": "stream",
     "text": [
      "  0%|          | 4/1014 [00:10<48:05,  2.86s/it]"
     ]
    },
    {
     "name": "stdout",
     "output_type": "stream",
     "text": [
      "ICP converged. Fitness score: 3.53\n",
      "Frame : 3\n",
      "Error--------: 0.02659986747171757\n",
      "Found 13437 lines. Skipped 11. Loaded 13426 points.\n"
     ]
    },
    {
     "name": "stderr",
     "output_type": "stream",
     "text": [
      "  0%|          | 5/1014 [00:13<51:27,  3.06s/it]"
     ]
    },
    {
     "name": "stdout",
     "output_type": "stream",
     "text": [
      "ICP converged. Fitness score: 4.46\n",
      "Frame : 4\n",
      "Error--------: 0.018185463925900203\n",
      "Found 12078 lines. Skipped 11. Loaded 12067 points.\n"
     ]
    },
    {
     "name": "stderr",
     "output_type": "stream",
     "text": [
      "  1%|          | 6/1014 [00:17<53:26,  3.18s/it]"
     ]
    },
    {
     "name": "stdout",
     "output_type": "stream",
     "text": [
      "ICP converged. Fitness score: 3.85\n",
      "Frame : 5\n",
      "Error--------: 0.1229446535336768\n",
      "Found 12213 lines. Skipped 11. Loaded 12202 points.\n"
     ]
    },
    {
     "name": "stderr",
     "output_type": "stream",
     "text": [
      "  1%|          | 7/1014 [00:23<1:09:35,  4.15s/it]"
     ]
    },
    {
     "name": "stdout",
     "output_type": "stream",
     "text": [
      "ICP converged. Fitness score: 3.75\n",
      "Frame : 6\n",
      "Error--------: 0.06342961803854166\n",
      "Found 10780 lines. Skipped 11. Loaded 10769 points.\n"
     ]
    },
    {
     "name": "stderr",
     "output_type": "stream",
     "text": [
      "  1%|          | 8/1014 [00:25<1:00:02,  3.58s/it]"
     ]
    },
    {
     "name": "stdout",
     "output_type": "stream",
     "text": [
      "ICP converged. Fitness score: 3.70\n",
      "Frame : 7\n",
      "Error--------: 0.0966967728096405\n",
      "Found 11521 lines. Skipped 11. Loaded 11510 points.\n"
     ]
    },
    {
     "name": "stderr",
     "output_type": "stream",
     "text": [
      "  1%|          | 9/1014 [00:28<54:38,  3.26s/it]  "
     ]
    },
    {
     "name": "stdout",
     "output_type": "stream",
     "text": [
      "ICP converged. Fitness score: 3.89\n",
      "Frame : 8\n",
      "Error--------: 0.08473810904300415\n",
      "Found 11323 lines. Skipped 11. Loaded 11312 points.\n"
     ]
    },
    {
     "name": "stderr",
     "output_type": "stream",
     "text": [
      "  1%|          | 10/1014 [00:30<51:06,  3.05s/it]"
     ]
    },
    {
     "name": "stdout",
     "output_type": "stream",
     "text": [
      "ICP converged. Fitness score: 4.49\n",
      "Frame : 9\n",
      "Error--------: 0.07848125016278183\n",
      "Found 12519 lines. Skipped 11. Loaded 12508 points.\n"
     ]
    },
    {
     "name": "stderr",
     "output_type": "stream",
     "text": [
      "  1%|          | 11/1014 [00:33<49:50,  2.98s/it]"
     ]
    },
    {
     "name": "stdout",
     "output_type": "stream",
     "text": [
      "ICP converged. Fitness score: 4.11\n",
      "Frame : 10\n",
      "Error--------: 0.13092031571066295\n",
      "Found 11332 lines. Skipped 11. Loaded 11321 points.\n"
     ]
    },
    {
     "name": "stderr",
     "output_type": "stream",
     "text": [
      "  1%|          | 12/1014 [00:35<46:30,  2.79s/it]"
     ]
    },
    {
     "name": "stdout",
     "output_type": "stream",
     "text": [
      "ICP converged. Fitness score: 4.14\n",
      "Frame : 11\n",
      "Error--------: 0.0423285892748977\n",
      "Found 11999 lines. Skipped 11. Loaded 11988 points.\n"
     ]
    },
    {
     "name": "stderr",
     "output_type": "stream",
     "text": [
      "  1%|▏         | 13/1014 [00:39<49:04,  2.94s/it]"
     ]
    },
    {
     "name": "stdout",
     "output_type": "stream",
     "text": [
      "ICP converged. Fitness score: 4.01\n",
      "Frame : 12\n",
      "Error--------: 0.058893684419099236\n",
      "Found 11487 lines. Skipped 11. Loaded 11476 points.\n"
     ]
    },
    {
     "name": "stderr",
     "output_type": "stream",
     "text": [
      "  1%|▏         | 14/1014 [00:41<46:45,  2.81s/it]"
     ]
    },
    {
     "name": "stdout",
     "output_type": "stream",
     "text": [
      "ICP converged. Fitness score: 4.70\n",
      "Frame : 13\n",
      "Error--------: 0.15456542199226142\n",
      "Found 13062 lines. Skipped 11. Loaded 13051 points.\n"
     ]
    },
    {
     "name": "stderr",
     "output_type": "stream",
     "text": [
      "  1%|▏         | 15/1014 [00:45<49:16,  2.96s/it]"
     ]
    },
    {
     "name": "stdout",
     "output_type": "stream",
     "text": [
      "ICP converged. Fitness score: 3.08\n",
      "Frame : 14\n",
      "Error--------: 0.09729007006770576\n",
      "Found 11923 lines. Skipped 11. Loaded 11912 points.\n"
     ]
    },
    {
     "name": "stderr",
     "output_type": "stream",
     "text": [
      "  2%|▏         | 16/1014 [00:47<48:12,  2.90s/it]"
     ]
    },
    {
     "name": "stdout",
     "output_type": "stream",
     "text": [
      "ICP converged. Fitness score: 3.98\n",
      "Frame : 15\n",
      "Error--------: 0.1580850690224763\n",
      "Found 11804 lines. Skipped 11. Loaded 11793 points.\n"
     ]
    },
    {
     "name": "stderr",
     "output_type": "stream",
     "text": [
      "  2%|▏         | 17/1014 [00:50<45:57,  2.77s/it]"
     ]
    },
    {
     "name": "stdout",
     "output_type": "stream",
     "text": [
      "ICP converged. Fitness score: 3.66\n",
      "Frame : 16\n",
      "Error--------: 0.15498815957361342\n",
      "Found 11804 lines. Skipped 11. Loaded 11793 points.\n"
     ]
    },
    {
     "name": "stderr",
     "output_type": "stream",
     "text": [
      "  2%|▏         | 18/1014 [00:52<44:25,  2.68s/it]"
     ]
    },
    {
     "name": "stdout",
     "output_type": "stream",
     "text": [
      "ICP converged. Fitness score: 3.77\n",
      "Frame : 17\n",
      "Error--------: 0.1556270157037038\n",
      "Found 10730 lines. Skipped 11. Loaded 10719 points.\n"
     ]
    },
    {
     "name": "stderr",
     "output_type": "stream",
     "text": [
      "  2%|▏         | 19/1014 [00:55<45:33,  2.75s/it]"
     ]
    },
    {
     "name": "stdout",
     "output_type": "stream",
     "text": [
      "ICP converged. Fitness score: 3.60\n",
      "Frame : 18\n",
      "Error--------: 0.2026889259117043\n",
      "Found 16046 lines. Skipped 11. Loaded 16035 points.\n"
     ]
    },
    {
     "name": "stderr",
     "output_type": "stream",
     "text": [
      "  2%|▏         | 20/1014 [00:58<47:45,  2.88s/it]"
     ]
    },
    {
     "name": "stdout",
     "output_type": "stream",
     "text": [
      "ICP converged. Fitness score: 4.05\n",
      "Frame : 19\n",
      "Error--------: 0.2804195226278704\n",
      "Found 16149 lines. Skipped 11. Loaded 16138 points.\n"
     ]
    },
    {
     "name": "stderr",
     "output_type": "stream",
     "text": [
      "  2%|▏         | 21/1014 [01:02<49:15,  2.98s/it]"
     ]
    },
    {
     "name": "stdout",
     "output_type": "stream",
     "text": [
      "ICP converged. Fitness score: 3.41\n",
      "Frame : 20\n",
      "Error--------: 0.2756527588649378\n",
      "Found 15852 lines. Skipped 11. Loaded 15841 points.\n"
     ]
    },
    {
     "name": "stderr",
     "output_type": "stream",
     "text": [
      "  2%|▏         | 22/1014 [01:06<54:39,  3.31s/it]"
     ]
    },
    {
     "name": "stdout",
     "output_type": "stream",
     "text": [
      "ICP converged. Fitness score: 3.97\n",
      "Frame : 21\n",
      "Error--------: 0.26949727417158814\n",
      "Found 16484 lines. Skipped 11. Loaded 16473 points.\n"
     ]
    },
    {
     "name": "stderr",
     "output_type": "stream",
     "text": [
      "  2%|▏         | 23/1014 [01:08<51:50,  3.14s/it]"
     ]
    },
    {
     "name": "stdout",
     "output_type": "stream",
     "text": [
      "ICP converged. Fitness score: 3.46\n",
      "Frame : 22\n",
      "Error--------: 0.26830402682150356\n",
      "Found 18240 lines. Skipped 11. Loaded 18229 points.\n"
     ]
    },
    {
     "name": "stderr",
     "output_type": "stream",
     "text": [
      "  2%|▏         | 24/1014 [01:11<50:04,  3.03s/it]"
     ]
    },
    {
     "name": "stdout",
     "output_type": "stream",
     "text": [
      "ICP converged. Fitness score: 4.07\n",
      "Frame : 23\n",
      "Error--------: 0.2671883332385156\n",
      "Found 16422 lines. Skipped 11. Loaded 16411 points.\n"
     ]
    },
    {
     "name": "stderr",
     "output_type": "stream",
     "text": [
      "  2%|▏         | 25/1014 [01:14<47:51,  2.90s/it]"
     ]
    },
    {
     "name": "stdout",
     "output_type": "stream",
     "text": [
      "ICP converged. Fitness score: 3.25\n",
      "Frame : 24\n",
      "Error--------: 0.2730916989078778\n",
      "Found 15566 lines. Skipped 11. Loaded 15555 points.\n"
     ]
    },
    {
     "name": "stderr",
     "output_type": "stream",
     "text": [
      "  3%|▎         | 26/1014 [01:17<47:48,  2.90s/it]"
     ]
    },
    {
     "name": "stdout",
     "output_type": "stream",
     "text": [
      "ICP converged. Fitness score: 4.05\n",
      "Frame : 25\n",
      "Error--------: 0.27909954325203495\n",
      "Found 13851 lines. Skipped 11. Loaded 13840 points.\n"
     ]
    },
    {
     "name": "stderr",
     "output_type": "stream",
     "text": [
      "  3%|▎         | 27/1014 [01:19<47:05,  2.86s/it]"
     ]
    },
    {
     "name": "stdout",
     "output_type": "stream",
     "text": [
      "ICP converged. Fitness score: 3.34\n",
      "Frame : 26\n",
      "Error--------: 0.3063009225599\n",
      "Found 14605 lines. Skipped 11. Loaded 14594 points.\n"
     ]
    },
    {
     "name": "stderr",
     "output_type": "stream",
     "text": [
      "  3%|▎         | 28/1014 [01:21<39:18,  2.39s/it]"
     ]
    },
    {
     "name": "stdout",
     "output_type": "stream",
     "text": [
      "ICP converged. Fitness score: 0.14\n",
      "Frame : 27\n",
      "Error--------: 0.45200266093770974\n",
      "Found 15435 lines. Skipped 11. Loaded 15424 points.\n"
     ]
    },
    {
     "name": "stderr",
     "output_type": "stream",
     "text": [
      "  3%|▎         | 29/1014 [01:24<42:36,  2.60s/it]"
     ]
    },
    {
     "name": "stdout",
     "output_type": "stream",
     "text": [
      "ICP converged. Fitness score: 3.55\n",
      "Frame : 28\n",
      "Error--------: 0.5853583352136696\n",
      "Found 14626 lines. Skipped 11. Loaded 14615 points.\n"
     ]
    },
    {
     "name": "stderr",
     "output_type": "stream",
     "text": [
      "  3%|▎         | 30/1014 [01:27<43:14,  2.64s/it]"
     ]
    },
    {
     "name": "stdout",
     "output_type": "stream",
     "text": [
      "ICP converged. Fitness score: 3.58\n",
      "Frame : 29\n",
      "Error--------: 0.7092241817547509\n",
      "Found 14782 lines. Skipped 11. Loaded 14771 points.\n"
     ]
    },
    {
     "name": "stderr",
     "output_type": "stream",
     "text": [
      "  3%|▎         | 31/1014 [01:29<42:42,  2.61s/it]"
     ]
    },
    {
     "name": "stdout",
     "output_type": "stream",
     "text": [
      "ICP converged. Fitness score: 3.63\n",
      "Frame : 30\n",
      "Error--------: 0.886628298650642\n",
      "Found 16010 lines. Skipped 11. Loaded 15999 points.\n"
     ]
    },
    {
     "name": "stderr",
     "output_type": "stream",
     "text": [
      "  3%|▎         | 32/1014 [01:32<43:01,  2.63s/it]"
     ]
    },
    {
     "name": "stdout",
     "output_type": "stream",
     "text": [
      "ICP converged. Fitness score: 3.71\n",
      "Frame : 31\n",
      "Error--------: 1.0392839349105427\n",
      "Found 14755 lines. Skipped 11. Loaded 14744 points.\n"
     ]
    },
    {
     "name": "stderr",
     "output_type": "stream",
     "text": [
      "  3%|▎         | 33/1014 [01:35<44:29,  2.72s/it]"
     ]
    },
    {
     "name": "stdout",
     "output_type": "stream",
     "text": [
      "ICP converged. Fitness score: 3.42\n",
      "Frame : 32\n",
      "Error--------: 1.2109776413580582\n",
      "Latent error above the threshold of 1.2\n",
      "Found 11721 lines. Skipped 11. Loaded 11710 points.\n"
     ]
    },
    {
     "name": "stderr",
     "output_type": "stream",
     "text": [
      "  3%|▎         | 34/1014 [01:38<45:38,  2.79s/it]"
     ]
    },
    {
     "name": "stdout",
     "output_type": "stream",
     "text": [
      "ICP converged. Fitness score: 3.29\n",
      "Frame : 33\n",
      "Error--------: 1.375793526817709\n",
      "Latent error above the threshold of 1.2\n",
      "Found 12931 lines. Skipped 11. Loaded 12920 points.\n"
     ]
    },
    {
     "name": "stderr",
     "output_type": "stream",
     "text": [
      "  3%|▎         | 35/1014 [01:40<45:26,  2.78s/it]"
     ]
    },
    {
     "name": "stdout",
     "output_type": "stream",
     "text": [
      "ICP converged. Fitness score: 3.38\n",
      "Frame : 34\n",
      "Error--------: 1.5456864618591897\n",
      "Latent error above the threshold of 1.2\n",
      "Found 15417 lines. Skipped 11. Loaded 15406 points.\n"
     ]
    },
    {
     "name": "stderr",
     "output_type": "stream",
     "text": [
      "  4%|▎         | 36/1014 [01:43<46:37,  2.86s/it]"
     ]
    },
    {
     "name": "stdout",
     "output_type": "stream",
     "text": [
      "ICP converged. Fitness score: 3.87\n",
      "Frame : 35\n",
      "Error--------: 1.731561920098904\n",
      "Latent error above the threshold of 1.2\n",
      "Found 16287 lines. Skipped 11. Loaded 16276 points.\n"
     ]
    },
    {
     "name": "stderr",
     "output_type": "stream",
     "text": [
      "  4%|▎         | 37/1014 [01:46<45:16,  2.78s/it]"
     ]
    },
    {
     "name": "stdout",
     "output_type": "stream",
     "text": [
      "ICP converged. Fitness score: 3.39\n",
      "Frame : 36\n",
      "Error--------: 1.952790191268574\n",
      "Latent error above the threshold of 1.2\n",
      "Found 15842 lines. Skipped 11. Loaded 15831 points.\n"
     ]
    },
    {
     "name": "stderr",
     "output_type": "stream",
     "text": [
      "  4%|▎         | 38/1014 [01:49<46:04,  2.83s/it]"
     ]
    },
    {
     "name": "stdout",
     "output_type": "stream",
     "text": [
      "ICP converged. Fitness score: 3.60\n",
      "Frame : 37\n",
      "Error--------: 2.1797240057486453\n",
      "Latent error above the threshold of 1.2\n",
      "Found 11575 lines. Skipped 11. Loaded 11564 points.\n"
     ]
    },
    {
     "name": "stderr",
     "output_type": "stream",
     "text": [
      "  4%|▍         | 39/1014 [01:51<42:41,  2.63s/it]"
     ]
    },
    {
     "name": "stdout",
     "output_type": "stream",
     "text": [
      "ICP converged. Fitness score: 0.22\n",
      "Frame : 38\n",
      "Error--------: 2.416343992130653\n",
      "Latent error above the threshold of 1.2\n",
      "Found 14505 lines. Skipped 11. Loaded 14494 points.\n"
     ]
    },
    {
     "name": "stderr",
     "output_type": "stream",
     "text": [
      "  4%|▍         | 40/1014 [01:54<43:15,  2.66s/it]"
     ]
    },
    {
     "name": "stdout",
     "output_type": "stream",
     "text": [
      "ICP converged. Fitness score: 3.53\n",
      "Frame : 39\n",
      "Error--------: 2.631838296498869\n",
      "Latent error above the threshold of 1.2\n",
      "Found 13154 lines. Skipped 11. Loaded 13143 points.\n"
     ]
    },
    {
     "name": "stderr",
     "output_type": "stream",
     "text": [
      "  4%|▍         | 41/1014 [01:56<41:52,  2.58s/it]"
     ]
    },
    {
     "name": "stdout",
     "output_type": "stream",
     "text": [
      "ICP converged. Fitness score: 3.36\n",
      "Frame : 40\n",
      "Error--------: 2.7147987480520133\n",
      "Latent error above the threshold of 1.2\n",
      "Found 15734 lines. Skipped 11. Loaded 15723 points.\n"
     ]
    },
    {
     "name": "stderr",
     "output_type": "stream",
     "text": [
      "  4%|▍         | 42/1014 [02:01<51:52,  3.20s/it]"
     ]
    },
    {
     "name": "stdout",
     "output_type": "stream",
     "text": [
      "ICP converged. Fitness score: 3.59\n",
      "Frame : 41\n",
      "Error--------: 2.8266733029571434\n",
      "Latent error above the threshold of 1.2\n",
      "Found 16223 lines. Skipped 11. Loaded 16212 points.\n"
     ]
    },
    {
     "name": "stderr",
     "output_type": "stream",
     "text": [
      "  4%|▍         | 43/1014 [02:05<54:23,  3.36s/it]"
     ]
    },
    {
     "name": "stdout",
     "output_type": "stream",
     "text": [
      "ICP converged. Fitness score: 3.47\n",
      "Frame : 42\n",
      "Error--------: 2.965331421072544\n",
      "Latent error above the threshold of 1.2\n",
      "Found 14746 lines. Skipped 11. Loaded 14735 points.\n"
     ]
    },
    {
     "name": "stderr",
     "output_type": "stream",
     "text": [
      "  4%|▍         | 44/1014 [02:11<1:06:43,  4.13s/it]"
     ]
    },
    {
     "name": "stdout",
     "output_type": "stream",
     "text": [
      "ICP converged. Fitness score: 3.70\n",
      "Frame : 43\n",
      "Error--------: 3.1451336463625665\n",
      "Latent error above the threshold of 1.2\n",
      "Found 13638 lines. Skipped 11. Loaded 13627 points.\n"
     ]
    },
    {
     "name": "stderr",
     "output_type": "stream",
     "text": [
      "  4%|▍         | 45/1014 [02:14<1:03:38,  3.94s/it]"
     ]
    },
    {
     "name": "stdout",
     "output_type": "stream",
     "text": [
      "ICP converged. Fitness score: 3.08\n",
      "Frame : 44\n",
      "Error--------: 3.2830809058355466\n",
      "Latent error above the threshold of 1.2\n",
      "Found 12418 lines. Skipped 11. Loaded 12407 points.\n"
     ]
    },
    {
     "name": "stderr",
     "output_type": "stream",
     "text": [
      "  5%|▍         | 46/1014 [02:17<1:00:00,  3.72s/it]"
     ]
    },
    {
     "name": "stdout",
     "output_type": "stream",
     "text": [
      "ICP converged. Fitness score: 3.36\n",
      "Frame : 45\n",
      "Error--------: 3.3932888525838556\n",
      "Latent error above the threshold of 1.2\n",
      "Found 14105 lines. Skipped 11. Loaded 14094 points.\n"
     ]
    },
    {
     "name": "stderr",
     "output_type": "stream",
     "text": [
      "  5%|▍         | 47/1014 [02:20<54:46,  3.40s/it]  "
     ]
    },
    {
     "name": "stdout",
     "output_type": "stream",
     "text": [
      "ICP converged. Fitness score: 3.29\n",
      "Frame : 46\n",
      "Error--------: 3.6266260563421007\n",
      "Latent error above the threshold of 1.2\n",
      "Found 14645 lines. Skipped 11. Loaded 14634 points.\n"
     ]
    },
    {
     "name": "stderr",
     "output_type": "stream",
     "text": [
      "  5%|▍         | 48/1014 [02:24<56:06,  3.48s/it]"
     ]
    },
    {
     "name": "stdout",
     "output_type": "stream",
     "text": [
      "ICP converged. Fitness score: 3.61\n",
      "Frame : 47\n",
      "Error--------: 3.7463543787402607\n",
      "Latent error above the threshold of 1.2\n",
      "Found 14581 lines. Skipped 11. Loaded 14570 points.\n"
     ]
    },
    {
     "name": "stderr",
     "output_type": "stream",
     "text": [
      "  5%|▍         | 49/1014 [02:26<52:31,  3.27s/it]"
     ]
    },
    {
     "name": "stdout",
     "output_type": "stream",
     "text": [
      "ICP converged. Fitness score: 3.40\n",
      "Frame : 48\n",
      "Error--------: 3.9388206361819993\n",
      "Latent error above the threshold of 1.2\n",
      "Found 12432 lines. Skipped 11. Loaded 12421 points.\n"
     ]
    },
    {
     "name": "stderr",
     "output_type": "stream",
     "text": [
      "  5%|▍         | 50/1014 [02:29<51:15,  3.19s/it]"
     ]
    },
    {
     "name": "stdout",
     "output_type": "stream",
     "text": [
      "ICP converged. Fitness score: 0.18\n",
      "Frame : 49\n",
      "Error--------: 4.124704512296669\n",
      "Latent error above the threshold of 1.2\n",
      "Found 17248 lines. Skipped 11. Loaded 17237 points.\n"
     ]
    },
    {
     "name": "stderr",
     "output_type": "stream",
     "text": [
      "  5%|▌         | 51/1014 [02:32<47:45,  2.98s/it]"
     ]
    },
    {
     "name": "stdout",
     "output_type": "stream",
     "text": [
      "ICP converged. Fitness score: 3.58\n",
      "Frame : 50\n",
      "Error--------: 4.336832738453136\n",
      "Latent error above the threshold of 1.2\n",
      "Found 13745 lines. Skipped 11. Loaded 13734 points.\n"
     ]
    },
    {
     "name": "stderr",
     "output_type": "stream",
     "text": [
      "  5%|▌         | 52/1014 [02:34<43:11,  2.69s/it]"
     ]
    },
    {
     "name": "stdout",
     "output_type": "stream",
     "text": [
      "ICP converged. Fitness score: 3.61\n",
      "Frame : 51\n",
      "Error--------: 4.452655427201233\n",
      "Latent error above the threshold of 1.2\n",
      "Found 14045 lines. Skipped 11. Loaded 14034 points.\n"
     ]
    },
    {
     "name": "stderr",
     "output_type": "stream",
     "text": [
      "  5%|▌         | 53/1014 [02:37<43:31,  2.72s/it]"
     ]
    },
    {
     "name": "stdout",
     "output_type": "stream",
     "text": [
      "ICP converged. Fitness score: 3.44\n",
      "Frame : 52\n",
      "Error--------: 4.597587955577807\n",
      "Latent error above the threshold of 1.2\n",
      "Found 14978 lines. Skipped 11. Loaded 14967 points.\n"
     ]
    },
    {
     "name": "stderr",
     "output_type": "stream",
     "text": [
      "  5%|▌         | 54/1014 [02:40<44:41,  2.79s/it]"
     ]
    },
    {
     "name": "stdout",
     "output_type": "stream",
     "text": [
      "ICP converged. Fitness score: 4.12\n",
      "Frame : 53\n",
      "Error--------: 4.7528615304521\n",
      "Latent error above the threshold of 1.2\n",
      "Found 11722 lines. Skipped 11. Loaded 11711 points.\n"
     ]
    },
    {
     "name": "stderr",
     "output_type": "stream",
     "text": [
      "  5%|▌         | 55/1014 [02:43<44:58,  2.81s/it]"
     ]
    },
    {
     "name": "stdout",
     "output_type": "stream",
     "text": [
      "ICP converged. Fitness score: 3.53\n",
      "Frame : 54\n",
      "Error--------: 4.8340922671285105\n",
      "Latent error above the threshold of 1.2\n",
      "Found 11722 lines. Skipped 11. Loaded 11711 points.\n"
     ]
    },
    {
     "name": "stderr",
     "output_type": "stream",
     "text": [
      "  6%|▌         | 56/1014 [02:45<44:12,  2.77s/it]"
     ]
    },
    {
     "name": "stdout",
     "output_type": "stream",
     "text": [
      "ICP converged. Fitness score: 3.82\n",
      "Frame : 55\n",
      "Error--------: 4.790394660413732\n",
      "Latent error above the threshold of 1.2\n",
      "Found 14121 lines. Skipped 11. Loaded 14110 points.\n"
     ]
    },
    {
     "name": "stderr",
     "output_type": "stream",
     "text": [
      "  6%|▌         | 57/1014 [02:48<44:32,  2.79s/it]"
     ]
    },
    {
     "name": "stdout",
     "output_type": "stream",
     "text": [
      "ICP converged. Fitness score: 3.69\n",
      "Frame : 56\n",
      "Error--------: 4.84586762728457\n",
      "Latent error above the threshold of 1.2\n",
      "Found 13798 lines. Skipped 11. Loaded 13787 points.\n"
     ]
    },
    {
     "name": "stderr",
     "output_type": "stream",
     "text": [
      "  6%|▌         | 58/1014 [02:51<44:40,  2.80s/it]"
     ]
    },
    {
     "name": "stdout",
     "output_type": "stream",
     "text": [
      "ICP converged. Fitness score: 4.03\n",
      "Frame : 57\n",
      "Error--------: 4.9554673518916985\n",
      "Latent error above the threshold of 1.2\n",
      "Found 13798 lines. Skipped 11. Loaded 13787 points.\n"
     ]
    },
    {
     "name": "stderr",
     "output_type": "stream",
     "text": [
      "  6%|▌         | 59/1014 [02:54<45:09,  2.84s/it]"
     ]
    },
    {
     "name": "stdout",
     "output_type": "stream",
     "text": [
      "ICP converged. Fitness score: 3.74\n",
      "Frame : 58\n",
      "Error--------: 5.028764209782674\n",
      "Latent error above the threshold of 1.2\n",
      "Found 16017 lines. Skipped 11. Loaded 16006 points.\n"
     ]
    },
    {
     "name": "stderr",
     "output_type": "stream",
     "text": [
      "  6%|▌         | 60/1014 [02:57<46:21,  2.92s/it]"
     ]
    },
    {
     "name": "stdout",
     "output_type": "stream",
     "text": [
      "ICP converged. Fitness score: 4.40\n",
      "Frame : 59\n",
      "Error--------: 5.168537985732499\n",
      "Latent error above the threshold of 1.2\n",
      "Found 13782 lines. Skipped 11. Loaded 13771 points.\n"
     ]
    },
    {
     "name": "stderr",
     "output_type": "stream",
     "text": [
      "  6%|▌         | 61/1014 [03:00<45:06,  2.84s/it]"
     ]
    },
    {
     "name": "stdout",
     "output_type": "stream",
     "text": [
      "ICP converged. Fitness score: 0.33\n",
      "Frame : 60\n",
      "Error--------: 6.309221425691756\n",
      "Latent error above the threshold of 1.2\n",
      "Found 14908 lines. Skipped 11. Loaded 14897 points.\n"
     ]
    },
    {
     "name": "stderr",
     "output_type": "stream",
     "text": [
      "  6%|▌         | 62/1014 [03:03<46:27,  2.93s/it]"
     ]
    },
    {
     "name": "stdout",
     "output_type": "stream",
     "text": [
      "ICP converged. Fitness score: 4.01\n",
      "Frame : 61\n",
      "Error--------: 6.239686882575746\n",
      "Latent error above the threshold of 1.2\n",
      "Found 16244 lines. Skipped 11. Loaded 16233 points.\n"
     ]
    },
    {
     "name": "stderr",
     "output_type": "stream",
     "text": [
      "  6%|▌         | 63/1014 [03:05<44:18,  2.80s/it]"
     ]
    },
    {
     "name": "stdout",
     "output_type": "stream",
     "text": [
      "ICP converged. Fitness score: 4.27\n",
      "Frame : 62\n",
      "Error--------: 6.155595158813052\n",
      "Latent error above the threshold of 1.2\n",
      "Found 14245 lines. Skipped 11. Loaded 14234 points.\n"
     ]
    },
    {
     "name": "stderr",
     "output_type": "stream",
     "text": [
      "  6%|▋         | 64/1014 [03:08<43:33,  2.75s/it]"
     ]
    },
    {
     "name": "stdout",
     "output_type": "stream",
     "text": [
      "ICP converged. Fitness score: 3.86\n",
      "Frame : 63\n",
      "Error--------: 6.32814076326352\n",
      "Latent error above the threshold of 1.2\n",
      "Found 15750 lines. Skipped 11. Loaded 15739 points.\n"
     ]
    },
    {
     "name": "stderr",
     "output_type": "stream",
     "text": [
      "  6%|▋         | 65/1014 [03:10<41:23,  2.62s/it]"
     ]
    },
    {
     "name": "stdout",
     "output_type": "stream",
     "text": [
      "ICP converged. Fitness score: 3.72\n",
      "Frame : 64\n",
      "Error--------: 6.492118521328143\n",
      "Latent error above the threshold of 1.2\n",
      "Found 13906 lines. Skipped 11. Loaded 13895 points.\n"
     ]
    },
    {
     "name": "stderr",
     "output_type": "stream",
     "text": [
      "  7%|▋         | 66/1014 [03:13<42:10,  2.67s/it]"
     ]
    },
    {
     "name": "stdout",
     "output_type": "stream",
     "text": [
      "ICP converged. Fitness score: 3.92\n",
      "Frame : 65\n",
      "Error--------: 6.620065822641371\n",
      "Latent error above the threshold of 1.2\n",
      "Found 15334 lines. Skipped 11. Loaded 15323 points.\n"
     ]
    },
    {
     "name": "stderr",
     "output_type": "stream",
     "text": [
      "  7%|▋         | 67/1014 [03:16<44:46,  2.84s/it]"
     ]
    },
    {
     "name": "stdout",
     "output_type": "stream",
     "text": [
      "ICP converged. Fitness score: 4.05\n",
      "Frame : 66\n",
      "Error--------: 6.774082567182295\n",
      "Latent error above the threshold of 1.2\n",
      "Found 16065 lines. Skipped 11. Loaded 16054 points.\n"
     ]
    },
    {
     "name": "stderr",
     "output_type": "stream",
     "text": [
      "  7%|▋         | 68/1014 [03:20<47:30,  3.01s/it]"
     ]
    },
    {
     "name": "stdout",
     "output_type": "stream",
     "text": [
      "ICP converged. Fitness score: 4.54\n",
      "Frame : 67\n",
      "Error--------: 6.951159359140921\n",
      "Latent error above the threshold of 1.2\n",
      "Found 13765 lines. Skipped 11. Loaded 13754 points.\n"
     ]
    },
    {
     "name": "stderr",
     "output_type": "stream",
     "text": [
      "  7%|▋         | 69/1014 [03:22<46:11,  2.93s/it]"
     ]
    },
    {
     "name": "stdout",
     "output_type": "stream",
     "text": [
      "ICP converged. Fitness score: 4.17\n",
      "Frame : 68\n",
      "Error--------: 7.072506928212738\n",
      "Latent error above the threshold of 1.2\n",
      "Found 18335 lines. Skipped 11. Loaded 18324 points.\n"
     ]
    },
    {
     "name": "stderr",
     "output_type": "stream",
     "text": [
      "  7%|▋         | 70/1014 [03:25<45:51,  2.91s/it]"
     ]
    },
    {
     "name": "stdout",
     "output_type": "stream",
     "text": [
      "ICP converged. Fitness score: 4.76\n",
      "Frame : 69\n",
      "Error--------: 7.245642070339398\n",
      "Latent error above the threshold of 1.2\n",
      "Found 12004 lines. Skipped 11. Loaded 11993 points.\n"
     ]
    },
    {
     "name": "stderr",
     "output_type": "stream",
     "text": [
      "  7%|▋         | 71/1014 [03:28<43:28,  2.77s/it]"
     ]
    },
    {
     "name": "stdout",
     "output_type": "stream",
     "text": [
      "ICP converged. Fitness score: 3.86\n",
      "Frame : 70\n",
      "Error--------: 7.368803076901594\n",
      "Latent error above the threshold of 1.2\n",
      "Found 14850 lines. Skipped 11. Loaded 14839 points.\n"
     ]
    },
    {
     "name": "stderr",
     "output_type": "stream",
     "text": [
      "  7%|▋         | 72/1014 [03:29<38:23,  2.45s/it]"
     ]
    },
    {
     "name": "stdout",
     "output_type": "stream",
     "text": [
      "ICP converged. Fitness score: 0.23\n",
      "Frame : 71\n",
      "Error--------: 7.5253151977784345\n",
      "Latent error above the threshold of 1.2\n",
      "Found 14690 lines. Skipped 11. Loaded 14679 points.\n"
     ]
    },
    {
     "name": "stderr",
     "output_type": "stream",
     "text": [
      "  7%|▋         | 73/1014 [03:32<40:11,  2.56s/it]"
     ]
    },
    {
     "name": "stdout",
     "output_type": "stream",
     "text": [
      "ICP converged. Fitness score: 4.34\n",
      "Frame : 72\n",
      "Error--------: 7.721923064869345\n",
      "Latent error above the threshold of 1.2\n",
      "Found 10548 lines. Skipped 11. Loaded 10537 points.\n"
     ]
    },
    {
     "name": "stderr",
     "output_type": "stream",
     "text": [
      "  7%|▋         | 74/1014 [03:34<38:37,  2.47s/it]"
     ]
    },
    {
     "name": "stdout",
     "output_type": "stream",
     "text": [
      "ICP converged. Fitness score: 3.93\n",
      "Frame : 73\n",
      "Error--------: 7.87182790773021\n",
      "Latent error above the threshold of 1.2\n",
      "Found 16033 lines. Skipped 11. Loaded 16022 points.\n"
     ]
    },
    {
     "name": "stderr",
     "output_type": "stream",
     "text": [
      "  7%|▋         | 75/1014 [03:37<41:31,  2.65s/it]"
     ]
    },
    {
     "name": "stdout",
     "output_type": "stream",
     "text": [
      "ICP converged. Fitness score: 4.09\n",
      "Frame : 74\n",
      "Error--------: 8.01612919393208\n",
      "Latent error above the threshold of 1.2\n",
      "Found 13809 lines. Skipped 11. Loaded 13798 points.\n"
     ]
    },
    {
     "name": "stderr",
     "output_type": "stream",
     "text": [
      "  7%|▋         | 76/1014 [03:40<39:21,  2.52s/it]"
     ]
    },
    {
     "name": "stdout",
     "output_type": "stream",
     "text": [
      "ICP converged. Fitness score: 4.16\n",
      "Frame : 75\n",
      "Error--------: 8.156020765225508\n",
      "Latent error above the threshold of 1.2\n",
      "Found 14636 lines. Skipped 11. Loaded 14625 points.\n"
     ]
    },
    {
     "name": "stderr",
     "output_type": "stream",
     "text": [
      "  8%|▊         | 77/1014 [03:43<41:25,  2.65s/it]"
     ]
    },
    {
     "name": "stdout",
     "output_type": "stream",
     "text": [
      "ICP converged. Fitness score: 4.27\n",
      "Frame : 76\n",
      "Error--------: 8.35673740695694\n",
      "Latent error above the threshold of 1.2\n",
      "Found 10733 lines. Skipped 11. Loaded 10722 points.\n"
     ]
    },
    {
     "name": "stderr",
     "output_type": "stream",
     "text": [
      "  8%|▊         | 78/1014 [03:45<38:30,  2.47s/it]"
     ]
    },
    {
     "name": "stdout",
     "output_type": "stream",
     "text": [
      "ICP converged. Fitness score: 3.98\n",
      "Frame : 77\n",
      "Error--------: 8.60506470085194\n",
      "Latent error above the threshold of 1.2\n",
      "Found 13607 lines. Skipped 11. Loaded 13596 points.\n"
     ]
    },
    {
     "name": "stderr",
     "output_type": "stream",
     "text": [
      "  8%|▊         | 79/1014 [03:47<38:25,  2.47s/it]"
     ]
    },
    {
     "name": "stdout",
     "output_type": "stream",
     "text": [
      "ICP converged. Fitness score: 3.97\n",
      "Frame : 78\n",
      "Error--------: 8.707592892673238\n",
      "Latent error above the threshold of 1.2\n",
      "Found 15295 lines. Skipped 11. Loaded 15284 points.\n"
     ]
    },
    {
     "name": "stderr",
     "output_type": "stream",
     "text": [
      "  8%|▊         | 80/1014 [03:50<38:58,  2.50s/it]"
     ]
    },
    {
     "name": "stdout",
     "output_type": "stream",
     "text": [
      "ICP converged. Fitness score: 4.27\n",
      "Frame : 79\n",
      "Error--------: 8.895359027115237\n",
      "Latent error above the threshold of 1.2\n",
      "Found 13905 lines. Skipped 11. Loaded 13894 points.\n"
     ]
    },
    {
     "name": "stderr",
     "output_type": "stream",
     "text": [
      "  8%|▊         | 81/1014 [03:53<40:24,  2.60s/it]"
     ]
    },
    {
     "name": "stdout",
     "output_type": "stream",
     "text": [
      "ICP converged. Fitness score: 4.18\n",
      "Frame : 80\n",
      "Error--------: 9.060353433540138\n",
      "Latent error above the threshold of 1.2\n",
      "Found 12989 lines. Skipped 11. Loaded 12978 points.\n"
     ]
    },
    {
     "name": "stderr",
     "output_type": "stream",
     "text": [
      "  8%|▊         | 82/1014 [03:55<40:06,  2.58s/it]"
     ]
    },
    {
     "name": "stdout",
     "output_type": "stream",
     "text": [
      "ICP converged. Fitness score: 3.81\n",
      "Frame : 81\n",
      "Error--------: 9.244117691039419\n",
      "Latent error above the threshold of 1.2\n",
      "Found 12866 lines. Skipped 11. Loaded 12855 points.\n"
     ]
    },
    {
     "name": "stderr",
     "output_type": "stream",
     "text": [
      "  8%|▊         | 83/1014 [03:57<36:30,  2.35s/it]"
     ]
    },
    {
     "name": "stdout",
     "output_type": "stream",
     "text": [
      "ICP converged. Fitness score: 0.27\n",
      "Frame : 82\n",
      "Error--------: 9.430597716852652\n",
      "Latent error above the threshold of 1.2\n",
      "Found 13630 lines. Skipped 11. Loaded 13619 points.\n"
     ]
    },
    {
     "name": "stderr",
     "output_type": "stream",
     "text": [
      "  8%|▊         | 84/1014 [04:00<38:02,  2.45s/it]"
     ]
    },
    {
     "name": "stdout",
     "output_type": "stream",
     "text": [
      "ICP converged. Fitness score: 3.68\n",
      "Frame : 83\n",
      "Error--------: 9.564850367559211\n",
      "Latent error above the threshold of 1.2\n",
      "Found 15491 lines. Skipped 11. Loaded 15480 points.\n"
     ]
    },
    {
     "name": "stderr",
     "output_type": "stream",
     "text": [
      "  8%|▊         | 85/1014 [04:02<39:04,  2.52s/it]"
     ]
    },
    {
     "name": "stdout",
     "output_type": "stream",
     "text": [
      "ICP converged. Fitness score: 3.71\n",
      "Frame : 84\n",
      "Error--------: 9.73361810417943\n",
      "Latent error above the threshold of 1.2\n",
      "Found 13225 lines. Skipped 11. Loaded 13214 points.\n"
     ]
    },
    {
     "name": "stderr",
     "output_type": "stream",
     "text": [
      "  8%|▊         | 86/1014 [04:05<39:56,  2.58s/it]"
     ]
    },
    {
     "name": "stdout",
     "output_type": "stream",
     "text": [
      "ICP converged. Fitness score: 3.61\n",
      "Frame : 85\n",
      "Error--------: 9.87509928813492\n",
      "Latent error above the threshold of 1.2\n",
      "Found 13235 lines. Skipped 11. Loaded 13224 points.\n"
     ]
    },
    {
     "name": "stderr",
     "output_type": "stream",
     "text": [
      "  9%|▊         | 87/1014 [04:08<41:04,  2.66s/it]"
     ]
    },
    {
     "name": "stdout",
     "output_type": "stream",
     "text": [
      "ICP converged. Fitness score: 3.76\n",
      "Frame : 86\n",
      "Error--------: 10.00134122468385\n",
      "Latent error above the threshold of 1.2\n",
      "Found 20488 lines. Skipped 11. Loaded 20477 points.\n"
     ]
    },
    {
     "name": "stderr",
     "output_type": "stream",
     "text": [
      "  9%|▊         | 88/1014 [04:11<45:04,  2.92s/it]"
     ]
    },
    {
     "name": "stdout",
     "output_type": "stream",
     "text": [
      "ICP converged. Fitness score: 4.11\n",
      "Frame : 87\n",
      "Error--------: 10.162341773326062\n",
      "Latent error above the threshold of 1.2\n",
      "Found 16402 lines. Skipped 11. Loaded 16391 points.\n"
     ]
    },
    {
     "name": "stderr",
     "output_type": "stream",
     "text": [
      "  9%|▉         | 89/1014 [04:14<43:00,  2.79s/it]"
     ]
    },
    {
     "name": "stdout",
     "output_type": "stream",
     "text": [
      "ICP converged. Fitness score: 3.40\n",
      "Frame : 88\n",
      "Error--------: 10.343674729991822\n",
      "Latent error above the threshold of 1.2\n",
      "Found 15090 lines. Skipped 11. Loaded 15079 points.\n"
     ]
    },
    {
     "name": "stderr",
     "output_type": "stream",
     "text": [
      "  9%|▉         | 90/1014 [04:17<43:23,  2.82s/it]"
     ]
    },
    {
     "name": "stdout",
     "output_type": "stream",
     "text": [
      "ICP converged. Fitness score: 3.33\n",
      "Frame : 89\n",
      "Error--------: 10.529955911536378\n",
      "Latent error above the threshold of 1.2\n",
      "Found 15090 lines. Skipped 11. Loaded 15079 points.\n"
     ]
    },
    {
     "name": "stderr",
     "output_type": "stream",
     "text": [
      "  9%|▉         | 91/1014 [04:20<44:07,  2.87s/it]"
     ]
    },
    {
     "name": "stdout",
     "output_type": "stream",
     "text": [
      "ICP converged. Fitness score: 3.56\n",
      "Frame : 90\n",
      "Error--------: 10.69509986140939\n",
      "Latent error above the threshold of 1.2\n",
      "Found 17866 lines. Skipped 11. Loaded 17855 points.\n"
     ]
    },
    {
     "name": "stderr",
     "output_type": "stream",
     "text": [
      "  9%|▉         | 92/1014 [04:22<42:29,  2.77s/it]"
     ]
    },
    {
     "name": "stdout",
     "output_type": "stream",
     "text": [
      "ICP converged. Fitness score: 3.29\n",
      "Frame : 91\n",
      "Error--------: 10.829493014310449\n",
      "Latent error above the threshold of 1.2\n",
      "Found 18381 lines. Skipped 11. Loaded 18370 points.\n"
     ]
    },
    {
     "name": "stderr",
     "output_type": "stream",
     "text": [
      "  9%|▉         | 93/1014 [04:25<42:31,  2.77s/it]"
     ]
    },
    {
     "name": "stdout",
     "output_type": "stream",
     "text": [
      "ICP converged. Fitness score: 3.42\n",
      "Frame : 92\n",
      "Error--------: 10.994558867198291\n",
      "Latent error above the threshold of 1.2\n",
      "Found 11513 lines. Skipped 11. Loaded 11502 points.\n"
     ]
    },
    {
     "name": "stderr",
     "output_type": "stream",
     "text": [
      "  9%|▉         | 94/1014 [04:26<35:25,  2.31s/it]"
     ]
    },
    {
     "name": "stdout",
     "output_type": "stream",
     "text": [
      "ICP converged. Fitness score: 0.19\n",
      "Frame : 93\n",
      "Error--------: 11.205000441554684\n",
      "Latent error above the threshold of 1.2\n",
      "Found 14712 lines. Skipped 11. Loaded 14701 points.\n"
     ]
    },
    {
     "name": "stderr",
     "output_type": "stream",
     "text": [
      "  9%|▉         | 95/1014 [04:29<39:02,  2.55s/it]"
     ]
    },
    {
     "name": "stdout",
     "output_type": "stream",
     "text": [
      "ICP converged. Fitness score: 3.17\n",
      "Frame : 94\n",
      "Error--------: 11.364546693533653\n",
      "Latent error above the threshold of 1.2\n",
      "Found 18530 lines. Skipped 11. Loaded 18519 points.\n"
     ]
    },
    {
     "name": "stderr",
     "output_type": "stream",
     "text": [
      "  9%|▉         | 96/1014 [04:32<37:34,  2.46s/it]"
     ]
    },
    {
     "name": "stdout",
     "output_type": "stream",
     "text": [
      "ICP converged. Fitness score: 2.66\n",
      "Frame : 95\n",
      "Error--------: 11.519717170042616\n",
      "Latent error above the threshold of 1.2\n",
      "Found 14742 lines. Skipped 11. Loaded 14731 points.\n"
     ]
    },
    {
     "name": "stderr",
     "output_type": "stream",
     "text": [
      " 10%|▉         | 97/1014 [04:35<40:13,  2.63s/it]"
     ]
    },
    {
     "name": "stdout",
     "output_type": "stream",
     "text": [
      "ICP converged. Fitness score: 3.15\n",
      "Frame : 96\n",
      "Error--------: 11.656232851523535\n",
      "Latent error above the threshold of 1.2\n",
      "Found 13534 lines. Skipped 11. Loaded 13523 points.\n"
     ]
    },
    {
     "name": "stderr",
     "output_type": "stream",
     "text": [
      " 10%|▉         | 98/1014 [04:37<38:09,  2.50s/it]"
     ]
    },
    {
     "name": "stdout",
     "output_type": "stream",
     "text": [
      "ICP converged. Fitness score: 2.61\n",
      "Frame : 97\n",
      "Error--------: 11.810432452621033\n",
      "Latent error above the threshold of 1.2\n",
      "Found 14863 lines. Skipped 11. Loaded 14852 points.\n"
     ]
    },
    {
     "name": "stderr",
     "output_type": "stream",
     "text": [
      " 10%|▉         | 99/1014 [04:40<39:37,  2.60s/it]"
     ]
    },
    {
     "name": "stdout",
     "output_type": "stream",
     "text": [
      "ICP converged. Fitness score: 2.83\n",
      "Frame : 98\n",
      "Error--------: 11.959604133746279\n",
      "Latent error above the threshold of 1.2\n",
      "Found 15858 lines. Skipped 11. Loaded 15847 points.\n"
     ]
    },
    {
     "name": "stderr",
     "output_type": "stream",
     "text": [
      " 10%|▉         | 100/1014 [04:42<39:47,  2.61s/it]"
     ]
    },
    {
     "name": "stdout",
     "output_type": "stream",
     "text": [
      "ICP converged. Fitness score: 2.41\n",
      "Frame : 99\n",
      "Error--------: 12.096318905106173\n",
      "Latent error above the threshold of 1.2\n",
      "Found 15774 lines. Skipped 11. Loaded 15763 points.\n"
     ]
    },
    {
     "name": "stderr",
     "output_type": "stream",
     "text": [
      " 10%|▉         | 101/1014 [04:46<42:31,  2.79s/it]"
     ]
    },
    {
     "name": "stdout",
     "output_type": "stream",
     "text": [
      "ICP converged. Fitness score: 2.80\n",
      "Frame : 100\n",
      "Error--------: 12.298620520367777\n",
      "Latent error above the threshold of 1.2\n",
      "Found 15497 lines. Skipped 11. Loaded 15486 points.\n"
     ]
    },
    {
     "name": "stderr",
     "output_type": "stream",
     "text": [
      " 10%|█         | 102/1014 [04:48<40:00,  2.63s/it]"
     ]
    },
    {
     "name": "stdout",
     "output_type": "stream",
     "text": [
      "ICP converged. Fitness score: 2.08\n",
      "Frame : 101\n",
      "Error--------: 12.48631292889353\n",
      "Latent error above the threshold of 1.2\n",
      "Found 15154 lines. Skipped 11. Loaded 15143 points.\n"
     ]
    },
    {
     "name": "stderr",
     "output_type": "stream",
     "text": [
      " 10%|█         | 103/1014 [04:51<41:32,  2.74s/it]"
     ]
    },
    {
     "name": "stdout",
     "output_type": "stream",
     "text": [
      "ICP converged. Fitness score: 2.64\n",
      "Frame : 102\n",
      "Error--------: 12.655608689648309\n",
      "Latent error above the threshold of 1.2\n",
      "Found 15697 lines. Skipped 11. Loaded 15686 points.\n"
     ]
    },
    {
     "name": "stderr",
     "output_type": "stream",
     "text": [
      " 10%|█         | 104/1014 [04:53<39:17,  2.59s/it]"
     ]
    },
    {
     "name": "stdout",
     "output_type": "stream",
     "text": [
      "ICP converged. Fitness score: 2.22\n",
      "Frame : 103\n",
      "Error--------: 12.82900107494303\n",
      "Latent error above the threshold of 1.2\n",
      "Found 15348 lines. Skipped 11. Loaded 15337 points.\n"
     ]
    },
    {
     "name": "stderr",
     "output_type": "stream",
     "text": [
      " 10%|█         | 105/1014 [04:55<35:42,  2.36s/it]"
     ]
    },
    {
     "name": "stdout",
     "output_type": "stream",
     "text": [
      "ICP converged. Fitness score: 0.29\n",
      "Frame : 104\n",
      "Error--------: 12.973222735329475\n",
      "Latent error above the threshold of 1.2\n",
      "Found 12979 lines. Skipped 11. Loaded 12968 points.\n"
     ]
    },
    {
     "name": "stderr",
     "output_type": "stream",
     "text": [
      " 10%|█         | 106/1014 [04:58<37:25,  2.47s/it]"
     ]
    },
    {
     "name": "stdout",
     "output_type": "stream",
     "text": [
      "ICP converged. Fitness score: 2.38\n",
      "Frame : 105\n",
      "Error--------: 13.128981355600269\n",
      "Latent error above the threshold of 1.2\n",
      "Found 12386 lines. Skipped 11. Loaded 12375 points.\n"
     ]
    },
    {
     "name": "stderr",
     "output_type": "stream",
     "text": [
      " 11%|█         | 107/1014 [05:00<35:13,  2.33s/it]"
     ]
    },
    {
     "name": "stdout",
     "output_type": "stream",
     "text": [
      "ICP converged. Fitness score: 2.03\n",
      "Frame : 106\n",
      "Error--------: 13.299370105384325\n",
      "Latent error above the threshold of 1.2\n",
      "Found 13632 lines. Skipped 11. Loaded 13621 points.\n"
     ]
    },
    {
     "name": "stderr",
     "output_type": "stream",
     "text": [
      " 11%|█         | 108/1014 [05:03<39:08,  2.59s/it]"
     ]
    },
    {
     "name": "stdout",
     "output_type": "stream",
     "text": [
      "ICP converged. Fitness score: 2.58\n",
      "Frame : 107\n",
      "Error--------: 13.485805974298769\n",
      "Latent error above the threshold of 1.2\n",
      "Found 13296 lines. Skipped 11. Loaded 13285 points.\n"
     ]
    },
    {
     "name": "stderr",
     "output_type": "stream",
     "text": [
      " 11%|█         | 109/1014 [05:06<41:10,  2.73s/it]"
     ]
    },
    {
     "name": "stdout",
     "output_type": "stream",
     "text": [
      "ICP converged. Fitness score: 2.37\n",
      "Frame : 108\n",
      "Error--------: 13.602033423188367\n",
      "Latent error above the threshold of 1.2\n",
      "Found 15385 lines. Skipped 11. Loaded 15374 points.\n"
     ]
    },
    {
     "name": "stderr",
     "output_type": "stream",
     "text": [
      " 11%|█         | 110/1014 [05:10<48:14,  3.20s/it]"
     ]
    },
    {
     "name": "stdout",
     "output_type": "stream",
     "text": [
      "ICP converged. Fitness score: 2.78\n",
      "Frame : 109\n",
      "Error--------: 13.778805100166812\n",
      "Latent error above the threshold of 1.2\n",
      "Found 17209 lines. Skipped 11. Loaded 17198 points.\n"
     ]
    },
    {
     "name": "stderr",
     "output_type": "stream",
     "text": [
      " 11%|█         | 111/1014 [05:15<54:23,  3.61s/it]"
     ]
    },
    {
     "name": "stdout",
     "output_type": "stream",
     "text": [
      "ICP converged. Fitness score: 2.66\n",
      "Frame : 110\n",
      "Error--------: 13.925194697405956\n",
      "Latent error above the threshold of 1.2\n",
      "Found 11997 lines. Skipped 11. Loaded 11986 points.\n"
     ]
    },
    {
     "name": "stderr",
     "output_type": "stream",
     "text": [
      " 11%|█         | 112/1014 [05:18<54:02,  3.59s/it]"
     ]
    },
    {
     "name": "stdout",
     "output_type": "stream",
     "text": [
      "ICP converged. Fitness score: 2.67\n",
      "Frame : 111\n",
      "Error--------: 14.090841192050078\n",
      "Latent error above the threshold of 1.2\n",
      "Found 13622 lines. Skipped 11. Loaded 13611 points.\n"
     ]
    },
    {
     "name": "stderr",
     "output_type": "stream",
     "text": [
      " 11%|█         | 113/1014 [05:21<51:20,  3.42s/it]"
     ]
    },
    {
     "name": "stdout",
     "output_type": "stream",
     "text": [
      "ICP converged. Fitness score: 2.70\n",
      "Frame : 112\n",
      "Error--------: 14.213175558229933\n",
      "Latent error above the threshold of 1.2\n",
      "Found 16443 lines. Skipped 11. Loaded 16432 points.\n"
     ]
    },
    {
     "name": "stderr",
     "output_type": "stream",
     "text": [
      " 11%|█         | 114/1014 [05:25<52:00,  3.47s/it]"
     ]
    },
    {
     "name": "stdout",
     "output_type": "stream",
     "text": [
      "ICP converged. Fitness score: 3.33\n",
      "Frame : 113\n",
      "Error--------: 14.390080528040723\n",
      "Latent error above the threshold of 1.2\n",
      "Found 14428 lines. Skipped 11. Loaded 14417 points.\n"
     ]
    },
    {
     "name": "stderr",
     "output_type": "stream",
     "text": [
      " 11%|█▏        | 115/1014 [05:28<50:12,  3.35s/it]"
     ]
    },
    {
     "name": "stdout",
     "output_type": "stream",
     "text": [
      "ICP converged. Fitness score: 2.77\n",
      "Frame : 114\n",
      "Error--------: 14.620850276407632\n",
      "Latent error above the threshold of 1.2\n",
      "Found 29108 lines. Skipped 11. Loaded 29097 points.\n"
     ]
    },
    {
     "name": "stderr",
     "output_type": "stream",
     "text": [
      " 11%|█▏        | 116/1014 [05:30<46:00,  3.07s/it]"
     ]
    },
    {
     "name": "stdout",
     "output_type": "stream",
     "text": [
      "ICP converged. Fitness score: 0.24\n",
      "Frame : 115\n",
      "Error--------: 14.904432468591297\n",
      "Latent error above the threshold of 1.2\n",
      "Found 9189 lines. Skipped 11. Loaded 9178 points.\n"
     ]
    },
    {
     "name": "stderr",
     "output_type": "stream",
     "text": [
      " 12%|█▏        | 117/1014 [05:33<43:37,  2.92s/it]"
     ]
    },
    {
     "name": "stdout",
     "output_type": "stream",
     "text": [
      "ICP converged. Fitness score: 3.04\n",
      "Frame : 116\n",
      "Error--------: 15.095617464777595\n",
      "Latent error above the threshold of 1.2\n",
      "Found 14538 lines. Skipped 11. Loaded 14527 points.\n"
     ]
    },
    {
     "name": "stderr",
     "output_type": "stream",
     "text": [
      " 12%|█▏        | 118/1014 [05:35<40:08,  2.69s/it]"
     ]
    },
    {
     "name": "stdout",
     "output_type": "stream",
     "text": [
      "ICP converged. Fitness score: 3.30\n",
      "Frame : 117\n",
      "Error--------: 15.266936609903489\n",
      "Latent error above the threshold of 1.2\n",
      "Found 15959 lines. Skipped 11. Loaded 15948 points.\n"
     ]
    },
    {
     "name": "stderr",
     "output_type": "stream",
     "text": [
      " 12%|█▏        | 119/1014 [05:38<41:56,  2.81s/it]"
     ]
    },
    {
     "name": "stdout",
     "output_type": "stream",
     "text": [
      "ICP converged. Fitness score: 3.31\n",
      "Frame : 118\n",
      "Error--------: 15.442808345486048\n",
      "Latent error above the threshold of 1.2\n",
      "Found 17203 lines. Skipped 11. Loaded 17192 points.\n"
     ]
    },
    {
     "name": "stderr",
     "output_type": "stream",
     "text": [
      " 12%|█▏        | 120/1014 [05:41<41:50,  2.81s/it]"
     ]
    },
    {
     "name": "stdout",
     "output_type": "stream",
     "text": [
      "ICP converged. Fitness score: 3.84\n",
      "Frame : 119\n",
      "Error--------: 15.619119692273074\n",
      "Latent error above the threshold of 1.2\n",
      "Found 15424 lines. Skipped 11. Loaded 15413 points.\n"
     ]
    },
    {
     "name": "stderr",
     "output_type": "stream",
     "text": [
      " 12%|█▏        | 121/1014 [05:44<43:50,  2.95s/it]"
     ]
    },
    {
     "name": "stdout",
     "output_type": "stream",
     "text": [
      "ICP converged. Fitness score: 3.55\n",
      "Frame : 120\n",
      "Error--------: 15.834225822459933\n",
      "Latent error above the threshold of 1.2\n",
      "Found 10119 lines. Skipped 11. Loaded 10108 points.\n"
     ]
    },
    {
     "name": "stderr",
     "output_type": "stream",
     "text": [
      " 12%|█▏        | 122/1014 [05:47<41:56,  2.82s/it]"
     ]
    },
    {
     "name": "stdout",
     "output_type": "stream",
     "text": [
      "ICP converged. Fitness score: 3.05\n",
      "Frame : 121\n",
      "Error--------: 15.988853090451242\n",
      "Latent error above the threshold of 1.2\n",
      "Found 14464 lines. Skipped 11. Loaded 14453 points.\n"
     ]
    },
    {
     "name": "stderr",
     "output_type": "stream",
     "text": [
      " 12%|█▏        | 123/1014 [05:50<42:52,  2.89s/it]"
     ]
    },
    {
     "name": "stdout",
     "output_type": "stream",
     "text": [
      "ICP converged. Fitness score: 3.58\n",
      "Frame : 122\n",
      "Error--------: 16.156336565186255\n",
      "Latent error above the threshold of 1.2\n",
      "Found 17331 lines. Skipped 11. Loaded 17320 points.\n"
     ]
    },
    {
     "name": "stderr",
     "output_type": "stream",
     "text": [
      " 12%|█▏        | 124/1014 [05:52<41:57,  2.83s/it]"
     ]
    },
    {
     "name": "stdout",
     "output_type": "stream",
     "text": [
      "ICP converged. Fitness score: 3.64\n",
      "Frame : 123\n",
      "Error--------: 16.32958459998013\n",
      "Latent error above the threshold of 1.2\n",
      "Found 15111 lines. Skipped 11. Loaded 15100 points.\n"
     ]
    },
    {
     "name": "stderr",
     "output_type": "stream",
     "text": [
      " 12%|█▏        | 125/1014 [05:56<43:11,  2.92s/it]"
     ]
    },
    {
     "name": "stdout",
     "output_type": "stream",
     "text": [
      "ICP converged. Fitness score: 3.36\n",
      "Frame : 124\n",
      "Error--------: 16.539686918936017\n",
      "Latent error above the threshold of 1.2\n",
      "Found 11982 lines. Skipped 11. Loaded 11971 points.\n"
     ]
    },
    {
     "name": "stderr",
     "output_type": "stream",
     "text": [
      " 12%|█▏        | 126/1014 [05:58<42:44,  2.89s/it]"
     ]
    },
    {
     "name": "stdout",
     "output_type": "stream",
     "text": [
      "ICP converged. Fitness score: 3.11\n",
      "Frame : 125\n",
      "Error--------: 16.739352543738928\n",
      "Latent error above the threshold of 1.2\n",
      "Found 11511 lines. Skipped 11. Loaded 11500 points.\n"
     ]
    },
    {
     "name": "stderr",
     "output_type": "stream",
     "text": [
      " 13%|█▎        | 127/1014 [06:00<36:42,  2.48s/it]"
     ]
    },
    {
     "name": "stdout",
     "output_type": "stream",
     "text": [
      "ICP converged. Fitness score: 0.30\n",
      "Frame : 126\n",
      "Error--------: 16.976821306426164\n",
      "Latent error above the threshold of 1.2\n",
      "Found 12785 lines. Skipped 11. Loaded 12774 points.\n"
     ]
    },
    {
     "name": "stderr",
     "output_type": "stream",
     "text": [
      " 13%|█▎        | 128/1014 [06:02<34:22,  2.33s/it]"
     ]
    },
    {
     "name": "stdout",
     "output_type": "stream",
     "text": [
      "ICP converged. Fitness score: 0.20\n",
      "Frame : 127\n",
      "Error--------: 17.157011029674443\n",
      "Latent error above the threshold of 1.2\n",
      "Found 15466 lines. Skipped 11. Loaded 15455 points.\n"
     ]
    },
    {
     "name": "stderr",
     "output_type": "stream",
     "text": [
      " 13%|█▎        | 129/1014 [06:05<37:39,  2.55s/it]"
     ]
    },
    {
     "name": "stdout",
     "output_type": "stream",
     "text": [
      "ICP converged. Fitness score: 3.61\n",
      "Frame : 128\n",
      "Error--------: 17.33882686261503\n",
      "Latent error above the threshold of 1.2\n",
      "Found 15272 lines. Skipped 11. Loaded 15261 points.\n"
     ]
    },
    {
     "name": "stderr",
     "output_type": "stream",
     "text": [
      " 13%|█▎        | 130/1014 [06:08<39:09,  2.66s/it]"
     ]
    },
    {
     "name": "stdout",
     "output_type": "stream",
     "text": [
      "ICP converged. Fitness score: 3.32\n",
      "Frame : 129\n",
      "Error--------: 17.48660827771873\n",
      "Latent error above the threshold of 1.2\n",
      "Found 14488 lines. Skipped 11. Loaded 14477 points.\n"
     ]
    },
    {
     "name": "stderr",
     "output_type": "stream",
     "text": [
      " 13%|█▎        | 131/1014 [06:11<40:33,  2.76s/it]"
     ]
    },
    {
     "name": "stdout",
     "output_type": "stream",
     "text": [
      "ICP converged. Fitness score: 3.15\n",
      "Frame : 130\n",
      "Error--------: 17.69045234890886\n",
      "Latent error above the threshold of 1.2\n",
      "Found 13728 lines. Skipped 11. Loaded 13717 points.\n"
     ]
    },
    {
     "name": "stderr",
     "output_type": "stream",
     "text": [
      " 13%|█▎        | 132/1014 [06:13<38:59,  2.65s/it]"
     ]
    },
    {
     "name": "stdout",
     "output_type": "stream",
     "text": [
      "ICP converged. Fitness score: 3.44\n",
      "Frame : 131\n",
      "Error--------: 17.91519351342892\n",
      "Latent error above the threshold of 1.2\n",
      "Found 11126 lines. Skipped 11. Loaded 11115 points.\n"
     ]
    },
    {
     "name": "stderr",
     "output_type": "stream",
     "text": [
      " 13%|█▎        | 133/1014 [06:16<39:10,  2.67s/it]"
     ]
    },
    {
     "name": "stdout",
     "output_type": "stream",
     "text": [
      "ICP converged. Fitness score: 2.95\n",
      "Frame : 132\n",
      "Error--------: 18.1102850294848\n",
      "Latent error above the threshold of 1.2\n",
      "Found 16212 lines. Skipped 11. Loaded 16201 points.\n"
     ]
    },
    {
     "name": "stderr",
     "output_type": "stream",
     "text": [
      " 13%|█▎        | 134/1014 [06:19<41:16,  2.81s/it]"
     ]
    },
    {
     "name": "stdout",
     "output_type": "stream",
     "text": [
      "ICP converged. Fitness score: 3.81\n",
      "Frame : 133\n",
      "Error--------: 18.309167589943122\n",
      "Latent error above the threshold of 1.2\n",
      "Found 15874 lines. Skipped 11. Loaded 15863 points.\n"
     ]
    },
    {
     "name": "stderr",
     "output_type": "stream",
     "text": [
      " 13%|█▎        | 135/1014 [06:22<41:17,  2.82s/it]"
     ]
    },
    {
     "name": "stdout",
     "output_type": "stream",
     "text": [
      "ICP converged. Fitness score: 3.47\n",
      "Frame : 134\n",
      "Error--------: 18.488636558631146\n",
      "Latent error above the threshold of 1.2\n",
      "Found 16467 lines. Skipped 11. Loaded 16456 points.\n"
     ]
    },
    {
     "name": "stderr",
     "output_type": "stream",
     "text": [
      " 13%|█▎        | 136/1014 [06:25<42:55,  2.93s/it]"
     ]
    },
    {
     "name": "stdout",
     "output_type": "stream",
     "text": [
      "ICP converged. Fitness score: 3.78\n",
      "Frame : 135\n",
      "Error--------: 18.692847293056975\n",
      "Latent error above the threshold of 1.2\n",
      "Found 12809 lines. Skipped 11. Loaded 12798 points.\n"
     ]
    },
    {
     "name": "stderr",
     "output_type": "stream",
     "text": [
      " 14%|█▎        | 137/1014 [06:28<43:11,  2.95s/it]"
     ]
    },
    {
     "name": "stdout",
     "output_type": "stream",
     "text": [
      "ICP converged. Fitness score: 3.15\n",
      "Frame : 136\n",
      "Error--------: 18.955820790752785\n",
      "Latent error above the threshold of 1.2\n",
      "Found 16339 lines. Skipped 11. Loaded 16328 points.\n"
     ]
    },
    {
     "name": "stderr",
     "output_type": "stream",
     "text": [
      " 14%|█▎        | 138/1014 [06:31<42:44,  2.93s/it]"
     ]
    },
    {
     "name": "stdout",
     "output_type": "stream",
     "text": [
      "ICP converged. Fitness score: 3.72\n",
      "Frame : 137\n",
      "Error--------: 19.14963690918325\n",
      "Latent error above the threshold of 1.2\n",
      "Found 9903 lines. Skipped 11. Loaded 9892 points.\n"
     ]
    },
    {
     "name": "stderr",
     "output_type": "stream",
     "text": [
      " 14%|█▎        | 139/1014 [06:33<37:23,  2.56s/it]"
     ]
    },
    {
     "name": "stdout",
     "output_type": "stream",
     "text": [
      "ICP converged. Fitness score: 0.30\n",
      "Frame : 138\n",
      "Error--------: 19.506284256519276\n",
      "Latent error above the threshold of 1.2\n",
      "Found 13352 lines. Skipped 11. Loaded 13341 points.\n"
     ]
    },
    {
     "name": "stderr",
     "output_type": "stream",
     "text": [
      " 14%|█▍        | 140/1014 [06:36<39:20,  2.70s/it]"
     ]
    },
    {
     "name": "stdout",
     "output_type": "stream",
     "text": [
      "ICP converged. Fitness score: 3.61\n",
      "Frame : 139\n",
      "Error--------: 19.612795124275774\n",
      "Latent error above the threshold of 1.2\n",
      "Found 15448 lines. Skipped 11. Loaded 15437 points.\n"
     ]
    },
    {
     "name": "stderr",
     "output_type": "stream",
     "text": [
      " 14%|█▍        | 141/1014 [06:38<37:10,  2.56s/it]"
     ]
    },
    {
     "name": "stdout",
     "output_type": "stream",
     "text": [
      "ICP converged. Fitness score: 3.08\n",
      "Frame : 140\n",
      "Error--------: 19.825666466305876\n",
      "Latent error above the threshold of 1.2\n",
      "Found 13591 lines. Skipped 11. Loaded 13580 points.\n"
     ]
    },
    {
     "name": "stderr",
     "output_type": "stream",
     "text": [
      " 14%|█▍        | 142/1014 [06:41<39:07,  2.69s/it]"
     ]
    },
    {
     "name": "stdout",
     "output_type": "stream",
     "text": [
      "ICP converged. Fitness score: 3.81\n",
      "Frame : 141\n",
      "Error--------: 20.01628042058282\n",
      "Latent error above the threshold of 1.2\n",
      "Found 15461 lines. Skipped 11. Loaded 15450 points.\n"
     ]
    },
    {
     "name": "stderr",
     "output_type": "stream",
     "text": [
      " 14%|█▍        | 143/1014 [06:43<36:53,  2.54s/it]"
     ]
    },
    {
     "name": "stdout",
     "output_type": "stream",
     "text": [
      "ICP converged. Fitness score: 2.83\n",
      "Frame : 142\n",
      "Error--------: 20.211504237658463\n",
      "Latent error above the threshold of 1.2\n",
      "Found 13249 lines. Skipped 11. Loaded 13238 points.\n"
     ]
    },
    {
     "name": "stderr",
     "output_type": "stream",
     "text": [
      " 14%|█▍        | 144/1014 [06:46<38:00,  2.62s/it]"
     ]
    },
    {
     "name": "stdout",
     "output_type": "stream",
     "text": [
      "ICP converged. Fitness score: 3.47\n",
      "Frame : 143\n",
      "Error--------: 20.378669282754785\n",
      "Latent error above the threshold of 1.2\n",
      "Found 13928 lines. Skipped 11. Loaded 13917 points.\n"
     ]
    },
    {
     "name": "stderr",
     "output_type": "stream",
     "text": [
      " 14%|█▍        | 145/1014 [06:49<39:57,  2.76s/it]"
     ]
    },
    {
     "name": "stdout",
     "output_type": "stream",
     "text": [
      "ICP converged. Fitness score: 3.29\n",
      "Frame : 144\n",
      "Error--------: 20.54360095058971\n",
      "Latent error above the threshold of 1.2\n",
      "Found 11361 lines. Skipped 11. Loaded 11350 points.\n"
     ]
    },
    {
     "name": "stderr",
     "output_type": "stream",
     "text": [
      " 14%|█▍        | 146/1014 [06:51<38:19,  2.65s/it]"
     ]
    },
    {
     "name": "stdout",
     "output_type": "stream",
     "text": [
      "ICP converged. Fitness score: 3.27\n",
      "Frame : 145\n",
      "Error--------: 20.715591737809106\n",
      "Latent error above the threshold of 1.2\n",
      "Found 14460 lines. Skipped 11. Loaded 14449 points.\n"
     ]
    },
    {
     "name": "stderr",
     "output_type": "stream",
     "text": [
      " 14%|█▍        | 147/1014 [06:55<42:33,  2.94s/it]"
     ]
    },
    {
     "name": "stdout",
     "output_type": "stream",
     "text": [
      "ICP converged. Fitness score: 3.02\n",
      "Frame : 146\n",
      "Error--------: 20.902256186887332\n",
      "Latent error above the threshold of 1.2\n",
      "Found 11683 lines. Skipped 11. Loaded 11672 points.\n"
     ]
    },
    {
     "name": "stderr",
     "output_type": "stream",
     "text": [
      " 15%|█▍        | 148/1014 [06:59<45:52,  3.18s/it]"
     ]
    },
    {
     "name": "stdout",
     "output_type": "stream",
     "text": [
      "ICP converged. Fitness score: 3.45\n",
      "Frame : 147\n",
      "Error--------: 21.100960484624235\n",
      "Latent error above the threshold of 1.2\n",
      "Found 16835 lines. Skipped 11. Loaded 16824 points.\n"
     ]
    },
    {
     "name": "stderr",
     "output_type": "stream",
     "text": [
      " 15%|█▍        | 149/1014 [07:03<47:58,  3.33s/it]"
     ]
    },
    {
     "name": "stdout",
     "output_type": "stream",
     "text": [
      "ICP converged. Fitness score: 3.34\n",
      "Frame : 148\n",
      "Error--------: 21.26986222649576\n",
      "Latent error above the threshold of 1.2\n",
      "Found 13376 lines. Skipped 11. Loaded 13365 points.\n"
     ]
    },
    {
     "name": "stderr",
     "output_type": "stream",
     "text": [
      " 15%|█▍        | 150/1014 [07:05<46:01,  3.20s/it]"
     ]
    },
    {
     "name": "stdout",
     "output_type": "stream",
     "text": [
      "ICP converged. Fitness score: 0.22\n",
      "Frame : 149\n",
      "Error--------: 21.548500591940286\n",
      "Latent error above the threshold of 1.2\n",
      "Found 16501 lines. Skipped 11. Loaded 16490 points.\n"
     ]
    },
    {
     "name": "stderr",
     "output_type": "stream",
     "text": [
      " 15%|█▍        | 151/1014 [07:09<45:45,  3.18s/it]"
     ]
    },
    {
     "name": "stdout",
     "output_type": "stream",
     "text": [
      "ICP converged. Fitness score: 3.24\n",
      "Frame : 150\n",
      "Error--------: 21.723934347491504\n",
      "Latent error above the threshold of 1.2\n",
      "Found 15882 lines. Skipped 11. Loaded 15871 points.\n"
     ]
    },
    {
     "name": "stderr",
     "output_type": "stream",
     "text": [
      " 15%|█▍        | 152/1014 [07:12<46:43,  3.25s/it]"
     ]
    },
    {
     "name": "stdout",
     "output_type": "stream",
     "text": [
      "ICP converged. Fitness score: 3.76\n",
      "Frame : 151\n",
      "Error--------: 21.873052457779448\n",
      "Latent error above the threshold of 1.2\n",
      "Found 15902 lines. Skipped 11. Loaded 15891 points.\n"
     ]
    },
    {
     "name": "stderr",
     "output_type": "stream",
     "text": [
      " 15%|█▌        | 153/1014 [07:15<47:50,  3.33s/it]"
     ]
    },
    {
     "name": "stdout",
     "output_type": "stream",
     "text": [
      "ICP converged. Fitness score: 3.40\n",
      "Frame : 152\n",
      "Error--------: 21.97870684270414\n",
      "Latent error above the threshold of 1.2\n",
      "Found 17564 lines. Skipped 11. Loaded 17553 points.\n"
     ]
    },
    {
     "name": "stderr",
     "output_type": "stream",
     "text": [
      " 15%|█▌        | 154/1014 [07:18<45:36,  3.18s/it]"
     ]
    },
    {
     "name": "stdout",
     "output_type": "stream",
     "text": [
      "ICP converged. Fitness score: 3.39\n",
      "Frame : 153\n",
      "Error--------: 22.17409096620814\n",
      "Latent error above the threshold of 1.2\n",
      "Found 13211 lines. Skipped 11. Loaded 13200 points.\n"
     ]
    },
    {
     "name": "stderr",
     "output_type": "stream",
     "text": [
      " 15%|█▌        | 155/1014 [07:20<41:09,  2.87s/it]"
     ]
    },
    {
     "name": "stdout",
     "output_type": "stream",
     "text": [
      "ICP converged. Fitness score: 3.31\n",
      "Frame : 154\n",
      "Error--------: 22.345258391206322\n",
      "Latent error above the threshold of 1.2\n",
      "Found 12863 lines. Skipped 11. Loaded 12852 points.\n"
     ]
    },
    {
     "name": "stderr",
     "output_type": "stream",
     "text": [
      " 15%|█▌        | 156/1014 [07:23<41:00,  2.87s/it]"
     ]
    },
    {
     "name": "stdout",
     "output_type": "stream",
     "text": [
      "ICP converged. Fitness score: 3.75\n",
      "Frame : 155\n",
      "Error--------: 22.514406558076306\n",
      "Latent error above the threshold of 1.2\n",
      "Found 14036 lines. Skipped 11. Loaded 14025 points.\n"
     ]
    },
    {
     "name": "stderr",
     "output_type": "stream",
     "text": [
      " 15%|█▌        | 157/1014 [07:25<37:55,  2.65s/it]"
     ]
    },
    {
     "name": "stdout",
     "output_type": "stream",
     "text": [
      "ICP converged. Fitness score: 3.23\n",
      "Frame : 156\n",
      "Error--------: 22.73993434333428\n",
      "Latent error above the threshold of 1.2\n",
      "Found 14277 lines. Skipped 11. Loaded 14266 points.\n"
     ]
    },
    {
     "name": "stderr",
     "output_type": "stream",
     "text": [
      " 16%|█▌        | 158/1014 [07:28<38:42,  2.71s/it]"
     ]
    },
    {
     "name": "stdout",
     "output_type": "stream",
     "text": [
      "ICP converged. Fitness score: 3.94\n",
      "Frame : 157\n",
      "Error--------: 22.924112160013113\n",
      "Latent error above the threshold of 1.2\n",
      "Found 12443 lines. Skipped 11. Loaded 12432 points.\n"
     ]
    },
    {
     "name": "stderr",
     "output_type": "stream",
     "text": [
      " 16%|█▌        | 159/1014 [07:30<36:00,  2.53s/it]"
     ]
    },
    {
     "name": "stdout",
     "output_type": "stream",
     "text": [
      "ICP converged. Fitness score: 3.28\n",
      "Frame : 158\n",
      "Error--------: 23.198035039843003\n",
      "Latent error above the threshold of 1.2\n",
      "Found 15692 lines. Skipped 11. Loaded 15681 points.\n"
     ]
    },
    {
     "name": "stderr",
     "output_type": "stream",
     "text": [
      " 16%|█▌        | 160/1014 [07:34<39:42,  2.79s/it]"
     ]
    },
    {
     "name": "stdout",
     "output_type": "stream",
     "text": [
      "ICP converged. Fitness score: 3.86\n",
      "Frame : 159\n",
      "Error--------: 23.386782078207084\n",
      "Latent error above the threshold of 1.2\n",
      "Found 13944 lines. Skipped 11. Loaded 13933 points.\n"
     ]
    },
    {
     "name": "stderr",
     "output_type": "stream",
     "text": [
      " 16%|█▌        | 161/1014 [07:36<37:09,  2.61s/it]"
     ]
    },
    {
     "name": "stdout",
     "output_type": "stream",
     "text": [
      "ICP converged. Fitness score: 0.32\n",
      "Frame : 160\n",
      "Error--------: 23.613596922611215\n",
      "Latent error above the threshold of 1.2\n",
      "Found 12953 lines. Skipped 11. Loaded 12942 points.\n"
     ]
    },
    {
     "name": "stderr",
     "output_type": "stream",
     "text": [
      " 16%|█▌        | 162/1014 [07:39<39:37,  2.79s/it]"
     ]
    },
    {
     "name": "stdout",
     "output_type": "stream",
     "text": [
      "ICP converged. Fitness score: 4.03\n",
      "Frame : 161\n",
      "Error--------: 23.76795481623845\n",
      "Latent error above the threshold of 1.2\n",
      "Found 14975 lines. Skipped 11. Loaded 14964 points.\n"
     ]
    },
    {
     "name": "stderr",
     "output_type": "stream",
     "text": [
      " 16%|█▌        | 163/1014 [07:42<39:50,  2.81s/it]"
     ]
    },
    {
     "name": "stdout",
     "output_type": "stream",
     "text": [
      "ICP converged. Fitness score: 3.30\n",
      "Frame : 162\n",
      "Error--------: 23.918614554050073\n",
      "Latent error above the threshold of 1.2\n",
      "Found 15875 lines. Skipped 11. Loaded 15864 points.\n"
     ]
    },
    {
     "name": "stderr",
     "output_type": "stream",
     "text": [
      " 16%|█▌        | 164/1014 [07:46<42:56,  3.03s/it]"
     ]
    },
    {
     "name": "stdout",
     "output_type": "stream",
     "text": [
      "ICP converged. Fitness score: 3.74\n",
      "Frame : 163\n",
      "Error--------: 24.059803970263193\n",
      "Latent error above the threshold of 1.2\n",
      "Found 15875 lines. Skipped 11. Loaded 15864 points.\n"
     ]
    },
    {
     "name": "stderr",
     "output_type": "stream",
     "text": [
      " 16%|█▋        | 165/1014 [07:48<39:30,  2.79s/it]"
     ]
    },
    {
     "name": "stdout",
     "output_type": "stream",
     "text": [
      "ICP converged. Fitness score: 3.28\n",
      "Frame : 164\n",
      "Error--------: 24.286959292100452\n",
      "Latent error above the threshold of 1.2\n",
      "Found 16173 lines. Skipped 11. Loaded 16162 points.\n"
     ]
    },
    {
     "name": "stderr",
     "output_type": "stream",
     "text": [
      " 16%|█▋        | 166/1014 [07:51<42:35,  3.01s/it]"
     ]
    },
    {
     "name": "stdout",
     "output_type": "stream",
     "text": [
      "ICP converged. Fitness score: 3.96\n",
      "Frame : 165\n",
      "Error--------: 24.48339532623202\n",
      "Latent error above the threshold of 1.2\n",
      "Found 16784 lines. Skipped 11. Loaded 16773 points.\n"
     ]
    },
    {
     "name": "stderr",
     "output_type": "stream",
     "text": [
      " 16%|█▋        | 167/1014 [07:54<41:05,  2.91s/it]"
     ]
    },
    {
     "name": "stdout",
     "output_type": "stream",
     "text": [
      "ICP converged. Fitness score: 3.21\n",
      "Frame : 166\n",
      "Error--------: 24.633327083820028\n",
      "Latent error above the threshold of 1.2\n",
      "Found 12690 lines. Skipped 11. Loaded 12679 points.\n"
     ]
    },
    {
     "name": "stderr",
     "output_type": "stream",
     "text": [
      " 17%|█▋        | 168/1014 [07:57<41:57,  2.98s/it]"
     ]
    },
    {
     "name": "stdout",
     "output_type": "stream",
     "text": [
      "ICP converged. Fitness score: 3.75\n",
      "Frame : 167\n",
      "Error--------: 24.898447166891884\n",
      "Latent error above the threshold of 1.2\n",
      "Found 11950 lines. Skipped 11. Loaded 11939 points.\n"
     ]
    },
    {
     "name": "stderr",
     "output_type": "stream",
     "text": [
      " 17%|█▋        | 168/1014 [08:01<40:23,  2.87s/it]\n"
     ]
    },
    {
     "ename": "KeyboardInterrupt",
     "evalue": "",
     "output_type": "error",
     "traceback": [
      "\u001b[0;31m---------------------------------------------------------------------------\u001b[0m",
      "\u001b[0;31mKeyboardInterrupt\u001b[0m                         Traceback (most recent call last)",
      "Cell \u001b[0;32mIn[5], line 29\u001b[0m\n\u001b[1;32m     23\u001b[0m t_points \u001b[39m=\u001b[39m np\u001b[39m.\u001b[39marray(pcd\u001b[39m.\u001b[39mpoints)\n\u001b[1;32m     25\u001b[0m \u001b[39m#ICP alignmnet returns transformation matrix\u001b[39;00m\n\u001b[0;32m---> 29\u001b[0m trans\u001b[39m=\u001b[39m icp(source\u001b[39m=\u001b[39;49m t_points, target\u001b[39m=\u001b[39;49mtarget_points,transformation\u001b[39m=\u001b[39;49mnp\u001b[39m.\u001b[39;49midentity(\u001b[39m4\u001b[39;49m), nr_iterations\u001b[39m=\u001b[39;49m\u001b[39m30\u001b[39;49m, epsilon\u001b[39m=\u001b[39;49m\u001b[39m1e-6\u001b[39;49m,\n\u001b[1;32m     30\u001b[0m                      inlier_threshold\u001b[39m=\u001b[39;49m\u001b[39m1e-6\u001b[39;49m, distance_threshold\u001b[39m=\u001b[39;49m \u001b[39m1\u001b[39;49m, downsample \u001b[39m=\u001b[39;49m \u001b[39m0\u001b[39;49m, visualize\u001b[39m=\u001b[39;49m\u001b[39mFalse\u001b[39;49;00m)\n\u001b[1;32m     33\u001b[0m initTransform \u001b[39m=\u001b[39m trans \u001b[39m*\u001b[39m initTransform\n\u001b[1;32m     36\u001b[0m \u001b[39m#grab frame values from ground truth\u001b[39;00m\n",
      "Cell \u001b[0;32mIn[2], line 119\u001b[0m, in \u001b[0;36micp\u001b[0;34m(source, target, transformation, nr_iterations, distance_threshold, epsilon, inlier_threshold, downsample, visualize)\u001b[0m\n\u001b[1;32m     93\u001b[0m \u001b[39m\u001b[39m\u001b[39m\"\"\"The `Iterative Closest Point` (ICP) algorithm.\u001b[39;00m\n\u001b[1;32m     94\u001b[0m \n\u001b[1;32m     95\u001b[0m \u001b[39mArgs:\u001b[39;00m\n\u001b[0;32m   (...)\u001b[0m\n\u001b[1;32m    113\u001b[0m \u001b[39m    A ndarray with the final transformation matrix between source and target.\u001b[39;00m\n\u001b[1;32m    114\u001b[0m \u001b[39m\"\"\"\u001b[39;00m\n\u001b[1;32m    118\u001b[0m set_argtypes(\u001b[39m'\u001b[39m\u001b[39micp\u001b[39m\u001b[39m'\u001b[39m, source, target)\n\u001b[0;32m--> 119\u001b[0m score \u001b[39m=\u001b[39m REGLIB\u001b[39m.\u001b[39;49micp(source, \u001b[39mlen\u001b[39;49m(source), target, \u001b[39mlen\u001b[39;49m(target), transformation,\n\u001b[1;32m    120\u001b[0m                    nr_iterations, distance_threshold, epsilon, inlier_threshold, downsample, visualize)\n\u001b[1;32m    121\u001b[0m \u001b[39mprint\u001b[39m(\u001b[39mf\u001b[39m\u001b[39m\"\u001b[39m\u001b[39mICP converged. Fitness score: \u001b[39m\u001b[39m{\u001b[39;00mscore\u001b[39m:\u001b[39;00m\u001b[39m.2f\u001b[39m\u001b[39m}\u001b[39;00m\u001b[39m\"\u001b[39m) \u001b[39mif\u001b[39;00m score \u001b[39m>\u001b[39m \u001b[39m0\u001b[39m \u001b[39melse\u001b[39;00m \u001b[39mprint\u001b[39m(\u001b[39m\"\u001b[39m\u001b[39mICP did not converge!\u001b[39m\u001b[39m\"\u001b[39m)\n\u001b[1;32m    122\u001b[0m \u001b[39mreturn\u001b[39;00m transformation\n",
      "\u001b[0;31mKeyboardInterrupt\u001b[0m: "
     ]
    }
   ],
   "source": [
    "#initial transformation\n",
    "initTransform = np.identity(4)\n",
    "icp_errors =[]\n",
    "voxel_size = 0.2\n",
    "\n",
    "start_time = time.time()\n",
    "\n",
    "#loops over all frames and returns the the lateral errors \n",
    "for sample in tqdm(range(samples)):\n",
    "\n",
    "    frame_path = os.path.join(frames_dir, frame_files[sample])\n",
    "    source_points = load_data(frame_path)\n",
    "    \n",
    "    \n",
    "    #voxel filter\n",
    "    points = voxel_downsample(source_points, 0.2)\n",
    "\n",
    "\n",
    "    #transfrom source points based on last alignment transformation\n",
    "    pcd = o3d.geometry.PointCloud()\n",
    "    pcd.points = o3d.utility.Vector3dVector(points)\n",
    "    pcd = pcd.transform(initTransform)\n",
    "    t_points = np.array(pcd.points)\n",
    "\n",
    "    #ICP alignmnet returns transformation matrix\n",
    "\n",
    "\n",
    "    \n",
    "    trans= icp(source= t_points, target=target_points,transformation=np.identity(4), nr_iterations=30, epsilon=1e-6,\n",
    "                         inlier_threshold=1e-6, distance_threshold= 1, downsample = 0, visualize=False)\n",
    "    \n",
    "\n",
    "    initTransform = trans * initTransform\n",
    "\n",
    "    \n",
    "    #grab frame values from ground truth\n",
    "    frame_gt = g_df[g_df['Frame'] == sample]\n",
    "\n",
    "\n",
    "    \n",
    "    # Calculate L2 norm for latent error \n",
    "    errors = np.linalg.norm(np.array([initTransform[0,3],initTransform[1,3],initTransform[2,3]])-np.array([ frame_gt[' x'].item(),  frame_gt[' y'].item(),  frame_gt[' z'].item()]))  \n",
    "    print('Frame :', sample)\n",
    "    print(\"Error--------:\", errors) \n",
    "    if errors>1.2:\n",
    "        print(\"Latent error above the threshold of 1.2\")\n",
    "\n",
    "  \n",
    "    initTransform = trans \n",
    "\n",
    "    icp_errors.append(errors)\n",
    "\n",
    "end_time = time.time()\n",
    "total_icp_time = end_time - start_time\n",
    "\n",
    "print(f\"Total execution time: {total_icp_time:.3f} seconds\")\n",
    "\n"
   ]
  },
  {
   "attachments": {},
   "cell_type": "markdown",
   "metadata": {},
   "source": [
    "## NDT LOCALIZATION ##"
   ]
  },
  {
   "cell_type": "code",
   "execution_count": 6,
   "metadata": {},
   "outputs": [
    {
     "name": "stderr",
     "output_type": "stream",
     "text": [
      "  0%|          | 0/1014 [00:00<?, ?it/s]"
     ]
    },
    {
     "name": "stdout",
     "output_type": "stream",
     "text": [
      "Found 9104 lines. Skipped 11. Loaded 9093 points.\n"
     ]
    }
   ],
   "source": [
    "#initial transformation\n",
    "initTransform = np.identity(4)\n",
    "ndt_errors =[]\n",
    "voxel_size = 0.2\n",
    "\n",
    "start_time = time.time()\n",
    "\n",
    "#loops over all frames and returns the the lateral errors \n",
    "for sample in tqdm(range(samples)):\n",
    "\n",
    "    frame_path = os.path.join(\"/app/dataset/frames/\", frame_files[sample])\n",
    "    source_points = load_data(frame_path)\n",
    "    \n",
    "    \n",
    "    #voxel filter\n",
    "    points = voxel_downsample(source_points, 0.2)\n",
    "\n",
    "\n",
    "    #transfrom source points based on last alignment transformation\n",
    "    pcd = o3d.geometry.PointCloud()\n",
    "    pcd.points = o3d.utility.Vector3dVector(points)\n",
    "    pcd = pcd.transform(initTransform)\n",
    "    t_points = np.array(pcd.points)\n",
    "\n",
    "    #NDT alignmnet returns transformation matrix\n",
    "\n",
    "    trans= ndt(source= t_points, target=target_points,transformation=np.identity(4),voxelize=0, nr_iterations=60, epsilon=1e-3,\n",
    "                         inlier_threshold=1e-3, distance_threshold= 1, downsample = 0, visualize=False)\n",
    "    \n",
    "\n",
    "    initTransform = trans * initTransform\n",
    "\n",
    "    \n",
    "    #grab frame values from ground truth\n",
    "    frame_gt = g_df[g_df['Frame'] == sample]\n",
    "\n",
    "\n",
    "    \n",
    "    # Calculate L2 norm for latent error \n",
    "    errors = np.linalg.norm(np.array([initTransform[0,3],initTransform[1,3],initTransform[2,3]])-np.array([ frame_gt[' x'].item(),  frame_gt[' y'].item(),  frame_gt[' z'].item()]))  \n",
    "    print('Frame :', sample)\n",
    "    print(\"Error--------:\", errors) \n",
    "    if errors>1.2:\n",
    "        print(\"Too big error\")\n",
    "\n",
    "\n",
    "    initTransform = trans \n",
    "\n",
    "    ndt_errors.append(errors)\n",
    "\n",
    "end_time = time.time()\n",
    "total_ndt_time = end_time - start_time\n",
    "\n",
    "print(f\"Total execution time: {total_ndt_time:.3f} seconds\")\n"
   ]
  },
  {
   "attachments": {},
   "cell_type": "markdown",
   "metadata": {},
   "source": [
    "## Analysis ##"
   ]
  },
  {
   "cell_type": "code",
   "execution_count": 15,
   "metadata": {},
   "outputs": [
    {
     "name": "stdout",
     "output_type": "stream",
     "text": [
      "Number of sucessful frames localization using ICP : 32\n",
      "Mean error using ICP localization : 10.237\n",
      "Max error using ICP localization : 24.898\n"
     ]
    }
   ],
   "source": [
    "error_icp = np.array(icp_errors)\n",
    "Mean_icp_error = np.mean(error_icp)\n",
    "Max_icp_error = np.max(error_icp)\n",
    "\n",
    "print(\"Number of sucessful frames localization using ICP :\", len(error_icp[error_icp<1.2]))\n",
    "print(\"Mean error using ICP localization :\",f'{Mean_icp_error:.3f}')\n",
    "print(\"Max error using ICP localization :\", f'{Max_icp_error:.3f}')\n",
    "print(\"Time needed for localization of all frames using ICP :\", f'{total_icp_time:.3f}', \"seconds\")\n"
   ]
  },
  {
   "cell_type": "code",
   "execution_count": null,
   "metadata": {},
   "outputs": [],
   "source": [
    "error_ndt = np.array(ndt_errors)\n",
    "Mean_ndt_error = np.mean(error_ndt)\n",
    "Max_ndt_error = np.max(error_ndt)\n",
    "\n",
    "print(\"Number of failed frames localization using NDT :\", len(error_ndt[error_ndt<1.2]))\n",
    "print(\"Mean error using NDT localization :\", f'{Mean_ndt_error:.3f}')\n",
    "print(\"Max error using NDT localization :\", f'{Max_ndt_error:.3f}')\n",
    "print(\"Time needed for localization of all frames using ndt :\", f'{total_ndt_time:.3f}', \"seconds\")"
   ]
  }
 ],
 "metadata": {
  "kernelspec": {
   "display_name": "Python 3",
   "language": "python",
   "name": "python3"
  },
  "language_info": {
   "codemirror_mode": {
    "name": "ipython",
    "version": 3
   },
   "file_extension": ".py",
   "mimetype": "text/x-python",
   "name": "python",
   "nbconvert_exporter": "python",
   "pygments_lexer": "ipython3",
   "version": "3.8.10"
  },
  "orig_nbformat": 4
 },
 "nbformat": 4,
 "nbformat_minor": 2
}
