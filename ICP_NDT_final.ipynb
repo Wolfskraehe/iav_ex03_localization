{
 "cells": [
  {
   "cell_type": "code",
   "execution_count": 1,
   "metadata": {},
   "outputs": [
    {
     "name": "stdout",
     "output_type": "stream",
     "text": [
      "Jupyter environment detected. Enabling Open3D WebVisualizer.\n",
      "[Open3D INFO] WebRTC GUI backend enabled.\n",
      "[Open3D INFO] WebRTCWindowSystem: HTTP handshake server disabled.\n"
     ]
    }
   ],
   "source": [
    "\n",
    "#import libraries and frameworks\n",
    "from typing import Tuple, List\n",
    "\n",
    "import numpy as np\n",
    "import open3d as o3d\n",
    "import os\n",
    "import copy\n",
    "import numpy as np\n",
    "import matplotlib.pyplot as plt\n",
    "import exercises.tools.utils as utils\n",
    "from matplotlib import animation, rc\n",
    "import matplotlib.pyplot as plt\n",
    "from scipy.stats import multivariate_normal\n",
    "from IPython.display import display, Math, Latex, Markdown, HTML\n",
    "\n",
    "from tqdm import tqdm\n",
    "import time\n",
    "import pandas as pd\n",
    "\n",
    "%matplotlib inline"
   ]
  },
  {
   "attachments": {},
   "cell_type": "markdown",
   "metadata": {},
   "source": [
    "## NDT\n",
    "\n",
    "The normal distribution transform calculates the probability densitiy function based on the normal distribution for the points to estimatate the likelyhood of sampling a point at given area in the pointcloud, this is done piecewise by dividing the pointcloud map into a grid. that a point belongs into certain grid cell. The transformation from one pointcloud to another becomes a statistical problem and\n",
    "can now be solved using e.g.: maximum likelyhood optimization. One possibility is to use the newton alogrithm to optimize the function\n",
    "and find the transform.\n",
    "\n",
    "### Module\n",
    "In this implementation the poincloud library (https://pointclouds.org/) was used, with python bindings from (https://github.com/hummat/registration).\n",
    "The bindings were slightly adopted for our use case and the pcl110 registration library was used.\n",
    "\n",
    "The module uses mostly default parameter except the following:\n",
    "- epsilon: was chosen for 0.001 to be in line with the assignment\n",
    "- downsample: was chosen as 0.5 to speed up the transform calculation\n",
    "- voxelize: is set to 0.2 to help again with computation time\n",
    "\n",
    "The distance threshold and inlier threshold had no measerable effect on the performance when tuning it within reasonable ranges."
   ]
  },
  {
   "cell_type": "code",
   "execution_count": 2,
   "metadata": {},
   "outputs": [
    {
     "name": "stdout",
     "output_type": "stream",
     "text": [
      "Compiled C++ library was not found in the current directory. Please use `load_library` to load it from a custom directory, then ignore this message.\n"
     ]
    }
   ],
   "source": [
    "#lib wrapper for cpp registration libary slightly altered from: https://github.com/hummat/registration\n",
    "#using registration library pcl110\n",
    "\n",
    "import os\n",
    "import ctypes\n",
    "import csv\n",
    "\n",
    "import numpy as np\n",
    "\n",
    "\n",
    "def load_library(path: str = os.getcwd(), name: str = \"libregistration_pcl110\") -> None:\n",
    "    global REGLIB\n",
    "    try:\n",
    "        REGLIB = np.ctypeslib.load_library(libname=name, loader_path=path)\n",
    "        print(\"REGLIB loaded\")\n",
    "        print(REGLIB)\n",
    "    except OSError:\n",
    "        print(\"Compiled C++ library was not found in the current directory. Please use `load_library` to load it from \"\n",
    "              \"a custom directory, then ignore this message.\")\n",
    "\n",
    "\n",
    "load_library()\n",
    "\n",
    "\n",
    "def load_data(path: str, delimiter: str = ' ') -> np.ndarray:\n",
    "    \"\"\"Loads point cloud data of type `CSV`, `PLY` and `PCD`.\n",
    "\n",
    "    The file should contain one point per line where each number is separated by the `delimiter` character.\n",
    "    Any none numeric lines will be skipped.\n",
    "\n",
    "    Args:\n",
    "        path (str): The path to the file.\n",
    "        delimiter (char): Separation of numbers in each line of the file.\n",
    "\n",
    "    Returns:\n",
    "        A ndarray of shape NxD where `N` are the number of points in the point cloud and `D` their dimension.\n",
    "    \"\"\"\n",
    "    data = list()\n",
    "    with open(path, newline='\\n') as file:\n",
    "        reader = csv.reader(file, delimiter=delimiter, quoting=csv.QUOTE_NONNUMERIC)\n",
    "        lines = 0\n",
    "        skips = 0\n",
    "        while True:\n",
    "            try:\n",
    "                row = next(reader)\n",
    "                row = [x for x in row if not isinstance(x, str)]\n",
    "                if len(row) in [3, 6, 9]:\n",
    "                    data.append(row[:3])\n",
    "                else:\n",
    "                    skips += 1\n",
    "            except ValueError:\n",
    "                skips += 1\n",
    "                pass\n",
    "            except StopIteration:\n",
    "                print(f\"Found {lines} lines. Skipped {skips}. Loaded {lines - skips} points.\")\n",
    "                break\n",
    "            lines += 1\n",
    "    return np.array(data)\n",
    "\n",
    "\n",
    "def set_argtypes(algorithm, source, target):\n",
    "    \"\"\"Tells the underlying C++ code which data types and dimensions to expect.\n",
    "\n",
    "    Args:\n",
    "        algorithm (str): The registration algorithm to use. One of `icp` or `ndt`.\n",
    "        source (ndarray): The source point cloud.\n",
    "        target (ndarray): The target point cloud.\n",
    "    \"\"\"\n",
    "    REGLIB.icp.restype = ctypes.c_double\n",
    "    REGLIB.ndt.restype = ctypes.c_double\n",
    "    argtypes = [np.ctypeslib.ndpointer(dtype=np.float64, ndim=source.ndim, shape=source.shape,\n",
    "                                       flags='C_CONTIGUOUS'), ctypes.c_size_t,\n",
    "                np.ctypeslib.ndpointer(dtype=np.float64, ndim=target.ndim, shape=target.shape,\n",
    "                                       flags='C_CONTIGUOUS'), ctypes.c_size_t,\n",
    "                np.ctypeslib.ndpointer(dtype=np.float64, ndim=2, shape=(4, 4), flags='C_CONTIGUOUS'),\n",
    "                ctypes.c_int, ctypes.c_double, ctypes.c_double, ctypes.c_double, ctypes.c_double, ctypes.c_bool]\n",
    "    if algorithm == 'icp':\n",
    "        REGLIB.icp.argtypes = argtypes\n",
    "    elif algorithm == 'ndt':\n",
    "        argtypes.extend([ctypes.c_float, ctypes.c_double, ctypes.c_float])\n",
    "        REGLIB.ndt.argtypes = argtypes\n",
    "\n",
    "\n",
    "def icp(source,\n",
    "        target,\n",
    "        transformation,\n",
    "        nr_iterations=25,\n",
    "        distance_threshold=1.0,\n",
    "        epsilon=1e-6,\n",
    "        inlier_threshold=0.0005,\n",
    "        downsample=0,\n",
    "        visualize=False):\n",
    "    \"\"\"The `Iterative Closest Point` (ICP) algorithm.\n",
    "\n",
    "    Args:\n",
    "        source (ndarray): The point cloud that we want to align to the target.\n",
    "        target (ndarray): The point cloud that the source is aligned to.\n",
    "        nr_iterations (int): The maximum number of iterations the internal optimization should run for.\n",
    "        distance_threshold (float): The maximum distance threshold between two correspondent points in\n",
    "                                    source -> target. If the distance is larger than this threshold, the points will\n",
    "                                    be ignored in the alignment process.\n",
    "        epsilon (float): The transformation epsilon (maximum allowable difference between two consecutive\n",
    "                 transformations) in order for an optimization to be considered as having converged to the final\n",
    "                 solution.\n",
    "        inlier_threshold (float): The inlier distance threshold for the internal RANSAC outlier rejection loop.\n",
    "                          The method considers a point to be an inlier, if the distance between the target data\n",
    "                          index and the transformed source index is smaller than the given inlier distance\n",
    "                          threshold.\n",
    "        downsample (float): Assembles a local 3D grid over a given PointCloud and downsamples + filters the data.\n",
    "        visualize (bool): Can be used to visualize and control the progress of the algorithm.\n",
    "\n",
    "    Returns:\n",
    "        A ndarray with the final transformation matrix between source and target.\n",
    "    \"\"\"\n",
    "\n",
    " \n",
    "    \n",
    "    set_argtypes('icp', source, target)\n",
    "    score = REGLIB.icp(source, len(source), target, len(target), transformation,\n",
    "                       nr_iterations, distance_threshold, epsilon, inlier_threshold, downsample, visualize)\n",
    "    print(f\"ICP converged. Fitness score: {score:.2f}\") if score > 0 else print(\"ICP did not converge!\")\n",
    "    return transformation\n",
    "\n",
    "\n",
    "def ndt(source,\n",
    "        target,\n",
    "        nr_iterations=25,\n",
    "        distance_threshold=1.0,\n",
    "        epsilon=0.01,\n",
    "        inlier_threshold=0.05,\n",
    "        downsample=0,\n",
    "        visualize=False,\n",
    "        resolution=1.0,\n",
    "        step_size=0.1,\n",
    "        voxelize=0,\n",
    "        transformation=np.identity(4)):\n",
    "    \"\"\"The `Normal Distributions Transform` (NDT) algorithm.\n",
    "\n",
    "    Args:\n",
    "        source (ndarray): The point cloud that we want to align to the target.\n",
    "        target (ndarray): The point cloud that the source is aligned to.\n",
    "        nr_iterations (int): The maximum number of iterations the internal optimization should run for.\n",
    "        distance_threshold (float): The maximum distance threshold between two correspondent points in\n",
    "                                    source -> target. If the distance is larger than this threshold, the points will\n",
    "                                    be ignored in the alignment process.\n",
    "        epsilon (float): The transformation epsilon (maximum allowable difference between two consecutive\n",
    "                 transformations) in order for an optimization to be considered as having converged to the final\n",
    "                 solution.\n",
    "        inlier_threshold (float): The inlier distance threshold for the internal RANSAC outlier rejection loop.\n",
    "                          The method considers a point to be an inlier, if the distance between the target data\n",
    "                          index and the transformed source index is smaller than the given inlier distance\n",
    "                          threshold.\n",
    "        downsample (float): Assembles a local 3D grid over a given PointCloud and downsamples + filters the data.\n",
    "        visualize (bool): Can be used to visualize and control the progress of the algorithm.\n",
    "        resolution (float): The resolution of the voxel grid. Try increasing this in case of core dumps.\n",
    "        step_size (float): The Newton line search maximum step length.\n",
    "        voxelize (bool): If set to `True`, the source cloud is converted into a voxel model before alignment.\n",
    "\n",
    "    Returns:\n",
    "        A ndarray with the final transformation matrix between source and target.\n",
    "    \"\"\"\n",
    "\n",
    "\n",
    "    set_argtypes('ndt', source, target)\n",
    "    score = REGLIB.ndt(source, len(source), target, len(target), transformation,\n",
    "                  nr_iterations, distance_threshold, epsilon, inlier_threshold, downsample, visualize,\n",
    "                  resolution, step_size, voxelize)\n",
    "    #print(f\"NDT converged. Fitness score: {score:.2f}\") if score > 0 else print(\"NDT did not converge!\")\n",
    "    return transformation, score"
   ]
  },
  {
   "cell_type": "code",
   "execution_count": 3,
   "metadata": {},
   "outputs": [],
   "source": [
    "#implementation of voxel filter using open3d to downsample points\n",
    "def voxel_downsample(points, voxel_size):\n",
    "\n",
    "    pcd = o3d.geometry.PointCloud()\n",
    "    pcd.points = o3d.utility.Vector3dVector(points)\n",
    "\n",
    "\n",
    "    frame_cloud_downsampled = pcd.voxel_down_sample(voxel_size)\n",
    "\n",
    "    return np.array(frame_cloud_downsampled.points)"
   ]
  },
  {
   "cell_type": "code",
   "execution_count": 7,
   "metadata": {},
   "outputs": [
    {
     "name": "stdout",
     "output_type": "stream",
     "text": [
      "Found 143960 lines. Skipped 11. Loaded 143949 points.\n",
      "REGLIB loaded\n",
      "<CDLL '/app/libregistration_pcl110.so', handle 5503cf0 at 0x7f401a49a340>\n"
     ]
    }
   ],
   "source": [
    "#Load source frames, target map and ground truth\n",
    "frames_dir = \"/app/dataset/frames\"\n",
    "frame_files = os.listdir(frames_dir)\n",
    "#frames = [o3d.io.read_point_cloud(os.path.join(frames_dir, f)) for f in frame_files]\n",
    "\n",
    "\n",
    "#load ground truth csv as pandas dataframe\n",
    "g_df = pd.read_csv(\"/app/dataset/ground_truth.csv\")\n",
    "samples = len(frame_files)\n",
    "\n",
    "\n",
    "#Load target map points\n",
    "target_points = load_data(\"/app/dataset/map.pcd\")\n",
    "load_library(\"app/libregistration_pcl110.so\")"
   ]
  },
  {
   "attachments": {},
   "cell_type": "markdown",
   "metadata": {},
   "source": [
    "## ICP localization ##"
   ]
  },
  {
   "cell_type": "code",
   "execution_count": 8,
   "metadata": {},
   "outputs": [
    {
     "name": "stderr",
     "output_type": "stream",
     "text": [
      "  0%|          | 0/1014 [00:00<?, ?it/s]"
     ]
    },
    {
     "name": "stdout",
     "output_type": "stream",
     "text": [
      "Found 9104 lines. Skipped 11. Loaded 9093 points.\n"
     ]
    },
    {
     "name": "stderr",
     "output_type": "stream",
     "text": [
      "  0%|          | 1/1014 [00:05<1:32:47,  5.50s/it]"
     ]
    },
    {
     "name": "stdout",
     "output_type": "stream",
     "text": [
      "ICP converged. Fitness score: 0.08\n",
      "Frame : 0\n",
      "Error--------: 0.0\n",
      "Found 22369 lines. Skipped 11. Loaded 22358 points.\n"
     ]
    },
    {
     "name": "stderr",
     "output_type": "stream",
     "text": [
      "  0%|          | 2/1014 [00:06<51:59,  3.08s/it]  "
     ]
    },
    {
     "name": "stdout",
     "output_type": "stream",
     "text": [
      "ICP converged. Fitness score: 0.04\n",
      "Frame : 1\n",
      "Error--------: 0.01890081407239171\n",
      "Found 13580 lines. Skipped 11. Loaded 13569 points.\n"
     ]
    },
    {
     "name": "stderr",
     "output_type": "stream",
     "text": [
      "  0%|          | 3/1014 [00:07<35:23,  2.10s/it]"
     ]
    },
    {
     "name": "stdout",
     "output_type": "stream",
     "text": [
      "ICP converged. Fitness score: 0.08\n",
      "Frame : 2\n",
      "Error--------: 0.0092898673609281\n",
      "Found 14875 lines. Skipped 11. Loaded 14864 points.\n"
     ]
    },
    {
     "name": "stderr",
     "output_type": "stream",
     "text": [
      "  0%|          | 4/1014 [00:08<28:10,  1.67s/it]"
     ]
    },
    {
     "name": "stdout",
     "output_type": "stream",
     "text": [
      "ICP converged. Fitness score: 3.53\n",
      "Frame : 3\n",
      "Error--------: 0.02659986747171757\n",
      "Found 13437 lines. Skipped 11. Loaded 13426 points.\n"
     ]
    },
    {
     "name": "stderr",
     "output_type": "stream",
     "text": [
      "  0%|          | 5/1014 [00:09<23:33,  1.40s/it]"
     ]
    },
    {
     "name": "stdout",
     "output_type": "stream",
     "text": [
      "ICP converged. Fitness score: 4.46\n",
      "Frame : 4\n",
      "Error--------: 0.018185463925900203\n",
      "Found 12078 lines. Skipped 11. Loaded 12067 points.\n"
     ]
    },
    {
     "name": "stderr",
     "output_type": "stream",
     "text": [
      "  1%|          | 6/1014 [00:10<19:58,  1.19s/it]"
     ]
    },
    {
     "name": "stdout",
     "output_type": "stream",
     "text": [
      "ICP converged. Fitness score: 3.85\n",
      "Frame : 5\n",
      "Error--------: 0.1229446535336768\n",
      "Found 12213 lines. Skipped 11. Loaded 12202 points.\n"
     ]
    },
    {
     "name": "stderr",
     "output_type": "stream",
     "text": [
      "  1%|          | 7/1014 [00:11<18:08,  1.08s/it]"
     ]
    },
    {
     "name": "stdout",
     "output_type": "stream",
     "text": [
      "ICP converged. Fitness score: 3.75\n",
      "Frame : 6\n",
      "Error--------: 0.06342961803854166\n",
      "Found 10780 lines. Skipped 11. Loaded 10769 points.\n"
     ]
    },
    {
     "name": "stderr",
     "output_type": "stream",
     "text": [
      "  1%|          | 8/1014 [00:12<16:37,  1.01it/s]"
     ]
    },
    {
     "name": "stdout",
     "output_type": "stream",
     "text": [
      "ICP converged. Fitness score: 3.70\n",
      "Frame : 7\n",
      "Error--------: 0.0966967728096405\n",
      "Found 11521 lines. Skipped 11. Loaded 11510 points.\n"
     ]
    },
    {
     "name": "stderr",
     "output_type": "stream",
     "text": [
      "  1%|          | 9/1014 [00:12<15:26,  1.08it/s]"
     ]
    },
    {
     "name": "stdout",
     "output_type": "stream",
     "text": [
      "ICP converged. Fitness score: 3.89\n",
      "Frame : 8\n",
      "Error--------: 0.08473810904300415\n",
      "Found 11323 lines. Skipped 11. Loaded 11312 points.\n"
     ]
    },
    {
     "name": "stderr",
     "output_type": "stream",
     "text": [
      "  1%|          | 10/1014 [00:13<14:44,  1.14it/s]"
     ]
    },
    {
     "name": "stdout",
     "output_type": "stream",
     "text": [
      "ICP converged. Fitness score: 4.49\n",
      "Frame : 9\n",
      "Error--------: 0.07848125016278183\n",
      "Found 12519 lines. Skipped 11. Loaded 12508 points.\n"
     ]
    },
    {
     "name": "stderr",
     "output_type": "stream",
     "text": [
      "  1%|          | 11/1014 [00:14<14:19,  1.17it/s]"
     ]
    },
    {
     "name": "stdout",
     "output_type": "stream",
     "text": [
      "ICP converged. Fitness score: 4.11\n",
      "Frame : 10\n",
      "Error--------: 0.13092031571066295\n",
      "Found 11332 lines. Skipped 11. Loaded 11321 points.\n"
     ]
    },
    {
     "name": "stderr",
     "output_type": "stream",
     "text": [
      "  1%|          | 12/1014 [00:15<14:24,  1.16it/s]"
     ]
    },
    {
     "name": "stdout",
     "output_type": "stream",
     "text": [
      "ICP converged. Fitness score: 4.14\n",
      "Frame : 11\n",
      "Error--------: 0.0423285892748977\n",
      "Found 11999 lines. Skipped 11. Loaded 11988 points.\n"
     ]
    },
    {
     "name": "stderr",
     "output_type": "stream",
     "text": [
      "  1%|▏         | 13/1014 [00:16<14:11,  1.18it/s]"
     ]
    },
    {
     "name": "stdout",
     "output_type": "stream",
     "text": [
      "ICP converged. Fitness score: 4.01\n",
      "Frame : 12\n",
      "Error--------: 0.058893684419099236\n",
      "Found 11487 lines. Skipped 11. Loaded 11476 points.\n"
     ]
    },
    {
     "name": "stderr",
     "output_type": "stream",
     "text": [
      "  1%|▏         | 14/1014 [00:17<14:05,  1.18it/s]"
     ]
    },
    {
     "name": "stdout",
     "output_type": "stream",
     "text": [
      "ICP converged. Fitness score: 4.70\n",
      "Frame : 13\n",
      "Error--------: 0.15456542199226142\n",
      "Found 13062 lines. Skipped 11. Loaded 13051 points.\n"
     ]
    },
    {
     "name": "stderr",
     "output_type": "stream",
     "text": [
      "  1%|▏         | 15/1014 [00:18<14:59,  1.11it/s]"
     ]
    },
    {
     "name": "stdout",
     "output_type": "stream",
     "text": [
      "ICP converged. Fitness score: 3.08\n",
      "Frame : 14\n",
      "Error--------: 0.09729007006770576\n",
      "Found 11923 lines. Skipped 11. Loaded 11912 points.\n"
     ]
    },
    {
     "name": "stderr",
     "output_type": "stream",
     "text": [
      "  2%|▏         | 16/1014 [00:18<14:24,  1.15it/s]"
     ]
    },
    {
     "name": "stdout",
     "output_type": "stream",
     "text": [
      "ICP converged. Fitness score: 3.98\n",
      "Frame : 15\n",
      "Error--------: 0.1580850690224763\n",
      "Found 11804 lines. Skipped 11. Loaded 11793 points.\n"
     ]
    },
    {
     "name": "stderr",
     "output_type": "stream",
     "text": [
      "  2%|▏         | 17/1014 [00:19<13:44,  1.21it/s]"
     ]
    },
    {
     "name": "stdout",
     "output_type": "stream",
     "text": [
      "ICP converged. Fitness score: 3.66\n",
      "Frame : 16\n",
      "Error--------: 0.15498815957361342\n",
      "Found 11804 lines. Skipped 11. Loaded 11793 points.\n"
     ]
    },
    {
     "name": "stderr",
     "output_type": "stream",
     "text": [
      "  2%|▏         | 18/1014 [00:20<13:48,  1.20it/s]"
     ]
    },
    {
     "name": "stdout",
     "output_type": "stream",
     "text": [
      "ICP converged. Fitness score: 3.77\n",
      "Frame : 17\n",
      "Error--------: 0.1556270157037038\n",
      "Found 10730 lines. Skipped 11. Loaded 10719 points.\n"
     ]
    },
    {
     "name": "stderr",
     "output_type": "stream",
     "text": [
      "  2%|▏         | 19/1014 [00:21<13:18,  1.25it/s]"
     ]
    },
    {
     "name": "stdout",
     "output_type": "stream",
     "text": [
      "ICP converged. Fitness score: 3.60\n",
      "Frame : 18\n",
      "Error--------: 0.2026889259117043\n",
      "Found 16046 lines. Skipped 11. Loaded 16035 points.\n"
     ]
    },
    {
     "name": "stderr",
     "output_type": "stream",
     "text": [
      "  2%|▏         | 20/1014 [00:22<14:28,  1.14it/s]"
     ]
    },
    {
     "name": "stdout",
     "output_type": "stream",
     "text": [
      "ICP converged. Fitness score: 4.05\n",
      "Frame : 19\n",
      "Error--------: 0.2804195226278704\n",
      "Found 16149 lines. Skipped 11. Loaded 16138 points.\n"
     ]
    },
    {
     "name": "stderr",
     "output_type": "stream",
     "text": [
      "  2%|▏         | 21/1014 [00:23<15:12,  1.09it/s]"
     ]
    },
    {
     "name": "stdout",
     "output_type": "stream",
     "text": [
      "ICP converged. Fitness score: 3.41\n",
      "Frame : 20\n",
      "Error--------: 0.2756527588649378\n",
      "Found 15852 lines. Skipped 11. Loaded 15841 points.\n"
     ]
    },
    {
     "name": "stderr",
     "output_type": "stream",
     "text": [
      "  2%|▏         | 22/1014 [00:24<15:47,  1.05it/s]"
     ]
    },
    {
     "name": "stdout",
     "output_type": "stream",
     "text": [
      "ICP converged. Fitness score: 3.97\n",
      "Frame : 21\n",
      "Error--------: 0.26949727417158814\n",
      "Found 16484 lines. Skipped 11. Loaded 16473 points.\n"
     ]
    },
    {
     "name": "stderr",
     "output_type": "stream",
     "text": [
      "  2%|▏         | 23/1014 [00:25<15:20,  1.08it/s]"
     ]
    },
    {
     "name": "stdout",
     "output_type": "stream",
     "text": [
      "ICP converged. Fitness score: 3.46\n",
      "Frame : 22\n",
      "Error--------: 0.26830402682150356\n",
      "Found 18240 lines. Skipped 11. Loaded 18229 points.\n"
     ]
    },
    {
     "name": "stderr",
     "output_type": "stream",
     "text": [
      "  2%|▏         | 24/1014 [00:26<15:16,  1.08it/s]"
     ]
    },
    {
     "name": "stdout",
     "output_type": "stream",
     "text": [
      "ICP converged. Fitness score: 4.07\n",
      "Frame : 23\n",
      "Error--------: 0.2671883332385156\n",
      "Found 16422 lines. Skipped 11. Loaded 16411 points.\n"
     ]
    },
    {
     "name": "stderr",
     "output_type": "stream",
     "text": [
      "  2%|▏         | 25/1014 [00:27<15:58,  1.03it/s]"
     ]
    },
    {
     "name": "stdout",
     "output_type": "stream",
     "text": [
      "ICP converged. Fitness score: 3.25\n",
      "Frame : 24\n",
      "Error--------: 0.2730916989078778\n",
      "Found 15566 lines. Skipped 11. Loaded 15555 points.\n"
     ]
    },
    {
     "name": "stderr",
     "output_type": "stream",
     "text": [
      "  3%|▎         | 26/1014 [00:28<16:34,  1.01s/it]"
     ]
    },
    {
     "name": "stdout",
     "output_type": "stream",
     "text": [
      "ICP converged. Fitness score: 4.05\n",
      "Frame : 25\n",
      "Error--------: 0.27909954325203495\n",
      "Found 13851 lines. Skipped 11. Loaded 13840 points.\n"
     ]
    },
    {
     "name": "stderr",
     "output_type": "stream",
     "text": [
      "  3%|▎         | 27/1014 [00:29<17:02,  1.04s/it]"
     ]
    },
    {
     "name": "stdout",
     "output_type": "stream",
     "text": [
      "ICP converged. Fitness score: 3.34\n",
      "Frame : 26\n",
      "Error--------: 0.3063009225599\n",
      "Found 14605 lines. Skipped 11. Loaded 14594 points.\n"
     ]
    },
    {
     "name": "stderr",
     "output_type": "stream",
     "text": [
      "  3%|▎         | 28/1014 [00:30<15:50,  1.04it/s]"
     ]
    },
    {
     "name": "stdout",
     "output_type": "stream",
     "text": [
      "ICP converged. Fitness score: 0.14\n",
      "Frame : 27\n",
      "Error--------: 0.45200266093770974\n",
      "Found 15435 lines. Skipped 11. Loaded 15424 points.\n"
     ]
    },
    {
     "name": "stderr",
     "output_type": "stream",
     "text": [
      "  3%|▎         | 29/1014 [00:31<16:38,  1.01s/it]"
     ]
    },
    {
     "name": "stdout",
     "output_type": "stream",
     "text": [
      "ICP converged. Fitness score: 3.55\n",
      "Frame : 28\n",
      "Error--------: 0.5853583352136696\n",
      "Found 14626 lines. Skipped 11. Loaded 14615 points.\n"
     ]
    },
    {
     "name": "stderr",
     "output_type": "stream",
     "text": [
      "  3%|▎         | 30/1014 [00:32<17:29,  1.07s/it]"
     ]
    },
    {
     "name": "stdout",
     "output_type": "stream",
     "text": [
      "ICP converged. Fitness score: 3.58\n",
      "Frame : 29\n",
      "Error--------: 0.7092241817547509\n",
      "Found 14782 lines. Skipped 11. Loaded 14771 points.\n"
     ]
    },
    {
     "name": "stderr",
     "output_type": "stream",
     "text": [
      "  3%|▎         | 31/1014 [00:33<16:22,  1.00it/s]"
     ]
    },
    {
     "name": "stdout",
     "output_type": "stream",
     "text": [
      "ICP converged. Fitness score: 3.63\n",
      "Frame : 30\n",
      "Error--------: 0.886628298650642\n",
      "Found 16010 lines. Skipped 11. Loaded 15999 points.\n"
     ]
    },
    {
     "name": "stderr",
     "output_type": "stream",
     "text": [
      "  3%|▎         | 32/1014 [00:34<15:59,  1.02it/s]"
     ]
    },
    {
     "name": "stdout",
     "output_type": "stream",
     "text": [
      "ICP converged. Fitness score: 3.71\n",
      "Frame : 31\n",
      "Error--------: 1.0392839349105427\n",
      "Found 14755 lines. Skipped 11. Loaded 14744 points.\n"
     ]
    },
    {
     "name": "stderr",
     "output_type": "stream",
     "text": [
      "  3%|▎         | 33/1014 [00:35<15:46,  1.04it/s]"
     ]
    },
    {
     "name": "stdout",
     "output_type": "stream",
     "text": [
      "ICP converged. Fitness score: 3.42\n",
      "Frame : 32\n",
      "Error--------: 1.2109776413580582\n",
      "Latent error above the threshold of 1.2\n",
      "Found 11721 lines. Skipped 11. Loaded 11710 points.\n"
     ]
    },
    {
     "name": "stderr",
     "output_type": "stream",
     "text": [
      "  3%|▎         | 34/1014 [00:36<15:39,  1.04it/s]"
     ]
    },
    {
     "name": "stdout",
     "output_type": "stream",
     "text": [
      "ICP converged. Fitness score: 3.29\n",
      "Frame : 33\n",
      "Error--------: 1.375793526817709\n",
      "Latent error above the threshold of 1.2\n",
      "Found 12931 lines. Skipped 11. Loaded 12920 points.\n"
     ]
    },
    {
     "name": "stderr",
     "output_type": "stream",
     "text": [
      "  3%|▎         | 35/1014 [00:36<15:02,  1.08it/s]"
     ]
    },
    {
     "name": "stdout",
     "output_type": "stream",
     "text": [
      "ICP converged. Fitness score: 3.38\n",
      "Frame : 34\n",
      "Error--------: 1.5456864618591897\n",
      "Latent error above the threshold of 1.2\n",
      "Found 15417 lines. Skipped 11. Loaded 15406 points.\n"
     ]
    },
    {
     "name": "stderr",
     "output_type": "stream",
     "text": [
      "  4%|▎         | 36/1014 [00:38<15:37,  1.04it/s]"
     ]
    },
    {
     "name": "stdout",
     "output_type": "stream",
     "text": [
      "ICP converged. Fitness score: 3.87\n",
      "Frame : 35\n",
      "Error--------: 1.731561920098904\n",
      "Latent error above the threshold of 1.2\n",
      "Found 16287 lines. Skipped 11. Loaded 16276 points.\n"
     ]
    },
    {
     "name": "stderr",
     "output_type": "stream",
     "text": [
      "  4%|▎         | 37/1014 [00:38<15:01,  1.08it/s]"
     ]
    },
    {
     "name": "stdout",
     "output_type": "stream",
     "text": [
      "ICP converged. Fitness score: 3.39\n",
      "Frame : 36\n",
      "Error--------: 1.952790191268574\n",
      "Latent error above the threshold of 1.2\n",
      "Found 15842 lines. Skipped 11. Loaded 15831 points.\n"
     ]
    },
    {
     "name": "stderr",
     "output_type": "stream",
     "text": [
      "  4%|▎         | 38/1014 [00:39<15:47,  1.03it/s]"
     ]
    },
    {
     "name": "stdout",
     "output_type": "stream",
     "text": [
      "ICP converged. Fitness score: 3.60\n",
      "Frame : 37\n",
      "Error--------: 2.1797240057486453\n",
      "Latent error above the threshold of 1.2\n",
      "Found 11575 lines. Skipped 11. Loaded 11564 points.\n"
     ]
    },
    {
     "name": "stderr",
     "output_type": "stream",
     "text": [
      "  4%|▍         | 39/1014 [00:40<14:22,  1.13it/s]"
     ]
    },
    {
     "name": "stdout",
     "output_type": "stream",
     "text": [
      "ICP converged. Fitness score: 0.22\n",
      "Frame : 38\n",
      "Error--------: 2.416343992130653\n",
      "Latent error above the threshold of 1.2\n",
      "Found 14505 lines. Skipped 11. Loaded 14494 points.\n"
     ]
    },
    {
     "name": "stderr",
     "output_type": "stream",
     "text": [
      "  4%|▍         | 40/1014 [00:41<15:04,  1.08it/s]"
     ]
    },
    {
     "name": "stdout",
     "output_type": "stream",
     "text": [
      "ICP converged. Fitness score: 3.53\n",
      "Frame : 39\n",
      "Error--------: 2.631838296498869\n",
      "Latent error above the threshold of 1.2\n",
      "Found 13154 lines. Skipped 11. Loaded 13143 points.\n"
     ]
    },
    {
     "name": "stderr",
     "output_type": "stream",
     "text": [
      "  4%|▍         | 41/1014 [00:42<14:49,  1.09it/s]"
     ]
    },
    {
     "name": "stdout",
     "output_type": "stream",
     "text": [
      "ICP converged. Fitness score: 3.36\n",
      "Frame : 40\n",
      "Error--------: 2.7147987480520133\n",
      "Latent error above the threshold of 1.2\n",
      "Found 15734 lines. Skipped 11. Loaded 15723 points.\n"
     ]
    },
    {
     "name": "stderr",
     "output_type": "stream",
     "text": [
      "  4%|▍         | 42/1014 [00:43<15:21,  1.05it/s]"
     ]
    },
    {
     "name": "stdout",
     "output_type": "stream",
     "text": [
      "ICP converged. Fitness score: 3.59\n",
      "Frame : 41\n",
      "Error--------: 2.8266733029571434\n",
      "Latent error above the threshold of 1.2\n",
      "Found 16223 lines. Skipped 11. Loaded 16212 points.\n"
     ]
    },
    {
     "name": "stderr",
     "output_type": "stream",
     "text": [
      "  4%|▍         | 43/1014 [00:44<14:43,  1.10it/s]"
     ]
    },
    {
     "name": "stdout",
     "output_type": "stream",
     "text": [
      "ICP converged. Fitness score: 3.47\n",
      "Frame : 42\n",
      "Error--------: 2.965331421072544\n",
      "Latent error above the threshold of 1.2\n",
      "Found 14746 lines. Skipped 11. Loaded 14735 points.\n"
     ]
    },
    {
     "name": "stderr",
     "output_type": "stream",
     "text": [
      "  4%|▍         | 44/1014 [00:45<15:34,  1.04it/s]"
     ]
    },
    {
     "name": "stdout",
     "output_type": "stream",
     "text": [
      "ICP converged. Fitness score: 3.70\n",
      "Frame : 43\n",
      "Error--------: 3.1451336463625665\n",
      "Latent error above the threshold of 1.2\n",
      "Found 13638 lines. Skipped 11. Loaded 13627 points.\n"
     ]
    },
    {
     "name": "stderr",
     "output_type": "stream",
     "text": [
      "  4%|▍         | 45/1014 [00:46<14:15,  1.13it/s]"
     ]
    },
    {
     "name": "stdout",
     "output_type": "stream",
     "text": [
      "ICP converged. Fitness score: 3.08\n",
      "Frame : 44\n",
      "Error--------: 3.2830809058355466\n",
      "Latent error above the threshold of 1.2\n",
      "Found 12418 lines. Skipped 11. Loaded 12407 points.\n"
     ]
    },
    {
     "name": "stderr",
     "output_type": "stream",
     "text": [
      "  5%|▍         | 46/1014 [00:47<14:29,  1.11it/s]"
     ]
    },
    {
     "name": "stdout",
     "output_type": "stream",
     "text": [
      "ICP converged. Fitness score: 3.36\n",
      "Frame : 45\n",
      "Error--------: 3.3932888525838556\n",
      "Latent error above the threshold of 1.2\n",
      "Found 14105 lines. Skipped 11. Loaded 14094 points.\n"
     ]
    },
    {
     "name": "stderr",
     "output_type": "stream",
     "text": [
      "  5%|▍         | 47/1014 [00:47<13:36,  1.19it/s]"
     ]
    },
    {
     "name": "stdout",
     "output_type": "stream",
     "text": [
      "ICP converged. Fitness score: 3.29\n",
      "Frame : 46\n",
      "Error--------: 3.6266260563421007\n",
      "Latent error above the threshold of 1.2\n",
      "Found 14645 lines. Skipped 11. Loaded 14634 points.\n"
     ]
    },
    {
     "name": "stderr",
     "output_type": "stream",
     "text": [
      "  5%|▍         | 48/1014 [00:48<14:47,  1.09it/s]"
     ]
    },
    {
     "name": "stdout",
     "output_type": "stream",
     "text": [
      "ICP converged. Fitness score: 3.61\n",
      "Frame : 47\n",
      "Error--------: 3.7463543787402607\n",
      "Latent error above the threshold of 1.2\n",
      "Found 14581 lines. Skipped 11. Loaded 14570 points.\n"
     ]
    },
    {
     "name": "stderr",
     "output_type": "stream",
     "text": [
      "  5%|▍         | 49/1014 [00:49<14:53,  1.08it/s]"
     ]
    },
    {
     "name": "stdout",
     "output_type": "stream",
     "text": [
      "ICP converged. Fitness score: 3.40\n",
      "Frame : 48\n",
      "Error--------: 3.9388206361819993\n",
      "Latent error above the threshold of 1.2\n",
      "Found 12432 lines. Skipped 11. Loaded 12421 points.\n"
     ]
    },
    {
     "name": "stderr",
     "output_type": "stream",
     "text": [
      "  5%|▍         | 50/1014 [00:50<15:00,  1.07it/s]"
     ]
    },
    {
     "name": "stdout",
     "output_type": "stream",
     "text": [
      "ICP converged. Fitness score: 0.18\n",
      "Frame : 49\n",
      "Error--------: 4.124704512296669\n",
      "Latent error above the threshold of 1.2\n",
      "Found 17248 lines. Skipped 11. Loaded 17237 points.\n"
     ]
    },
    {
     "name": "stderr",
     "output_type": "stream",
     "text": [
      "  5%|▌         | 51/1014 [00:51<14:37,  1.10it/s]"
     ]
    },
    {
     "name": "stdout",
     "output_type": "stream",
     "text": [
      "ICP converged. Fitness score: 3.58\n",
      "Frame : 50\n",
      "Error--------: 4.336832738453136\n",
      "Latent error above the threshold of 1.2\n",
      "Found 13745 lines. Skipped 11. Loaded 13734 points.\n"
     ]
    },
    {
     "name": "stderr",
     "output_type": "stream",
     "text": [
      "  5%|▌         | 52/1014 [00:52<15:23,  1.04it/s]"
     ]
    },
    {
     "name": "stdout",
     "output_type": "stream",
     "text": [
      "ICP converged. Fitness score: 3.61\n",
      "Frame : 51\n",
      "Error--------: 4.452655427201233\n",
      "Latent error above the threshold of 1.2\n",
      "Found 14045 lines. Skipped 11. Loaded 14034 points.\n"
     ]
    },
    {
     "name": "stderr",
     "output_type": "stream",
     "text": [
      "  5%|▌         | 53/1014 [00:53<16:34,  1.03s/it]"
     ]
    },
    {
     "name": "stdout",
     "output_type": "stream",
     "text": [
      "ICP converged. Fitness score: 3.44\n",
      "Frame : 52\n",
      "Error--------: 4.597587955577807\n",
      "Latent error above the threshold of 1.2\n",
      "Found 14978 lines. Skipped 11. Loaded 14967 points.\n"
     ]
    },
    {
     "name": "stderr",
     "output_type": "stream",
     "text": [
      "  5%|▌         | 54/1014 [00:55<17:37,  1.10s/it]"
     ]
    },
    {
     "name": "stdout",
     "output_type": "stream",
     "text": [
      "ICP converged. Fitness score: 4.12\n",
      "Frame : 53\n",
      "Error--------: 4.7528615304521\n",
      "Latent error above the threshold of 1.2\n",
      "Found 11722 lines. Skipped 11. Loaded 11711 points.\n"
     ]
    },
    {
     "name": "stderr",
     "output_type": "stream",
     "text": [
      "  5%|▌         | 55/1014 [00:56<17:18,  1.08s/it]"
     ]
    },
    {
     "name": "stdout",
     "output_type": "stream",
     "text": [
      "ICP converged. Fitness score: 3.53\n",
      "Frame : 54\n",
      "Error--------: 4.8340922671285105\n",
      "Latent error above the threshold of 1.2\n",
      "Found 11722 lines. Skipped 11. Loaded 11711 points.\n"
     ]
    },
    {
     "name": "stderr",
     "output_type": "stream",
     "text": [
      "  6%|▌         | 56/1014 [00:57<16:28,  1.03s/it]"
     ]
    },
    {
     "name": "stdout",
     "output_type": "stream",
     "text": [
      "ICP converged. Fitness score: 3.82\n",
      "Frame : 55\n",
      "Error--------: 4.790394660413732\n",
      "Latent error above the threshold of 1.2\n",
      "Found 14121 lines. Skipped 11. Loaded 14110 points.\n"
     ]
    },
    {
     "name": "stderr",
     "output_type": "stream",
     "text": [
      "  6%|▌         | 57/1014 [00:58<15:59,  1.00s/it]"
     ]
    },
    {
     "name": "stdout",
     "output_type": "stream",
     "text": [
      "ICP converged. Fitness score: 3.69\n",
      "Frame : 56\n",
      "Error--------: 4.84586762728457\n",
      "Latent error above the threshold of 1.2\n",
      "Found 13798 lines. Skipped 11. Loaded 13787 points.\n"
     ]
    },
    {
     "name": "stderr",
     "output_type": "stream",
     "text": [
      "  6%|▌         | 58/1014 [00:59<15:47,  1.01it/s]"
     ]
    },
    {
     "name": "stdout",
     "output_type": "stream",
     "text": [
      "ICP converged. Fitness score: 4.03\n",
      "Frame : 57\n",
      "Error--------: 4.9554673518916985\n",
      "Latent error above the threshold of 1.2\n",
      "Found 13798 lines. Skipped 11. Loaded 13787 points.\n"
     ]
    },
    {
     "name": "stderr",
     "output_type": "stream",
     "text": [
      "  6%|▌         | 59/1014 [01:00<15:33,  1.02it/s]"
     ]
    },
    {
     "name": "stdout",
     "output_type": "stream",
     "text": [
      "ICP converged. Fitness score: 3.74\n",
      "Frame : 58\n",
      "Error--------: 5.028764209782674\n",
      "Latent error above the threshold of 1.2\n",
      "Found 16017 lines. Skipped 11. Loaded 16006 points.\n"
     ]
    },
    {
     "name": "stderr",
     "output_type": "stream",
     "text": [
      "  6%|▌         | 60/1014 [01:01<17:16,  1.09s/it]"
     ]
    },
    {
     "name": "stdout",
     "output_type": "stream",
     "text": [
      "ICP converged. Fitness score: 4.40\n",
      "Frame : 59\n",
      "Error--------: 5.168537985732499\n",
      "Latent error above the threshold of 1.2\n",
      "Found 13782 lines. Skipped 11. Loaded 13771 points.\n"
     ]
    },
    {
     "name": "stderr",
     "output_type": "stream",
     "text": [
      "  6%|▌         | 61/1014 [01:02<17:44,  1.12s/it]"
     ]
    },
    {
     "name": "stdout",
     "output_type": "stream",
     "text": [
      "ICP converged. Fitness score: 0.33\n",
      "Frame : 60\n",
      "Error--------: 6.309221425691756\n",
      "Latent error above the threshold of 1.2\n",
      "Found 14908 lines. Skipped 11. Loaded 14897 points.\n"
     ]
    },
    {
     "name": "stderr",
     "output_type": "stream",
     "text": [
      "  6%|▌         | 62/1014 [01:03<17:34,  1.11s/it]"
     ]
    },
    {
     "name": "stdout",
     "output_type": "stream",
     "text": [
      "ICP converged. Fitness score: 4.01\n",
      "Frame : 61\n",
      "Error--------: 6.239686882575746\n",
      "Latent error above the threshold of 1.2\n",
      "Found 16244 lines. Skipped 11. Loaded 16233 points.\n"
     ]
    },
    {
     "name": "stderr",
     "output_type": "stream",
     "text": [
      "  6%|▌         | 63/1014 [01:04<16:47,  1.06s/it]"
     ]
    },
    {
     "name": "stdout",
     "output_type": "stream",
     "text": [
      "ICP converged. Fitness score: 4.27\n",
      "Frame : 62\n",
      "Error--------: 6.155595158813052\n",
      "Latent error above the threshold of 1.2\n",
      "Found 14245 lines. Skipped 11. Loaded 14234 points.\n"
     ]
    },
    {
     "name": "stderr",
     "output_type": "stream",
     "text": [
      "  6%|▋         | 64/1014 [01:05<16:26,  1.04s/it]"
     ]
    },
    {
     "name": "stdout",
     "output_type": "stream",
     "text": [
      "ICP converged. Fitness score: 3.86\n",
      "Frame : 63\n",
      "Error--------: 6.32814076326352\n",
      "Latent error above the threshold of 1.2\n",
      "Found 15750 lines. Skipped 11. Loaded 15739 points.\n"
     ]
    },
    {
     "name": "stderr",
     "output_type": "stream",
     "text": [
      "  6%|▋         | 65/1014 [01:06<15:21,  1.03it/s]"
     ]
    },
    {
     "name": "stdout",
     "output_type": "stream",
     "text": [
      "ICP converged. Fitness score: 3.72\n",
      "Frame : 64\n",
      "Error--------: 6.492118521328143\n",
      "Latent error above the threshold of 1.2\n",
      "Found 13906 lines. Skipped 11. Loaded 13895 points.\n"
     ]
    },
    {
     "name": "stderr",
     "output_type": "stream",
     "text": [
      "  7%|▋         | 66/1014 [01:07<15:15,  1.04it/s]"
     ]
    },
    {
     "name": "stdout",
     "output_type": "stream",
     "text": [
      "ICP converged. Fitness score: 3.92\n",
      "Frame : 65\n",
      "Error--------: 6.620065822641371\n",
      "Latent error above the threshold of 1.2\n",
      "Found 15334 lines. Skipped 11. Loaded 15323 points.\n"
     ]
    },
    {
     "name": "stderr",
     "output_type": "stream",
     "text": [
      "  7%|▋         | 67/1014 [01:08<15:55,  1.01s/it]"
     ]
    },
    {
     "name": "stdout",
     "output_type": "stream",
     "text": [
      "ICP converged. Fitness score: 4.05\n",
      "Frame : 66\n",
      "Error--------: 6.774082567182295\n",
      "Latent error above the threshold of 1.2\n",
      "Found 16065 lines. Skipped 11. Loaded 16054 points.\n"
     ]
    },
    {
     "name": "stderr",
     "output_type": "stream",
     "text": [
      "  7%|▋         | 68/1014 [01:09<16:10,  1.03s/it]"
     ]
    },
    {
     "name": "stdout",
     "output_type": "stream",
     "text": [
      "ICP converged. Fitness score: 4.54\n",
      "Frame : 67\n",
      "Error--------: 6.951159359140921\n",
      "Latent error above the threshold of 1.2\n",
      "Found 13765 lines. Skipped 11. Loaded 13754 points.\n"
     ]
    },
    {
     "name": "stderr",
     "output_type": "stream",
     "text": [
      "  7%|▋         | 69/1014 [01:10<15:48,  1.00s/it]"
     ]
    },
    {
     "name": "stdout",
     "output_type": "stream",
     "text": [
      "ICP converged. Fitness score: 4.17\n",
      "Frame : 68\n",
      "Error--------: 7.072506928212738\n",
      "Latent error above the threshold of 1.2\n",
      "Found 18335 lines. Skipped 11. Loaded 18324 points.\n"
     ]
    },
    {
     "name": "stderr",
     "output_type": "stream",
     "text": [
      "  7%|▋         | 70/1014 [01:11<15:34,  1.01it/s]"
     ]
    },
    {
     "name": "stdout",
     "output_type": "stream",
     "text": [
      "ICP converged. Fitness score: 4.76\n",
      "Frame : 69\n",
      "Error--------: 7.245642070339398\n",
      "Latent error above the threshold of 1.2\n",
      "Found 12004 lines. Skipped 11. Loaded 11993 points.\n"
     ]
    },
    {
     "name": "stderr",
     "output_type": "stream",
     "text": [
      "  7%|▋         | 71/1014 [01:12<14:46,  1.06it/s]"
     ]
    },
    {
     "name": "stdout",
     "output_type": "stream",
     "text": [
      "ICP converged. Fitness score: 3.86\n",
      "Frame : 70\n",
      "Error--------: 7.368803076901594\n",
      "Latent error above the threshold of 1.2\n",
      "Found 14850 lines. Skipped 11. Loaded 14839 points.\n"
     ]
    },
    {
     "name": "stderr",
     "output_type": "stream",
     "text": [
      "  7%|▋         | 72/1014 [01:12<13:12,  1.19it/s]"
     ]
    },
    {
     "name": "stdout",
     "output_type": "stream",
     "text": [
      "ICP converged. Fitness score: 0.23\n",
      "Frame : 71\n",
      "Error--------: 7.5253151977784345\n",
      "Latent error above the threshold of 1.2\n",
      "Found 14690 lines. Skipped 11. Loaded 14679 points.\n"
     ]
    },
    {
     "name": "stderr",
     "output_type": "stream",
     "text": [
      "  7%|▋         | 73/1014 [01:13<13:38,  1.15it/s]"
     ]
    },
    {
     "name": "stdout",
     "output_type": "stream",
     "text": [
      "ICP converged. Fitness score: 4.34\n",
      "Frame : 72\n",
      "Error--------: 7.721923064869345\n",
      "Latent error above the threshold of 1.2\n",
      "Found 10548 lines. Skipped 11. Loaded 10537 points.\n"
     ]
    },
    {
     "name": "stderr",
     "output_type": "stream",
     "text": [
      "  7%|▋         | 74/1014 [01:14<13:38,  1.15it/s]"
     ]
    },
    {
     "name": "stdout",
     "output_type": "stream",
     "text": [
      "ICP converged. Fitness score: 3.93\n",
      "Frame : 73\n",
      "Error--------: 7.87182790773021\n",
      "Latent error above the threshold of 1.2\n",
      "Found 16033 lines. Skipped 11. Loaded 16022 points.\n"
     ]
    },
    {
     "name": "stderr",
     "output_type": "stream",
     "text": [
      "  7%|▋         | 75/1014 [01:15<14:54,  1.05it/s]"
     ]
    },
    {
     "name": "stdout",
     "output_type": "stream",
     "text": [
      "ICP converged. Fitness score: 4.09\n",
      "Frame : 74\n",
      "Error--------: 8.01612919393208\n",
      "Latent error above the threshold of 1.2\n",
      "Found 13809 lines. Skipped 11. Loaded 13798 points.\n"
     ]
    },
    {
     "name": "stderr",
     "output_type": "stream",
     "text": [
      "  7%|▋         | 76/1014 [01:16<14:48,  1.06it/s]"
     ]
    },
    {
     "name": "stdout",
     "output_type": "stream",
     "text": [
      "ICP converged. Fitness score: 4.16\n",
      "Frame : 75\n",
      "Error--------: 8.156020765225508\n",
      "Latent error above the threshold of 1.2\n",
      "Found 14636 lines. Skipped 11. Loaded 14625 points.\n"
     ]
    },
    {
     "name": "stderr",
     "output_type": "stream",
     "text": [
      "  8%|▊         | 77/1014 [01:17<15:24,  1.01it/s]"
     ]
    },
    {
     "name": "stdout",
     "output_type": "stream",
     "text": [
      "ICP converged. Fitness score: 4.27\n",
      "Frame : 76\n",
      "Error--------: 8.35673740695694\n",
      "Latent error above the threshold of 1.2\n",
      "Found 10733 lines. Skipped 11. Loaded 10722 points.\n"
     ]
    },
    {
     "name": "stderr",
     "output_type": "stream",
     "text": [
      "  8%|▊         | 78/1014 [01:18<14:30,  1.08it/s]"
     ]
    },
    {
     "name": "stdout",
     "output_type": "stream",
     "text": [
      "ICP converged. Fitness score: 3.98\n",
      "Frame : 77\n",
      "Error--------: 8.60506470085194\n",
      "Latent error above the threshold of 1.2\n",
      "Found 13607 lines. Skipped 11. Loaded 13596 points.\n"
     ]
    },
    {
     "name": "stderr",
     "output_type": "stream",
     "text": [
      "  8%|▊         | 79/1014 [01:19<14:05,  1.11it/s]"
     ]
    },
    {
     "name": "stdout",
     "output_type": "stream",
     "text": [
      "ICP converged. Fitness score: 3.97\n",
      "Frame : 78\n",
      "Error--------: 8.707592892673238\n",
      "Latent error above the threshold of 1.2\n",
      "Found 15295 lines. Skipped 11. Loaded 15284 points.\n"
     ]
    },
    {
     "name": "stderr",
     "output_type": "stream",
     "text": [
      "  8%|▊         | 80/1014 [01:20<14:01,  1.11it/s]"
     ]
    },
    {
     "name": "stdout",
     "output_type": "stream",
     "text": [
      "ICP converged. Fitness score: 4.27\n",
      "Frame : 79\n",
      "Error--------: 8.895359027115237\n",
      "Latent error above the threshold of 1.2\n",
      "Found 13905 lines. Skipped 11. Loaded 13894 points.\n"
     ]
    },
    {
     "name": "stderr",
     "output_type": "stream",
     "text": [
      "  8%|▊         | 81/1014 [01:21<14:27,  1.08it/s]"
     ]
    },
    {
     "name": "stdout",
     "output_type": "stream",
     "text": [
      "ICP converged. Fitness score: 4.18\n",
      "Frame : 80\n",
      "Error--------: 9.060353433540138\n",
      "Latent error above the threshold of 1.2\n",
      "Found 12989 lines. Skipped 11. Loaded 12978 points.\n"
     ]
    },
    {
     "name": "stderr",
     "output_type": "stream",
     "text": [
      "  8%|▊         | 82/1014 [01:22<13:55,  1.12it/s]"
     ]
    },
    {
     "name": "stdout",
     "output_type": "stream",
     "text": [
      "ICP converged. Fitness score: 3.81\n",
      "Frame : 81\n",
      "Error--------: 9.244117691039419\n",
      "Latent error above the threshold of 1.2\n",
      "Found 12866 lines. Skipped 11. Loaded 12855 points.\n"
     ]
    },
    {
     "name": "stderr",
     "output_type": "stream",
     "text": [
      "  8%|▊         | 83/1014 [01:22<12:59,  1.19it/s]"
     ]
    },
    {
     "name": "stdout",
     "output_type": "stream",
     "text": [
      "ICP converged. Fitness score: 0.27\n",
      "Frame : 82\n",
      "Error--------: 9.430597716852652\n",
      "Latent error above the threshold of 1.2\n",
      "Found 13630 lines. Skipped 11. Loaded 13619 points.\n"
     ]
    },
    {
     "name": "stderr",
     "output_type": "stream",
     "text": [
      "  8%|▊         | 84/1014 [01:23<13:56,  1.11it/s]"
     ]
    },
    {
     "name": "stdout",
     "output_type": "stream",
     "text": [
      "ICP converged. Fitness score: 3.68\n",
      "Frame : 83\n",
      "Error--------: 9.564850367559211\n",
      "Latent error above the threshold of 1.2\n",
      "Found 15491 lines. Skipped 11. Loaded 15480 points.\n"
     ]
    },
    {
     "name": "stderr",
     "output_type": "stream",
     "text": [
      "  8%|▊         | 85/1014 [01:24<13:54,  1.11it/s]"
     ]
    },
    {
     "name": "stdout",
     "output_type": "stream",
     "text": [
      "ICP converged. Fitness score: 3.71\n",
      "Frame : 84\n",
      "Error--------: 9.73361810417943\n",
      "Latent error above the threshold of 1.2\n",
      "Found 13225 lines. Skipped 11. Loaded 13214 points.\n"
     ]
    },
    {
     "name": "stderr",
     "output_type": "stream",
     "text": [
      "  8%|▊         | 86/1014 [01:25<13:54,  1.11it/s]"
     ]
    },
    {
     "name": "stdout",
     "output_type": "stream",
     "text": [
      "ICP converged. Fitness score: 3.61\n",
      "Frame : 85\n",
      "Error--------: 9.87509928813492\n",
      "Latent error above the threshold of 1.2\n",
      "Found 13235 lines. Skipped 11. Loaded 13224 points.\n"
     ]
    },
    {
     "name": "stderr",
     "output_type": "stream",
     "text": [
      "  9%|▊         | 87/1014 [01:26<14:21,  1.08it/s]"
     ]
    },
    {
     "name": "stdout",
     "output_type": "stream",
     "text": [
      "ICP converged. Fitness score: 3.76\n",
      "Frame : 86\n",
      "Error--------: 10.00134122468385\n",
      "Latent error above the threshold of 1.2\n",
      "Found 20488 lines. Skipped 11. Loaded 20477 points.\n"
     ]
    },
    {
     "name": "stderr",
     "output_type": "stream",
     "text": [
      "  9%|▊         | 88/1014 [01:27<15:43,  1.02s/it]"
     ]
    },
    {
     "name": "stdout",
     "output_type": "stream",
     "text": [
      "ICP converged. Fitness score: 4.11\n",
      "Frame : 87\n",
      "Error--------: 10.162341773326062\n",
      "Latent error above the threshold of 1.2\n",
      "Found 16402 lines. Skipped 11. Loaded 16391 points.\n"
     ]
    },
    {
     "name": "stderr",
     "output_type": "stream",
     "text": [
      "  9%|▉         | 89/1014 [01:28<14:43,  1.05it/s]"
     ]
    },
    {
     "name": "stdout",
     "output_type": "stream",
     "text": [
      "ICP converged. Fitness score: 3.40\n",
      "Frame : 88\n",
      "Error--------: 10.343674729991822\n",
      "Latent error above the threshold of 1.2\n",
      "Found 15090 lines. Skipped 11. Loaded 15079 points.\n"
     ]
    },
    {
     "name": "stderr",
     "output_type": "stream",
     "text": [
      "  9%|▉         | 90/1014 [01:29<15:09,  1.02it/s]"
     ]
    },
    {
     "name": "stdout",
     "output_type": "stream",
     "text": [
      "ICP converged. Fitness score: 3.33\n",
      "Frame : 89\n",
      "Error--------: 10.529955911536378\n",
      "Latent error above the threshold of 1.2\n",
      "Found 15090 lines. Skipped 11. Loaded 15079 points.\n"
     ]
    },
    {
     "name": "stderr",
     "output_type": "stream",
     "text": [
      "  9%|▉         | 91/1014 [01:30<14:59,  1.03it/s]"
     ]
    },
    {
     "name": "stdout",
     "output_type": "stream",
     "text": [
      "ICP converged. Fitness score: 3.56\n",
      "Frame : 90\n",
      "Error--------: 10.69509986140939\n",
      "Latent error above the threshold of 1.2\n",
      "Found 17866 lines. Skipped 11. Loaded 17855 points.\n"
     ]
    },
    {
     "name": "stderr",
     "output_type": "stream",
     "text": [
      "  9%|▉         | 92/1014 [01:31<14:37,  1.05it/s]"
     ]
    },
    {
     "name": "stdout",
     "output_type": "stream",
     "text": [
      "ICP converged. Fitness score: 3.29\n",
      "Frame : 91\n",
      "Error--------: 10.829493014310449\n",
      "Latent error above the threshold of 1.2\n",
      "Found 18381 lines. Skipped 11. Loaded 18370 points.\n"
     ]
    },
    {
     "name": "stderr",
     "output_type": "stream",
     "text": [
      "  9%|▉         | 93/1014 [01:32<14:56,  1.03it/s]"
     ]
    },
    {
     "name": "stdout",
     "output_type": "stream",
     "text": [
      "ICP converged. Fitness score: 3.42\n",
      "Frame : 92\n",
      "Error--------: 10.994558867198291\n",
      "Latent error above the threshold of 1.2\n",
      "Found 11513 lines. Skipped 11. Loaded 11502 points.\n"
     ]
    },
    {
     "name": "stderr",
     "output_type": "stream",
     "text": [
      "  9%|▉         | 94/1014 [01:33<12:27,  1.23it/s]"
     ]
    },
    {
     "name": "stdout",
     "output_type": "stream",
     "text": [
      "ICP converged. Fitness score: 0.19\n",
      "Frame : 93\n",
      "Error--------: 11.205000441554684\n",
      "Latent error above the threshold of 1.2\n",
      "Found 14712 lines. Skipped 11. Loaded 14701 points.\n"
     ]
    },
    {
     "name": "stderr",
     "output_type": "stream",
     "text": [
      "  9%|▉         | 95/1014 [01:34<13:35,  1.13it/s]"
     ]
    },
    {
     "name": "stdout",
     "output_type": "stream",
     "text": [
      "ICP converged. Fitness score: 3.17\n",
      "Frame : 94\n",
      "Error--------: 11.364546693533653\n",
      "Latent error above the threshold of 1.2\n",
      "Found 18530 lines. Skipped 11. Loaded 18519 points.\n"
     ]
    },
    {
     "name": "stderr",
     "output_type": "stream",
     "text": [
      "  9%|▉         | 96/1014 [01:34<13:09,  1.16it/s]"
     ]
    },
    {
     "name": "stdout",
     "output_type": "stream",
     "text": [
      "ICP converged. Fitness score: 2.66\n",
      "Frame : 95\n",
      "Error--------: 11.519717170042616\n",
      "Latent error above the threshold of 1.2\n",
      "Found 14742 lines. Skipped 11. Loaded 14731 points.\n"
     ]
    },
    {
     "name": "stderr",
     "output_type": "stream",
     "text": [
      " 10%|▉         | 97/1014 [01:35<13:38,  1.12it/s]"
     ]
    },
    {
     "name": "stdout",
     "output_type": "stream",
     "text": [
      "ICP converged. Fitness score: 3.15\n",
      "Frame : 96\n",
      "Error--------: 11.656232851523535\n",
      "Latent error above the threshold of 1.2\n",
      "Found 13534 lines. Skipped 11. Loaded 13523 points.\n"
     ]
    },
    {
     "name": "stderr",
     "output_type": "stream",
     "text": [
      " 10%|▉         | 98/1014 [01:36<12:40,  1.20it/s]"
     ]
    },
    {
     "name": "stdout",
     "output_type": "stream",
     "text": [
      "ICP converged. Fitness score: 2.61\n",
      "Frame : 97\n",
      "Error--------: 11.810432452621033\n",
      "Latent error above the threshold of 1.2\n",
      "Found 14863 lines. Skipped 11. Loaded 14852 points.\n"
     ]
    },
    {
     "name": "stderr",
     "output_type": "stream",
     "text": [
      " 10%|▉         | 99/1014 [01:37<13:07,  1.16it/s]"
     ]
    },
    {
     "name": "stdout",
     "output_type": "stream",
     "text": [
      "ICP converged. Fitness score: 2.83\n",
      "Frame : 98\n",
      "Error--------: 11.959604133746279\n",
      "Latent error above the threshold of 1.2\n",
      "Found 15858 lines. Skipped 11. Loaded 15847 points.\n"
     ]
    },
    {
     "name": "stderr",
     "output_type": "stream",
     "text": [
      " 10%|▉         | 100/1014 [01:38<13:01,  1.17it/s]"
     ]
    },
    {
     "name": "stdout",
     "output_type": "stream",
     "text": [
      "ICP converged. Fitness score: 2.41\n",
      "Frame : 99\n",
      "Error--------: 12.096318905106173\n",
      "Latent error above the threshold of 1.2\n",
      "Found 15774 lines. Skipped 11. Loaded 15763 points.\n"
     ]
    },
    {
     "name": "stderr",
     "output_type": "stream",
     "text": [
      " 10%|▉         | 101/1014 [01:39<14:11,  1.07it/s]"
     ]
    },
    {
     "name": "stdout",
     "output_type": "stream",
     "text": [
      "ICP converged. Fitness score: 2.80\n",
      "Frame : 100\n",
      "Error--------: 12.298620520367777\n",
      "Latent error above the threshold of 1.2\n",
      "Found 15497 lines. Skipped 11. Loaded 15486 points.\n"
     ]
    },
    {
     "name": "stderr",
     "output_type": "stream",
     "text": [
      " 10%|█         | 102/1014 [01:40<14:13,  1.07it/s]"
     ]
    },
    {
     "name": "stdout",
     "output_type": "stream",
     "text": [
      "ICP converged. Fitness score: 2.08\n",
      "Frame : 101\n",
      "Error--------: 12.48631292889353\n",
      "Latent error above the threshold of 1.2\n",
      "Found 15154 lines. Skipped 11. Loaded 15143 points.\n"
     ]
    },
    {
     "name": "stderr",
     "output_type": "stream",
     "text": [
      " 10%|█         | 103/1014 [01:41<14:39,  1.04it/s]"
     ]
    },
    {
     "name": "stdout",
     "output_type": "stream",
     "text": [
      "ICP converged. Fitness score: 2.64\n",
      "Frame : 102\n",
      "Error--------: 12.655608689648309\n",
      "Latent error above the threshold of 1.2\n",
      "Found 15697 lines. Skipped 11. Loaded 15686 points.\n"
     ]
    },
    {
     "name": "stderr",
     "output_type": "stream",
     "text": [
      " 10%|█         | 104/1014 [01:42<14:06,  1.07it/s]"
     ]
    },
    {
     "name": "stdout",
     "output_type": "stream",
     "text": [
      "ICP converged. Fitness score: 2.22\n",
      "Frame : 103\n",
      "Error--------: 12.82900107494303\n",
      "Latent error above the threshold of 1.2\n",
      "Found 15348 lines. Skipped 11. Loaded 15337 points.\n"
     ]
    },
    {
     "name": "stderr",
     "output_type": "stream",
     "text": [
      " 10%|█         | 105/1014 [01:42<12:41,  1.19it/s]"
     ]
    },
    {
     "name": "stdout",
     "output_type": "stream",
     "text": [
      "ICP converged. Fitness score: 0.29\n",
      "Frame : 104\n",
      "Error--------: 12.973222735329475\n",
      "Latent error above the threshold of 1.2\n",
      "Found 12979 lines. Skipped 11. Loaded 12968 points.\n"
     ]
    },
    {
     "name": "stderr",
     "output_type": "stream",
     "text": [
      " 10%|█         | 106/1014 [01:43<13:05,  1.16it/s]"
     ]
    },
    {
     "name": "stdout",
     "output_type": "stream",
     "text": [
      "ICP converged. Fitness score: 2.38\n",
      "Frame : 105\n",
      "Error--------: 13.128981355600269\n",
      "Latent error above the threshold of 1.2\n",
      "Found 12386 lines. Skipped 11. Loaded 12375 points.\n"
     ]
    },
    {
     "name": "stderr",
     "output_type": "stream",
     "text": [
      " 11%|█         | 107/1014 [01:44<12:15,  1.23it/s]"
     ]
    },
    {
     "name": "stdout",
     "output_type": "stream",
     "text": [
      "ICP converged. Fitness score: 2.03\n",
      "Frame : 106\n",
      "Error--------: 13.299370105384325\n",
      "Latent error above the threshold of 1.2\n",
      "Found 13632 lines. Skipped 11. Loaded 13621 points.\n"
     ]
    },
    {
     "name": "stderr",
     "output_type": "stream",
     "text": [
      " 11%|█         | 108/1014 [01:45<13:00,  1.16it/s]"
     ]
    },
    {
     "name": "stdout",
     "output_type": "stream",
     "text": [
      "ICP converged. Fitness score: 2.58\n",
      "Frame : 107\n",
      "Error--------: 13.485805974298769\n",
      "Latent error above the threshold of 1.2\n",
      "Found 13296 lines. Skipped 11. Loaded 13285 points.\n"
     ]
    },
    {
     "name": "stderr",
     "output_type": "stream",
     "text": [
      " 11%|█         | 109/1014 [01:46<12:48,  1.18it/s]"
     ]
    },
    {
     "name": "stdout",
     "output_type": "stream",
     "text": [
      "ICP converged. Fitness score: 2.37\n",
      "Frame : 108\n",
      "Error--------: 13.602033423188367\n",
      "Latent error above the threshold of 1.2\n",
      "Found 15385 lines. Skipped 11. Loaded 15374 points.\n"
     ]
    },
    {
     "name": "stderr",
     "output_type": "stream",
     "text": [
      " 11%|█         | 110/1014 [01:47<14:20,  1.05it/s]"
     ]
    },
    {
     "name": "stdout",
     "output_type": "stream",
     "text": [
      "ICP converged. Fitness score: 2.78\n",
      "Frame : 109\n",
      "Error--------: 13.778805100166812\n",
      "Latent error above the threshold of 1.2\n",
      "Found 17209 lines. Skipped 11. Loaded 17198 points.\n"
     ]
    },
    {
     "name": "stderr",
     "output_type": "stream",
     "text": [
      " 11%|█         | 111/1014 [01:49<17:17,  1.15s/it]"
     ]
    },
    {
     "name": "stdout",
     "output_type": "stream",
     "text": [
      "ICP converged. Fitness score: 2.66\n",
      "Frame : 110\n",
      "Error--------: 13.925194697405956\n",
      "Latent error above the threshold of 1.2\n",
      "Found 11997 lines. Skipped 11. Loaded 11986 points.\n"
     ]
    },
    {
     "name": "stderr",
     "output_type": "stream",
     "text": [
      " 11%|█         | 112/1014 [01:50<16:19,  1.09s/it]"
     ]
    },
    {
     "name": "stdout",
     "output_type": "stream",
     "text": [
      "ICP converged. Fitness score: 2.67\n",
      "Frame : 111\n",
      "Error--------: 14.090841192050078\n",
      "Latent error above the threshold of 1.2\n",
      "Found 13622 lines. Skipped 11. Loaded 13611 points.\n"
     ]
    },
    {
     "name": "stderr",
     "output_type": "stream",
     "text": [
      " 11%|█         | 113/1014 [01:51<15:37,  1.04s/it]"
     ]
    },
    {
     "name": "stdout",
     "output_type": "stream",
     "text": [
      "ICP converged. Fitness score: 2.70\n",
      "Frame : 112\n",
      "Error--------: 14.213175558229933\n",
      "Latent error above the threshold of 1.2\n",
      "Found 16443 lines. Skipped 11. Loaded 16432 points.\n"
     ]
    },
    {
     "name": "stderr",
     "output_type": "stream",
     "text": [
      " 11%|█         | 114/1014 [01:52<15:45,  1.05s/it]"
     ]
    },
    {
     "name": "stdout",
     "output_type": "stream",
     "text": [
      "ICP converged. Fitness score: 3.33\n",
      "Frame : 113\n",
      "Error--------: 14.390080528040723\n",
      "Latent error above the threshold of 1.2\n",
      "Found 14428 lines. Skipped 11. Loaded 14417 points.\n"
     ]
    },
    {
     "name": "stderr",
     "output_type": "stream",
     "text": [
      " 11%|█▏        | 115/1014 [01:53<15:13,  1.02s/it]"
     ]
    },
    {
     "name": "stdout",
     "output_type": "stream",
     "text": [
      "ICP converged. Fitness score: 2.77\n",
      "Frame : 114\n",
      "Error--------: 14.620850276407632\n",
      "Latent error above the threshold of 1.2\n",
      "Found 29108 lines. Skipped 11. Loaded 29097 points.\n"
     ]
    },
    {
     "name": "stderr",
     "output_type": "stream",
     "text": [
      " 11%|█▏        | 116/1014 [01:53<14:35,  1.03it/s]"
     ]
    },
    {
     "name": "stdout",
     "output_type": "stream",
     "text": [
      "ICP converged. Fitness score: 0.24\n",
      "Frame : 115\n",
      "Error--------: 14.904432468591297\n",
      "Latent error above the threshold of 1.2\n",
      "Found 9189 lines. Skipped 11. Loaded 9178 points.\n"
     ]
    },
    {
     "name": "stderr",
     "output_type": "stream",
     "text": [
      " 12%|█▏        | 117/1014 [01:54<14:06,  1.06it/s]"
     ]
    },
    {
     "name": "stdout",
     "output_type": "stream",
     "text": [
      "ICP converged. Fitness score: 3.04\n",
      "Frame : 116\n",
      "Error--------: 15.095617464777595\n",
      "Latent error above the threshold of 1.2\n",
      "Found 14538 lines. Skipped 11. Loaded 14527 points.\n"
     ]
    },
    {
     "name": "stderr",
     "output_type": "stream",
     "text": [
      " 12%|█▏        | 118/1014 [01:55<13:51,  1.08it/s]"
     ]
    },
    {
     "name": "stdout",
     "output_type": "stream",
     "text": [
      "ICP converged. Fitness score: 3.30\n",
      "Frame : 117\n",
      "Error--------: 15.266936609903489\n",
      "Latent error above the threshold of 1.2\n",
      "Found 15959 lines. Skipped 11. Loaded 15948 points.\n"
     ]
    },
    {
     "name": "stderr",
     "output_type": "stream",
     "text": [
      " 12%|█▏        | 119/1014 [01:56<14:37,  1.02it/s]"
     ]
    },
    {
     "name": "stdout",
     "output_type": "stream",
     "text": [
      "ICP converged. Fitness score: 3.31\n",
      "Frame : 118\n",
      "Error--------: 15.442808345486048\n",
      "Latent error above the threshold of 1.2\n",
      "Found 17203 lines. Skipped 11. Loaded 17192 points.\n"
     ]
    },
    {
     "name": "stderr",
     "output_type": "stream",
     "text": [
      " 12%|█▏        | 120/1014 [01:57<14:39,  1.02it/s]"
     ]
    },
    {
     "name": "stdout",
     "output_type": "stream",
     "text": [
      "ICP converged. Fitness score: 3.84\n",
      "Frame : 119\n",
      "Error--------: 15.619119692273074\n",
      "Latent error above the threshold of 1.2\n",
      "Found 15424 lines. Skipped 11. Loaded 15413 points.\n"
     ]
    },
    {
     "name": "stderr",
     "output_type": "stream",
     "text": [
      " 12%|█▏        | 121/1014 [01:58<15:14,  1.02s/it]"
     ]
    },
    {
     "name": "stdout",
     "output_type": "stream",
     "text": [
      "ICP converged. Fitness score: 3.55\n",
      "Frame : 120\n",
      "Error--------: 15.834225822459933\n",
      "Latent error above the threshold of 1.2\n",
      "Found 10119 lines. Skipped 11. Loaded 10108 points.\n"
     ]
    },
    {
     "name": "stderr",
     "output_type": "stream",
     "text": [
      " 12%|█▏        | 122/1014 [01:59<14:28,  1.03it/s]"
     ]
    },
    {
     "name": "stdout",
     "output_type": "stream",
     "text": [
      "ICP converged. Fitness score: 3.05\n",
      "Frame : 121\n",
      "Error--------: 15.988853090451242\n",
      "Latent error above the threshold of 1.2\n",
      "Found 14464 lines. Skipped 11. Loaded 14453 points.\n"
     ]
    },
    {
     "name": "stderr",
     "output_type": "stream",
     "text": [
      " 12%|█▏        | 123/1014 [02:00<15:01,  1.01s/it]"
     ]
    },
    {
     "name": "stdout",
     "output_type": "stream",
     "text": [
      "ICP converged. Fitness score: 3.58\n",
      "Frame : 122\n",
      "Error--------: 16.156336565186255\n",
      "Latent error above the threshold of 1.2\n",
      "Found 17331 lines. Skipped 11. Loaded 17320 points.\n"
     ]
    },
    {
     "name": "stderr",
     "output_type": "stream",
     "text": [
      " 12%|█▏        | 124/1014 [02:01<15:16,  1.03s/it]"
     ]
    },
    {
     "name": "stdout",
     "output_type": "stream",
     "text": [
      "ICP converged. Fitness score: 3.64\n",
      "Frame : 123\n",
      "Error--------: 16.32958459998013\n",
      "Latent error above the threshold of 1.2\n",
      "Found 15111 lines. Skipped 11. Loaded 15100 points.\n"
     ]
    },
    {
     "name": "stderr",
     "output_type": "stream",
     "text": [
      " 12%|█▏        | 125/1014 [02:03<15:45,  1.06s/it]"
     ]
    },
    {
     "name": "stdout",
     "output_type": "stream",
     "text": [
      "ICP converged. Fitness score: 3.36\n",
      "Frame : 124\n",
      "Error--------: 16.539686918936017\n",
      "Latent error above the threshold of 1.2\n",
      "Found 11982 lines. Skipped 11. Loaded 11971 points.\n"
     ]
    },
    {
     "name": "stderr",
     "output_type": "stream",
     "text": [
      " 12%|█▏        | 126/1014 [02:03<15:04,  1.02s/it]"
     ]
    },
    {
     "name": "stdout",
     "output_type": "stream",
     "text": [
      "ICP converged. Fitness score: 3.11\n",
      "Frame : 125\n",
      "Error--------: 16.739352543738928\n",
      "Latent error above the threshold of 1.2\n",
      "Found 11511 lines. Skipped 11. Loaded 11500 points.\n"
     ]
    },
    {
     "name": "stderr",
     "output_type": "stream",
     "text": [
      " 13%|█▎        | 127/1014 [02:04<13:18,  1.11it/s]"
     ]
    },
    {
     "name": "stdout",
     "output_type": "stream",
     "text": [
      "ICP converged. Fitness score: 0.30\n",
      "Frame : 126\n",
      "Error--------: 16.976821306426164\n",
      "Latent error above the threshold of 1.2\n",
      "Found 12785 lines. Skipped 11. Loaded 12774 points.\n"
     ]
    },
    {
     "name": "stderr",
     "output_type": "stream",
     "text": [
      " 13%|█▎        | 128/1014 [02:05<12:30,  1.18it/s]"
     ]
    },
    {
     "name": "stdout",
     "output_type": "stream",
     "text": [
      "ICP converged. Fitness score: 0.20\n",
      "Frame : 127\n",
      "Error--------: 17.157011029674443\n",
      "Latent error above the threshold of 1.2\n",
      "Found 15466 lines. Skipped 11. Loaded 15455 points.\n"
     ]
    },
    {
     "name": "stderr",
     "output_type": "stream",
     "text": [
      " 13%|█▎        | 129/1014 [02:06<13:41,  1.08it/s]"
     ]
    },
    {
     "name": "stdout",
     "output_type": "stream",
     "text": [
      "ICP converged. Fitness score: 3.61\n",
      "Frame : 128\n",
      "Error--------: 17.33882686261503\n",
      "Latent error above the threshold of 1.2\n",
      "Found 15272 lines. Skipped 11. Loaded 15261 points.\n"
     ]
    },
    {
     "name": "stderr",
     "output_type": "stream",
     "text": [
      " 13%|█▎        | 130/1014 [02:07<14:55,  1.01s/it]"
     ]
    },
    {
     "name": "stdout",
     "output_type": "stream",
     "text": [
      "ICP converged. Fitness score: 3.32\n",
      "Frame : 129\n",
      "Error--------: 17.48660827771873\n",
      "Latent error above the threshold of 1.2\n",
      "Found 14488 lines. Skipped 11. Loaded 14477 points.\n"
     ]
    },
    {
     "name": "stderr",
     "output_type": "stream",
     "text": [
      " 13%|█▎        | 131/1014 [02:08<16:10,  1.10s/it]"
     ]
    },
    {
     "name": "stdout",
     "output_type": "stream",
     "text": [
      "ICP converged. Fitness score: 3.15\n",
      "Frame : 130\n",
      "Error--------: 17.69045234890886\n",
      "Latent error above the threshold of 1.2\n",
      "Found 13728 lines. Skipped 11. Loaded 13717 points.\n"
     ]
    },
    {
     "name": "stderr",
     "output_type": "stream",
     "text": [
      " 13%|█▎        | 132/1014 [02:09<14:45,  1.00s/it]"
     ]
    },
    {
     "name": "stdout",
     "output_type": "stream",
     "text": [
      "ICP converged. Fitness score: 3.44\n",
      "Frame : 131\n",
      "Error--------: 17.91519351342892\n",
      "Latent error above the threshold of 1.2\n",
      "Found 11126 lines. Skipped 11. Loaded 11115 points.\n"
     ]
    },
    {
     "name": "stderr",
     "output_type": "stream",
     "text": [
      " 13%|█▎        | 133/1014 [02:10<14:39,  1.00it/s]"
     ]
    },
    {
     "name": "stdout",
     "output_type": "stream",
     "text": [
      "ICP converged. Fitness score: 2.95\n",
      "Frame : 132\n",
      "Error--------: 18.1102850294848\n",
      "Latent error above the threshold of 1.2\n",
      "Found 16212 lines. Skipped 11. Loaded 16201 points.\n"
     ]
    },
    {
     "name": "stderr",
     "output_type": "stream",
     "text": [
      " 13%|█▎        | 134/1014 [02:11<15:07,  1.03s/it]"
     ]
    },
    {
     "name": "stdout",
     "output_type": "stream",
     "text": [
      "ICP converged. Fitness score: 3.81\n",
      "Frame : 133\n",
      "Error--------: 18.309167589943122\n",
      "Latent error above the threshold of 1.2\n",
      "Found 15874 lines. Skipped 11. Loaded 15863 points.\n"
     ]
    },
    {
     "name": "stderr",
     "output_type": "stream",
     "text": [
      " 13%|█▎        | 135/1014 [02:12<14:29,  1.01it/s]"
     ]
    },
    {
     "name": "stdout",
     "output_type": "stream",
     "text": [
      "ICP converged. Fitness score: 3.47\n",
      "Frame : 134\n",
      "Error--------: 18.488636558631146\n",
      "Latent error above the threshold of 1.2\n",
      "Found 16467 lines. Skipped 11. Loaded 16456 points.\n"
     ]
    },
    {
     "name": "stderr",
     "output_type": "stream",
     "text": [
      " 13%|█▎        | 136/1014 [02:13<15:20,  1.05s/it]"
     ]
    },
    {
     "name": "stdout",
     "output_type": "stream",
     "text": [
      "ICP converged. Fitness score: 3.78\n",
      "Frame : 135\n",
      "Error--------: 18.692847293056975\n",
      "Latent error above the threshold of 1.2\n",
      "Found 12809 lines. Skipped 11. Loaded 12798 points.\n"
     ]
    },
    {
     "name": "stderr",
     "output_type": "stream",
     "text": [
      " 14%|█▎        | 137/1014 [02:15<15:51,  1.08s/it]"
     ]
    },
    {
     "name": "stdout",
     "output_type": "stream",
     "text": [
      "ICP converged. Fitness score: 3.15\n",
      "Frame : 136\n",
      "Error--------: 18.955820790752785\n",
      "Latent error above the threshold of 1.2\n",
      "Found 16339 lines. Skipped 11. Loaded 16328 points.\n"
     ]
    },
    {
     "name": "stderr",
     "output_type": "stream",
     "text": [
      " 14%|█▎        | 138/1014 [02:16<15:39,  1.07s/it]"
     ]
    },
    {
     "name": "stdout",
     "output_type": "stream",
     "text": [
      "ICP converged. Fitness score: 3.72\n",
      "Frame : 137\n",
      "Error--------: 19.14963690918325\n",
      "Latent error above the threshold of 1.2\n",
      "Found 9903 lines. Skipped 11. Loaded 9892 points.\n"
     ]
    },
    {
     "name": "stderr",
     "output_type": "stream",
     "text": [
      " 14%|█▎        | 139/1014 [02:16<13:40,  1.07it/s]"
     ]
    },
    {
     "name": "stdout",
     "output_type": "stream",
     "text": [
      "ICP converged. Fitness score: 0.30\n",
      "Frame : 138\n",
      "Error--------: 19.506284256519276\n",
      "Latent error above the threshold of 1.2\n",
      "Found 13352 lines. Skipped 11. Loaded 13341 points.\n"
     ]
    },
    {
     "name": "stderr",
     "output_type": "stream",
     "text": [
      " 14%|█▍        | 140/1014 [02:17<13:54,  1.05it/s]"
     ]
    },
    {
     "name": "stdout",
     "output_type": "stream",
     "text": [
      "ICP converged. Fitness score: 3.61\n",
      "Frame : 139\n",
      "Error--------: 19.612795124275774\n",
      "Latent error above the threshold of 1.2\n",
      "Found 15448 lines. Skipped 11. Loaded 15437 points.\n"
     ]
    },
    {
     "name": "stderr",
     "output_type": "stream",
     "text": [
      " 14%|█▍        | 141/1014 [02:18<12:58,  1.12it/s]"
     ]
    },
    {
     "name": "stdout",
     "output_type": "stream",
     "text": [
      "ICP converged. Fitness score: 3.08\n",
      "Frame : 140\n",
      "Error--------: 19.825666466305876\n",
      "Latent error above the threshold of 1.2\n",
      "Found 13591 lines. Skipped 11. Loaded 13580 points.\n"
     ]
    },
    {
     "name": "stderr",
     "output_type": "stream",
     "text": [
      " 14%|█▍        | 142/1014 [02:19<13:51,  1.05it/s]"
     ]
    },
    {
     "name": "stdout",
     "output_type": "stream",
     "text": [
      "ICP converged. Fitness score: 3.81\n",
      "Frame : 141\n",
      "Error--------: 20.01628042058282\n",
      "Latent error above the threshold of 1.2\n",
      "Found 15461 lines. Skipped 11. Loaded 15450 points.\n"
     ]
    },
    {
     "name": "stderr",
     "output_type": "stream",
     "text": [
      " 14%|█▍        | 143/1014 [02:20<13:31,  1.07it/s]"
     ]
    },
    {
     "name": "stdout",
     "output_type": "stream",
     "text": [
      "ICP converged. Fitness score: 2.83\n",
      "Frame : 142\n",
      "Error--------: 20.211504237658463\n",
      "Latent error above the threshold of 1.2\n",
      "Found 13249 lines. Skipped 11. Loaded 13238 points.\n"
     ]
    },
    {
     "name": "stderr",
     "output_type": "stream",
     "text": [
      " 14%|█▍        | 144/1014 [02:21<13:43,  1.06it/s]"
     ]
    },
    {
     "name": "stdout",
     "output_type": "stream",
     "text": [
      "ICP converged. Fitness score: 3.47\n",
      "Frame : 143\n",
      "Error--------: 20.378669282754785\n",
      "Latent error above the threshold of 1.2\n",
      "Found 13928 lines. Skipped 11. Loaded 13917 points.\n"
     ]
    },
    {
     "name": "stderr",
     "output_type": "stream",
     "text": [
      " 14%|█▍        | 145/1014 [02:22<14:26,  1.00it/s]"
     ]
    },
    {
     "name": "stdout",
     "output_type": "stream",
     "text": [
      "ICP converged. Fitness score: 3.29\n",
      "Frame : 144\n",
      "Error--------: 20.54360095058971\n",
      "Latent error above the threshold of 1.2\n",
      "Found 11361 lines. Skipped 11. Loaded 11350 points.\n"
     ]
    },
    {
     "name": "stderr",
     "output_type": "stream",
     "text": [
      " 14%|█▍        | 146/1014 [02:23<13:27,  1.08it/s]"
     ]
    },
    {
     "name": "stdout",
     "output_type": "stream",
     "text": [
      "ICP converged. Fitness score: 3.27\n",
      "Frame : 145\n",
      "Error--------: 20.715591737809106\n",
      "Latent error above the threshold of 1.2\n",
      "Found 14460 lines. Skipped 11. Loaded 14449 points.\n"
     ]
    },
    {
     "name": "stderr",
     "output_type": "stream",
     "text": [
      " 14%|█▍        | 147/1014 [02:24<13:52,  1.04it/s]"
     ]
    },
    {
     "name": "stdout",
     "output_type": "stream",
     "text": [
      "ICP converged. Fitness score: 3.02\n",
      "Frame : 146\n",
      "Error--------: 20.902256186887332\n",
      "Latent error above the threshold of 1.2\n",
      "Found 11683 lines. Skipped 11. Loaded 11672 points.\n"
     ]
    },
    {
     "name": "stderr",
     "output_type": "stream",
     "text": [
      " 15%|█▍        | 148/1014 [02:25<14:43,  1.02s/it]"
     ]
    },
    {
     "name": "stdout",
     "output_type": "stream",
     "text": [
      "ICP converged. Fitness score: 3.45\n",
      "Frame : 147\n",
      "Error--------: 21.100960484624235\n",
      "Latent error above the threshold of 1.2\n",
      "Found 16835 lines. Skipped 11. Loaded 16824 points.\n"
     ]
    },
    {
     "name": "stderr",
     "output_type": "stream",
     "text": [
      " 15%|█▍        | 149/1014 [02:27<18:10,  1.26s/it]"
     ]
    },
    {
     "name": "stdout",
     "output_type": "stream",
     "text": [
      "ICP converged. Fitness score: 3.34\n",
      "Frame : 148\n",
      "Error--------: 21.26986222649576\n",
      "Latent error above the threshold of 1.2\n",
      "Found 13376 lines. Skipped 11. Loaded 13365 points.\n"
     ]
    },
    {
     "name": "stderr",
     "output_type": "stream",
     "text": [
      " 15%|█▍        | 150/1014 [02:28<17:32,  1.22s/it]"
     ]
    },
    {
     "name": "stdout",
     "output_type": "stream",
     "text": [
      "ICP converged. Fitness score: 0.22\n",
      "Frame : 149\n",
      "Error--------: 21.548500591940286\n",
      "Latent error above the threshold of 1.2\n",
      "Found 16501 lines. Skipped 11. Loaded 16490 points.\n"
     ]
    },
    {
     "name": "stderr",
     "output_type": "stream",
     "text": [
      " 15%|█▍        | 151/1014 [02:29<17:03,  1.19s/it]"
     ]
    },
    {
     "name": "stdout",
     "output_type": "stream",
     "text": [
      "ICP converged. Fitness score: 3.24\n",
      "Frame : 150\n",
      "Error--------: 21.723934347491504\n",
      "Latent error above the threshold of 1.2\n",
      "Found 15882 lines. Skipped 11. Loaded 15871 points.\n"
     ]
    },
    {
     "name": "stderr",
     "output_type": "stream",
     "text": [
      " 15%|█▍        | 152/1014 [02:30<17:41,  1.23s/it]"
     ]
    },
    {
     "name": "stdout",
     "output_type": "stream",
     "text": [
      "ICP converged. Fitness score: 3.76\n",
      "Frame : 151\n",
      "Error--------: 21.873052457779448\n",
      "Latent error above the threshold of 1.2\n",
      "Found 15902 lines. Skipped 11. Loaded 15891 points.\n"
     ]
    },
    {
     "name": "stderr",
     "output_type": "stream",
     "text": [
      " 15%|█▌        | 153/1014 [02:33<24:43,  1.72s/it]"
     ]
    },
    {
     "name": "stdout",
     "output_type": "stream",
     "text": [
      "ICP converged. Fitness score: 3.40\n",
      "Frame : 152\n",
      "Error--------: 21.97870684270414\n",
      "Latent error above the threshold of 1.2\n",
      "Found 17564 lines. Skipped 11. Loaded 17553 points.\n"
     ]
    },
    {
     "name": "stderr",
     "output_type": "stream",
     "text": [
      " 15%|█▌        | 154/1014 [02:35<23:35,  1.65s/it]"
     ]
    },
    {
     "name": "stdout",
     "output_type": "stream",
     "text": [
      "ICP converged. Fitness score: 3.39\n",
      "Frame : 153\n",
      "Error--------: 22.17409096620814\n",
      "Latent error above the threshold of 1.2\n",
      "Found 13211 lines. Skipped 11. Loaded 13200 points.\n"
     ]
    },
    {
     "name": "stderr",
     "output_type": "stream",
     "text": [
      " 15%|█▌        | 155/1014 [02:38<30:28,  2.13s/it]"
     ]
    },
    {
     "name": "stdout",
     "output_type": "stream",
     "text": [
      "ICP converged. Fitness score: 3.31\n",
      "Frame : 154\n",
      "Error--------: 22.345258391206322\n",
      "Latent error above the threshold of 1.2\n",
      "Found 12863 lines. Skipped 11. Loaded 12852 points.\n"
     ]
    },
    {
     "name": "stderr",
     "output_type": "stream",
     "text": [
      " 15%|█▌        | 156/1014 [02:41<35:22,  2.47s/it]"
     ]
    },
    {
     "name": "stdout",
     "output_type": "stream",
     "text": [
      "ICP converged. Fitness score: 3.75\n",
      "Frame : 155\n",
      "Error--------: 22.514406558076306\n",
      "Latent error above the threshold of 1.2\n",
      "Found 14036 lines. Skipped 11. Loaded 14025 points.\n"
     ]
    },
    {
     "name": "stderr",
     "output_type": "stream",
     "text": [
      " 15%|█▌        | 157/1014 [02:43<30:18,  2.12s/it]"
     ]
    },
    {
     "name": "stdout",
     "output_type": "stream",
     "text": [
      "ICP converged. Fitness score: 3.23\n",
      "Frame : 156\n",
      "Error--------: 22.73993434333428\n",
      "Latent error above the threshold of 1.2\n",
      "Found 14277 lines. Skipped 11. Loaded 14266 points.\n"
     ]
    },
    {
     "name": "stderr",
     "output_type": "stream",
     "text": [
      " 16%|█▌        | 158/1014 [02:44<28:49,  2.02s/it]"
     ]
    },
    {
     "name": "stdout",
     "output_type": "stream",
     "text": [
      "ICP converged. Fitness score: 3.94\n",
      "Frame : 157\n",
      "Error--------: 22.924112160013113\n",
      "Latent error above the threshold of 1.2\n",
      "Found 12443 lines. Skipped 11. Loaded 12432 points.\n"
     ]
    },
    {
     "name": "stderr",
     "output_type": "stream",
     "text": [
      " 16%|█▌        | 159/1014 [02:45<24:25,  1.71s/it]"
     ]
    },
    {
     "name": "stdout",
     "output_type": "stream",
     "text": [
      "ICP converged. Fitness score: 3.28\n",
      "Frame : 158\n",
      "Error--------: 23.198035039843003\n",
      "Latent error above the threshold of 1.2\n",
      "Found 15692 lines. Skipped 11. Loaded 15681 points.\n"
     ]
    },
    {
     "name": "stderr",
     "output_type": "stream",
     "text": [
      " 16%|█▌        | 160/1014 [02:47<23:58,  1.68s/it]"
     ]
    },
    {
     "name": "stdout",
     "output_type": "stream",
     "text": [
      "ICP converged. Fitness score: 3.86\n",
      "Frame : 159\n",
      "Error--------: 23.386782078207084\n",
      "Latent error above the threshold of 1.2\n",
      "Found 13944 lines. Skipped 11. Loaded 13933 points.\n"
     ]
    },
    {
     "name": "stderr",
     "output_type": "stream",
     "text": [
      " 16%|█▌        | 161/1014 [02:48<21:05,  1.48s/it]"
     ]
    },
    {
     "name": "stdout",
     "output_type": "stream",
     "text": [
      "ICP converged. Fitness score: 0.32\n",
      "Frame : 160\n",
      "Error--------: 23.613596922611215\n",
      "Latent error above the threshold of 1.2\n",
      "Found 12953 lines. Skipped 11. Loaded 12942 points.\n"
     ]
    },
    {
     "name": "stderr",
     "output_type": "stream",
     "text": [
      " 16%|█▌        | 162/1014 [02:49<19:53,  1.40s/it]"
     ]
    },
    {
     "name": "stdout",
     "output_type": "stream",
     "text": [
      "ICP converged. Fitness score: 4.03\n",
      "Frame : 161\n",
      "Error--------: 23.76795481623845\n",
      "Latent error above the threshold of 1.2\n",
      "Found 14975 lines. Skipped 11. Loaded 14964 points.\n"
     ]
    },
    {
     "name": "stderr",
     "output_type": "stream",
     "text": [
      " 16%|█▌        | 163/1014 [02:51<19:25,  1.37s/it]"
     ]
    },
    {
     "name": "stdout",
     "output_type": "stream",
     "text": [
      "ICP converged. Fitness score: 3.30\n",
      "Frame : 162\n",
      "Error--------: 23.918614554050073\n",
      "Latent error above the threshold of 1.2\n",
      "Found 15875 lines. Skipped 11. Loaded 15864 points.\n"
     ]
    },
    {
     "name": "stderr",
     "output_type": "stream",
     "text": [
      " 16%|█▌        | 164/1014 [02:52<20:01,  1.41s/it]"
     ]
    },
    {
     "name": "stdout",
     "output_type": "stream",
     "text": [
      "ICP converged. Fitness score: 3.74\n",
      "Frame : 163\n",
      "Error--------: 24.059803970263193\n",
      "Latent error above the threshold of 1.2\n",
      "Found 15875 lines. Skipped 11. Loaded 15864 points.\n"
     ]
    },
    {
     "name": "stderr",
     "output_type": "stream",
     "text": [
      " 16%|█▋        | 165/1014 [02:53<17:52,  1.26s/it]"
     ]
    },
    {
     "name": "stdout",
     "output_type": "stream",
     "text": [
      "ICP converged. Fitness score: 3.28\n",
      "Frame : 164\n",
      "Error--------: 24.286959292100452\n",
      "Latent error above the threshold of 1.2\n",
      "Found 16173 lines. Skipped 11. Loaded 16162 points.\n"
     ]
    },
    {
     "name": "stderr",
     "output_type": "stream",
     "text": [
      " 16%|█▋        | 166/1014 [02:54<17:19,  1.23s/it]"
     ]
    },
    {
     "name": "stdout",
     "output_type": "stream",
     "text": [
      "ICP converged. Fitness score: 3.96\n",
      "Frame : 165\n",
      "Error--------: 24.48339532623202\n",
      "Latent error above the threshold of 1.2\n",
      "Found 16784 lines. Skipped 11. Loaded 16773 points.\n"
     ]
    },
    {
     "name": "stderr",
     "output_type": "stream",
     "text": [
      " 16%|█▋        | 167/1014 [02:55<16:22,  1.16s/it]"
     ]
    },
    {
     "name": "stdout",
     "output_type": "stream",
     "text": [
      "ICP converged. Fitness score: 3.21\n",
      "Frame : 166\n",
      "Error--------: 24.633327083820028\n",
      "Latent error above the threshold of 1.2\n",
      "Found 12690 lines. Skipped 11. Loaded 12679 points.\n"
     ]
    },
    {
     "name": "stderr",
     "output_type": "stream",
     "text": [
      " 17%|█▋        | 168/1014 [02:56<16:47,  1.19s/it]"
     ]
    },
    {
     "name": "stdout",
     "output_type": "stream",
     "text": [
      "ICP converged. Fitness score: 3.75\n",
      "Frame : 167\n",
      "Error--------: 24.898447166891884\n",
      "Latent error above the threshold of 1.2\n",
      "Found 11950 lines. Skipped 11. Loaded 11939 points.\n"
     ]
    },
    {
     "name": "stderr",
     "output_type": "stream",
     "text": [
      " 17%|█▋        | 169/1014 [02:57<15:27,  1.10s/it]"
     ]
    },
    {
     "name": "stdout",
     "output_type": "stream",
     "text": [
      "ICP converged. Fitness score: 3.11\n",
      "Frame : 168\n",
      "Error--------: 25.04614090264474\n",
      "Latent error above the threshold of 1.2\n",
      "Found 13858 lines. Skipped 11. Loaded 13847 points.\n"
     ]
    },
    {
     "name": "stderr",
     "output_type": "stream",
     "text": [
      " 17%|█▋        | 170/1014 [02:58<15:43,  1.12s/it]"
     ]
    },
    {
     "name": "stdout",
     "output_type": "stream",
     "text": [
      "ICP converged. Fitness score: 3.30\n",
      "Frame : 169\n",
      "Error--------: 25.30632302460061\n",
      "Latent error above the threshold of 1.2\n",
      "Found 16825 lines. Skipped 11. Loaded 16814 points.\n"
     ]
    },
    {
     "name": "stderr",
     "output_type": "stream",
     "text": [
      " 17%|█▋        | 171/1014 [02:59<14:43,  1.05s/it]"
     ]
    },
    {
     "name": "stdout",
     "output_type": "stream",
     "text": [
      "ICP converged. Fitness score: 3.07\n",
      "Frame : 170\n",
      "Error--------: 25.42910429488639\n",
      "Latent error above the threshold of 1.2\n",
      "Found 13026 lines. Skipped 11. Loaded 13015 points.\n"
     ]
    },
    {
     "name": "stderr",
     "output_type": "stream",
     "text": [
      " 17%|█▋        | 172/1014 [03:00<12:58,  1.08it/s]"
     ]
    },
    {
     "name": "stdout",
     "output_type": "stream",
     "text": [
      "ICP converged. Fitness score: 0.20\n",
      "Frame : 171\n",
      "Error--------: 25.692637830891456\n",
      "Latent error above the threshold of 1.2\n",
      "Found 14123 lines. Skipped 11. Loaded 14112 points.\n"
     ]
    },
    {
     "name": "stderr",
     "output_type": "stream",
     "text": [
      " 17%|█▋        | 173/1014 [03:01<13:38,  1.03it/s]"
     ]
    },
    {
     "name": "stdout",
     "output_type": "stream",
     "text": [
      "ICP converged. Fitness score: 2.94\n",
      "Frame : 172\n",
      "Error--------: 25.84392468104197\n",
      "Latent error above the threshold of 1.2\n",
      "Found 12982 lines. Skipped 11. Loaded 12971 points.\n"
     ]
    },
    {
     "name": "stderr",
     "output_type": "stream",
     "text": [
      " 17%|█▋        | 174/1014 [03:02<15:16,  1.09s/it]"
     ]
    },
    {
     "name": "stdout",
     "output_type": "stream",
     "text": [
      "ICP converged. Fitness score: 2.82\n",
      "Frame : 173\n",
      "Error--------: 26.035359383680166\n",
      "Latent error above the threshold of 1.2\n",
      "Found 15353 lines. Skipped 11. Loaded 15342 points.\n"
     ]
    },
    {
     "name": "stderr",
     "output_type": "stream",
     "text": [
      " 17%|█▋        | 175/1014 [03:04<15:58,  1.14s/it]"
     ]
    },
    {
     "name": "stdout",
     "output_type": "stream",
     "text": [
      "ICP converged. Fitness score: 2.74\n",
      "Frame : 174\n",
      "Error--------: 26.226280897142146\n",
      "Latent error above the threshold of 1.2\n",
      "Found 15353 lines. Skipped 11. Loaded 15342 points.\n"
     ]
    },
    {
     "name": "stderr",
     "output_type": "stream",
     "text": [
      " 17%|█▋        | 176/1014 [03:04<14:41,  1.05s/it]"
     ]
    },
    {
     "name": "stdout",
     "output_type": "stream",
     "text": [
      "ICP converged. Fitness score: 2.89\n",
      "Frame : 175\n",
      "Error--------: 26.42603963219487\n",
      "Latent error above the threshold of 1.2\n",
      "Found 16586 lines. Skipped 11. Loaded 16575 points.\n"
     ]
    },
    {
     "name": "stderr",
     "output_type": "stream",
     "text": [
      " 17%|█▋        | 177/1014 [03:06<15:39,  1.12s/it]"
     ]
    },
    {
     "name": "stdout",
     "output_type": "stream",
     "text": [
      "ICP converged. Fitness score: 2.82\n",
      "Frame : 176\n",
      "Error--------: 26.616686689651978\n",
      "Latent error above the threshold of 1.2\n",
      "Found 18695 lines. Skipped 11. Loaded 18684 points.\n"
     ]
    },
    {
     "name": "stderr",
     "output_type": "stream",
     "text": [
      " 18%|█▊        | 178/1014 [03:07<14:16,  1.02s/it]"
     ]
    },
    {
     "name": "stdout",
     "output_type": "stream",
     "text": [
      "ICP converged. Fitness score: 2.65\n",
      "Frame : 177\n",
      "Error--------: 26.8163735712538\n",
      "Latent error above the threshold of 1.2\n",
      "Found 14925 lines. Skipped 11. Loaded 14914 points.\n"
     ]
    },
    {
     "name": "stderr",
     "output_type": "stream",
     "text": [
      " 18%|█▊        | 179/1014 [03:08<14:36,  1.05s/it]"
     ]
    },
    {
     "name": "stdout",
     "output_type": "stream",
     "text": [
      "ICP converged. Fitness score: 2.63\n",
      "Frame : 178\n",
      "Error--------: 26.98819432104\n",
      "Latent error above the threshold of 1.2\n",
      "Found 17065 lines. Skipped 11. Loaded 17054 points.\n"
     ]
    },
    {
     "name": "stderr",
     "output_type": "stream",
     "text": [
      " 18%|█▊        | 180/1014 [03:09<16:01,  1.15s/it]"
     ]
    },
    {
     "name": "stdout",
     "output_type": "stream",
     "text": [
      "ICP converged. Fitness score: 2.36\n",
      "Frame : 179\n",
      "Error--------: 27.258696387183647\n",
      "Latent error above the threshold of 1.2\n",
      "Found 12133 lines. Skipped 11. Loaded 12122 points.\n"
     ]
    },
    {
     "name": "stderr",
     "output_type": "stream",
     "text": [
      " 18%|█▊        | 181/1014 [03:10<15:51,  1.14s/it]"
     ]
    },
    {
     "name": "stdout",
     "output_type": "stream",
     "text": [
      "ICP converged. Fitness score: 2.19\n",
      "Frame : 180\n",
      "Error--------: 27.430616037955772\n",
      "Latent error above the threshold of 1.2\n",
      "Found 15971 lines. Skipped 11. Loaded 15960 points.\n"
     ]
    },
    {
     "name": "stderr",
     "output_type": "stream",
     "text": [
      " 18%|█▊        | 182/1014 [03:11<15:08,  1.09s/it]"
     ]
    },
    {
     "name": "stdout",
     "output_type": "stream",
     "text": [
      "ICP converged. Fitness score: 2.44\n",
      "Frame : 181\n",
      "Error--------: 27.675539488432488\n",
      "Latent error above the threshold of 1.2\n",
      "Found 12616 lines. Skipped 11. Loaded 12605 points.\n"
     ]
    },
    {
     "name": "stderr",
     "output_type": "stream",
     "text": [
      " 18%|█▊        | 183/1014 [03:12<13:58,  1.01s/it]"
     ]
    },
    {
     "name": "stdout",
     "output_type": "stream",
     "text": [
      "ICP converged. Fitness score: 0.37\n",
      "Frame : 182\n",
      "Error--------: 27.85133192088656\n",
      "Latent error above the threshold of 1.2\n",
      "Found 14402 lines. Skipped 11. Loaded 14391 points.\n"
     ]
    },
    {
     "name": "stderr",
     "output_type": "stream",
     "text": [
      " 18%|█▊        | 184/1014 [03:13<15:36,  1.13s/it]"
     ]
    },
    {
     "name": "stdout",
     "output_type": "stream",
     "text": [
      "ICP converged. Fitness score: 2.27\n",
      "Frame : 183\n",
      "Error--------: 28.02091219105555\n",
      "Latent error above the threshold of 1.2\n",
      "Found 14634 lines. Skipped 11. Loaded 14623 points.\n"
     ]
    },
    {
     "name": "stderr",
     "output_type": "stream",
     "text": [
      " 18%|█▊        | 185/1014 [03:14<15:31,  1.12s/it]"
     ]
    },
    {
     "name": "stdout",
     "output_type": "stream",
     "text": [
      "ICP converged. Fitness score: 2.01\n",
      "Frame : 184\n",
      "Error--------: 28.219107396570827\n",
      "Latent error above the threshold of 1.2\n",
      "Found 14254 lines. Skipped 11. Loaded 14243 points.\n"
     ]
    },
    {
     "name": "stderr",
     "output_type": "stream",
     "text": [
      " 18%|█▊        | 186/1014 [03:16<15:38,  1.13s/it]"
     ]
    },
    {
     "name": "stdout",
     "output_type": "stream",
     "text": [
      "ICP converged. Fitness score: 2.16\n",
      "Frame : 185\n",
      "Error--------: 28.405795265075536\n",
      "Latent error above the threshold of 1.2\n",
      "Found 13999 lines. Skipped 11. Loaded 13988 points.\n"
     ]
    },
    {
     "name": "stderr",
     "output_type": "stream",
     "text": [
      " 18%|█▊        | 187/1014 [03:17<14:54,  1.08s/it]"
     ]
    },
    {
     "name": "stdout",
     "output_type": "stream",
     "text": [
      "ICP converged. Fitness score: 1.97\n",
      "Frame : 186\n",
      "Error--------: 28.582476626626462\n",
      "Latent error above the threshold of 1.2\n",
      "Found 17059 lines. Skipped 11. Loaded 17048 points.\n"
     ]
    },
    {
     "name": "stderr",
     "output_type": "stream",
     "text": [
      " 19%|█▊        | 188/1014 [03:18<15:18,  1.11s/it]"
     ]
    },
    {
     "name": "stdout",
     "output_type": "stream",
     "text": [
      "ICP converged. Fitness score: 2.31\n",
      "Frame : 187\n",
      "Error--------: 28.844407231731868\n",
      "Latent error above the threshold of 1.2\n",
      "Found 15317 lines. Skipped 11. Loaded 15306 points.\n"
     ]
    },
    {
     "name": "stderr",
     "output_type": "stream",
     "text": [
      " 19%|█▊        | 189/1014 [03:19<16:00,  1.16s/it]"
     ]
    },
    {
     "name": "stdout",
     "output_type": "stream",
     "text": [
      "ICP converged. Fitness score: 2.09\n",
      "Frame : 188\n",
      "Error--------: 29.033634181646367\n",
      "Latent error above the threshold of 1.2\n",
      "Found 15835 lines. Skipped 11. Loaded 15824 points.\n"
     ]
    },
    {
     "name": "stderr",
     "output_type": "stream",
     "text": [
      " 19%|█▊        | 190/1014 [03:20<15:56,  1.16s/it]"
     ]
    },
    {
     "name": "stdout",
     "output_type": "stream",
     "text": [
      "ICP converged. Fitness score: 2.53\n",
      "Frame : 189\n",
      "Error--------: 29.31701390178276\n",
      "Latent error above the threshold of 1.2\n",
      "Found 15243 lines. Skipped 11. Loaded 15232 points.\n"
     ]
    },
    {
     "name": "stderr",
     "output_type": "stream",
     "text": [
      " 19%|█▉        | 191/1014 [03:21<16:05,  1.17s/it]"
     ]
    },
    {
     "name": "stdout",
     "output_type": "stream",
     "text": [
      "ICP converged. Fitness score: 1.96\n",
      "Frame : 190\n",
      "Error--------: 29.520975364963295\n",
      "Latent error above the threshold of 1.2\n",
      "Found 16319 lines. Skipped 11. Loaded 16308 points.\n"
     ]
    },
    {
     "name": "stderr",
     "output_type": "stream",
     "text": [
      " 19%|█▉        | 192/1014 [03:23<16:05,  1.17s/it]"
     ]
    },
    {
     "name": "stdout",
     "output_type": "stream",
     "text": [
      "ICP converged. Fitness score: 2.73\n",
      "Frame : 191\n",
      "Error--------: 29.69682551964927\n",
      "Latent error above the threshold of 1.2\n",
      "Found 10903 lines. Skipped 11. Loaded 10892 points.\n"
     ]
    },
    {
     "name": "stderr",
     "output_type": "stream",
     "text": [
      " 19%|█▉        | 193/1014 [03:23<14:37,  1.07s/it]"
     ]
    },
    {
     "name": "stdout",
     "output_type": "stream",
     "text": [
      "ICP converged. Fitness score: 2.17\n",
      "Frame : 192\n",
      "Error--------: 29.856365336068603\n",
      "Latent error above the threshold of 1.2\n",
      "Found 12616 lines. Skipped 11. Loaded 12605 points.\n"
     ]
    },
    {
     "name": "stderr",
     "output_type": "stream",
     "text": [
      " 19%|█▉        | 194/1014 [03:24<12:46,  1.07it/s]"
     ]
    },
    {
     "name": "stdout",
     "output_type": "stream",
     "text": [
      "ICP converged. Fitness score: 0.22\n",
      "Frame : 193\n",
      "Error--------: 30.083204389854853\n",
      "Latent error above the threshold of 1.2\n",
      "Found 15988 lines. Skipped 11. Loaded 15977 points.\n"
     ]
    },
    {
     "name": "stderr",
     "output_type": "stream",
     "text": [
      " 19%|█▉        | 195/1014 [03:25<12:38,  1.08it/s]"
     ]
    },
    {
     "name": "stdout",
     "output_type": "stream",
     "text": [
      "ICP converged. Fitness score: 2.44\n",
      "Frame : 194\n",
      "Error--------: 30.304601867431064\n",
      "Latent error above the threshold of 1.2\n",
      "Found 18900 lines. Skipped 11. Loaded 18889 points.\n"
     ]
    },
    {
     "name": "stderr",
     "output_type": "stream",
     "text": [
      " 19%|█▉        | 196/1014 [03:26<12:42,  1.07it/s]"
     ]
    },
    {
     "name": "stdout",
     "output_type": "stream",
     "text": [
      "ICP converged. Fitness score: 3.05\n",
      "Frame : 195\n",
      "Error--------: 30.494418615129092\n",
      "Latent error above the threshold of 1.2\n",
      "Found 14361 lines. Skipped 11. Loaded 14350 points.\n"
     ]
    },
    {
     "name": "stderr",
     "output_type": "stream",
     "text": [
      " 19%|█▉        | 197/1014 [03:27<13:24,  1.02it/s]"
     ]
    },
    {
     "name": "stdout",
     "output_type": "stream",
     "text": [
      "ICP converged. Fitness score: 2.48\n",
      "Frame : 196\n",
      "Error--------: 30.76724000919145\n",
      "Latent error above the threshold of 1.2\n",
      "Found 14354 lines. Skipped 11. Loaded 14343 points.\n"
     ]
    },
    {
     "name": "stderr",
     "output_type": "stream",
     "text": [
      " 20%|█▉        | 198/1014 [03:28<13:32,  1.00it/s]"
     ]
    },
    {
     "name": "stdout",
     "output_type": "stream",
     "text": [
      "ICP converged. Fitness score: 2.99\n",
      "Frame : 197\n",
      "Error--------: 30.950855757431025\n",
      "Latent error above the threshold of 1.2\n",
      "Found 15289 lines. Skipped 11. Loaded 15278 points.\n"
     ]
    },
    {
     "name": "stderr",
     "output_type": "stream",
     "text": [
      " 20%|█▉        | 199/1014 [03:29<13:06,  1.04it/s]"
     ]
    },
    {
     "name": "stdout",
     "output_type": "stream",
     "text": [
      "ICP converged. Fitness score: 2.69\n",
      "Frame : 198\n",
      "Error--------: 31.203988276322058\n",
      "Latent error above the threshold of 1.2\n",
      "Found 18098 lines. Skipped 11. Loaded 18087 points.\n"
     ]
    },
    {
     "name": "stderr",
     "output_type": "stream",
     "text": [
      " 20%|█▉        | 200/1014 [03:30<15:04,  1.11s/it]"
     ]
    },
    {
     "name": "stdout",
     "output_type": "stream",
     "text": [
      "ICP converged. Fitness score: 3.33\n",
      "Frame : 199\n",
      "Error--------: 31.433715593070847\n",
      "Latent error above the threshold of 1.2\n",
      "Found 12605 lines. Skipped 11. Loaded 12594 points.\n"
     ]
    },
    {
     "name": "stderr",
     "output_type": "stream",
     "text": [
      " 20%|█▉        | 201/1014 [03:31<14:12,  1.05s/it]"
     ]
    },
    {
     "name": "stdout",
     "output_type": "stream",
     "text": [
      "ICP converged. Fitness score: 2.78\n",
      "Frame : 200\n",
      "Error--------: 31.660673841411324\n",
      "Latent error above the threshold of 1.2\n",
      "Found 16053 lines. Skipped 11. Loaded 16042 points.\n"
     ]
    },
    {
     "name": "stderr",
     "output_type": "stream",
     "text": [
      " 20%|█▉        | 202/1014 [03:32<13:10,  1.03it/s]"
     ]
    },
    {
     "name": "stdout",
     "output_type": "stream",
     "text": [
      "ICP converged. Fitness score: 3.20\n",
      "Frame : 201\n",
      "Error--------: 31.84021178913505\n",
      "Latent error above the threshold of 1.2\n",
      "Found 12927 lines. Skipped 11. Loaded 12916 points.\n"
     ]
    },
    {
     "name": "stderr",
     "output_type": "stream",
     "text": [
      " 20%|██        | 203/1014 [03:33<13:08,  1.03it/s]"
     ]
    },
    {
     "name": "stdout",
     "output_type": "stream",
     "text": [
      "ICP converged. Fitness score: 2.94\n",
      "Frame : 202\n",
      "Error--------: 32.03209552497062\n",
      "Latent error above the threshold of 1.2\n",
      "Found 12866 lines. Skipped 11. Loaded 12855 points.\n"
     ]
    },
    {
     "name": "stderr",
     "output_type": "stream",
     "text": [
      " 20%|██        | 204/1014 [03:34<12:57,  1.04it/s]"
     ]
    },
    {
     "name": "stdout",
     "output_type": "stream",
     "text": [
      "ICP converged. Fitness score: 3.16\n",
      "Frame : 203\n",
      "Error--------: 32.245034032087666\n",
      "Latent error above the threshold of 1.2\n",
      "Found 9776 lines. Skipped 11. Loaded 9765 points.\n"
     ]
    },
    {
     "name": "stderr",
     "output_type": "stream",
     "text": [
      " 20%|██        | 205/1014 [03:35<12:19,  1.09it/s]"
     ]
    },
    {
     "name": "stdout",
     "output_type": "stream",
     "text": [
      "ICP converged. Fitness score: 0.42\n",
      "Frame : 204\n",
      "Error--------: 32.5183344543851\n",
      "Latent error above the threshold of 1.2\n",
      "Found 14074 lines. Skipped 11. Loaded 14063 points.\n"
     ]
    },
    {
     "name": "stderr",
     "output_type": "stream",
     "text": [
      " 20%|██        | 206/1014 [03:36<12:43,  1.06it/s]"
     ]
    },
    {
     "name": "stdout",
     "output_type": "stream",
     "text": [
      "ICP converged. Fitness score: 3.21\n",
      "Frame : 205\n",
      "Error--------: 32.818569376087204\n",
      "Latent error above the threshold of 1.2\n",
      "Found 18407 lines. Skipped 11. Loaded 18396 points.\n"
     ]
    },
    {
     "name": "stderr",
     "output_type": "stream",
     "text": [
      " 20%|██        | 207/1014 [03:37<13:04,  1.03it/s]"
     ]
    },
    {
     "name": "stdout",
     "output_type": "stream",
     "text": [
      "ICP converged. Fitness score: 3.12\n",
      "Frame : 206\n",
      "Error--------: 32.88934270060117\n",
      "Latent error above the threshold of 1.2\n",
      "Found 14489 lines. Skipped 11. Loaded 14478 points.\n"
     ]
    },
    {
     "name": "stderr",
     "output_type": "stream",
     "text": [
      " 21%|██        | 208/1014 [03:38<13:20,  1.01it/s]"
     ]
    },
    {
     "name": "stdout",
     "output_type": "stream",
     "text": [
      "ICP converged. Fitness score: 3.23\n",
      "Frame : 207\n",
      "Error--------: 33.072055971760875\n",
      "Latent error above the threshold of 1.2\n",
      "Found 14489 lines. Skipped 11. Loaded 14478 points.\n"
     ]
    },
    {
     "name": "stderr",
     "output_type": "stream",
     "text": [
      " 21%|██        | 209/1014 [03:39<13:26,  1.00s/it]"
     ]
    },
    {
     "name": "stdout",
     "output_type": "stream",
     "text": [
      "ICP converged. Fitness score: 2.72\n",
      "Frame : 208\n",
      "Error--------: 33.1552615081776\n",
      "Latent error above the threshold of 1.2\n",
      "Found 14025 lines. Skipped 11. Loaded 14014 points.\n"
     ]
    },
    {
     "name": "stderr",
     "output_type": "stream",
     "text": [
      " 21%|██        | 210/1014 [03:40<13:38,  1.02s/it]"
     ]
    },
    {
     "name": "stdout",
     "output_type": "stream",
     "text": [
      "ICP converged. Fitness score: 3.13\n",
      "Frame : 209\n",
      "Error--------: 33.41739395726989\n",
      "Latent error above the threshold of 1.2\n",
      "Found 13688 lines. Skipped 11. Loaded 13677 points.\n"
     ]
    },
    {
     "name": "stderr",
     "output_type": "stream",
     "text": [
      " 21%|██        | 211/1014 [03:41<14:19,  1.07s/it]"
     ]
    },
    {
     "name": "stdout",
     "output_type": "stream",
     "text": [
      "ICP converged. Fitness score: 2.79\n",
      "Frame : 210\n",
      "Error--------: 33.59770133159463\n",
      "Latent error above the threshold of 1.2\n",
      "Found 17282 lines. Skipped 11. Loaded 17271 points.\n"
     ]
    },
    {
     "name": "stderr",
     "output_type": "stream",
     "text": [
      " 21%|██        | 212/1014 [03:42<14:21,  1.07s/it]"
     ]
    },
    {
     "name": "stdout",
     "output_type": "stream",
     "text": [
      "ICP converged. Fitness score: 3.33\n",
      "Frame : 211\n",
      "Error--------: 33.82421817307886\n",
      "Latent error above the threshold of 1.2\n",
      "Found 15818 lines. Skipped 11. Loaded 15807 points.\n"
     ]
    },
    {
     "name": "stderr",
     "output_type": "stream",
     "text": [
      " 21%|██        | 213/1014 [03:43<14:44,  1.10s/it]"
     ]
    },
    {
     "name": "stdout",
     "output_type": "stream",
     "text": [
      "ICP converged. Fitness score: 2.70\n",
      "Frame : 212\n",
      "Error--------: 34.034934601889624\n",
      "Latent error above the threshold of 1.2\n",
      "Found 14014 lines. Skipped 11. Loaded 14003 points.\n"
     ]
    },
    {
     "name": "stderr",
     "output_type": "stream",
     "text": [
      " 21%|██        | 214/1014 [03:44<14:23,  1.08s/it]"
     ]
    },
    {
     "name": "stdout",
     "output_type": "stream",
     "text": [
      "ICP converged. Fitness score: 2.81\n",
      "Frame : 213\n",
      "Error--------: 34.31974528593655\n",
      "Latent error above the threshold of 1.2\n",
      "Found 17496 lines. Skipped 11. Loaded 17485 points.\n"
     ]
    },
    {
     "name": "stderr",
     "output_type": "stream",
     "text": [
      " 21%|██        | 215/1014 [03:45<14:21,  1.08s/it]"
     ]
    },
    {
     "name": "stdout",
     "output_type": "stream",
     "text": [
      "ICP converged. Fitness score: 2.79\n",
      "Frame : 214\n",
      "Error--------: 34.5217256971659\n",
      "Latent error above the threshold of 1.2\n",
      "Found 12585 lines. Skipped 11. Loaded 12574 points.\n"
     ]
    },
    {
     "name": "stderr",
     "output_type": "stream",
     "text": [
      " 21%|██▏       | 216/1014 [03:46<13:32,  1.02s/it]"
     ]
    },
    {
     "name": "stdout",
     "output_type": "stream",
     "text": [
      "ICP converged. Fitness score: 0.26\n",
      "Frame : 215\n",
      "Error--------: 34.95405774458476\n",
      "Latent error above the threshold of 1.2\n",
      "Found 14552 lines. Skipped 11. Loaded 14541 points.\n"
     ]
    },
    {
     "name": "stderr",
     "output_type": "stream",
     "text": [
      " 21%|██▏       | 217/1014 [03:47<13:28,  1.01s/it]"
     ]
    },
    {
     "name": "stdout",
     "output_type": "stream",
     "text": [
      "ICP converged. Fitness score: 2.78\n",
      "Frame : 216\n",
      "Error--------: 35.314434508299364\n",
      "Latent error above the threshold of 1.2\n",
      "Found 11072 lines. Skipped 11. Loaded 11061 points.\n"
     ]
    },
    {
     "name": "stderr",
     "output_type": "stream",
     "text": [
      " 21%|██▏       | 218/1014 [03:48<12:50,  1.03it/s]"
     ]
    },
    {
     "name": "stdout",
     "output_type": "stream",
     "text": [
      "ICP converged. Fitness score: 2.75\n",
      "Frame : 217\n",
      "Error--------: 35.336690889725\n",
      "Latent error above the threshold of 1.2\n",
      "Found 11072 lines. Skipped 11. Loaded 11061 points.\n"
     ]
    },
    {
     "name": "stderr",
     "output_type": "stream",
     "text": [
      " 22%|██▏       | 219/1014 [03:49<12:34,  1.05it/s]"
     ]
    },
    {
     "name": "stdout",
     "output_type": "stream",
     "text": [
      "ICP converged. Fitness score: 2.58\n",
      "Frame : 218\n",
      "Error--------: 35.51414589249296\n",
      "Latent error above the threshold of 1.2\n",
      "Found 15565 lines. Skipped 11. Loaded 15554 points.\n"
     ]
    },
    {
     "name": "stderr",
     "output_type": "stream",
     "text": [
      " 22%|██▏       | 220/1014 [03:50<12:23,  1.07it/s]"
     ]
    },
    {
     "name": "stdout",
     "output_type": "stream",
     "text": [
      "ICP converged. Fitness score: 2.90\n",
      "Frame : 219\n",
      "Error--------: 35.970394650341305\n",
      "Latent error above the threshold of 1.2\n",
      "Found 13834 lines. Skipped 11. Loaded 13823 points.\n"
     ]
    },
    {
     "name": "stderr",
     "output_type": "stream",
     "text": [
      " 22%|██▏       | 221/1014 [03:51<12:27,  1.06it/s]"
     ]
    },
    {
     "name": "stdout",
     "output_type": "stream",
     "text": [
      "ICP converged. Fitness score: 2.79\n",
      "Frame : 220\n",
      "Error--------: 36.23655052568832\n",
      "Latent error above the threshold of 1.2\n",
      "Found 15634 lines. Skipped 11. Loaded 15623 points.\n"
     ]
    },
    {
     "name": "stderr",
     "output_type": "stream",
     "text": [
      " 22%|██▏       | 222/1014 [03:52<11:29,  1.15it/s]"
     ]
    },
    {
     "name": "stdout",
     "output_type": "stream",
     "text": [
      "ICP converged. Fitness score: 3.02\n",
      "Frame : 221\n",
      "Error--------: 36.47269314524731\n",
      "Latent error above the threshold of 1.2\n",
      "Found 12660 lines. Skipped 11. Loaded 12649 points.\n"
     ]
    },
    {
     "name": "stderr",
     "output_type": "stream",
     "text": [
      " 22%|██▏       | 223/1014 [03:53<12:00,  1.10it/s]"
     ]
    },
    {
     "name": "stdout",
     "output_type": "stream",
     "text": [
      "ICP converged. Fitness score: 2.88\n",
      "Frame : 222\n",
      "Error--------: 36.71898835347794\n",
      "Latent error above the threshold of 1.2\n",
      "Found 13162 lines. Skipped 11. Loaded 13151 points.\n"
     ]
    },
    {
     "name": "stderr",
     "output_type": "stream",
     "text": [
      " 22%|██▏       | 224/1014 [03:53<11:03,  1.19it/s]"
     ]
    },
    {
     "name": "stdout",
     "output_type": "stream",
     "text": [
      "ICP converged. Fitness score: 3.00\n",
      "Frame : 223\n",
      "Error--------: 36.96031586250514\n",
      "Latent error above the threshold of 1.2\n",
      "Found 14869 lines. Skipped 11. Loaded 14858 points.\n"
     ]
    },
    {
     "name": "stderr",
     "output_type": "stream",
     "text": [
      " 22%|██▏       | 225/1014 [03:54<11:58,  1.10it/s]"
     ]
    },
    {
     "name": "stdout",
     "output_type": "stream",
     "text": [
      "ICP converged. Fitness score: 2.94\n",
      "Frame : 224\n",
      "Error--------: 37.17138646490044\n",
      "Latent error above the threshold of 1.2\n",
      "Found 13998 lines. Skipped 11. Loaded 13987 points.\n"
     ]
    },
    {
     "name": "stderr",
     "output_type": "stream",
     "text": [
      " 22%|██▏       | 226/1014 [03:55<11:45,  1.12it/s]"
     ]
    },
    {
     "name": "stdout",
     "output_type": "stream",
     "text": [
      "ICP converged. Fitness score: 2.85\n",
      "Frame : 225\n",
      "Error--------: 37.44337079854366\n",
      "Latent error above the threshold of 1.2\n",
      "Found 12581 lines. Skipped 11. Loaded 12570 points.\n"
     ]
    },
    {
     "name": "stderr",
     "output_type": "stream",
     "text": [
      " 22%|██▏       | 227/1014 [03:56<11:33,  1.14it/s]"
     ]
    },
    {
     "name": "stdout",
     "output_type": "stream",
     "text": [
      "ICP converged. Fitness score: 0.44\n",
      "Frame : 226\n",
      "Error--------: 37.58822846584225\n",
      "Latent error above the threshold of 1.2\n",
      "Found 13560 lines. Skipped 11. Loaded 13549 points.\n"
     ]
    },
    {
     "name": "stderr",
     "output_type": "stream",
     "text": [
      " 22%|██▏       | 228/1014 [03:57<11:42,  1.12it/s]"
     ]
    },
    {
     "name": "stdout",
     "output_type": "stream",
     "text": [
      "ICP converged. Fitness score: 3.16\n",
      "Frame : 227\n",
      "Error--------: 37.83878742943404\n",
      "Latent error above the threshold of 1.2\n",
      "Found 15478 lines. Skipped 11. Loaded 15467 points.\n"
     ]
    },
    {
     "name": "stderr",
     "output_type": "stream",
     "text": [
      " 23%|██▎       | 229/1014 [03:58<11:05,  1.18it/s]"
     ]
    },
    {
     "name": "stdout",
     "output_type": "stream",
     "text": [
      "ICP converged. Fitness score: 2.71\n",
      "Frame : 228\n",
      "Error--------: 38.22651994279721\n",
      "Latent error above the threshold of 1.2\n",
      "Found 12907 lines. Skipped 11. Loaded 12896 points.\n"
     ]
    },
    {
     "name": "stderr",
     "output_type": "stream",
     "text": [
      " 23%|██▎       | 230/1014 [03:59<11:25,  1.14it/s]"
     ]
    },
    {
     "name": "stdout",
     "output_type": "stream",
     "text": [
      "ICP converged. Fitness score: 2.97\n",
      "Frame : 229\n",
      "Error--------: 38.420283239968015\n",
      "Latent error above the threshold of 1.2\n",
      "Found 14982 lines. Skipped 11. Loaded 14971 points.\n"
     ]
    },
    {
     "name": "stderr",
     "output_type": "stream",
     "text": [
      " 23%|██▎       | 231/1014 [04:00<11:40,  1.12it/s]"
     ]
    },
    {
     "name": "stdout",
     "output_type": "stream",
     "text": [
      "ICP converged. Fitness score: 2.95\n",
      "Frame : 230\n",
      "Error--------: 38.74717004151984\n",
      "Latent error above the threshold of 1.2\n",
      "Found 16236 lines. Skipped 11. Loaded 16225 points.\n"
     ]
    },
    {
     "name": "stderr",
     "output_type": "stream",
     "text": [
      " 23%|██▎       | 232/1014 [04:01<12:28,  1.04it/s]"
     ]
    },
    {
     "name": "stdout",
     "output_type": "stream",
     "text": [
      "ICP converged. Fitness score: 3.16\n",
      "Frame : 231\n",
      "Error--------: 38.92634238887905\n",
      "Latent error above the threshold of 1.2\n",
      "Found 14107 lines. Skipped 11. Loaded 14096 points.\n"
     ]
    },
    {
     "name": "stderr",
     "output_type": "stream",
     "text": [
      " 23%|██▎       | 233/1014 [04:02<12:28,  1.04it/s]"
     ]
    },
    {
     "name": "stdout",
     "output_type": "stream",
     "text": [
      "ICP converged. Fitness score: 2.93\n",
      "Frame : 232\n",
      "Error--------: 39.21672034175883\n",
      "Latent error above the threshold of 1.2\n",
      "Found 15312 lines. Skipped 11. Loaded 15301 points.\n"
     ]
    },
    {
     "name": "stderr",
     "output_type": "stream",
     "text": [
      " 23%|██▎       | 234/1014 [04:03<12:35,  1.03it/s]"
     ]
    },
    {
     "name": "stdout",
     "output_type": "stream",
     "text": [
      "ICP converged. Fitness score: 3.20\n",
      "Frame : 233\n",
      "Error--------: 39.51805247802309\n",
      "Latent error above the threshold of 1.2\n",
      "Found 15173 lines. Skipped 11. Loaded 15162 points.\n"
     ]
    },
    {
     "name": "stderr",
     "output_type": "stream",
     "text": [
      " 23%|██▎       | 235/1014 [04:04<12:25,  1.05it/s]"
     ]
    },
    {
     "name": "stdout",
     "output_type": "stream",
     "text": [
      "ICP converged. Fitness score: 2.95\n",
      "Frame : 234\n",
      "Error--------: 39.65784176412663\n",
      "Latent error above the threshold of 1.2\n",
      "Found 13357 lines. Skipped 11. Loaded 13346 points.\n"
     ]
    },
    {
     "name": "stderr",
     "output_type": "stream",
     "text": [
      " 23%|██▎       | 236/1014 [04:05<12:39,  1.02it/s]"
     ]
    },
    {
     "name": "stdout",
     "output_type": "stream",
     "text": [
      "ICP converged. Fitness score: 3.06\n",
      "Frame : 235\n",
      "Error--------: 39.955484544415626\n",
      "Latent error above the threshold of 1.2\n",
      "Found 19295 lines. Skipped 11. Loaded 19284 points.\n"
     ]
    },
    {
     "name": "stderr",
     "output_type": "stream",
     "text": [
      " 23%|██▎       | 237/1014 [04:06<11:58,  1.08it/s]"
     ]
    },
    {
     "name": "stdout",
     "output_type": "stream",
     "text": [
      "ICP converged. Fitness score: 3.05\n",
      "Frame : 236\n",
      "Error--------: 40.209602217381146\n",
      "Latent error above the threshold of 1.2\n",
      "Found 12735 lines. Skipped 11. Loaded 12724 points.\n"
     ]
    },
    {
     "name": "stderr",
     "output_type": "stream",
     "text": [
      " 23%|██▎       | 238/1014 [04:06<11:10,  1.16it/s]"
     ]
    },
    {
     "name": "stdout",
     "output_type": "stream",
     "text": [
      "ICP converged. Fitness score: 0.22\n",
      "Frame : 237\n",
      "Error--------: 40.576247502982724\n",
      "Latent error above the threshold of 1.2\n",
      "Found 13538 lines. Skipped 11. Loaded 13527 points.\n"
     ]
    },
    {
     "name": "stderr",
     "output_type": "stream",
     "text": [
      " 24%|██▎       | 239/1014 [04:07<11:24,  1.13it/s]"
     ]
    },
    {
     "name": "stdout",
     "output_type": "stream",
     "text": [
      "ICP converged. Fitness score: 0.41\n",
      "Frame : 238\n",
      "Error--------: 40.75069276354344\n",
      "Latent error above the threshold of 1.2\n",
      "Found 15133 lines. Skipped 11. Loaded 15122 points.\n"
     ]
    },
    {
     "name": "stderr",
     "output_type": "stream",
     "text": [
      " 24%|██▎       | 240/1014 [04:08<11:59,  1.08it/s]"
     ]
    },
    {
     "name": "stdout",
     "output_type": "stream",
     "text": [
      "ICP converged. Fitness score: 3.51\n",
      "Frame : 239\n",
      "Error--------: 41.22586989110234\n",
      "Latent error above the threshold of 1.2\n",
      "Found 13858 lines. Skipped 11. Loaded 13847 points.\n"
     ]
    },
    {
     "name": "stderr",
     "output_type": "stream",
     "text": [
      " 24%|██▍       | 241/1014 [04:09<11:33,  1.11it/s]"
     ]
    },
    {
     "name": "stdout",
     "output_type": "stream",
     "text": [
      "ICP converged. Fitness score: 2.96\n",
      "Frame : 240\n",
      "Error--------: 41.25061524036983\n",
      "Latent error above the threshold of 1.2\n",
      "Found 17674 lines. Skipped 11. Loaded 17663 points.\n"
     ]
    },
    {
     "name": "stderr",
     "output_type": "stream",
     "text": [
      " 24%|██▍       | 242/1014 [04:10<12:01,  1.07it/s]"
     ]
    },
    {
     "name": "stdout",
     "output_type": "stream",
     "text": [
      "ICP converged. Fitness score: 3.28\n",
      "Frame : 241\n",
      "Error--------: 41.483122062098104\n",
      "Latent error above the threshold of 1.2\n",
      "Found 18060 lines. Skipped 11. Loaded 18049 points.\n"
     ]
    },
    {
     "name": "stderr",
     "output_type": "stream",
     "text": [
      " 24%|██▍       | 243/1014 [04:11<11:59,  1.07it/s]"
     ]
    },
    {
     "name": "stdout",
     "output_type": "stream",
     "text": [
      "ICP converged. Fitness score: 3.47\n",
      "Frame : 242\n",
      "Error--------: 41.64670060312138\n",
      "Latent error above the threshold of 1.2\n",
      "Found 15413 lines. Skipped 11. Loaded 15402 points.\n"
     ]
    },
    {
     "name": "stderr",
     "output_type": "stream",
     "text": [
      " 24%|██▍       | 244/1014 [04:12<12:27,  1.03it/s]"
     ]
    },
    {
     "name": "stdout",
     "output_type": "stream",
     "text": [
      "ICP converged. Fitness score: 3.67\n",
      "Frame : 243\n",
      "Error--------: 41.92610039657972\n",
      "Latent error above the threshold of 1.2\n",
      "Found 14904 lines. Skipped 11. Loaded 14893 points.\n"
     ]
    },
    {
     "name": "stderr",
     "output_type": "stream",
     "text": [
      " 24%|██▍       | 245/1014 [04:13<12:53,  1.01s/it]"
     ]
    },
    {
     "name": "stdout",
     "output_type": "stream",
     "text": [
      "ICP converged. Fitness score: 3.30\n",
      "Frame : 244\n",
      "Error--------: 42.11149538560112\n",
      "Latent error above the threshold of 1.2\n",
      "Found 16029 lines. Skipped 11. Loaded 16018 points.\n"
     ]
    },
    {
     "name": "stderr",
     "output_type": "stream",
     "text": [
      " 24%|██▍       | 246/1014 [04:14<13:21,  1.04s/it]"
     ]
    },
    {
     "name": "stdout",
     "output_type": "stream",
     "text": [
      "ICP converged. Fitness score: 3.64\n",
      "Frame : 245\n",
      "Error--------: 42.37380162769402\n",
      "Latent error above the threshold of 1.2\n",
      "Found 12347 lines. Skipped 11. Loaded 12336 points.\n"
     ]
    },
    {
     "name": "stderr",
     "output_type": "stream",
     "text": [
      " 24%|██▍       | 247/1014 [04:15<11:50,  1.08it/s]"
     ]
    },
    {
     "name": "stdout",
     "output_type": "stream",
     "text": [
      "ICP converged. Fitness score: 3.24\n",
      "Frame : 246\n",
      "Error--------: 42.63661893451115\n",
      "Latent error above the threshold of 1.2\n",
      "Found 11565 lines. Skipped 11. Loaded 11554 points.\n"
     ]
    },
    {
     "name": "stderr",
     "output_type": "stream",
     "text": [
      " 24%|██▍       | 248/1014 [04:16<11:46,  1.08it/s]"
     ]
    },
    {
     "name": "stdout",
     "output_type": "stream",
     "text": [
      "ICP converged. Fitness score: 3.28\n",
      "Frame : 247\n",
      "Error--------: 42.80503574380137\n",
      "Latent error above the threshold of 1.2\n",
      "Found 12865 lines. Skipped 11. Loaded 12854 points.\n"
     ]
    },
    {
     "name": "stderr",
     "output_type": "stream",
     "text": [
      " 25%|██▍       | 249/1014 [04:17<11:07,  1.15it/s]"
     ]
    },
    {
     "name": "stdout",
     "output_type": "stream",
     "text": [
      "ICP converged. Fitness score: 3.20\n",
      "Frame : 248\n",
      "Error--------: 43.02131976219056\n",
      "Latent error above the threshold of 1.2\n",
      "Found 11501 lines. Skipped 11. Loaded 11490 points.\n"
     ]
    },
    {
     "name": "stderr",
     "output_type": "stream",
     "text": [
      " 25%|██▍       | 250/1014 [04:17<10:54,  1.17it/s]"
     ]
    },
    {
     "name": "stdout",
     "output_type": "stream",
     "text": [
      "ICP converged. Fitness score: 0.20\n",
      "Frame : 249\n",
      "Error--------: 43.300142646221644\n",
      "Latent error above the threshold of 1.2\n",
      "Found 13294 lines. Skipped 11. Loaded 13283 points.\n"
     ]
    },
    {
     "name": "stderr",
     "output_type": "stream",
     "text": [
      " 25%|██▍       | 251/1014 [04:18<11:47,  1.08it/s]"
     ]
    },
    {
     "name": "stdout",
     "output_type": "stream",
     "text": [
      "ICP converged. Fitness score: 3.36\n",
      "Frame : 250\n",
      "Error--------: 43.71216071993483\n",
      "Latent error above the threshold of 1.2\n",
      "Found 16581 lines. Skipped 11. Loaded 16570 points.\n"
     ]
    },
    {
     "name": "stderr",
     "output_type": "stream",
     "text": [
      " 25%|██▍       | 252/1014 [04:20<12:06,  1.05it/s]"
     ]
    },
    {
     "name": "stdout",
     "output_type": "stream",
     "text": [
      "ICP converged. Fitness score: 3.46\n",
      "Frame : 251\n",
      "Error--------: 43.65110382107214\n",
      "Latent error above the threshold of 1.2\n",
      "Found 16581 lines. Skipped 11. Loaded 16570 points.\n"
     ]
    },
    {
     "name": "stderr",
     "output_type": "stream",
     "text": [
      " 25%|██▍       | 253/1014 [04:21<12:25,  1.02it/s]"
     ]
    },
    {
     "name": "stdout",
     "output_type": "stream",
     "text": [
      "ICP converged. Fitness score: 3.60\n",
      "Frame : 252\n",
      "Error--------: 43.83035509655094\n",
      "Latent error above the threshold of 1.2\n",
      "Found 16357 lines. Skipped 11. Loaded 16346 points.\n"
     ]
    },
    {
     "name": "stderr",
     "output_type": "stream",
     "text": [
      " 25%|██▌       | 254/1014 [04:22<12:34,  1.01it/s]"
     ]
    },
    {
     "name": "stdout",
     "output_type": "stream",
     "text": [
      "ICP converged. Fitness score: 3.37\n",
      "Frame : 253\n",
      "Error--------: 44.095100229417305\n",
      "Latent error above the threshold of 1.2\n",
      "Found 14201 lines. Skipped 11. Loaded 14190 points.\n"
     ]
    },
    {
     "name": "stderr",
     "output_type": "stream",
     "text": [
      " 25%|██▌       | 255/1014 [04:22<12:06,  1.04it/s]"
     ]
    },
    {
     "name": "stdout",
     "output_type": "stream",
     "text": [
      "ICP converged. Fitness score: 3.25\n",
      "Frame : 254\n",
      "Error--------: 44.2542941986795\n",
      "Latent error above the threshold of 1.2\n",
      "Found 14717 lines. Skipped 11. Loaded 14706 points.\n"
     ]
    },
    {
     "name": "stderr",
     "output_type": "stream",
     "text": [
      " 25%|██▌       | 256/1014 [04:23<12:10,  1.04it/s]"
     ]
    },
    {
     "name": "stdout",
     "output_type": "stream",
     "text": [
      "ICP converged. Fitness score: 3.29\n",
      "Frame : 255\n",
      "Error--------: 44.543596494419695\n",
      "Latent error above the threshold of 1.2\n",
      "Found 12877 lines. Skipped 11. Loaded 12866 points.\n"
     ]
    },
    {
     "name": "stderr",
     "output_type": "stream",
     "text": [
      " 25%|██▌       | 257/1014 [04:24<12:01,  1.05it/s]"
     ]
    },
    {
     "name": "stdout",
     "output_type": "stream",
     "text": [
      "ICP converged. Fitness score: 3.22\n",
      "Frame : 256\n",
      "Error--------: 44.69795457444864\n",
      "Latent error above the threshold of 1.2\n",
      "Found 12358 lines. Skipped 11. Loaded 12347 points.\n"
     ]
    },
    {
     "name": "stderr",
     "output_type": "stream",
     "text": [
      " 25%|██▌       | 258/1014 [04:25<11:57,  1.05it/s]"
     ]
    },
    {
     "name": "stdout",
     "output_type": "stream",
     "text": [
      "ICP converged. Fitness score: 3.12\n",
      "Frame : 257\n",
      "Error--------: 44.93818428353765\n",
      "Latent error above the threshold of 1.2\n",
      "Found 16236 lines. Skipped 11. Loaded 16225 points.\n"
     ]
    },
    {
     "name": "stderr",
     "output_type": "stream",
     "text": [
      " 26%|██▌       | 259/1014 [04:26<12:12,  1.03it/s]"
     ]
    },
    {
     "name": "stdout",
     "output_type": "stream",
     "text": [
      "ICP converged. Fitness score: 3.44\n",
      "Frame : 258\n",
      "Error--------: 45.08934445370736\n",
      "Latent error above the threshold of 1.2\n",
      "Found 16165 lines. Skipped 11. Loaded 16154 points.\n"
     ]
    },
    {
     "name": "stderr",
     "output_type": "stream",
     "text": [
      " 26%|██▌       | 260/1014 [04:27<12:12,  1.03it/s]"
     ]
    },
    {
     "name": "stdout",
     "output_type": "stream",
     "text": [
      "ICP converged. Fitness score: 3.21\n",
      "Frame : 259\n",
      "Error--------: 45.33642046751694\n",
      "Latent error above the threshold of 1.2\n",
      "Found 11686 lines. Skipped 11. Loaded 11675 points.\n"
     ]
    },
    {
     "name": "stderr",
     "output_type": "stream",
     "text": [
      " 26%|██▌       | 261/1014 [04:28<10:58,  1.14it/s]"
     ]
    },
    {
     "name": "stdout",
     "output_type": "stream",
     "text": [
      "ICP converged. Fitness score: 0.36\n",
      "Frame : 260\n",
      "Error--------: 45.70177391616722\n",
      "Latent error above the threshold of 1.2\n",
      "Found 18090 lines. Skipped 11. Loaded 18079 points.\n"
     ]
    },
    {
     "name": "stderr",
     "output_type": "stream",
     "text": [
      " 26%|██▌       | 262/1014 [04:29<11:42,  1.07it/s]"
     ]
    },
    {
     "name": "stdout",
     "output_type": "stream",
     "text": [
      "ICP converged. Fitness score: 3.39\n",
      "Frame : 261\n",
      "Error--------: 45.96093393691065\n",
      "Latent error above the threshold of 1.2\n",
      "Found 14746 lines. Skipped 11. Loaded 14735 points.\n"
     ]
    },
    {
     "name": "stderr",
     "output_type": "stream",
     "text": [
      " 26%|██▌       | 263/1014 [04:30<10:50,  1.15it/s]"
     ]
    },
    {
     "name": "stdout",
     "output_type": "stream",
     "text": [
      "ICP converged. Fitness score: 2.71\n",
      "Frame : 262\n",
      "Error--------: 46.04873045918014\n",
      "Latent error above the threshold of 1.2\n",
      "Found 17045 lines. Skipped 11. Loaded 17034 points.\n"
     ]
    },
    {
     "name": "stderr",
     "output_type": "stream",
     "text": [
      " 26%|██▌       | 264/1014 [04:31<11:37,  1.08it/s]"
     ]
    },
    {
     "name": "stdout",
     "output_type": "stream",
     "text": [
      "ICP converged. Fitness score: 3.20\n",
      "Frame : 263\n",
      "Error--------: 46.23837722350178\n",
      "Latent error above the threshold of 1.2\n",
      "Found 16609 lines. Skipped 11. Loaded 16598 points.\n"
     ]
    },
    {
     "name": "stderr",
     "output_type": "stream",
     "text": [
      " 26%|██▌       | 265/1014 [04:32<11:18,  1.10it/s]"
     ]
    },
    {
     "name": "stdout",
     "output_type": "stream",
     "text": [
      "ICP converged. Fitness score: 2.72\n",
      "Frame : 264\n",
      "Error--------: 46.52223075833629\n",
      "Latent error above the threshold of 1.2\n",
      "Found 15258 lines. Skipped 11. Loaded 15247 points.\n"
     ]
    },
    {
     "name": "stderr",
     "output_type": "stream",
     "text": [
      " 26%|██▌       | 266/1014 [04:33<11:22,  1.10it/s]"
     ]
    },
    {
     "name": "stdout",
     "output_type": "stream",
     "text": [
      "ICP converged. Fitness score: 2.96\n",
      "Frame : 265\n",
      "Error--------: 46.77977268411136\n",
      "Latent error above the threshold of 1.2\n",
      "Found 13272 lines. Skipped 11. Loaded 13261 points.\n"
     ]
    },
    {
     "name": "stderr",
     "output_type": "stream",
     "text": [
      " 26%|██▋       | 267/1014 [04:33<10:00,  1.24it/s]"
     ]
    },
    {
     "name": "stdout",
     "output_type": "stream",
     "text": [
      "ICP converged. Fitness score: 2.49\n",
      "Frame : 266\n",
      "Error--------: 47.112445826746786\n",
      "Latent error above the threshold of 1.2\n",
      "Found 11710 lines. Skipped 11. Loaded 11699 points.\n"
     ]
    },
    {
     "name": "stderr",
     "output_type": "stream",
     "text": [
      " 26%|██▋       | 268/1014 [04:34<10:19,  1.20it/s]"
     ]
    },
    {
     "name": "stdout",
     "output_type": "stream",
     "text": [
      "ICP converged. Fitness score: 2.62\n",
      "Frame : 267\n",
      "Error--------: 47.28191447301828\n",
      "Latent error above the threshold of 1.2\n",
      "Found 15920 lines. Skipped 11. Loaded 15909 points.\n"
     ]
    },
    {
     "name": "stderr",
     "output_type": "stream",
     "text": [
      " 27%|██▋       | 269/1014 [04:35<10:51,  1.14it/s]"
     ]
    },
    {
     "name": "stdout",
     "output_type": "stream",
     "text": [
      "ICP converged. Fitness score: 2.12\n",
      "Frame : 268\n",
      "Error--------: 47.5875539964682\n",
      "Latent error above the threshold of 1.2\n",
      "Found 15920 lines. Skipped 11. Loaded 15909 points.\n"
     ]
    },
    {
     "name": "stderr",
     "output_type": "stream",
     "text": [
      " 27%|██▋       | 270/1014 [04:36<11:30,  1.08it/s]"
     ]
    },
    {
     "name": "stdout",
     "output_type": "stream",
     "text": [
      "ICP converged. Fitness score: 2.48\n",
      "Frame : 269\n",
      "Error--------: 47.7442801753372\n",
      "Latent error above the threshold of 1.2\n",
      "Found 17867 lines. Skipped 11. Loaded 17856 points.\n"
     ]
    },
    {
     "name": "stderr",
     "output_type": "stream",
     "text": [
      " 27%|██▋       | 271/1014 [04:37<10:12,  1.21it/s]"
     ]
    },
    {
     "name": "stdout",
     "output_type": "stream",
     "text": [
      "ICP converged. Fitness score: 2.28\n",
      "Frame : 270\n",
      "Error--------: 47.970556975027165\n",
      "Latent error above the threshold of 1.2\n",
      "Found 12960 lines. Skipped 11. Loaded 12949 points.\n"
     ]
    },
    {
     "name": "stderr",
     "output_type": "stream",
     "text": [
      " 27%|██▋       | 272/1014 [04:38<10:22,  1.19it/s]"
     ]
    },
    {
     "name": "stdout",
     "output_type": "stream",
     "text": [
      "ICP converged. Fitness score: 0.15\n",
      "Frame : 271\n",
      "Error--------: 48.18726161829969\n",
      "Latent error above the threshold of 1.2\n",
      "Found 14667 lines. Skipped 11. Loaded 14656 points.\n"
     ]
    },
    {
     "name": "stderr",
     "output_type": "stream",
     "text": [
      " 27%|██▋       | 273/1014 [04:38<10:43,  1.15it/s]"
     ]
    },
    {
     "name": "stdout",
     "output_type": "stream",
     "text": [
      "ICP converged. Fitness score: 2.38\n",
      "Frame : 272\n",
      "Error--------: 48.37028710474266\n",
      "Latent error above the threshold of 1.2\n",
      "Found 15951 lines. Skipped 11. Loaded 15940 points.\n"
     ]
    },
    {
     "name": "stderr",
     "output_type": "stream",
     "text": [
      " 27%|██▋       | 274/1014 [04:39<10:13,  1.21it/s]"
     ]
    },
    {
     "name": "stdout",
     "output_type": "stream",
     "text": [
      "ICP converged. Fitness score: 2.42\n",
      "Frame : 273\n",
      "Error--------: 48.68826453785357\n",
      "Latent error above the threshold of 1.2\n",
      "Found 17113 lines. Skipped 11. Loaded 17102 points.\n"
     ]
    },
    {
     "name": "stderr",
     "output_type": "stream",
     "text": [
      " 27%|██▋       | 275/1014 [04:40<10:26,  1.18it/s]"
     ]
    },
    {
     "name": "stdout",
     "output_type": "stream",
     "text": [
      "ICP converged. Fitness score: 2.37\n",
      "Frame : 274\n",
      "Error--------: 48.90511567773318\n",
      "Latent error above the threshold of 1.2\n",
      "Found 15362 lines. Skipped 11. Loaded 15351 points.\n"
     ]
    },
    {
     "name": "stderr",
     "output_type": "stream",
     "text": [
      " 27%|██▋       | 276/1014 [04:41<10:40,  1.15it/s]"
     ]
    },
    {
     "name": "stdout",
     "output_type": "stream",
     "text": [
      "ICP converged. Fitness score: 2.54\n",
      "Frame : 275\n",
      "Error--------: 49.1329372421695\n",
      "Latent error above the threshold of 1.2\n",
      "Found 11952 lines. Skipped 11. Loaded 11941 points.\n"
     ]
    },
    {
     "name": "stderr",
     "output_type": "stream",
     "text": [
      " 27%|██▋       | 277/1014 [04:42<11:02,  1.11it/s]"
     ]
    },
    {
     "name": "stdout",
     "output_type": "stream",
     "text": [
      "ICP converged. Fitness score: 2.28\n",
      "Frame : 276\n",
      "Error--------: 49.30452290129587\n",
      "Latent error above the threshold of 1.2\n",
      "Found 16377 lines. Skipped 11. Loaded 16366 points.\n"
     ]
    },
    {
     "name": "stderr",
     "output_type": "stream",
     "text": [
      " 27%|██▋       | 278/1014 [04:43<11:26,  1.07it/s]"
     ]
    },
    {
     "name": "stdout",
     "output_type": "stream",
     "text": [
      "ICP converged. Fitness score: 2.58\n",
      "Frame : 277\n",
      "Error--------: 49.563576391803025\n",
      "Latent error above the threshold of 1.2\n",
      "Found 13218 lines. Skipped 11. Loaded 13207 points.\n"
     ]
    },
    {
     "name": "stderr",
     "output_type": "stream",
     "text": [
      " 28%|██▊       | 279/1014 [04:44<11:17,  1.08it/s]"
     ]
    },
    {
     "name": "stdout",
     "output_type": "stream",
     "text": [
      "ICP converged. Fitness score: 2.69\n",
      "Frame : 278\n",
      "Error--------: 49.70293436063411\n",
      "Latent error above the threshold of 1.2\n",
      "Found 13218 lines. Skipped 11. Loaded 13207 points.\n"
     ]
    },
    {
     "name": "stderr",
     "output_type": "stream",
     "text": [
      " 28%|██▊       | 280/1014 [04:45<10:14,  1.19it/s]"
     ]
    },
    {
     "name": "stdout",
     "output_type": "stream",
     "text": [
      "ICP converged. Fitness score: 2.65\n",
      "Frame : 279\n",
      "Error--------: 49.98785762216528\n",
      "Latent error above the threshold of 1.2\n",
      "Found 15803 lines. Skipped 11. Loaded 15792 points.\n"
     ]
    },
    {
     "name": "stderr",
     "output_type": "stream",
     "text": [
      " 28%|██▊       | 281/1014 [04:45<10:48,  1.13it/s]"
     ]
    },
    {
     "name": "stdout",
     "output_type": "stream",
     "text": [
      "ICP converged. Fitness score: 2.57\n",
      "Frame : 280\n",
      "Error--------: 50.14471238172048\n",
      "Latent error above the threshold of 1.2\n",
      "Found 13718 lines. Skipped 11. Loaded 13707 points.\n"
     ]
    },
    {
     "name": "stderr",
     "output_type": "stream",
     "text": [
      " 28%|██▊       | 282/1014 [04:46<09:38,  1.27it/s]"
     ]
    },
    {
     "name": "stdout",
     "output_type": "stream",
     "text": [
      "ICP converged. Fitness score: 2.62\n",
      "Frame : 281\n",
      "Error--------: 50.4966928812413\n",
      "Latent error above the threshold of 1.2\n",
      "Found 11333 lines. Skipped 11. Loaded 11322 points.\n"
     ]
    },
    {
     "name": "stderr",
     "output_type": "stream",
     "text": [
      " 28%|██▊       | 283/1014 [04:47<09:42,  1.25it/s]"
     ]
    },
    {
     "name": "stdout",
     "output_type": "stream",
     "text": [
      "ICP converged. Fitness score: 0.30\n",
      "Frame : 282\n",
      "Error--------: 50.72693784389487\n",
      "Latent error above the threshold of 1.2\n",
      "Found 13241 lines. Skipped 11. Loaded 13230 points.\n"
     ]
    },
    {
     "name": "stderr",
     "output_type": "stream",
     "text": [
      " 28%|██▊       | 284/1014 [04:48<10:16,  1.18it/s]"
     ]
    },
    {
     "name": "stdout",
     "output_type": "stream",
     "text": [
      "ICP converged. Fitness score: 3.07\n",
      "Frame : 283\n",
      "Error--------: 51.044359053746135\n",
      "Latent error above the threshold of 1.2\n",
      "Found 16019 lines. Skipped 11. Loaded 16008 points.\n"
     ]
    },
    {
     "name": "stderr",
     "output_type": "stream",
     "text": [
      " 28%|██▊       | 285/1014 [04:48<09:14,  1.31it/s]"
     ]
    },
    {
     "name": "stdout",
     "output_type": "stream",
     "text": [
      "ICP converged. Fitness score: 2.62\n",
      "Frame : 284\n",
      "Error--------: 51.15865970556649\n",
      "Latent error above the threshold of 1.2\n",
      "Found 15285 lines. Skipped 11. Loaded 15274 points.\n"
     ]
    },
    {
     "name": "stderr",
     "output_type": "stream",
     "text": [
      " 28%|██▊       | 286/1014 [04:49<09:46,  1.24it/s]"
     ]
    },
    {
     "name": "stdout",
     "output_type": "stream",
     "text": [
      "ICP converged. Fitness score: 3.02\n",
      "Frame : 285\n",
      "Error--------: 51.32353939496305\n",
      "Latent error above the threshold of 1.2\n",
      "Found 14540 lines. Skipped 11. Loaded 14529 points.\n"
     ]
    },
    {
     "name": "stderr",
     "output_type": "stream",
     "text": [
      " 28%|██▊       | 287/1014 [04:50<08:34,  1.41it/s]"
     ]
    },
    {
     "name": "stdout",
     "output_type": "stream",
     "text": [
      "ICP converged. Fitness score: 2.74\n",
      "Frame : 286\n",
      "Error--------: 51.594340113552875\n",
      "Latent error above the threshold of 1.2\n",
      "Found 15694 lines. Skipped 11. Loaded 15683 points.\n"
     ]
    },
    {
     "name": "stderr",
     "output_type": "stream",
     "text": [
      " 28%|██▊       | 288/1014 [04:51<10:04,  1.20it/s]"
     ]
    },
    {
     "name": "stdout",
     "output_type": "stream",
     "text": [
      "ICP converged. Fitness score: 3.26\n",
      "Frame : 287\n",
      "Error--------: 51.79342884650587\n",
      "Latent error above the threshold of 1.2\n",
      "Found 15542 lines. Skipped 11. Loaded 15531 points.\n"
     ]
    },
    {
     "name": "stderr",
     "output_type": "stream",
     "text": [
      " 29%|██▊       | 289/1014 [04:52<09:25,  1.28it/s]"
     ]
    },
    {
     "name": "stdout",
     "output_type": "stream",
     "text": [
      "ICP converged. Fitness score: 2.92\n",
      "Frame : 288\n",
      "Error--------: 52.04364818190535\n",
      "Latent error above the threshold of 1.2\n",
      "Found 14396 lines. Skipped 11. Loaded 14385 points.\n"
     ]
    },
    {
     "name": "stderr",
     "output_type": "stream",
     "text": [
      " 29%|██▊       | 290/1014 [04:53<10:09,  1.19it/s]"
     ]
    },
    {
     "name": "stdout",
     "output_type": "stream",
     "text": [
      "ICP converged. Fitness score: 3.34\n",
      "Frame : 289\n",
      "Error--------: 52.21007647377948\n",
      "Latent error above the threshold of 1.2\n",
      "Found 10255 lines. Skipped 11. Loaded 10244 points.\n"
     ]
    },
    {
     "name": "stderr",
     "output_type": "stream",
     "text": [
      " 29%|██▊       | 291/1014 [04:53<10:21,  1.16it/s]"
     ]
    },
    {
     "name": "stdout",
     "output_type": "stream",
     "text": [
      "ICP converged. Fitness score: 2.87\n",
      "Frame : 290\n",
      "Error--------: 52.51473199226925\n",
      "Latent error above the threshold of 1.2\n",
      "Found 18262 lines. Skipped 11. Loaded 18251 points.\n"
     ]
    },
    {
     "name": "stderr",
     "output_type": "stream",
     "text": [
      " 29%|██▉       | 292/1014 [04:54<11:00,  1.09it/s]"
     ]
    },
    {
     "name": "stdout",
     "output_type": "stream",
     "text": [
      "ICP converged. Fitness score: 3.50\n",
      "Frame : 291\n",
      "Error--------: 52.645616474091995\n",
      "Latent error above the threshold of 1.2\n",
      "Found 13933 lines. Skipped 11. Loaded 13922 points.\n"
     ]
    },
    {
     "name": "stderr",
     "output_type": "stream",
     "text": [
      " 29%|██▉       | 293/1014 [04:55<11:07,  1.08it/s]"
     ]
    },
    {
     "name": "stdout",
     "output_type": "stream",
     "text": [
      "ICP converged. Fitness score: 2.81\n",
      "Frame : 292\n",
      "Error--------: 52.90595344539745\n",
      "Latent error above the threshold of 1.2\n",
      "Found 10302 lines. Skipped 11. Loaded 10291 points.\n"
     ]
    },
    {
     "name": "stderr",
     "output_type": "stream",
     "text": [
      " 29%|██▉       | 294/1014 [04:56<10:37,  1.13it/s]"
     ]
    },
    {
     "name": "stdout",
     "output_type": "stream",
     "text": [
      "ICP converged. Fitness score: 0.19\n",
      "Frame : 293\n",
      "Error--------: 53.27198922495177\n",
      "Latent error above the threshold of 1.2\n",
      "Found 17123 lines. Skipped 11. Loaded 17112 points.\n"
     ]
    },
    {
     "name": "stderr",
     "output_type": "stream",
     "text": [
      " 29%|██▉       | 295/1014 [04:57<11:06,  1.08it/s]"
     ]
    },
    {
     "name": "stdout",
     "output_type": "stream",
     "text": [
      "ICP converged. Fitness score: 3.59\n",
      "Frame : 294\n",
      "Error--------: 53.755337662703404\n",
      "Latent error above the threshold of 1.2\n",
      "Found 16512 lines. Skipped 11. Loaded 16501 points.\n"
     ]
    },
    {
     "name": "stderr",
     "output_type": "stream",
     "text": [
      " 29%|██▉       | 296/1014 [04:58<10:58,  1.09it/s]"
     ]
    },
    {
     "name": "stdout",
     "output_type": "stream",
     "text": [
      "ICP converged. Fitness score: 2.96\n",
      "Frame : 295\n",
      "Error--------: 53.54224338806444\n",
      "Latent error above the threshold of 1.2\n",
      "Found 11901 lines. Skipped 11. Loaded 11890 points.\n"
     ]
    },
    {
     "name": "stderr",
     "output_type": "stream",
     "text": [
      " 29%|██▉       | 297/1014 [04:59<10:54,  1.09it/s]"
     ]
    },
    {
     "name": "stdout",
     "output_type": "stream",
     "text": [
      "ICP converged. Fitness score: 2.82\n",
      "Frame : 296\n",
      "Error--------: 53.86212709234364\n",
      "Latent error above the threshold of 1.2\n",
      "Found 11069 lines. Skipped 11. Loaded 11058 points.\n"
     ]
    },
    {
     "name": "stderr",
     "output_type": "stream",
     "text": [
      " 29%|██▉       | 298/1014 [05:00<10:38,  1.12it/s]"
     ]
    },
    {
     "name": "stdout",
     "output_type": "stream",
     "text": [
      "ICP converged. Fitness score: 3.35\n",
      "Frame : 297\n",
      "Error--------: 54.08256034359396\n",
      "Latent error above the threshold of 1.2\n",
      "Found 14045 lines. Skipped 11. Loaded 14034 points.\n"
     ]
    },
    {
     "name": "stderr",
     "output_type": "stream",
     "text": [
      " 29%|██▉       | 299/1014 [05:01<10:42,  1.11it/s]"
     ]
    },
    {
     "name": "stdout",
     "output_type": "stream",
     "text": [
      "ICP converged. Fitness score: 3.30\n",
      "Frame : 298\n",
      "Error--------: 54.236161182325176\n",
      "Latent error above the threshold of 1.2\n",
      "Found 15698 lines. Skipped 11. Loaded 15687 points.\n"
     ]
    },
    {
     "name": "stderr",
     "output_type": "stream",
     "text": [
      " 30%|██▉       | 300/1014 [05:02<10:45,  1.11it/s]"
     ]
    },
    {
     "name": "stdout",
     "output_type": "stream",
     "text": [
      "ICP converged. Fitness score: 3.11\n",
      "Frame : 299\n",
      "Error--------: 54.47600699130574\n",
      "Latent error above the threshold of 1.2\n",
      "Found 14321 lines. Skipped 11. Loaded 14310 points.\n"
     ]
    },
    {
     "name": "stderr",
     "output_type": "stream",
     "text": [
      " 30%|██▉       | 301/1014 [05:03<10:53,  1.09it/s]"
     ]
    },
    {
     "name": "stdout",
     "output_type": "stream",
     "text": [
      "ICP converged. Fitness score: 3.28\n",
      "Frame : 300\n",
      "Error--------: 54.637194737611814\n",
      "Latent error above the threshold of 1.2\n",
      "Found 13054 lines. Skipped 11. Loaded 13043 points.\n"
     ]
    },
    {
     "name": "stderr",
     "output_type": "stream",
     "text": [
      " 30%|██▉       | 302/1014 [05:04<10:43,  1.11it/s]"
     ]
    },
    {
     "name": "stdout",
     "output_type": "stream",
     "text": [
      "ICP converged. Fitness score: 3.14\n",
      "Frame : 301\n",
      "Error--------: 54.92448579709599\n",
      "Latent error above the threshold of 1.2\n",
      "Found 15453 lines. Skipped 11. Loaded 15442 points.\n"
     ]
    },
    {
     "name": "stderr",
     "output_type": "stream",
     "text": [
      " 30%|██▉       | 303/1014 [05:05<10:53,  1.09it/s]"
     ]
    },
    {
     "name": "stdout",
     "output_type": "stream",
     "text": [
      "ICP converged. Fitness score: 3.40\n",
      "Frame : 302\n",
      "Error--------: 55.13935135347331\n",
      "Latent error above the threshold of 1.2\n",
      "Found 14230 lines. Skipped 11. Loaded 14219 points.\n"
     ]
    },
    {
     "name": "stderr",
     "output_type": "stream",
     "text": [
      " 30%|██▉       | 304/1014 [05:06<11:20,  1.04it/s]"
     ]
    },
    {
     "name": "stdout",
     "output_type": "stream",
     "text": [
      "ICP converged. Fitness score: 3.36\n",
      "Frame : 303\n",
      "Error--------: 55.438803758440606\n",
      "Latent error above the threshold of 1.2\n",
      "Found 10816 lines. Skipped 11. Loaded 10805 points.\n"
     ]
    },
    {
     "name": "stderr",
     "output_type": "stream",
     "text": [
      " 30%|███       | 305/1014 [05:06<10:48,  1.09it/s]"
     ]
    },
    {
     "name": "stdout",
     "output_type": "stream",
     "text": [
      "ICP converged. Fitness score: 0.29\n",
      "Frame : 304\n",
      "Error--------: 55.83401364702696\n",
      "Latent error above the threshold of 1.2\n",
      "Found 14393 lines. Skipped 11. Loaded 14382 points.\n"
     ]
    },
    {
     "name": "stderr",
     "output_type": "stream",
     "text": [
      " 30%|███       | 306/1014 [05:07<10:39,  1.11it/s]"
     ]
    },
    {
     "name": "stdout",
     "output_type": "stream",
     "text": [
      "ICP converged. Fitness score: 3.35\n",
      "Frame : 305\n",
      "Error--------: 56.23595110639605\n",
      "Latent error above the threshold of 1.2\n",
      "Found 16069 lines. Skipped 11. Loaded 16058 points.\n"
     ]
    },
    {
     "name": "stderr",
     "output_type": "stream",
     "text": [
      " 30%|███       | 307/1014 [05:08<08:58,  1.31it/s]"
     ]
    },
    {
     "name": "stdout",
     "output_type": "stream",
     "text": [
      "ICP converged. Fitness score: 3.11\n",
      "Frame : 306\n",
      "Error--------: 56.289537826731404\n",
      "Latent error above the threshold of 1.2\n",
      "Found 16867 lines. Skipped 11. Loaded 16856 points.\n"
     ]
    },
    {
     "name": "stderr",
     "output_type": "stream",
     "text": [
      " 30%|███       | 308/1014 [05:09<09:37,  1.22it/s]"
     ]
    },
    {
     "name": "stdout",
     "output_type": "stream",
     "text": [
      "ICP converged. Fitness score: 3.56\n",
      "Frame : 307\n",
      "Error--------: 56.49994066788616\n",
      "Latent error above the threshold of 1.2\n",
      "Found 13188 lines. Skipped 11. Loaded 13177 points.\n"
     ]
    },
    {
     "name": "stderr",
     "output_type": "stream",
     "text": [
      " 30%|███       | 309/1014 [05:09<08:24,  1.40it/s]"
     ]
    },
    {
     "name": "stdout",
     "output_type": "stream",
     "text": [
      "ICP converged. Fitness score: 2.96\n",
      "Frame : 308\n",
      "Error--------: 56.70226437905082\n",
      "Latent error above the threshold of 1.2\n",
      "Found 12688 lines. Skipped 11. Loaded 12677 points.\n"
     ]
    },
    {
     "name": "stderr",
     "output_type": "stream",
     "text": [
      " 31%|███       | 310/1014 [05:10<08:46,  1.34it/s]"
     ]
    },
    {
     "name": "stdout",
     "output_type": "stream",
     "text": [
      "ICP converged. Fitness score: 3.04\n",
      "Frame : 309\n",
      "Error--------: 56.8843599758323\n",
      "Latent error above the threshold of 1.2\n",
      "Found 14817 lines. Skipped 11. Loaded 14806 points.\n"
     ]
    },
    {
     "name": "stderr",
     "output_type": "stream",
     "text": [
      " 31%|███       | 311/1014 [05:10<07:43,  1.52it/s]"
     ]
    },
    {
     "name": "stdout",
     "output_type": "stream",
     "text": [
      "ICP converged. Fitness score: 3.21\n",
      "Frame : 310\n",
      "Error--------: 57.06259045311686\n",
      "Latent error above the threshold of 1.2\n",
      "Found 14421 lines. Skipped 11. Loaded 14410 points.\n"
     ]
    },
    {
     "name": "stderr",
     "output_type": "stream",
     "text": [
      " 31%|███       | 312/1014 [05:11<07:55,  1.48it/s]"
     ]
    },
    {
     "name": "stdout",
     "output_type": "stream",
     "text": [
      "ICP converged. Fitness score: 3.35\n",
      "Frame : 311\n",
      "Error--------: 57.26590764365306\n",
      "Latent error above the threshold of 1.2\n",
      "Found 14819 lines. Skipped 11. Loaded 14808 points.\n"
     ]
    },
    {
     "name": "stderr",
     "output_type": "stream",
     "text": [
      " 31%|███       | 313/1014 [05:12<07:26,  1.57it/s]"
     ]
    },
    {
     "name": "stdout",
     "output_type": "stream",
     "text": [
      "ICP converged. Fitness score: 2.92\n",
      "Frame : 312\n",
      "Error--------: 57.62978176382176\n",
      "Latent error above the threshold of 1.2\n",
      "Found 14953 lines. Skipped 11. Loaded 14942 points.\n"
     ]
    },
    {
     "name": "stderr",
     "output_type": "stream",
     "text": [
      " 31%|███       | 314/1014 [05:12<07:45,  1.50it/s]"
     ]
    },
    {
     "name": "stdout",
     "output_type": "stream",
     "text": [
      "ICP converged. Fitness score: 3.52\n",
      "Frame : 313\n",
      "Error--------: 57.75947314180145\n",
      "Latent error above the threshold of 1.2\n",
      "Found 18972 lines. Skipped 11. Loaded 18961 points.\n"
     ]
    },
    {
     "name": "stderr",
     "output_type": "stream",
     "text": [
      " 31%|███       | 315/1014 [05:13<09:14,  1.26it/s]"
     ]
    },
    {
     "name": "stdout",
     "output_type": "stream",
     "text": [
      "ICP converged. Fitness score: 3.09\n",
      "Frame : 314\n",
      "Error--------: 58.02791510599597\n",
      "Latent error above the threshold of 1.2\n",
      "Found 14202 lines. Skipped 11. Loaded 14191 points.\n"
     ]
    },
    {
     "name": "stderr",
     "output_type": "stream",
     "text": [
      " 31%|███       | 316/1014 [05:14<09:28,  1.23it/s]"
     ]
    },
    {
     "name": "stdout",
     "output_type": "stream",
     "text": [
      "ICP converged. Fitness score: 0.12\n",
      "Frame : 315\n",
      "Error--------: 58.11972736330482\n",
      "Latent error above the threshold of 1.2\n",
      "Found 14460 lines. Skipped 11. Loaded 14449 points.\n"
     ]
    },
    {
     "name": "stderr",
     "output_type": "stream",
     "text": [
      " 31%|███▏      | 317/1014 [05:15<09:48,  1.18it/s]"
     ]
    },
    {
     "name": "stdout",
     "output_type": "stream",
     "text": [
      "ICP converged. Fitness score: 3.14\n",
      "Frame : 316\n",
      "Error--------: 58.382908758108854\n",
      "Latent error above the threshold of 1.2\n",
      "Found 17287 lines. Skipped 11. Loaded 17276 points.\n"
     ]
    },
    {
     "name": "stderr",
     "output_type": "stream",
     "text": [
      " 31%|███▏      | 318/1014 [05:16<10:31,  1.10it/s]"
     ]
    },
    {
     "name": "stdout",
     "output_type": "stream",
     "text": [
      "ICP converged. Fitness score: 3.26\n",
      "Frame : 317\n",
      "Error--------: 58.629402739517175\n",
      "Latent error above the threshold of 1.2\n",
      "Found 14223 lines. Skipped 11. Loaded 14212 points.\n"
     ]
    },
    {
     "name": "stderr",
     "output_type": "stream",
     "text": [
      " 31%|███▏      | 319/1014 [05:17<10:30,  1.10it/s]"
     ]
    },
    {
     "name": "stdout",
     "output_type": "stream",
     "text": [
      "ICP converged. Fitness score: 3.23\n",
      "Frame : 318\n",
      "Error--------: 58.78475699145021\n",
      "Latent error above the threshold of 1.2\n",
      "Found 14263 lines. Skipped 11. Loaded 14252 points.\n"
     ]
    },
    {
     "name": "stderr",
     "output_type": "stream",
     "text": [
      " 32%|███▏      | 320/1014 [05:18<10:18,  1.12it/s]"
     ]
    },
    {
     "name": "stdout",
     "output_type": "stream",
     "text": [
      "ICP converged. Fitness score: 2.90\n",
      "Frame : 319\n",
      "Error--------: 58.945528533904124\n",
      "Latent error above the threshold of 1.2\n",
      "Found 14376 lines. Skipped 11. Loaded 14365 points.\n"
     ]
    },
    {
     "name": "stderr",
     "output_type": "stream",
     "text": [
      " 32%|███▏      | 321/1014 [05:19<10:29,  1.10it/s]"
     ]
    },
    {
     "name": "stdout",
     "output_type": "stream",
     "text": [
      "ICP converged. Fitness score: 3.37\n",
      "Frame : 320\n",
      "Error--------: 59.12049392407703\n",
      "Latent error above the threshold of 1.2\n",
      "Found 15166 lines. Skipped 11. Loaded 15155 points.\n"
     ]
    },
    {
     "name": "stderr",
     "output_type": "stream",
     "text": [
      " 32%|███▏      | 322/1014 [05:20<10:20,  1.12it/s]"
     ]
    },
    {
     "name": "stdout",
     "output_type": "stream",
     "text": [
      "ICP converged. Fitness score: 3.47\n",
      "Frame : 321\n",
      "Error--------: 59.463997044535525\n",
      "Latent error above the threshold of 1.2\n",
      "Found 13395 lines. Skipped 11. Loaded 13384 points.\n"
     ]
    },
    {
     "name": "stderr",
     "output_type": "stream",
     "text": [
      " 32%|███▏      | 323/1014 [05:21<10:02,  1.15it/s]"
     ]
    },
    {
     "name": "stdout",
     "output_type": "stream",
     "text": [
      "ICP converged. Fitness score: 2.98\n",
      "Frame : 322\n",
      "Error--------: 59.7209443535791\n",
      "Latent error above the threshold of 1.2\n",
      "Found 12944 lines. Skipped 11. Loaded 12933 points.\n"
     ]
    },
    {
     "name": "stderr",
     "output_type": "stream",
     "text": [
      " 32%|███▏      | 324/1014 [05:22<10:08,  1.13it/s]"
     ]
    },
    {
     "name": "stdout",
     "output_type": "stream",
     "text": [
      "ICP converged. Fitness score: 2.94\n",
      "Frame : 323\n",
      "Error--------: 59.9403942322798\n",
      "Latent error above the threshold of 1.2\n",
      "Found 13564 lines. Skipped 11. Loaded 13553 points.\n"
     ]
    },
    {
     "name": "stderr",
     "output_type": "stream",
     "text": [
      " 32%|███▏      | 325/1014 [05:23<10:12,  1.12it/s]"
     ]
    },
    {
     "name": "stdout",
     "output_type": "stream",
     "text": [
      "ICP converged. Fitness score: 3.24\n",
      "Frame : 324\n",
      "Error--------: 60.15702864299481\n",
      "Latent error above the threshold of 1.2\n",
      "Found 18707 lines. Skipped 11. Loaded 18696 points.\n"
     ]
    },
    {
     "name": "stderr",
     "output_type": "stream",
     "text": [
      " 32%|███▏      | 326/1014 [05:23<09:06,  1.26it/s]"
     ]
    },
    {
     "name": "stdout",
     "output_type": "stream",
     "text": [
      "ICP converged. Fitness score: 3.42\n",
      "Frame : 325\n",
      "Error--------: 60.30383171208977\n",
      "Latent error above the threshold of 1.2\n",
      "Found 14738 lines. Skipped 11. Loaded 14727 points.\n"
     ]
    },
    {
     "name": "stderr",
     "output_type": "stream",
     "text": [
      " 32%|███▏      | 327/1014 [05:24<08:18,  1.38it/s]"
     ]
    },
    {
     "name": "stdout",
     "output_type": "stream",
     "text": [
      "ICP converged. Fitness score: 0.37\n",
      "Frame : 326\n",
      "Error--------: 60.4938207765648\n",
      "Latent error above the threshold of 1.2\n",
      "Found 13701 lines. Skipped 11. Loaded 13690 points.\n"
     ]
    },
    {
     "name": "stderr",
     "output_type": "stream",
     "text": [
      " 32%|███▏      | 328/1014 [05:25<08:51,  1.29it/s]"
     ]
    },
    {
     "name": "stdout",
     "output_type": "stream",
     "text": [
      "ICP converged. Fitness score: 3.31\n",
      "Frame : 327\n",
      "Error--------: 60.69417504606077\n",
      "Latent error above the threshold of 1.2\n",
      "Found 15820 lines. Skipped 11. Loaded 15809 points.\n"
     ]
    },
    {
     "name": "stderr",
     "output_type": "stream",
     "text": [
      " 32%|███▏      | 329/1014 [05:25<07:53,  1.45it/s]"
     ]
    },
    {
     "name": "stdout",
     "output_type": "stream",
     "text": [
      "ICP converged. Fitness score: 2.96\n",
      "Frame : 328\n",
      "Error--------: 60.88205622367294\n",
      "Latent error above the threshold of 1.2\n",
      "Found 16913 lines. Skipped 11. Loaded 16902 points.\n"
     ]
    },
    {
     "name": "stderr",
     "output_type": "stream",
     "text": [
      " 33%|███▎      | 330/1014 [05:26<08:24,  1.36it/s]"
     ]
    },
    {
     "name": "stdout",
     "output_type": "stream",
     "text": [
      "ICP converged. Fitness score: 3.11\n",
      "Frame : 329\n",
      "Error--------: 61.09299496521384\n",
      "Latent error above the threshold of 1.2\n",
      "Found 15390 lines. Skipped 11. Loaded 15379 points.\n"
     ]
    },
    {
     "name": "stderr",
     "output_type": "stream",
     "text": [
      " 33%|███▎      | 331/1014 [05:26<07:27,  1.53it/s]"
     ]
    },
    {
     "name": "stdout",
     "output_type": "stream",
     "text": [
      "ICP converged. Fitness score: 3.10\n",
      "Frame : 330\n",
      "Error--------: 61.298937036886336\n",
      "Latent error above the threshold of 1.2\n",
      "Found 15411 lines. Skipped 11. Loaded 15400 points.\n"
     ]
    },
    {
     "name": "stderr",
     "output_type": "stream",
     "text": [
      " 33%|███▎      | 332/1014 [05:27<07:50,  1.45it/s]"
     ]
    },
    {
     "name": "stdout",
     "output_type": "stream",
     "text": [
      "ICP converged. Fitness score: 3.34\n",
      "Frame : 331\n",
      "Error--------: 61.52725871713429\n",
      "Latent error above the threshold of 1.2\n",
      "Found 16521 lines. Skipped 11. Loaded 16510 points.\n"
     ]
    },
    {
     "name": "stderr",
     "output_type": "stream",
     "text": [
      " 33%|███▎      | 333/1014 [05:28<07:10,  1.58it/s]"
     ]
    },
    {
     "name": "stdout",
     "output_type": "stream",
     "text": [
      "ICP converged. Fitness score: 3.04\n",
      "Frame : 332\n",
      "Error--------: 61.71556316052941\n",
      "Latent error above the threshold of 1.2\n",
      "Found 13633 lines. Skipped 11. Loaded 13622 points.\n"
     ]
    },
    {
     "name": "stderr",
     "output_type": "stream",
     "text": [
      " 33%|███▎      | 334/1014 [05:28<07:59,  1.42it/s]"
     ]
    },
    {
     "name": "stdout",
     "output_type": "stream",
     "text": [
      "ICP converged. Fitness score: 3.26\n",
      "Frame : 333\n",
      "Error--------: 61.939792884033125\n",
      "Latent error above the threshold of 1.2\n",
      "Found 13769 lines. Skipped 11. Loaded 13758 points.\n"
     ]
    },
    {
     "name": "stderr",
     "output_type": "stream",
     "text": [
      " 33%|███▎      | 335/1014 [05:29<07:07,  1.59it/s]"
     ]
    },
    {
     "name": "stdout",
     "output_type": "stream",
     "text": [
      "ICP converged. Fitness score: 2.83\n",
      "Frame : 334\n",
      "Error--------: 62.19839129613749\n",
      "Latent error above the threshold of 1.2\n",
      "Found 14868 lines. Skipped 11. Loaded 14857 points.\n"
     ]
    },
    {
     "name": "stderr",
     "output_type": "stream",
     "text": [
      " 33%|███▎      | 336/1014 [05:30<08:10,  1.38it/s]"
     ]
    },
    {
     "name": "stdout",
     "output_type": "stream",
     "text": [
      "ICP converged. Fitness score: 3.26\n",
      "Frame : 335\n",
      "Error--------: 62.39648779020927\n",
      "Latent error above the threshold of 1.2\n",
      "Found 11874 lines. Skipped 11. Loaded 11863 points.\n"
     ]
    },
    {
     "name": "stderr",
     "output_type": "stream",
     "text": [
      " 33%|███▎      | 337/1014 [05:31<08:14,  1.37it/s]"
     ]
    },
    {
     "name": "stdout",
     "output_type": "stream",
     "text": [
      "ICP converged. Fitness score: 2.91\n",
      "Frame : 336\n",
      "Error--------: 62.626932254465004\n",
      "Latent error above the threshold of 1.2\n",
      "Found 13528 lines. Skipped 11. Loaded 13517 points.\n"
     ]
    },
    {
     "name": "stderr",
     "output_type": "stream",
     "text": [
      " 33%|███▎      | 338/1014 [05:31<07:44,  1.46it/s]"
     ]
    },
    {
     "name": "stdout",
     "output_type": "stream",
     "text": [
      "ICP converged. Fitness score: 0.37\n",
      "Frame : 337\n",
      "Error--------: 62.76320207082662\n",
      "Latent error above the threshold of 1.2\n",
      "Found 14574 lines. Skipped 11. Loaded 14563 points.\n"
     ]
    },
    {
     "name": "stderr",
     "output_type": "stream",
     "text": [
      " 33%|███▎      | 339/1014 [05:32<08:32,  1.32it/s]"
     ]
    },
    {
     "name": "stdout",
     "output_type": "stream",
     "text": [
      "ICP converged. Fitness score: 3.21\n",
      "Frame : 338\n",
      "Error--------: 63.00918404727409\n",
      "Latent error above the threshold of 1.2\n",
      "Found 14868 lines. Skipped 11. Loaded 14857 points.\n"
     ]
    },
    {
     "name": "stderr",
     "output_type": "stream",
     "text": [
      " 34%|███▎      | 340/1014 [05:33<08:25,  1.33it/s]"
     ]
    },
    {
     "name": "stdout",
     "output_type": "stream",
     "text": [
      "ICP converged. Fitness score: 3.10\n",
      "Frame : 339\n",
      "Error--------: 63.16286317254017\n",
      "Latent error above the threshold of 1.2\n",
      "Found 14868 lines. Skipped 11. Loaded 14857 points.\n"
     ]
    },
    {
     "name": "stderr",
     "output_type": "stream",
     "text": [
      " 34%|███▎      | 341/1014 [05:34<09:06,  1.23it/s]"
     ]
    },
    {
     "name": "stdout",
     "output_type": "stream",
     "text": [
      "ICP converged. Fitness score: 3.32\n",
      "Frame : 340\n",
      "Error--------: 63.35431281115259\n",
      "Latent error above the threshold of 1.2\n",
      "Found 14978 lines. Skipped 11. Loaded 14967 points.\n"
     ]
    },
    {
     "name": "stderr",
     "output_type": "stream",
     "text": [
      " 34%|███▎      | 342/1014 [05:34<07:58,  1.41it/s]"
     ]
    },
    {
     "name": "stdout",
     "output_type": "stream",
     "text": [
      "ICP converged. Fitness score: 3.56\n",
      "Frame : 341\n",
      "Error--------: 63.65014475736972\n",
      "Latent error above the threshold of 1.2\n",
      "Found 14806 lines. Skipped 11. Loaded 14795 points.\n"
     ]
    },
    {
     "name": "stderr",
     "output_type": "stream",
     "text": [
      " 34%|███▍      | 343/1014 [05:35<08:37,  1.30it/s]"
     ]
    },
    {
     "name": "stdout",
     "output_type": "stream",
     "text": [
      "ICP converged. Fitness score: 3.37\n",
      "Frame : 342\n",
      "Error--------: 63.831498309886996\n",
      "Latent error above the threshold of 1.2\n",
      "Found 15238 lines. Skipped 11. Loaded 15227 points.\n"
     ]
    },
    {
     "name": "stderr",
     "output_type": "stream",
     "text": [
      " 34%|███▍      | 344/1014 [05:36<07:58,  1.40it/s]"
     ]
    },
    {
     "name": "stdout",
     "output_type": "stream",
     "text": [
      "ICP converged. Fitness score: 3.53\n",
      "Frame : 343\n",
      "Error--------: 64.02766123669747\n",
      "Latent error above the threshold of 1.2\n",
      "Found 15462 lines. Skipped 11. Loaded 15451 points.\n"
     ]
    },
    {
     "name": "stderr",
     "output_type": "stream",
     "text": [
      " 34%|███▍      | 345/1014 [05:37<08:43,  1.28it/s]"
     ]
    },
    {
     "name": "stdout",
     "output_type": "stream",
     "text": [
      "ICP converged. Fitness score: 3.64\n",
      "Frame : 344\n",
      "Error--------: 64.24486228383216\n",
      "Latent error above the threshold of 1.2\n",
      "Found 15021 lines. Skipped 11. Loaded 15010 points.\n"
     ]
    },
    {
     "name": "stderr",
     "output_type": "stream",
     "text": [
      " 34%|███▍      | 346/1014 [05:38<09:17,  1.20it/s]"
     ]
    },
    {
     "name": "stdout",
     "output_type": "stream",
     "text": [
      "ICP converged. Fitness score: 3.12\n",
      "Frame : 345\n",
      "Error--------: 64.44409750061816\n",
      "Latent error above the threshold of 1.2\n",
      "Found 16800 lines. Skipped 11. Loaded 16789 points.\n"
     ]
    },
    {
     "name": "stderr",
     "output_type": "stream",
     "text": [
      " 34%|███▍      | 347/1014 [05:39<09:42,  1.14it/s]"
     ]
    },
    {
     "name": "stdout",
     "output_type": "stream",
     "text": [
      "ICP converged. Fitness score: 3.65\n",
      "Frame : 346\n",
      "Error--------: 64.63784562481969\n",
      "Latent error above the threshold of 1.2\n",
      "Found 14682 lines. Skipped 11. Loaded 14671 points.\n"
     ]
    },
    {
     "name": "stderr",
     "output_type": "stream",
     "text": [
      " 34%|███▍      | 348/1014 [05:40<09:45,  1.14it/s]"
     ]
    },
    {
     "name": "stdout",
     "output_type": "stream",
     "text": [
      "ICP converged. Fitness score: 3.16\n",
      "Frame : 347\n",
      "Error--------: 64.86192653218676\n",
      "Latent error above the threshold of 1.2\n",
      "Found 12574 lines. Skipped 11. Loaded 12563 points.\n"
     ]
    },
    {
     "name": "stderr",
     "output_type": "stream",
     "text": [
      " 34%|███▍      | 349/1014 [05:40<09:16,  1.19it/s]"
     ]
    },
    {
     "name": "stdout",
     "output_type": "stream",
     "text": [
      "ICP converged. Fitness score: 0.08\n",
      "Frame : 348\n",
      "Error--------: 65.1320657496638\n",
      "Latent error above the threshold of 1.2\n",
      "Found 12701 lines. Skipped 11. Loaded 12690 points.\n"
     ]
    },
    {
     "name": "stderr",
     "output_type": "stream",
     "text": [
      " 35%|███▍      | 350/1014 [05:41<07:40,  1.44it/s]"
     ]
    },
    {
     "name": "stdout",
     "output_type": "stream",
     "text": [
      "ICP converged. Fitness score: 0.45\n",
      "Frame : 349\n",
      "Error--------: 65.32659876913543\n",
      "Latent error above the threshold of 1.2\n",
      "Found 14571 lines. Skipped 11. Loaded 14560 points.\n"
     ]
    },
    {
     "name": "stderr",
     "output_type": "stream",
     "text": [
      " 35%|███▍      | 351/1014 [05:42<08:34,  1.29it/s]"
     ]
    },
    {
     "name": "stdout",
     "output_type": "stream",
     "text": [
      "ICP converged. Fitness score: 3.08\n",
      "Frame : 350\n",
      "Error--------: 65.53946605962432\n",
      "Latent error above the threshold of 1.2\n",
      "Found 14515 lines. Skipped 11. Loaded 14504 points.\n"
     ]
    },
    {
     "name": "stderr",
     "output_type": "stream",
     "text": [
      " 35%|███▍      | 352/1014 [05:42<08:51,  1.25it/s]"
     ]
    },
    {
     "name": "stdout",
     "output_type": "stream",
     "text": [
      "ICP converged. Fitness score: 3.00\n",
      "Frame : 351\n",
      "Error--------: 65.65943961785014\n",
      "Latent error above the threshold of 1.2\n",
      "Found 15474 lines. Skipped 11. Loaded 15463 points.\n"
     ]
    },
    {
     "name": "stderr",
     "output_type": "stream",
     "text": [
      " 35%|███▍      | 353/1014 [05:43<09:13,  1.19it/s]"
     ]
    },
    {
     "name": "stdout",
     "output_type": "stream",
     "text": [
      "ICP converged. Fitness score: 3.15\n",
      "Frame : 352\n",
      "Error--------: 65.93506857157975\n",
      "Latent error above the threshold of 1.2\n",
      "Found 16012 lines. Skipped 11. Loaded 16001 points.\n"
     ]
    },
    {
     "name": "stderr",
     "output_type": "stream",
     "text": [
      " 35%|███▍      | 354/1014 [05:44<09:23,  1.17it/s]"
     ]
    },
    {
     "name": "stdout",
     "output_type": "stream",
     "text": [
      "ICP converged. Fitness score: 2.98\n",
      "Frame : 353\n",
      "Error--------: 66.07005162358789\n",
      "Latent error above the threshold of 1.2\n",
      "Found 16012 lines. Skipped 11. Loaded 16001 points.\n"
     ]
    },
    {
     "name": "stderr",
     "output_type": "stream",
     "text": [
      " 35%|███▌      | 355/1014 [05:45<09:23,  1.17it/s]"
     ]
    },
    {
     "name": "stdout",
     "output_type": "stream",
     "text": [
      "ICP converged. Fitness score: 3.21\n",
      "Frame : 354\n",
      "Error--------: 66.31815617132297\n",
      "Latent error above the threshold of 1.2\n",
      "Found 16000 lines. Skipped 11. Loaded 15989 points.\n"
     ]
    },
    {
     "name": "stderr",
     "output_type": "stream",
     "text": [
      " 35%|███▌      | 356/1014 [05:46<09:39,  1.14it/s]"
     ]
    },
    {
     "name": "stdout",
     "output_type": "stream",
     "text": [
      "ICP converged. Fitness score: 2.85\n",
      "Frame : 355\n",
      "Error--------: 66.45769837905158\n",
      "Latent error above the threshold of 1.2\n",
      "Found 16573 lines. Skipped 11. Loaded 16562 points.\n"
     ]
    },
    {
     "name": "stderr",
     "output_type": "stream",
     "text": [
      " 35%|███▌      | 357/1014 [05:47<09:39,  1.13it/s]"
     ]
    },
    {
     "name": "stdout",
     "output_type": "stream",
     "text": [
      "ICP converged. Fitness score: 3.12\n",
      "Frame : 356\n",
      "Error--------: 66.70001425879603\n",
      "Latent error above the threshold of 1.2\n",
      "Found 13897 lines. Skipped 11. Loaded 13886 points.\n"
     ]
    },
    {
     "name": "stderr",
     "output_type": "stream",
     "text": [
      " 35%|███▌      | 358/1014 [05:48<09:40,  1.13it/s]"
     ]
    },
    {
     "name": "stdout",
     "output_type": "stream",
     "text": [
      "ICP converged. Fitness score: 2.83\n",
      "Frame : 357\n",
      "Error--------: 66.85481516582475\n",
      "Latent error above the threshold of 1.2\n",
      "Found 15770 lines. Skipped 11. Loaded 15759 points.\n"
     ]
    },
    {
     "name": "stderr",
     "output_type": "stream",
     "text": [
      " 35%|███▌      | 359/1014 [05:49<09:38,  1.13it/s]"
     ]
    },
    {
     "name": "stdout",
     "output_type": "stream",
     "text": [
      "ICP converged. Fitness score: 3.35\n",
      "Frame : 358\n",
      "Error--------: 67.11157444171208\n",
      "Latent error above the threshold of 1.2\n",
      "Found 16905 lines. Skipped 11. Loaded 16894 points.\n"
     ]
    },
    {
     "name": "stderr",
     "output_type": "stream",
     "text": [
      " 36%|███▌      | 360/1014 [05:50<09:42,  1.12it/s]"
     ]
    },
    {
     "name": "stdout",
     "output_type": "stream",
     "text": [
      "ICP converged. Fitness score: 2.79\n",
      "Frame : 359\n",
      "Error--------: 67.28103180570915\n",
      "Latent error above the threshold of 1.2\n",
      "Found 15107 lines. Skipped 11. Loaded 15096 points.\n"
     ]
    },
    {
     "name": "stderr",
     "output_type": "stream",
     "text": [
      " 36%|███▌      | 361/1014 [05:50<09:07,  1.19it/s]"
     ]
    },
    {
     "name": "stdout",
     "output_type": "stream",
     "text": [
      "ICP converged. Fitness score: 0.51\n",
      "Frame : 360\n",
      "Error--------: 67.55406706146225\n",
      "Latent error above the threshold of 1.2\n",
      "Found 15917 lines. Skipped 11. Loaded 15906 points.\n"
     ]
    },
    {
     "name": "stderr",
     "output_type": "stream",
     "text": [
      " 36%|███▌      | 362/1014 [05:51<09:30,  1.14it/s]"
     ]
    },
    {
     "name": "stdout",
     "output_type": "stream",
     "text": [
      "ICP converged. Fitness score: 3.31\n",
      "Frame : 361\n",
      "Error--------: 67.80696604023719\n",
      "Latent error above the threshold of 1.2\n",
      "Found 14952 lines. Skipped 11. Loaded 14941 points.\n"
     ]
    },
    {
     "name": "stderr",
     "output_type": "stream",
     "text": [
      " 36%|███▌      | 363/1014 [05:52<09:29,  1.14it/s]"
     ]
    },
    {
     "name": "stdout",
     "output_type": "stream",
     "text": [
      "ICP converged. Fitness score: 2.66\n",
      "Frame : 362\n",
      "Error--------: 67.89860171129985\n",
      "Latent error above the threshold of 1.2\n",
      "Found 15296 lines. Skipped 11. Loaded 15285 points.\n"
     ]
    },
    {
     "name": "stderr",
     "output_type": "stream",
     "text": [
      " 36%|███▌      | 364/1014 [05:53<09:05,  1.19it/s]"
     ]
    },
    {
     "name": "stdout",
     "output_type": "stream",
     "text": [
      "ICP converged. Fitness score: 2.64\n",
      "Frame : 363\n",
      "Error--------: 68.15665914994167\n",
      "Latent error above the threshold of 1.2\n",
      "Found 12423 lines. Skipped 11. Loaded 12412 points.\n"
     ]
    },
    {
     "name": "stderr",
     "output_type": "stream",
     "text": [
      " 36%|███▌      | 365/1014 [05:53<07:46,  1.39it/s]"
     ]
    },
    {
     "name": "stdout",
     "output_type": "stream",
     "text": [
      "ICP converged. Fitness score: 2.32\n",
      "Frame : 364\n",
      "Error--------: 68.34529306599484\n",
      "Latent error above the threshold of 1.2\n",
      "Found 18869 lines. Skipped 11. Loaded 18858 points.\n"
     ]
    },
    {
     "name": "stderr",
     "output_type": "stream",
     "text": [
      " 36%|███▌      | 366/1014 [05:54<08:28,  1.27it/s]"
     ]
    },
    {
     "name": "stdout",
     "output_type": "stream",
     "text": [
      "ICP converged. Fitness score: 2.85\n",
      "Frame : 365\n",
      "Error--------: 68.54113595686579\n",
      "Latent error above the threshold of 1.2\n",
      "Found 14249 lines. Skipped 11. Loaded 14238 points.\n"
     ]
    },
    {
     "name": "stderr",
     "output_type": "stream",
     "text": [
      " 36%|███▌      | 367/1014 [05:55<09:00,  1.20it/s]"
     ]
    },
    {
     "name": "stdout",
     "output_type": "stream",
     "text": [
      "ICP converged. Fitness score: 2.31\n",
      "Frame : 366\n",
      "Error--------: 68.72983434270108\n",
      "Latent error above the threshold of 1.2\n",
      "Found 16013 lines. Skipped 11. Loaded 16002 points.\n"
     ]
    },
    {
     "name": "stderr",
     "output_type": "stream",
     "text": [
      " 36%|███▋      | 368/1014 [05:56<09:19,  1.15it/s]"
     ]
    },
    {
     "name": "stdout",
     "output_type": "stream",
     "text": [
      "ICP converged. Fitness score: 2.67\n",
      "Frame : 367\n",
      "Error--------: 68.92816901556074\n",
      "Latent error above the threshold of 1.2\n",
      "Found 14618 lines. Skipped 11. Loaded 14607 points.\n"
     ]
    },
    {
     "name": "stderr",
     "output_type": "stream",
     "text": [
      " 36%|███▋      | 369/1014 [05:57<09:22,  1.15it/s]"
     ]
    },
    {
     "name": "stdout",
     "output_type": "stream",
     "text": [
      "ICP converged. Fitness score: 2.63\n",
      "Frame : 368\n",
      "Error--------: 69.0806169404729\n",
      "Latent error above the threshold of 1.2\n",
      "Found 17368 lines. Skipped 11. Loaded 17357 points.\n"
     ]
    },
    {
     "name": "stderr",
     "output_type": "stream",
     "text": [
      " 36%|███▋      | 370/1014 [05:58<09:36,  1.12it/s]"
     ]
    },
    {
     "name": "stdout",
     "output_type": "stream",
     "text": [
      "ICP converged. Fitness score: 2.58\n",
      "Frame : 369\n",
      "Error--------: 69.29209828981577\n",
      "Latent error above the threshold of 1.2\n",
      "Found 12994 lines. Skipped 11. Loaded 12983 points.\n"
     ]
    },
    {
     "name": "stderr",
     "output_type": "stream",
     "text": [
      " 37%|███▋      | 371/1014 [05:59<09:14,  1.16it/s]"
     ]
    },
    {
     "name": "stdout",
     "output_type": "stream",
     "text": [
      "ICP converged. Fitness score: 2.40\n",
      "Frame : 370\n",
      "Error--------: 69.45501673648212\n",
      "Latent error above the threshold of 1.2\n",
      "Found 11051 lines. Skipped 11. Loaded 11040 points.\n"
     ]
    },
    {
     "name": "stderr",
     "output_type": "stream",
     "text": [
      " 37%|███▋      | 372/1014 [05:59<08:21,  1.28it/s]"
     ]
    },
    {
     "name": "stdout",
     "output_type": "stream",
     "text": [
      "ICP converged. Fitness score: 0.58\n",
      "Frame : 371\n",
      "Error--------: 69.6451663905328\n",
      "Latent error above the threshold of 1.2\n",
      "Found 14764 lines. Skipped 11. Loaded 14753 points.\n"
     ]
    },
    {
     "name": "stderr",
     "output_type": "stream",
     "text": [
      " 37%|███▋      | 373/1014 [06:00<08:35,  1.24it/s]"
     ]
    },
    {
     "name": "stdout",
     "output_type": "stream",
     "text": [
      "ICP converged. Fitness score: 3.47\n",
      "Frame : 372\n",
      "Error--------: 69.84288683173133\n",
      "Latent error above the threshold of 1.2\n",
      "Found 13708 lines. Skipped 11. Loaded 13697 points.\n"
     ]
    },
    {
     "name": "stderr",
     "output_type": "stream",
     "text": [
      " 37%|███▋      | 374/1014 [06:01<08:47,  1.21it/s]"
     ]
    },
    {
     "name": "stdout",
     "output_type": "stream",
     "text": [
      "ICP converged. Fitness score: 2.83\n",
      "Frame : 373\n",
      "Error--------: 70.03716055066592\n",
      "Latent error above the threshold of 1.2\n",
      "Found 13339 lines. Skipped 11. Loaded 13328 points.\n"
     ]
    },
    {
     "name": "stderr",
     "output_type": "stream",
     "text": [
      " 37%|███▋      | 375/1014 [06:02<09:07,  1.17it/s]"
     ]
    },
    {
     "name": "stdout",
     "output_type": "stream",
     "text": [
      "ICP converged. Fitness score: 3.40\n",
      "Frame : 374\n",
      "Error--------: 70.28939912515268\n",
      "Latent error above the threshold of 1.2\n",
      "Found 16866 lines. Skipped 11. Loaded 16855 points.\n"
     ]
    },
    {
     "name": "stderr",
     "output_type": "stream",
     "text": [
      " 37%|███▋      | 376/1014 [06:03<09:27,  1.12it/s]"
     ]
    },
    {
     "name": "stdout",
     "output_type": "stream",
     "text": [
      "ICP converged. Fitness score: 2.96\n",
      "Frame : 375\n",
      "Error--------: 70.46811575459095\n",
      "Latent error above the threshold of 1.2\n",
      "Found 15445 lines. Skipped 11. Loaded 15434 points.\n"
     ]
    },
    {
     "name": "stderr",
     "output_type": "stream",
     "text": [
      " 37%|███▋      | 377/1014 [06:04<09:46,  1.09it/s]"
     ]
    },
    {
     "name": "stdout",
     "output_type": "stream",
     "text": [
      "ICP converged. Fitness score: 3.76\n",
      "Frame : 376\n",
      "Error--------: 70.65696704834319\n",
      "Latent error above the threshold of 1.2\n",
      "Found 12089 lines. Skipped 11. Loaded 12078 points.\n"
     ]
    },
    {
     "name": "stderr",
     "output_type": "stream",
     "text": [
      " 37%|███▋      | 378/1014 [06:05<08:31,  1.24it/s]"
     ]
    },
    {
     "name": "stdout",
     "output_type": "stream",
     "text": [
      "ICP converged. Fitness score: 3.02\n",
      "Frame : 377\n",
      "Error--------: 70.78406934627347\n",
      "Latent error above the threshold of 1.2\n",
      "Found 16318 lines. Skipped 11. Loaded 16307 points.\n"
     ]
    },
    {
     "name": "stderr",
     "output_type": "stream",
     "text": [
      " 37%|███▋      | 379/1014 [06:06<09:00,  1.17it/s]"
     ]
    },
    {
     "name": "stdout",
     "output_type": "stream",
     "text": [
      "ICP converged. Fitness score: 4.19\n",
      "Frame : 378\n",
      "Error--------: 70.92334255164134\n",
      "Latent error above the threshold of 1.2\n",
      "Found 17342 lines. Skipped 11. Loaded 17331 points.\n"
     ]
    },
    {
     "name": "stderr",
     "output_type": "stream",
     "text": [
      " 37%|███▋      | 380/1014 [06:06<08:13,  1.29it/s]"
     ]
    },
    {
     "name": "stdout",
     "output_type": "stream",
     "text": [
      "ICP converged. Fitness score: 3.38\n",
      "Frame : 379\n",
      "Error--------: 71.10683906411602\n",
      "Latent error above the threshold of 1.2\n",
      "Found 14663 lines. Skipped 11. Loaded 14652 points.\n"
     ]
    },
    {
     "name": "stderr",
     "output_type": "stream",
     "text": [
      " 38%|███▊      | 381/1014 [06:07<08:39,  1.22it/s]"
     ]
    },
    {
     "name": "stdout",
     "output_type": "stream",
     "text": [
      "ICP converged. Fitness score: 4.12\n",
      "Frame : 380\n",
      "Error--------: 71.30162767527587\n",
      "Latent error above the threshold of 1.2\n",
      "Found 13658 lines. Skipped 11. Loaded 13647 points.\n"
     ]
    },
    {
     "name": "stderr",
     "output_type": "stream",
     "text": [
      " 38%|███▊      | 382/1014 [06:08<07:36,  1.38it/s]"
     ]
    },
    {
     "name": "stdout",
     "output_type": "stream",
     "text": [
      "ICP converged. Fitness score: 3.35\n",
      "Frame : 381\n",
      "Error--------: 71.47287501309803\n",
      "Latent error above the threshold of 1.2\n",
      "Found 12905 lines. Skipped 11. Loaded 12894 points.\n"
     ]
    },
    {
     "name": "stderr",
     "output_type": "stream",
     "text": [
      " 38%|███▊      | 383/1014 [06:08<07:44,  1.36it/s]"
     ]
    },
    {
     "name": "stdout",
     "output_type": "stream",
     "text": [
      "ICP converged. Fitness score: 0.77\n",
      "Frame : 382\n",
      "Error--------: 71.61734998373133\n",
      "Latent error above the threshold of 1.2\n",
      "Found 17974 lines. Skipped 11. Loaded 17963 points.\n"
     ]
    },
    {
     "name": "stderr",
     "output_type": "stream",
     "text": [
      " 38%|███▊      | 384/1014 [06:09<08:44,  1.20it/s]"
     ]
    },
    {
     "name": "stdout",
     "output_type": "stream",
     "text": [
      "ICP converged. Fitness score: 3.63\n",
      "Frame : 383\n",
      "Error--------: 71.80188316899292\n",
      "Latent error above the threshold of 1.2\n",
      "Found 14222 lines. Skipped 11. Loaded 14211 points.\n"
     ]
    },
    {
     "name": "stderr",
     "output_type": "stream",
     "text": [
      " 38%|███▊      | 385/1014 [06:10<08:59,  1.17it/s]"
     ]
    },
    {
     "name": "stdout",
     "output_type": "stream",
     "text": [
      "ICP converged. Fitness score: 4.20\n",
      "Frame : 384\n",
      "Error--------: 71.97869165891571\n",
      "Latent error above the threshold of 1.2\n",
      "Found 16600 lines. Skipped 11. Loaded 16589 points.\n"
     ]
    },
    {
     "name": "stderr",
     "output_type": "stream",
     "text": [
      " 38%|███▊      | 386/1014 [06:11<09:31,  1.10it/s]"
     ]
    },
    {
     "name": "stdout",
     "output_type": "stream",
     "text": [
      "ICP converged. Fitness score: 3.80\n",
      "Frame : 385\n",
      "Error--------: 72.24017850937088\n",
      "Latent error above the threshold of 1.2\n",
      "Found 14447 lines. Skipped 11. Loaded 14436 points.\n"
     ]
    },
    {
     "name": "stderr",
     "output_type": "stream",
     "text": [
      " 38%|███▊      | 387/1014 [06:12<08:27,  1.24it/s]"
     ]
    },
    {
     "name": "stdout",
     "output_type": "stream",
     "text": [
      "ICP converged. Fitness score: 4.13\n",
      "Frame : 386\n",
      "Error--------: 72.47166473022295\n",
      "Latent error above the threshold of 1.2\n",
      "Found 12492 lines. Skipped 11. Loaded 12481 points.\n"
     ]
    },
    {
     "name": "stderr",
     "output_type": "stream",
     "text": [
      " 38%|███▊      | 388/1014 [06:13<08:29,  1.23it/s]"
     ]
    },
    {
     "name": "stdout",
     "output_type": "stream",
     "text": [
      "ICP converged. Fitness score: 3.69\n",
      "Frame : 387\n",
      "Error--------: 72.64898495978183\n",
      "Latent error above the threshold of 1.2\n",
      "Found 15536 lines. Skipped 11. Loaded 15525 points.\n"
     ]
    },
    {
     "name": "stderr",
     "output_type": "stream",
     "text": [
      " 38%|███▊      | 389/1014 [06:14<08:47,  1.19it/s]"
     ]
    },
    {
     "name": "stdout",
     "output_type": "stream",
     "text": [
      "ICP converged. Fitness score: 4.61\n",
      "Frame : 388\n",
      "Error--------: 72.76924030217812\n",
      "Latent error above the threshold of 1.2\n",
      "Found 15158 lines. Skipped 11. Loaded 15147 points.\n"
     ]
    },
    {
     "name": "stderr",
     "output_type": "stream",
     "text": [
      " 38%|███▊      | 390/1014 [06:15<09:07,  1.14it/s]"
     ]
    },
    {
     "name": "stdout",
     "output_type": "stream",
     "text": [
      "ICP converged. Fitness score: 3.79\n",
      "Frame : 389\n",
      "Error--------: 72.92544194953753\n",
      "Latent error above the threshold of 1.2\n",
      "Found 14559 lines. Skipped 11. Loaded 14548 points.\n"
     ]
    },
    {
     "name": "stderr",
     "output_type": "stream",
     "text": [
      " 39%|███▊      | 391/1014 [06:16<09:18,  1.12it/s]"
     ]
    },
    {
     "name": "stdout",
     "output_type": "stream",
     "text": [
      "ICP converged. Fitness score: 4.47\n",
      "Frame : 390\n",
      "Error--------: 73.07887032498252\n",
      "Latent error above the threshold of 1.2\n",
      "Found 19843 lines. Skipped 11. Loaded 19832 points.\n"
     ]
    },
    {
     "name": "stderr",
     "output_type": "stream",
     "text": [
      " 39%|███▊      | 392/1014 [06:17<09:38,  1.07it/s]"
     ]
    },
    {
     "name": "stdout",
     "output_type": "stream",
     "text": [
      "ICP converged. Fitness score: 4.19\n",
      "Frame : 391\n",
      "Error--------: 73.20532245550011\n",
      "Latent error above the threshold of 1.2\n",
      "Found 15518 lines. Skipped 11. Loaded 15507 points.\n"
     ]
    },
    {
     "name": "stderr",
     "output_type": "stream",
     "text": [
      " 39%|███▉      | 393/1014 [06:18<09:43,  1.06it/s]"
     ]
    },
    {
     "name": "stdout",
     "output_type": "stream",
     "text": [
      "ICP converged. Fitness score: 4.58\n",
      "Frame : 392\n",
      "Error--------: 73.38052504623117\n",
      "Latent error above the threshold of 1.2\n",
      "Found 12855 lines. Skipped 11. Loaded 12844 points.\n"
     ]
    },
    {
     "name": "stderr",
     "output_type": "stream",
     "text": [
      " 39%|███▉      | 394/1014 [06:18<08:39,  1.19it/s]"
     ]
    },
    {
     "name": "stdout",
     "output_type": "stream",
     "text": [
      "ICP converged. Fitness score: 0.86\n",
      "Frame : 393\n",
      "Error--------: 73.76249748749551\n",
      "Latent error above the threshold of 1.2\n",
      "Found 14234 lines. Skipped 11. Loaded 14223 points.\n"
     ]
    },
    {
     "name": "stderr",
     "output_type": "stream",
     "text": [
      " 39%|███▉      | 395/1014 [06:19<08:54,  1.16it/s]"
     ]
    },
    {
     "name": "stdout",
     "output_type": "stream",
     "text": [
      "ICP converged. Fitness score: 4.81\n",
      "Frame : 394\n",
      "Error--------: 73.98840192193634\n",
      "Latent error above the threshold of 1.2\n",
      "Found 11873 lines. Skipped 11. Loaded 11862 points.\n"
     ]
    },
    {
     "name": "stderr",
     "output_type": "stream",
     "text": [
      " 39%|███▉      | 396/1014 [06:20<08:46,  1.17it/s]"
     ]
    },
    {
     "name": "stdout",
     "output_type": "stream",
     "text": [
      "ICP converged. Fitness score: 3.59\n",
      "Frame : 395\n",
      "Error--------: 73.9058905943617\n",
      "Latent error above the threshold of 1.2\n",
      "Found 16614 lines. Skipped 11. Loaded 16603 points.\n"
     ]
    },
    {
     "name": "stderr",
     "output_type": "stream",
     "text": [
      " 39%|███▉      | 397/1014 [06:21<09:08,  1.13it/s]"
     ]
    },
    {
     "name": "stdout",
     "output_type": "stream",
     "text": [
      "ICP converged. Fitness score: 5.04\n",
      "Frame : 396\n",
      "Error--------: 74.22644826397195\n",
      "Latent error above the threshold of 1.2\n",
      "Found 16893 lines. Skipped 11. Loaded 16882 points.\n"
     ]
    },
    {
     "name": "stderr",
     "output_type": "stream",
     "text": [
      " 39%|███▉      | 398/1014 [06:22<09:32,  1.08it/s]"
     ]
    },
    {
     "name": "stdout",
     "output_type": "stream",
     "text": [
      "ICP converged. Fitness score: 4.10\n",
      "Frame : 397\n",
      "Error--------: 74.2952600191473\n",
      "Latent error above the threshold of 1.2\n",
      "Found 13826 lines. Skipped 11. Loaded 13815 points.\n"
     ]
    },
    {
     "name": "stderr",
     "output_type": "stream",
     "text": [
      " 39%|███▉      | 399/1014 [06:23<09:28,  1.08it/s]"
     ]
    },
    {
     "name": "stdout",
     "output_type": "stream",
     "text": [
      "ICP converged. Fitness score: 4.97\n",
      "Frame : 398\n",
      "Error--------: 74.59567567568327\n",
      "Latent error above the threshold of 1.2\n",
      "Found 13695 lines. Skipped 11. Loaded 13684 points.\n"
     ]
    },
    {
     "name": "stderr",
     "output_type": "stream",
     "text": [
      " 39%|███▉      | 400/1014 [06:24<09:09,  1.12it/s]"
     ]
    },
    {
     "name": "stdout",
     "output_type": "stream",
     "text": [
      "ICP converged. Fitness score: 3.44\n",
      "Frame : 399\n",
      "Error--------: 74.77464984460627\n",
      "Latent error above the threshold of 1.2\n",
      "Found 12809 lines. Skipped 11. Loaded 12798 points.\n"
     ]
    },
    {
     "name": "stderr",
     "output_type": "stream",
     "text": [
      " 40%|███▉      | 401/1014 [06:24<09:01,  1.13it/s]"
     ]
    },
    {
     "name": "stdout",
     "output_type": "stream",
     "text": [
      "ICP converged. Fitness score: 5.07\n",
      "Frame : 400\n",
      "Error--------: 74.95494009864868\n",
      "Latent error above the threshold of 1.2\n",
      "Found 13543 lines. Skipped 11. Loaded 13532 points.\n"
     ]
    },
    {
     "name": "stderr",
     "output_type": "stream",
     "text": [
      " 40%|███▉      | 402/1014 [06:25<09:10,  1.11it/s]"
     ]
    },
    {
     "name": "stdout",
     "output_type": "stream",
     "text": [
      "ICP converged. Fitness score: 3.87\n",
      "Frame : 401\n",
      "Error--------: 75.15474214616604\n",
      "Latent error above the threshold of 1.2\n",
      "Found 13005 lines. Skipped 11. Loaded 12994 points.\n"
     ]
    },
    {
     "name": "stderr",
     "output_type": "stream",
     "text": [
      " 40%|███▉      | 403/1014 [06:26<09:05,  1.12it/s]"
     ]
    },
    {
     "name": "stdout",
     "output_type": "stream",
     "text": [
      "ICP converged. Fitness score: 4.98\n",
      "Frame : 402\n",
      "Error--------: 75.3145921401963\n",
      "Latent error above the threshold of 1.2\n",
      "Found 12494 lines. Skipped 11. Loaded 12483 points.\n"
     ]
    },
    {
     "name": "stderr",
     "output_type": "stream",
     "text": [
      " 40%|███▉      | 404/1014 [06:27<09:12,  1.10it/s]"
     ]
    },
    {
     "name": "stdout",
     "output_type": "stream",
     "text": [
      "ICP converged. Fitness score: 3.73\n",
      "Frame : 403\n",
      "Error--------: 75.53572875864072\n",
      "Latent error above the threshold of 1.2\n",
      "Found 13821 lines. Skipped 11. Loaded 13810 points.\n"
     ]
    },
    {
     "name": "stderr",
     "output_type": "stream",
     "text": [
      " 40%|███▉      | 405/1014 [06:28<07:42,  1.32it/s]"
     ]
    },
    {
     "name": "stdout",
     "output_type": "stream",
     "text": [
      "ICP converged. Fitness score: 0.89\n",
      "Frame : 404\n",
      "Error--------: 75.91995108880081\n",
      "Latent error above the threshold of 1.2\n",
      "Found 16268 lines. Skipped 11. Loaded 16257 points.\n"
     ]
    },
    {
     "name": "stderr",
     "output_type": "stream",
     "text": [
      " 40%|████      | 406/1014 [06:29<08:11,  1.24it/s]"
     ]
    },
    {
     "name": "stdout",
     "output_type": "stream",
     "text": [
      "ICP converged. Fitness score: 3.99\n",
      "Frame : 405\n",
      "Error--------: 76.05898744933886\n",
      "Latent error above the threshold of 1.2\n",
      "Found 13651 lines. Skipped 11. Loaded 13640 points.\n"
     ]
    },
    {
     "name": "stderr",
     "output_type": "stream",
     "text": [
      " 40%|████      | 407/1014 [06:29<07:28,  1.35it/s]"
     ]
    },
    {
     "name": "stdout",
     "output_type": "stream",
     "text": [
      "ICP converged. Fitness score: 4.97\n",
      "Frame : 406\n",
      "Error--------: 76.14084159528393\n",
      "Latent error above the threshold of 1.2\n",
      "Found 16878 lines. Skipped 11. Loaded 16867 points.\n"
     ]
    },
    {
     "name": "stderr",
     "output_type": "stream",
     "text": [
      " 40%|████      | 408/1014 [06:30<08:06,  1.24it/s]"
     ]
    },
    {
     "name": "stdout",
     "output_type": "stream",
     "text": [
      "ICP converged. Fitness score: 4.21\n",
      "Frame : 407\n",
      "Error--------: 76.37209256800011\n",
      "Latent error above the threshold of 1.2\n",
      "Found 14957 lines. Skipped 11. Loaded 14946 points.\n"
     ]
    },
    {
     "name": "stderr",
     "output_type": "stream",
     "text": [
      " 40%|████      | 409/1014 [06:31<07:21,  1.37it/s]"
     ]
    },
    {
     "name": "stdout",
     "output_type": "stream",
     "text": [
      "ICP converged. Fitness score: 4.93\n",
      "Frame : 408\n",
      "Error--------: 76.55820933935362\n",
      "Latent error above the threshold of 1.2\n",
      "Found 15018 lines. Skipped 11. Loaded 15007 points.\n"
     ]
    },
    {
     "name": "stderr",
     "output_type": "stream",
     "text": [
      " 40%|████      | 410/1014 [06:32<07:56,  1.27it/s]"
     ]
    },
    {
     "name": "stdout",
     "output_type": "stream",
     "text": [
      "ICP converged. Fitness score: 4.25\n",
      "Frame : 409\n",
      "Error--------: 76.74762523148719\n",
      "Latent error above the threshold of 1.2\n",
      "Found 18271 lines. Skipped 11. Loaded 18260 points.\n"
     ]
    },
    {
     "name": "stderr",
     "output_type": "stream",
     "text": [
      " 41%|████      | 411/1014 [06:32<07:26,  1.35it/s]"
     ]
    },
    {
     "name": "stdout",
     "output_type": "stream",
     "text": [
      "ICP converged. Fitness score: 4.79\n",
      "Frame : 410\n",
      "Error--------: 76.93599658087882\n",
      "Latent error above the threshold of 1.2\n",
      "Found 14095 lines. Skipped 11. Loaded 14084 points.\n"
     ]
    },
    {
     "name": "stderr",
     "output_type": "stream",
     "text": [
      " 41%|████      | 412/1014 [06:33<07:35,  1.32it/s]"
     ]
    },
    {
     "name": "stdout",
     "output_type": "stream",
     "text": [
      "ICP converged. Fitness score: 3.52\n",
      "Frame : 411\n",
      "Error--------: 77.1252032983498\n",
      "Latent error above the threshold of 1.2\n",
      "Found 15012 lines. Skipped 11. Loaded 15001 points.\n"
     ]
    },
    {
     "name": "stderr",
     "output_type": "stream",
     "text": [
      " 41%|████      | 413/1014 [06:34<07:04,  1.41it/s]"
     ]
    },
    {
     "name": "stdout",
     "output_type": "stream",
     "text": [
      "ICP converged. Fitness score: 4.82\n",
      "Frame : 412\n",
      "Error--------: 77.3061353103013\n",
      "Latent error above the threshold of 1.2\n",
      "Found 14488 lines. Skipped 11. Loaded 14477 points.\n"
     ]
    },
    {
     "name": "stderr",
     "output_type": "stream",
     "text": [
      " 41%|████      | 414/1014 [06:34<07:32,  1.33it/s]"
     ]
    },
    {
     "name": "stdout",
     "output_type": "stream",
     "text": [
      "ICP converged. Fitness score: 4.11\n",
      "Frame : 413\n",
      "Error--------: 77.50217011835828\n",
      "Latent error above the threshold of 1.2\n",
      "Found 13943 lines. Skipped 11. Loaded 13932 points.\n"
     ]
    },
    {
     "name": "stderr",
     "output_type": "stream",
     "text": [
      " 41%|████      | 415/1014 [06:35<08:13,  1.21it/s]"
     ]
    },
    {
     "name": "stdout",
     "output_type": "stream",
     "text": [
      "ICP converged. Fitness score: 5.32\n",
      "Frame : 414\n",
      "Error--------: 77.73416292683132\n",
      "Latent error above the threshold of 1.2\n",
      "Found 14488 lines. Skipped 11. Loaded 14477 points.\n"
     ]
    },
    {
     "name": "stderr",
     "output_type": "stream",
     "text": [
      " 41%|████      | 416/1014 [06:36<08:33,  1.16it/s]"
     ]
    },
    {
     "name": "stdout",
     "output_type": "stream",
     "text": [
      "ICP converged. Fitness score: 1.30\n",
      "Frame : 415\n",
      "Error--------: 77.98724023609164\n",
      "Latent error above the threshold of 1.2\n",
      "Found 16491 lines. Skipped 11. Loaded 16480 points.\n"
     ]
    },
    {
     "name": "stderr",
     "output_type": "stream",
     "text": [
      " 41%|████      | 417/1014 [06:37<08:45,  1.14it/s]"
     ]
    },
    {
     "name": "stdout",
     "output_type": "stream",
     "text": [
      "ICP converged. Fitness score: 5.72\n",
      "Frame : 416\n",
      "Error--------: 78.22491433920901\n",
      "Latent error above the threshold of 1.2\n",
      "Found 13998 lines. Skipped 11. Loaded 13987 points.\n"
     ]
    },
    {
     "name": "stderr",
     "output_type": "stream",
     "text": [
      " 41%|████      | 418/1014 [06:38<08:51,  1.12it/s]"
     ]
    },
    {
     "name": "stdout",
     "output_type": "stream",
     "text": [
      "ICP converged. Fitness score: 4.16\n",
      "Frame : 417\n",
      "Error--------: 78.22666890166552\n",
      "Latent error above the threshold of 1.2\n",
      "Found 13006 lines. Skipped 11. Loaded 12995 points.\n"
     ]
    },
    {
     "name": "stderr",
     "output_type": "stream",
     "text": [
      " 41%|████▏     | 419/1014 [06:39<08:56,  1.11it/s]"
     ]
    },
    {
     "name": "stdout",
     "output_type": "stream",
     "text": [
      "ICP converged. Fitness score: 5.52\n",
      "Frame : 418\n",
      "Error--------: 78.44037545947917\n",
      "Latent error above the threshold of 1.2\n",
      "Found 16145 lines. Skipped 11. Loaded 16134 points.\n"
     ]
    },
    {
     "name": "stderr",
     "output_type": "stream",
     "text": [
      " 41%|████▏     | 420/1014 [06:40<09:05,  1.09it/s]"
     ]
    },
    {
     "name": "stdout",
     "output_type": "stream",
     "text": [
      "ICP converged. Fitness score: 4.02\n",
      "Frame : 419\n",
      "Error--------: 78.5191619816194\n",
      "Latent error above the threshold of 1.2\n",
      "Found 14115 lines. Skipped 11. Loaded 14104 points.\n"
     ]
    },
    {
     "name": "stderr",
     "output_type": "stream",
     "text": [
      " 42%|████▏     | 421/1014 [06:41<08:50,  1.12it/s]"
     ]
    },
    {
     "name": "stdout",
     "output_type": "stream",
     "text": [
      "ICP converged. Fitness score: 5.37\n",
      "Frame : 420\n",
      "Error--------: 78.64072743777189\n",
      "Latent error above the threshold of 1.2\n",
      "Found 13782 lines. Skipped 11. Loaded 13771 points.\n"
     ]
    },
    {
     "name": "stderr",
     "output_type": "stream",
     "text": [
      " 42%|████▏     | 422/1014 [06:42<08:52,  1.11it/s]"
     ]
    },
    {
     "name": "stdout",
     "output_type": "stream",
     "text": [
      "ICP converged. Fitness score: 3.77\n",
      "Frame : 421\n",
      "Error--------: 78.7718391208968\n",
      "Latent error above the threshold of 1.2\n",
      "Found 12860 lines. Skipped 11. Loaded 12849 points.\n"
     ]
    },
    {
     "name": "stderr",
     "output_type": "stream",
     "text": [
      " 42%|████▏     | 423/1014 [06:43<08:52,  1.11it/s]"
     ]
    },
    {
     "name": "stdout",
     "output_type": "stream",
     "text": [
      "ICP converged. Fitness score: 5.31\n",
      "Frame : 422\n",
      "Error--------: 78.87485811822485\n",
      "Latent error above the threshold of 1.2\n",
      "Found 15489 lines. Skipped 11. Loaded 15478 points.\n"
     ]
    },
    {
     "name": "stderr",
     "output_type": "stream",
     "text": [
      " 42%|████▏     | 424/1014 [06:44<08:42,  1.13it/s]"
     ]
    },
    {
     "name": "stdout",
     "output_type": "stream",
     "text": [
      "ICP converged. Fitness score: 3.47\n",
      "Frame : 423\n",
      "Error--------: 79.05016546111978\n",
      "Latent error above the threshold of 1.2\n",
      "Found 16039 lines. Skipped 11. Loaded 16028 points.\n"
     ]
    },
    {
     "name": "stderr",
     "output_type": "stream",
     "text": [
      " 42%|████▏     | 425/1014 [06:45<08:44,  1.12it/s]"
     ]
    },
    {
     "name": "stdout",
     "output_type": "stream",
     "text": [
      "ICP converged. Fitness score: 5.25\n",
      "Frame : 424\n",
      "Error--------: 79.14514774138394\n",
      "Latent error above the threshold of 1.2\n",
      "Found 13240 lines. Skipped 11. Loaded 13229 points.\n"
     ]
    },
    {
     "name": "stderr",
     "output_type": "stream",
     "text": [
      " 42%|████▏     | 426/1014 [06:45<08:31,  1.15it/s]"
     ]
    },
    {
     "name": "stdout",
     "output_type": "stream",
     "text": [
      "ICP converged. Fitness score: 3.64\n",
      "Frame : 425\n",
      "Error--------: 79.2702946928158\n",
      "Latent error above the threshold of 1.2\n",
      "Found 14785 lines. Skipped 11. Loaded 14774 points.\n"
     ]
    },
    {
     "name": "stderr",
     "output_type": "stream",
     "text": [
      " 42%|████▏     | 427/1014 [06:46<08:34,  1.14it/s]"
     ]
    },
    {
     "name": "stdout",
     "output_type": "stream",
     "text": [
      "ICP converged. Fitness score: 0.35\n",
      "Frame : 426\n",
      "Error--------: 79.45105373477912\n",
      "Latent error above the threshold of 1.2\n",
      "Found 12466 lines. Skipped 11. Loaded 12455 points.\n"
     ]
    },
    {
     "name": "stderr",
     "output_type": "stream",
     "text": [
      " 42%|████▏     | 428/1014 [06:47<08:32,  1.14it/s]"
     ]
    },
    {
     "name": "stdout",
     "output_type": "stream",
     "text": [
      "ICP converged. Fitness score: 3.71\n",
      "Frame : 427\n",
      "Error--------: 79.71554244104395\n",
      "Latent error above the threshold of 1.2\n",
      "Found 12466 lines. Skipped 11. Loaded 12455 points.\n"
     ]
    },
    {
     "name": "stderr",
     "output_type": "stream",
     "text": [
      " 42%|████▏     | 429/1014 [06:48<08:32,  1.14it/s]"
     ]
    },
    {
     "name": "stdout",
     "output_type": "stream",
     "text": [
      "ICP converged. Fitness score: 4.79\n",
      "Frame : 428\n",
      "Error--------: 79.91467003715707\n",
      "Latent error above the threshold of 1.2\n",
      "Found 14021 lines. Skipped 11. Loaded 14010 points.\n"
     ]
    },
    {
     "name": "stderr",
     "output_type": "stream",
     "text": [
      " 42%|████▏     | 430/1014 [06:49<08:29,  1.15it/s]"
     ]
    },
    {
     "name": "stdout",
     "output_type": "stream",
     "text": [
      "ICP converged. Fitness score: 3.26\n",
      "Frame : 429\n",
      "Error--------: 80.05606715695082\n",
      "Latent error above the threshold of 1.2\n",
      "Found 15462 lines. Skipped 11. Loaded 15451 points.\n"
     ]
    },
    {
     "name": "stderr",
     "output_type": "stream",
     "text": [
      " 43%|████▎     | 431/1014 [06:50<08:22,  1.16it/s]"
     ]
    },
    {
     "name": "stdout",
     "output_type": "stream",
     "text": [
      "ICP converged. Fitness score: 4.21\n",
      "Frame : 430\n",
      "Error--------: 80.36050821436008\n",
      "Latent error above the threshold of 1.2\n",
      "Found 15462 lines. Skipped 11. Loaded 15451 points.\n"
     ]
    },
    {
     "name": "stderr",
     "output_type": "stream",
     "text": [
      " 43%|████▎     | 432/1014 [06:51<08:26,  1.15it/s]"
     ]
    },
    {
     "name": "stdout",
     "output_type": "stream",
     "text": [
      "ICP converged. Fitness score: 3.34\n",
      "Frame : 431\n",
      "Error--------: 80.70602942842042\n",
      "Latent error above the threshold of 1.2\n",
      "Found 16429 lines. Skipped 11. Loaded 16418 points.\n"
     ]
    },
    {
     "name": "stderr",
     "output_type": "stream",
     "text": [
      " 43%|████▎     | 433/1014 [06:51<08:31,  1.14it/s]"
     ]
    },
    {
     "name": "stdout",
     "output_type": "stream",
     "text": [
      "ICP converged. Fitness score: 4.45\n",
      "Frame : 432\n",
      "Error--------: 81.06285494940346\n",
      "Latent error above the threshold of 1.2\n",
      "Found 15249 lines. Skipped 11. Loaded 15238 points.\n"
     ]
    },
    {
     "name": "stderr",
     "output_type": "stream",
     "text": [
      " 43%|████▎     | 434/1014 [06:52<08:43,  1.11it/s]"
     ]
    },
    {
     "name": "stdout",
     "output_type": "stream",
     "text": [
      "ICP converged. Fitness score: 3.50\n",
      "Frame : 433\n",
      "Error--------: 81.27561064903941\n",
      "Latent error above the threshold of 1.2\n",
      "Found 12787 lines. Skipped 11. Loaded 12776 points.\n"
     ]
    },
    {
     "name": "stderr",
     "output_type": "stream",
     "text": [
      " 43%|████▎     | 435/1014 [06:53<08:10,  1.18it/s]"
     ]
    },
    {
     "name": "stdout",
     "output_type": "stream",
     "text": [
      "ICP converged. Fitness score: 4.16\n",
      "Frame : 434\n",
      "Error--------: 81.50016540969514\n",
      "Latent error above the threshold of 1.2\n",
      "Found 14443 lines. Skipped 11. Loaded 14432 points.\n"
     ]
    },
    {
     "name": "stderr",
     "output_type": "stream",
     "text": [
      " 43%|████▎     | 436/1014 [06:54<08:16,  1.16it/s]"
     ]
    },
    {
     "name": "stdout",
     "output_type": "stream",
     "text": [
      "ICP converged. Fitness score: 3.55\n",
      "Frame : 435\n",
      "Error--------: 81.66722962517764\n",
      "Latent error above the threshold of 1.2\n",
      "Found 12295 lines. Skipped 11. Loaded 12284 points.\n"
     ]
    },
    {
     "name": "stderr",
     "output_type": "stream",
     "text": [
      " 43%|████▎     | 437/1014 [06:55<08:14,  1.17it/s]"
     ]
    },
    {
     "name": "stdout",
     "output_type": "stream",
     "text": [
      "ICP converged. Fitness score: 4.13\n",
      "Frame : 436\n",
      "Error--------: 81.84314443616748\n",
      "Latent error above the threshold of 1.2\n",
      "Found 16028 lines. Skipped 11. Loaded 16017 points.\n"
     ]
    },
    {
     "name": "stderr",
     "output_type": "stream",
     "text": [
      " 43%|████▎     | 438/1014 [06:56<07:38,  1.26it/s]"
     ]
    },
    {
     "name": "stdout",
     "output_type": "stream",
     "text": [
      "ICP converged. Fitness score: 1.34\n",
      "Frame : 437\n",
      "Error--------: 82.0842857988947\n",
      "Latent error above the threshold of 1.2\n",
      "Found 15350 lines. Skipped 11. Loaded 15339 points.\n"
     ]
    },
    {
     "name": "stderr",
     "output_type": "stream",
     "text": [
      " 43%|████▎     | 439/1014 [06:56<07:54,  1.21it/s]"
     ]
    },
    {
     "name": "stdout",
     "output_type": "stream",
     "text": [
      "ICP converged. Fitness score: 4.68\n",
      "Frame : 438\n",
      "Error--------: 82.24193195881422\n",
      "Latent error above the threshold of 1.2\n",
      "Found 17230 lines. Skipped 11. Loaded 17219 points.\n"
     ]
    },
    {
     "name": "stderr",
     "output_type": "stream",
     "text": [
      " 43%|████▎     | 440/1014 [06:57<08:08,  1.18it/s]"
     ]
    },
    {
     "name": "stdout",
     "output_type": "stream",
     "text": [
      "ICP converged. Fitness score: 3.66\n",
      "Frame : 439\n",
      "Error--------: 82.3869715758969\n",
      "Latent error above the threshold of 1.2\n",
      "Found 13199 lines. Skipped 11. Loaded 13188 points.\n"
     ]
    },
    {
     "name": "stderr",
     "output_type": "stream",
     "text": [
      " 43%|████▎     | 441/1014 [06:58<08:04,  1.18it/s]"
     ]
    },
    {
     "name": "stdout",
     "output_type": "stream",
     "text": [
      "ICP converged. Fitness score: 4.26\n",
      "Frame : 440\n",
      "Error--------: 82.6195164077242\n",
      "Latent error above the threshold of 1.2\n",
      "Found 14491 lines. Skipped 11. Loaded 14480 points.\n"
     ]
    },
    {
     "name": "stderr",
     "output_type": "stream",
     "text": [
      " 44%|████▎     | 442/1014 [06:59<08:22,  1.14it/s]"
     ]
    },
    {
     "name": "stdout",
     "output_type": "stream",
     "text": [
      "ICP converged. Fitness score: 3.33\n",
      "Frame : 441\n",
      "Error--------: 82.83787759376636\n",
      "Latent error above the threshold of 1.2\n",
      "Found 15689 lines. Skipped 11. Loaded 15678 points.\n"
     ]
    },
    {
     "name": "stderr",
     "output_type": "stream",
     "text": [
      " 44%|████▎     | 443/1014 [07:00<08:50,  1.08it/s]"
     ]
    },
    {
     "name": "stdout",
     "output_type": "stream",
     "text": [
      "ICP converged. Fitness score: 4.36\n",
      "Frame : 442\n",
      "Error--------: 83.02311001021612\n",
      "Latent error above the threshold of 1.2\n",
      "Found 12811 lines. Skipped 11. Loaded 12800 points.\n"
     ]
    },
    {
     "name": "stderr",
     "output_type": "stream",
     "text": [
      " 44%|████▍     | 444/1014 [07:01<08:40,  1.10it/s]"
     ]
    },
    {
     "name": "stdout",
     "output_type": "stream",
     "text": [
      "ICP converged. Fitness score: 3.11\n",
      "Frame : 443\n",
      "Error--------: 83.19988300067241\n",
      "Latent error above the threshold of 1.2\n",
      "Found 14937 lines. Skipped 11. Loaded 14926 points.\n"
     ]
    },
    {
     "name": "stderr",
     "output_type": "stream",
     "text": [
      " 44%|████▍     | 445/1014 [07:02<08:50,  1.07it/s]"
     ]
    },
    {
     "name": "stdout",
     "output_type": "stream",
     "text": [
      "ICP converged. Fitness score: 4.13\n",
      "Frame : 444\n",
      "Error--------: 83.43019223914729\n",
      "Latent error above the threshold of 1.2\n",
      "Found 18273 lines. Skipped 11. Loaded 18262 points.\n"
     ]
    },
    {
     "name": "stderr",
     "output_type": "stream",
     "text": [
      " 44%|████▍     | 446/1014 [07:03<08:56,  1.06it/s]"
     ]
    },
    {
     "name": "stdout",
     "output_type": "stream",
     "text": [
      "ICP converged. Fitness score: 3.06\n",
      "Frame : 445\n",
      "Error--------: 83.5792436767534\n",
      "Latent error above the threshold of 1.2\n",
      "Found 15519 lines. Skipped 11. Loaded 15508 points.\n"
     ]
    },
    {
     "name": "stderr",
     "output_type": "stream",
     "text": [
      " 44%|████▍     | 447/1014 [07:04<08:48,  1.07it/s]"
     ]
    },
    {
     "name": "stdout",
     "output_type": "stream",
     "text": [
      "ICP converged. Fitness score: 3.74\n",
      "Frame : 446\n",
      "Error--------: 83.79548240356947\n",
      "Latent error above the threshold of 1.2\n",
      "Found 15435 lines. Skipped 11. Loaded 15424 points.\n"
     ]
    },
    {
     "name": "stderr",
     "output_type": "stream",
     "text": [
      " 44%|████▍     | 448/1014 [07:05<08:19,  1.13it/s]"
     ]
    },
    {
     "name": "stdout",
     "output_type": "stream",
     "text": [
      "ICP converged. Fitness score: 2.79\n",
      "Frame : 447\n",
      "Error--------: 83.93369699566033\n",
      "Latent error above the threshold of 1.2\n",
      "Found 14539 lines. Skipped 11. Loaded 14528 points.\n"
     ]
    },
    {
     "name": "stderr",
     "output_type": "stream",
     "text": [
      " 44%|████▍     | 449/1014 [07:06<09:03,  1.04it/s]"
     ]
    },
    {
     "name": "stdout",
     "output_type": "stream",
     "text": [
      "ICP converged. Fitness score: 1.39\n",
      "Frame : 448\n",
      "Error--------: 84.1204048110862\n",
      "Latent error above the threshold of 1.2\n",
      "Found 15654 lines. Skipped 11. Loaded 15643 points.\n"
     ]
    },
    {
     "name": "stderr",
     "output_type": "stream",
     "text": [
      " 44%|████▍     | 450/1014 [07:08<12:34,  1.34s/it]"
     ]
    },
    {
     "name": "stdout",
     "output_type": "stream",
     "text": [
      "ICP converged. Fitness score: 2.95\n",
      "Frame : 449\n",
      "Error--------: 84.27150770279738\n",
      "Latent error above the threshold of 1.2\n",
      "Found 12922 lines. Skipped 11. Loaded 12911 points.\n"
     ]
    },
    {
     "name": "stderr",
     "output_type": "stream",
     "text": [
      " 44%|████▍     | 451/1014 [07:09<11:08,  1.19s/it]"
     ]
    },
    {
     "name": "stdout",
     "output_type": "stream",
     "text": [
      "ICP converged. Fitness score: 3.28\n",
      "Frame : 450\n",
      "Error--------: 84.39403736699512\n",
      "Latent error above the threshold of 1.2\n",
      "Found 14641 lines. Skipped 11. Loaded 14630 points.\n"
     ]
    },
    {
     "name": "stderr",
     "output_type": "stream",
     "text": [
      " 45%|████▍     | 452/1014 [07:10<10:09,  1.08s/it]"
     ]
    },
    {
     "name": "stdout",
     "output_type": "stream",
     "text": [
      "ICP converged. Fitness score: 2.78\n",
      "Frame : 451\n",
      "Error--------: 84.56198991627011\n",
      "Latent error above the threshold of 1.2\n",
      "Found 13809 lines. Skipped 11. Loaded 13798 points.\n"
     ]
    },
    {
     "name": "stderr",
     "output_type": "stream",
     "text": [
      " 45%|████▍     | 453/1014 [07:11<09:24,  1.01s/it]"
     ]
    },
    {
     "name": "stdout",
     "output_type": "stream",
     "text": [
      "ICP converged. Fitness score: 3.23\n",
      "Frame : 452\n",
      "Error--------: 84.77151888672168\n",
      "Latent error above the threshold of 1.2\n",
      "Found 15062 lines. Skipped 11. Loaded 15051 points.\n"
     ]
    },
    {
     "name": "stderr",
     "output_type": "stream",
     "text": [
      " 45%|████▍     | 454/1014 [07:11<08:49,  1.06it/s]"
     ]
    },
    {
     "name": "stdout",
     "output_type": "stream",
     "text": [
      "ICP converged. Fitness score: 2.54\n",
      "Frame : 453\n",
      "Error--------: 84.96303269918282\n",
      "Latent error above the threshold of 1.2\n",
      "Found 16521 lines. Skipped 11. Loaded 16510 points.\n"
     ]
    },
    {
     "name": "stderr",
     "output_type": "stream",
     "text": [
      " 45%|████▍     | 455/1014 [07:12<08:34,  1.09it/s]"
     ]
    },
    {
     "name": "stdout",
     "output_type": "stream",
     "text": [
      "ICP converged. Fitness score: 2.96\n",
      "Frame : 454\n",
      "Error--------: 85.12584606837403\n",
      "Latent error above the threshold of 1.2\n",
      "Found 14140 lines. Skipped 11. Loaded 14129 points.\n"
     ]
    },
    {
     "name": "stderr",
     "output_type": "stream",
     "text": [
      " 45%|████▍     | 456/1014 [07:13<08:25,  1.10it/s]"
     ]
    },
    {
     "name": "stdout",
     "output_type": "stream",
     "text": [
      "ICP converged. Fitness score: 2.52\n",
      "Frame : 455\n",
      "Error--------: 85.33695363317486\n",
      "Latent error above the threshold of 1.2\n",
      "Found 11814 lines. Skipped 11. Loaded 11803 points.\n"
     ]
    },
    {
     "name": "stderr",
     "output_type": "stream",
     "text": [
      " 45%|████▌     | 457/1014 [07:14<08:17,  1.12it/s]"
     ]
    },
    {
     "name": "stdout",
     "output_type": "stream",
     "text": [
      "ICP converged. Fitness score: 2.45\n",
      "Frame : 456\n",
      "Error--------: 85.50640628685606\n",
      "Latent error above the threshold of 1.2\n",
      "Found 12694 lines. Skipped 11. Loaded 12683 points.\n"
     ]
    },
    {
     "name": "stderr",
     "output_type": "stream",
     "text": [
      " 45%|████▌     | 458/1014 [07:15<07:59,  1.16it/s]"
     ]
    },
    {
     "name": "stdout",
     "output_type": "stream",
     "text": [
      "ICP converged. Fitness score: 2.31\n",
      "Frame : 457\n",
      "Error--------: 85.7020353963314\n",
      "Latent error above the threshold of 1.2\n",
      "Found 14453 lines. Skipped 11. Loaded 14442 points.\n"
     ]
    },
    {
     "name": "stderr",
     "output_type": "stream",
     "text": [
      " 45%|████▌     | 459/1014 [07:16<07:52,  1.17it/s]"
     ]
    },
    {
     "name": "stdout",
     "output_type": "stream",
     "text": [
      "ICP converged. Fitness score: 2.49\n",
      "Frame : 458\n",
      "Error--------: 85.89647255775637\n",
      "Latent error above the threshold of 1.2\n",
      "Found 12565 lines. Skipped 11. Loaded 12554 points.\n"
     ]
    },
    {
     "name": "stderr",
     "output_type": "stream",
     "text": [
      " 45%|████▌     | 460/1014 [07:16<07:43,  1.20it/s]"
     ]
    },
    {
     "name": "stdout",
     "output_type": "stream",
     "text": [
      "ICP converged. Fitness score: 0.50\n",
      "Frame : 459\n",
      "Error--------: 86.19248484262712\n",
      "Latent error above the threshold of 1.2\n",
      "Found 11633 lines. Skipped 11. Loaded 11622 points.\n"
     ]
    },
    {
     "name": "stderr",
     "output_type": "stream",
     "text": [
      " 45%|████▌     | 461/1014 [07:17<07:36,  1.21it/s]"
     ]
    },
    {
     "name": "stdout",
     "output_type": "stream",
     "text": [
      "ICP converged. Fitness score: 1.32\n",
      "Frame : 460\n",
      "Error--------: 86.34547207222455\n",
      "Latent error above the threshold of 1.2\n",
      "Found 14951 lines. Skipped 11. Loaded 14940 points.\n"
     ]
    },
    {
     "name": "stderr",
     "output_type": "stream",
     "text": [
      " 46%|████▌     | 462/1014 [07:18<07:46,  1.18it/s]"
     ]
    },
    {
     "name": "stdout",
     "output_type": "stream",
     "text": [
      "ICP converged. Fitness score: 2.23\n",
      "Frame : 461\n",
      "Error--------: 86.41325770278839\n",
      "Latent error above the threshold of 1.2\n",
      "Found 16188 lines. Skipped 11. Loaded 16177 points.\n"
     ]
    },
    {
     "name": "stderr",
     "output_type": "stream",
     "text": [
      " 46%|████▌     | 463/1014 [07:19<07:29,  1.22it/s]"
     ]
    },
    {
     "name": "stdout",
     "output_type": "stream",
     "text": [
      "ICP converged. Fitness score: 2.38\n",
      "Frame : 462\n",
      "Error--------: 86.60290932057617\n",
      "Latent error above the threshold of 1.2\n",
      "Found 14052 lines. Skipped 11. Loaded 14041 points.\n"
     ]
    },
    {
     "name": "stderr",
     "output_type": "stream",
     "text": [
      " 46%|████▌     | 464/1014 [07:20<07:29,  1.22it/s]"
     ]
    },
    {
     "name": "stdout",
     "output_type": "stream",
     "text": [
      "ICP converged. Fitness score: 2.16\n",
      "Frame : 463\n",
      "Error--------: 86.84456879122423\n",
      "Latent error above the threshold of 1.2\n",
      "Found 15684 lines. Skipped 11. Loaded 15673 points.\n"
     ]
    },
    {
     "name": "stderr",
     "output_type": "stream",
     "text": [
      " 46%|████▌     | 465/1014 [07:20<07:18,  1.25it/s]"
     ]
    },
    {
     "name": "stdout",
     "output_type": "stream",
     "text": [
      "ICP converged. Fitness score: 2.16\n",
      "Frame : 464\n",
      "Error--------: 87.01821283190483\n",
      "Latent error above the threshold of 1.2\n",
      "Found 13253 lines. Skipped 11. Loaded 13242 points.\n"
     ]
    },
    {
     "name": "stderr",
     "output_type": "stream",
     "text": [
      " 46%|████▌     | 466/1014 [07:21<06:53,  1.33it/s]"
     ]
    },
    {
     "name": "stdout",
     "output_type": "stream",
     "text": [
      "ICP converged. Fitness score: 1.85\n",
      "Frame : 465\n",
      "Error--------: 87.24105365656908\n",
      "Latent error above the threshold of 1.2\n",
      "Found 15677 lines. Skipped 11. Loaded 15666 points.\n"
     ]
    },
    {
     "name": "stderr",
     "output_type": "stream",
     "text": [
      " 46%|████▌     | 467/1014 [07:22<06:51,  1.33it/s]"
     ]
    },
    {
     "name": "stdout",
     "output_type": "stream",
     "text": [
      "ICP converged. Fitness score: 2.16\n",
      "Frame : 466\n",
      "Error--------: 87.45083239029746\n",
      "Latent error above the threshold of 1.2\n",
      "Found 11369 lines. Skipped 11. Loaded 11358 points.\n"
     ]
    },
    {
     "name": "stderr",
     "output_type": "stream",
     "text": [
      " 46%|████▌     | 468/1014 [07:23<06:49,  1.33it/s]"
     ]
    },
    {
     "name": "stdout",
     "output_type": "stream",
     "text": [
      "ICP converged. Fitness score: 1.77\n",
      "Frame : 467\n",
      "Error--------: 87.60330223915112\n",
      "Latent error above the threshold of 1.2\n",
      "Found 17090 lines. Skipped 11. Loaded 17079 points.\n"
     ]
    },
    {
     "name": "stderr",
     "output_type": "stream",
     "text": [
      " 46%|████▋     | 469/1014 [07:23<06:43,  1.35it/s]"
     ]
    },
    {
     "name": "stdout",
     "output_type": "stream",
     "text": [
      "ICP converged. Fitness score: 2.23\n",
      "Frame : 468\n",
      "Error--------: 87.80373069158387\n",
      "Latent error above the threshold of 1.2\n",
      "Found 12110 lines. Skipped 11. Loaded 12099 points.\n"
     ]
    },
    {
     "name": "stderr",
     "output_type": "stream",
     "text": [
      " 46%|████▋     | 470/1014 [07:24<06:47,  1.33it/s]"
     ]
    },
    {
     "name": "stdout",
     "output_type": "stream",
     "text": [
      "ICP converged. Fitness score: 1.84\n",
      "Frame : 469\n",
      "Error--------: 87.97361108403523\n",
      "Latent error above the threshold of 1.2\n",
      "Found 14397 lines. Skipped 11. Loaded 14386 points.\n"
     ]
    },
    {
     "name": "stderr",
     "output_type": "stream",
     "text": [
      " 46%|████▋     | 471/1014 [07:25<06:57,  1.30it/s]"
     ]
    },
    {
     "name": "stdout",
     "output_type": "stream",
     "text": [
      "ICP converged. Fitness score: 1.99\n",
      "Frame : 470\n",
      "Error--------: 88.16991397419439\n",
      "Latent error above the threshold of 1.2\n",
      "Found 15717 lines. Skipped 11. Loaded 15706 points.\n"
     ]
    },
    {
     "name": "stderr",
     "output_type": "stream",
     "text": [
      " 47%|████▋     | 472/1014 [07:26<07:28,  1.21it/s]"
     ]
    },
    {
     "name": "stdout",
     "output_type": "stream",
     "text": [
      "ICP converged. Fitness score: 1.68\n",
      "Frame : 471\n",
      "Error--------: 88.41605774970587\n",
      "Latent error above the threshold of 1.2\n",
      "Found 13591 lines. Skipped 11. Loaded 13580 points.\n"
     ]
    },
    {
     "name": "stderr",
     "output_type": "stream",
     "text": [
      " 47%|████▋     | 473/1014 [07:27<07:30,  1.20it/s]"
     ]
    },
    {
     "name": "stdout",
     "output_type": "stream",
     "text": [
      "ICP converged. Fitness score: 2.50\n",
      "Frame : 472\n",
      "Error--------: 88.50957736910156\n",
      "Latent error above the threshold of 1.2\n",
      "Found 13862 lines. Skipped 11. Loaded 13851 points.\n"
     ]
    },
    {
     "name": "stderr",
     "output_type": "stream",
     "text": [
      " 47%|████▋     | 474/1014 [07:27<07:30,  1.20it/s]"
     ]
    },
    {
     "name": "stdout",
     "output_type": "stream",
     "text": [
      "ICP converged. Fitness score: 1.75\n",
      "Frame : 473\n",
      "Error--------: 88.75289917164473\n",
      "Latent error above the threshold of 1.2\n",
      "Found 14480 lines. Skipped 11. Loaded 14469 points.\n"
     ]
    },
    {
     "name": "stderr",
     "output_type": "stream",
     "text": [
      " 47%|████▋     | 475/1014 [07:28<07:34,  1.19it/s]"
     ]
    },
    {
     "name": "stdout",
     "output_type": "stream",
     "text": [
      "ICP converged. Fitness score: 2.65\n",
      "Frame : 474\n",
      "Error--------: 89.04964510906362\n",
      "Latent error above the threshold of 1.2\n",
      "Found 14599 lines. Skipped 11. Loaded 14588 points.\n"
     ]
    },
    {
     "name": "stderr",
     "output_type": "stream",
     "text": [
      " 47%|████▋     | 476/1014 [07:29<07:31,  1.19it/s]"
     ]
    },
    {
     "name": "stdout",
     "output_type": "stream",
     "text": [
      "ICP converged. Fitness score: 1.95\n",
      "Frame : 475\n",
      "Error--------: 89.1082097213035\n",
      "Latent error above the threshold of 1.2\n",
      "Found 10725 lines. Skipped 11. Loaded 10714 points.\n"
     ]
    },
    {
     "name": "stderr",
     "output_type": "stream",
     "text": [
      " 47%|████▋     | 477/1014 [07:30<07:19,  1.22it/s]"
     ]
    },
    {
     "name": "stdout",
     "output_type": "stream",
     "text": [
      "ICP converged. Fitness score: 2.86\n",
      "Frame : 476\n",
      "Error--------: 89.34006524130707\n",
      "Latent error above the threshold of 1.2\n",
      "Found 14207 lines. Skipped 11. Loaded 14196 points.\n"
     ]
    },
    {
     "name": "stderr",
     "output_type": "stream",
     "text": [
      " 47%|████▋     | 478/1014 [07:31<07:22,  1.21it/s]"
     ]
    },
    {
     "name": "stdout",
     "output_type": "stream",
     "text": [
      "ICP converged. Fitness score: 1.98\n",
      "Frame : 477\n",
      "Error--------: 89.49618166023505\n",
      "Latent error above the threshold of 1.2\n",
      "Found 12046 lines. Skipped 11. Loaded 12035 points.\n"
     ]
    },
    {
     "name": "stderr",
     "output_type": "stream",
     "text": [
      " 47%|████▋     | 479/1014 [07:32<07:13,  1.23it/s]"
     ]
    },
    {
     "name": "stdout",
     "output_type": "stream",
     "text": [
      "ICP converged. Fitness score: 2.92\n",
      "Frame : 478\n",
      "Error--------: 89.72156455287924\n",
      "Latent error above the threshold of 1.2\n",
      "Found 14475 lines. Skipped 11. Loaded 14464 points.\n"
     ]
    },
    {
     "name": "stderr",
     "output_type": "stream",
     "text": [
      " 47%|████▋     | 480/1014 [07:32<07:20,  1.21it/s]"
     ]
    },
    {
     "name": "stdout",
     "output_type": "stream",
     "text": [
      "ICP converged. Fitness score: 2.12\n",
      "Frame : 479\n",
      "Error--------: 89.881786053843\n",
      "Latent error above the threshold of 1.2\n",
      "Found 15763 lines. Skipped 11. Loaded 15752 points.\n"
     ]
    },
    {
     "name": "stderr",
     "output_type": "stream",
     "text": [
      " 47%|████▋     | 481/1014 [07:33<07:46,  1.14it/s]"
     ]
    },
    {
     "name": "stdout",
     "output_type": "stream",
     "text": [
      "ICP converged. Fitness score: 3.76\n",
      "Frame : 480\n",
      "Error--------: 90.08056441062844\n",
      "Latent error above the threshold of 1.2\n",
      "Found 15008 lines. Skipped 11. Loaded 14997 points.\n"
     ]
    },
    {
     "name": "stderr",
     "output_type": "stream",
     "text": [
      " 48%|████▊     | 482/1014 [07:34<06:33,  1.35it/s]"
     ]
    },
    {
     "name": "stdout",
     "output_type": "stream",
     "text": [
      "ICP converged. Fitness score: 2.12\n",
      "Frame : 481\n",
      "Error--------: 90.32211370469605\n",
      "Latent error above the threshold of 1.2\n",
      "Found 14429 lines. Skipped 11. Loaded 14418 points.\n"
     ]
    },
    {
     "name": "stderr",
     "output_type": "stream",
     "text": [
      " 48%|████▊     | 483/1014 [07:35<07:02,  1.26it/s]"
     ]
    },
    {
     "name": "stdout",
     "output_type": "stream",
     "text": [
      "ICP converged. Fitness score: 1.75\n",
      "Frame : 482\n",
      "Error--------: 90.5124037438345\n",
      "Latent error above the threshold of 1.2\n",
      "Found 14182 lines. Skipped 11. Loaded 14171 points.\n"
     ]
    },
    {
     "name": "stderr",
     "output_type": "stream",
     "text": [
      " 48%|████▊     | 484/1014 [07:36<07:13,  1.22it/s]"
     ]
    },
    {
     "name": "stdout",
     "output_type": "stream",
     "text": [
      "ICP converged. Fitness score: 2.52\n",
      "Frame : 483\n",
      "Error--------: 90.87694866503037\n",
      "Latent error above the threshold of 1.2\n",
      "Found 15372 lines. Skipped 11. Loaded 15361 points.\n"
     ]
    },
    {
     "name": "stderr",
     "output_type": "stream",
     "text": [
      " 48%|████▊     | 485/1014 [07:36<06:20,  1.39it/s]"
     ]
    },
    {
     "name": "stdout",
     "output_type": "stream",
     "text": [
      "ICP converged. Fitness score: 3.28\n",
      "Frame : 484\n",
      "Error--------: 91.16326468702741\n",
      "Latent error above the threshold of 1.2\n",
      "Found 14991 lines. Skipped 11. Loaded 14980 points.\n"
     ]
    },
    {
     "name": "stderr",
     "output_type": "stream",
     "text": [
      " 48%|████▊     | 486/1014 [07:37<06:35,  1.34it/s]"
     ]
    },
    {
     "name": "stdout",
     "output_type": "stream",
     "text": [
      "ICP converged. Fitness score: 2.60\n",
      "Frame : 485\n",
      "Error--------: 91.36288449779826\n",
      "Latent error above the threshold of 1.2\n",
      "Found 14354 lines. Skipped 11. Loaded 14343 points.\n"
     ]
    },
    {
     "name": "stderr",
     "output_type": "stream",
     "text": [
      " 48%|████▊     | 487/1014 [07:38<06:29,  1.35it/s]"
     ]
    },
    {
     "name": "stdout",
     "output_type": "stream",
     "text": [
      "ICP converged. Fitness score: 3.50\n",
      "Frame : 486\n",
      "Error--------: 91.48980365366104\n",
      "Latent error above the threshold of 1.2\n",
      "Found 15559 lines. Skipped 11. Loaded 15548 points.\n"
     ]
    },
    {
     "name": "stderr",
     "output_type": "stream",
     "text": [
      " 48%|████▊     | 488/1014 [07:39<06:59,  1.25it/s]"
     ]
    },
    {
     "name": "stdout",
     "output_type": "stream",
     "text": [
      "ICP converged. Fitness score: 2.72\n",
      "Frame : 487\n",
      "Error--------: 91.66645601627849\n",
      "Latent error above the threshold of 1.2\n",
      "Found 13575 lines. Skipped 11. Loaded 13564 points.\n"
     ]
    },
    {
     "name": "stderr",
     "output_type": "stream",
     "text": [
      " 48%|████▊     | 489/1014 [07:39<06:29,  1.35it/s]"
     ]
    },
    {
     "name": "stdout",
     "output_type": "stream",
     "text": [
      "ICP converged. Fitness score: 3.50\n",
      "Frame : 488\n",
      "Error--------: 91.85541656034698\n",
      "Latent error above the threshold of 1.2\n",
      "Found 14713 lines. Skipped 11. Loaded 14702 points.\n"
     ]
    },
    {
     "name": "stderr",
     "output_type": "stream",
     "text": [
      " 48%|████▊     | 490/1014 [07:40<06:55,  1.26it/s]"
     ]
    },
    {
     "name": "stdout",
     "output_type": "stream",
     "text": [
      "ICP converged. Fitness score: 2.70\n",
      "Frame : 489\n",
      "Error--------: 91.9950643140724\n",
      "Latent error above the threshold of 1.2\n",
      "Found 12688 lines. Skipped 11. Loaded 12677 points.\n"
     ]
    },
    {
     "name": "stderr",
     "output_type": "stream",
     "text": [
      " 48%|████▊     | 491/1014 [07:41<06:23,  1.36it/s]"
     ]
    },
    {
     "name": "stdout",
     "output_type": "stream",
     "text": [
      "ICP converged. Fitness score: 3.43\n",
      "Frame : 490\n",
      "Error--------: 92.17970865893841\n",
      "Latent error above the threshold of 1.2\n",
      "Found 13680 lines. Skipped 11. Loaded 13669 points.\n"
     ]
    },
    {
     "name": "stderr",
     "output_type": "stream",
     "text": [
      " 49%|████▊     | 492/1014 [07:42<06:47,  1.28it/s]"
     ]
    },
    {
     "name": "stdout",
     "output_type": "stream",
     "text": [
      "ICP converged. Fitness score: 2.63\n",
      "Frame : 491\n",
      "Error--------: 92.35926903893638\n",
      "Latent error above the threshold of 1.2\n",
      "Found 12361 lines. Skipped 11. Loaded 12350 points.\n"
     ]
    },
    {
     "name": "stderr",
     "output_type": "stream",
     "text": [
      " 49%|████▊     | 493/1014 [07:42<07:02,  1.23it/s]"
     ]
    },
    {
     "name": "stdout",
     "output_type": "stream",
     "text": [
      "ICP converged. Fitness score: 3.16\n",
      "Frame : 492\n",
      "Error--------: 92.44899155929758\n",
      "Latent error above the threshold of 1.2\n",
      "Found 12249 lines. Skipped 11. Loaded 12238 points.\n"
     ]
    },
    {
     "name": "stderr",
     "output_type": "stream",
     "text": [
      " 49%|████▊     | 494/1014 [07:43<06:24,  1.35it/s]"
     ]
    },
    {
     "name": "stdout",
     "output_type": "stream",
     "text": [
      "ICP converged. Fitness score: 1.89\n",
      "Frame : 493\n",
      "Error--------: 92.7133051840884\n",
      "Latent error above the threshold of 1.2\n",
      "Found 15712 lines. Skipped 11. Loaded 15701 points.\n"
     ]
    },
    {
     "name": "stderr",
     "output_type": "stream",
     "text": [
      " 49%|████▉     | 495/1014 [07:44<06:39,  1.30it/s]"
     ]
    },
    {
     "name": "stdout",
     "output_type": "stream",
     "text": [
      "ICP converged. Fitness score: 3.31\n",
      "Frame : 494\n",
      "Error--------: 92.90036798298048\n",
      "Latent error above the threshold of 1.2\n",
      "Found 11623 lines. Skipped 11. Loaded 11612 points.\n"
     ]
    },
    {
     "name": "stderr",
     "output_type": "stream",
     "text": [
      " 49%|████▉     | 496/1014 [07:45<06:44,  1.28it/s]"
     ]
    },
    {
     "name": "stdout",
     "output_type": "stream",
     "text": [
      "ICP converged. Fitness score: 2.09\n",
      "Frame : 495\n",
      "Error--------: 92.89751650619237\n",
      "Latent error above the threshold of 1.2\n",
      "Found 13766 lines. Skipped 11. Loaded 13755 points.\n"
     ]
    },
    {
     "name": "stderr",
     "output_type": "stream",
     "text": [
      " 49%|████▉     | 497/1014 [07:46<06:56,  1.24it/s]"
     ]
    },
    {
     "name": "stdout",
     "output_type": "stream",
     "text": [
      "ICP converged. Fitness score: 3.38\n",
      "Frame : 496\n",
      "Error--------: 93.17502331338324\n",
      "Latent error above the threshold of 1.2\n",
      "Found 13344 lines. Skipped 11. Loaded 13333 points.\n"
     ]
    },
    {
     "name": "stderr",
     "output_type": "stream",
     "text": [
      " 49%|████▉     | 498/1014 [07:46<06:57,  1.24it/s]"
     ]
    },
    {
     "name": "stdout",
     "output_type": "stream",
     "text": [
      "ICP converged. Fitness score: 2.23\n",
      "Frame : 497\n",
      "Error--------: 93.32091772170254\n",
      "Latent error above the threshold of 1.2\n",
      "Found 14247 lines. Skipped 11. Loaded 14236 points.\n"
     ]
    },
    {
     "name": "stderr",
     "output_type": "stream",
     "text": [
      " 49%|████▉     | 499/1014 [07:47<07:06,  1.21it/s]"
     ]
    },
    {
     "name": "stdout",
     "output_type": "stream",
     "text": [
      "ICP converged. Fitness score: 3.43\n",
      "Frame : 498\n",
      "Error--------: 93.52324952110914\n",
      "Latent error above the threshold of 1.2\n",
      "Found 15210 lines. Skipped 11. Loaded 15199 points.\n"
     ]
    },
    {
     "name": "stderr",
     "output_type": "stream",
     "text": [
      " 49%|████▉     | 500/1014 [07:48<07:08,  1.20it/s]"
     ]
    },
    {
     "name": "stdout",
     "output_type": "stream",
     "text": [
      "ICP converged. Fitness score: 2.21\n",
      "Frame : 499\n",
      "Error--------: 93.65677227395676\n",
      "Latent error above the threshold of 1.2\n",
      "Found 14765 lines. Skipped 11. Loaded 14754 points.\n"
     ]
    },
    {
     "name": "stderr",
     "output_type": "stream",
     "text": [
      " 49%|████▉     | 501/1014 [07:49<07:17,  1.17it/s]"
     ]
    },
    {
     "name": "stdout",
     "output_type": "stream",
     "text": [
      "ICP converged. Fitness score: 3.60\n",
      "Frame : 500\n",
      "Error--------: 93.78483226956563\n",
      "Latent error above the threshold of 1.2\n",
      "Found 15372 lines. Skipped 11. Loaded 15361 points.\n"
     ]
    },
    {
     "name": "stderr",
     "output_type": "stream",
     "text": [
      " 50%|████▉     | 502/1014 [07:50<07:21,  1.16it/s]"
     ]
    },
    {
     "name": "stdout",
     "output_type": "stream",
     "text": [
      "ICP converged. Fitness score: 2.15\n",
      "Frame : 501\n",
      "Error--------: 93.96357797926743\n",
      "Latent error above the threshold of 1.2\n",
      "Found 15152 lines. Skipped 11. Loaded 15141 points.\n"
     ]
    },
    {
     "name": "stderr",
     "output_type": "stream",
     "text": [
      " 50%|████▉     | 503/1014 [07:51<07:21,  1.16it/s]"
     ]
    },
    {
     "name": "stdout",
     "output_type": "stream",
     "text": [
      "ICP converged. Fitness score: 3.65\n",
      "Frame : 502\n",
      "Error--------: 94.11155197284229\n",
      "Latent error above the threshold of 1.2\n",
      "Found 14134 lines. Skipped 11. Loaded 14123 points.\n"
     ]
    },
    {
     "name": "stderr",
     "output_type": "stream",
     "text": [
      " 50%|████▉     | 504/1014 [07:52<07:23,  1.15it/s]"
     ]
    },
    {
     "name": "stdout",
     "output_type": "stream",
     "text": [
      "ICP converged. Fitness score: 2.26\n",
      "Frame : 503\n",
      "Error--------: 94.31915173967245\n",
      "Latent error above the threshold of 1.2\n",
      "Found 12454 lines. Skipped 11. Loaded 12443 points.\n"
     ]
    },
    {
     "name": "stderr",
     "output_type": "stream",
     "text": [
      " 50%|████▉     | 505/1014 [07:52<06:52,  1.23it/s]"
     ]
    },
    {
     "name": "stdout",
     "output_type": "stream",
     "text": [
      "ICP converged. Fitness score: 1.89\n",
      "Frame : 504\n",
      "Error--------: 94.7477063403255\n",
      "Latent error above the threshold of 1.2\n",
      "Found 13491 lines. Skipped 11. Loaded 13480 points.\n"
     ]
    },
    {
     "name": "stderr",
     "output_type": "stream",
     "text": [
      " 50%|████▉     | 506/1014 [07:53<06:55,  1.22it/s]"
     ]
    },
    {
     "name": "stdout",
     "output_type": "stream",
     "text": [
      "ICP converged. Fitness score: 2.46\n",
      "Frame : 505\n",
      "Error--------: 94.9838448767171\n",
      "Latent error above the threshold of 1.2\n",
      "Found 17252 lines. Skipped 11. Loaded 17241 points.\n"
     ]
    },
    {
     "name": "stderr",
     "output_type": "stream",
     "text": [
      " 50%|█████     | 507/1014 [07:54<07:26,  1.13it/s]"
     ]
    },
    {
     "name": "stdout",
     "output_type": "stream",
     "text": [
      "ICP converged. Fitness score: 3.34\n",
      "Frame : 506\n",
      "Error--------: 94.89378864649441\n",
      "Latent error above the threshold of 1.2\n",
      "Found 11313 lines. Skipped 11. Loaded 11302 points.\n"
     ]
    },
    {
     "name": "stderr",
     "output_type": "stream",
     "text": [
      " 50%|█████     | 508/1014 [07:55<07:09,  1.18it/s]"
     ]
    },
    {
     "name": "stdout",
     "output_type": "stream",
     "text": [
      "ICP converged. Fitness score: 2.54\n",
      "Frame : 507\n",
      "Error--------: 95.19085490961936\n",
      "Latent error above the threshold of 1.2\n",
      "Found 14129 lines. Skipped 11. Loaded 14118 points.\n"
     ]
    },
    {
     "name": "stderr",
     "output_type": "stream",
     "text": [
      " 50%|█████     | 509/1014 [07:56<07:07,  1.18it/s]"
     ]
    },
    {
     "name": "stdout",
     "output_type": "stream",
     "text": [
      "ICP converged. Fitness score: 3.04\n",
      "Frame : 508\n",
      "Error--------: 95.3823444878563\n",
      "Latent error above the threshold of 1.2\n",
      "Found 14120 lines. Skipped 11. Loaded 14109 points.\n"
     ]
    },
    {
     "name": "stderr",
     "output_type": "stream",
     "text": [
      " 50%|█████     | 510/1014 [07:57<07:16,  1.15it/s]"
     ]
    },
    {
     "name": "stdout",
     "output_type": "stream",
     "text": [
      "ICP converged. Fitness score: 2.59\n",
      "Frame : 509\n",
      "Error--------: 95.63235113290939\n",
      "Latent error above the threshold of 1.2\n",
      "Found 16603 lines. Skipped 11. Loaded 16592 points.\n"
     ]
    },
    {
     "name": "stderr",
     "output_type": "stream",
     "text": [
      " 50%|█████     | 511/1014 [07:57<06:57,  1.21it/s]"
     ]
    },
    {
     "name": "stdout",
     "output_type": "stream",
     "text": [
      "ICP converged. Fitness score: 2.86\n",
      "Frame : 510\n",
      "Error--------: 95.84613780793009\n",
      "Latent error above the threshold of 1.2\n",
      "Found 13695 lines. Skipped 11. Loaded 13684 points.\n"
     ]
    },
    {
     "name": "stderr",
     "output_type": "stream",
     "text": [
      " 50%|█████     | 512/1014 [07:58<06:41,  1.25it/s]"
     ]
    },
    {
     "name": "stdout",
     "output_type": "stream",
     "text": [
      "ICP converged. Fitness score: 2.51\n",
      "Frame : 511\n",
      "Error--------: 96.07986855400233\n",
      "Latent error above the threshold of 1.2\n",
      "Found 15978 lines. Skipped 11. Loaded 15967 points.\n"
     ]
    },
    {
     "name": "stderr",
     "output_type": "stream",
     "text": [
      " 51%|█████     | 513/1014 [07:59<06:26,  1.30it/s]"
     ]
    },
    {
     "name": "stdout",
     "output_type": "stream",
     "text": [
      "ICP converged. Fitness score: 3.28\n",
      "Frame : 512\n",
      "Error--------: 96.24126762356724\n",
      "Latent error above the threshold of 1.2\n",
      "Found 18605 lines. Skipped 11. Loaded 18594 points.\n"
     ]
    },
    {
     "name": "stderr",
     "output_type": "stream",
     "text": [
      " 51%|█████     | 514/1014 [08:00<06:56,  1.20it/s]"
     ]
    },
    {
     "name": "stdout",
     "output_type": "stream",
     "text": [
      "ICP converged. Fitness score: 2.81\n",
      "Frame : 513\n",
      "Error--------: 96.40350384402731\n",
      "Latent error above the threshold of 1.2\n",
      "Found 13364 lines. Skipped 11. Loaded 13353 points.\n"
     ]
    },
    {
     "name": "stderr",
     "output_type": "stream",
     "text": [
      " 51%|█████     | 515/1014 [08:01<06:58,  1.19it/s]"
     ]
    },
    {
     "name": "stdout",
     "output_type": "stream",
     "text": [
      "ICP converged. Fitness score: 3.21\n",
      "Frame : 514\n",
      "Error--------: 96.57848799931817\n",
      "Latent error above the threshold of 1.2\n",
      "Found 15141 lines. Skipped 11. Loaded 15130 points.\n"
     ]
    },
    {
     "name": "stderr",
     "output_type": "stream",
     "text": [
      " 51%|█████     | 516/1014 [08:02<07:07,  1.17it/s]"
     ]
    },
    {
     "name": "stdout",
     "output_type": "stream",
     "text": [
      "ICP converged. Fitness score: 2.29\n",
      "Frame : 515\n",
      "Error--------: 96.72006835582107\n",
      "Latent error above the threshold of 1.2\n",
      "Found 15868 lines. Skipped 11. Loaded 15857 points.\n"
     ]
    },
    {
     "name": "stderr",
     "output_type": "stream",
     "text": [
      " 51%|█████     | 517/1014 [08:02<07:13,  1.15it/s]"
     ]
    },
    {
     "name": "stdout",
     "output_type": "stream",
     "text": [
      "ICP converged. Fitness score: 3.97\n",
      "Frame : 516\n",
      "Error--------: 96.95984265917589\n",
      "Latent error above the threshold of 1.2\n",
      "Found 15453 lines. Skipped 11. Loaded 15442 points.\n"
     ]
    },
    {
     "name": "stderr",
     "output_type": "stream",
     "text": [
      " 51%|█████     | 518/1014 [08:03<07:27,  1.11it/s]"
     ]
    },
    {
     "name": "stdout",
     "output_type": "stream",
     "text": [
      "ICP converged. Fitness score: 2.29\n",
      "Frame : 517\n",
      "Error--------: 97.074319044879\n",
      "Latent error above the threshold of 1.2\n",
      "Found 13104 lines. Skipped 11. Loaded 13093 points.\n"
     ]
    },
    {
     "name": "stderr",
     "output_type": "stream",
     "text": [
      " 51%|█████     | 519/1014 [08:04<07:17,  1.13it/s]"
     ]
    },
    {
     "name": "stdout",
     "output_type": "stream",
     "text": [
      "ICP converged. Fitness score: 3.62\n",
      "Frame : 518\n",
      "Error--------: 97.28122518703073\n",
      "Latent error above the threshold of 1.2\n",
      "Found 14349 lines. Skipped 11. Loaded 14338 points.\n"
     ]
    },
    {
     "name": "stderr",
     "output_type": "stream",
     "text": [
      " 51%|█████▏    | 520/1014 [08:05<07:10,  1.15it/s]"
     ]
    },
    {
     "name": "stdout",
     "output_type": "stream",
     "text": [
      "ICP converged. Fitness score: 2.20\n",
      "Frame : 519\n",
      "Error--------: 97.4960165880565\n",
      "Latent error above the threshold of 1.2\n",
      "Found 15069 lines. Skipped 11. Loaded 15058 points.\n"
     ]
    },
    {
     "name": "stderr",
     "output_type": "stream",
     "text": [
      " 51%|█████▏    | 521/1014 [08:06<07:15,  1.13it/s]"
     ]
    },
    {
     "name": "stdout",
     "output_type": "stream",
     "text": [
      "ICP converged. Fitness score: 3.85\n",
      "Frame : 520\n",
      "Error--------: 97.61780964065812\n",
      "Latent error above the threshold of 1.2\n",
      "Found 13900 lines. Skipped 11. Loaded 13889 points.\n"
     ]
    },
    {
     "name": "stderr",
     "output_type": "stream",
     "text": [
      " 51%|█████▏    | 522/1014 [08:07<06:39,  1.23it/s]"
     ]
    },
    {
     "name": "stdout",
     "output_type": "stream",
     "text": [
      "ICP converged. Fitness score: 2.35\n",
      "Frame : 521\n",
      "Error--------: 97.84029912234473\n",
      "Latent error above the threshold of 1.2\n",
      "Found 16659 lines. Skipped 11. Loaded 16648 points.\n"
     ]
    },
    {
     "name": "stderr",
     "output_type": "stream",
     "text": [
      " 52%|█████▏    | 523/1014 [08:08<06:57,  1.18it/s]"
     ]
    },
    {
     "name": "stdout",
     "output_type": "stream",
     "text": [
      "ICP converged. Fitness score: 3.94\n",
      "Frame : 522\n",
      "Error--------: 98.03014114357555\n",
      "Latent error above the threshold of 1.2\n",
      "Found 13201 lines. Skipped 11. Loaded 13190 points.\n"
     ]
    },
    {
     "name": "stderr",
     "output_type": "stream",
     "text": [
      " 52%|█████▏    | 524/1014 [08:08<06:55,  1.18it/s]"
     ]
    },
    {
     "name": "stdout",
     "output_type": "stream",
     "text": [
      "ICP converged. Fitness score: 2.43\n",
      "Frame : 523\n",
      "Error--------: 98.1674920029772\n",
      "Latent error above the threshold of 1.2\n",
      "Found 15697 lines. Skipped 11. Loaded 15686 points.\n"
     ]
    },
    {
     "name": "stderr",
     "output_type": "stream",
     "text": [
      " 52%|█████▏    | 525/1014 [08:09<07:11,  1.13it/s]"
     ]
    },
    {
     "name": "stdout",
     "output_type": "stream",
     "text": [
      "ICP converged. Fitness score: 4.01\n",
      "Frame : 524\n",
      "Error--------: 98.37367219604019\n",
      "Latent error above the threshold of 1.2\n",
      "Found 14520 lines. Skipped 11. Loaded 14509 points.\n"
     ]
    },
    {
     "name": "stderr",
     "output_type": "stream",
     "text": [
      " 52%|█████▏    | 526/1014 [08:10<06:32,  1.24it/s]"
     ]
    },
    {
     "name": "stdout",
     "output_type": "stream",
     "text": [
      "ICP converged. Fitness score: 2.44\n",
      "Frame : 525\n",
      "Error--------: 98.54709142732126\n",
      "Latent error above the threshold of 1.2\n",
      "Found 12483 lines. Skipped 11. Loaded 12472 points.\n"
     ]
    },
    {
     "name": "stderr",
     "output_type": "stream",
     "text": [
      " 52%|█████▏    | 527/1014 [08:11<06:47,  1.19it/s]"
     ]
    },
    {
     "name": "stdout",
     "output_type": "stream",
     "text": [
      "ICP converged. Fitness score: 2.04\n",
      "Frame : 526\n",
      "Error--------: 98.70734384091426\n",
      "Latent error above the threshold of 1.2\n",
      "Found 12784 lines. Skipped 11. Loaded 12773 points.\n"
     ]
    },
    {
     "name": "stderr",
     "output_type": "stream",
     "text": [
      " 52%|█████▏    | 528/1014 [08:12<07:01,  1.15it/s]"
     ]
    },
    {
     "name": "stdout",
     "output_type": "stream",
     "text": [
      "ICP converged. Fitness score: 2.91\n",
      "Frame : 527\n",
      "Error--------: 98.84580179548469\n",
      "Latent error above the threshold of 1.2\n",
      "Found 12784 lines. Skipped 11. Loaded 12773 points.\n"
     ]
    },
    {
     "name": "stderr",
     "output_type": "stream",
     "text": [
      " 52%|█████▏    | 529/1014 [08:13<06:58,  1.16it/s]"
     ]
    },
    {
     "name": "stdout",
     "output_type": "stream",
     "text": [
      "ICP converged. Fitness score: 3.53\n",
      "Frame : 528\n",
      "Error--------: 99.05090506215997\n",
      "Latent error above the threshold of 1.2\n",
      "Found 12521 lines. Skipped 11. Loaded 12510 points.\n"
     ]
    },
    {
     "name": "stderr",
     "output_type": "stream",
     "text": [
      " 52%|█████▏    | 530/1014 [08:14<06:58,  1.16it/s]"
     ]
    },
    {
     "name": "stdout",
     "output_type": "stream",
     "text": [
      "ICP converged. Fitness score: 2.74\n",
      "Frame : 529\n",
      "Error--------: 99.29504379410709\n",
      "Latent error above the threshold of 1.2\n",
      "Found 17309 lines. Skipped 11. Loaded 17298 points.\n"
     ]
    },
    {
     "name": "stderr",
     "output_type": "stream",
     "text": [
      " 52%|█████▏    | 531/1014 [08:15<07:18,  1.10it/s]"
     ]
    },
    {
     "name": "stdout",
     "output_type": "stream",
     "text": [
      "ICP converged. Fitness score: 3.65\n",
      "Frame : 530\n",
      "Error--------: 99.4754333267839\n",
      "Latent error above the threshold of 1.2\n",
      "Found 15645 lines. Skipped 11. Loaded 15634 points.\n"
     ]
    },
    {
     "name": "stderr",
     "output_type": "stream",
     "text": [
      " 52%|█████▏    | 532/1014 [08:16<07:16,  1.11it/s]"
     ]
    },
    {
     "name": "stdout",
     "output_type": "stream",
     "text": [
      "ICP converged. Fitness score: 2.88\n",
      "Frame : 531\n",
      "Error--------: 99.65718300958012\n",
      "Latent error above the threshold of 1.2\n",
      "Found 16157 lines. Skipped 11. Loaded 16146 points.\n"
     ]
    },
    {
     "name": "stderr",
     "output_type": "stream",
     "text": [
      " 53%|█████▎    | 533/1014 [08:16<06:10,  1.30it/s]"
     ]
    },
    {
     "name": "stdout",
     "output_type": "stream",
     "text": [
      "ICP converged. Fitness score: 3.50\n",
      "Frame : 532\n",
      "Error--------: 99.82510114547244\n",
      "Latent error above the threshold of 1.2\n",
      "Found 13084 lines. Skipped 11. Loaded 13073 points.\n"
     ]
    },
    {
     "name": "stderr",
     "output_type": "stream",
     "text": [
      " 53%|█████▎    | 534/1014 [08:17<06:06,  1.31it/s]"
     ]
    },
    {
     "name": "stdout",
     "output_type": "stream",
     "text": [
      "ICP converged. Fitness score: 2.83\n",
      "Frame : 533\n",
      "Error--------: 100.04747166560627\n",
      "Latent error above the threshold of 1.2\n",
      "Found 12617 lines. Skipped 11. Loaded 12606 points.\n"
     ]
    },
    {
     "name": "stderr",
     "output_type": "stream",
     "text": [
      " 53%|█████▎    | 535/1014 [08:17<05:48,  1.37it/s]"
     ]
    },
    {
     "name": "stdout",
     "output_type": "stream",
     "text": [
      "ICP converged. Fitness score: 3.59\n",
      "Frame : 534\n",
      "Error--------: 100.19476672998317\n",
      "Latent error above the threshold of 1.2\n",
      "Found 15589 lines. Skipped 11. Loaded 15578 points.\n"
     ]
    },
    {
     "name": "stderr",
     "output_type": "stream",
     "text": [
      " 53%|█████▎    | 536/1014 [08:18<06:03,  1.32it/s]"
     ]
    },
    {
     "name": "stdout",
     "output_type": "stream",
     "text": [
      "ICP converged. Fitness score: 3.14\n",
      "Frame : 535\n",
      "Error--------: 100.36136002763709\n",
      "Latent error above the threshold of 1.2\n",
      "Found 13804 lines. Skipped 11. Loaded 13793 points.\n"
     ]
    },
    {
     "name": "stderr",
     "output_type": "stream",
     "text": [
      " 53%|█████▎    | 537/1014 [08:19<05:51,  1.36it/s]"
     ]
    },
    {
     "name": "stdout",
     "output_type": "stream",
     "text": [
      "ICP converged. Fitness score: 3.88\n",
      "Frame : 536\n",
      "Error--------: 100.671886924415\n",
      "Latent error above the threshold of 1.2\n",
      "Found 12378 lines. Skipped 11. Loaded 12367 points.\n"
     ]
    },
    {
     "name": "stderr",
     "output_type": "stream",
     "text": [
      " 53%|█████▎    | 538/1014 [08:20<06:02,  1.31it/s]"
     ]
    },
    {
     "name": "stdout",
     "output_type": "stream",
     "text": [
      "ICP converged. Fitness score: 2.27\n",
      "Frame : 537\n",
      "Error--------: 100.8132583954695\n",
      "Latent error above the threshold of 1.2\n",
      "Found 12836 lines. Skipped 11. Loaded 12825 points.\n"
     ]
    },
    {
     "name": "stderr",
     "output_type": "stream",
     "text": [
      " 53%|█████▎    | 539/1014 [08:21<06:26,  1.23it/s]"
     ]
    },
    {
     "name": "stdout",
     "output_type": "stream",
     "text": [
      "ICP converged. Fitness score: 4.29\n",
      "Frame : 538\n",
      "Error--------: 100.96379138954822\n",
      "Latent error above the threshold of 1.2\n",
      "Found 16866 lines. Skipped 11. Loaded 16855 points.\n"
     ]
    },
    {
     "name": "stderr",
     "output_type": "stream",
     "text": [
      " 53%|█████▎    | 540/1014 [08:22<06:54,  1.14it/s]"
     ]
    },
    {
     "name": "stdout",
     "output_type": "stream",
     "text": [
      "ICP converged. Fitness score: 3.04\n",
      "Frame : 539\n",
      "Error--------: 101.20838166118294\n",
      "Latent error above the threshold of 1.2\n",
      "Found 14674 lines. Skipped 11. Loaded 14663 points.\n"
     ]
    },
    {
     "name": "stderr",
     "output_type": "stream",
     "text": [
      " 53%|█████▎    | 541/1014 [08:23<06:56,  1.14it/s]"
     ]
    },
    {
     "name": "stdout",
     "output_type": "stream",
     "text": [
      "ICP converged. Fitness score: 4.34\n",
      "Frame : 540\n",
      "Error--------: 101.38547552952119\n",
      "Latent error above the threshold of 1.2\n",
      "Found 14811 lines. Skipped 11. Loaded 14800 points.\n"
     ]
    },
    {
     "name": "stderr",
     "output_type": "stream",
     "text": [
      " 53%|█████▎    | 542/1014 [08:24<07:11,  1.09it/s]"
     ]
    },
    {
     "name": "stdout",
     "output_type": "stream",
     "text": [
      "ICP converged. Fitness score: 2.80\n",
      "Frame : 541\n",
      "Error--------: 101.5908469395703\n",
      "Latent error above the threshold of 1.2\n",
      "Found 17456 lines. Skipped 11. Loaded 17445 points.\n"
     ]
    },
    {
     "name": "stderr",
     "output_type": "stream",
     "text": [
      " 54%|█████▎    | 543/1014 [08:25<07:23,  1.06it/s]"
     ]
    },
    {
     "name": "stdout",
     "output_type": "stream",
     "text": [
      "ICP converged. Fitness score: 4.39\n",
      "Frame : 542\n",
      "Error--------: 101.77895421656677\n",
      "Latent error above the threshold of 1.2\n",
      "Found 15780 lines. Skipped 11. Loaded 15769 points.\n"
     ]
    },
    {
     "name": "stderr",
     "output_type": "stream",
     "text": [
      " 54%|█████▎    | 544/1014 [08:26<07:23,  1.06it/s]"
     ]
    },
    {
     "name": "stdout",
     "output_type": "stream",
     "text": [
      "ICP converged. Fitness score: 2.88\n",
      "Frame : 543\n",
      "Error--------: 101.98646431156772\n",
      "Latent error above the threshold of 1.2\n",
      "Found 11743 lines. Skipped 11. Loaded 11732 points.\n"
     ]
    },
    {
     "name": "stderr",
     "output_type": "stream",
     "text": [
      " 54%|█████▎    | 545/1014 [08:26<07:08,  1.09it/s]"
     ]
    },
    {
     "name": "stdout",
     "output_type": "stream",
     "text": [
      "ICP converged. Fitness score: 3.77\n",
      "Frame : 544\n",
      "Error--------: 102.16706915173523\n",
      "Latent error above the threshold of 1.2\n",
      "Found 16169 lines. Skipped 11. Loaded 16158 points.\n"
     ]
    },
    {
     "name": "stderr",
     "output_type": "stream",
     "text": [
      " 54%|█████▍    | 546/1014 [08:27<07:15,  1.07it/s]"
     ]
    },
    {
     "name": "stdout",
     "output_type": "stream",
     "text": [
      "ICP converged. Fitness score: 2.64\n",
      "Frame : 545\n",
      "Error--------: 102.39355775203883\n",
      "Latent error above the threshold of 1.2\n",
      "Found 13659 lines. Skipped 11. Loaded 13648 points.\n"
     ]
    },
    {
     "name": "stderr",
     "output_type": "stream",
     "text": [
      " 54%|█████▍    | 547/1014 [08:28<07:00,  1.11it/s]"
     ]
    },
    {
     "name": "stdout",
     "output_type": "stream",
     "text": [
      "ICP converged. Fitness score: 3.60\n",
      "Frame : 546\n",
      "Error--------: 102.60951709124981\n",
      "Latent error above the threshold of 1.2\n",
      "Found 16527 lines. Skipped 11. Loaded 16516 points.\n"
     ]
    },
    {
     "name": "stderr",
     "output_type": "stream",
     "text": [
      " 54%|█████▍    | 548/1014 [08:29<07:19,  1.06it/s]"
     ]
    },
    {
     "name": "stdout",
     "output_type": "stream",
     "text": [
      "ICP converged. Fitness score: 2.75\n",
      "Frame : 547\n",
      "Error--------: 102.76623480616777\n",
      "Latent error above the threshold of 1.2\n",
      "Found 12246 lines. Skipped 11. Loaded 12235 points.\n"
     ]
    },
    {
     "name": "stderr",
     "output_type": "stream",
     "text": [
      " 54%|█████▍    | 549/1014 [08:30<06:46,  1.14it/s]"
     ]
    },
    {
     "name": "stdout",
     "output_type": "stream",
     "text": [
      "ICP converged. Fitness score: 2.33\n",
      "Frame : 548\n",
      "Error--------: 103.00012500374719\n",
      "Latent error above the threshold of 1.2\n",
      "Found 21001 lines. Skipped 11. Loaded 20990 points.\n"
     ]
    },
    {
     "name": "stderr",
     "output_type": "stream",
     "text": [
      " 54%|█████▍    | 550/1014 [08:31<06:58,  1.11it/s]"
     ]
    },
    {
     "name": "stdout",
     "output_type": "stream",
     "text": [
      "ICP converged. Fitness score: 2.97\n",
      "Frame : 549\n",
      "Error--------: 103.20184471341716\n",
      "Latent error above the threshold of 1.2\n",
      "Found 15469 lines. Skipped 11. Loaded 15458 points.\n"
     ]
    },
    {
     "name": "stderr",
     "output_type": "stream",
     "text": [
      " 54%|█████▍    | 551/1014 [08:32<07:05,  1.09it/s]"
     ]
    },
    {
     "name": "stdout",
     "output_type": "stream",
     "text": [
      "ICP converged. Fitness score: 2.98\n",
      "Frame : 550\n",
      "Error--------: 103.14293283707298\n",
      "Latent error above the threshold of 1.2\n",
      "Found 13514 lines. Skipped 11. Loaded 13503 points.\n"
     ]
    },
    {
     "name": "stderr",
     "output_type": "stream",
     "text": [
      " 54%|█████▍    | 552/1014 [08:33<07:05,  1.08it/s]"
     ]
    },
    {
     "name": "stdout",
     "output_type": "stream",
     "text": [
      "ICP converged. Fitness score: 2.94\n",
      "Frame : 551\n",
      "Error--------: 103.42604448177221\n",
      "Latent error above the threshold of 1.2\n",
      "Found 15392 lines. Skipped 11. Loaded 15381 points.\n"
     ]
    },
    {
     "name": "stderr",
     "output_type": "stream",
     "text": [
      " 55%|█████▍    | 553/1014 [08:34<06:55,  1.11it/s]"
     ]
    },
    {
     "name": "stdout",
     "output_type": "stream",
     "text": [
      "ICP converged. Fitness score: 2.45\n",
      "Frame : 552\n",
      "Error--------: 103.6666339126272\n",
      "Latent error above the threshold of 1.2\n",
      "Found 13109 lines. Skipped 11. Loaded 13098 points.\n"
     ]
    },
    {
     "name": "stderr",
     "output_type": "stream",
     "text": [
      " 55%|█████▍    | 554/1014 [08:35<06:54,  1.11it/s]"
     ]
    },
    {
     "name": "stdout",
     "output_type": "stream",
     "text": [
      "ICP converged. Fitness score: 2.65\n",
      "Frame : 553\n",
      "Error--------: 103.90378655212508\n",
      "Latent error above the threshold of 1.2\n",
      "Found 12938 lines. Skipped 11. Loaded 12927 points.\n"
     ]
    },
    {
     "name": "stderr",
     "output_type": "stream",
     "text": [
      " 55%|█████▍    | 555/1014 [08:35<06:44,  1.13it/s]"
     ]
    },
    {
     "name": "stdout",
     "output_type": "stream",
     "text": [
      "ICP converged. Fitness score: 2.29\n",
      "Frame : 554\n",
      "Error--------: 104.16302113773645\n",
      "Latent error above the threshold of 1.2\n",
      "Found 16358 lines. Skipped 11. Loaded 16347 points.\n"
     ]
    },
    {
     "name": "stderr",
     "output_type": "stream",
     "text": [
      " 55%|█████▍    | 556/1014 [08:36<06:51,  1.11it/s]"
     ]
    },
    {
     "name": "stdout",
     "output_type": "stream",
     "text": [
      "ICP converged. Fitness score: 2.67\n",
      "Frame : 555\n",
      "Error--------: 104.32344829778367\n",
      "Latent error above the threshold of 1.2\n",
      "Found 13181 lines. Skipped 11. Loaded 13170 points.\n"
     ]
    },
    {
     "name": "stderr",
     "output_type": "stream",
     "text": [
      " 55%|█████▍    | 557/1014 [08:37<06:06,  1.25it/s]"
     ]
    },
    {
     "name": "stdout",
     "output_type": "stream",
     "text": [
      "ICP converged. Fitness score: 2.00\n",
      "Frame : 556\n",
      "Error--------: 104.75057070157108\n",
      "Latent error above the threshold of 1.2\n",
      "Found 16839 lines. Skipped 11. Loaded 16828 points.\n"
     ]
    },
    {
     "name": "stderr",
     "output_type": "stream",
     "text": [
      " 55%|█████▌    | 558/1014 [08:38<06:32,  1.16it/s]"
     ]
    },
    {
     "name": "stdout",
     "output_type": "stream",
     "text": [
      "ICP converged. Fitness score: 2.46\n",
      "Frame : 557\n",
      "Error--------: 104.90944680322811\n",
      "Latent error above the threshold of 1.2\n",
      "Found 16403 lines. Skipped 11. Loaded 16392 points.\n"
     ]
    },
    {
     "name": "stderr",
     "output_type": "stream",
     "text": [
      " 55%|█████▌    | 559/1014 [08:39<06:49,  1.11it/s]"
     ]
    },
    {
     "name": "stdout",
     "output_type": "stream",
     "text": [
      "ICP converged. Fitness score: 2.05\n",
      "Frame : 558\n",
      "Error--------: 105.20293416165367\n",
      "Latent error above the threshold of 1.2\n",
      "Found 13994 lines. Skipped 11. Loaded 13983 points.\n"
     ]
    },
    {
     "name": "stderr",
     "output_type": "stream",
     "text": [
      " 55%|█████▌    | 560/1014 [08:40<07:08,  1.06it/s]"
     ]
    },
    {
     "name": "stdout",
     "output_type": "stream",
     "text": [
      "ICP converged. Fitness score: 2.49\n",
      "Frame : 559\n",
      "Error--------: 105.35747088942448\n",
      "Latent error above the threshold of 1.2\n",
      "Found 13322 lines. Skipped 11. Loaded 13311 points.\n"
     ]
    },
    {
     "name": "stderr",
     "output_type": "stream",
     "text": [
      " 55%|█████▌    | 561/1014 [08:41<06:52,  1.10it/s]"
     ]
    },
    {
     "name": "stdout",
     "output_type": "stream",
     "text": [
      "ICP converged. Fitness score: 2.58\n",
      "Frame : 560\n",
      "Error--------: 105.55600612744442\n",
      "Latent error above the threshold of 1.2\n",
      "Found 13689 lines. Skipped 11. Loaded 13678 points.\n"
     ]
    },
    {
     "name": "stderr",
     "output_type": "stream",
     "text": [
      " 55%|█████▌    | 562/1014 [08:42<06:42,  1.12it/s]"
     ]
    },
    {
     "name": "stdout",
     "output_type": "stream",
     "text": [
      "ICP converged. Fitness score: 1.96\n",
      "Frame : 561\n",
      "Error--------: 105.88019483136165\n",
      "Latent error above the threshold of 1.2\n",
      "Found 13969 lines. Skipped 11. Loaded 13958 points.\n"
     ]
    },
    {
     "name": "stderr",
     "output_type": "stream",
     "text": [
      " 56%|█████▌    | 563/1014 [08:45<11:20,  1.51s/it]"
     ]
    },
    {
     "name": "stdout",
     "output_type": "stream",
     "text": [
      "ICP converged. Fitness score: 2.49\n",
      "Frame : 562\n",
      "Error--------: 106.02926395262027\n",
      "Latent error above the threshold of 1.2\n",
      "Found 14006 lines. Skipped 11. Loaded 13995 points.\n"
     ]
    },
    {
     "name": "stderr",
     "output_type": "stream",
     "text": [
      " 56%|█████▌    | 564/1014 [08:45<09:58,  1.33s/it]"
     ]
    },
    {
     "name": "stdout",
     "output_type": "stream",
     "text": [
      "ICP converged. Fitness score: 2.06\n",
      "Frame : 563\n",
      "Error--------: 106.25986824615599\n",
      "Latent error above the threshold of 1.2\n",
      "Found 15614 lines. Skipped 11. Loaded 15603 points.\n"
     ]
    },
    {
     "name": "stderr",
     "output_type": "stream",
     "text": [
      " 56%|█████▌    | 565/1014 [08:48<13:02,  1.74s/it]"
     ]
    },
    {
     "name": "stdout",
     "output_type": "stream",
     "text": [
      "ICP converged. Fitness score: 2.88\n",
      "Frame : 564\n",
      "Error--------: 106.46537188136821\n",
      "Latent error above the threshold of 1.2\n",
      "Found 15928 lines. Skipped 11. Loaded 15917 points.\n"
     ]
    },
    {
     "name": "stderr",
     "output_type": "stream",
     "text": [
      " 56%|█████▌    | 566/1014 [08:51<14:31,  1.94s/it]"
     ]
    },
    {
     "name": "stdout",
     "output_type": "stream",
     "text": [
      "ICP converged. Fitness score: 1.96\n",
      "Frame : 565\n",
      "Error--------: 106.71027931534547\n",
      "Latent error above the threshold of 1.2\n",
      "Found 13903 lines. Skipped 11. Loaded 13892 points.\n"
     ]
    },
    {
     "name": "stderr",
     "output_type": "stream",
     "text": [
      " 56%|█████▌    | 567/1014 [08:51<12:06,  1.62s/it]"
     ]
    },
    {
     "name": "stdout",
     "output_type": "stream",
     "text": [
      "ICP converged. Fitness score: 2.80\n",
      "Frame : 566\n",
      "Error--------: 106.81640710506221\n",
      "Latent error above the threshold of 1.2\n",
      "Found 13903 lines. Skipped 11. Loaded 13892 points.\n"
     ]
    },
    {
     "name": "stderr",
     "output_type": "stream",
     "text": [
      " 56%|█████▌    | 568/1014 [08:52<09:38,  1.30s/it]"
     ]
    },
    {
     "name": "stdout",
     "output_type": "stream",
     "text": [
      "ICP converged. Fitness score: 2.00\n",
      "Frame : 567\n",
      "Error--------: 107.05713364673018\n",
      "Latent error above the threshold of 1.2\n",
      "Found 14082 lines. Skipped 11. Loaded 14071 points.\n"
     ]
    },
    {
     "name": "stderr",
     "output_type": "stream",
     "text": [
      " 56%|█████▌    | 569/1014 [08:53<08:44,  1.18s/it]"
     ]
    },
    {
     "name": "stdout",
     "output_type": "stream",
     "text": [
      "ICP converged. Fitness score: 3.24\n",
      "Frame : 568\n",
      "Error--------: 107.22666333349352\n",
      "Latent error above the threshold of 1.2\n",
      "Found 15607 lines. Skipped 11. Loaded 15596 points.\n"
     ]
    },
    {
     "name": "stderr",
     "output_type": "stream",
     "text": [
      " 56%|█████▌    | 570/1014 [08:54<07:38,  1.03s/it]"
     ]
    },
    {
     "name": "stdout",
     "output_type": "stream",
     "text": [
      "ICP converged. Fitness score: 2.37\n",
      "Frame : 569\n",
      "Error--------: 107.43197425667982\n",
      "Latent error above the threshold of 1.2\n",
      "Found 12421 lines. Skipped 11. Loaded 12410 points.\n"
     ]
    },
    {
     "name": "stderr",
     "output_type": "stream",
     "text": [
      " 56%|█████▋    | 571/1014 [08:56<09:57,  1.35s/it]"
     ]
    },
    {
     "name": "stdout",
     "output_type": "stream",
     "text": [
      "ICP converged. Fitness score: 0.79\n",
      "Frame : 570\n",
      "Error--------: 107.67077153741936\n",
      "Latent error above the threshold of 1.2\n",
      "Found 17100 lines. Skipped 11. Loaded 17089 points.\n"
     ]
    },
    {
     "name": "stderr",
     "output_type": "stream",
     "text": [
      " 56%|█████▋    | 572/1014 [08:57<09:23,  1.27s/it]"
     ]
    },
    {
     "name": "stdout",
     "output_type": "stream",
     "text": [
      "ICP converged. Fitness score: 2.65\n",
      "Frame : 571\n",
      "Error--------: 107.85638650484803\n",
      "Latent error above the threshold of 1.2\n",
      "Found 14819 lines. Skipped 11. Loaded 14808 points.\n"
     ]
    },
    {
     "name": "stderr",
     "output_type": "stream",
     "text": [
      " 57%|█████▋    | 573/1014 [08:58<08:43,  1.19s/it]"
     ]
    },
    {
     "name": "stdout",
     "output_type": "stream",
     "text": [
      "ICP converged. Fitness score: 3.78\n",
      "Frame : 572\n",
      "Error--------: 108.08134550877135\n",
      "Latent error above the threshold of 1.2\n",
      "Found 15930 lines. Skipped 11. Loaded 15919 points.\n"
     ]
    },
    {
     "name": "stderr",
     "output_type": "stream",
     "text": [
      " 57%|█████▋    | 574/1014 [08:58<07:28,  1.02s/it]"
     ]
    },
    {
     "name": "stdout",
     "output_type": "stream",
     "text": [
      "ICP converged. Fitness score: 2.41\n",
      "Frame : 573\n",
      "Error--------: 108.23019002552604\n",
      "Latent error above the threshold of 1.2\n",
      "Found 15587 lines. Skipped 11. Loaded 15576 points.\n"
     ]
    },
    {
     "name": "stderr",
     "output_type": "stream",
     "text": [
      " 57%|█████▋    | 575/1014 [08:59<07:17,  1.00it/s]"
     ]
    },
    {
     "name": "stdout",
     "output_type": "stream",
     "text": [
      "ICP converged. Fitness score: 3.95\n",
      "Frame : 574\n",
      "Error--------: 108.40122917201526\n",
      "Latent error above the threshold of 1.2\n",
      "Found 15587 lines. Skipped 11. Loaded 15576 points.\n"
     ]
    },
    {
     "name": "stderr",
     "output_type": "stream",
     "text": [
      " 57%|█████▋    | 576/1014 [09:00<07:05,  1.03it/s]"
     ]
    },
    {
     "name": "stdout",
     "output_type": "stream",
     "text": [
      "ICP converged. Fitness score: 2.60\n",
      "Frame : 575\n",
      "Error--------: 108.63907468658826\n",
      "Latent error above the threshold of 1.2\n",
      "Found 15255 lines. Skipped 11. Loaded 15244 points.\n"
     ]
    },
    {
     "name": "stderr",
     "output_type": "stream",
     "text": [
      " 57%|█████▋    | 578/1014 [09:04<09:01,  1.24s/it]"
     ]
    },
    {
     "name": "stdout",
     "output_type": "stream",
     "text": [
      "ICP converged. Fitness score: 3.84\n",
      "Frame : 576\n",
      "Error--------: 108.78505232403727\n",
      "Latent error above the threshold of 1.2\n",
      "Found 11747 lines. Skipped 11. Loaded 11736 points.\n",
      "ICP converged. Fitness score: 2.68\n",
      "Frame : 577\n",
      "Error--------: 109.05779822447131\n",
      "Latent error above the threshold of 1.2\n",
      "Found 15519 lines. Skipped 11. Loaded 15508 points.\n"
     ]
    },
    {
     "name": "stderr",
     "output_type": "stream",
     "text": [
      " 57%|█████▋    | 579/1014 [09:05<08:27,  1.17s/it]"
     ]
    },
    {
     "name": "stdout",
     "output_type": "stream",
     "text": [
      "ICP converged. Fitness score: 3.89\n",
      "Frame : 578\n",
      "Error--------: 109.22618980281422\n",
      "Latent error above the threshold of 1.2\n",
      "Found 16856 lines. Skipped 11. Loaded 16845 points.\n"
     ]
    },
    {
     "name": "stderr",
     "output_type": "stream",
     "text": [
      " 57%|█████▋    | 580/1014 [09:05<07:48,  1.08s/it]"
     ]
    },
    {
     "name": "stdout",
     "output_type": "stream",
     "text": [
      "ICP converged. Fitness score: 2.80\n",
      "Frame : 579\n",
      "Error--------: 109.46567107068317\n",
      "Latent error above the threshold of 1.2\n",
      "Found 13121 lines. Skipped 11. Loaded 13110 points.\n"
     ]
    },
    {
     "name": "stderr",
     "output_type": "stream",
     "text": [
      " 57%|█████▋    | 581/1014 [09:06<07:25,  1.03s/it]"
     ]
    },
    {
     "name": "stdout",
     "output_type": "stream",
     "text": [
      "ICP converged. Fitness score: 3.72\n",
      "Frame : 580\n",
      "Error--------: 109.6064008789569\n",
      "Latent error above the threshold of 1.2\n",
      "Found 13971 lines. Skipped 11. Loaded 13960 points.\n"
     ]
    },
    {
     "name": "stderr",
     "output_type": "stream",
     "text": [
      " 57%|█████▋    | 582/1014 [09:08<07:52,  1.09s/it]"
     ]
    },
    {
     "name": "stdout",
     "output_type": "stream",
     "text": [
      "ICP converged. Fitness score: 2.64\n",
      "Frame : 581\n",
      "Error--------: 109.72231969978479\n",
      "Latent error above the threshold of 1.2\n",
      "Found 17100 lines. Skipped 11. Loaded 17089 points.\n"
     ]
    },
    {
     "name": "stderr",
     "output_type": "stream",
     "text": [
      " 57%|█████▋    | 583/1014 [09:09<07:29,  1.04s/it]"
     ]
    },
    {
     "name": "stdout",
     "output_type": "stream",
     "text": [
      "ICP converged. Fitness score: 2.86\n",
      "Frame : 582\n",
      "Error--------: 110.1260331844136\n",
      "Latent error above the threshold of 1.2\n",
      "Found 13566 lines. Skipped 11. Loaded 13555 points.\n"
     ]
    },
    {
     "name": "stderr",
     "output_type": "stream",
     "text": [
      " 58%|█████▊    | 584/1014 [09:09<07:04,  1.01it/s]"
     ]
    },
    {
     "name": "stdout",
     "output_type": "stream",
     "text": [
      "ICP converged. Fitness score: 3.13\n",
      "Frame : 583\n",
      "Error--------: 110.6310009205925\n",
      "Latent error above the threshold of 1.2\n",
      "Found 14484 lines. Skipped 11. Loaded 14473 points.\n"
     ]
    },
    {
     "name": "stderr",
     "output_type": "stream",
     "text": [
      " 58%|█████▊    | 585/1014 [09:10<06:47,  1.05it/s]"
     ]
    },
    {
     "name": "stdout",
     "output_type": "stream",
     "text": [
      "ICP converged. Fitness score: 3.35\n",
      "Frame : 584\n",
      "Error--------: 110.59236399250369\n",
      "Latent error above the threshold of 1.2\n",
      "Found 16053 lines. Skipped 11. Loaded 16042 points.\n"
     ]
    },
    {
     "name": "stderr",
     "output_type": "stream",
     "text": [
      " 58%|█████▊    | 586/1014 [09:11<06:57,  1.03it/s]"
     ]
    },
    {
     "name": "stdout",
     "output_type": "stream",
     "text": [
      "ICP converged. Fitness score: 3.12\n",
      "Frame : 585\n",
      "Error--------: 110.8509098437639\n",
      "Latent error above the threshold of 1.2\n",
      "Found 15900 lines. Skipped 11. Loaded 15889 points.\n"
     ]
    },
    {
     "name": "stderr",
     "output_type": "stream",
     "text": [
      " 58%|█████▊    | 587/1014 [09:12<06:53,  1.03it/s]"
     ]
    },
    {
     "name": "stdout",
     "output_type": "stream",
     "text": [
      "ICP converged. Fitness score: 3.31\n",
      "Frame : 586\n",
      "Error--------: 111.06471498302612\n",
      "Latent error above the threshold of 1.2\n",
      "Found 13512 lines. Skipped 11. Loaded 13501 points.\n"
     ]
    },
    {
     "name": "stderr",
     "output_type": "stream",
     "text": [
      " 58%|█████▊    | 588/1014 [09:13<06:38,  1.07it/s]"
     ]
    },
    {
     "name": "stdout",
     "output_type": "stream",
     "text": [
      "ICP converged. Fitness score: 3.08\n",
      "Frame : 587\n",
      "Error--------: 111.23916360810541\n",
      "Latent error above the threshold of 1.2\n",
      "Found 16981 lines. Skipped 11. Loaded 16970 points.\n"
     ]
    },
    {
     "name": "stderr",
     "output_type": "stream",
     "text": [
      " 58%|█████▊    | 589/1014 [09:14<06:28,  1.09it/s]"
     ]
    },
    {
     "name": "stdout",
     "output_type": "stream",
     "text": [
      "ICP converged. Fitness score: 3.10\n",
      "Frame : 588\n",
      "Error--------: 111.45978610103488\n",
      "Latent error above the threshold of 1.2\n",
      "Found 13910 lines. Skipped 11. Loaded 13899 points.\n"
     ]
    },
    {
     "name": "stderr",
     "output_type": "stream",
     "text": [
      " 58%|█████▊    | 590/1014 [09:15<06:33,  1.08it/s]"
     ]
    },
    {
     "name": "stdout",
     "output_type": "stream",
     "text": [
      "ICP converged. Fitness score: 3.08\n",
      "Frame : 589\n",
      "Error--------: 111.68097339616612\n",
      "Latent error above the threshold of 1.2\n",
      "Found 13300 lines. Skipped 11. Loaded 13289 points.\n"
     ]
    },
    {
     "name": "stderr",
     "output_type": "stream",
     "text": [
      " 58%|█████▊    | 591/1014 [09:16<06:37,  1.06it/s]"
     ]
    },
    {
     "name": "stdout",
     "output_type": "stream",
     "text": [
      "ICP converged. Fitness score: 3.13\n",
      "Frame : 590\n",
      "Error--------: 111.84391055483165\n",
      "Latent error above the threshold of 1.2\n",
      "Found 14310 lines. Skipped 11. Loaded 14299 points.\n"
     ]
    },
    {
     "name": "stderr",
     "output_type": "stream",
     "text": [
      " 58%|█████▊    | 592/1014 [09:17<06:49,  1.03it/s]"
     ]
    },
    {
     "name": "stdout",
     "output_type": "stream",
     "text": [
      "ICP converged. Fitness score: 3.19\n",
      "Frame : 591\n",
      "Error--------: 112.028438415767\n",
      "Latent error above the threshold of 1.2\n",
      "Found 14317 lines. Skipped 11. Loaded 14306 points.\n"
     ]
    },
    {
     "name": "stderr",
     "output_type": "stream",
     "text": [
      " 58%|█████▊    | 593/1014 [09:18<06:36,  1.06it/s]"
     ]
    },
    {
     "name": "stdout",
     "output_type": "stream",
     "text": [
      "ICP converged. Fitness score: 3.26\n",
      "Frame : 592\n",
      "Error--------: 112.24966904011175\n",
      "Latent error above the threshold of 1.2\n",
      "Found 13282 lines. Skipped 11. Loaded 13271 points.\n"
     ]
    },
    {
     "name": "stderr",
     "output_type": "stream",
     "text": [
      " 59%|█████▊    | 594/1014 [09:18<05:48,  1.21it/s]"
     ]
    },
    {
     "name": "stdout",
     "output_type": "stream",
     "text": [
      "ICP converged. Fitness score: 2.96\n",
      "Frame : 593\n",
      "Error--------: 112.63777000201222\n",
      "Latent error above the threshold of 1.2\n",
      "Found 12946 lines. Skipped 11. Loaded 12935 points.\n"
     ]
    },
    {
     "name": "stderr",
     "output_type": "stream",
     "text": [
      " 59%|█████▊    | 595/1014 [09:19<06:02,  1.15it/s]"
     ]
    },
    {
     "name": "stdout",
     "output_type": "stream",
     "text": [
      "ICP converged. Fitness score: 3.94\n",
      "Frame : 594\n",
      "Error--------: 112.78312771340215\n",
      "Latent error above the threshold of 1.2\n",
      "Found 17606 lines. Skipped 11. Loaded 17595 points.\n"
     ]
    },
    {
     "name": "stderr",
     "output_type": "stream",
     "text": [
      " 59%|█████▉    | 596/1014 [09:20<05:51,  1.19it/s]"
     ]
    },
    {
     "name": "stdout",
     "output_type": "stream",
     "text": [
      "ICP converged. Fitness score: 2.75\n",
      "Frame : 595\n",
      "Error--------: 112.99550406593056\n",
      "Latent error above the threshold of 1.2\n",
      "Found 17178 lines. Skipped 11. Loaded 17167 points.\n"
     ]
    },
    {
     "name": "stderr",
     "output_type": "stream",
     "text": [
      " 59%|█████▉    | 597/1014 [09:21<06:10,  1.12it/s]"
     ]
    },
    {
     "name": "stdout",
     "output_type": "stream",
     "text": [
      "ICP converged. Fitness score: 4.05\n",
      "Frame : 596\n",
      "Error--------: 113.19767431729525\n",
      "Latent error above the threshold of 1.2\n",
      "Found 15128 lines. Skipped 11. Loaded 15117 points.\n"
     ]
    },
    {
     "name": "stderr",
     "output_type": "stream",
     "text": [
      " 59%|█████▉    | 598/1014 [09:24<11:13,  1.62s/it]"
     ]
    },
    {
     "name": "stdout",
     "output_type": "stream",
     "text": [
      "ICP converged. Fitness score: 2.70\n",
      "Frame : 597\n",
      "Error--------: 113.48775516283673\n",
      "Latent error above the threshold of 1.2\n",
      "Found 15128 lines. Skipped 11. Loaded 15117 points.\n"
     ]
    },
    {
     "name": "stderr",
     "output_type": "stream",
     "text": [
      " 59%|█████▉    | 599/1014 [09:25<09:47,  1.42s/it]"
     ]
    },
    {
     "name": "stdout",
     "output_type": "stream",
     "text": [
      "ICP converged. Fitness score: 3.76\n",
      "Frame : 598\n",
      "Error--------: 113.73709751401745\n",
      "Latent error above the threshold of 1.2\n",
      "Found 14075 lines. Skipped 11. Loaded 14064 points.\n"
     ]
    },
    {
     "name": "stderr",
     "output_type": "stream",
     "text": [
      " 59%|█████▉    | 600/1014 [09:26<08:28,  1.23s/it]"
     ]
    },
    {
     "name": "stdout",
     "output_type": "stream",
     "text": [
      "ICP converged. Fitness score: 2.82\n",
      "Frame : 599\n",
      "Error--------: 113.9508945068492\n",
      "Latent error above the threshold of 1.2\n",
      "Found 14805 lines. Skipped 11. Loaded 14794 points.\n"
     ]
    },
    {
     "name": "stderr",
     "output_type": "stream",
     "text": [
      " 59%|█████▉    | 601/1014 [09:27<08:09,  1.18s/it]"
     ]
    },
    {
     "name": "stdout",
     "output_type": "stream",
     "text": [
      "ICP converged. Fitness score: 4.13\n",
      "Frame : 600\n",
      "Error--------: 114.25357862475643\n",
      "Latent error above the threshold of 1.2\n",
      "Found 15746 lines. Skipped 11. Loaded 15735 points.\n"
     ]
    },
    {
     "name": "stderr",
     "output_type": "stream",
     "text": [
      " 59%|█████▉    | 602/1014 [09:28<07:25,  1.08s/it]"
     ]
    },
    {
     "name": "stdout",
     "output_type": "stream",
     "text": [
      "ICP converged. Fitness score: 2.87\n",
      "Frame : 601\n",
      "Error--------: 114.3901580632572\n",
      "Latent error above the threshold of 1.2\n",
      "Found 12227 lines. Skipped 11. Loaded 12216 points.\n"
     ]
    },
    {
     "name": "stderr",
     "output_type": "stream",
     "text": [
      " 59%|█████▉    | 603/1014 [09:29<06:51,  1.00s/it]"
     ]
    },
    {
     "name": "stdout",
     "output_type": "stream",
     "text": [
      "ICP converged. Fitness score: 3.95\n",
      "Frame : 602\n",
      "Error--------: 114.66868877969696\n",
      "Latent error above the threshold of 1.2\n",
      "Found 14536 lines. Skipped 11. Loaded 14525 points.\n"
     ]
    },
    {
     "name": "stderr",
     "output_type": "stream",
     "text": [
      " 60%|█████▉    | 604/1014 [09:30<06:35,  1.04it/s]"
     ]
    },
    {
     "name": "stdout",
     "output_type": "stream",
     "text": [
      "ICP converged. Fitness score: 2.91\n",
      "Frame : 603\n",
      "Error--------: 114.8168305222037\n",
      "Latent error above the threshold of 1.2\n",
      "Found 12678 lines. Skipped 11. Loaded 12667 points.\n"
     ]
    },
    {
     "name": "stderr",
     "output_type": "stream",
     "text": [
      " 60%|█████▉    | 605/1014 [09:32<08:23,  1.23s/it]"
     ]
    },
    {
     "name": "stdout",
     "output_type": "stream",
     "text": [
      "ICP converged. Fitness score: 2.92\n",
      "Frame : 604\n",
      "Error--------: 115.24130729723392\n",
      "Latent error above the threshold of 1.2\n",
      "Found 17113 lines. Skipped 11. Loaded 17102 points.\n"
     ]
    },
    {
     "name": "stderr",
     "output_type": "stream",
     "text": [
      " 60%|█████▉    | 606/1014 [09:33<07:52,  1.16s/it]"
     ]
    },
    {
     "name": "stdout",
     "output_type": "stream",
     "text": [
      "ICP converged. Fitness score: 3.54\n",
      "Frame : 605\n",
      "Error--------: 115.5231823385221\n",
      "Latent error above the threshold of 1.2\n",
      "Found 14905 lines. Skipped 11. Loaded 14894 points.\n"
     ]
    },
    {
     "name": "stderr",
     "output_type": "stream",
     "text": [
      " 60%|█████▉    | 607/1014 [09:34<07:24,  1.09s/it]"
     ]
    },
    {
     "name": "stdout",
     "output_type": "stream",
     "text": [
      "ICP converged. Fitness score: 3.45\n",
      "Frame : 606\n",
      "Error--------: 115.66838733226957\n",
      "Latent error above the threshold of 1.2\n",
      "Found 12724 lines. Skipped 11. Loaded 12713 points.\n"
     ]
    },
    {
     "name": "stderr",
     "output_type": "stream",
     "text": [
      " 60%|█████▉    | 608/1014 [09:35<07:17,  1.08s/it]"
     ]
    },
    {
     "name": "stdout",
     "output_type": "stream",
     "text": [
      "ICP converged. Fitness score: 3.61\n",
      "Frame : 607\n",
      "Error--------: 115.82508798147343\n",
      "Latent error above the threshold of 1.2\n",
      "Found 14339 lines. Skipped 11. Loaded 14328 points.\n"
     ]
    },
    {
     "name": "stderr",
     "output_type": "stream",
     "text": [
      " 60%|██████    | 609/1014 [09:36<07:01,  1.04s/it]"
     ]
    },
    {
     "name": "stdout",
     "output_type": "stream",
     "text": [
      "ICP converged. Fitness score: 4.07\n",
      "Frame : 608\n",
      "Error--------: 116.07205686467043\n",
      "Latent error above the threshold of 1.2\n",
      "Found 17307 lines. Skipped 11. Loaded 17296 points.\n"
     ]
    },
    {
     "name": "stderr",
     "output_type": "stream",
     "text": [
      " 60%|██████    | 610/1014 [09:37<06:51,  1.02s/it]"
     ]
    },
    {
     "name": "stdout",
     "output_type": "stream",
     "text": [
      "ICP converged. Fitness score: 3.40\n",
      "Frame : 609\n",
      "Error--------: 116.1846348861552\n",
      "Latent error above the threshold of 1.2\n",
      "Found 14326 lines. Skipped 11. Loaded 14315 points.\n"
     ]
    },
    {
     "name": "stderr",
     "output_type": "stream",
     "text": [
      " 60%|██████    | 611/1014 [09:37<06:28,  1.04it/s]"
     ]
    },
    {
     "name": "stdout",
     "output_type": "stream",
     "text": [
      "ICP converged. Fitness score: 3.50\n",
      "Frame : 610\n",
      "Error--------: 116.59375821372666\n",
      "Latent error above the threshold of 1.2\n",
      "Found 16645 lines. Skipped 11. Loaded 16634 points.\n"
     ]
    },
    {
     "name": "stderr",
     "output_type": "stream",
     "text": [
      " 60%|██████    | 612/1014 [09:38<06:33,  1.02it/s]"
     ]
    },
    {
     "name": "stdout",
     "output_type": "stream",
     "text": [
      "ICP converged. Fitness score: 3.55\n",
      "Frame : 611\n",
      "Error--------: 116.79940892000101\n",
      "Latent error above the threshold of 1.2\n",
      "Found 12724 lines. Skipped 11. Loaded 12713 points.\n"
     ]
    },
    {
     "name": "stderr",
     "output_type": "stream",
     "text": [
      " 60%|██████    | 613/1014 [09:39<06:24,  1.04it/s]"
     ]
    },
    {
     "name": "stdout",
     "output_type": "stream",
     "text": [
      "ICP converged. Fitness score: 3.72\n",
      "Frame : 612\n",
      "Error--------: 116.9031293464282\n",
      "Latent error above the threshold of 1.2\n",
      "Found 15710 lines. Skipped 11. Loaded 15699 points.\n"
     ]
    },
    {
     "name": "stderr",
     "output_type": "stream",
     "text": [
      " 61%|██████    | 614/1014 [09:40<06:22,  1.05it/s]"
     ]
    },
    {
     "name": "stdout",
     "output_type": "stream",
     "text": [
      "ICP converged. Fitness score: 4.15\n",
      "Frame : 613\n",
      "Error--------: 117.20189585809929\n",
      "Latent error above the threshold of 1.2\n",
      "Found 11156 lines. Skipped 11. Loaded 11145 points.\n"
     ]
    },
    {
     "name": "stderr",
     "output_type": "stream",
     "text": [
      " 61%|██████    | 615/1014 [09:41<05:54,  1.13it/s]"
     ]
    },
    {
     "name": "stdout",
     "output_type": "stream",
     "text": [
      "ICP converged. Fitness score: 4.63\n",
      "Frame : 614\n",
      "Error--------: 117.36785706202461\n",
      "Latent error above the threshold of 1.2\n",
      "Found 16006 lines. Skipped 11. Loaded 15995 points.\n"
     ]
    },
    {
     "name": "stderr",
     "output_type": "stream",
     "text": [
      " 61%|██████    | 616/1014 [09:42<06:04,  1.09it/s]"
     ]
    },
    {
     "name": "stdout",
     "output_type": "stream",
     "text": [
      "ICP converged. Fitness score: 3.15\n",
      "Frame : 615\n",
      "Error--------: 117.67495601971132\n",
      "Latent error above the threshold of 1.2\n",
      "Found 13920 lines. Skipped 11. Loaded 13909 points.\n"
     ]
    },
    {
     "name": "stderr",
     "output_type": "stream",
     "text": [
      " 61%|██████    | 617/1014 [09:43<06:02,  1.09it/s]"
     ]
    },
    {
     "name": "stdout",
     "output_type": "stream",
     "text": [
      "ICP converged. Fitness score: 4.17\n",
      "Frame : 616\n",
      "Error--------: 117.76714933911865\n",
      "Latent error above the threshold of 1.2\n",
      "Found 13834 lines. Skipped 11. Loaded 13823 points.\n"
     ]
    },
    {
     "name": "stderr",
     "output_type": "stream",
     "text": [
      " 61%|██████    | 618/1014 [09:43<05:25,  1.22it/s]"
     ]
    },
    {
     "name": "stdout",
     "output_type": "stream",
     "text": [
      "ICP converged. Fitness score: 2.97\n",
      "Frame : 617\n",
      "Error--------: 118.0669187596648\n",
      "Latent error above the threshold of 1.2\n",
      "Found 16450 lines. Skipped 11. Loaded 16439 points.\n"
     ]
    },
    {
     "name": "stderr",
     "output_type": "stream",
     "text": [
      " 61%|██████    | 619/1014 [09:44<05:33,  1.18it/s]"
     ]
    },
    {
     "name": "stdout",
     "output_type": "stream",
     "text": [
      "ICP converged. Fitness score: 4.55\n",
      "Frame : 618\n",
      "Error--------: 118.32271936864102\n",
      "Latent error above the threshold of 1.2\n",
      "Found 16201 lines. Skipped 11. Loaded 16190 points.\n"
     ]
    },
    {
     "name": "stderr",
     "output_type": "stream",
     "text": [
      " 61%|██████    | 620/1014 [09:45<06:01,  1.09it/s]"
     ]
    },
    {
     "name": "stdout",
     "output_type": "stream",
     "text": [
      "ICP converged. Fitness score: 3.48\n",
      "Frame : 619\n",
      "Error--------: 118.6387777284719\n",
      "Latent error above the threshold of 1.2\n",
      "Found 15075 lines. Skipped 11. Loaded 15064 points.\n"
     ]
    },
    {
     "name": "stderr",
     "output_type": "stream",
     "text": [
      " 61%|██████    | 621/1014 [09:46<06:06,  1.07it/s]"
     ]
    },
    {
     "name": "stdout",
     "output_type": "stream",
     "text": [
      "ICP converged. Fitness score: 5.10\n",
      "Frame : 620\n",
      "Error--------: 118.75973411079326\n",
      "Latent error above the threshold of 1.2\n",
      "Found 15113 lines. Skipped 11. Loaded 15102 points.\n"
     ]
    },
    {
     "name": "stderr",
     "output_type": "stream",
     "text": [
      " 61%|██████▏   | 622/1014 [09:47<06:15,  1.05it/s]"
     ]
    },
    {
     "name": "stdout",
     "output_type": "stream",
     "text": [
      "ICP converged. Fitness score: 3.20\n",
      "Frame : 621\n",
      "Error--------: 119.01571993356966\n",
      "Latent error above the threshold of 1.2\n",
      "Found 17450 lines. Skipped 11. Loaded 17439 points.\n"
     ]
    },
    {
     "name": "stderr",
     "output_type": "stream",
     "text": [
      " 61%|██████▏   | 623/1014 [09:48<06:16,  1.04it/s]"
     ]
    },
    {
     "name": "stdout",
     "output_type": "stream",
     "text": [
      "ICP converged. Fitness score: 5.14\n",
      "Frame : 622\n",
      "Error--------: 119.22224877236556\n",
      "Latent error above the threshold of 1.2\n",
      "Found 15276 lines. Skipped 11. Loaded 15265 points.\n"
     ]
    },
    {
     "name": "stderr",
     "output_type": "stream",
     "text": [
      " 62%|██████▏   | 624/1014 [09:49<06:08,  1.06it/s]"
     ]
    },
    {
     "name": "stdout",
     "output_type": "stream",
     "text": [
      "ICP converged. Fitness score: 3.17\n",
      "Frame : 623\n",
      "Error--------: 119.3462020671904\n",
      "Latent error above the threshold of 1.2\n",
      "Found 11904 lines. Skipped 11. Loaded 11893 points.\n"
     ]
    },
    {
     "name": "stderr",
     "output_type": "stream",
     "text": [
      " 62%|██████▏   | 625/1014 [09:50<05:56,  1.09it/s]"
     ]
    },
    {
     "name": "stdout",
     "output_type": "stream",
     "text": [
      "ICP converged. Fitness score: 4.49\n",
      "Frame : 624\n",
      "Error--------: 119.6084615363684\n",
      "Latent error above the threshold of 1.2\n",
      "Found 15834 lines. Skipped 11. Loaded 15823 points.\n"
     ]
    },
    {
     "name": "stderr",
     "output_type": "stream",
     "text": [
      " 62%|██████▏   | 626/1014 [09:51<05:41,  1.14it/s]"
     ]
    },
    {
     "name": "stdout",
     "output_type": "stream",
     "text": [
      "ICP converged. Fitness score: 3.19\n",
      "Frame : 625\n",
      "Error--------: 119.7266007059559\n",
      "Latent error above the threshold of 1.2\n",
      "Found 12612 lines. Skipped 11. Loaded 12601 points.\n"
     ]
    },
    {
     "name": "stderr",
     "output_type": "stream",
     "text": [
      " 62%|██████▏   | 627/1014 [09:52<05:39,  1.14it/s]"
     ]
    },
    {
     "name": "stdout",
     "output_type": "stream",
     "text": [
      "ICP converged. Fitness score: 2.98\n",
      "Frame : 626\n",
      "Error--------: 119.91568320677206\n",
      "Latent error above the threshold of 1.2\n",
      "Found 16766 lines. Skipped 11. Loaded 16755 points.\n"
     ]
    },
    {
     "name": "stderr",
     "output_type": "stream",
     "text": [
      " 62%|██████▏   | 628/1014 [09:53<05:45,  1.12it/s]"
     ]
    },
    {
     "name": "stdout",
     "output_type": "stream",
     "text": [
      "ICP converged. Fitness score: 4.05\n",
      "Frame : 627\n",
      "Error--------: 120.1988034372675\n",
      "Latent error above the threshold of 1.2\n",
      "Found 14838 lines. Skipped 11. Loaded 14827 points.\n"
     ]
    },
    {
     "name": "stderr",
     "output_type": "stream",
     "text": [
      " 62%|██████▏   | 629/1014 [09:54<05:46,  1.11it/s]"
     ]
    },
    {
     "name": "stdout",
     "output_type": "stream",
     "text": [
      "ICP converged. Fitness score: 4.94\n",
      "Frame : 628\n",
      "Error--------: 120.33058797147514\n",
      "Latent error above the threshold of 1.2\n",
      "Found 14990 lines. Skipped 11. Loaded 14979 points.\n"
     ]
    },
    {
     "name": "stderr",
     "output_type": "stream",
     "text": [
      " 62%|██████▏   | 630/1014 [09:55<05:52,  1.09it/s]"
     ]
    },
    {
     "name": "stdout",
     "output_type": "stream",
     "text": [
      "ICP converged. Fitness score: 3.61\n",
      "Frame : 629\n",
      "Error--------: 120.40930190548075\n",
      "Latent error above the threshold of 1.2\n",
      "Found 16789 lines. Skipped 11. Loaded 16778 points.\n"
     ]
    },
    {
     "name": "stderr",
     "output_type": "stream",
     "text": [
      " 62%|██████▏   | 631/1014 [09:56<06:03,  1.05it/s]"
     ]
    },
    {
     "name": "stdout",
     "output_type": "stream",
     "text": [
      "ICP converged. Fitness score: 4.59\n",
      "Frame : 630\n",
      "Error--------: 120.65914650886138\n",
      "Latent error above the threshold of 1.2\n",
      "Found 15916 lines. Skipped 11. Loaded 15905 points.\n"
     ]
    },
    {
     "name": "stderr",
     "output_type": "stream",
     "text": [
      " 62%|██████▏   | 632/1014 [09:57<05:54,  1.08it/s]"
     ]
    },
    {
     "name": "stdout",
     "output_type": "stream",
     "text": [
      "ICP converged. Fitness score: 3.58\n",
      "Frame : 631\n",
      "Error--------: 120.83281173791964\n",
      "Latent error above the threshold of 1.2\n",
      "Found 16194 lines. Skipped 11. Loaded 16183 points.\n"
     ]
    },
    {
     "name": "stderr",
     "output_type": "stream",
     "text": [
      " 62%|██████▏   | 633/1014 [09:58<05:59,  1.06it/s]"
     ]
    },
    {
     "name": "stdout",
     "output_type": "stream",
     "text": [
      "ICP converged. Fitness score: 4.53\n",
      "Frame : 632\n",
      "Error--------: 121.1080474585427\n",
      "Latent error above the threshold of 1.2\n",
      "Found 20095 lines. Skipped 11. Loaded 20084 points.\n"
     ]
    },
    {
     "name": "stderr",
     "output_type": "stream",
     "text": [
      " 63%|██████▎   | 634/1014 [09:58<05:57,  1.06it/s]"
     ]
    },
    {
     "name": "stdout",
     "output_type": "stream",
     "text": [
      "ICP converged. Fitness score: 3.43\n",
      "Frame : 633\n",
      "Error--------: 121.26321033443308\n",
      "Latent error above the threshold of 1.2\n",
      "Found 14720 lines. Skipped 11. Loaded 14709 points.\n"
     ]
    },
    {
     "name": "stderr",
     "output_type": "stream",
     "text": [
      " 63%|██████▎   | 635/1014 [09:59<05:47,  1.09it/s]"
     ]
    },
    {
     "name": "stdout",
     "output_type": "stream",
     "text": [
      "ICP converged. Fitness score: 3.95\n",
      "Frame : 634\n",
      "Error--------: 121.65546296876889\n",
      "Latent error above the threshold of 1.2\n",
      "Found 17755 lines. Skipped 11. Loaded 17744 points.\n"
     ]
    },
    {
     "name": "stderr",
     "output_type": "stream",
     "text": [
      " 63%|██████▎   | 636/1014 [10:00<05:53,  1.07it/s]"
     ]
    },
    {
     "name": "stdout",
     "output_type": "stream",
     "text": [
      "ICP converged. Fitness score: 3.35\n",
      "Frame : 635\n",
      "Error--------: 121.75009053533077\n",
      "Latent error above the threshold of 1.2\n",
      "Found 15140 lines. Skipped 11. Loaded 15129 points.\n"
     ]
    },
    {
     "name": "stderr",
     "output_type": "stream",
     "text": [
      " 63%|██████▎   | 637/1014 [10:01<05:47,  1.09it/s]"
     ]
    },
    {
     "name": "stdout",
     "output_type": "stream",
     "text": [
      "ICP converged. Fitness score: 3.52\n",
      "Frame : 636\n",
      "Error--------: 122.10227003644704\n",
      "Latent error above the threshold of 1.2\n",
      "Found 13605 lines. Skipped 11. Loaded 13594 points.\n"
     ]
    },
    {
     "name": "stderr",
     "output_type": "stream",
     "text": [
      " 63%|██████▎   | 638/1014 [10:02<05:49,  1.08it/s]"
     ]
    },
    {
     "name": "stdout",
     "output_type": "stream",
     "text": [
      "ICP converged. Fitness score: 3.18\n",
      "Frame : 637\n",
      "Error--------: 122.39491016488284\n",
      "Latent error above the threshold of 1.2\n",
      "Found 15140 lines. Skipped 11. Loaded 15129 points.\n"
     ]
    },
    {
     "name": "stderr",
     "output_type": "stream",
     "text": [
      " 63%|██████▎   | 639/1014 [10:03<05:43,  1.09it/s]"
     ]
    },
    {
     "name": "stdout",
     "output_type": "stream",
     "text": [
      "ICP converged. Fitness score: 3.09\n",
      "Frame : 638\n",
      "Error--------: 122.6694147975795\n",
      "Latent error above the threshold of 1.2\n",
      "Found 13911 lines. Skipped 11. Loaded 13900 points.\n"
     ]
    },
    {
     "name": "stderr",
     "output_type": "stream",
     "text": [
      " 63%|██████▎   | 640/1014 [10:04<05:32,  1.12it/s]"
     ]
    },
    {
     "name": "stdout",
     "output_type": "stream",
     "text": [
      "ICP converged. Fitness score: 2.88\n",
      "Frame : 639\n",
      "Error--------: 122.76493567121634\n",
      "Latent error above the threshold of 1.2\n",
      "Found 13911 lines. Skipped 11. Loaded 13900 points.\n"
     ]
    },
    {
     "name": "stderr",
     "output_type": "stream",
     "text": [
      " 63%|██████▎   | 641/1014 [10:05<05:26,  1.14it/s]"
     ]
    },
    {
     "name": "stdout",
     "output_type": "stream",
     "text": [
      "ICP converged. Fitness score: 2.68\n",
      "Frame : 640\n",
      "Error--------: 122.98184788061769\n",
      "Latent error above the threshold of 1.2\n",
      "Found 19374 lines. Skipped 11. Loaded 19363 points.\n"
     ]
    },
    {
     "name": "stderr",
     "output_type": "stream",
     "text": [
      " 63%|██████▎   | 642/1014 [10:06<05:38,  1.10it/s]"
     ]
    },
    {
     "name": "stdout",
     "output_type": "stream",
     "text": [
      "ICP converged. Fitness score: 3.00\n",
      "Frame : 641\n",
      "Error--------: 123.13897345292911\n",
      "Latent error above the threshold of 1.2\n",
      "Found 16177 lines. Skipped 11. Loaded 16166 points.\n"
     ]
    },
    {
     "name": "stderr",
     "output_type": "stream",
     "text": [
      " 63%|██████▎   | 643/1014 [10:07<05:38,  1.10it/s]"
     ]
    },
    {
     "name": "stdout",
     "output_type": "stream",
     "text": [
      "ICP converged. Fitness score: 2.58\n",
      "Frame : 642\n",
      "Error--------: 123.33215730230543\n",
      "Latent error above the threshold of 1.2\n",
      "Found 12567 lines. Skipped 11. Loaded 12556 points.\n"
     ]
    },
    {
     "name": "stderr",
     "output_type": "stream",
     "text": [
      " 64%|██████▎   | 644/1014 [10:07<05:25,  1.14it/s]"
     ]
    },
    {
     "name": "stdout",
     "output_type": "stream",
     "text": [
      "ICP converged. Fitness score: 2.58\n",
      "Frame : 643\n",
      "Error--------: 123.44637994699313\n",
      "Latent error above the threshold of 1.2\n",
      "Found 15015 lines. Skipped 11. Loaded 15004 points.\n"
     ]
    },
    {
     "name": "stderr",
     "output_type": "stream",
     "text": [
      " 64%|██████▎   | 645/1014 [10:08<05:05,  1.21it/s]"
     ]
    },
    {
     "name": "stdout",
     "output_type": "stream",
     "text": [
      "ICP converged. Fitness score: 2.32\n",
      "Frame : 644\n",
      "Error--------: 123.73352054348146\n",
      "Latent error above the threshold of 1.2\n",
      "Found 16723 lines. Skipped 11. Loaded 16712 points.\n"
     ]
    },
    {
     "name": "stderr",
     "output_type": "stream",
     "text": [
      " 64%|██████▎   | 646/1014 [10:09<05:21,  1.15it/s]"
     ]
    },
    {
     "name": "stdout",
     "output_type": "stream",
     "text": [
      "ICP converged. Fitness score: 2.65\n",
      "Frame : 645\n",
      "Error--------: 123.87997636644228\n",
      "Latent error above the threshold of 1.2\n",
      "Found 15279 lines. Skipped 11. Loaded 15268 points.\n"
     ]
    },
    {
     "name": "stderr",
     "output_type": "stream",
     "text": [
      " 64%|██████▍   | 647/1014 [10:10<04:59,  1.22it/s]"
     ]
    },
    {
     "name": "stdout",
     "output_type": "stream",
     "text": [
      "ICP converged. Fitness score: 2.41\n",
      "Frame : 646\n",
      "Error--------: 124.1938465526611\n",
      "Latent error above the threshold of 1.2\n",
      "Found 15279 lines. Skipped 11. Loaded 15268 points.\n"
     ]
    },
    {
     "name": "stderr",
     "output_type": "stream",
     "text": [
      " 64%|██████▍   | 648/1014 [10:11<05:09,  1.18it/s]"
     ]
    },
    {
     "name": "stdout",
     "output_type": "stream",
     "text": [
      "ICP converged. Fitness score: 2.48\n",
      "Frame : 647\n",
      "Error--------: 124.39964071028062\n",
      "Latent error above the threshold of 1.2\n",
      "Found 9623 lines. Skipped 11. Loaded 9612 points.\n"
     ]
    },
    {
     "name": "stderr",
     "output_type": "stream",
     "text": [
      " 64%|██████▍   | 649/1014 [10:11<05:02,  1.21it/s]"
     ]
    },
    {
     "name": "stdout",
     "output_type": "stream",
     "text": [
      "ICP converged. Fitness score: 2.45\n",
      "Frame : 648\n",
      "Error--------: 124.70764231202547\n",
      "Latent error above the threshold of 1.2\n",
      "Found 13988 lines. Skipped 11. Loaded 13977 points.\n"
     ]
    },
    {
     "name": "stderr",
     "output_type": "stream",
     "text": [
      " 64%|██████▍   | 650/1014 [10:12<05:02,  1.20it/s]"
     ]
    },
    {
     "name": "stdout",
     "output_type": "stream",
     "text": [
      "ICP converged. Fitness score: 2.71\n",
      "Frame : 649\n",
      "Error--------: 124.97272046315257\n",
      "Latent error above the threshold of 1.2\n",
      "Found 13315 lines. Skipped 11. Loaded 13304 points.\n"
     ]
    },
    {
     "name": "stderr",
     "output_type": "stream",
     "text": [
      " 64%|██████▍   | 651/1014 [10:13<05:06,  1.18it/s]"
     ]
    },
    {
     "name": "stdout",
     "output_type": "stream",
     "text": [
      "ICP converged. Fitness score: 3.21\n",
      "Frame : 650\n",
      "Error--------: 125.18431389866677\n",
      "Latent error above the threshold of 1.2\n",
      "Found 16277 lines. Skipped 11. Loaded 16266 points.\n"
     ]
    },
    {
     "name": "stderr",
     "output_type": "stream",
     "text": [
      " 64%|██████▍   | 652/1014 [10:14<05:09,  1.17it/s]"
     ]
    },
    {
     "name": "stdout",
     "output_type": "stream",
     "text": [
      "ICP converged. Fitness score: 2.83\n",
      "Frame : 651\n",
      "Error--------: 125.38038114763904\n",
      "Latent error above the threshold of 1.2\n",
      "Found 13337 lines. Skipped 11. Loaded 13326 points.\n"
     ]
    },
    {
     "name": "stderr",
     "output_type": "stream",
     "text": [
      " 64%|██████▍   | 653/1014 [10:15<05:12,  1.16it/s]"
     ]
    },
    {
     "name": "stdout",
     "output_type": "stream",
     "text": [
      "ICP converged. Fitness score: 3.35\n",
      "Frame : 652\n",
      "Error--------: 125.75720893731082\n",
      "Latent error above the threshold of 1.2\n",
      "Found 14840 lines. Skipped 11. Loaded 14829 points.\n"
     ]
    },
    {
     "name": "stderr",
     "output_type": "stream",
     "text": [
      " 64%|██████▍   | 654/1014 [10:16<05:09,  1.16it/s]"
     ]
    },
    {
     "name": "stdout",
     "output_type": "stream",
     "text": [
      "ICP converged. Fitness score: 3.11\n",
      "Frame : 653\n",
      "Error--------: 125.90211658686474\n",
      "Latent error above the threshold of 1.2\n",
      "Found 16173 lines. Skipped 11. Loaded 16162 points.\n"
     ]
    },
    {
     "name": "stderr",
     "output_type": "stream",
     "text": [
      " 65%|██████▍   | 655/1014 [10:17<05:16,  1.13it/s]"
     ]
    },
    {
     "name": "stdout",
     "output_type": "stream",
     "text": [
      "ICP converged. Fitness score: 3.64\n",
      "Frame : 654\n",
      "Error--------: 126.1914879453055\n",
      "Latent error above the threshold of 1.2\n",
      "Found 18084 lines. Skipped 11. Loaded 18073 points.\n"
     ]
    },
    {
     "name": "stderr",
     "output_type": "stream",
     "text": [
      " 65%|██████▍   | 656/1014 [10:18<05:25,  1.10it/s]"
     ]
    },
    {
     "name": "stdout",
     "output_type": "stream",
     "text": [
      "ICP converged. Fitness score: 3.65\n",
      "Frame : 655\n",
      "Error--------: 126.33969802129097\n",
      "Latent error above the threshold of 1.2\n",
      "Found 12515 lines. Skipped 11. Loaded 12504 points.\n"
     ]
    },
    {
     "name": "stderr",
     "output_type": "stream",
     "text": [
      " 65%|██████▍   | 657/1014 [10:19<05:21,  1.11it/s]"
     ]
    },
    {
     "name": "stdout",
     "output_type": "stream",
     "text": [
      "ICP converged. Fitness score: 3.07\n",
      "Frame : 656\n",
      "Error--------: 126.60832498264652\n",
      "Latent error above the threshold of 1.2\n",
      "Found 13332 lines. Skipped 11. Loaded 13321 points.\n"
     ]
    },
    {
     "name": "stderr",
     "output_type": "stream",
     "text": [
      " 65%|██████▍   | 658/1014 [10:19<05:15,  1.13it/s]"
     ]
    },
    {
     "name": "stdout",
     "output_type": "stream",
     "text": [
      "ICP converged. Fitness score: 3.38\n",
      "Frame : 657\n",
      "Error--------: 126.75452346584908\n",
      "Latent error above the threshold of 1.2\n",
      "Found 15510 lines. Skipped 11. Loaded 15499 points.\n"
     ]
    },
    {
     "name": "stderr",
     "output_type": "stream",
     "text": [
      " 65%|██████▍   | 659/1014 [10:20<05:13,  1.13it/s]"
     ]
    },
    {
     "name": "stdout",
     "output_type": "stream",
     "text": [
      "ICP converged. Fitness score: 3.94\n",
      "Frame : 658\n",
      "Error--------: 126.94187663851686\n",
      "Latent error above the threshold of 1.2\n",
      "Found 13432 lines. Skipped 11. Loaded 13421 points.\n"
     ]
    },
    {
     "name": "stderr",
     "output_type": "stream",
     "text": [
      " 65%|██████▌   | 660/1014 [10:21<05:11,  1.14it/s]"
     ]
    },
    {
     "name": "stdout",
     "output_type": "stream",
     "text": [
      "ICP converged. Fitness score: 2.33\n",
      "Frame : 659\n",
      "Error--------: 127.19467736759766\n",
      "Latent error above the threshold of 1.2\n",
      "Found 17583 lines. Skipped 11. Loaded 17572 points.\n"
     ]
    },
    {
     "name": "stderr",
     "output_type": "stream",
     "text": [
      " 65%|██████▌   | 661/1014 [10:22<05:21,  1.10it/s]"
     ]
    },
    {
     "name": "stdout",
     "output_type": "stream",
     "text": [
      "ICP converged. Fitness score: 3.50\n",
      "Frame : 660\n",
      "Error--------: 127.50882570434607\n",
      "Latent error above the threshold of 1.2\n",
      "Found 14861 lines. Skipped 11. Loaded 14850 points.\n"
     ]
    },
    {
     "name": "stderr",
     "output_type": "stream",
     "text": [
      " 65%|██████▌   | 662/1014 [10:23<05:20,  1.10it/s]"
     ]
    },
    {
     "name": "stdout",
     "output_type": "stream",
     "text": [
      "ICP converged. Fitness score: 2.98\n",
      "Frame : 661\n",
      "Error--------: 127.7507220960539\n",
      "Latent error above the threshold of 1.2\n",
      "Found 16694 lines. Skipped 11. Loaded 16683 points.\n"
     ]
    },
    {
     "name": "stderr",
     "output_type": "stream",
     "text": [
      " 65%|██████▌   | 663/1014 [10:24<05:21,  1.09it/s]"
     ]
    },
    {
     "name": "stdout",
     "output_type": "stream",
     "text": [
      "ICP converged. Fitness score: 4.27\n",
      "Frame : 662\n",
      "Error--------: 127.8545892001429\n",
      "Latent error above the threshold of 1.2\n",
      "Found 17777 lines. Skipped 11. Loaded 17766 points.\n"
     ]
    },
    {
     "name": "stderr",
     "output_type": "stream",
     "text": [
      " 65%|██████▌   | 664/1014 [10:25<05:27,  1.07it/s]"
     ]
    },
    {
     "name": "stdout",
     "output_type": "stream",
     "text": [
      "ICP converged. Fitness score: 3.33\n",
      "Frame : 663\n",
      "Error--------: 128.17581557591228\n",
      "Latent error above the threshold of 1.2\n",
      "Found 14861 lines. Skipped 11. Loaded 14850 points.\n"
     ]
    },
    {
     "name": "stderr",
     "output_type": "stream",
     "text": [
      " 66%|██████▌   | 665/1014 [10:26<05:24,  1.08it/s]"
     ]
    },
    {
     "name": "stdout",
     "output_type": "stream",
     "text": [
      "ICP converged. Fitness score: 4.38\n",
      "Frame : 664\n",
      "Error--------: 128.3798550363426\n",
      "Latent error above the threshold of 1.2\n",
      "Found 16444 lines. Skipped 11. Loaded 16433 points.\n"
     ]
    },
    {
     "name": "stderr",
     "output_type": "stream",
     "text": [
      " 66%|██████▌   | 666/1014 [10:27<05:24,  1.07it/s]"
     ]
    },
    {
     "name": "stdout",
     "output_type": "stream",
     "text": [
      "ICP converged. Fitness score: 3.21\n",
      "Frame : 665\n",
      "Error--------: 128.59049413168668\n",
      "Latent error above the threshold of 1.2\n",
      "Found 15417 lines. Skipped 11. Loaded 15406 points.\n"
     ]
    },
    {
     "name": "stderr",
     "output_type": "stream",
     "text": [
      " 66%|██████▌   | 667/1014 [10:28<05:28,  1.06it/s]"
     ]
    },
    {
     "name": "stdout",
     "output_type": "stream",
     "text": [
      "ICP converged. Fitness score: 4.29\n",
      "Frame : 666\n",
      "Error--------: 128.70759180138975\n",
      "Latent error above the threshold of 1.2\n",
      "Found 15417 lines. Skipped 11. Loaded 15406 points.\n"
     ]
    },
    {
     "name": "stderr",
     "output_type": "stream",
     "text": [
      " 66%|██████▌   | 668/1014 [10:29<05:23,  1.07it/s]"
     ]
    },
    {
     "name": "stdout",
     "output_type": "stream",
     "text": [
      "ICP converged. Fitness score: 3.31\n",
      "Frame : 667\n",
      "Error--------: 129.00219430900464\n",
      "Latent error above the threshold of 1.2\n",
      "Found 19133 lines. Skipped 11. Loaded 19122 points.\n"
     ]
    },
    {
     "name": "stderr",
     "output_type": "stream",
     "text": [
      " 66%|██████▌   | 669/1014 [10:30<05:30,  1.04it/s]"
     ]
    },
    {
     "name": "stdout",
     "output_type": "stream",
     "text": [
      "ICP converged. Fitness score: 4.45\n",
      "Frame : 668\n",
      "Error--------: 129.13446096492646\n",
      "Latent error above the threshold of 1.2\n",
      "Found 15172 lines. Skipped 11. Loaded 15161 points.\n"
     ]
    },
    {
     "name": "stderr",
     "output_type": "stream",
     "text": [
      " 66%|██████▌   | 670/1014 [10:31<05:33,  1.03it/s]"
     ]
    },
    {
     "name": "stdout",
     "output_type": "stream",
     "text": [
      "ICP converged. Fitness score: 2.97\n",
      "Frame : 669\n",
      "Error--------: 129.07858703511104\n",
      "Latent error above the threshold of 1.2\n",
      "Found 12644 lines. Skipped 11. Loaded 12633 points.\n"
     ]
    },
    {
     "name": "stderr",
     "output_type": "stream",
     "text": [
      " 66%|██████▌   | 671/1014 [10:32<05:38,  1.01it/s]"
     ]
    },
    {
     "name": "stdout",
     "output_type": "stream",
     "text": [
      "ICP converged. Fitness score: 2.09\n",
      "Frame : 670\n",
      "Error--------: 129.79995644953405\n",
      "Latent error above the threshold of 1.2\n",
      "Found 15513 lines. Skipped 11. Loaded 15502 points.\n"
     ]
    },
    {
     "name": "stderr",
     "output_type": "stream",
     "text": [
      " 66%|██████▋   | 672/1014 [10:33<05:34,  1.02it/s]"
     ]
    },
    {
     "name": "stdout",
     "output_type": "stream",
     "text": [
      "ICP converged. Fitness score: 2.87\n",
      "Frame : 671\n",
      "Error--------: 129.8528237511347\n",
      "Latent error above the threshold of 1.2\n",
      "Found 16785 lines. Skipped 11. Loaded 16774 points.\n"
     ]
    },
    {
     "name": "stderr",
     "output_type": "stream",
     "text": [
      " 66%|██████▋   | 673/1014 [10:34<05:27,  1.04it/s]"
     ]
    },
    {
     "name": "stdout",
     "output_type": "stream",
     "text": [
      "ICP converged. Fitness score: 4.08\n",
      "Frame : 672\n",
      "Error--------: 129.6949294765251\n",
      "Latent error above the threshold of 1.2\n",
      "Found 15707 lines. Skipped 11. Loaded 15696 points.\n"
     ]
    },
    {
     "name": "stderr",
     "output_type": "stream",
     "text": [
      " 66%|██████▋   | 674/1014 [10:35<05:18,  1.07it/s]"
     ]
    },
    {
     "name": "stdout",
     "output_type": "stream",
     "text": [
      "ICP converged. Fitness score: 3.21\n",
      "Frame : 673\n",
      "Error--------: 130.04667254197767\n",
      "Latent error above the threshold of 1.2\n",
      "Found 17027 lines. Skipped 11. Loaded 17016 points.\n"
     ]
    },
    {
     "name": "stderr",
     "output_type": "stream",
     "text": [
      " 67%|██████▋   | 675/1014 [10:35<05:15,  1.08it/s]"
     ]
    },
    {
     "name": "stdout",
     "output_type": "stream",
     "text": [
      "ICP converged. Fitness score: 3.92\n",
      "Frame : 674\n",
      "Error--------: 130.268472414397\n",
      "Latent error above the threshold of 1.2\n",
      "Found 13122 lines. Skipped 11. Loaded 13111 points.\n"
     ]
    },
    {
     "name": "stderr",
     "output_type": "stream",
     "text": [
      " 67%|██████▋   | 676/1014 [10:36<05:17,  1.06it/s]"
     ]
    },
    {
     "name": "stdout",
     "output_type": "stream",
     "text": [
      "ICP converged. Fitness score: 3.08\n",
      "Frame : 675\n",
      "Error--------: 130.57202227882885\n",
      "Latent error above the threshold of 1.2\n",
      "Found 20526 lines. Skipped 11. Loaded 20515 points.\n"
     ]
    },
    {
     "name": "stderr",
     "output_type": "stream",
     "text": [
      " 67%|██████▋   | 677/1014 [10:37<05:24,  1.04it/s]"
     ]
    },
    {
     "name": "stdout",
     "output_type": "stream",
     "text": [
      "ICP converged. Fitness score: 4.18\n",
      "Frame : 676\n",
      "Error--------: 130.77597760626142\n",
      "Latent error above the threshold of 1.2\n",
      "Found 13555 lines. Skipped 11. Loaded 13544 points.\n"
     ]
    },
    {
     "name": "stderr",
     "output_type": "stream",
     "text": [
      " 67%|██████▋   | 678/1014 [10:38<05:10,  1.08it/s]"
     ]
    },
    {
     "name": "stdout",
     "output_type": "stream",
     "text": [
      "ICP converged. Fitness score: 2.90\n",
      "Frame : 677\n",
      "Error--------: 131.10354981132974\n",
      "Latent error above the threshold of 1.2\n",
      "Found 17206 lines. Skipped 11. Loaded 17195 points.\n"
     ]
    },
    {
     "name": "stderr",
     "output_type": "stream",
     "text": [
      " 67%|██████▋   | 679/1014 [10:39<05:08,  1.09it/s]"
     ]
    },
    {
     "name": "stdout",
     "output_type": "stream",
     "text": [
      "ICP converged. Fitness score: 3.81\n",
      "Frame : 678\n",
      "Error--------: 131.25256842240645\n",
      "Latent error above the threshold of 1.2\n",
      "Found 13639 lines. Skipped 11. Loaded 13628 points.\n"
     ]
    },
    {
     "name": "stderr",
     "output_type": "stream",
     "text": [
      " 67%|██████▋   | 680/1014 [10:40<05:04,  1.10it/s]"
     ]
    },
    {
     "name": "stdout",
     "output_type": "stream",
     "text": [
      "ICP converged. Fitness score: 3.18\n",
      "Frame : 679\n",
      "Error--------: 131.61326294974455\n",
      "Latent error above the threshold of 1.2\n",
      "Found 15803 lines. Skipped 11. Loaded 15792 points.\n"
     ]
    },
    {
     "name": "stderr",
     "output_type": "stream",
     "text": [
      " 67%|██████▋   | 681/1014 [10:41<05:02,  1.10it/s]"
     ]
    },
    {
     "name": "stdout",
     "output_type": "stream",
     "text": [
      "ICP converged. Fitness score: 3.42\n",
      "Frame : 680\n",
      "Error--------: 131.75900283935263\n",
      "Latent error above the threshold of 1.2\n",
      "Found 13164 lines. Skipped 11. Loaded 13153 points.\n"
     ]
    },
    {
     "name": "stderr",
     "output_type": "stream",
     "text": [
      " 67%|██████▋   | 682/1014 [10:42<05:02,  1.10it/s]"
     ]
    },
    {
     "name": "stdout",
     "output_type": "stream",
     "text": [
      "ICP converged. Fitness score: 0.50\n",
      "Frame : 681\n",
      "Error--------: 132.19693389002762\n",
      "Latent error above the threshold of 1.2\n",
      "Found 14285 lines. Skipped 11. Loaded 14274 points.\n"
     ]
    },
    {
     "name": "stderr",
     "output_type": "stream",
     "text": [
      " 67%|██████▋   | 683/1014 [10:43<05:01,  1.10it/s]"
     ]
    },
    {
     "name": "stdout",
     "output_type": "stream",
     "text": [
      "ICP converged. Fitness score: 2.34\n",
      "Frame : 682\n",
      "Error--------: 132.3640542509069\n",
      "Latent error above the threshold of 1.2\n",
      "Found 15943 lines. Skipped 11. Loaded 15932 points.\n"
     ]
    },
    {
     "name": "stderr",
     "output_type": "stream",
     "text": [
      " 67%|██████▋   | 684/1014 [10:44<05:08,  1.07it/s]"
     ]
    },
    {
     "name": "stdout",
     "output_type": "stream",
     "text": [
      "ICP converged. Fitness score: 3.33\n",
      "Frame : 683\n",
      "Error--------: 132.56029055202845\n",
      "Latent error above the threshold of 1.2\n",
      "Found 17520 lines. Skipped 11. Loaded 17509 points.\n"
     ]
    },
    {
     "name": "stderr",
     "output_type": "stream",
     "text": [
      " 68%|██████▊   | 685/1014 [10:45<05:15,  1.04it/s]"
     ]
    },
    {
     "name": "stdout",
     "output_type": "stream",
     "text": [
      "ICP converged. Fitness score: 3.54\n",
      "Frame : 684\n",
      "Error--------: 132.7279492060736\n",
      "Latent error above the threshold of 1.2\n",
      "Found 15440 lines. Skipped 11. Loaded 15429 points.\n"
     ]
    },
    {
     "name": "stderr",
     "output_type": "stream",
     "text": [
      " 68%|██████▊   | 686/1014 [10:45<04:35,  1.19it/s]"
     ]
    },
    {
     "name": "stdout",
     "output_type": "stream",
     "text": [
      "ICP converged. Fitness score: 2.92\n",
      "Frame : 685\n",
      "Error--------: 132.91079447005023\n",
      "Latent error above the threshold of 1.2\n",
      "Found 15614 lines. Skipped 11. Loaded 15603 points.\n"
     ]
    },
    {
     "name": "stderr",
     "output_type": "stream",
     "text": [
      " 68%|██████▊   | 687/1014 [10:46<04:32,  1.20it/s]"
     ]
    },
    {
     "name": "stdout",
     "output_type": "stream",
     "text": [
      "ICP converged. Fitness score: 2.98\n",
      "Frame : 686\n",
      "Error--------: 133.11896339899516\n",
      "Latent error above the threshold of 1.2\n",
      "Found 15594 lines. Skipped 11. Loaded 15583 points.\n"
     ]
    },
    {
     "name": "stderr",
     "output_type": "stream",
     "text": [
      " 68%|██████▊   | 688/1014 [10:47<04:17,  1.26it/s]"
     ]
    },
    {
     "name": "stdout",
     "output_type": "stream",
     "text": [
      "ICP converged. Fitness score: 3.04\n",
      "Frame : 687\n",
      "Error--------: 133.31256837623363\n",
      "Latent error above the threshold of 1.2\n",
      "Found 17490 lines. Skipped 11. Loaded 17479 points.\n"
     ]
    },
    {
     "name": "stderr",
     "output_type": "stream",
     "text": [
      " 68%|██████▊   | 689/1014 [10:48<04:30,  1.20it/s]"
     ]
    },
    {
     "name": "stdout",
     "output_type": "stream",
     "text": [
      "ICP converged. Fitness score: 3.39\n",
      "Frame : 688\n",
      "Error--------: 133.63421169853217\n",
      "Latent error above the threshold of 1.2\n",
      "Found 16792 lines. Skipped 11. Loaded 16781 points.\n"
     ]
    },
    {
     "name": "stderr",
     "output_type": "stream",
     "text": [
      " 68%|██████▊   | 690/1014 [10:49<04:37,  1.17it/s]"
     ]
    },
    {
     "name": "stdout",
     "output_type": "stream",
     "text": [
      "ICP converged. Fitness score: 3.55\n",
      "Frame : 689\n",
      "Error--------: 133.75146832103323\n",
      "Latent error above the threshold of 1.2\n",
      "Found 15899 lines. Skipped 11. Loaded 15888 points.\n"
     ]
    },
    {
     "name": "stderr",
     "output_type": "stream",
     "text": [
      " 68%|██████▊   | 691/1014 [10:50<04:47,  1.12it/s]"
     ]
    },
    {
     "name": "stdout",
     "output_type": "stream",
     "text": [
      "ICP converged. Fitness score: 3.12\n",
      "Frame : 690\n",
      "Error--------: 133.99848122746002\n",
      "Latent error above the threshold of 1.2\n",
      "Found 17376 lines. Skipped 11. Loaded 17365 points.\n"
     ]
    },
    {
     "name": "stderr",
     "output_type": "stream",
     "text": [
      " 68%|██████▊   | 692/1014 [10:51<04:52,  1.10it/s]"
     ]
    },
    {
     "name": "stdout",
     "output_type": "stream",
     "text": [
      "ICP converged. Fitness score: 3.76\n",
      "Frame : 691\n",
      "Error--------: 134.14419099351562\n",
      "Latent error above the threshold of 1.2\n",
      "Found 17387 lines. Skipped 11. Loaded 17376 points.\n"
     ]
    },
    {
     "name": "stderr",
     "output_type": "stream",
     "text": [
      " 68%|██████▊   | 693/1014 [10:52<04:50,  1.11it/s]"
     ]
    },
    {
     "name": "stdout",
     "output_type": "stream",
     "text": [
      "ICP converged. Fitness score: 3.02\n",
      "Frame : 692\n",
      "Error--------: 134.48402152854817\n",
      "Latent error above the threshold of 1.2\n",
      "Found 16996 lines. Skipped 11. Loaded 16985 points.\n"
     ]
    },
    {
     "name": "stderr",
     "output_type": "stream",
     "text": [
      " 68%|██████▊   | 694/1014 [10:53<04:59,  1.07it/s]"
     ]
    },
    {
     "name": "stdout",
     "output_type": "stream",
     "text": [
      "ICP converged. Fitness score: 2.14\n",
      "Frame : 693\n",
      "Error--------: 134.936886899785\n",
      "Latent error above the threshold of 1.2\n",
      "Found 15831 lines. Skipped 11. Loaded 15820 points.\n"
     ]
    },
    {
     "name": "stderr",
     "output_type": "stream",
     "text": [
      " 69%|██████▊   | 695/1014 [10:53<04:54,  1.08it/s]"
     ]
    },
    {
     "name": "stdout",
     "output_type": "stream",
     "text": [
      "ICP converged. Fitness score: 2.71\n",
      "Frame : 694\n",
      "Error--------: 135.1906104461318\n",
      "Latent error above the threshold of 1.2\n",
      "Found 13325 lines. Skipped 11. Loaded 13314 points.\n"
     ]
    },
    {
     "name": "stderr",
     "output_type": "stream",
     "text": [
      " 69%|██████▊   | 696/1014 [10:54<04:47,  1.11it/s]"
     ]
    },
    {
     "name": "stdout",
     "output_type": "stream",
     "text": [
      "ICP converged. Fitness score: 3.00\n",
      "Frame : 695\n",
      "Error--------: 135.20497294058515\n",
      "Latent error above the threshold of 1.2\n",
      "Found 14037 lines. Skipped 11. Loaded 14026 points.\n"
     ]
    },
    {
     "name": "stderr",
     "output_type": "stream",
     "text": [
      " 69%|██████▊   | 697/1014 [10:55<04:41,  1.13it/s]"
     ]
    },
    {
     "name": "stdout",
     "output_type": "stream",
     "text": [
      "ICP converged. Fitness score: 3.13\n",
      "Frame : 696\n",
      "Error--------: 135.53160472469943\n",
      "Latent error above the threshold of 1.2\n",
      "Found 12565 lines. Skipped 11. Loaded 12554 points.\n"
     ]
    },
    {
     "name": "stderr",
     "output_type": "stream",
     "text": [
      " 69%|██████▉   | 698/1014 [10:56<04:48,  1.10it/s]"
     ]
    },
    {
     "name": "stdout",
     "output_type": "stream",
     "text": [
      "ICP converged. Fitness score: 3.03\n",
      "Frame : 697\n",
      "Error--------: 135.7161667549344\n",
      "Latent error above the threshold of 1.2\n",
      "Found 14109 lines. Skipped 11. Loaded 14098 points.\n"
     ]
    },
    {
     "name": "stderr",
     "output_type": "stream",
     "text": [
      " 69%|██████▉   | 699/1014 [10:57<04:27,  1.18it/s]"
     ]
    },
    {
     "name": "stdout",
     "output_type": "stream",
     "text": [
      "ICP converged. Fitness score: 2.97\n",
      "Frame : 698\n",
      "Error--------: 135.93442358987943\n",
      "Latent error above the threshold of 1.2\n",
      "Found 14312 lines. Skipped 11. Loaded 14301 points.\n"
     ]
    },
    {
     "name": "stderr",
     "output_type": "stream",
     "text": [
      " 69%|██████▉   | 700/1014 [10:58<04:34,  1.14it/s]"
     ]
    },
    {
     "name": "stdout",
     "output_type": "stream",
     "text": [
      "ICP converged. Fitness score: 2.88\n",
      "Frame : 699\n",
      "Error--------: 136.15728495866392\n",
      "Latent error above the threshold of 1.2\n",
      "Found 14722 lines. Skipped 11. Loaded 14711 points.\n"
     ]
    },
    {
     "name": "stderr",
     "output_type": "stream",
     "text": [
      " 69%|██████▉   | 701/1014 [10:58<04:18,  1.21it/s]"
     ]
    },
    {
     "name": "stdout",
     "output_type": "stream",
     "text": [
      "ICP converged. Fitness score: 2.90\n",
      "Frame : 700\n",
      "Error--------: 136.32053871140388\n",
      "Latent error above the threshold of 1.2\n",
      "Found 17353 lines. Skipped 11. Loaded 17342 points.\n"
     ]
    },
    {
     "name": "stderr",
     "output_type": "stream",
     "text": [
      " 69%|██████▉   | 702/1014 [10:59<04:28,  1.16it/s]"
     ]
    },
    {
     "name": "stdout",
     "output_type": "stream",
     "text": [
      "ICP converged. Fitness score: 2.99\n",
      "Frame : 701\n",
      "Error--------: 136.65270453322745\n",
      "Latent error above the threshold of 1.2\n",
      "Found 16252 lines. Skipped 11. Loaded 16241 points.\n"
     ]
    },
    {
     "name": "stderr",
     "output_type": "stream",
     "text": [
      " 69%|██████▉   | 703/1014 [11:00<04:18,  1.20it/s]"
     ]
    },
    {
     "name": "stdout",
     "output_type": "stream",
     "text": [
      "ICP converged. Fitness score: 3.32\n",
      "Frame : 702\n",
      "Error--------: 136.82414724644997\n",
      "Latent error above the threshold of 1.2\n",
      "Found 14248 lines. Skipped 11. Loaded 14237 points.\n"
     ]
    },
    {
     "name": "stderr",
     "output_type": "stream",
     "text": [
      " 69%|██████▉   | 704/1014 [11:01<04:23,  1.18it/s]"
     ]
    },
    {
     "name": "stdout",
     "output_type": "stream",
     "text": [
      "ICP converged. Fitness score: 3.30\n",
      "Frame : 703\n",
      "Error--------: 137.12580132468506\n",
      "Latent error above the threshold of 1.2\n",
      "Found 14967 lines. Skipped 11. Loaded 14956 points.\n"
     ]
    },
    {
     "name": "stderr",
     "output_type": "stream",
     "text": [
      " 70%|██████▉   | 705/1014 [11:02<04:22,  1.18it/s]"
     ]
    },
    {
     "name": "stdout",
     "output_type": "stream",
     "text": [
      "ICP converged. Fitness score: 1.92\n",
      "Frame : 704\n",
      "Error--------: 137.34668344290088\n",
      "Latent error above the threshold of 1.2\n",
      "Found 16461 lines. Skipped 11. Loaded 16450 points.\n"
     ]
    },
    {
     "name": "stderr",
     "output_type": "stream",
     "text": [
      " 70%|██████▉   | 706/1014 [11:03<04:18,  1.19it/s]"
     ]
    },
    {
     "name": "stdout",
     "output_type": "stream",
     "text": [
      "ICP converged. Fitness score: 2.95\n",
      "Frame : 705\n",
      "Error--------: 137.61699233632893\n",
      "Latent error above the threshold of 1.2\n",
      "Found 15690 lines. Skipped 11. Loaded 15679 points.\n"
     ]
    },
    {
     "name": "stderr",
     "output_type": "stream",
     "text": [
      " 70%|██████▉   | 707/1014 [11:04<04:29,  1.14it/s]"
     ]
    },
    {
     "name": "stdout",
     "output_type": "stream",
     "text": [
      "ICP converged. Fitness score: 3.45\n",
      "Frame : 706\n",
      "Error--------: 137.75140689099157\n",
      "Latent error above the threshold of 1.2\n",
      "Found 18022 lines. Skipped 11. Loaded 18011 points.\n"
     ]
    },
    {
     "name": "stderr",
     "output_type": "stream",
     "text": [
      " 70%|██████▉   | 708/1014 [11:04<04:05,  1.24it/s]"
     ]
    },
    {
     "name": "stdout",
     "output_type": "stream",
     "text": [
      "ICP converged. Fitness score: 3.70\n",
      "Frame : 707\n",
      "Error--------: 138.013473742446\n",
      "Latent error above the threshold of 1.2\n",
      "Found 15626 lines. Skipped 11. Loaded 15615 points.\n"
     ]
    },
    {
     "name": "stderr",
     "output_type": "stream",
     "text": [
      " 70%|██████▉   | 709/1014 [11:05<04:05,  1.24it/s]"
     ]
    },
    {
     "name": "stdout",
     "output_type": "stream",
     "text": [
      "ICP converged. Fitness score: 3.04\n",
      "Frame : 708\n",
      "Error--------: 138.16600190054643\n",
      "Latent error above the threshold of 1.2\n",
      "Found 13331 lines. Skipped 11. Loaded 13320 points.\n"
     ]
    },
    {
     "name": "stderr",
     "output_type": "stream",
     "text": [
      " 70%|███████   | 710/1014 [11:06<03:58,  1.27it/s]"
     ]
    },
    {
     "name": "stdout",
     "output_type": "stream",
     "text": [
      "ICP converged. Fitness score: 3.16\n",
      "Frame : 709\n",
      "Error--------: 138.35567123001582\n",
      "Latent error above the threshold of 1.2\n",
      "Found 16868 lines. Skipped 11. Loaded 16857 points.\n"
     ]
    },
    {
     "name": "stderr",
     "output_type": "stream",
     "text": [
      " 70%|███████   | 711/1014 [11:07<04:08,  1.22it/s]"
     ]
    },
    {
     "name": "stdout",
     "output_type": "stream",
     "text": [
      "ICP converged. Fitness score: 3.25\n",
      "Frame : 710\n",
      "Error--------: 138.65906529654424\n",
      "Latent error above the threshold of 1.2\n",
      "Found 15749 lines. Skipped 11. Loaded 15738 points.\n"
     ]
    },
    {
     "name": "stderr",
     "output_type": "stream",
     "text": [
      " 70%|███████   | 712/1014 [11:08<04:09,  1.21it/s]"
     ]
    },
    {
     "name": "stdout",
     "output_type": "stream",
     "text": [
      "ICP converged. Fitness score: 3.15\n",
      "Frame : 711\n",
      "Error--------: 138.78454701673257\n",
      "Latent error above the threshold of 1.2\n",
      "Found 15488 lines. Skipped 11. Loaded 15477 points.\n"
     ]
    },
    {
     "name": "stderr",
     "output_type": "stream",
     "text": [
      " 70%|███████   | 713/1014 [11:09<04:30,  1.11it/s]"
     ]
    },
    {
     "name": "stdout",
     "output_type": "stream",
     "text": [
      "ICP converged. Fitness score: 3.21\n",
      "Frame : 712\n",
      "Error--------: 139.02847578132238\n",
      "Latent error above the threshold of 1.2\n",
      "Found 12814 lines. Skipped 11. Loaded 12803 points.\n"
     ]
    },
    {
     "name": "stderr",
     "output_type": "stream",
     "text": [
      " 70%|███████   | 714/1014 [11:10<04:24,  1.14it/s]"
     ]
    },
    {
     "name": "stdout",
     "output_type": "stream",
     "text": [
      "ICP converged. Fitness score: 3.13\n",
      "Frame : 713\n",
      "Error--------: 139.18254402544824\n",
      "Latent error above the threshold of 1.2\n",
      "Found 15968 lines. Skipped 11. Loaded 15957 points.\n"
     ]
    },
    {
     "name": "stderr",
     "output_type": "stream",
     "text": [
      " 71%|███████   | 715/1014 [11:10<04:24,  1.13it/s]"
     ]
    },
    {
     "name": "stdout",
     "output_type": "stream",
     "text": [
      "ICP converged. Fitness score: 2.92\n",
      "Frame : 714\n",
      "Error--------: 139.39040802334225\n",
      "Latent error above the threshold of 1.2\n",
      "Found 15233 lines. Skipped 11. Loaded 15222 points.\n"
     ]
    },
    {
     "name": "stderr",
     "output_type": "stream",
     "text": [
      " 71%|███████   | 716/1014 [11:11<04:27,  1.11it/s]"
     ]
    },
    {
     "name": "stdout",
     "output_type": "stream",
     "text": [
      "ICP converged. Fitness score: 2.41\n",
      "Frame : 715\n",
      "Error--------: 139.72334362605693\n",
      "Latent error above the threshold of 1.2\n",
      "Found 15895 lines. Skipped 11. Loaded 15884 points.\n"
     ]
    },
    {
     "name": "stderr",
     "output_type": "stream",
     "text": [
      " 71%|███████   | 717/1014 [11:12<04:27,  1.11it/s]"
     ]
    },
    {
     "name": "stdout",
     "output_type": "stream",
     "text": [
      "ICP converged. Fitness score: 2.94\n",
      "Frame : 716\n",
      "Error--------: 139.93722768538763\n",
      "Latent error above the threshold of 1.2\n",
      "Found 14495 lines. Skipped 11. Loaded 14484 points.\n"
     ]
    },
    {
     "name": "stderr",
     "output_type": "stream",
     "text": [
      " 71%|███████   | 718/1014 [11:13<04:21,  1.13it/s]"
     ]
    },
    {
     "name": "stdout",
     "output_type": "stream",
     "text": [
      "ICP converged. Fitness score: 3.35\n",
      "Frame : 717\n",
      "Error--------: 140.16124564186865\n",
      "Latent error above the threshold of 1.2\n",
      "Found 15815 lines. Skipped 11. Loaded 15804 points.\n"
     ]
    },
    {
     "name": "stderr",
     "output_type": "stream",
     "text": [
      " 71%|███████   | 719/1014 [11:14<03:48,  1.29it/s]"
     ]
    },
    {
     "name": "stdout",
     "output_type": "stream",
     "text": [
      "ICP converged. Fitness score: 2.38\n",
      "Frame : 718\n",
      "Error--------: 140.28746206461147\n",
      "Latent error above the threshold of 1.2\n",
      "Found 11385 lines. Skipped 11. Loaded 11374 points.\n"
     ]
    },
    {
     "name": "stderr",
     "output_type": "stream",
     "text": [
      " 71%|███████   | 720/1014 [11:14<03:50,  1.28it/s]"
     ]
    },
    {
     "name": "stdout",
     "output_type": "stream",
     "text": [
      "ICP converged. Fitness score: 2.59\n",
      "Frame : 719\n",
      "Error--------: 140.58660996296086\n",
      "Latent error above the threshold of 1.2\n",
      "Found 13347 lines. Skipped 11. Loaded 13336 points.\n"
     ]
    },
    {
     "name": "stderr",
     "output_type": "stream",
     "text": [
      " 71%|███████   | 721/1014 [11:15<03:50,  1.27it/s]"
     ]
    },
    {
     "name": "stdout",
     "output_type": "stream",
     "text": [
      "ICP converged. Fitness score: 2.27\n",
      "Frame : 720\n",
      "Error--------: 140.73717224673032\n",
      "Latent error above the threshold of 1.2\n",
      "Found 14614 lines. Skipped 11. Loaded 14603 points.\n"
     ]
    },
    {
     "name": "stderr",
     "output_type": "stream",
     "text": [
      " 71%|███████   | 722/1014 [11:16<03:49,  1.27it/s]"
     ]
    },
    {
     "name": "stdout",
     "output_type": "stream",
     "text": [
      "ICP converged. Fitness score: 2.61\n",
      "Frame : 721\n",
      "Error--------: 140.96077385557854\n",
      "Latent error above the threshold of 1.2\n",
      "Found 14733 lines. Skipped 11. Loaded 14722 points.\n"
     ]
    },
    {
     "name": "stderr",
     "output_type": "stream",
     "text": [
      " 71%|███████▏  | 723/1014 [11:17<03:59,  1.22it/s]"
     ]
    },
    {
     "name": "stdout",
     "output_type": "stream",
     "text": [
      "ICP converged. Fitness score: 1.99\n",
      "Frame : 722\n",
      "Error--------: 141.1101058821871\n",
      "Latent error above the threshold of 1.2\n",
      "Found 17346 lines. Skipped 11. Loaded 17335 points.\n"
     ]
    },
    {
     "name": "stderr",
     "output_type": "stream",
     "text": [
      " 71%|███████▏  | 724/1014 [11:18<04:01,  1.20it/s]"
     ]
    },
    {
     "name": "stdout",
     "output_type": "stream",
     "text": [
      "ICP converged. Fitness score: 2.34\n",
      "Frame : 723\n",
      "Error--------: 141.4309089408425\n",
      "Latent error above the threshold of 1.2\n",
      "Found 14773 lines. Skipped 11. Loaded 14762 points.\n"
     ]
    },
    {
     "name": "stderr",
     "output_type": "stream",
     "text": [
      " 71%|███████▏  | 725/1014 [11:19<04:00,  1.20it/s]"
     ]
    },
    {
     "name": "stdout",
     "output_type": "stream",
     "text": [
      "ICP converged. Fitness score: 1.76\n",
      "Frame : 724\n",
      "Error--------: 141.575108004508\n",
      "Latent error above the threshold of 1.2\n",
      "Found 13042 lines. Skipped 11. Loaded 13031 points.\n"
     ]
    },
    {
     "name": "stderr",
     "output_type": "stream",
     "text": [
      " 72%|███████▏  | 726/1014 [11:19<04:03,  1.18it/s]"
     ]
    },
    {
     "name": "stdout",
     "output_type": "stream",
     "text": [
      "ICP converged. Fitness score: 1.95\n",
      "Frame : 725\n",
      "Error--------: 141.76878776167624\n",
      "Latent error above the threshold of 1.2\n",
      "Found 14700 lines. Skipped 11. Loaded 14689 points.\n"
     ]
    },
    {
     "name": "stderr",
     "output_type": "stream",
     "text": [
      " 72%|███████▏  | 727/1014 [11:20<04:13,  1.13it/s]"
     ]
    },
    {
     "name": "stdout",
     "output_type": "stream",
     "text": [
      "ICP converged. Fitness score: 2.57\n",
      "Frame : 726\n",
      "Error--------: 142.17649899196292\n",
      "Latent error above the threshold of 1.2\n",
      "Found 12849 lines. Skipped 11. Loaded 12838 points.\n"
     ]
    },
    {
     "name": "stderr",
     "output_type": "stream",
     "text": [
      " 72%|███████▏  | 728/1014 [11:21<04:04,  1.17it/s]"
     ]
    },
    {
     "name": "stdout",
     "output_type": "stream",
     "text": [
      "ICP converged. Fitness score: 1.65\n",
      "Frame : 727\n",
      "Error--------: 142.3163428692593\n",
      "Latent error above the threshold of 1.2\n",
      "Found 14230 lines. Skipped 11. Loaded 14219 points.\n"
     ]
    },
    {
     "name": "stderr",
     "output_type": "stream",
     "text": [
      " 72%|███████▏  | 729/1014 [11:22<04:02,  1.18it/s]"
     ]
    },
    {
     "name": "stdout",
     "output_type": "stream",
     "text": [
      "ICP converged. Fitness score: 1.37\n",
      "Frame : 728\n",
      "Error--------: 142.67274415794773\n",
      "Latent error above the threshold of 1.2\n",
      "Found 15678 lines. Skipped 11. Loaded 15667 points.\n"
     ]
    },
    {
     "name": "stderr",
     "output_type": "stream",
     "text": [
      " 72%|███████▏  | 730/1014 [11:23<03:47,  1.25it/s]"
     ]
    },
    {
     "name": "stdout",
     "output_type": "stream",
     "text": [
      "ICP converged. Fitness score: 1.27\n",
      "Frame : 729\n",
      "Error--------: 142.86619186662907\n",
      "Latent error above the threshold of 1.2\n",
      "Found 15678 lines. Skipped 11. Loaded 15667 points.\n"
     ]
    },
    {
     "name": "stderr",
     "output_type": "stream",
     "text": [
      " 72%|███████▏  | 731/1014 [11:24<03:51,  1.22it/s]"
     ]
    },
    {
     "name": "stdout",
     "output_type": "stream",
     "text": [
      "ICP converged. Fitness score: 1.32\n",
      "Frame : 730\n",
      "Error--------: 143.22713987613218\n",
      "Latent error above the threshold of 1.2\n",
      "Found 19337 lines. Skipped 11. Loaded 19326 points.\n"
     ]
    },
    {
     "name": "stderr",
     "output_type": "stream",
     "text": [
      " 72%|███████▏  | 732/1014 [11:25<04:01,  1.17it/s]"
     ]
    },
    {
     "name": "stdout",
     "output_type": "stream",
     "text": [
      "ICP converged. Fitness score: 1.33\n",
      "Frame : 731\n",
      "Error--------: 143.40425397449542\n",
      "Latent error above the threshold of 1.2\n",
      "Found 16139 lines. Skipped 11. Loaded 16128 points.\n"
     ]
    },
    {
     "name": "stderr",
     "output_type": "stream",
     "text": [
      " 72%|███████▏  | 733/1014 [11:25<03:57,  1.18it/s]"
     ]
    },
    {
     "name": "stdout",
     "output_type": "stream",
     "text": [
      "ICP converged. Fitness score: 1.24\n",
      "Frame : 732\n",
      "Error--------: 143.6499724820565\n",
      "Latent error above the threshold of 1.2\n",
      "Found 13272 lines. Skipped 11. Loaded 13261 points.\n"
     ]
    },
    {
     "name": "stderr",
     "output_type": "stream",
     "text": [
      " 72%|███████▏  | 734/1014 [11:26<03:46,  1.24it/s]"
     ]
    },
    {
     "name": "stdout",
     "output_type": "stream",
     "text": [
      "ICP converged. Fitness score: 1.13\n",
      "Frame : 733\n",
      "Error--------: 143.80410089299068\n",
      "Latent error above the threshold of 1.2\n",
      "Found 15052 lines. Skipped 11. Loaded 15041 points.\n"
     ]
    },
    {
     "name": "stderr",
     "output_type": "stream",
     "text": [
      " 72%|███████▏  | 735/1014 [11:27<03:50,  1.21it/s]"
     ]
    },
    {
     "name": "stdout",
     "output_type": "stream",
     "text": [
      "ICP converged. Fitness score: 1.21\n",
      "Frame : 734\n",
      "Error--------: 143.99817587827144\n",
      "Latent error above the threshold of 1.2\n",
      "Found 16732 lines. Skipped 11. Loaded 16721 points.\n"
     ]
    },
    {
     "name": "stderr",
     "output_type": "stream",
     "text": [
      " 73%|███████▎  | 736/1014 [11:28<03:48,  1.22it/s]"
     ]
    },
    {
     "name": "stdout",
     "output_type": "stream",
     "text": [
      "ICP converged. Fitness score: 1.10\n",
      "Frame : 735\n",
      "Error--------: 144.1667644532006\n",
      "Latent error above the threshold of 1.2\n",
      "Found 15301 lines. Skipped 11. Loaded 15290 points.\n"
     ]
    },
    {
     "name": "stderr",
     "output_type": "stream",
     "text": [
      " 73%|███████▎  | 737/1014 [11:29<03:46,  1.22it/s]"
     ]
    },
    {
     "name": "stdout",
     "output_type": "stream",
     "text": [
      "ICP converged. Fitness score: 1.24\n",
      "Frame : 736\n",
      "Error--------: 144.30323598193098\n",
      "Latent error above the threshold of 1.2\n",
      "Found 15454 lines. Skipped 11. Loaded 15443 points.\n"
     ]
    },
    {
     "name": "stderr",
     "output_type": "stream",
     "text": [
      " 73%|███████▎  | 738/1014 [11:29<03:52,  1.19it/s]"
     ]
    },
    {
     "name": "stdout",
     "output_type": "stream",
     "text": [
      "ICP converged. Fitness score: 2.78\n",
      "Frame : 737\n",
      "Error--------: 144.70558127240363\n",
      "Latent error above the threshold of 1.2\n",
      "Found 16005 lines. Skipped 11. Loaded 15994 points.\n"
     ]
    },
    {
     "name": "stderr",
     "output_type": "stream",
     "text": [
      " 73%|███████▎  | 739/1014 [11:30<03:57,  1.16it/s]"
     ]
    },
    {
     "name": "stdout",
     "output_type": "stream",
     "text": [
      "ICP converged. Fitness score: 1.48\n",
      "Frame : 738\n",
      "Error--------: 144.975978554836\n",
      "Latent error above the threshold of 1.2\n",
      "Found 16005 lines. Skipped 11. Loaded 15994 points.\n"
     ]
    },
    {
     "name": "stderr",
     "output_type": "stream",
     "text": [
      " 73%|███████▎  | 740/1014 [11:31<03:53,  1.17it/s]"
     ]
    },
    {
     "name": "stdout",
     "output_type": "stream",
     "text": [
      "ICP converged. Fitness score: 1.49\n",
      "Frame : 739\n",
      "Error--------: 145.2095559205258\n",
      "Latent error above the threshold of 1.2\n",
      "Found 18383 lines. Skipped 11. Loaded 18372 points.\n"
     ]
    },
    {
     "name": "stderr",
     "output_type": "stream",
     "text": [
      " 73%|███████▎  | 741/1014 [11:32<03:53,  1.17it/s]"
     ]
    },
    {
     "name": "stdout",
     "output_type": "stream",
     "text": [
      "ICP converged. Fitness score: 1.19\n",
      "Frame : 740\n",
      "Error--------: 145.2753763817349\n",
      "Latent error above the threshold of 1.2\n",
      "Found 12198 lines. Skipped 11. Loaded 12187 points.\n"
     ]
    },
    {
     "name": "stderr",
     "output_type": "stream",
     "text": [
      " 73%|███████▎  | 742/1014 [11:33<03:49,  1.18it/s]"
     ]
    },
    {
     "name": "stdout",
     "output_type": "stream",
     "text": [
      "ICP converged. Fitness score: 1.46\n",
      "Frame : 741\n",
      "Error--------: 145.55582656437923\n",
      "Latent error above the threshold of 1.2\n",
      "Found 14439 lines. Skipped 11. Loaded 14428 points.\n"
     ]
    },
    {
     "name": "stderr",
     "output_type": "stream",
     "text": [
      " 73%|███████▎  | 743/1014 [11:34<03:38,  1.24it/s]"
     ]
    },
    {
     "name": "stdout",
     "output_type": "stream",
     "text": [
      "ICP converged. Fitness score: 1.22\n",
      "Frame : 742\n",
      "Error--------: 145.70581892715762\n",
      "Latent error above the threshold of 1.2\n",
      "Found 14450 lines. Skipped 11. Loaded 14439 points.\n"
     ]
    },
    {
     "name": "stderr",
     "output_type": "stream",
     "text": [
      " 73%|███████▎  | 744/1014 [11:34<03:42,  1.21it/s]"
     ]
    },
    {
     "name": "stdout",
     "output_type": "stream",
     "text": [
      "ICP converged. Fitness score: 1.51\n",
      "Frame : 743\n",
      "Error--------: 145.90403873011945\n",
      "Latent error above the threshold of 1.2\n",
      "Found 14593 lines. Skipped 11. Loaded 14582 points.\n"
     ]
    },
    {
     "name": "stderr",
     "output_type": "stream",
     "text": [
      " 73%|███████▎  | 745/1014 [11:35<03:39,  1.23it/s]"
     ]
    },
    {
     "name": "stdout",
     "output_type": "stream",
     "text": [
      "ICP converged. Fitness score: 1.23\n",
      "Frame : 744\n",
      "Error--------: 146.1228211604133\n",
      "Latent error above the threshold of 1.2\n",
      "Found 11604 lines. Skipped 11. Loaded 11593 points.\n"
     ]
    },
    {
     "name": "stderr",
     "output_type": "stream",
     "text": [
      " 74%|███████▎  | 746/1014 [11:36<03:37,  1.23it/s]"
     ]
    },
    {
     "name": "stdout",
     "output_type": "stream",
     "text": [
      "ICP converged. Fitness score: 1.61\n",
      "Frame : 745\n",
      "Error--------: 146.26538086682467\n",
      "Latent error above the threshold of 1.2\n",
      "Found 15267 lines. Skipped 11. Loaded 15256 points.\n"
     ]
    },
    {
     "name": "stderr",
     "output_type": "stream",
     "text": [
      " 74%|███████▎  | 747/1014 [11:37<03:35,  1.24it/s]"
     ]
    },
    {
     "name": "stdout",
     "output_type": "stream",
     "text": [
      "ICP converged. Fitness score: 1.31\n",
      "Frame : 746\n",
      "Error--------: 146.43418172897606\n",
      "Latent error above the threshold of 1.2\n",
      "Found 16080 lines. Skipped 11. Loaded 16069 points.\n"
     ]
    },
    {
     "name": "stderr",
     "output_type": "stream",
     "text": [
      " 74%|███████▍  | 748/1014 [11:38<03:35,  1.23it/s]"
     ]
    },
    {
     "name": "stdout",
     "output_type": "stream",
     "text": [
      "ICP converged. Fitness score: 1.68\n",
      "Frame : 747\n",
      "Error--------: 146.6626826763417\n",
      "Latent error above the threshold of 1.2\n",
      "Found 17031 lines. Skipped 11. Loaded 17020 points.\n"
     ]
    },
    {
     "name": "stderr",
     "output_type": "stream",
     "text": [
      " 74%|███████▍  | 749/1014 [11:39<03:47,  1.16it/s]"
     ]
    },
    {
     "name": "stdout",
     "output_type": "stream",
     "text": [
      "ICP converged. Fitness score: 2.88\n",
      "Frame : 748\n",
      "Error--------: 146.89427830443873\n",
      "Latent error above the threshold of 1.2\n",
      "Found 16380 lines. Skipped 11. Loaded 16369 points.\n"
     ]
    },
    {
     "name": "stderr",
     "output_type": "stream",
     "text": [
      " 74%|███████▍  | 750/1014 [11:40<03:50,  1.14it/s]"
     ]
    },
    {
     "name": "stdout",
     "output_type": "stream",
     "text": [
      "ICP converged. Fitness score: 1.71\n",
      "Frame : 749\n",
      "Error--------: 147.24297252823382\n",
      "Latent error above the threshold of 1.2\n",
      "Found 14661 lines. Skipped 11. Loaded 14650 points.\n"
     ]
    },
    {
     "name": "stderr",
     "output_type": "stream",
     "text": [
      " 74%|███████▍  | 751/1014 [11:40<03:44,  1.17it/s]"
     ]
    },
    {
     "name": "stdout",
     "output_type": "stream",
     "text": [
      "ICP converged. Fitness score: 1.66\n",
      "Frame : 750\n",
      "Error--------: 147.37531416388413\n",
      "Latent error above the threshold of 1.2\n",
      "Found 15669 lines. Skipped 11. Loaded 15658 points.\n"
     ]
    },
    {
     "name": "stderr",
     "output_type": "stream",
     "text": [
      " 74%|███████▍  | 752/1014 [11:41<03:32,  1.24it/s]"
     ]
    },
    {
     "name": "stdout",
     "output_type": "stream",
     "text": [
      "ICP converged. Fitness score: 1.62\n",
      "Frame : 751\n",
      "Error--------: 147.46758652102804\n",
      "Latent error above the threshold of 1.2\n",
      "Found 14644 lines. Skipped 11. Loaded 14633 points.\n"
     ]
    },
    {
     "name": "stderr",
     "output_type": "stream",
     "text": [
      " 74%|███████▍  | 753/1014 [11:42<03:33,  1.22it/s]"
     ]
    },
    {
     "name": "stdout",
     "output_type": "stream",
     "text": [
      "ICP converged. Fitness score: 1.67\n",
      "Frame : 752\n",
      "Error--------: 147.7660523389542\n",
      "Latent error above the threshold of 1.2\n",
      "Found 17017 lines. Skipped 11. Loaded 17006 points.\n"
     ]
    },
    {
     "name": "stderr",
     "output_type": "stream",
     "text": [
      " 74%|███████▍  | 754/1014 [11:43<03:17,  1.32it/s]"
     ]
    },
    {
     "name": "stdout",
     "output_type": "stream",
     "text": [
      "ICP converged. Fitness score: 1.40\n",
      "Frame : 753\n",
      "Error--------: 147.88963595633075\n",
      "Latent error above the threshold of 1.2\n",
      "Found 11638 lines. Skipped 11. Loaded 11627 points.\n"
     ]
    },
    {
     "name": "stderr",
     "output_type": "stream",
     "text": [
      " 74%|███████▍  | 755/1014 [11:43<03:16,  1.32it/s]"
     ]
    },
    {
     "name": "stdout",
     "output_type": "stream",
     "text": [
      "ICP converged. Fitness score: 1.55\n",
      "Frame : 754\n",
      "Error--------: 148.13477571437306\n",
      "Latent error above the threshold of 1.2\n",
      "Found 15802 lines. Skipped 11. Loaded 15791 points.\n"
     ]
    },
    {
     "name": "stderr",
     "output_type": "stream",
     "text": [
      " 75%|███████▍  | 756/1014 [11:44<03:19,  1.29it/s]"
     ]
    },
    {
     "name": "stdout",
     "output_type": "stream",
     "text": [
      "ICP converged. Fitness score: 1.46\n",
      "Frame : 755\n",
      "Error--------: 148.23423928951132\n",
      "Latent error above the threshold of 1.2\n",
      "Found 15356 lines. Skipped 11. Loaded 15345 points.\n"
     ]
    },
    {
     "name": "stderr",
     "output_type": "stream",
     "text": [
      " 75%|███████▍  | 757/1014 [11:45<03:27,  1.24it/s]"
     ]
    },
    {
     "name": "stdout",
     "output_type": "stream",
     "text": [
      "ICP converged. Fitness score: 1.53\n",
      "Frame : 756\n",
      "Error--------: 148.41094508895335\n",
      "Latent error above the threshold of 1.2\n",
      "Found 15854 lines. Skipped 11. Loaded 15843 points.\n"
     ]
    },
    {
     "name": "stderr",
     "output_type": "stream",
     "text": [
      " 75%|███████▍  | 758/1014 [11:46<03:33,  1.20it/s]"
     ]
    },
    {
     "name": "stdout",
     "output_type": "stream",
     "text": [
      "ICP converged. Fitness score: 1.36\n",
      "Frame : 757\n",
      "Error--------: 148.4920053437541\n",
      "Latent error above the threshold of 1.2\n",
      "Found 14294 lines. Skipped 11. Loaded 14283 points.\n"
     ]
    },
    {
     "name": "stderr",
     "output_type": "stream",
     "text": [
      " 75%|███████▍  | 759/1014 [11:47<03:22,  1.26it/s]"
     ]
    },
    {
     "name": "stdout",
     "output_type": "stream",
     "text": [
      "ICP converged. Fitness score: 1.48\n",
      "Frame : 758\n",
      "Error--------: 148.6589704220564\n",
      "Latent error above the threshold of 1.2\n",
      "Found 17031 lines. Skipped 11. Loaded 17020 points.\n"
     ]
    },
    {
     "name": "stderr",
     "output_type": "stream",
     "text": [
      " 75%|███████▍  | 760/1014 [11:47<03:18,  1.28it/s]"
     ]
    },
    {
     "name": "stdout",
     "output_type": "stream",
     "text": [
      "ICP converged. Fitness score: 2.99\n",
      "Frame : 759\n",
      "Error--------: 149.0775283297485\n",
      "Latent error above the threshold of 1.2\n",
      "Found 16267 lines. Skipped 11. Loaded 16256 points.\n"
     ]
    },
    {
     "name": "stderr",
     "output_type": "stream",
     "text": [
      " 75%|███████▌  | 761/1014 [11:48<03:20,  1.26it/s]"
     ]
    },
    {
     "name": "stdout",
     "output_type": "stream",
     "text": [
      "ICP converged. Fitness score: 1.49\n",
      "Frame : 760\n",
      "Error--------: 149.23290934329654\n",
      "Latent error above the threshold of 1.2\n",
      "Found 12335 lines. Skipped 11. Loaded 12324 points.\n"
     ]
    },
    {
     "name": "stderr",
     "output_type": "stream",
     "text": [
      " 75%|███████▌  | 762/1014 [11:49<03:18,  1.27it/s]"
     ]
    },
    {
     "name": "stdout",
     "output_type": "stream",
     "text": [
      "ICP converged. Fitness score: 1.36\n",
      "Frame : 761\n",
      "Error--------: 149.34483733917557\n",
      "Latent error above the threshold of 1.2\n",
      "Found 16006 lines. Skipped 11. Loaded 15995 points.\n"
     ]
    },
    {
     "name": "stderr",
     "output_type": "stream",
     "text": [
      " 75%|███████▌  | 763/1014 [11:50<03:18,  1.26it/s]"
     ]
    },
    {
     "name": "stdout",
     "output_type": "stream",
     "text": [
      "ICP converged. Fitness score: 1.50\n",
      "Frame : 762\n",
      "Error--------: 149.30340016927946\n",
      "Latent error above the threshold of 1.2\n",
      "Found 15301 lines. Skipped 11. Loaded 15290 points.\n"
     ]
    },
    {
     "name": "stderr",
     "output_type": "stream",
     "text": [
      " 75%|███████▌  | 764/1014 [11:50<03:14,  1.28it/s]"
     ]
    },
    {
     "name": "stdout",
     "output_type": "stream",
     "text": [
      "ICP converged. Fitness score: 1.35\n",
      "Frame : 763\n",
      "Error--------: 149.55832005831442\n",
      "Latent error above the threshold of 1.2\n",
      "Found 15598 lines. Skipped 11. Loaded 15587 points.\n"
     ]
    },
    {
     "name": "stderr",
     "output_type": "stream",
     "text": [
      " 75%|███████▌  | 765/1014 [11:51<03:19,  1.25it/s]"
     ]
    },
    {
     "name": "stdout",
     "output_type": "stream",
     "text": [
      "ICP converged. Fitness score: 1.53\n",
      "Frame : 764\n",
      "Error--------: 149.7516295844455\n",
      "Latent error above the threshold of 1.2\n",
      "Found 15949 lines. Skipped 11. Loaded 15938 points.\n"
     ]
    },
    {
     "name": "stderr",
     "output_type": "stream",
     "text": [
      " 76%|███████▌  | 766/1014 [11:52<03:21,  1.23it/s]"
     ]
    },
    {
     "name": "stdout",
     "output_type": "stream",
     "text": [
      "ICP converged. Fitness score: 1.42\n",
      "Frame : 765\n",
      "Error--------: 149.94444003647672\n",
      "Latent error above the threshold of 1.2\n",
      "Found 13250 lines. Skipped 11. Loaded 13239 points.\n"
     ]
    },
    {
     "name": "stderr",
     "output_type": "stream",
     "text": [
      " 76%|███████▌  | 767/1014 [11:53<03:16,  1.26it/s]"
     ]
    },
    {
     "name": "stdout",
     "output_type": "stream",
     "text": [
      "ICP converged. Fitness score: 1.57\n",
      "Frame : 766\n",
      "Error--------: 150.1062276459189\n",
      "Latent error above the threshold of 1.2\n",
      "Found 15353 lines. Skipped 11. Loaded 15342 points.\n"
     ]
    },
    {
     "name": "stderr",
     "output_type": "stream",
     "text": [
      " 76%|███████▌  | 768/1014 [11:54<03:16,  1.25it/s]"
     ]
    },
    {
     "name": "stdout",
     "output_type": "stream",
     "text": [
      "ICP converged. Fitness score: 1.48\n",
      "Frame : 767\n",
      "Error--------: 150.27221525962895\n",
      "Latent error above the threshold of 1.2\n",
      "Found 13977 lines. Skipped 11. Loaded 13966 points.\n"
     ]
    },
    {
     "name": "stderr",
     "output_type": "stream",
     "text": [
      " 76%|███████▌  | 769/1014 [11:55<03:16,  1.25it/s]"
     ]
    },
    {
     "name": "stdout",
     "output_type": "stream",
     "text": [
      "ICP converged. Fitness score: 1.59\n",
      "Frame : 768\n",
      "Error--------: 150.46373663075445\n",
      "Latent error above the threshold of 1.2\n",
      "Found 14913 lines. Skipped 11. Loaded 14902 points.\n"
     ]
    },
    {
     "name": "stderr",
     "output_type": "stream",
     "text": [
      " 76%|███████▌  | 770/1014 [11:55<03:09,  1.29it/s]"
     ]
    },
    {
     "name": "stdout",
     "output_type": "stream",
     "text": [
      "ICP converged. Fitness score: 1.37\n",
      "Frame : 769\n",
      "Error--------: 150.68976235864932\n",
      "Latent error above the threshold of 1.2\n",
      "Found 12946 lines. Skipped 11. Loaded 12935 points.\n"
     ]
    },
    {
     "name": "stderr",
     "output_type": "stream",
     "text": [
      " 76%|███████▌  | 771/1014 [11:56<03:16,  1.24it/s]"
     ]
    },
    {
     "name": "stdout",
     "output_type": "stream",
     "text": [
      "ICP converged. Fitness score: 2.86\n",
      "Frame : 770\n",
      "Error--------: 151.0035135248582\n",
      "Latent error above the threshold of 1.2\n",
      "Found 13417 lines. Skipped 11. Loaded 13406 points.\n"
     ]
    },
    {
     "name": "stderr",
     "output_type": "stream",
     "text": [
      " 76%|███████▌  | 772/1014 [11:57<03:08,  1.28it/s]"
     ]
    },
    {
     "name": "stdout",
     "output_type": "stream",
     "text": [
      "ICP converged. Fitness score: 1.44\n",
      "Frame : 771\n",
      "Error--------: 151.20764745298894\n",
      "Latent error above the threshold of 1.2\n",
      "Found 13933 lines. Skipped 11. Loaded 13922 points.\n"
     ]
    },
    {
     "name": "stderr",
     "output_type": "stream",
     "text": [
      " 76%|███████▌  | 773/1014 [11:58<03:07,  1.28it/s]"
     ]
    },
    {
     "name": "stdout",
     "output_type": "stream",
     "text": [
      "ICP converged. Fitness score: 1.83\n",
      "Frame : 772\n",
      "Error--------: 151.34620988728332\n",
      "Latent error above the threshold of 1.2\n",
      "Found 11380 lines. Skipped 11. Loaded 11369 points.\n"
     ]
    },
    {
     "name": "stderr",
     "output_type": "stream",
     "text": [
      " 76%|███████▋  | 774/1014 [11:58<03:01,  1.33it/s]"
     ]
    },
    {
     "name": "stdout",
     "output_type": "stream",
     "text": [
      "ICP converged. Fitness score: 1.23\n",
      "Frame : 773\n",
      "Error--------: 151.50402014131015\n",
      "Latent error above the threshold of 1.2\n",
      "Found 16057 lines. Skipped 11. Loaded 16046 points.\n"
     ]
    },
    {
     "name": "stderr",
     "output_type": "stream",
     "text": [
      " 76%|███████▋  | 775/1014 [11:59<03:05,  1.29it/s]"
     ]
    },
    {
     "name": "stdout",
     "output_type": "stream",
     "text": [
      "ICP converged. Fitness score: 2.02\n",
      "Frame : 774\n",
      "Error--------: 151.67755769657262\n",
      "Latent error above the threshold of 1.2\n",
      "Found 13592 lines. Skipped 11. Loaded 13581 points.\n"
     ]
    },
    {
     "name": "stderr",
     "output_type": "stream",
     "text": [
      " 77%|███████▋  | 776/1014 [12:00<03:00,  1.32it/s]"
     ]
    },
    {
     "name": "stdout",
     "output_type": "stream",
     "text": [
      "ICP converged. Fitness score: 1.27\n",
      "Frame : 775\n",
      "Error--------: 151.80776195308053\n",
      "Latent error above the threshold of 1.2\n",
      "Found 11650 lines. Skipped 11. Loaded 11639 points.\n"
     ]
    },
    {
     "name": "stderr",
     "output_type": "stream",
     "text": [
      " 77%|███████▋  | 777/1014 [12:01<02:58,  1.33it/s]"
     ]
    },
    {
     "name": "stdout",
     "output_type": "stream",
     "text": [
      "ICP converged. Fitness score: 1.94\n",
      "Frame : 776\n",
      "Error--------: 152.04221665693026\n",
      "Latent error above the threshold of 1.2\n",
      "Found 13020 lines. Skipped 11. Loaded 13009 points.\n"
     ]
    },
    {
     "name": "stderr",
     "output_type": "stream",
     "text": [
      " 77%|███████▋  | 778/1014 [12:01<02:57,  1.33it/s]"
     ]
    },
    {
     "name": "stdout",
     "output_type": "stream",
     "text": [
      "ICP converged. Fitness score: 1.37\n",
      "Frame : 777\n",
      "Error--------: 152.2816015713732\n",
      "Latent error above the threshold of 1.2\n",
      "Found 10614 lines. Skipped 11. Loaded 10603 points.\n"
     ]
    },
    {
     "name": "stderr",
     "output_type": "stream",
     "text": [
      " 77%|███████▋  | 779/1014 [12:02<02:55,  1.34it/s]"
     ]
    },
    {
     "name": "stdout",
     "output_type": "stream",
     "text": [
      "ICP converged. Fitness score: 2.07\n",
      "Frame : 778\n",
      "Error--------: 152.44957736950514\n",
      "Latent error above the threshold of 1.2\n",
      "Found 14632 lines. Skipped 11. Loaded 14621 points.\n"
     ]
    },
    {
     "name": "stderr",
     "output_type": "stream",
     "text": [
      " 77%|███████▋  | 780/1014 [12:03<02:56,  1.33it/s]"
     ]
    },
    {
     "name": "stdout",
     "output_type": "stream",
     "text": [
      "ICP converged. Fitness score: 1.55\n",
      "Frame : 779\n",
      "Error--------: 152.65438994235657\n",
      "Latent error above the threshold of 1.2\n",
      "Found 16550 lines. Skipped 11. Loaded 16539 points.\n"
     ]
    },
    {
     "name": "stderr",
     "output_type": "stream",
     "text": [
      " 77%|███████▋  | 781/1014 [12:04<03:03,  1.27it/s]"
     ]
    },
    {
     "name": "stdout",
     "output_type": "stream",
     "text": [
      "ICP converged. Fitness score: 2.42\n",
      "Frame : 780\n",
      "Error--------: 152.81920928468662\n",
      "Latent error above the threshold of 1.2\n",
      "Found 14538 lines. Skipped 11. Loaded 14527 points.\n"
     ]
    },
    {
     "name": "stderr",
     "output_type": "stream",
     "text": [
      " 77%|███████▋  | 782/1014 [12:05<03:11,  1.21it/s]"
     ]
    },
    {
     "name": "stdout",
     "output_type": "stream",
     "text": [
      "ICP converged. Fitness score: 3.09\n",
      "Frame : 781\n",
      "Error--------: 153.11020107023234\n",
      "Latent error above the threshold of 1.2\n",
      "Found 13696 lines. Skipped 11. Loaded 13685 points.\n"
     ]
    },
    {
     "name": "stderr",
     "output_type": "stream",
     "text": [
      " 77%|███████▋  | 783/1014 [12:05<03:05,  1.25it/s]"
     ]
    },
    {
     "name": "stdout",
     "output_type": "stream",
     "text": [
      "ICP converged. Fitness score: 2.71\n",
      "Frame : 782\n",
      "Error--------: 153.29460371430352\n",
      "Latent error above the threshold of 1.2\n",
      "Found 12456 lines. Skipped 11. Loaded 12445 points.\n"
     ]
    },
    {
     "name": "stderr",
     "output_type": "stream",
     "text": [
      " 77%|███████▋  | 784/1014 [12:06<03:03,  1.26it/s]"
     ]
    },
    {
     "name": "stdout",
     "output_type": "stream",
     "text": [
      "ICP converged. Fitness score: 2.14\n",
      "Frame : 783\n",
      "Error--------: 153.1786214940798\n",
      "Latent error above the threshold of 1.2\n",
      "Found 12456 lines. Skipped 11. Loaded 12445 points.\n"
     ]
    },
    {
     "name": "stderr",
     "output_type": "stream",
     "text": [
      " 77%|███████▋  | 785/1014 [12:07<02:59,  1.28it/s]"
     ]
    },
    {
     "name": "stdout",
     "output_type": "stream",
     "text": [
      "ICP converged. Fitness score: 2.46\n",
      "Frame : 784\n",
      "Error--------: 153.40830236471956\n",
      "Latent error above the threshold of 1.2\n",
      "Found 14195 lines. Skipped 11. Loaded 14184 points.\n"
     ]
    },
    {
     "name": "stderr",
     "output_type": "stream",
     "text": [
      " 78%|███████▊  | 786/1014 [12:08<03:07,  1.22it/s]"
     ]
    },
    {
     "name": "stdout",
     "output_type": "stream",
     "text": [
      "ICP converged. Fitness score: 2.07\n",
      "Frame : 785\n",
      "Error--------: 153.62702610459408\n",
      "Latent error above the threshold of 1.2\n",
      "Found 14096 lines. Skipped 11. Loaded 14085 points.\n"
     ]
    },
    {
     "name": "stderr",
     "output_type": "stream",
     "text": [
      " 78%|███████▊  | 787/1014 [12:09<03:05,  1.22it/s]"
     ]
    },
    {
     "name": "stdout",
     "output_type": "stream",
     "text": [
      "ICP converged. Fitness score: 2.51\n",
      "Frame : 786\n",
      "Error--------: 153.77836408866685\n",
      "Latent error above the threshold of 1.2\n",
      "Found 14308 lines. Skipped 11. Loaded 14297 points.\n"
     ]
    },
    {
     "name": "stderr",
     "output_type": "stream",
     "text": [
      " 78%|███████▊  | 788/1014 [12:10<03:13,  1.17it/s]"
     ]
    },
    {
     "name": "stdout",
     "output_type": "stream",
     "text": [
      "ICP converged. Fitness score: 2.40\n",
      "Frame : 787\n",
      "Error--------: 153.96939242596085\n",
      "Latent error above the threshold of 1.2\n",
      "Found 12728 lines. Skipped 11. Loaded 12717 points.\n"
     ]
    },
    {
     "name": "stderr",
     "output_type": "stream",
     "text": [
      " 78%|███████▊  | 789/1014 [12:10<03:07,  1.20it/s]"
     ]
    },
    {
     "name": "stdout",
     "output_type": "stream",
     "text": [
      "ICP converged. Fitness score: 3.02\n",
      "Frame : 788\n",
      "Error--------: 154.0947132270889\n",
      "Latent error above the threshold of 1.2\n",
      "Found 16244 lines. Skipped 11. Loaded 16233 points.\n"
     ]
    },
    {
     "name": "stderr",
     "output_type": "stream",
     "text": [
      " 78%|███████▊  | 790/1014 [12:11<03:10,  1.18it/s]"
     ]
    },
    {
     "name": "stdout",
     "output_type": "stream",
     "text": [
      "ICP converged. Fitness score: 2.73\n",
      "Frame : 789\n",
      "Error--------: 154.18750464724866\n",
      "Latent error above the threshold of 1.2\n",
      "Found 12129 lines. Skipped 11. Loaded 12118 points.\n"
     ]
    },
    {
     "name": "stderr",
     "output_type": "stream",
     "text": [
      " 78%|███████▊  | 791/1014 [12:12<03:05,  1.20it/s]"
     ]
    },
    {
     "name": "stdout",
     "output_type": "stream",
     "text": [
      "ICP converged. Fitness score: 3.11\n",
      "Frame : 790\n",
      "Error--------: 154.2739700589775\n",
      "Latent error above the threshold of 1.2\n",
      "Found 12733 lines. Skipped 11. Loaded 12722 points.\n"
     ]
    },
    {
     "name": "stderr",
     "output_type": "stream",
     "text": [
      " 78%|███████▊  | 792/1014 [12:13<03:04,  1.20it/s]"
     ]
    },
    {
     "name": "stdout",
     "output_type": "stream",
     "text": [
      "ICP converged. Fitness score: 2.74\n",
      "Frame : 791\n",
      "Error--------: 154.40007709828072\n",
      "Latent error above the threshold of 1.2\n",
      "Found 13783 lines. Skipped 11. Loaded 13772 points.\n"
     ]
    },
    {
     "name": "stderr",
     "output_type": "stream",
     "text": [
      " 78%|███████▊  | 793/1014 [12:14<03:10,  1.16it/s]"
     ]
    },
    {
     "name": "stdout",
     "output_type": "stream",
     "text": [
      "ICP converged. Fitness score: 1.67\n",
      "Frame : 792\n",
      "Error--------: 155.23090997197005\n",
      "Latent error above the threshold of 1.2\n",
      "Found 15308 lines. Skipped 11. Loaded 15297 points.\n"
     ]
    },
    {
     "name": "stderr",
     "output_type": "stream",
     "text": [
      " 78%|███████▊  | 794/1014 [12:15<03:10,  1.16it/s]"
     ]
    },
    {
     "name": "stdout",
     "output_type": "stream",
     "text": [
      "ICP converged. Fitness score: 2.88\n",
      "Frame : 793\n",
      "Error--------: 155.25465914726794\n",
      "Latent error above the threshold of 1.2\n",
      "Found 11684 lines. Skipped 11. Loaded 11673 points.\n"
     ]
    },
    {
     "name": "stderr",
     "output_type": "stream",
     "text": [
      " 78%|███████▊  | 795/1014 [12:15<03:00,  1.21it/s]"
     ]
    },
    {
     "name": "stdout",
     "output_type": "stream",
     "text": [
      "ICP converged. Fitness score: 3.41\n",
      "Frame : 794\n",
      "Error--------: 155.18063588970895\n",
      "Latent error above the threshold of 1.2\n",
      "Found 13315 lines. Skipped 11. Loaded 13304 points.\n"
     ]
    },
    {
     "name": "stderr",
     "output_type": "stream",
     "text": [
      " 79%|███████▊  | 796/1014 [12:16<02:54,  1.25it/s]"
     ]
    },
    {
     "name": "stdout",
     "output_type": "stream",
     "text": [
      "ICP converged. Fitness score: 2.94\n",
      "Frame : 795\n",
      "Error--------: 155.37274873647948\n",
      "Latent error above the threshold of 1.2\n",
      "Found 13033 lines. Skipped 11. Loaded 13022 points.\n"
     ]
    },
    {
     "name": "stderr",
     "output_type": "stream",
     "text": [
      " 79%|███████▊  | 797/1014 [12:17<02:51,  1.27it/s]"
     ]
    },
    {
     "name": "stdout",
     "output_type": "stream",
     "text": [
      "ICP converged. Fitness score: 4.27\n",
      "Frame : 796\n",
      "Error--------: 155.6028285991014\n",
      "Latent error above the threshold of 1.2\n",
      "Found 15369 lines. Skipped 11. Loaded 15358 points.\n"
     ]
    },
    {
     "name": "stderr",
     "output_type": "stream",
     "text": [
      " 79%|███████▊  | 798/1014 [12:18<02:54,  1.23it/s]"
     ]
    },
    {
     "name": "stdout",
     "output_type": "stream",
     "text": [
      "ICP converged. Fitness score: 3.58\n",
      "Frame : 797\n",
      "Error--------: 155.81498315640636\n",
      "Latent error above the threshold of 1.2\n",
      "Found 15515 lines. Skipped 11. Loaded 15504 points.\n"
     ]
    },
    {
     "name": "stderr",
     "output_type": "stream",
     "text": [
      " 79%|███████▉  | 799/1014 [12:19<02:54,  1.23it/s]"
     ]
    },
    {
     "name": "stdout",
     "output_type": "stream",
     "text": [
      "ICP converged. Fitness score: 4.56\n",
      "Frame : 798\n",
      "Error--------: 155.97328071888106\n",
      "Latent error above the threshold of 1.2\n",
      "Found 14933 lines. Skipped 11. Loaded 14922 points.\n"
     ]
    },
    {
     "name": "stderr",
     "output_type": "stream",
     "text": [
      " 79%|███████▉  | 800/1014 [12:19<02:55,  1.22it/s]"
     ]
    },
    {
     "name": "stdout",
     "output_type": "stream",
     "text": [
      "ICP converged. Fitness score: 3.90\n",
      "Frame : 799\n",
      "Error--------: 156.12269112811205\n",
      "Latent error above the threshold of 1.2\n",
      "Found 9600 lines. Skipped 11. Loaded 9589 points.\n"
     ]
    },
    {
     "name": "stderr",
     "output_type": "stream",
     "text": [
      " 79%|███████▉  | 801/1014 [12:20<02:48,  1.26it/s]"
     ]
    },
    {
     "name": "stdout",
     "output_type": "stream",
     "text": [
      "ICP converged. Fitness score: 4.31\n",
      "Frame : 800\n",
      "Error--------: 156.32460375172886\n",
      "Latent error above the threshold of 1.2\n",
      "Found 13714 lines. Skipped 11. Loaded 13703 points.\n"
     ]
    },
    {
     "name": "stderr",
     "output_type": "stream",
     "text": [
      " 79%|███████▉  | 802/1014 [12:21<02:51,  1.24it/s]"
     ]
    },
    {
     "name": "stdout",
     "output_type": "stream",
     "text": [
      "ICP converged. Fitness score: 4.25\n",
      "Frame : 801\n",
      "Error--------: 156.477879429839\n",
      "Latent error above the threshold of 1.2\n",
      "Found 11516 lines. Skipped 11. Loaded 11505 points.\n"
     ]
    },
    {
     "name": "stderr",
     "output_type": "stream",
     "text": [
      " 79%|███████▉  | 803/1014 [12:22<02:50,  1.24it/s]"
     ]
    },
    {
     "name": "stdout",
     "output_type": "stream",
     "text": [
      "ICP converged. Fitness score: 4.38\n",
      "Frame : 802\n",
      "Error--------: 156.64184165784087\n",
      "Latent error above the threshold of 1.2\n",
      "Found 14121 lines. Skipped 11. Loaded 14110 points.\n"
     ]
    },
    {
     "name": "stderr",
     "output_type": "stream",
     "text": [
      " 79%|███████▉  | 804/1014 [12:23<02:54,  1.21it/s]"
     ]
    },
    {
     "name": "stdout",
     "output_type": "stream",
     "text": [
      "ICP converged. Fitness score: 5.09\n",
      "Frame : 803\n",
      "Error--------: 156.7821514346614\n",
      "Latent error above the threshold of 1.2\n",
      "Found 12361 lines. Skipped 11. Loaded 12350 points.\n"
     ]
    },
    {
     "name": "stderr",
     "output_type": "stream",
     "text": [
      " 79%|███████▉  | 805/1014 [12:24<02:52,  1.21it/s]"
     ]
    },
    {
     "name": "stdout",
     "output_type": "stream",
     "text": [
      "ICP converged. Fitness score: 3.74\n",
      "Frame : 804\n",
      "Error--------: 157.03535527389377\n",
      "Latent error above the threshold of 1.2\n",
      "Found 12842 lines. Skipped 11. Loaded 12831 points.\n"
     ]
    },
    {
     "name": "stderr",
     "output_type": "stream",
     "text": [
      " 79%|███████▉  | 806/1014 [12:24<02:49,  1.23it/s]"
     ]
    },
    {
     "name": "stdout",
     "output_type": "stream",
     "text": [
      "ICP converged. Fitness score: 4.81\n",
      "Frame : 805\n",
      "Error--------: 157.20359469124836\n",
      "Latent error above the threshold of 1.2\n",
      "Found 12842 lines. Skipped 11. Loaded 12831 points.\n"
     ]
    },
    {
     "name": "stderr",
     "output_type": "stream",
     "text": [
      " 80%|███████▉  | 807/1014 [12:25<02:44,  1.26it/s]"
     ]
    },
    {
     "name": "stdout",
     "output_type": "stream",
     "text": [
      "ICP converged. Fitness score: 4.71\n",
      "Frame : 806\n",
      "Error--------: 157.36624984156796\n",
      "Latent error above the threshold of 1.2\n",
      "Found 12540 lines. Skipped 11. Loaded 12529 points.\n"
     ]
    },
    {
     "name": "stderr",
     "output_type": "stream",
     "text": [
      " 80%|███████▉  | 808/1014 [12:25<02:14,  1.54it/s]"
     ]
    },
    {
     "name": "stdout",
     "output_type": "stream",
     "text": [
      "ICP converged. Fitness score: 4.67\n",
      "Frame : 807\n",
      "Error--------: 157.5359807795584\n",
      "Latent error above the threshold of 1.2\n",
      "Found 14290 lines. Skipped 11. Loaded 14279 points.\n"
     ]
    },
    {
     "name": "stderr",
     "output_type": "stream",
     "text": [
      " 80%|███████▉  | 809/1014 [12:26<02:27,  1.39it/s]"
     ]
    },
    {
     "name": "stdout",
     "output_type": "stream",
     "text": [
      "ICP converged. Fitness score: 4.95\n",
      "Frame : 808\n",
      "Error--------: 157.71695114103514\n",
      "Latent error above the threshold of 1.2\n",
      "Found 14150 lines. Skipped 11. Loaded 14139 points.\n"
     ]
    },
    {
     "name": "stderr",
     "output_type": "stream",
     "text": [
      " 80%|███████▉  | 810/1014 [12:27<02:31,  1.34it/s]"
     ]
    },
    {
     "name": "stdout",
     "output_type": "stream",
     "text": [
      "ICP converged. Fitness score: 4.59\n",
      "Frame : 809\n",
      "Error--------: 157.8793291164759\n",
      "Latent error above the threshold of 1.2\n",
      "Found 17340 lines. Skipped 11. Loaded 17329 points.\n"
     ]
    },
    {
     "name": "stderr",
     "output_type": "stream",
     "text": [
      " 80%|███████▉  | 811/1014 [12:28<02:46,  1.22it/s]"
     ]
    },
    {
     "name": "stdout",
     "output_type": "stream",
     "text": [
      "ICP converged. Fitness score: 5.10\n",
      "Frame : 810\n",
      "Error--------: 158.05086401275287\n",
      "Latent error above the threshold of 1.2\n",
      "Found 11556 lines. Skipped 11. Loaded 11545 points.\n"
     ]
    },
    {
     "name": "stderr",
     "output_type": "stream",
     "text": [
      " 80%|████████  | 812/1014 [12:29<02:47,  1.21it/s]"
     ]
    },
    {
     "name": "stdout",
     "output_type": "stream",
     "text": [
      "ICP converged. Fitness score: 4.57\n",
      "Frame : 811\n",
      "Error--------: 158.38067371990383\n",
      "Latent error above the threshold of 1.2\n",
      "Found 12922 lines. Skipped 11. Loaded 12911 points.\n"
     ]
    },
    {
     "name": "stderr",
     "output_type": "stream",
     "text": [
      " 80%|████████  | 813/1014 [12:30<02:46,  1.21it/s]"
     ]
    },
    {
     "name": "stdout",
     "output_type": "stream",
     "text": [
      "ICP converged. Fitness score: 4.82\n",
      "Frame : 812\n",
      "Error--------: 158.48120360292248\n",
      "Latent error above the threshold of 1.2\n",
      "Found 11836 lines. Skipped 11. Loaded 11825 points.\n"
     ]
    },
    {
     "name": "stderr",
     "output_type": "stream",
     "text": [
      " 80%|████████  | 814/1014 [12:31<02:45,  1.21it/s]"
     ]
    },
    {
     "name": "stdout",
     "output_type": "stream",
     "text": [
      "ICP converged. Fitness score: 4.53\n",
      "Frame : 813\n",
      "Error--------: 158.68820780962386\n",
      "Latent error above the threshold of 1.2\n",
      "Found 11913 lines. Skipped 11. Loaded 11902 points.\n"
     ]
    },
    {
     "name": "stderr",
     "output_type": "stream",
     "text": [
      " 80%|████████  | 815/1014 [12:31<02:46,  1.20it/s]"
     ]
    },
    {
     "name": "stdout",
     "output_type": "stream",
     "text": [
      "ICP converged. Fitness score: 4.96\n",
      "Frame : 814\n",
      "Error--------: 158.8310419130484\n",
      "Latent error above the threshold of 1.2\n",
      "Found 11850 lines. Skipped 11. Loaded 11839 points.\n"
     ]
    },
    {
     "name": "stderr",
     "output_type": "stream",
     "text": [
      " 80%|████████  | 816/1014 [12:32<02:24,  1.37it/s]"
     ]
    },
    {
     "name": "stdout",
     "output_type": "stream",
     "text": [
      "ICP converged. Fitness score: 2.66\n",
      "Frame : 815\n",
      "Error--------: 158.99959263337112\n",
      "Latent error above the threshold of 1.2\n",
      "Found 13779 lines. Skipped 11. Loaded 13768 points.\n"
     ]
    },
    {
     "name": "stderr",
     "output_type": "stream",
     "text": [
      " 81%|████████  | 817/1014 [12:33<02:53,  1.14it/s]"
     ]
    },
    {
     "name": "stdout",
     "output_type": "stream",
     "text": [
      "ICP converged. Fitness score: 4.61\n",
      "Frame : 816\n",
      "Error--------: 159.13597035425173\n",
      "Latent error above the threshold of 1.2\n",
      "Found 14172 lines. Skipped 11. Loaded 14161 points.\n"
     ]
    },
    {
     "name": "stderr",
     "output_type": "stream",
     "text": [
      " 81%|████████  | 818/1014 [12:34<02:48,  1.16it/s]"
     ]
    },
    {
     "name": "stdout",
     "output_type": "stream",
     "text": [
      "ICP converged. Fitness score: 4.61\n",
      "Frame : 817\n",
      "Error--------: 159.32767730937005\n",
      "Latent error above the threshold of 1.2\n",
      "Found 13677 lines. Skipped 11. Loaded 13666 points.\n"
     ]
    },
    {
     "name": "stderr",
     "output_type": "stream",
     "text": [
      " 81%|████████  | 819/1014 [12:35<02:48,  1.16it/s]"
     ]
    },
    {
     "name": "stdout",
     "output_type": "stream",
     "text": [
      "ICP converged. Fitness score: 4.80\n",
      "Frame : 818\n",
      "Error--------: 159.52576749045457\n",
      "Latent error above the threshold of 1.2\n",
      "Found 14285 lines. Skipped 11. Loaded 14274 points.\n"
     ]
    },
    {
     "name": "stderr",
     "output_type": "stream",
     "text": [
      " 81%|████████  | 820/1014 [12:36<03:23,  1.05s/it]"
     ]
    },
    {
     "name": "stdout",
     "output_type": "stream",
     "text": [
      "ICP converged. Fitness score: 4.59\n",
      "Frame : 819\n",
      "Error--------: 159.67540743780833\n",
      "Latent error above the threshold of 1.2\n",
      "Found 13308 lines. Skipped 11. Loaded 13297 points.\n"
     ]
    },
    {
     "name": "stderr",
     "output_type": "stream",
     "text": [
      " 81%|████████  | 821/1014 [12:37<03:01,  1.06it/s]"
     ]
    },
    {
     "name": "stdout",
     "output_type": "stream",
     "text": [
      "ICP converged. Fitness score: 4.76\n",
      "Frame : 820\n",
      "Error--------: 159.81168938392352\n",
      "Latent error above the threshold of 1.2\n",
      "Found 14080 lines. Skipped 11. Loaded 14069 points.\n"
     ]
    },
    {
     "name": "stderr",
     "output_type": "stream",
     "text": [
      " 81%|████████  | 822/1014 [12:38<02:52,  1.11it/s]"
     ]
    },
    {
     "name": "stdout",
     "output_type": "stream",
     "text": [
      "ICP converged. Fitness score: 4.48\n",
      "Frame : 821\n",
      "Error--------: 159.9878316179493\n",
      "Latent error above the threshold of 1.2\n",
      "Found 14267 lines. Skipped 11. Loaded 14256 points.\n"
     ]
    },
    {
     "name": "stderr",
     "output_type": "stream",
     "text": [
      " 81%|████████  | 823/1014 [12:39<02:53,  1.10it/s]"
     ]
    },
    {
     "name": "stdout",
     "output_type": "stream",
     "text": [
      "ICP converged. Fitness score: 4.86\n",
      "Frame : 822\n",
      "Error--------: 160.13193340575305\n",
      "Latent error above the threshold of 1.2\n",
      "Found 12576 lines. Skipped 11. Loaded 12565 points.\n"
     ]
    },
    {
     "name": "stderr",
     "output_type": "stream",
     "text": [
      " 81%|████████▏ | 824/1014 [12:39<02:35,  1.22it/s]"
     ]
    },
    {
     "name": "stdout",
     "output_type": "stream",
     "text": [
      "ICP converged. Fitness score: 4.79\n",
      "Frame : 823\n",
      "Error--------: 160.29943450393046\n",
      "Latent error above the threshold of 1.2\n",
      "Found 11939 lines. Skipped 11. Loaded 11928 points.\n"
     ]
    },
    {
     "name": "stderr",
     "output_type": "stream",
     "text": [
      " 81%|████████▏ | 825/1014 [12:40<02:34,  1.22it/s]"
     ]
    },
    {
     "name": "stdout",
     "output_type": "stream",
     "text": [
      "ICP converged. Fitness score: 4.78\n",
      "Frame : 824\n",
      "Error--------: 160.44274393180456\n",
      "Latent error above the threshold of 1.2\n",
      "Found 11043 lines. Skipped 11. Loaded 11032 points.\n"
     ]
    },
    {
     "name": "stderr",
     "output_type": "stream",
     "text": [
      " 81%|████████▏ | 826/1014 [12:41<02:28,  1.27it/s]"
     ]
    },
    {
     "name": "stdout",
     "output_type": "stream",
     "text": [
      "ICP converged. Fitness score: 4.55\n",
      "Frame : 825\n",
      "Error--------: 160.57355333015983\n",
      "Latent error above the threshold of 1.2\n",
      "Found 11880 lines. Skipped 11. Loaded 11869 points.\n"
     ]
    },
    {
     "name": "stderr",
     "output_type": "stream",
     "text": [
      " 82%|████████▏ | 827/1014 [12:42<02:23,  1.30it/s]"
     ]
    },
    {
     "name": "stdout",
     "output_type": "stream",
     "text": [
      "ICP converged. Fitness score: 2.73\n",
      "Frame : 826\n",
      "Error--------: 160.83036327388817\n",
      "Latent error above the threshold of 1.2\n",
      "Found 10754 lines. Skipped 11. Loaded 10743 points.\n"
     ]
    },
    {
     "name": "stderr",
     "output_type": "stream",
     "text": [
      " 82%|████████▏ | 828/1014 [12:42<02:22,  1.31it/s]"
     ]
    },
    {
     "name": "stdout",
     "output_type": "stream",
     "text": [
      "ICP converged. Fitness score: 4.40\n",
      "Frame : 827\n",
      "Error--------: 160.98097000372323\n",
      "Latent error above the threshold of 1.2\n",
      "Found 13167 lines. Skipped 11. Loaded 13156 points.\n"
     ]
    },
    {
     "name": "stderr",
     "output_type": "stream",
     "text": [
      " 82%|████████▏ | 829/1014 [12:43<02:26,  1.26it/s]"
     ]
    },
    {
     "name": "stdout",
     "output_type": "stream",
     "text": [
      "ICP converged. Fitness score: 5.08\n",
      "Frame : 828\n",
      "Error--------: 161.197361407032\n",
      "Latent error above the threshold of 1.2\n",
      "Found 12926 lines. Skipped 11. Loaded 12915 points.\n"
     ]
    },
    {
     "name": "stderr",
     "output_type": "stream",
     "text": [
      " 82%|████████▏ | 830/1014 [12:44<02:30,  1.23it/s]"
     ]
    },
    {
     "name": "stdout",
     "output_type": "stream",
     "text": [
      "ICP converged. Fitness score: 4.66\n",
      "Frame : 829\n",
      "Error--------: 161.38693452162187\n",
      "Latent error above the threshold of 1.2\n",
      "Found 15366 lines. Skipped 11. Loaded 15355 points.\n"
     ]
    },
    {
     "name": "stderr",
     "output_type": "stream",
     "text": [
      " 82%|████████▏ | 831/1014 [12:45<02:28,  1.23it/s]"
     ]
    },
    {
     "name": "stdout",
     "output_type": "stream",
     "text": [
      "ICP converged. Fitness score: 4.82\n",
      "Frame : 830\n",
      "Error--------: 161.5128938822199\n",
      "Latent error above the threshold of 1.2\n",
      "Found 13073 lines. Skipped 11. Loaded 13062 points.\n"
     ]
    },
    {
     "name": "stderr",
     "output_type": "stream",
     "text": [
      " 82%|████████▏ | 832/1014 [12:46<02:27,  1.23it/s]"
     ]
    },
    {
     "name": "stdout",
     "output_type": "stream",
     "text": [
      "ICP converged. Fitness score: 4.41\n",
      "Frame : 831\n",
      "Error--------: 161.7029220149258\n",
      "Latent error above the threshold of 1.2\n",
      "Found 12883 lines. Skipped 11. Loaded 12872 points.\n"
     ]
    },
    {
     "name": "stderr",
     "output_type": "stream",
     "text": [
      " 82%|████████▏ | 833/1014 [12:46<02:17,  1.32it/s]"
     ]
    },
    {
     "name": "stdout",
     "output_type": "stream",
     "text": [
      "ICP converged. Fitness score: 4.74\n",
      "Frame : 832\n",
      "Error--------: 161.85789949308906\n",
      "Latent error above the threshold of 1.2\n",
      "Found 14181 lines. Skipped 11. Loaded 14170 points.\n"
     ]
    },
    {
     "name": "stderr",
     "output_type": "stream",
     "text": [
      " 82%|████████▏ | 834/1014 [12:47<02:20,  1.28it/s]"
     ]
    },
    {
     "name": "stdout",
     "output_type": "stream",
     "text": [
      "ICP converged. Fitness score: 4.07\n",
      "Frame : 833\n",
      "Error--------: 162.02354477996445\n",
      "Latent error above the threshold of 1.2\n",
      "Found 12616 lines. Skipped 11. Loaded 12605 points.\n"
     ]
    },
    {
     "name": "stderr",
     "output_type": "stream",
     "text": [
      " 82%|████████▏ | 835/1014 [12:48<02:21,  1.26it/s]"
     ]
    },
    {
     "name": "stdout",
     "output_type": "stream",
     "text": [
      "ICP converged. Fitness score: 4.44\n",
      "Frame : 834\n",
      "Error--------: 162.1544965949125\n",
      "Latent error above the threshold of 1.2\n",
      "Found 10713 lines. Skipped 11. Loaded 10702 points.\n"
     ]
    },
    {
     "name": "stderr",
     "output_type": "stream",
     "text": [
      " 82%|████████▏ | 836/1014 [12:48<02:07,  1.40it/s]"
     ]
    },
    {
     "name": "stdout",
     "output_type": "stream",
     "text": [
      "ICP converged. Fitness score: 3.94\n",
      "Frame : 835\n",
      "Error--------: 162.32230458870123\n",
      "Latent error above the threshold of 1.2\n",
      "Found 12720 lines. Skipped 11. Loaded 12709 points.\n"
     ]
    },
    {
     "name": "stderr",
     "output_type": "stream",
     "text": [
      " 83%|████████▎ | 837/1014 [12:49<02:07,  1.38it/s]"
     ]
    },
    {
     "name": "stdout",
     "output_type": "stream",
     "text": [
      "ICP converged. Fitness score: 4.53\n",
      "Frame : 836\n",
      "Error--------: 162.50088296345865\n",
      "Latent error above the threshold of 1.2\n",
      "Found 13946 lines. Skipped 11. Loaded 13935 points.\n"
     ]
    },
    {
     "name": "stderr",
     "output_type": "stream",
     "text": [
      " 83%|████████▎ | 838/1014 [12:50<02:11,  1.34it/s]"
     ]
    },
    {
     "name": "stdout",
     "output_type": "stream",
     "text": [
      "ICP converged. Fitness score: 2.57\n",
      "Frame : 837\n",
      "Error--------: 162.6509130566713\n",
      "Latent error above the threshold of 1.2\n",
      "Found 12256 lines. Skipped 11. Loaded 12245 points.\n"
     ]
    },
    {
     "name": "stderr",
     "output_type": "stream",
     "text": [
      " 83%|████████▎ | 839/1014 [12:51<02:17,  1.27it/s]"
     ]
    },
    {
     "name": "stdout",
     "output_type": "stream",
     "text": [
      "ICP converged. Fitness score: 4.70\n",
      "Frame : 838\n",
      "Error--------: 162.83235634235155\n",
      "Latent error above the threshold of 1.2\n",
      "Found 12750 lines. Skipped 11. Loaded 12739 points.\n"
     ]
    },
    {
     "name": "stderr",
     "output_type": "stream",
     "text": [
      " 83%|████████▎ | 840/1014 [12:52<02:14,  1.29it/s]"
     ]
    },
    {
     "name": "stdout",
     "output_type": "stream",
     "text": [
      "ICP converged. Fitness score: 3.80\n",
      "Frame : 839\n",
      "Error--------: 163.05267274863388\n",
      "Latent error above the threshold of 1.2\n",
      "Found 16018 lines. Skipped 11. Loaded 16007 points.\n"
     ]
    },
    {
     "name": "stderr",
     "output_type": "stream",
     "text": [
      " 83%|████████▎ | 841/1014 [12:53<02:18,  1.25it/s]"
     ]
    },
    {
     "name": "stdout",
     "output_type": "stream",
     "text": [
      "ICP converged. Fitness score: 4.69\n",
      "Frame : 840\n",
      "Error--------: 163.17836789836392\n",
      "Latent error above the threshold of 1.2\n",
      "Found 11000 lines. Skipped 11. Loaded 10989 points.\n"
     ]
    },
    {
     "name": "stderr",
     "output_type": "stream",
     "text": [
      " 83%|████████▎ | 842/1014 [12:53<02:14,  1.28it/s]"
     ]
    },
    {
     "name": "stdout",
     "output_type": "stream",
     "text": [
      "ICP converged. Fitness score: 3.83\n",
      "Frame : 841\n",
      "Error--------: 163.30400375595946\n",
      "Latent error above the threshold of 1.2\n",
      "Found 11000 lines. Skipped 11. Loaded 10989 points.\n"
     ]
    },
    {
     "name": "stderr",
     "output_type": "stream",
     "text": [
      " 83%|████████▎ | 843/1014 [12:54<02:08,  1.33it/s]"
     ]
    },
    {
     "name": "stdout",
     "output_type": "stream",
     "text": [
      "ICP converged. Fitness score: 4.43\n",
      "Frame : 842\n",
      "Error--------: 163.48625147646663\n",
      "Latent error above the threshold of 1.2\n",
      "Found 12379 lines. Skipped 11. Loaded 12368 points.\n"
     ]
    },
    {
     "name": "stderr",
     "output_type": "stream",
     "text": [
      " 83%|████████▎ | 844/1014 [12:55<02:10,  1.30it/s]"
     ]
    },
    {
     "name": "stdout",
     "output_type": "stream",
     "text": [
      "ICP converged. Fitness score: 4.09\n",
      "Frame : 843\n",
      "Error--------: 163.6882958997398\n",
      "Latent error above the threshold of 1.2\n",
      "Found 14062 lines. Skipped 11. Loaded 14051 points.\n"
     ]
    },
    {
     "name": "stderr",
     "output_type": "stream",
     "text": [
      " 83%|████████▎ | 845/1014 [12:56<02:16,  1.24it/s]"
     ]
    },
    {
     "name": "stdout",
     "output_type": "stream",
     "text": [
      "ICP converged. Fitness score: 4.57\n",
      "Frame : 844\n",
      "Error--------: 163.87863911799263\n",
      "Latent error above the threshold of 1.2\n",
      "Found 13255 lines. Skipped 11. Loaded 13244 points.\n"
     ]
    },
    {
     "name": "stderr",
     "output_type": "stream",
     "text": [
      " 83%|████████▎ | 846/1014 [12:56<02:14,  1.25it/s]"
     ]
    },
    {
     "name": "stdout",
     "output_type": "stream",
     "text": [
      "ICP converged. Fitness score: 3.85\n",
      "Frame : 845\n",
      "Error--------: 164.01089301585833\n",
      "Latent error above the threshold of 1.2\n",
      "Found 11734 lines. Skipped 11. Loaded 11723 points.\n"
     ]
    },
    {
     "name": "stderr",
     "output_type": "stream",
     "text": [
      " 84%|████████▎ | 847/1014 [12:57<02:11,  1.27it/s]"
     ]
    },
    {
     "name": "stdout",
     "output_type": "stream",
     "text": [
      "ICP converged. Fitness score: 4.63\n",
      "Frame : 846\n",
      "Error--------: 164.17160206603216\n",
      "Latent error above the threshold of 1.2\n",
      "Found 11251 lines. Skipped 11. Loaded 11240 points.\n"
     ]
    },
    {
     "name": "stderr",
     "output_type": "stream",
     "text": [
      " 84%|████████▎ | 848/1014 [12:58<02:10,  1.27it/s]"
     ]
    },
    {
     "name": "stdout",
     "output_type": "stream",
     "text": [
      "ICP converged. Fitness score: 4.02\n",
      "Frame : 847\n",
      "Error--------: 164.33705302457864\n",
      "Latent error above the threshold of 1.2\n",
      "Found 13561 lines. Skipped 11. Loaded 13550 points.\n"
     ]
    },
    {
     "name": "stderr",
     "output_type": "stream",
     "text": [
      " 84%|████████▎ | 849/1014 [12:59<02:13,  1.23it/s]"
     ]
    },
    {
     "name": "stdout",
     "output_type": "stream",
     "text": [
      "ICP converged. Fitness score: 2.70\n",
      "Frame : 848\n",
      "Error--------: 164.4806642976848\n",
      "Latent error above the threshold of 1.2\n",
      "Found 12217 lines. Skipped 11. Loaded 12206 points.\n"
     ]
    },
    {
     "name": "stderr",
     "output_type": "stream",
     "text": [
      " 84%|████████▍ | 850/1014 [13:00<02:11,  1.25it/s]"
     ]
    },
    {
     "name": "stdout",
     "output_type": "stream",
     "text": [
      "ICP converged. Fitness score: 4.30\n",
      "Frame : 849\n",
      "Error--------: 164.6190044660551\n",
      "Latent error above the threshold of 1.2\n",
      "Found 12410 lines. Skipped 11. Loaded 12399 points.\n"
     ]
    },
    {
     "name": "stderr",
     "output_type": "stream",
     "text": [
      " 84%|████████▍ | 851/1014 [13:00<02:09,  1.26it/s]"
     ]
    },
    {
     "name": "stdout",
     "output_type": "stream",
     "text": [
      "ICP converged. Fitness score: 4.84\n",
      "Frame : 850\n",
      "Error--------: 164.79264541829323\n",
      "Latent error above the threshold of 1.2\n",
      "Found 11128 lines. Skipped 11. Loaded 11117 points.\n"
     ]
    },
    {
     "name": "stderr",
     "output_type": "stream",
     "text": [
      " 84%|████████▍ | 852/1014 [13:01<02:10,  1.24it/s]"
     ]
    },
    {
     "name": "stdout",
     "output_type": "stream",
     "text": [
      "ICP converged. Fitness score: 4.29\n",
      "Frame : 851\n",
      "Error--------: 164.97112179736325\n",
      "Latent error above the threshold of 1.2\n",
      "Found 11056 lines. Skipped 11. Loaded 11045 points.\n"
     ]
    },
    {
     "name": "stderr",
     "output_type": "stream",
     "text": [
      " 84%|████████▍ | 853/1014 [13:02<02:07,  1.26it/s]"
     ]
    },
    {
     "name": "stdout",
     "output_type": "stream",
     "text": [
      "ICP converged. Fitness score: 4.67\n",
      "Frame : 852\n",
      "Error--------: 165.11191204666105\n",
      "Latent error above the threshold of 1.2\n",
      "Found 13706 lines. Skipped 11. Loaded 13695 points.\n"
     ]
    },
    {
     "name": "stderr",
     "output_type": "stream",
     "text": [
      " 84%|████████▍ | 854/1014 [13:03<02:05,  1.28it/s]"
     ]
    },
    {
     "name": "stdout",
     "output_type": "stream",
     "text": [
      "ICP converged. Fitness score: 4.23\n",
      "Frame : 853\n",
      "Error--------: 165.27260000116456\n",
      "Latent error above the threshold of 1.2\n",
      "Found 12017 lines. Skipped 11. Loaded 12006 points.\n"
     ]
    },
    {
     "name": "stderr",
     "output_type": "stream",
     "text": [
      " 84%|████████▍ | 855/1014 [13:03<02:01,  1.31it/s]"
     ]
    },
    {
     "name": "stdout",
     "output_type": "stream",
     "text": [
      "ICP converged. Fitness score: 4.74\n",
      "Frame : 854\n",
      "Error--------: 165.44624287885753\n",
      "Latent error above the threshold of 1.2\n",
      "Found 13318 lines. Skipped 11. Loaded 13307 points.\n"
     ]
    },
    {
     "name": "stderr",
     "output_type": "stream",
     "text": [
      " 84%|████████▍ | 856/1014 [13:04<02:05,  1.26it/s]"
     ]
    },
    {
     "name": "stdout",
     "output_type": "stream",
     "text": [
      "ICP converged. Fitness score: 4.58\n",
      "Frame : 855\n",
      "Error--------: 165.58918628580952\n",
      "Latent error above the threshold of 1.2\n",
      "Found 9852 lines. Skipped 11. Loaded 9841 points.\n"
     ]
    },
    {
     "name": "stderr",
     "output_type": "stream",
     "text": [
      " 85%|████████▍ | 857/1014 [13:05<02:01,  1.30it/s]"
     ]
    },
    {
     "name": "stdout",
     "output_type": "stream",
     "text": [
      "ICP converged. Fitness score: 4.50\n",
      "Frame : 856\n",
      "Error--------: 165.76562999261142\n",
      "Latent error above the threshold of 1.2\n",
      "Found 12434 lines. Skipped 11. Loaded 12423 points.\n"
     ]
    },
    {
     "name": "stderr",
     "output_type": "stream",
     "text": [
      " 85%|████████▍ | 858/1014 [13:06<01:59,  1.31it/s]"
     ]
    },
    {
     "name": "stdout",
     "output_type": "stream",
     "text": [
      "ICP converged. Fitness score: 4.14\n",
      "Frame : 857\n",
      "Error--------: 165.92440458333903\n",
      "Latent error above the threshold of 1.2\n",
      "Found 10236 lines. Skipped 11. Loaded 10225 points.\n"
     ]
    },
    {
     "name": "stderr",
     "output_type": "stream",
     "text": [
      " 85%|████████▍ | 859/1014 [13:06<01:54,  1.36it/s]"
     ]
    },
    {
     "name": "stdout",
     "output_type": "stream",
     "text": [
      "ICP converged. Fitness score: 4.20\n",
      "Frame : 858\n",
      "Error--------: 166.05235851072575\n",
      "Latent error above the threshold of 1.2\n",
      "Found 12467 lines. Skipped 11. Loaded 12456 points.\n"
     ]
    },
    {
     "name": "stderr",
     "output_type": "stream",
     "text": [
      " 85%|████████▍ | 860/1014 [13:07<01:57,  1.32it/s]"
     ]
    },
    {
     "name": "stdout",
     "output_type": "stream",
     "text": [
      "ICP converged. Fitness score: 2.23\n",
      "Frame : 859\n",
      "Error--------: 166.20101329677604\n",
      "Latent error above the threshold of 1.2\n",
      "Found 11559 lines. Skipped 11. Loaded 11548 points.\n"
     ]
    },
    {
     "name": "stderr",
     "output_type": "stream",
     "text": [
      " 85%|████████▍ | 861/1014 [13:08<01:53,  1.34it/s]"
     ]
    },
    {
     "name": "stdout",
     "output_type": "stream",
     "text": [
      "ICP converged. Fitness score: 4.52\n",
      "Frame : 860\n",
      "Error--------: 166.33726220986574\n",
      "Latent error above the threshold of 1.2\n",
      "Found 14188 lines. Skipped 11. Loaded 14177 points.\n"
     ]
    },
    {
     "name": "stderr",
     "output_type": "stream",
     "text": [
      " 85%|████████▌ | 862/1014 [13:09<01:57,  1.29it/s]"
     ]
    },
    {
     "name": "stdout",
     "output_type": "stream",
     "text": [
      "ICP converged. Fitness score: 4.21\n",
      "Frame : 861\n",
      "Error--------: 166.5284018308937\n",
      "Latent error above the threshold of 1.2\n",
      "Found 14586 lines. Skipped 11. Loaded 14575 points.\n"
     ]
    },
    {
     "name": "stderr",
     "output_type": "stream",
     "text": [
      " 85%|████████▌ | 863/1014 [13:10<02:05,  1.20it/s]"
     ]
    },
    {
     "name": "stdout",
     "output_type": "stream",
     "text": [
      "ICP converged. Fitness score: 4.68\n",
      "Frame : 862\n",
      "Error--------: 166.6554751988596\n",
      "Latent error above the threshold of 1.2\n",
      "Found 11278 lines. Skipped 11. Loaded 11267 points.\n"
     ]
    },
    {
     "name": "stderr",
     "output_type": "stream",
     "text": [
      " 85%|████████▌ | 864/1014 [13:10<01:40,  1.49it/s]"
     ]
    },
    {
     "name": "stdout",
     "output_type": "stream",
     "text": [
      "ICP converged. Fitness score: 4.12\n",
      "Frame : 863\n",
      "Error--------: 166.87499106275882\n",
      "Latent error above the threshold of 1.2\n",
      "Found 11863 lines. Skipped 11. Loaded 11852 points.\n"
     ]
    },
    {
     "name": "stderr",
     "output_type": "stream",
     "text": [
      " 85%|████████▌ | 865/1014 [13:11<01:45,  1.41it/s]"
     ]
    },
    {
     "name": "stdout",
     "output_type": "stream",
     "text": [
      "ICP converged. Fitness score: 4.36\n",
      "Frame : 864\n",
      "Error--------: 167.05793332706565\n",
      "Latent error above the threshold of 1.2\n",
      "Found 11863 lines. Skipped 11. Loaded 11852 points.\n"
     ]
    },
    {
     "name": "stderr",
     "output_type": "stream",
     "text": [
      " 85%|████████▌ | 866/1014 [13:11<01:25,  1.73it/s]"
     ]
    },
    {
     "name": "stdout",
     "output_type": "stream",
     "text": [
      "ICP converged. Fitness score: 4.07\n",
      "Frame : 865\n",
      "Error--------: 167.2092923660033\n",
      "Latent error above the threshold of 1.2\n",
      "Found 16137 lines. Skipped 11. Loaded 16126 points.\n"
     ]
    },
    {
     "name": "stderr",
     "output_type": "stream",
     "text": [
      " 86%|████████▌ | 867/1014 [13:12<01:37,  1.51it/s]"
     ]
    },
    {
     "name": "stdout",
     "output_type": "stream",
     "text": [
      "ICP converged. Fitness score: 4.61\n",
      "Frame : 866\n",
      "Error--------: 167.28283346088162\n",
      "Latent error above the threshold of 1.2\n",
      "Found 11532 lines. Skipped 11. Loaded 11521 points.\n"
     ]
    },
    {
     "name": "stderr",
     "output_type": "stream",
     "text": [
      " 86%|████████▌ | 868/1014 [13:12<01:22,  1.78it/s]"
     ]
    },
    {
     "name": "stdout",
     "output_type": "stream",
     "text": [
      "ICP converged. Fitness score: 4.05\n",
      "Frame : 867\n",
      "Error--------: 167.44986094495596\n",
      "Latent error above the threshold of 1.2\n",
      "Found 11986 lines. Skipped 11. Loaded 11975 points.\n"
     ]
    },
    {
     "name": "stderr",
     "output_type": "stream",
     "text": [
      " 86%|████████▌ | 869/1014 [13:13<01:29,  1.62it/s]"
     ]
    },
    {
     "name": "stdout",
     "output_type": "stream",
     "text": [
      "ICP converged. Fitness score: 4.58\n",
      "Frame : 868\n",
      "Error--------: 167.59604120372938\n",
      "Latent error above the threshold of 1.2\n",
      "Found 12109 lines. Skipped 11. Loaded 12098 points.\n"
     ]
    },
    {
     "name": "stderr",
     "output_type": "stream",
     "text": [
      " 86%|████████▌ | 870/1014 [13:14<01:36,  1.50it/s]"
     ]
    },
    {
     "name": "stdout",
     "output_type": "stream",
     "text": [
      "ICP converged. Fitness score: 3.54\n",
      "Frame : 869\n",
      "Error--------: 167.77000577524623\n",
      "Latent error above the threshold of 1.2\n",
      "Found 14324 lines. Skipped 11. Loaded 14313 points.\n"
     ]
    },
    {
     "name": "stderr",
     "output_type": "stream",
     "text": [
      " 86%|████████▌ | 871/1014 [13:15<01:48,  1.32it/s]"
     ]
    },
    {
     "name": "stdout",
     "output_type": "stream",
     "text": [
      "ICP converged. Fitness score: 2.71\n",
      "Frame : 870\n",
      "Error--------: 167.87497800671827\n",
      "Latent error above the threshold of 1.2\n",
      "Found 13591 lines. Skipped 11. Loaded 13580 points.\n"
     ]
    },
    {
     "name": "stderr",
     "output_type": "stream",
     "text": [
      " 86%|████████▌ | 872/1014 [13:16<01:47,  1.32it/s]"
     ]
    },
    {
     "name": "stdout",
     "output_type": "stream",
     "text": [
      "ICP converged. Fitness score: 5.44\n",
      "Frame : 871\n",
      "Error--------: 168.00911946169867\n",
      "Latent error above the threshold of 1.2\n",
      "Found 13004 lines. Skipped 11. Loaded 12993 points.\n"
     ]
    },
    {
     "name": "stderr",
     "output_type": "stream",
     "text": [
      " 86%|████████▌ | 873/1014 [13:16<01:47,  1.32it/s]"
     ]
    },
    {
     "name": "stdout",
     "output_type": "stream",
     "text": [
      "ICP converged. Fitness score: 4.69\n",
      "Frame : 872\n",
      "Error--------: 168.18817711145329\n",
      "Latent error above the threshold of 1.2\n",
      "Found 13269 lines. Skipped 11. Loaded 13258 points.\n"
     ]
    },
    {
     "name": "stderr",
     "output_type": "stream",
     "text": [
      " 86%|████████▌ | 874/1014 [13:17<01:45,  1.33it/s]"
     ]
    },
    {
     "name": "stdout",
     "output_type": "stream",
     "text": [
      "ICP converged. Fitness score: 3.94\n",
      "Frame : 873\n",
      "Error--------: 168.2984081117517\n",
      "Latent error above the threshold of 1.2\n",
      "Found 13025 lines. Skipped 11. Loaded 13014 points.\n"
     ]
    },
    {
     "name": "stderr",
     "output_type": "stream",
     "text": [
      " 86%|████████▋ | 875/1014 [13:18<01:47,  1.30it/s]"
     ]
    },
    {
     "name": "stdout",
     "output_type": "stream",
     "text": [
      "ICP converged. Fitness score: 4.34\n",
      "Frame : 874\n",
      "Error--------: 168.4610960426378\n",
      "Latent error above the threshold of 1.2\n",
      "Found 12435 lines. Skipped 11. Loaded 12424 points.\n"
     ]
    },
    {
     "name": "stderr",
     "output_type": "stream",
     "text": [
      " 86%|████████▋ | 876/1014 [13:19<01:46,  1.30it/s]"
     ]
    },
    {
     "name": "stdout",
     "output_type": "stream",
     "text": [
      "ICP converged. Fitness score: 3.60\n",
      "Frame : 875\n",
      "Error--------: 168.59143609997486\n",
      "Latent error above the threshold of 1.2\n",
      "Found 10197 lines. Skipped 11. Loaded 10186 points.\n"
     ]
    },
    {
     "name": "stderr",
     "output_type": "stream",
     "text": [
      " 86%|████████▋ | 877/1014 [13:19<01:44,  1.32it/s]"
     ]
    },
    {
     "name": "stdout",
     "output_type": "stream",
     "text": [
      "ICP converged. Fitness score: 4.08\n",
      "Frame : 876\n",
      "Error--------: 168.73333390169424\n",
      "Latent error above the threshold of 1.2\n",
      "Found 14520 lines. Skipped 11. Loaded 14509 points.\n"
     ]
    },
    {
     "name": "stderr",
     "output_type": "stream",
     "text": [
      " 87%|████████▋ | 878/1014 [13:20<01:45,  1.28it/s]"
     ]
    },
    {
     "name": "stdout",
     "output_type": "stream",
     "text": [
      "ICP converged. Fitness score: 3.75\n",
      "Frame : 877\n",
      "Error--------: 168.86553505818117\n",
      "Latent error above the threshold of 1.2\n",
      "Found 12575 lines. Skipped 11. Loaded 12564 points.\n"
     ]
    },
    {
     "name": "stderr",
     "output_type": "stream",
     "text": [
      " 87%|████████▋ | 879/1014 [13:21<01:48,  1.25it/s]"
     ]
    },
    {
     "name": "stdout",
     "output_type": "stream",
     "text": [
      "ICP converged. Fitness score: 4.46\n",
      "Frame : 878\n",
      "Error--------: 168.99207895743564\n",
      "Latent error above the threshold of 1.2\n",
      "Found 12759 lines. Skipped 11. Loaded 12748 points.\n"
     ]
    },
    {
     "name": "stderr",
     "output_type": "stream",
     "text": [
      " 87%|████████▋ | 880/1014 [13:22<01:44,  1.28it/s]"
     ]
    },
    {
     "name": "stdout",
     "output_type": "stream",
     "text": [
      "ICP converged. Fitness score: 3.66\n",
      "Frame : 879\n",
      "Error--------: 169.10513034136258\n",
      "Latent error above the threshold of 1.2\n",
      "Found 11626 lines. Skipped 11. Loaded 11615 points.\n"
     ]
    },
    {
     "name": "stderr",
     "output_type": "stream",
     "text": [
      " 87%|████████▋ | 881/1014 [13:23<01:42,  1.30it/s]"
     ]
    },
    {
     "name": "stdout",
     "output_type": "stream",
     "text": [
      "ICP converged. Fitness score: 4.34\n",
      "Frame : 880\n",
      "Error--------: 169.28112813615817\n",
      "Latent error above the threshold of 1.2\n",
      "Found 14324 lines. Skipped 11. Loaded 14313 points.\n"
     ]
    },
    {
     "name": "stderr",
     "output_type": "stream",
     "text": [
      " 87%|████████▋ | 882/1014 [13:23<01:45,  1.25it/s]"
     ]
    },
    {
     "name": "stdout",
     "output_type": "stream",
     "text": [
      "ICP converged. Fitness score: 2.49\n",
      "Frame : 881\n",
      "Error--------: 169.4066971197656\n",
      "Latent error above the threshold of 1.2\n",
      "Found 11212 lines. Skipped 11. Loaded 11201 points.\n"
     ]
    },
    {
     "name": "stderr",
     "output_type": "stream",
     "text": [
      " 87%|████████▋ | 883/1014 [13:24<01:43,  1.26it/s]"
     ]
    },
    {
     "name": "stdout",
     "output_type": "stream",
     "text": [
      "ICP converged. Fitness score: 5.20\n",
      "Frame : 882\n",
      "Error--------: 169.57756153459593\n",
      "Latent error above the threshold of 1.2\n",
      "Found 12337 lines. Skipped 11. Loaded 12326 points.\n"
     ]
    },
    {
     "name": "stderr",
     "output_type": "stream",
     "text": [
      " 87%|████████▋ | 884/1014 [13:25<01:30,  1.44it/s]"
     ]
    },
    {
     "name": "stdout",
     "output_type": "stream",
     "text": [
      "ICP converged. Fitness score: 4.09\n",
      "Frame : 883\n",
      "Error--------: 169.7251906266936\n",
      "Latent error above the threshold of 1.2\n",
      "Found 11665 lines. Skipped 11. Loaded 11654 points.\n"
     ]
    },
    {
     "name": "stderr",
     "output_type": "stream",
     "text": [
      " 87%|████████▋ | 885/1014 [13:25<01:29,  1.44it/s]"
     ]
    },
    {
     "name": "stdout",
     "output_type": "stream",
     "text": [
      "ICP converged. Fitness score: 4.21\n",
      "Frame : 884\n",
      "Error--------: 169.89977855778343\n",
      "Latent error above the threshold of 1.2\n",
      "Found 13956 lines. Skipped 11. Loaded 13945 points.\n"
     ]
    },
    {
     "name": "stderr",
     "output_type": "stream",
     "text": [
      " 87%|████████▋ | 886/1014 [13:26<01:31,  1.39it/s]"
     ]
    },
    {
     "name": "stdout",
     "output_type": "stream",
     "text": [
      "ICP converged. Fitness score: 3.76\n",
      "Frame : 885\n",
      "Error--------: 169.9927245112928\n",
      "Latent error above the threshold of 1.2\n",
      "Found 13956 lines. Skipped 11. Loaded 13945 points.\n"
     ]
    },
    {
     "name": "stderr",
     "output_type": "stream",
     "text": [
      " 87%|████████▋ | 887/1014 [13:27<01:37,  1.30it/s]"
     ]
    },
    {
     "name": "stdout",
     "output_type": "stream",
     "text": [
      "ICP converged. Fitness score: 4.58\n",
      "Frame : 886\n",
      "Error--------: 170.14215166654506\n",
      "Latent error above the threshold of 1.2\n",
      "Found 10052 lines. Skipped 11. Loaded 10041 points.\n"
     ]
    },
    {
     "name": "stderr",
     "output_type": "stream",
     "text": [
      " 88%|████████▊ | 888/1014 [13:28<01:34,  1.34it/s]"
     ]
    },
    {
     "name": "stdout",
     "output_type": "stream",
     "text": [
      "ICP converged. Fitness score: 3.65\n",
      "Frame : 887\n",
      "Error--------: 170.25604357966165\n",
      "Latent error above the threshold of 1.2\n",
      "Found 12025 lines. Skipped 11. Loaded 12014 points.\n"
     ]
    },
    {
     "name": "stderr",
     "output_type": "stream",
     "text": [
      " 88%|████████▊ | 889/1014 [13:29<01:35,  1.31it/s]"
     ]
    },
    {
     "name": "stdout",
     "output_type": "stream",
     "text": [
      "ICP converged. Fitness score: 4.33\n",
      "Frame : 888\n",
      "Error--------: 170.39544443046478\n",
      "Latent error above the threshold of 1.2\n",
      "Found 9046 lines. Skipped 11. Loaded 9035 points.\n"
     ]
    },
    {
     "name": "stderr",
     "output_type": "stream",
     "text": [
      " 88%|████████▊ | 890/1014 [13:29<01:33,  1.33it/s]"
     ]
    },
    {
     "name": "stdout",
     "output_type": "stream",
     "text": [
      "ICP converged. Fitness score: 3.10\n",
      "Frame : 889\n",
      "Error--------: 170.52598644638456\n",
      "Latent error above the threshold of 1.2\n",
      "Found 13227 lines. Skipped 11. Loaded 13216 points.\n"
     ]
    },
    {
     "name": "stderr",
     "output_type": "stream",
     "text": [
      " 88%|████████▊ | 891/1014 [13:30<01:34,  1.30it/s]"
     ]
    },
    {
     "name": "stdout",
     "output_type": "stream",
     "text": [
      "ICP converged. Fitness score: 4.38\n",
      "Frame : 890\n",
      "Error--------: 170.65992112411377\n",
      "Latent error above the threshold of 1.2\n",
      "Found 10635 lines. Skipped 11. Loaded 10624 points.\n"
     ]
    },
    {
     "name": "stderr",
     "output_type": "stream",
     "text": [
      " 88%|████████▊ | 892/1014 [13:31<01:33,  1.31it/s]"
     ]
    },
    {
     "name": "stdout",
     "output_type": "stream",
     "text": [
      "ICP converged. Fitness score: 3.40\n",
      "Frame : 891\n",
      "Error--------: 170.79588724205377\n",
      "Latent error above the threshold of 1.2\n",
      "Found 14580 lines. Skipped 11. Loaded 14569 points.\n"
     ]
    },
    {
     "name": "stderr",
     "output_type": "stream",
     "text": [
      " 88%|████████▊ | 893/1014 [13:32<01:38,  1.23it/s]"
     ]
    },
    {
     "name": "stdout",
     "output_type": "stream",
     "text": [
      "ICP converged. Fitness score: 3.01\n",
      "Frame : 892\n",
      "Error--------: 170.94524739359312\n",
      "Latent error above the threshold of 1.2\n",
      "Found 11517 lines. Skipped 11. Loaded 11506 points.\n"
     ]
    },
    {
     "name": "stderr",
     "output_type": "stream",
     "text": [
      " 88%|████████▊ | 894/1014 [13:33<01:34,  1.27it/s]"
     ]
    },
    {
     "name": "stdout",
     "output_type": "stream",
     "text": [
      "ICP converged. Fitness score: 4.54\n",
      "Frame : 893\n",
      "Error--------: 171.0317211283421\n",
      "Latent error above the threshold of 1.2\n",
      "Found 11567 lines. Skipped 11. Loaded 11556 points.\n"
     ]
    },
    {
     "name": "stderr",
     "output_type": "stream",
     "text": [
      " 88%|████████▊ | 895/1014 [13:33<01:25,  1.39it/s]"
     ]
    },
    {
     "name": "stdout",
     "output_type": "stream",
     "text": [
      "ICP converged. Fitness score: 4.79\n",
      "Frame : 894\n",
      "Error--------: 171.1569359768442\n",
      "Latent error above the threshold of 1.2\n",
      "Found 12394 lines. Skipped 11. Loaded 12383 points.\n"
     ]
    },
    {
     "name": "stderr",
     "output_type": "stream",
     "text": [
      " 88%|████████▊ | 896/1014 [13:34<01:26,  1.37it/s]"
     ]
    },
    {
     "name": "stdout",
     "output_type": "stream",
     "text": [
      "ICP converged. Fitness score: 4.04\n",
      "Frame : 895\n",
      "Error--------: 171.29927351954527\n",
      "Latent error above the threshold of 1.2\n",
      "Found 12265 lines. Skipped 11. Loaded 12254 points.\n"
     ]
    },
    {
     "name": "stderr",
     "output_type": "stream",
     "text": [
      " 88%|████████▊ | 897/1014 [13:34<01:17,  1.50it/s]"
     ]
    },
    {
     "name": "stdout",
     "output_type": "stream",
     "text": [
      "ICP converged. Fitness score: 4.74\n",
      "Frame : 896\n",
      "Error--------: 171.42573706432947\n",
      "Latent error above the threshold of 1.2\n",
      "Found 12522 lines. Skipped 11. Loaded 12511 points.\n"
     ]
    },
    {
     "name": "stderr",
     "output_type": "stream",
     "text": [
      " 89%|████████▊ | 898/1014 [13:35<01:18,  1.47it/s]"
     ]
    },
    {
     "name": "stdout",
     "output_type": "stream",
     "text": [
      "ICP converged. Fitness score: 3.91\n",
      "Frame : 897\n",
      "Error--------: 171.56438691872825\n",
      "Latent error above the threshold of 1.2\n",
      "Found 11335 lines. Skipped 11. Loaded 11324 points.\n"
     ]
    },
    {
     "name": "stderr",
     "output_type": "stream",
     "text": [
      " 89%|████████▊ | 899/1014 [13:36<01:15,  1.51it/s]"
     ]
    },
    {
     "name": "stdout",
     "output_type": "stream",
     "text": [
      "ICP converged. Fitness score: 4.64\n",
      "Frame : 898\n",
      "Error--------: 171.68895974880763\n",
      "Latent error above the threshold of 1.2\n",
      "Found 12322 lines. Skipped 11. Loaded 12311 points.\n"
     ]
    },
    {
     "name": "stderr",
     "output_type": "stream",
     "text": [
      " 89%|████████▉ | 900/1014 [13:36<01:18,  1.45it/s]"
     ]
    },
    {
     "name": "stdout",
     "output_type": "stream",
     "text": [
      "ICP converged. Fitness score: 3.99\n",
      "Frame : 899\n",
      "Error--------: 171.78662744197126\n",
      "Latent error above the threshold of 1.2\n",
      "Found 12328 lines. Skipped 11. Loaded 12317 points.\n"
     ]
    },
    {
     "name": "stderr",
     "output_type": "stream",
     "text": [
      " 89%|████████▉ | 901/1014 [13:37<01:12,  1.56it/s]"
     ]
    },
    {
     "name": "stdout",
     "output_type": "stream",
     "text": [
      "ICP converged. Fitness score: 4.83\n",
      "Frame : 900\n",
      "Error--------: 171.94447776672678\n",
      "Latent error above the threshold of 1.2\n",
      "Found 11679 lines. Skipped 11. Loaded 11668 points.\n"
     ]
    },
    {
     "name": "stderr",
     "output_type": "stream",
     "text": [
      " 89%|████████▉ | 902/1014 [13:38<01:15,  1.49it/s]"
     ]
    },
    {
     "name": "stdout",
     "output_type": "stream",
     "text": [
      "ICP converged. Fitness score: 3.93\n",
      "Frame : 901\n",
      "Error--------: 172.05723944338908\n",
      "Latent error above the threshold of 1.2\n",
      "Found 11840 lines. Skipped 11. Loaded 11829 points.\n"
     ]
    },
    {
     "name": "stderr",
     "output_type": "stream",
     "text": [
      " 89%|████████▉ | 903/1014 [13:38<01:14,  1.50it/s]"
     ]
    },
    {
     "name": "stdout",
     "output_type": "stream",
     "text": [
      "ICP converged. Fitness score: 4.89\n",
      "Frame : 902\n",
      "Error--------: 172.23019150336663\n",
      "Latent error above the threshold of 1.2\n",
      "Found 12541 lines. Skipped 11. Loaded 12530 points.\n"
     ]
    },
    {
     "name": "stderr",
     "output_type": "stream",
     "text": [
      " 89%|████████▉ | 904/1014 [13:39<01:12,  1.53it/s]"
     ]
    },
    {
     "name": "stdout",
     "output_type": "stream",
     "text": [
      "ICP converged. Fitness score: 0.33\n",
      "Frame : 903\n",
      "Error--------: 172.34990553004658\n",
      "Latent error above the threshold of 1.2\n",
      "Found 12739 lines. Skipped 11. Loaded 12728 points.\n"
     ]
    },
    {
     "name": "stderr",
     "output_type": "stream",
     "text": [
      " 89%|████████▉ | 905/1014 [13:40<01:07,  1.61it/s]"
     ]
    },
    {
     "name": "stdout",
     "output_type": "stream",
     "text": [
      "ICP converged. Fitness score: 2.71\n",
      "Frame : 904\n",
      "Error--------: 172.48342709850428\n",
      "Latent error above the threshold of 1.2\n",
      "Found 12114 lines. Skipped 11. Loaded 12103 points.\n"
     ]
    },
    {
     "name": "stderr",
     "output_type": "stream",
     "text": [
      " 89%|████████▉ | 906/1014 [13:40<01:13,  1.47it/s]"
     ]
    },
    {
     "name": "stdout",
     "output_type": "stream",
     "text": [
      "ICP converged. Fitness score: 4.13\n",
      "Frame : 905\n",
      "Error--------: 172.6889662406712\n",
      "Latent error above the threshold of 1.2\n",
      "Found 13203 lines. Skipped 11. Loaded 13192 points.\n"
     ]
    },
    {
     "name": "stderr",
     "output_type": "stream",
     "text": [
      " 89%|████████▉ | 907/1014 [13:41<01:05,  1.64it/s]"
     ]
    },
    {
     "name": "stdout",
     "output_type": "stream",
     "text": [
      "ICP converged. Fitness score: 4.73\n",
      "Frame : 906\n",
      "Error--------: 172.8302654275036\n",
      "Latent error above the threshold of 1.2\n",
      "Found 10567 lines. Skipped 11. Loaded 10556 points.\n"
     ]
    },
    {
     "name": "stderr",
     "output_type": "stream",
     "text": [
      " 90%|████████▉ | 908/1014 [13:41<01:07,  1.58it/s]"
     ]
    },
    {
     "name": "stdout",
     "output_type": "stream",
     "text": [
      "ICP converged. Fitness score: 3.88\n",
      "Frame : 907\n",
      "Error--------: 172.93432508482496\n",
      "Latent error above the threshold of 1.2\n",
      "Found 9503 lines. Skipped 11. Loaded 9492 points.\n"
     ]
    },
    {
     "name": "stderr",
     "output_type": "stream",
     "text": [
      " 90%|████████▉ | 909/1014 [13:42<01:06,  1.59it/s]"
     ]
    },
    {
     "name": "stdout",
     "output_type": "stream",
     "text": [
      "ICP converged. Fitness score: 4.49\n",
      "Frame : 908\n",
      "Error--------: 173.08626550805093\n",
      "Latent error above the threshold of 1.2\n",
      "Found 12413 lines. Skipped 11. Loaded 12402 points.\n"
     ]
    },
    {
     "name": "stderr",
     "output_type": "stream",
     "text": [
      " 90%|████████▉ | 910/1014 [13:43<01:09,  1.50it/s]"
     ]
    },
    {
     "name": "stdout",
     "output_type": "stream",
     "text": [
      "ICP converged. Fitness score: 4.01\n",
      "Frame : 909\n",
      "Error--------: 173.2281317941314\n",
      "Latent error above the threshold of 1.2\n",
      "Found 13039 lines. Skipped 11. Loaded 13028 points.\n"
     ]
    },
    {
     "name": "stderr",
     "output_type": "stream",
     "text": [
      " 90%|████████▉ | 911/1014 [13:44<01:10,  1.47it/s]"
     ]
    },
    {
     "name": "stdout",
     "output_type": "stream",
     "text": [
      "ICP converged. Fitness score: 4.87\n",
      "Frame : 910\n",
      "Error--------: 173.3636472968497\n",
      "Latent error above the threshold of 1.2\n",
      "Found 9633 lines. Skipped 11. Loaded 9622 points.\n"
     ]
    },
    {
     "name": "stderr",
     "output_type": "stream",
     "text": [
      " 90%|████████▉ | 912/1014 [13:44<01:09,  1.47it/s]"
     ]
    },
    {
     "name": "stdout",
     "output_type": "stream",
     "text": [
      "ICP converged. Fitness score: 3.88\n",
      "Frame : 911\n",
      "Error--------: 173.50776381618704\n",
      "Latent error above the threshold of 1.2\n",
      "Found 11788 lines. Skipped 11. Loaded 11777 points.\n"
     ]
    },
    {
     "name": "stderr",
     "output_type": "stream",
     "text": [
      " 90%|█████████ | 913/1014 [13:45<01:12,  1.40it/s]"
     ]
    },
    {
     "name": "stdout",
     "output_type": "stream",
     "text": [
      "ICP converged. Fitness score: 4.92\n",
      "Frame : 912\n",
      "Error--------: 173.66175703167798\n",
      "Latent error above the threshold of 1.2\n",
      "Found 11695 lines. Skipped 11. Loaded 11684 points.\n"
     ]
    },
    {
     "name": "stderr",
     "output_type": "stream",
     "text": [
      " 90%|█████████ | 914/1014 [13:46<01:25,  1.17it/s]"
     ]
    },
    {
     "name": "stdout",
     "output_type": "stream",
     "text": [
      "ICP converged. Fitness score: 4.12\n",
      "Frame : 913\n",
      "Error--------: 173.78638210603128\n",
      "Latent error above the threshold of 1.2\n",
      "Found 12221 lines. Skipped 11. Loaded 12210 points.\n"
     ]
    },
    {
     "name": "stderr",
     "output_type": "stream",
     "text": [
      " 90%|█████████ | 915/1014 [13:47<01:15,  1.31it/s]"
     ]
    },
    {
     "name": "stdout",
     "output_type": "stream",
     "text": [
      "ICP converged. Fitness score: 5.12\n",
      "Frame : 914\n",
      "Error--------: 173.9383015897939\n",
      "Latent error above the threshold of 1.2\n",
      "Found 13924 lines. Skipped 11. Loaded 13913 points.\n"
     ]
    },
    {
     "name": "stderr",
     "output_type": "stream",
     "text": [
      " 90%|█████████ | 916/1014 [13:48<01:19,  1.23it/s]"
     ]
    },
    {
     "name": "stdout",
     "output_type": "stream",
     "text": [
      "ICP converged. Fitness score: 2.51\n",
      "Frame : 915\n",
      "Error--------: 174.0650240864775\n",
      "Latent error above the threshold of 1.2\n",
      "Found 13297 lines. Skipped 11. Loaded 13286 points.\n"
     ]
    },
    {
     "name": "stderr",
     "output_type": "stream",
     "text": [
      " 90%|█████████ | 917/1014 [13:49<01:39,  1.02s/it]"
     ]
    },
    {
     "name": "stdout",
     "output_type": "stream",
     "text": [
      "ICP converged. Fitness score: 4.93\n",
      "Frame : 916\n",
      "Error--------: 174.2383646715991\n",
      "Latent error above the threshold of 1.2\n",
      "Found 11679 lines. Skipped 11. Loaded 11668 points.\n"
     ]
    },
    {
     "name": "stderr",
     "output_type": "stream",
     "text": [
      " 91%|█████████ | 918/1014 [13:50<01:30,  1.06it/s]"
     ]
    },
    {
     "name": "stdout",
     "output_type": "stream",
     "text": [
      "ICP converged. Fitness score: 3.93\n",
      "Frame : 917\n",
      "Error--------: 174.37459290356944\n",
      "Latent error above the threshold of 1.2\n",
      "Found 11103 lines. Skipped 11. Loaded 11092 points.\n"
     ]
    },
    {
     "name": "stderr",
     "output_type": "stream",
     "text": [
      " 91%|█████████ | 919/1014 [13:51<01:23,  1.13it/s]"
     ]
    },
    {
     "name": "stdout",
     "output_type": "stream",
     "text": [
      "ICP converged. Fitness score: 5.01\n",
      "Frame : 918\n",
      "Error--------: 174.5128255760281\n",
      "Latent error above the threshold of 1.2\n",
      "Found 13052 lines. Skipped 11. Loaded 13041 points.\n"
     ]
    },
    {
     "name": "stderr",
     "output_type": "stream",
     "text": [
      " 91%|█████████ | 920/1014 [13:52<01:32,  1.01it/s]"
     ]
    },
    {
     "name": "stdout",
     "output_type": "stream",
     "text": [
      "ICP converged. Fitness score: 3.77\n",
      "Frame : 919\n",
      "Error--------: 174.6910874609369\n",
      "Latent error above the threshold of 1.2\n",
      "Found 12861 lines. Skipped 11. Loaded 12850 points.\n"
     ]
    },
    {
     "name": "stderr",
     "output_type": "stream",
     "text": [
      " 91%|█████████ | 921/1014 [13:53<01:30,  1.03it/s]"
     ]
    },
    {
     "name": "stdout",
     "output_type": "stream",
     "text": [
      "ICP converged. Fitness score: 5.03\n",
      "Frame : 920\n",
      "Error--------: 174.81835140559298\n",
      "Latent error above the threshold of 1.2\n",
      "Found 11012 lines. Skipped 11. Loaded 11001 points.\n"
     ]
    },
    {
     "name": "stderr",
     "output_type": "stream",
     "text": [
      " 91%|█████████ | 922/1014 [13:54<01:21,  1.13it/s]"
     ]
    },
    {
     "name": "stdout",
     "output_type": "stream",
     "text": [
      "ICP converged. Fitness score: 4.05\n",
      "Frame : 921\n",
      "Error--------: 174.961449103053\n",
      "Latent error above the threshold of 1.2\n",
      "Found 11012 lines. Skipped 11. Loaded 11001 points.\n"
     ]
    },
    {
     "name": "stderr",
     "output_type": "stream",
     "text": [
      " 91%|█████████ | 923/1014 [13:54<01:16,  1.18it/s]"
     ]
    },
    {
     "name": "stdout",
     "output_type": "stream",
     "text": [
      "ICP converged. Fitness score: 4.99\n",
      "Frame : 922\n",
      "Error--------: 175.09116698433087\n",
      "Latent error above the threshold of 1.2\n",
      "Found 11959 lines. Skipped 11. Loaded 11948 points.\n"
     ]
    },
    {
     "name": "stderr",
     "output_type": "stream",
     "text": [
      " 91%|█████████ | 924/1014 [13:55<01:15,  1.20it/s]"
     ]
    },
    {
     "name": "stdout",
     "output_type": "stream",
     "text": [
      "ICP converged. Fitness score: 3.99\n",
      "Frame : 923\n",
      "Error--------: 175.2752253406643\n",
      "Latent error above the threshold of 1.2\n",
      "Found 11812 lines. Skipped 11. Loaded 11801 points.\n"
     ]
    },
    {
     "name": "stderr",
     "output_type": "stream",
     "text": [
      " 91%|█████████ | 925/1014 [13:56<01:12,  1.23it/s]"
     ]
    },
    {
     "name": "stdout",
     "output_type": "stream",
     "text": [
      "ICP converged. Fitness score: 5.04\n",
      "Frame : 924\n",
      "Error--------: 175.38296565113055\n",
      "Latent error above the threshold of 1.2\n",
      "Found 12212 lines. Skipped 11. Loaded 12201 points.\n"
     ]
    },
    {
     "name": "stderr",
     "output_type": "stream",
     "text": [
      " 91%|█████████▏| 926/1014 [13:56<01:05,  1.33it/s]"
     ]
    },
    {
     "name": "stdout",
     "output_type": "stream",
     "text": [
      "ICP converged. Fitness score: 4.34\n",
      "Frame : 925\n",
      "Error--------: 175.508314941514\n",
      "Latent error above the threshold of 1.2\n",
      "Found 13194 lines. Skipped 11. Loaded 13183 points.\n"
     ]
    },
    {
     "name": "stderr",
     "output_type": "stream",
     "text": [
      " 91%|█████████▏| 927/1014 [13:57<01:04,  1.34it/s]"
     ]
    },
    {
     "name": "stdout",
     "output_type": "stream",
     "text": [
      "ICP converged. Fitness score: 2.93\n",
      "Frame : 926\n",
      "Error--------: 175.67211335488676\n",
      "Latent error above the threshold of 1.2\n",
      "Found 11812 lines. Skipped 11. Loaded 11801 points.\n"
     ]
    },
    {
     "name": "stderr",
     "output_type": "stream",
     "text": [
      " 92%|█████████▏| 928/1014 [13:58<01:04,  1.33it/s]"
     ]
    },
    {
     "name": "stdout",
     "output_type": "stream",
     "text": [
      "ICP converged. Fitness score: 4.61\n",
      "Frame : 927\n",
      "Error--------: 175.81848200944722\n",
      "Latent error above the threshold of 1.2\n",
      "Found 10840 lines. Skipped 11. Loaded 10829 points.\n"
     ]
    },
    {
     "name": "stderr",
     "output_type": "stream",
     "text": [
      " 92%|█████████▏| 929/1014 [13:59<01:06,  1.29it/s]"
     ]
    },
    {
     "name": "stdout",
     "output_type": "stream",
     "text": [
      "ICP converged. Fitness score: 5.33\n",
      "Frame : 928\n",
      "Error--------: 175.998296832403\n",
      "Latent error above the threshold of 1.2\n",
      "Found 12285 lines. Skipped 11. Loaded 12274 points.\n"
     ]
    },
    {
     "name": "stderr",
     "output_type": "stream",
     "text": [
      " 92%|█████████▏| 930/1014 [14:00<01:05,  1.28it/s]"
     ]
    },
    {
     "name": "stdout",
     "output_type": "stream",
     "text": [
      "ICP converged. Fitness score: 4.42\n",
      "Frame : 929\n",
      "Error--------: 176.10087046304457\n",
      "Latent error above the threshold of 1.2\n",
      "Found 12674 lines. Skipped 11. Loaded 12663 points.\n"
     ]
    },
    {
     "name": "stderr",
     "output_type": "stream",
     "text": [
      " 92%|█████████▏| 931/1014 [14:00<01:01,  1.34it/s]"
     ]
    },
    {
     "name": "stdout",
     "output_type": "stream",
     "text": [
      "ICP converged. Fitness score: 5.71\n",
      "Frame : 930\n",
      "Error--------: 176.2610491698766\n",
      "Latent error above the threshold of 1.2\n",
      "Found 12237 lines. Skipped 11. Loaded 12226 points.\n"
     ]
    },
    {
     "name": "stderr",
     "output_type": "stream",
     "text": [
      " 92%|█████████▏| 932/1014 [14:01<01:01,  1.34it/s]"
     ]
    },
    {
     "name": "stdout",
     "output_type": "stream",
     "text": [
      "ICP converged. Fitness score: 4.38\n",
      "Frame : 931\n",
      "Error--------: 176.3839522725444\n",
      "Latent error above the threshold of 1.2\n",
      "Found 10612 lines. Skipped 11. Loaded 10601 points.\n"
     ]
    },
    {
     "name": "stderr",
     "output_type": "stream",
     "text": [
      " 92%|█████████▏| 933/1014 [14:02<00:57,  1.42it/s]"
     ]
    },
    {
     "name": "stdout",
     "output_type": "stream",
     "text": [
      "ICP converged. Fitness score: 5.53\n",
      "Frame : 932\n",
      "Error--------: 176.50653392142198\n",
      "Latent error above the threshold of 1.2\n",
      "Found 12307 lines. Skipped 11. Loaded 12296 points.\n"
     ]
    },
    {
     "name": "stderr",
     "output_type": "stream",
     "text": [
      " 92%|█████████▏| 934/1014 [14:02<00:56,  1.43it/s]"
     ]
    },
    {
     "name": "stdout",
     "output_type": "stream",
     "text": [
      "ICP converged. Fitness score: 4.11\n",
      "Frame : 933\n",
      "Error--------: 176.72467549272844\n",
      "Latent error above the threshold of 1.2\n",
      "Found 13558 lines. Skipped 11. Loaded 13547 points.\n"
     ]
    },
    {
     "name": "stderr",
     "output_type": "stream",
     "text": [
      " 92%|█████████▏| 935/1014 [14:03<00:58,  1.35it/s]"
     ]
    },
    {
     "name": "stdout",
     "output_type": "stream",
     "text": [
      "ICP converged. Fitness score: 5.80\n",
      "Frame : 934\n",
      "Error--------: 176.87369260115884\n",
      "Latent error above the threshold of 1.2\n",
      "Found 13111 lines. Skipped 11. Loaded 13100 points.\n"
     ]
    },
    {
     "name": "stderr",
     "output_type": "stream",
     "text": [
      " 92%|█████████▏| 936/1014 [14:04<00:56,  1.37it/s]"
     ]
    },
    {
     "name": "stdout",
     "output_type": "stream",
     "text": [
      "ICP converged. Fitness score: 4.33\n",
      "Frame : 935\n",
      "Error--------: 176.99278864877508\n",
      "Latent error above the threshold of 1.2\n",
      "Found 11381 lines. Skipped 11. Loaded 11370 points.\n"
     ]
    },
    {
     "name": "stderr",
     "output_type": "stream",
     "text": [
      " 92%|█████████▏| 937/1014 [14:04<00:53,  1.44it/s]"
     ]
    },
    {
     "name": "stdout",
     "output_type": "stream",
     "text": [
      "ICP converged. Fitness score: 5.84\n",
      "Frame : 936\n",
      "Error--------: 177.1064610359425\n",
      "Latent error above the threshold of 1.2\n",
      "Found 15735 lines. Skipped 11. Loaded 15724 points.\n"
     ]
    },
    {
     "name": "stderr",
     "output_type": "stream",
     "text": [
      " 93%|█████████▎| 938/1014 [14:05<00:50,  1.49it/s]"
     ]
    },
    {
     "name": "stdout",
     "output_type": "stream",
     "text": [
      "ICP converged. Fitness score: 2.78\n",
      "Frame : 937\n",
      "Error--------: 177.28026365259018\n",
      "Latent error above the threshold of 1.2\n",
      "Found 13933 lines. Skipped 11. Loaded 13922 points.\n"
     ]
    },
    {
     "name": "stderr",
     "output_type": "stream",
     "text": [
      " 93%|█████████▎| 939/1014 [14:06<00:53,  1.41it/s]"
     ]
    },
    {
     "name": "stdout",
     "output_type": "stream",
     "text": [
      "ICP converged. Fitness score: 5.25\n",
      "Frame : 938\n",
      "Error--------: 177.421337872372\n",
      "Latent error above the threshold of 1.2\n",
      "Found 11187 lines. Skipped 11. Loaded 11176 points.\n"
     ]
    },
    {
     "name": "stderr",
     "output_type": "stream",
     "text": [
      " 93%|█████████▎| 940/1014 [14:07<00:52,  1.41it/s]"
     ]
    },
    {
     "name": "stdout",
     "output_type": "stream",
     "text": [
      "ICP converged. Fitness score: 4.43\n",
      "Frame : 939\n",
      "Error--------: 177.59626585244595\n",
      "Latent error above the threshold of 1.2\n",
      "Found 12162 lines. Skipped 11. Loaded 12151 points.\n"
     ]
    },
    {
     "name": "stderr",
     "output_type": "stream",
     "text": [
      " 93%|█████████▎| 941/1014 [14:07<00:52,  1.38it/s]"
     ]
    },
    {
     "name": "stdout",
     "output_type": "stream",
     "text": [
      "ICP converged. Fitness score: 5.42\n",
      "Frame : 940\n",
      "Error--------: 177.69082002245992\n",
      "Latent error above the threshold of 1.2\n",
      "Found 12068 lines. Skipped 11. Loaded 12057 points.\n"
     ]
    },
    {
     "name": "stderr",
     "output_type": "stream",
     "text": [
      " 93%|█████████▎| 942/1014 [14:08<00:48,  1.47it/s]"
     ]
    },
    {
     "name": "stdout",
     "output_type": "stream",
     "text": [
      "ICP converged. Fitness score: 4.67\n",
      "Frame : 941\n",
      "Error--------: 177.8389630701633\n",
      "Latent error above the threshold of 1.2\n",
      "Found 9897 lines. Skipped 11. Loaded 9886 points.\n"
     ]
    },
    {
     "name": "stderr",
     "output_type": "stream",
     "text": [
      " 93%|█████████▎| 943/1014 [14:09<00:48,  1.46it/s]"
     ]
    },
    {
     "name": "stdout",
     "output_type": "stream",
     "text": [
      "ICP converged. Fitness score: 5.09\n",
      "Frame : 942\n",
      "Error--------: 177.95927306465964\n",
      "Latent error above the threshold of 1.2\n",
      "Found 12404 lines. Skipped 11. Loaded 12393 points.\n"
     ]
    },
    {
     "name": "stderr",
     "output_type": "stream",
     "text": [
      " 93%|█████████▎| 944/1014 [14:09<00:45,  1.54it/s]"
     ]
    },
    {
     "name": "stdout",
     "output_type": "stream",
     "text": [
      "ICP converged. Fitness score: 4.77\n",
      "Frame : 943\n",
      "Error--------: 178.11103218606632\n",
      "Latent error above the threshold of 1.2\n",
      "Found 11550 lines. Skipped 11. Loaded 11539 points.\n"
     ]
    },
    {
     "name": "stderr",
     "output_type": "stream",
     "text": [
      " 93%|█████████▎| 945/1014 [14:10<00:46,  1.48it/s]"
     ]
    },
    {
     "name": "stdout",
     "output_type": "stream",
     "text": [
      "ICP converged. Fitness score: 5.18\n",
      "Frame : 944\n",
      "Error--------: 178.22737490715116\n",
      "Latent error above the threshold of 1.2\n",
      "Found 12405 lines. Skipped 11. Loaded 12394 points.\n"
     ]
    },
    {
     "name": "stderr",
     "output_type": "stream",
     "text": [
      " 93%|█████████▎| 946/1014 [14:11<00:47,  1.42it/s]"
     ]
    },
    {
     "name": "stdout",
     "output_type": "stream",
     "text": [
      "ICP converged. Fitness score: 4.83\n",
      "Frame : 945\n",
      "Error--------: 178.39495735434602\n",
      "Latent error above the threshold of 1.2\n",
      "Found 13087 lines. Skipped 11. Loaded 13076 points.\n"
     ]
    },
    {
     "name": "stderr",
     "output_type": "stream",
     "text": [
      " 93%|█████████▎| 947/1014 [14:12<00:49,  1.37it/s]"
     ]
    },
    {
     "name": "stdout",
     "output_type": "stream",
     "text": [
      "ICP converged. Fitness score: 5.56\n",
      "Frame : 946\n",
      "Error--------: 178.51410969428377\n",
      "Latent error above the threshold of 1.2\n",
      "Found 13488 lines. Skipped 11. Loaded 13477 points.\n"
     ]
    },
    {
     "name": "stderr",
     "output_type": "stream",
     "text": [
      " 93%|█████████▎| 948/1014 [14:12<00:47,  1.40it/s]"
     ]
    },
    {
     "name": "stdout",
     "output_type": "stream",
     "text": [
      "ICP converged. Fitness score: 4.44\n",
      "Frame : 947\n",
      "Error--------: 178.61108935390646\n",
      "Latent error above the threshold of 1.2\n",
      "Found 15316 lines. Skipped 11. Loaded 15305 points.\n"
     ]
    },
    {
     "name": "stderr",
     "output_type": "stream",
     "text": [
      " 94%|█████████▎| 949/1014 [14:13<00:47,  1.37it/s]"
     ]
    },
    {
     "name": "stdout",
     "output_type": "stream",
     "text": [
      "ICP converged. Fitness score: 3.37\n",
      "Frame : 948\n",
      "Error--------: 178.75126293723284\n",
      "Latent error above the threshold of 1.2\n",
      "Found 12773 lines. Skipped 11. Loaded 12762 points.\n"
     ]
    },
    {
     "name": "stderr",
     "output_type": "stream",
     "text": [
      " 94%|█████████▎| 950/1014 [14:14<00:49,  1.30it/s]"
     ]
    },
    {
     "name": "stdout",
     "output_type": "stream",
     "text": [
      "ICP converged. Fitness score: 4.97\n",
      "Frame : 949\n",
      "Error--------: 178.88432570159173\n",
      "Latent error above the threshold of 1.2\n",
      "Found 11124 lines. Skipped 11. Loaded 11113 points.\n"
     ]
    },
    {
     "name": "stderr",
     "output_type": "stream",
     "text": [
      " 94%|█████████▍| 951/1014 [14:15<00:48,  1.31it/s]"
     ]
    },
    {
     "name": "stdout",
     "output_type": "stream",
     "text": [
      "ICP converged. Fitness score: 6.06\n",
      "Frame : 950\n",
      "Error--------: 178.97732495367177\n",
      "Latent error above the threshold of 1.2\n",
      "Found 13555 lines. Skipped 11. Loaded 13544 points.\n"
     ]
    },
    {
     "name": "stderr",
     "output_type": "stream",
     "text": [
      " 94%|█████████▍| 952/1014 [14:15<00:48,  1.29it/s]"
     ]
    },
    {
     "name": "stdout",
     "output_type": "stream",
     "text": [
      "ICP converged. Fitness score: 4.43\n",
      "Frame : 951\n",
      "Error--------: 179.12007495295785\n",
      "Latent error above the threshold of 1.2\n",
      "Found 11582 lines. Skipped 11. Loaded 11571 points.\n"
     ]
    },
    {
     "name": "stderr",
     "output_type": "stream",
     "text": [
      " 94%|█████████▍| 953/1014 [14:16<00:48,  1.26it/s]"
     ]
    },
    {
     "name": "stdout",
     "output_type": "stream",
     "text": [
      "ICP converged. Fitness score: 5.61\n",
      "Frame : 952\n",
      "Error--------: 179.22461048751418\n",
      "Latent error above the threshold of 1.2\n",
      "Found 12471 lines. Skipped 11. Loaded 12460 points.\n"
     ]
    },
    {
     "name": "stderr",
     "output_type": "stream",
     "text": [
      " 94%|█████████▍| 954/1014 [14:17<00:47,  1.27it/s]"
     ]
    },
    {
     "name": "stdout",
     "output_type": "stream",
     "text": [
      "ICP converged. Fitness score: 4.58\n",
      "Frame : 953\n",
      "Error--------: 179.35416020393438\n",
      "Latent error above the threshold of 1.2\n",
      "Found 12290 lines. Skipped 11. Loaded 12279 points.\n"
     ]
    },
    {
     "name": "stderr",
     "output_type": "stream",
     "text": [
      " 94%|█████████▍| 955/1014 [14:18<00:45,  1.29it/s]"
     ]
    },
    {
     "name": "stdout",
     "output_type": "stream",
     "text": [
      "ICP converged. Fitness score: 5.54\n",
      "Frame : 954\n",
      "Error--------: 179.4897747597335\n",
      "Latent error above the threshold of 1.2\n",
      "Found 12670 lines. Skipped 11. Loaded 12659 points.\n"
     ]
    },
    {
     "name": "stderr",
     "output_type": "stream",
     "text": [
      " 94%|█████████▍| 956/1014 [14:18<00:44,  1.30it/s]"
     ]
    },
    {
     "name": "stdout",
     "output_type": "stream",
     "text": [
      "ICP converged. Fitness score: 4.95\n",
      "Frame : 955\n",
      "Error--------: 179.60748385584975\n",
      "Latent error above the threshold of 1.2\n",
      "Found 11865 lines. Skipped 11. Loaded 11854 points.\n"
     ]
    },
    {
     "name": "stderr",
     "output_type": "stream",
     "text": [
      " 94%|█████████▍| 957/1014 [14:19<00:38,  1.47it/s]"
     ]
    },
    {
     "name": "stdout",
     "output_type": "stream",
     "text": [
      "ICP converged. Fitness score: 5.72\n",
      "Frame : 956\n",
      "Error--------: 179.76220315253093\n",
      "Latent error above the threshold of 1.2\n",
      "Found 12518 lines. Skipped 11. Loaded 12507 points.\n"
     ]
    },
    {
     "name": "stderr",
     "output_type": "stream",
     "text": [
      " 94%|█████████▍| 958/1014 [14:20<00:39,  1.41it/s]"
     ]
    },
    {
     "name": "stdout",
     "output_type": "stream",
     "text": [
      "ICP converged. Fitness score: 4.50\n",
      "Frame : 957\n",
      "Error--------: 179.8536353448802\n",
      "Latent error above the threshold of 1.2\n",
      "Found 10167 lines. Skipped 11. Loaded 10156 points.\n"
     ]
    },
    {
     "name": "stderr",
     "output_type": "stream",
     "text": [
      " 95%|█████████▍| 959/1014 [14:20<00:38,  1.42it/s]"
     ]
    },
    {
     "name": "stdout",
     "output_type": "stream",
     "text": [
      "ICP converged. Fitness score: 5.70\n",
      "Frame : 958\n",
      "Error--------: 180.01738150757836\n",
      "Latent error above the threshold of 1.2\n",
      "Found 14198 lines. Skipped 11. Loaded 14187 points.\n"
     ]
    },
    {
     "name": "stderr",
     "output_type": "stream",
     "text": [
      " 95%|█████████▍| 960/1014 [14:21<00:42,  1.27it/s]"
     ]
    },
    {
     "name": "stdout",
     "output_type": "stream",
     "text": [
      "ICP converged. Fitness score: 2.92\n",
      "Frame : 959\n",
      "Error--------: 180.17374102108317\n",
      "Latent error above the threshold of 1.2\n",
      "Found 11355 lines. Skipped 11. Loaded 11344 points.\n"
     ]
    },
    {
     "name": "stderr",
     "output_type": "stream",
     "text": [
      " 95%|█████████▍| 961/1014 [14:22<00:41,  1.27it/s]"
     ]
    },
    {
     "name": "stdout",
     "output_type": "stream",
     "text": [
      "ICP converged. Fitness score: 5.28\n",
      "Frame : 960\n",
      "Error--------: 180.26710958552832\n",
      "Latent error above the threshold of 1.2\n",
      "Found 12775 lines. Skipped 11. Loaded 12764 points.\n"
     ]
    },
    {
     "name": "stderr",
     "output_type": "stream",
     "text": [
      " 95%|█████████▍| 962/1014 [14:23<00:41,  1.26it/s]"
     ]
    },
    {
     "name": "stdout",
     "output_type": "stream",
     "text": [
      "ICP converged. Fitness score: 4.18\n",
      "Frame : 961\n",
      "Error--------: 180.39276624364754\n",
      "Latent error above the threshold of 1.2\n",
      "Found 12653 lines. Skipped 11. Loaded 12642 points.\n"
     ]
    },
    {
     "name": "stderr",
     "output_type": "stream",
     "text": [
      " 95%|█████████▍| 963/1014 [14:24<00:41,  1.23it/s]"
     ]
    },
    {
     "name": "stdout",
     "output_type": "stream",
     "text": [
      "ICP converged. Fitness score: 5.68\n",
      "Frame : 962\n",
      "Error--------: 180.50055566790056\n",
      "Latent error above the threshold of 1.2\n",
      "Found 11004 lines. Skipped 11. Loaded 10993 points.\n"
     ]
    },
    {
     "name": "stderr",
     "output_type": "stream",
     "text": [
      " 95%|█████████▌| 964/1014 [14:25<00:39,  1.27it/s]"
     ]
    },
    {
     "name": "stdout",
     "output_type": "stream",
     "text": [
      "ICP converged. Fitness score: 4.17\n",
      "Frame : 963\n",
      "Error--------: 180.72138786032409\n",
      "Latent error above the threshold of 1.2\n",
      "Found 11004 lines. Skipped 11. Loaded 10993 points.\n"
     ]
    },
    {
     "name": "stderr",
     "output_type": "stream",
     "text": [
      " 95%|█████████▌| 965/1014 [14:25<00:38,  1.27it/s]"
     ]
    },
    {
     "name": "stdout",
     "output_type": "stream",
     "text": [
      "ICP converged. Fitness score: 5.21\n",
      "Frame : 964\n",
      "Error--------: 180.825849818311\n",
      "Latent error above the threshold of 1.2\n",
      "Found 13355 lines. Skipped 11. Loaded 13344 points.\n"
     ]
    },
    {
     "name": "stderr",
     "output_type": "stream",
     "text": [
      " 95%|█████████▌| 966/1014 [14:26<00:34,  1.40it/s]"
     ]
    },
    {
     "name": "stdout",
     "output_type": "stream",
     "text": [
      "ICP converged. Fitness score: 4.36\n",
      "Frame : 965\n",
      "Error--------: 180.96744442222175\n",
      "Latent error above the threshold of 1.2\n",
      "Found 11022 lines. Skipped 11. Loaded 11011 points.\n"
     ]
    },
    {
     "name": "stderr",
     "output_type": "stream",
     "text": [
      " 95%|█████████▌| 967/1014 [14:27<00:34,  1.36it/s]"
     ]
    },
    {
     "name": "stdout",
     "output_type": "stream",
     "text": [
      "ICP converged. Fitness score: 5.45\n",
      "Frame : 966\n",
      "Error--------: 181.09268233253437\n",
      "Latent error above the threshold of 1.2\n",
      "Found 14411 lines. Skipped 11. Loaded 14400 points.\n"
     ]
    },
    {
     "name": "stderr",
     "output_type": "stream",
     "text": [
      " 95%|█████████▌| 968/1014 [14:27<00:34,  1.33it/s]"
     ]
    },
    {
     "name": "stdout",
     "output_type": "stream",
     "text": [
      "ICP converged. Fitness score: 4.60\n",
      "Frame : 967\n",
      "Error--------: 181.2603348958502\n",
      "Latent error above the threshold of 1.2\n",
      "Found 14139 lines. Skipped 11. Loaded 14128 points.\n"
     ]
    },
    {
     "name": "stderr",
     "output_type": "stream",
     "text": [
      " 96%|█████████▌| 969/1014 [14:28<00:35,  1.28it/s]"
     ]
    },
    {
     "name": "stdout",
     "output_type": "stream",
     "text": [
      "ICP converged. Fitness score: 5.10\n",
      "Frame : 968\n",
      "Error--------: 181.39527863849767\n",
      "Latent error above the threshold of 1.2\n",
      "Found 11002 lines. Skipped 11. Loaded 10991 points.\n"
     ]
    },
    {
     "name": "stderr",
     "output_type": "stream",
     "text": [
      " 96%|█████████▌| 970/1014 [14:29<00:32,  1.35it/s]"
     ]
    },
    {
     "name": "stdout",
     "output_type": "stream",
     "text": [
      "ICP converged. Fitness score: 4.16\n",
      "Frame : 969\n",
      "Error--------: 181.52176447223502\n",
      "Latent error above the threshold of 1.2\n",
      "Found 16272 lines. Skipped 11. Loaded 16261 points.\n"
     ]
    },
    {
     "name": "stderr",
     "output_type": "stream",
     "text": [
      " 96%|█████████▌| 971/1014 [14:30<00:35,  1.22it/s]"
     ]
    },
    {
     "name": "stdout",
     "output_type": "stream",
     "text": [
      "ICP converged. Fitness score: 3.83\n",
      "Frame : 970\n",
      "Error--------: 181.63256726999572\n",
      "Latent error above the threshold of 1.2\n",
      "Found 11406 lines. Skipped 11. Loaded 11395 points.\n"
     ]
    },
    {
     "name": "stderr",
     "output_type": "stream",
     "text": [
      " 96%|█████████▌| 972/1014 [14:31<00:33,  1.25it/s]"
     ]
    },
    {
     "name": "stdout",
     "output_type": "stream",
     "text": [
      "ICP converged. Fitness score: 4.11\n",
      "Frame : 971\n",
      "Error--------: 181.79301601819517\n",
      "Latent error above the threshold of 1.2\n",
      "Found 12502 lines. Skipped 11. Loaded 12491 points.\n"
     ]
    },
    {
     "name": "stderr",
     "output_type": "stream",
     "text": [
      " 96%|█████████▌| 973/1014 [14:32<00:33,  1.23it/s]"
     ]
    },
    {
     "name": "stdout",
     "output_type": "stream",
     "text": [
      "ICP converged. Fitness score: 5.85\n",
      "Frame : 972\n",
      "Error--------: 181.8820443609388\n",
      "Latent error above the threshold of 1.2\n",
      "Found 13508 lines. Skipped 11. Loaded 13497 points.\n"
     ]
    },
    {
     "name": "stderr",
     "output_type": "stream",
     "text": [
      " 96%|█████████▌| 974/1014 [14:32<00:32,  1.22it/s]"
     ]
    },
    {
     "name": "stdout",
     "output_type": "stream",
     "text": [
      "ICP converged. Fitness score: 4.19\n",
      "Frame : 973\n",
      "Error--------: 181.96270645247697\n",
      "Latent error above the threshold of 1.2\n",
      "Found 12141 lines. Skipped 11. Loaded 12130 points.\n"
     ]
    },
    {
     "name": "stderr",
     "output_type": "stream",
     "text": [
      " 96%|█████████▌| 975/1014 [14:33<00:27,  1.40it/s]"
     ]
    },
    {
     "name": "stdout",
     "output_type": "stream",
     "text": [
      "ICP converged. Fitness score: 5.69\n",
      "Frame : 974\n",
      "Error--------: 182.10972383252192\n",
      "Latent error above the threshold of 1.2\n",
      "Found 12705 lines. Skipped 11. Loaded 12694 points.\n"
     ]
    },
    {
     "name": "stderr",
     "output_type": "stream",
     "text": [
      " 96%|█████████▋| 976/1014 [14:34<00:28,  1.34it/s]"
     ]
    },
    {
     "name": "stdout",
     "output_type": "stream",
     "text": [
      "ICP converged. Fitness score: 4.31\n",
      "Frame : 975\n",
      "Error--------: 182.19914694510746\n",
      "Latent error above the threshold of 1.2\n",
      "Found 12310 lines. Skipped 11. Loaded 12299 points.\n"
     ]
    },
    {
     "name": "stderr",
     "output_type": "stream",
     "text": [
      " 96%|█████████▋| 977/1014 [14:34<00:24,  1.51it/s]"
     ]
    },
    {
     "name": "stdout",
     "output_type": "stream",
     "text": [
      "ICP converged. Fitness score: 5.77\n",
      "Frame : 976\n",
      "Error--------: 182.31025473101585\n",
      "Latent error above the threshold of 1.2\n",
      "Found 13209 lines. Skipped 11. Loaded 13198 points.\n"
     ]
    },
    {
     "name": "stderr",
     "output_type": "stream",
     "text": [
      " 96%|█████████▋| 978/1014 [14:35<00:25,  1.42it/s]"
     ]
    },
    {
     "name": "stdout",
     "output_type": "stream",
     "text": [
      "ICP converged. Fitness score: 3.99\n",
      "Frame : 977\n",
      "Error--------: 182.40580146958112\n",
      "Latent error above the threshold of 1.2\n",
      "Found 11665 lines. Skipped 11. Loaded 11654 points.\n"
     ]
    },
    {
     "name": "stderr",
     "output_type": "stream",
     "text": [
      " 97%|█████████▋| 979/1014 [14:35<00:22,  1.56it/s]"
     ]
    },
    {
     "name": "stdout",
     "output_type": "stream",
     "text": [
      "ICP converged. Fitness score: 5.95\n",
      "Frame : 978\n",
      "Error--------: 182.38737739874028\n",
      "Latent error above the threshold of 1.2\n",
      "Found 13766 lines. Skipped 11. Loaded 13755 points.\n"
     ]
    },
    {
     "name": "stderr",
     "output_type": "stream",
     "text": [
      " 97%|█████████▋| 980/1014 [14:36<00:23,  1.45it/s]"
     ]
    },
    {
     "name": "stdout",
     "output_type": "stream",
     "text": [
      "ICP converged. Fitness score: 4.61\n",
      "Frame : 979\n",
      "Error--------: 182.37011059958135\n",
      "Latent error above the threshold of 1.2\n",
      "Found 11891 lines. Skipped 11. Loaded 11880 points.\n"
     ]
    },
    {
     "name": "stderr",
     "output_type": "stream",
     "text": [
      " 97%|█████████▋| 981/1014 [14:37<00:22,  1.44it/s]"
     ]
    },
    {
     "name": "stdout",
     "output_type": "stream",
     "text": [
      "ICP converged. Fitness score: 5.76\n",
      "Frame : 980\n",
      "Error--------: 182.36754014254387\n",
      "Latent error above the threshold of 1.2\n",
      "Found 15831 lines. Skipped 11. Loaded 15820 points.\n"
     ]
    },
    {
     "name": "stderr",
     "output_type": "stream",
     "text": [
      " 97%|█████████▋| 982/1014 [14:38<00:24,  1.29it/s]"
     ]
    },
    {
     "name": "stdout",
     "output_type": "stream",
     "text": [
      "ICP converged. Fitness score: 3.46\n",
      "Frame : 981\n",
      "Error--------: 182.36154347585992\n",
      "Latent error above the threshold of 1.2\n",
      "Found 11674 lines. Skipped 11. Loaded 11663 points.\n"
     ]
    },
    {
     "name": "stderr",
     "output_type": "stream",
     "text": [
      " 97%|█████████▋| 983/1014 [14:39<00:24,  1.27it/s]"
     ]
    },
    {
     "name": "stdout",
     "output_type": "stream",
     "text": [
      "ICP converged. Fitness score: 5.61\n",
      "Frame : 982\n",
      "Error--------: 182.35166381620738\n",
      "Latent error above the threshold of 1.2\n",
      "Found 14255 lines. Skipped 11. Loaded 14244 points.\n"
     ]
    },
    {
     "name": "stderr",
     "output_type": "stream",
     "text": [
      " 97%|█████████▋| 984/1014 [14:40<00:23,  1.25it/s]"
     ]
    },
    {
     "name": "stdout",
     "output_type": "stream",
     "text": [
      "ICP converged. Fitness score: 4.31\n",
      "Frame : 983\n",
      "Error--------: 182.3723650545596\n",
      "Latent error above the threshold of 1.2\n",
      "Found 11341 lines. Skipped 11. Loaded 11330 points.\n"
     ]
    },
    {
     "name": "stderr",
     "output_type": "stream",
     "text": [
      " 97%|█████████▋| 985/1014 [14:40<00:22,  1.26it/s]"
     ]
    },
    {
     "name": "stdout",
     "output_type": "stream",
     "text": [
      "ICP converged. Fitness score: 5.48\n",
      "Frame : 984\n",
      "Error--------: 182.3714243841816\n",
      "Latent error above the threshold of 1.2\n",
      "Found 11705 lines. Skipped 11. Loaded 11694 points.\n"
     ]
    },
    {
     "name": "stderr",
     "output_type": "stream",
     "text": [
      " 97%|█████████▋| 986/1014 [14:41<00:21,  1.30it/s]"
     ]
    },
    {
     "name": "stdout",
     "output_type": "stream",
     "text": [
      "ICP converged. Fitness score: 4.16\n",
      "Frame : 985\n",
      "Error--------: 182.37573324288132\n",
      "Latent error above the threshold of 1.2\n",
      "Found 11637 lines. Skipped 11. Loaded 11626 points.\n"
     ]
    },
    {
     "name": "stderr",
     "output_type": "stream",
     "text": [
      " 97%|█████████▋| 987/1014 [14:42<00:20,  1.32it/s]"
     ]
    },
    {
     "name": "stdout",
     "output_type": "stream",
     "text": [
      "ICP converged. Fitness score: 5.04\n",
      "Frame : 986\n",
      "Error--------: 182.37710798480896\n",
      "Latent error above the threshold of 1.2\n",
      "Found 13036 lines. Skipped 11. Loaded 13025 points.\n"
     ]
    },
    {
     "name": "stderr",
     "output_type": "stream",
     "text": [
      " 97%|█████████▋| 988/1014 [14:42<00:17,  1.46it/s]"
     ]
    },
    {
     "name": "stdout",
     "output_type": "stream",
     "text": [
      "ICP converged. Fitness score: 4.10\n",
      "Frame : 987\n",
      "Error--------: 182.3989081063421\n",
      "Latent error above the threshold of 1.2\n",
      "Found 12604 lines. Skipped 11. Loaded 12593 points.\n"
     ]
    },
    {
     "name": "stderr",
     "output_type": "stream",
     "text": [
      " 98%|█████████▊| 989/1014 [14:43<00:18,  1.39it/s]"
     ]
    },
    {
     "name": "stdout",
     "output_type": "stream",
     "text": [
      "ICP converged. Fitness score: 5.12\n",
      "Frame : 988\n",
      "Error--------: 182.40286606269842\n",
      "Latent error above the threshold of 1.2\n",
      "Found 12991 lines. Skipped 11. Loaded 12980 points.\n"
     ]
    },
    {
     "name": "stderr",
     "output_type": "stream",
     "text": [
      " 98%|█████████▊| 990/1014 [14:44<00:17,  1.35it/s]"
     ]
    },
    {
     "name": "stdout",
     "output_type": "stream",
     "text": [
      "ICP converged. Fitness score: 4.00\n",
      "Frame : 989\n",
      "Error--------: 182.4231851432527\n",
      "Latent error above the threshold of 1.2\n",
      "Found 13648 lines. Skipped 11. Loaded 13637 points.\n"
     ]
    },
    {
     "name": "stderr",
     "output_type": "stream",
     "text": [
      " 98%|█████████▊| 991/1014 [14:45<00:17,  1.28it/s]"
     ]
    },
    {
     "name": "stdout",
     "output_type": "stream",
     "text": [
      "ICP converged. Fitness score: 7.16\n",
      "Frame : 990\n",
      "Error--------: 182.38654069956593\n",
      "Latent error above the threshold of 1.2\n",
      "Found 12515 lines. Skipped 11. Loaded 12504 points.\n"
     ]
    },
    {
     "name": "stderr",
     "output_type": "stream",
     "text": [
      " 98%|█████████▊| 992/1014 [14:46<00:17,  1.26it/s]"
     ]
    },
    {
     "name": "stdout",
     "output_type": "stream",
     "text": [
      "ICP converged. Fitness score: 4.00\n",
      "Frame : 991\n",
      "Error--------: 182.39471838493853\n",
      "Latent error above the threshold of 1.2\n",
      "Found 15025 lines. Skipped 11. Loaded 15014 points.\n"
     ]
    },
    {
     "name": "stderr",
     "output_type": "stream",
     "text": [
      " 98%|█████████▊| 993/1014 [14:47<00:17,  1.20it/s]"
     ]
    },
    {
     "name": "stdout",
     "output_type": "stream",
     "text": [
      "ICP converged. Fitness score: 4.92\n",
      "Frame : 992\n",
      "Error--------: 182.5459876701929\n",
      "Latent error above the threshold of 1.2\n",
      "Found 8916 lines. Skipped 11. Loaded 8905 points.\n"
     ]
    },
    {
     "name": "stderr",
     "output_type": "stream",
     "text": [
      " 98%|█████████▊| 994/1014 [14:48<00:19,  1.00it/s]"
     ]
    },
    {
     "name": "stdout",
     "output_type": "stream",
     "text": [
      "ICP converged. Fitness score: 4.38\n",
      "Frame : 993\n",
      "Error--------: 182.66096874595058\n",
      "Latent error above the threshold of 1.2\n",
      "Found 10810 lines. Skipped 11. Loaded 10799 points.\n"
     ]
    },
    {
     "name": "stderr",
     "output_type": "stream",
     "text": [
      " 98%|█████████▊| 995/1014 [14:49<00:19,  1.00s/it]"
     ]
    },
    {
     "name": "stdout",
     "output_type": "stream",
     "text": [
      "ICP converged. Fitness score: 6.06\n",
      "Frame : 994\n",
      "Error--------: 182.4097795636767\n",
      "Latent error above the threshold of 1.2\n",
      "Found 12769 lines. Skipped 11. Loaded 12758 points.\n"
     ]
    },
    {
     "name": "stderr",
     "output_type": "stream",
     "text": [
      " 98%|█████████▊| 996/1014 [14:50<00:18,  1.01s/it]"
     ]
    },
    {
     "name": "stdout",
     "output_type": "stream",
     "text": [
      "ICP converged. Fitness score: 4.67\n",
      "Frame : 995\n",
      "Error--------: 182.39695238468772\n",
      "Latent error above the threshold of 1.2\n",
      "Found 10108 lines. Skipped 11. Loaded 10097 points.\n"
     ]
    },
    {
     "name": "stderr",
     "output_type": "stream",
     "text": [
      " 98%|█████████▊| 997/1014 [14:51<00:15,  1.09it/s]"
     ]
    },
    {
     "name": "stdout",
     "output_type": "stream",
     "text": [
      "ICP converged. Fitness score: 6.37\n",
      "Frame : 996\n",
      "Error--------: 182.39269701059476\n",
      "Latent error above the threshold of 1.2\n",
      "Found 11361 lines. Skipped 11. Loaded 11350 points.\n"
     ]
    },
    {
     "name": "stderr",
     "output_type": "stream",
     "text": [
      " 98%|█████████▊| 998/1014 [14:52<00:16,  1.01s/it]"
     ]
    },
    {
     "name": "stdout",
     "output_type": "stream",
     "text": [
      "ICP converged. Fitness score: 4.83\n",
      "Frame : 997\n",
      "Error--------: 182.38977882564694\n",
      "Latent error above the threshold of 1.2\n",
      "Found 11997 lines. Skipped 11. Loaded 11986 points.\n"
     ]
    },
    {
     "name": "stderr",
     "output_type": "stream",
     "text": [
      " 99%|█████████▊| 999/1014 [14:53<00:14,  1.01it/s]"
     ]
    },
    {
     "name": "stdout",
     "output_type": "stream",
     "text": [
      "ICP converged. Fitness score: 6.51\n",
      "Frame : 998\n",
      "Error--------: 182.37645092444203\n",
      "Latent error above the threshold of 1.2\n",
      "Found 13334 lines. Skipped 11. Loaded 13323 points.\n"
     ]
    },
    {
     "name": "stderr",
     "output_type": "stream",
     "text": [
      " 99%|█████████▊| 1000/1014 [14:54<00:14,  1.02s/it]"
     ]
    },
    {
     "name": "stdout",
     "output_type": "stream",
     "text": [
      "ICP converged. Fitness score: 4.72\n",
      "Frame : 999\n",
      "Error--------: 182.38035070048747\n",
      "Latent error above the threshold of 1.2\n",
      "Found 11565 lines. Skipped 11. Loaded 11554 points.\n"
     ]
    },
    {
     "name": "stderr",
     "output_type": "stream",
     "text": [
      " 99%|█████████▊| 1001/1014 [14:55<00:12,  1.01it/s]"
     ]
    },
    {
     "name": "stdout",
     "output_type": "stream",
     "text": [
      "ICP converged. Fitness score: 6.52\n",
      "Frame : 1000\n",
      "Error--------: 182.41990828980374\n",
      "Latent error above the threshold of 1.2\n",
      "Found 12093 lines. Skipped 11. Loaded 12082 points.\n"
     ]
    },
    {
     "name": "stderr",
     "output_type": "stream",
     "text": [
      " 99%|█████████▉| 1002/1014 [14:56<00:12,  1.01s/it]"
     ]
    },
    {
     "name": "stdout",
     "output_type": "stream",
     "text": [
      "ICP converged. Fitness score: 4.41\n",
      "Frame : 1001\n",
      "Error--------: 182.41842806488987\n",
      "Latent error above the threshold of 1.2\n",
      "Found 13654 lines. Skipped 11. Loaded 13643 points.\n"
     ]
    },
    {
     "name": "stderr",
     "output_type": "stream",
     "text": [
      " 99%|█████████▉| 1003/1014 [14:57<00:11,  1.07s/it]"
     ]
    },
    {
     "name": "stdout",
     "output_type": "stream",
     "text": [
      "ICP converged. Fitness score: 6.80\n",
      "Frame : 1002\n",
      "Error--------: 182.38604224614556\n",
      "Latent error above the threshold of 1.2\n",
      "Found 15025 lines. Skipped 11. Loaded 15014 points.\n"
     ]
    },
    {
     "name": "stderr",
     "output_type": "stream",
     "text": [
      " 99%|█████████▉| 1004/1014 [14:58<00:11,  1.13s/it]"
     ]
    },
    {
     "name": "stdout",
     "output_type": "stream",
     "text": [
      "ICP converged. Fitness score: 3.77\n",
      "Frame : 1003\n",
      "Error--------: 182.3783311158304\n",
      "Latent error above the threshold of 1.2\n",
      "Found 13652 lines. Skipped 11. Loaded 13641 points.\n"
     ]
    },
    {
     "name": "stderr",
     "output_type": "stream",
     "text": [
      " 99%|█████████▉| 1005/1014 [14:59<00:09,  1.03s/it]"
     ]
    },
    {
     "name": "stdout",
     "output_type": "stream",
     "text": [
      "ICP converged. Fitness score: 6.45\n",
      "Frame : 1004\n",
      "Error--------: 182.4018584847417\n",
      "Latent error above the threshold of 1.2\n",
      "Found 12905 lines. Skipped 11. Loaded 12894 points.\n"
     ]
    },
    {
     "name": "stderr",
     "output_type": "stream",
     "text": [
      " 99%|█████████▉| 1006/1014 [15:00<00:07,  1.04it/s]"
     ]
    },
    {
     "name": "stdout",
     "output_type": "stream",
     "text": [
      "ICP converged. Fitness score: 4.29\n",
      "Frame : 1005\n",
      "Error--------: 182.35933134571147\n",
      "Latent error above the threshold of 1.2\n",
      "Found 9851 lines. Skipped 11. Loaded 9840 points.\n"
     ]
    },
    {
     "name": "stderr",
     "output_type": "stream",
     "text": [
      " 99%|█████████▉| 1007/1014 [15:01<00:06,  1.11it/s]"
     ]
    },
    {
     "name": "stdout",
     "output_type": "stream",
     "text": [
      "ICP converged. Fitness score: 5.53\n",
      "Frame : 1006\n",
      "Error--------: 182.37092122507624\n",
      "Latent error above the threshold of 1.2\n",
      "Found 12246 lines. Skipped 11. Loaded 12235 points.\n"
     ]
    },
    {
     "name": "stderr",
     "output_type": "stream",
     "text": [
      " 99%|█████████▉| 1008/1014 [15:01<00:05,  1.17it/s]"
     ]
    },
    {
     "name": "stdout",
     "output_type": "stream",
     "text": [
      "ICP converged. Fitness score: 4.06\n",
      "Frame : 1007\n",
      "Error--------: 182.3689880770382\n",
      "Latent error above the threshold of 1.2\n",
      "Found 12493 lines. Skipped 11. Loaded 12482 points.\n"
     ]
    },
    {
     "name": "stderr",
     "output_type": "stream",
     "text": [
      "100%|█████████▉| 1009/1014 [15:02<00:04,  1.21it/s]"
     ]
    },
    {
     "name": "stdout",
     "output_type": "stream",
     "text": [
      "ICP converged. Fitness score: 6.01\n",
      "Frame : 1008\n",
      "Error--------: 182.3658425010871\n",
      "Latent error above the threshold of 1.2\n",
      "Found 14209 lines. Skipped 11. Loaded 14198 points.\n"
     ]
    },
    {
     "name": "stderr",
     "output_type": "stream",
     "text": [
      "100%|█████████▉| 1010/1014 [15:03<00:03,  1.20it/s]"
     ]
    },
    {
     "name": "stdout",
     "output_type": "stream",
     "text": [
      "ICP converged. Fitness score: 4.32\n",
      "Frame : 1009\n",
      "Error--------: 182.37036601812414\n",
      "Latent error above the threshold of 1.2\n",
      "Found 11748 lines. Skipped 11. Loaded 11737 points.\n"
     ]
    },
    {
     "name": "stderr",
     "output_type": "stream",
     "text": [
      "100%|█████████▉| 1011/1014 [15:04<00:02,  1.23it/s]"
     ]
    },
    {
     "name": "stdout",
     "output_type": "stream",
     "text": [
      "ICP converged. Fitness score: 6.09\n",
      "Frame : 1010\n",
      "Error--------: 182.3863867054773\n",
      "Latent error above the threshold of 1.2\n",
      "Found 13864 lines. Skipped 11. Loaded 13853 points.\n"
     ]
    },
    {
     "name": "stderr",
     "output_type": "stream",
     "text": [
      "100%|█████████▉| 1012/1014 [15:05<00:01,  1.25it/s]"
     ]
    },
    {
     "name": "stdout",
     "output_type": "stream",
     "text": [
      "ICP converged. Fitness score: 4.25\n",
      "Frame : 1011\n",
      "Error--------: 182.38717359308922\n",
      "Latent error above the threshold of 1.2\n",
      "Found 26254 lines. Skipped 11. Loaded 26243 points.\n"
     ]
    },
    {
     "name": "stderr",
     "output_type": "stream",
     "text": [
      "100%|█████████▉| 1013/1014 [15:06<00:00,  1.10it/s]"
     ]
    },
    {
     "name": "stdout",
     "output_type": "stream",
     "text": [
      "ICP converged. Fitness score: 6.70\n",
      "Frame : 1012\n",
      "Error--------: 182.37863381375402\n",
      "Latent error above the threshold of 1.2\n",
      "Found 12734 lines. Skipped 11. Loaded 12723 points.\n"
     ]
    },
    {
     "name": "stderr",
     "output_type": "stream",
     "text": [
      "100%|██████████| 1014/1014 [15:07<00:00,  1.12it/s]"
     ]
    },
    {
     "name": "stdout",
     "output_type": "stream",
     "text": [
      "ICP converged. Fitness score: 4.29\n",
      "Frame : 1013\n",
      "Error--------: 182.3788015760444\n",
      "Latent error above the threshold of 1.2\n",
      "Total execution time: 907.065 seconds\n"
     ]
    },
    {
     "name": "stderr",
     "output_type": "stream",
     "text": [
      "\n"
     ]
    }
   ],
   "source": [
    "#initial transformation\n",
    "initTransform = np.identity(4)\n",
    "icp_errors =[]\n",
    "voxel_size = 0.2\n",
    "\n",
    "start_time = time.time()\n",
    "\n",
    "#loops over all frames and returns the the lateral errors \n",
    "for sample in tqdm(range(samples)):\n",
    "\n",
    "    frame_path = os.path.join(frames_dir, frame_files[sample])\n",
    "    source_points = load_data(frame_path)\n",
    "    \n",
    "    \n",
    "    #voxel filter\n",
    "    points = voxel_downsample(source_points, 0.2)\n",
    "\n",
    "\n",
    "    #transfrom source points based on last alignment transformation\n",
    "    pcd = o3d.geometry.PointCloud()\n",
    "    pcd.points = o3d.utility.Vector3dVector(points)\n",
    "    pcd = pcd.transform(initTransform)\n",
    "    t_points = np.array(pcd.points)\n",
    "\n",
    "    #ICP alignmnet returns transformation matrix\n",
    "\n",
    "\n",
    "    \n",
    "    trans= icp(source= t_points, target=target_points,transformation=np.identity(4), nr_iterations=30, epsilon=1e-6,\n",
    "                         inlier_threshold=1e-6, distance_threshold= 1, downsample = 0, visualize=False)\n",
    "    \n",
    "\n",
    "    initTransform = trans * initTransform\n",
    "\n",
    "    \n",
    "    #grab frame values from ground truth\n",
    "    frame_gt = g_df[g_df['Frame'] == sample]\n",
    "\n",
    "\n",
    "    \n",
    "    # Calculate L2 norm for latent error \n",
    "    errors = np.linalg.norm(np.array([initTransform[0,3],initTransform[1,3],initTransform[2,3]])-np.array([ frame_gt[' x'].item(),  frame_gt[' y'].item(),  frame_gt[' z'].item()]))  \n",
    "    print('Frame :', sample)\n",
    "    print(\"Error--------:\", errors) \n",
    "    if errors>1.2:\n",
    "        print(\"Latent error above the threshold of 1.2\")\n",
    "\n",
    "  \n",
    "    initTransform = trans \n",
    "\n",
    "    icp_errors.append(errors)\n",
    "\n",
    "end_time = time.time()\n",
    "total_icp_time = end_time - start_time\n",
    "\n",
    "print(f\"Total execution time: {total_icp_time:.3f} seconds\")\n",
    "\n"
   ]
  },
  {
   "attachments": {},
   "cell_type": "markdown",
   "metadata": {},
   "source": [
    "## NDT LOCALIZATION ##"
   ]
  },
  {
   "cell_type": "code",
   "execution_count": 9,
   "metadata": {},
   "outputs": [
    {
     "name": "stderr",
     "output_type": "stream",
     "text": [
      "  0%|          | 0/1014 [00:00<?, ?it/s]"
     ]
    },
    {
     "name": "stdout",
     "output_type": "stream",
     "text": [
      "Found 9104 lines. Skipped 11. Loaded 9093 points.\n"
     ]
    },
    {
     "name": "stderr",
     "output_type": "stream",
     "text": [
      "  0%|          | 0/1014 [03:38<?, ?it/s]\n"
     ]
    },
    {
     "ename": "ValueError",
     "evalue": "setting an array element with a sequence. The requested array has an inhomogeneous shape after 1 dimensions. The detected shape was (2,) + inhomogeneous part.",
     "output_type": "error",
     "traceback": [
      "\u001b[0;31m---------------------------------------------------------------------------\u001b[0m",
      "\u001b[0;31mValueError\u001b[0m                                Traceback (most recent call last)",
      "Cell \u001b[0;32mIn[9], line 31\u001b[0m\n\u001b[1;32m     25\u001b[0m \u001b[39m#NDT alignmnet returns transformation matrix\u001b[39;00m\n\u001b[1;32m     27\u001b[0m trans\u001b[39m=\u001b[39m ndt(source\u001b[39m=\u001b[39m t_points, target\u001b[39m=\u001b[39mtarget_points,transformation\u001b[39m=\u001b[39mnp\u001b[39m.\u001b[39midentity(\u001b[39m4\u001b[39m),voxelize\u001b[39m=\u001b[39m\u001b[39m0\u001b[39m, nr_iterations\u001b[39m=\u001b[39m\u001b[39m60\u001b[39m, epsilon\u001b[39m=\u001b[39m\u001b[39m1e-3\u001b[39m,\n\u001b[1;32m     28\u001b[0m                      inlier_threshold\u001b[39m=\u001b[39m\u001b[39m1e-3\u001b[39m, distance_threshold\u001b[39m=\u001b[39m \u001b[39m1\u001b[39m, downsample \u001b[39m=\u001b[39m \u001b[39m0\u001b[39m, visualize\u001b[39m=\u001b[39m\u001b[39mFalse\u001b[39;00m)\n\u001b[0;32m---> 31\u001b[0m initTransform \u001b[39m=\u001b[39m trans \u001b[39m*\u001b[39;49m initTransform\n\u001b[1;32m     34\u001b[0m \u001b[39m#grab frame values from ground truth\u001b[39;00m\n\u001b[1;32m     35\u001b[0m frame_gt \u001b[39m=\u001b[39m g_df[g_df[\u001b[39m'\u001b[39m\u001b[39mFrame\u001b[39m\u001b[39m'\u001b[39m] \u001b[39m==\u001b[39m sample]\n",
      "\u001b[0;31mValueError\u001b[0m: setting an array element with a sequence. The requested array has an inhomogeneous shape after 1 dimensions. The detected shape was (2,) + inhomogeneous part."
     ]
    }
   ],
   "source": [
    "#initial transformation\n",
    "initTransform = np.identity(4)\n",
    "ndt_errors =[]\n",
    "voxel_size = 0.2\n",
    "\n",
    "start_time = time.time()\n",
    "\n",
    "#loops over all frames and returns the the lateral errors \n",
    "for sample in tqdm(range(samples)):\n",
    "\n",
    "    frame_path = os.path.join(\"/app/dataset/frames/\", frame_files[sample])\n",
    "    source_points = load_data(frame_path)\n",
    "    \n",
    "    \n",
    "    #voxel filter\n",
    "    points = voxel_downsample(source_points, 0.2)\n",
    "\n",
    "\n",
    "    #transfrom source points based on last alignment transformation\n",
    "    pcd = o3d.geometry.PointCloud()\n",
    "    pcd.points = o3d.utility.Vector3dVector(points)\n",
    "    pcd = pcd.transform(initTransform)\n",
    "    t_points = np.array(pcd.points)\n",
    "\n",
    "    #NDT alignmnet returns transformation matrix\n",
    "\n",
    "    trans= ndt(source= t_points, target=target_points,transformation=np.identity(4),voxelize=0, nr_iterations=60, epsilon=1e-3,\n",
    "                         inlier_threshold=1e-3, distance_threshold= 1, downsample = 0, visualize=False)\n",
    "    \n",
    "\n",
    "    initTransform = trans \n",
    "\n",
    "    \n",
    "    #grab frame values from ground truth\n",
    "    frame_gt = g_df[g_df['Frame'] == sample]\n",
    "\n",
    "\n",
    "    \n",
    "    # Calculate L2 norm for latent error \n",
    "    errors = np.linalg.norm(np.array([initTransform[0,3],initTransform[1,3],initTransform[2,3]])-np.array([ frame_gt[' x'].item(),  frame_gt[' y'].item(),  frame_gt[' z'].item()]))  \n",
    "    print('Frame :', sample)\n",
    "    print(\"Error--------:\", errors) \n",
    "    if errors>1.2:\n",
    "        print(\"Too big error\")\n",
    "\n",
    "\n",
    "    #initTransform = trans \n",
    "\n",
    "    ndt_errors.append(errors)\n",
    "\n",
    "end_time = time.time()\n",
    "total_ndt_time = end_time - start_time\n",
    "\n",
    "print(f\"Total execution time: {total_ndt_time:.3f} seconds\")\n"
   ]
  },
  {
   "attachments": {},
   "cell_type": "markdown",
   "metadata": {},
   "source": [
    "## Analysis \n",
    "\n",
    "### RMSE\n",
    "\n",
    "### Runtime\n",
    "Without any downsampling the *ndt* needs around 15 seconds for the calculation of one transform from our data set. With the chosen downsampling \n",
    "and voxelization parameter, the calculation takes only roughly one second. While trying the algorithm on not downsampled data samples,\n",
    "no performance difference could be observed."
   ]
  },
  {
   "cell_type": "code",
   "execution_count": null,
   "metadata": {},
   "outputs": [
    {
     "name": "stdout",
     "output_type": "stream",
     "text": [
      "Number of sucessful frames localization using ICP : 32\n",
      "Mean error using ICP localization : 10.237\n",
      "Max error using ICP localization : 24.898\n"
     ]
    }
   ],
   "source": [
    "error_icp = np.array(icp_errors)\n",
    "Mean_icp_error = np.mean(error_icp)\n",
    "Max_icp_error = np.max(error_icp)\n",
    "\n",
    "print(\"Number of sucessful frames localization using ICP :\", len(error_icp[error_icp<1.2]))\n",
    "print(\"Mean error using ICP localization :\",f'{Mean_icp_error:.3f}')\n",
    "print(\"Max error using ICP localization :\", f'{Max_icp_error:.3f}')\n",
    "print(\"Time needed for localization of all frames using ICP :\", f'{total_icp_time:.3f}', \"seconds\")\n"
   ]
  },
  {
   "cell_type": "code",
   "execution_count": null,
   "metadata": {},
   "outputs": [],
   "source": [
    "error_ndt = np.array(ndt_errors)\n",
    "Mean_ndt_error = np.mean(error_ndt)\n",
    "Max_ndt_error = np.max(error_ndt)\n",
    "\n",
    "print(\"Number of failed frames localization using NDT :\", len(error_ndt[error_ndt<1.2]))\n",
    "print(\"Mean error using NDT localization :\", f'{Mean_ndt_error:.3f}')\n",
    "print(\"Max error using NDT localization :\", f'{Max_ndt_error:.3f}')\n",
    "print(\"Time needed for localization of all frames using ndt :\", f'{total_ndt_time:.3f}', \"seconds\")"
   ]
  }
 ],
 "metadata": {
  "kernelspec": {
   "display_name": "Python 3",
   "language": "python",
   "name": "python3"
  },
  "language_info": {
   "codemirror_mode": {
    "name": "ipython",
    "version": 3
   },
   "file_extension": ".py",
   "mimetype": "text/x-python",
   "name": "python",
   "nbconvert_exporter": "python",
   "pygments_lexer": "ipython3",
   "version": "3.8.10"
  },
  "orig_nbformat": 4
 },
 "nbformat": 4,
 "nbformat_minor": 2
}
