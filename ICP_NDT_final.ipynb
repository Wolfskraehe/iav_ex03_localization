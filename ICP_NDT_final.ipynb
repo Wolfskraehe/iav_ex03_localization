{
 "cells": [
  {
   "attachments": {},
   "cell_type": "markdown",
   "metadata": {},
   "source": [
    "# Localization \n",
    "\n",
    "*Project Members*\n",
    "\n",
    "\n",
    "| Name       | Marticulation Number     | Contribution |\n",
    "|--------------|-----------|------------|\n",
    "| Jenish Thapa | k12137169    | ICP        |\n",
    "| Christoph Domberger      | k51849497   | ICP      |\n",
    "| Sebastian Ukleja     | k0512011   | NDT      |\n",
    "| Prasil Adhikari      | k12049801   | NDT     |\n"
   ]
  },
  {
   "attachments": {},
   "cell_type": "markdown",
   "metadata": {},
   "source": [
    "## Project Overview ##\n",
    "\n",
    "The project objective is to achieve the localization for a car driving within a simulated environment, covering a minimum distance of 170m from its starting position, while keeping the distance pose error within 1.2m. To accomplish this, we will make use of pointclouds extracted from a simulated car equipped with a lidar, which provides regular lidar scans. Additionally, there is an existing point cloud map \"map.pcd\" available, extracted from the CARLA simulator. We can achieve localization for the car by using point registration algorithms ICP and NDT matching between the map and the scans. We will then evaluate the disatnce pose error between the pose we get from localization algorithm and from the ground truth provided along with the dataset"
   ]
  },
  {
   "cell_type": "markdown",
   "metadata": {},
   "source": [
    "## Set up ##\n",
    "\n",
    "You can set up and run this notebook by extracting the files from the zip file and later setting up the docker using the docker file in VS code. Do setup and use xlauncher to get visualization if needed\n",
    "\n",
    "\n",
    "\n",
    "In this implementation the poincloud library (https://pointclouds.org/) was used, with python bindings from (https://github.com/hummat/registration).\n",
    "The bindings were slightly adopted for our use case and the pcl110 registration library was used.\n"
   ]
  },
  {
   "cell_type": "code",
   "execution_count": 1,
   "metadata": {},
   "outputs": [
    {
     "name": "stdout",
     "output_type": "stream",
     "text": [
      "Jupyter environment detected. Enabling Open3D WebVisualizer.\n",
      "[Open3D INFO] WebRTC GUI backend enabled.\n",
      "[Open3D INFO] WebRTCWindowSystem: HTTP handshake server disabled.\n"
     ]
    }
   ],
   "source": [
    "\n",
    "#import libraries and frameworks\n",
    "from typing import Tuple, List\n",
    "\n",
    "import numpy as np\n",
    "import open3d as o3d\n",
    "import os\n",
    "import copy\n",
    "import numpy as np\n",
    "import matplotlib.pyplot as plt\n",
    "import exercises.tools.utils as utils\n",
    "from matplotlib import animation, rc\n",
    "import matplotlib.pyplot as plt\n",
    "from scipy.stats import multivariate_normal\n",
    "from IPython.display import display, Math, Latex, Markdown, HTML\n",
    "\n",
    "from tqdm import tqdm\n",
    "import time\n",
    "import pandas as pd\n",
    "\n",
    "%matplotlib inline"
   ]
  },
  {
   "cell_type": "code",
   "execution_count": 2,
   "metadata": {},
   "outputs": [
    {
     "name": "stdout",
     "output_type": "stream",
     "text": [
      "Compiled C++ library was not found in the current directory. Please use `load_library` to load it from a custom directory, then ignore this message.\n"
     ]
    }
   ],
   "source": [
    "#lib wrapper for cpp registration libary slightly altered from: https://github.com/hummat/registration\n",
    "#using registration library pcl110\n",
    "\n",
    "import os\n",
    "import ctypes\n",
    "import csv\n",
    "\n",
    "import numpy as np\n",
    "\n",
    "\n",
    "def load_library(path: str = os.getcwd(), name: str = \"libregistration_pcl110\") -> None:\n",
    "    global REGLIB\n",
    "    try:\n",
    "        REGLIB = np.ctypeslib.load_library(libname=name, loader_path=path)\n",
    "        print(\"REGLIB loaded\")\n",
    "        print(REGLIB)\n",
    "    except OSError:\n",
    "        print(\"Compiled C++ library was not found in the current directory. Please use `load_library` to load it from \"\n",
    "              \"a custom directory, then ignore this message.\")\n",
    "\n",
    "\n",
    "load_library()\n",
    "\n",
    "\n",
    "def load_data(path: str, delimiter: str = ' ') -> np.ndarray:\n",
    "    \"\"\"Loads point cloud data of type `CSV`, `PLY` and `PCD`.\n",
    "\n",
    "    The file should contain one point per line where each number is separated by the `delimiter` character.\n",
    "    Any none numeric lines will be skipped.\n",
    "\n",
    "    Args:\n",
    "        path (str): The path to the file.\n",
    "        delimiter (char): Separation of numbers in each line of the file.\n",
    "\n",
    "    Returns:\n",
    "        A ndarray of shape NxD where `N` are the number of points in the point cloud and `D` their dimension.\n",
    "    \"\"\"\n",
    "    data = list()\n",
    "    with open(path, newline='\\n') as file:\n",
    "        reader = csv.reader(file, delimiter=delimiter, quoting=csv.QUOTE_NONNUMERIC)\n",
    "        lines = 0\n",
    "        skips = 0\n",
    "        while True:\n",
    "            try:\n",
    "                row = next(reader)\n",
    "                row = [x for x in row if not isinstance(x, str)]\n",
    "                if len(row) in [3, 6, 9]:\n",
    "                    data.append(row[:3])\n",
    "                else:\n",
    "                    skips += 1\n",
    "            except ValueError:\n",
    "                skips += 1\n",
    "                pass\n",
    "            except StopIteration:\n",
    "                print(f\"Found {lines} lines. Skipped {skips}. Loaded {lines - skips} points.\")\n",
    "                break\n",
    "            lines += 1\n",
    "    return np.array(data)\n",
    "\n",
    "\n",
    "def set_argtypes(algorithm, source, target):\n",
    "    \"\"\"Tells the underlying C++ code which data types and dimensions to expect.\n",
    "\n",
    "    Args:\n",
    "        algorithm (str): The registration algorithm to use. One of `icp` or `ndt`.\n",
    "        source (ndarray): The source point cloud.\n",
    "        target (ndarray): The target point cloud.\n",
    "    \"\"\"\n",
    "    REGLIB.icp.restype = ctypes.c_double\n",
    "    REGLIB.ndt.restype = ctypes.c_double\n",
    "    argtypes = [np.ctypeslib.ndpointer(dtype=np.float64, ndim=source.ndim, shape=source.shape,\n",
    "                                       flags='C_CONTIGUOUS'), ctypes.c_size_t,\n",
    "                np.ctypeslib.ndpointer(dtype=np.float64, ndim=target.ndim, shape=target.shape,\n",
    "                                       flags='C_CONTIGUOUS'), ctypes.c_size_t,\n",
    "                np.ctypeslib.ndpointer(dtype=np.float64, ndim=2, shape=(4, 4), flags='C_CONTIGUOUS'),\n",
    "                ctypes.c_int, ctypes.c_double, ctypes.c_double, ctypes.c_double, ctypes.c_double, ctypes.c_bool]\n",
    "    if algorithm == 'icp':\n",
    "        REGLIB.icp.argtypes = argtypes\n",
    "    elif algorithm == 'ndt':\n",
    "        argtypes.extend([ctypes.c_float, ctypes.c_double, ctypes.c_float])\n",
    "        REGLIB.ndt.argtypes = argtypes\n",
    "\n",
    "\n",
    "def icp(source,\n",
    "        target,\n",
    "        transformation,\n",
    "        nr_iterations=25,\n",
    "        distance_threshold=1.0,\n",
    "        epsilon=1e-6,\n",
    "        inlier_threshold=0.0005,\n",
    "        downsample=0,\n",
    "        visualize=False):\n",
    "    \"\"\"The `Iterative Closest Point` (ICP) algorithm.\n",
    "\n",
    "    Args:\n",
    "        source (ndarray): The point cloud that we want to align to the target.\n",
    "        target (ndarray): The point cloud that the source is aligned to.\n",
    "        nr_iterations (int): The maximum number of iterations the internal optimization should run for.\n",
    "        distance_threshold (float): The maximum distance threshold between two correspondent points in\n",
    "                                    source -> target. If the distance is larger than this threshold, the points will\n",
    "                                    be ignored in the alignment process.\n",
    "        epsilon (float): The transformation epsilon (maximum allowable difference between two consecutive\n",
    "                 transformations) in order for an optimization to be considered as having converged to the final\n",
    "                 solution.\n",
    "        inlier_threshold (float): The inlier distance threshold for the internal RANSAC outlier rejection loop.\n",
    "                          The method considers a point to be an inlier, if the distance between the target data\n",
    "                          index and the transformed source index is smaller than the given inlier distance\n",
    "                          threshold.\n",
    "        downsample (float): Assembles a local 3D grid over a given PointCloud and downsamples + filters the data.\n",
    "        visualize (bool): Can be used to visualize and control the progress of the algorithm.\n",
    "\n",
    "    Returns:\n",
    "        A ndarray with the final transformation matrix between source and target.\n",
    "    \"\"\"\n",
    "\n",
    " \n",
    "    \n",
    "    set_argtypes('icp', source, target)\n",
    "    score = REGLIB.icp(source, len(source), target, len(target), transformation,\n",
    "                       nr_iterations, distance_threshold, epsilon, inlier_threshold, downsample, visualize)\n",
    "    print(f\"ICP converged. Fitness score: {score:.2f}\") if score > 0 else print(\"ICP did not converge!\")\n",
    "    return transformation\n",
    "\n",
    "\n",
    "def ndt(source,\n",
    "        target,\n",
    "        nr_iterations=25,\n",
    "        distance_threshold=1.0,\n",
    "        epsilon=0.01,\n",
    "        inlier_threshold=0.05,\n",
    "        downsample=0,\n",
    "        visualize=False,\n",
    "        resolution=1.0,\n",
    "        step_size=0.1,\n",
    "        voxelize=0,\n",
    "        transformation=np.identity(4)):\n",
    "    \"\"\"The `Normal Distributions Transform` (NDT) algorithm.\n",
    "\n",
    "    Args:\n",
    "        source (ndarray): The point cloud that we want to align to the target.\n",
    "        target (ndarray): The point cloud that the source is aligned to.\n",
    "        nr_iterations (int): The maximum number of iterations the internal optimization should run for.\n",
    "        distance_threshold (float): The maximum distance threshold between two correspondent points in\n",
    "                                    source -> target. If the distance is larger than this threshold, the points will\n",
    "                                    be ignored in the alignment process.\n",
    "        epsilon (float): The transformation epsilon (maximum allowable difference between two consecutive\n",
    "                 transformations) in order for an optimization to be considered as having converged to the final\n",
    "                 solution.\n",
    "        inlier_threshold (float): The inlier distance threshold for the internal RANSAC outlier rejection loop.\n",
    "                          The method considers a point to be an inlier, if the distance between the target data\n",
    "                          index and the transformed source index is smaller than the given inlier distance\n",
    "                          threshold.\n",
    "        downsample (float): Assembles a local 3D grid over a given PointCloud and downsamples + filters the data.\n",
    "        visualize (bool): Can be used to visualize and control the progress of the algorithm.\n",
    "        resolution (float): The resolution of the voxel grid. Try increasing this in case of core dumps.\n",
    "        step_size (float): The Newton line search maximum step length.\n",
    "        voxelize (bool): If set to `True`, the source cloud is converted into a voxel model before alignment.\n",
    "\n",
    "    Returns:\n",
    "        A ndarray with the final transformation matrix between source and target.\n",
    "    \"\"\"\n",
    "\n",
    "\n",
    "    set_argtypes('ndt', source, target)\n",
    "    score = REGLIB.ndt(source, len(source), target, len(target), transformation,\n",
    "                  nr_iterations, distance_threshold, epsilon, inlier_threshold, downsample, visualize,\n",
    "                  resolution, step_size, voxelize)\n",
    "    #print(f\"NDT converged. Fitness score: {score:.2f}\") if score > 0 else print(\"NDT did not converge!\")\n",
    "    return transformation, score"
   ]
  },
  {
   "cell_type": "code",
   "execution_count": 3,
   "metadata": {},
   "outputs": [],
   "source": [
    "#implementation of voxel filter using open3d to downsample points\n",
    "def voxel_downsample(points, voxel_size):\n",
    "\n",
    "    pcd = o3d.geometry.PointCloud()\n",
    "    pcd.points = o3d.utility.Vector3dVector(points)\n",
    "\n",
    "\n",
    "    frame_cloud_downsampled = pcd.voxel_down_sample(voxel_size)\n",
    "\n",
    "    return np.array(frame_cloud_downsampled.points)"
   ]
  },
  {
   "cell_type": "code",
   "execution_count": 4,
   "metadata": {},
   "outputs": [
    {
     "name": "stdout",
     "output_type": "stream",
     "text": [
      "Found 143960 lines. Skipped 11. Loaded 143949 points.\n",
      "REGLIB loaded\n",
      "<CDLL '/app/libregistration_pcl110.so', handle 4eda930 at 0x7f444048e520>\n"
     ]
    }
   ],
   "source": [
    "#Load source frames, target map and ground truth\n",
    "frames_dir = \"app/projects/dataset/frames\"\n",
    "frame_files = os.listdir(frames_dir)\n",
    "#frames = [o3d.io.read_point_cloud(os.path.join(frames_dir, f)) for f in frame_files]\n",
    "\n",
    "\n",
    "#load ground truth csv as pandas dataframe\n",
    "g_df = pd.read_csv(\"app/projects/dataset/ground_truth.csv\")\n",
    "samples = len(frame_files)\n",
    "\n",
    "\n",
    "#Load target map points\n",
    "target_points = load_data(\"app/projects/dataset/map.pcd\")\n",
    "load_library(\"app/libregistration_pcl110.so\")"
   ]
  },
  {
   "cell_type": "markdown",
   "metadata": {},
   "source": [
    "## ICP Localization\n",
    "\n",
    "\n",
    "The ICP algorithm, or Iterative Closest Point algortihm, is an algorithm which is used to register two or more point clouds by refining a transformation matrix that aligns the source point cloud with the target point cloud. At each iteration, the algorithm computes the closest points between the two clouds, and then estimates a transformation matrix that aligns the source points with the target points. This process is repeated until the algorithm converges, meaning that the change in the transformation matrix between two iterations falls below a certain threshold.\n",
    "\n",
    "### Module\n",
    "\n",
    "In the implementation the Open3D module was used with the following parameters: \n",
    "\n",
    "- voxelize = 0.2 -> sets the size of the voxels that will be used to downsample the point clouds. A smaller voxel size will result in a higher level of detail, but will also increase the computation time.\n",
    "- icp_params.relative_fitness = 1e-6 and icp_params.relative_rmse = 1e-6 -> these two parameters set the convergence criteria for the elgorithm. The relative fitness is responsible for the maximum allowed change in fitness and the relative rsme is responsible for the maximum allowed change in RSME between two consecutive iterations.\n",
    "- max_correspondence_distance = 1.6 -> sets the maximum distance between corresponding points in source and target cloud\n",
    "\n",
    "The Iteration over all frames to about 83 seconds and the distance to the map was below 1.2 meters for every frame."
   ]
  },
  {
   "cell_type": "code",
   "execution_count": 7,
   "metadata": {},
   "outputs": [
    {
     "name": "stderr",
     "output_type": "stream",
     "text": [
      "  0%|          | 1/1014 [00:00<02:41,  6.29it/s]"
     ]
    },
    {
     "name": "stdout",
     "output_type": "stream",
     "text": [
      "Found 9104 lines. Skipped 11. Loaded 9093 points.\n",
      "Fitness score:  1.0\n",
      "Frame : 0\n",
      "Error--------: 0.3323542601785249\n",
      "Found 22369 lines. Skipped 11. Loaded 22358 points.\n"
     ]
    },
    {
     "name": "stderr",
     "output_type": "stream",
     "text": [
      "  0%|          | 3/1014 [00:00<02:14,  7.52it/s]"
     ]
    },
    {
     "name": "stdout",
     "output_type": "stream",
     "text": [
      "Fitness score:  0.99988622141313\n",
      "Frame : 1\n",
      "Error--------: 0.01855381944329599\n",
      "Found 13580 lines. Skipped 11. Loaded 13569 points.\n",
      "Fitness score:  0.9998480704952902\n",
      "Frame : 2\n",
      "Error--------: 0.3418493150825494\n"
     ]
    },
    {
     "name": "stderr",
     "output_type": "stream",
     "text": [
      "  0%|          | 4/1014 [00:00<02:57,  5.68it/s]"
     ]
    },
    {
     "name": "stdout",
     "output_type": "stream",
     "text": [
      "Found 14875 lines. Skipped 11. Loaded 14864 points.\n",
      "Fitness score:  0.8115658611537925\n",
      "Frame : 3\n",
      "Error--------: 0.1054504532739004\n",
      "Found 13437 lines. Skipped 11. Loaded 13426 points.\n"
     ]
    },
    {
     "name": "stderr",
     "output_type": "stream",
     "text": [
      "  1%|          | 6/1014 [00:00<02:40,  6.27it/s]"
     ]
    },
    {
     "name": "stdout",
     "output_type": "stream",
     "text": [
      "Fitness score:  0.7775710419485792\n",
      "Frame : 4\n",
      "Error--------: 1.0737087731833113\n",
      "Found 12078 lines. Skipped 11. Loaded 12067 points.\n",
      "Fitness score:  0.809758876020505\n",
      "Frame : 5\n",
      "Error--------: 0.3654502590119727\n",
      "Found 12213 lines. Skipped 11. Loaded 12202 points.\n"
     ]
    },
    {
     "name": "stderr",
     "output_type": "stream",
     "text": [
      "  1%|          | 8/1014 [00:01<02:31,  6.64it/s]"
     ]
    },
    {
     "name": "stdout",
     "output_type": "stream",
     "text": [
      "Fitness score:  0.8145570810607485\n",
      "Frame : 6\n",
      "Error--------: 0.6740103560619525\n",
      "Found 10780 lines. Skipped 11. Loaded 10769 points.\n",
      "Fitness score:  0.8123779773525966\n",
      "Frame : 7\n",
      "Error--------: 0.5404406889525999\n",
      "Found 11521 lines. Skipped 11. Loaded 11510 points.\n"
     ]
    },
    {
     "name": "stderr",
     "output_type": "stream",
     "text": [
      "  1%|          | 10/1014 [00:01<02:25,  6.91it/s]"
     ]
    },
    {
     "name": "stdout",
     "output_type": "stream",
     "text": [
      "Fitness score:  0.8100263852242744\n",
      "Frame : 8\n",
      "Error--------: 0.7095450043325461\n",
      "Found 11323 lines. Skipped 11. Loaded 11312 points.\n",
      "Fitness score:  0.7881773399014779\n",
      "Frame : 9\n",
      "Error--------: 0.8747637004607597\n"
     ]
    },
    {
     "name": "stderr",
     "output_type": "stream",
     "text": [
      "  1%|          | 11/1014 [00:01<02:55,  5.70it/s]"
     ]
    },
    {
     "name": "stdout",
     "output_type": "stream",
     "text": [
      "Found 12519 lines. Skipped 11. Loaded 12508 points.\n",
      "Fitness score:  0.8006179571065067\n",
      "Frame : 10\n",
      "Error--------: 0.7268676120363128\n",
      "Found 11332 lines. Skipped 11. Loaded 11321 points.\n"
     ]
    },
    {
     "name": "stderr",
     "output_type": "stream",
     "text": [
      "  1%|▏         | 13/1014 [00:02<02:45,  6.04it/s]"
     ]
    },
    {
     "name": "stdout",
     "output_type": "stream",
     "text": [
      "Fitness score:  0.8117450288050548\n",
      "Frame : 11\n",
      "Error--------: 0.3325852519682252\n",
      "Found 11999 lines. Skipped 11. Loaded 11988 points.\n",
      "Fitness score:  0.8036909715939932\n",
      "Frame : 12\n",
      "Error--------: 0.9053615717673441\n",
      "Found 11487 lines. Skipped 11. Loaded 11476 points.\n"
     ]
    },
    {
     "name": "stderr",
     "output_type": "stream",
     "text": [
      "  1%|▏         | 14/1014 [00:02<02:47,  5.97it/s]"
     ]
    },
    {
     "name": "stdout",
     "output_type": "stream",
     "text": [
      "Fitness score:  0.7926033357505439\n",
      "Frame : 13\n",
      "Error--------: 0.4804866156602537\n",
      "Found 13062 lines. Skipped 11. Loaded 13051 points.\n",
      "Fitness score:  0.8246065375302664\n"
     ]
    },
    {
     "name": "stderr",
     "output_type": "stream",
     "text": [
      "  2%|▏         | 16/1014 [00:02<02:38,  6.29it/s]"
     ]
    },
    {
     "name": "stdout",
     "output_type": "stream",
     "text": [
      "Frame : 14\n",
      "Error--------: 0.5181914248161734\n",
      "Found 11923 lines. Skipped 11. Loaded 11912 points.\n",
      "Fitness score:  0.8068445475638051\n",
      "Frame : 15\n",
      "Error--------: 1.1072799285212906\n",
      "Found 11804 lines. Skipped 11. Loaded 11793 points.\n"
     ]
    },
    {
     "name": "stderr",
     "output_type": "stream",
     "text": [
      "  2%|▏         | 18/1014 [00:02<02:34,  6.45it/s]"
     ]
    },
    {
     "name": "stdout",
     "output_type": "stream",
     "text": [
      "Fitness score:  0.8207056101792944\n",
      "Frame : 16\n",
      "Error--------: 0.5263323706589823\n",
      "Found 11804 lines. Skipped 11. Loaded 11793 points.\n",
      "Fitness score:  0.8160786581839213\n",
      "Frame : 17\n",
      "Error--------: 0.8179889939121101\n",
      "Found 10730 lines. Skipped 11. Loaded 10719 points.\n"
     ]
    },
    {
     "name": "stderr",
     "output_type": "stream",
     "text": [
      "  2%|▏         | 19/1014 [00:03<02:20,  7.08it/s]"
     ]
    },
    {
     "name": "stdout",
     "output_type": "stream",
     "text": [
      "Fitness score:  0.8138664565688398\n",
      "Frame : 18\n",
      "Error--------: 0.5433228265879431\n",
      "Found 16046 lines. Skipped 11. Loaded 16035 points.\n"
     ]
    },
    {
     "name": "stderr",
     "output_type": "stream",
     "text": [
      "  2%|▏         | 21/1014 [00:03<02:57,  5.60it/s]"
     ]
    },
    {
     "name": "stdout",
     "output_type": "stream",
     "text": [
      "Fitness score:  0.8080478520935291\n",
      "Frame : 19\n",
      "Error--------: 0.6672796990442593\n",
      "Found 16149 lines. Skipped 11. Loaded 16138 points.\n",
      "Fitness score:  0.8153931186955921\n",
      "Frame : 20\n",
      "Error--------: 0.5681876173386341\n"
     ]
    },
    {
     "name": "stderr",
     "output_type": "stream",
     "text": [
      "  2%|▏         | 22/1014 [00:03<02:51,  5.77it/s]"
     ]
    },
    {
     "name": "stdout",
     "output_type": "stream",
     "text": [
      "Found 15852 lines. Skipped 11. Loaded 15841 points.\n",
      "Fitness score:  0.8079685594253964\n",
      "Frame : 21\n",
      "Error--------: 0.6954153494372287\n",
      "Found 16484 lines. Skipped 11. Loaded 16473 points.\n"
     ]
    },
    {
     "name": "stderr",
     "output_type": "stream",
     "text": [
      "  2%|▏         | 24/1014 [00:04<03:03,  5.40it/s]"
     ]
    },
    {
     "name": "stdout",
     "output_type": "stream",
     "text": [
      "Fitness score:  0.8100055432372506\n",
      "Frame : 22\n",
      "Error--------: 0.5736963634246147\n",
      "Found 18240 lines. Skipped 11. Loaded 18229 points.\n",
      "Fitness score:  0.8129807043583862\n",
      "Frame : 23\n",
      "Error--------: 0.7446752111756804\n"
     ]
    },
    {
     "name": "stderr",
     "output_type": "stream",
     "text": [
      "  2%|▏         | 25/1014 [00:04<02:44,  6.01it/s]"
     ]
    },
    {
     "name": "stdout",
     "output_type": "stream",
     "text": [
      "Found 16422 lines. Skipped 11. Loaded 16411 points.\n",
      "Fitness score:  0.8396772228989038\n",
      "Frame : 24\n",
      "Error--------: 0.6052109916261221\n"
     ]
    },
    {
     "name": "stderr",
     "output_type": "stream",
     "text": [
      "  3%|▎         | 26/1014 [00:04<03:09,  5.20it/s]"
     ]
    },
    {
     "name": "stdout",
     "output_type": "stream",
     "text": [
      "Found 15566 lines. Skipped 11. Loaded 15555 points.\n",
      "Fitness score:  0.8237218813905931\n",
      "Frame : 25\n",
      "Error--------: 0.7655293811208205\n",
      "Found 13851 lines. Skipped 11. Loaded 13840 points.\n"
     ]
    },
    {
     "name": "stderr",
     "output_type": "stream",
     "text": [
      "  3%|▎         | 27/1014 [00:04<02:58,  5.53it/s]"
     ]
    },
    {
     "name": "stdout",
     "output_type": "stream",
     "text": [
      "Fitness score:  0.8452450408401401\n",
      "Frame : 26\n",
      "Error--------: 0.8591645828013998\n",
      "Found 14605 lines. Skipped 11. Loaded 14594 points.\n",
      "Fitness score:  0.9998405103668262\n",
      "Frame : 27\n",
      "Error--------: 0.598766149895174\n"
     ]
    },
    {
     "name": "stderr",
     "output_type": "stream",
     "text": [
      "  3%|▎         | 29/1014 [00:04<02:51,  5.74it/s]"
     ]
    },
    {
     "name": "stdout",
     "output_type": "stream",
     "text": [
      "Found 15435 lines. Skipped 11. Loaded 15424 points.\n",
      "Fitness score:  0.8370062965082999\n",
      "Frame : 28\n",
      "Error--------: 1.5112395098055678\n",
      "Latent error above the threshold of 1.2\n",
      "Found 14626 lines. Skipped 11. Loaded 14615 points.\n"
     ]
    },
    {
     "name": "stderr",
     "output_type": "stream",
     "text": [
      "  3%|▎         | 31/1014 [00:05<02:57,  5.52it/s]"
     ]
    },
    {
     "name": "stdout",
     "output_type": "stream",
     "text": [
      "Fitness score:  0.8595952547103978\n",
      "Frame : 29\n",
      "Error--------: 1.536553647817024\n",
      "Latent error above the threshold of 1.2\n",
      "Found 14782 lines. Skipped 11. Loaded 14771 points.\n",
      "Fitness score:  0.8526811180832858\n",
      "Frame : 30\n",
      "Error--------: 1.7146077426624604\n",
      "Latent error above the threshold of 1.2\n"
     ]
    },
    {
     "name": "stderr",
     "output_type": "stream",
     "text": [
      "  3%|▎         | 32/1014 [00:05<03:07,  5.22it/s]"
     ]
    },
    {
     "name": "stdout",
     "output_type": "stream",
     "text": [
      "Found 16010 lines. Skipped 11. Loaded 15999 points.\n",
      "Fitness score:  0.8598653102163634\n",
      "Frame : 31\n",
      "Error--------: 1.8196218872676666\n",
      "Latent error above the threshold of 1.2\n"
     ]
    },
    {
     "name": "stderr",
     "output_type": "stream",
     "text": [
      "  3%|▎         | 33/1014 [00:05<03:55,  4.17it/s]"
     ]
    },
    {
     "name": "stdout",
     "output_type": "stream",
     "text": [
      "Found 14755 lines. Skipped 11. Loaded 14744 points.\n",
      "Fitness score:  0.8641337386018237\n",
      "Frame : 32\n",
      "Error--------: 1.9813472530233904\n",
      "Latent error above the threshold of 1.2\n"
     ]
    },
    {
     "name": "stderr",
     "output_type": "stream",
     "text": [
      "  3%|▎         | 34/1014 [00:06<03:58,  4.11it/s]"
     ]
    },
    {
     "name": "stdout",
     "output_type": "stream",
     "text": [
      "Found 11721 lines. Skipped 11. Loaded 11710 points.\n",
      "Fitness score:  0.8689740420271941\n",
      "Frame : 33\n",
      "Error--------: 1.9353803136723582\n",
      "Latent error above the threshold of 1.2\n"
     ]
    },
    {
     "name": "stderr",
     "output_type": "stream",
     "text": [
      "  3%|▎         | 35/1014 [00:06<03:41,  4.42it/s]"
     ]
    },
    {
     "name": "stdout",
     "output_type": "stream",
     "text": [
      "Found 12931 lines. Skipped 11. Loaded 12920 points.\n",
      "Fitness score:  0.8621312462372065\n",
      "Frame : 34\n",
      "Error--------: 2.2212846747668835\n",
      "Latent error above the threshold of 1.2\n"
     ]
    },
    {
     "name": "stderr",
     "output_type": "stream",
     "text": [
      "  4%|▎         | 36/1014 [00:06<03:25,  4.76it/s]"
     ]
    },
    {
     "name": "stdout",
     "output_type": "stream",
     "text": [
      "Found 15417 lines. Skipped 11. Loaded 15406 points.\n",
      "Fitness score:  0.8494143892916899\n",
      "Frame : 35\n",
      "Error--------: 2.0244479853560766\n",
      "Latent error above the threshold of 1.2\n",
      "Found 16287 lines. Skipped 11. Loaded 16276 points.\n"
     ]
    },
    {
     "name": "stderr",
     "output_type": "stream",
     "text": [
      "  4%|▎         | 38/1014 [00:06<03:15,  5.00it/s]"
     ]
    },
    {
     "name": "stdout",
     "output_type": "stream",
     "text": [
      "Fitness score:  0.8608525968177725\n",
      "Frame : 36\n",
      "Error--------: 2.5068164900281737\n",
      "Latent error above the threshold of 1.2\n",
      "Found 15842 lines. Skipped 11. Loaded 15831 points.\n",
      "Fitness score:  0.855440269209198\n",
      "Frame : 37\n",
      "Error--------: 2.4241908211614267\n",
      "Latent error above the threshold of 1.2\n"
     ]
    },
    {
     "name": "stderr",
     "output_type": "stream",
     "text": [
      "  4%|▍         | 39/1014 [00:07<03:16,  4.97it/s]"
     ]
    },
    {
     "name": "stdout",
     "output_type": "stream",
     "text": [
      "Found 11575 lines. Skipped 11. Loaded 11564 points.\n",
      "Fitness score:  1.0\n",
      "Frame : 38\n",
      "Error--------: 2.517335729787863\n",
      "Latent error above the threshold of 1.2\n",
      "Found 14505 lines. Skipped 11. Loaded 14494 points.\n"
     ]
    },
    {
     "name": "stderr",
     "output_type": "stream",
     "text": [
      "  4%|▍         | 40/1014 [00:07<03:15,  4.99it/s]"
     ]
    },
    {
     "name": "stdout",
     "output_type": "stream",
     "text": [
      "Fitness score:  0.8571018239264685\n",
      "Frame : 39\n",
      "Error--------: 3.02984321289674\n",
      "Latent error above the threshold of 1.2\n",
      "Found 13154 lines. Skipped 11. Loaded 13143 points.\n",
      "Fitness score:  0.8556204379562043\n",
      "Frame : 40\n",
      "Error--------: 2.8198544222605157\n",
      "Latent error above the threshold of 1.2\n"
     ]
    },
    {
     "name": "stderr",
     "output_type": "stream",
     "text": [
      "  4%|▍         | 42/1014 [00:07<03:18,  4.89it/s]"
     ]
    },
    {
     "name": "stdout",
     "output_type": "stream",
     "text": [
      "Found 15734 lines. Skipped 11. Loaded 15723 points.\n",
      "Fitness score:  0.8583086053412463\n",
      "Frame : 41\n",
      "Error--------: 3.2285842952388695\n",
      "Latent error above the threshold of 1.2\n"
     ]
    },
    {
     "name": "stderr",
     "output_type": "stream",
     "text": [
      "  4%|▍         | 43/1014 [00:07<02:58,  5.44it/s]"
     ]
    },
    {
     "name": "stdout",
     "output_type": "stream",
     "text": [
      "Found 16223 lines. Skipped 11. Loaded 16212 points.\n",
      "Fitness score:  0.8485421166306696\n",
      "Frame : 42\n",
      "Error--------: 3.1077796185306066\n",
      "Latent error above the threshold of 1.2\n",
      "Found 14746 lines. Skipped 11. Loaded 14735 points.\n"
     ]
    },
    {
     "name": "stderr",
     "output_type": "stream",
     "text": [
      "  4%|▍         | 45/1014 [00:08<02:59,  5.40it/s]"
     ]
    },
    {
     "name": "stdout",
     "output_type": "stream",
     "text": [
      "Fitness score:  0.8480666757753792\n",
      "Frame : 43\n",
      "Error--------: 3.476413067917768\n",
      "Latent error above the threshold of 1.2\n",
      "Found 13638 lines. Skipped 11. Loaded 13627 points.\n",
      "Fitness score:  0.8680490103675778\n",
      "Frame : 44\n",
      "Error--------: 3.406879386344527\n",
      "Latent error above the threshold of 1.2\n"
     ]
    },
    {
     "name": "stderr",
     "output_type": "stream",
     "text": [
      "  5%|▍         | 46/1014 [00:08<03:30,  4.61it/s]"
     ]
    },
    {
     "name": "stdout",
     "output_type": "stream",
     "text": [
      "Found 12418 lines. Skipped 11. Loaded 12407 points.\n",
      "Fitness score:  0.8599549211119459\n",
      "Frame : 45\n",
      "Error--------: 3.6028198295035323\n",
      "Latent error above the threshold of 1.2\n"
     ]
    },
    {
     "name": "stderr",
     "output_type": "stream",
     "text": [
      "  5%|▍         | 47/1014 [00:08<03:16,  4.91it/s]"
     ]
    },
    {
     "name": "stdout",
     "output_type": "stream",
     "text": [
      "Found 14105 lines. Skipped 11. Loaded 14094 points.\n",
      "Fitness score:  0.8568307602679872\n",
      "Frame : 46\n",
      "Error--------: 3.760035877418124\n",
      "Latent error above the threshold of 1.2\n",
      "Found 14645 lines. Skipped 11. Loaded 14634 points.\n"
     ]
    },
    {
     "name": "stderr",
     "output_type": "stream",
     "text": [
      "  5%|▍         | 49/1014 [00:08<02:48,  5.73it/s]"
     ]
    },
    {
     "name": "stdout",
     "output_type": "stream",
     "text": [
      "Fitness score:  0.850923671774309\n",
      "Frame : 47\n",
      "Error--------: 3.799704619346937\n",
      "Latent error above the threshold of 1.2\n",
      "Found 14581 lines. Skipped 11. Loaded 14570 points.\n",
      "Fitness score:  0.8474528960223308\n",
      "Frame : 48\n",
      "Error--------: 4.01949725038635\n",
      "Latent error above the threshold of 1.2\n",
      "Found 12432 lines. Skipped 11. Loaded 12421 points.\n"
     ]
    },
    {
     "name": "stderr",
     "output_type": "stream",
     "text": [
      "  5%|▌         | 51/1014 [00:09<02:30,  6.40it/s]"
     ]
    },
    {
     "name": "stdout",
     "output_type": "stream",
     "text": [
      "Fitness score:  0.9998412698412699\n",
      "Frame : 49\n",
      "Error--------: 4.235855283780292\n",
      "Latent error above the threshold of 1.2\n",
      "Found 17248 lines. Skipped 11. Loaded 17237 points.\n",
      "Fitness score:  0.8478679504814305\n",
      "Frame : 50\n",
      "Error--------: 4.332451369606672\n",
      "Latent error above the threshold of 1.2\n",
      "Found 13745 lines. Skipped 11. Loaded 13734 points.\n"
     ]
    },
    {
     "name": "stderr",
     "output_type": "stream",
     "text": [
      "  5%|▌         | 52/1014 [00:09<02:44,  5.84it/s]"
     ]
    },
    {
     "name": "stdout",
     "output_type": "stream",
     "text": [
      "Fitness score:  0.8493529155154864\n",
      "Frame : 51\n",
      "Error--------: 4.360797684073214\n",
      "Latent error above the threshold of 1.2\n",
      "Found 14045 lines. Skipped 11. Loaded 14034 points.\n"
     ]
    },
    {
     "name": "stderr",
     "output_type": "stream",
     "text": [
      "  5%|▌         | 54/1014 [00:09<03:07,  5.11it/s]"
     ]
    },
    {
     "name": "stdout",
     "output_type": "stream",
     "text": [
      "Fitness score:  0.86055217594759\n",
      "Frame : 52\n",
      "Error--------: 4.506073130493215\n",
      "Latent error above the threshold of 1.2\n",
      "Found 14978 lines. Skipped 11. Loaded 14967 points.\n",
      "Fitness score:  0.8355699957621133\n",
      "Frame : 53\n",
      "Error--------: 4.487004706175969\n",
      "Latent error above the threshold of 1.2\n"
     ]
    },
    {
     "name": "stderr",
     "output_type": "stream",
     "text": [
      "  5%|▌         | 55/1014 [00:09<02:44,  5.84it/s]"
     ]
    },
    {
     "name": "stdout",
     "output_type": "stream",
     "text": [
      "Found 11722 lines. Skipped 11. Loaded 11711 points.\n",
      "Fitness score:  0.8512243955028492\n",
      "Frame : 54\n",
      "Error--------: 4.452790040280849\n",
      "Latent error above the threshold of 1.2\n",
      "Found 11722 lines. Skipped 11. Loaded 11711 points.\n"
     ]
    },
    {
     "name": "stderr",
     "output_type": "stream",
     "text": [
      "  6%|▌         | 56/1014 [00:10<02:52,  5.54it/s]"
     ]
    },
    {
     "name": "stdout",
     "output_type": "stream",
     "text": [
      "Fitness score:  0.8513784075157862\n",
      "Frame : 55\n",
      "Error--------: 4.776090385728174\n",
      "Latent error above the threshold of 1.2\n",
      "Found 14121 lines. Skipped 11. Loaded 14110 points.\n"
     ]
    },
    {
     "name": "stderr",
     "output_type": "stream",
     "text": [
      "  6%|▌         | 58/1014 [00:10<03:03,  5.21it/s]"
     ]
    },
    {
     "name": "stdout",
     "output_type": "stream",
     "text": [
      "Fitness score:  0.843561442236939\n",
      "Frame : 56\n",
      "Error--------: 4.631153004828403\n",
      "Latent error above the threshold of 1.2\n",
      "Found 13798 lines. Skipped 11. Loaded 13787 points.\n",
      "Fitness score:  0.8362640530412222\n",
      "Frame : 57\n",
      "Error--------: 4.642298445701548\n",
      "Latent error above the threshold of 1.2\n"
     ]
    },
    {
     "name": "stderr",
     "output_type": "stream",
     "text": [
      "  6%|▌         | 59/1014 [00:10<03:00,  5.30it/s]"
     ]
    },
    {
     "name": "stdout",
     "output_type": "stream",
     "text": [
      "Found 13798 lines. Skipped 11. Loaded 13787 points.\n",
      "Fitness score:  0.8366964543095993\n",
      "Frame : 58\n",
      "Error--------: 4.891613087637818\n",
      "Latent error above the threshold of 1.2\n",
      "Found 16017 lines. Skipped 11. Loaded 16006 points.\n"
     ]
    },
    {
     "name": "stderr",
     "output_type": "stream",
     "text": [
      "  6%|▌         | 60/1014 [00:11<03:53,  4.08it/s]"
     ]
    },
    {
     "name": "stdout",
     "output_type": "stream",
     "text": [
      "Fitness score:  0.8220235676554246\n",
      "Frame : 59\n",
      "Error--------: 4.641214645280665\n",
      "Latent error above the threshold of 1.2\n",
      "Found 13782 lines. Skipped 11. Loaded 13771 points.\n"
     ]
    },
    {
     "name": "stderr",
     "output_type": "stream",
     "text": [
      "  6%|▌         | 61/1014 [00:11<04:01,  3.95it/s]"
     ]
    },
    {
     "name": "stdout",
     "output_type": "stream",
     "text": [
      "Fitness score:  1.0\n",
      "Frame : 60\n",
      "Error--------: 6.833391027092645\n",
      "Latent error above the threshold of 1.2\n",
      "Found 14908 lines. Skipped 11. Loaded 14897 points.\n"
     ]
    },
    {
     "name": "stderr",
     "output_type": "stream",
     "text": [
      "  6%|▌         | 62/1014 [00:11<04:32,  3.50it/s]"
     ]
    },
    {
     "name": "stdout",
     "output_type": "stream",
     "text": [
      "Fitness score:  0.7901457321304649\n",
      "Frame : 61\n",
      "Error--------: 5.355429088048911\n",
      "Latent error above the threshold of 1.2\n",
      "Found 16244 lines. Skipped 11. Loaded 16233 points.\n"
     ]
    },
    {
     "name": "stderr",
     "output_type": "stream",
     "text": [
      "  6%|▌         | 63/1014 [00:12<04:40,  3.39it/s]"
     ]
    },
    {
     "name": "stdout",
     "output_type": "stream",
     "text": [
      "Fitness score:  0.8156122044644036\n",
      "Frame : 62\n",
      "Error--------: 4.86034552651547\n",
      "Latent error above the threshold of 1.2\n",
      "Found 14245 lines. Skipped 11. Loaded 14234 points.\n"
     ]
    },
    {
     "name": "stderr",
     "output_type": "stream",
     "text": [
      "  6%|▋         | 64/1014 [00:12<04:26,  3.56it/s]"
     ]
    },
    {
     "name": "stdout",
     "output_type": "stream",
     "text": [
      "Fitness score:  0.8339562967222541\n",
      "Frame : 63\n",
      "Error--------: 5.249973191622608\n",
      "Latent error above the threshold of 1.2\n",
      "Found 15750 lines. Skipped 11. Loaded 15739 points.\n"
     ]
    },
    {
     "name": "stderr",
     "output_type": "stream",
     "text": [
      "  6%|▋         | 65/1014 [00:12<04:23,  3.60it/s]"
     ]
    },
    {
     "name": "stdout",
     "output_type": "stream",
     "text": [
      "Fitness score:  0.8384776745579862\n",
      "Frame : 64\n",
      "Error--------: 5.27069907059779\n",
      "Latent error above the threshold of 1.2\n",
      "Found 13906 lines. Skipped 11. Loaded 13895 points.\n"
     ]
    },
    {
     "name": "stderr",
     "output_type": "stream",
     "text": [
      "  7%|▋         | 66/1014 [00:13<05:09,  3.07it/s]"
     ]
    },
    {
     "name": "stdout",
     "output_type": "stream",
     "text": [
      "Fitness score:  0.8410054512416717\n",
      "Frame : 65\n",
      "Error--------: 5.378858237445028\n",
      "Latent error above the threshold of 1.2\n",
      "Found 15334 lines. Skipped 11. Loaded 15323 points.\n"
     ]
    },
    {
     "name": "stderr",
     "output_type": "stream",
     "text": [
      "  7%|▋         | 67/1014 [00:13<04:49,  3.28it/s]"
     ]
    },
    {
     "name": "stdout",
     "output_type": "stream",
     "text": [
      "Fitness score:  0.814783937751841\n",
      "Frame : 66\n",
      "Error--------: 5.424282843082637\n",
      "Latent error above the threshold of 1.2\n",
      "Found 16065 lines. Skipped 11. Loaded 16054 points.\n"
     ]
    },
    {
     "name": "stderr",
     "output_type": "stream",
     "text": [
      "  7%|▋         | 68/1014 [00:13<04:44,  3.33it/s]"
     ]
    },
    {
     "name": "stdout",
     "output_type": "stream",
     "text": [
      "Fitness score:  0.8111198738170347\n",
      "Frame : 67\n",
      "Error--------: 5.546351847296241\n",
      "Latent error above the threshold of 1.2\n",
      "Found 13765 lines. Skipped 11. Loaded 13754 points.\n"
     ]
    },
    {
     "name": "stderr",
     "output_type": "stream",
     "text": [
      "  7%|▋         | 69/1014 [00:13<04:22,  3.60it/s]"
     ]
    },
    {
     "name": "stdout",
     "output_type": "stream",
     "text": [
      "Fitness score:  0.8208174232781785\n",
      "Frame : 68\n",
      "Error--------: 5.533228393295955\n",
      "Latent error above the threshold of 1.2\n",
      "Found 18335 lines. Skipped 11. Loaded 18324 points.\n"
     ]
    },
    {
     "name": "stderr",
     "output_type": "stream",
     "text": [
      "  7%|▋         | 70/1014 [00:14<04:25,  3.55it/s]"
     ]
    },
    {
     "name": "stdout",
     "output_type": "stream",
     "text": [
      "Fitness score:  0.8060718711276332\n",
      "Frame : 69\n",
      "Error--------: 5.745863727266484\n",
      "Latent error above the threshold of 1.2\n",
      "Found 12004 lines. Skipped 11. Loaded 11993 points.\n"
     ]
    },
    {
     "name": "stderr",
     "output_type": "stream",
     "text": [
      "  7%|▋         | 71/1014 [00:14<04:44,  3.31it/s]"
     ]
    },
    {
     "name": "stdout",
     "output_type": "stream",
     "text": [
      "Fitness score:  0.8365508365508365\n",
      "Frame : 70\n",
      "Error--------: 5.888252383630703\n",
      "Latent error above the threshold of 1.2\n",
      "Found 14850 lines. Skipped 11. Loaded 14839 points.\n"
     ]
    },
    {
     "name": "stderr",
     "output_type": "stream",
     "text": [
      "  7%|▋         | 72/1014 [00:14<04:18,  3.64it/s]"
     ]
    },
    {
     "name": "stdout",
     "output_type": "stream",
     "text": [
      "Fitness score:  1.0\n",
      "Frame : 71\n",
      "Error--------: 8.781455321602607\n",
      "Latent error above the threshold of 1.2\n",
      "Found 14690 lines. Skipped 11. Loaded 14679 points.\n"
     ]
    },
    {
     "name": "stderr",
     "output_type": "stream",
     "text": [
      "  7%|▋         | 73/1014 [00:15<04:56,  3.18it/s]"
     ]
    },
    {
     "name": "stdout",
     "output_type": "stream",
     "text": [
      "Fitness score:  0.759240615561628\n",
      "Frame : 72\n",
      "Error--------: 7.835678548997208\n",
      "Latent error above the threshold of 1.2\n",
      "Found 10548 lines. Skipped 11. Loaded 10537 points.\n"
     ]
    },
    {
     "name": "stderr",
     "output_type": "stream",
     "text": [
      "  7%|▋         | 74/1014 [00:15<04:27,  3.52it/s]"
     ]
    },
    {
     "name": "stdout",
     "output_type": "stream",
     "text": [
      "Fitness score:  0.765712405396512\n",
      "Frame : 73\n",
      "Error--------: 8.053942208519274\n",
      "Latent error above the threshold of 1.2\n",
      "Found 16033 lines. Skipped 11. Loaded 16022 points.\n"
     ]
    },
    {
     "name": "stderr",
     "output_type": "stream",
     "text": [
      "  7%|▋         | 76/1014 [00:15<03:41,  4.23it/s]"
     ]
    },
    {
     "name": "stdout",
     "output_type": "stream",
     "text": [
      "Fitness score:  0.7587509077705156\n",
      "Frame : 74\n",
      "Error--------: 8.256929007909122\n",
      "Latent error above the threshold of 1.2\n",
      "Found 13809 lines. Skipped 11. Loaded 13798 points.\n",
      "Fitness score:  0.7568158623706079\n",
      "Frame : 75\n",
      "Error--------: 8.411595367054051\n",
      "Latent error above the threshold of 1.2\n",
      "Found 14636 lines. Skipped 11. Loaded 14625 points.\n"
     ]
    },
    {
     "name": "stderr",
     "output_type": "stream",
     "text": [
      "  8%|▊         | 77/1014 [00:15<03:56,  3.96it/s]"
     ]
    },
    {
     "name": "stdout",
     "output_type": "stream",
     "text": [
      "Fitness score:  0.757246894188205\n",
      "Frame : 76\n",
      "Error--------: 8.651297373424553\n",
      "Latent error above the threshold of 1.2\n",
      "Found 10733 lines. Skipped 11. Loaded 10722 points.\n"
     ]
    },
    {
     "name": "stderr",
     "output_type": "stream",
     "text": [
      "  8%|▊         | 78/1014 [00:16<03:48,  4.10it/s]"
     ]
    },
    {
     "name": "stdout",
     "output_type": "stream",
     "text": [
      "Fitness score:  0.7668584212208374\n",
      "Frame : 77\n",
      "Error--------: 8.801459805238327\n",
      "Latent error above the threshold of 1.2\n",
      "Found 13607 lines. Skipped 11. Loaded 13596 points.\n"
     ]
    },
    {
     "name": "stderr",
     "output_type": "stream",
     "text": [
      "  8%|▊         | 79/1014 [00:16<03:49,  4.07it/s]"
     ]
    },
    {
     "name": "stdout",
     "output_type": "stream",
     "text": [
      "Fitness score:  0.7725561078475675\n",
      "Frame : 78\n",
      "Error--------: 9.09512099414442\n",
      "Latent error above the threshold of 1.2\n",
      "Found 15295 lines. Skipped 11. Loaded 15284 points.\n"
     ]
    },
    {
     "name": "stderr",
     "output_type": "stream",
     "text": [
      "  8%|▊         | 80/1014 [00:16<04:32,  3.43it/s]"
     ]
    },
    {
     "name": "stdout",
     "output_type": "stream",
     "text": [
      "Fitness score:  0.7645779529699606\n",
      "Frame : 79\n",
      "Error--------: 9.140900935655065\n",
      "Latent error above the threshold of 1.2\n",
      "Found 13905 lines. Skipped 11. Loaded 13894 points.\n"
     ]
    },
    {
     "name": "stderr",
     "output_type": "stream",
     "text": [
      "  8%|▊         | 81/1014 [00:17<04:24,  3.52it/s]"
     ]
    },
    {
     "name": "stdout",
     "output_type": "stream",
     "text": [
      "Fitness score:  0.7567901234567901\n",
      "Frame : 80\n",
      "Error--------: 9.40011860808253\n",
      "Latent error above the threshold of 1.2\n",
      "Found 12989 lines. Skipped 11. Loaded 12978 points.\n"
     ]
    },
    {
     "name": "stderr",
     "output_type": "stream",
     "text": [
      "  8%|▊         | 82/1014 [00:17<04:17,  3.62it/s]"
     ]
    },
    {
     "name": "stdout",
     "output_type": "stream",
     "text": [
      "Fitness score:  0.7760448213204119\n",
      "Frame : 81\n",
      "Error--------: 9.61011812726776\n",
      "Latent error above the threshold of 1.2\n",
      "Found 12866 lines. Skipped 11. Loaded 12855 points.\n"
     ]
    },
    {
     "name": "stderr",
     "output_type": "stream",
     "text": [
      "  8%|▊         | 83/1014 [00:17<04:05,  3.80it/s]"
     ]
    },
    {
     "name": "stdout",
     "output_type": "stream",
     "text": [
      "Fitness score:  1.0\n",
      "Frame : 82\n",
      "Error--------: 9.354442138867306\n",
      "Latent error above the threshold of 1.2\n",
      "Found 13630 lines. Skipped 11. Loaded 13619 points.\n"
     ]
    },
    {
     "name": "stderr",
     "output_type": "stream",
     "text": [
      "  8%|▊         | 84/1014 [00:17<04:22,  3.54it/s]"
     ]
    },
    {
     "name": "stdout",
     "output_type": "stream",
     "text": [
      "Fitness score:  0.7800364077669902\n",
      "Frame : 83\n",
      "Error--------: 10.212245167858235\n",
      "Latent error above the threshold of 1.2\n",
      "Found 15491 lines. Skipped 11. Loaded 15480 points.\n"
     ]
    },
    {
     "name": "stderr",
     "output_type": "stream",
     "text": [
      "  8%|▊         | 85/1014 [00:18<04:47,  3.23it/s]"
     ]
    },
    {
     "name": "stdout",
     "output_type": "stream",
     "text": [
      "Fitness score:  0.8156400794777179\n",
      "Frame : 84\n",
      "Error--------: 10.727337560196775\n",
      "Latent error above the threshold of 1.2\n",
      "Found 13225 lines. Skipped 11. Loaded 13214 points.\n"
     ]
    },
    {
     "name": "stderr",
     "output_type": "stream",
     "text": [
      "  8%|▊         | 86/1014 [00:18<04:27,  3.47it/s]"
     ]
    },
    {
     "name": "stdout",
     "output_type": "stream",
     "text": [
      "Fitness score:  0.8270710728836578\n",
      "Frame : 85\n",
      "Error--------: 10.698383573597825\n",
      "Latent error above the threshold of 1.2\n",
      "Found 13235 lines. Skipped 11. Loaded 13224 points.\n"
     ]
    },
    {
     "name": "stderr",
     "output_type": "stream",
     "text": [
      "  9%|▊         | 87/1014 [00:18<04:52,  3.17it/s]"
     ]
    },
    {
     "name": "stdout",
     "output_type": "stream",
     "text": [
      "Fitness score:  0.8158005914659907\n",
      "Frame : 86\n",
      "Error--------: 10.85167313078337\n",
      "Latent error above the threshold of 1.2\n",
      "Found 20488 lines. Skipped 11. Loaded 20477 points.\n"
     ]
    },
    {
     "name": "stderr",
     "output_type": "stream",
     "text": [
      "  9%|▊         | 88/1014 [00:19<04:59,  3.09it/s]"
     ]
    },
    {
     "name": "stdout",
     "output_type": "stream",
     "text": [
      "Fitness score:  0.7981209630064592\n",
      "Frame : 87\n",
      "Error--------: 11.067228335260408\n",
      "Latent error above the threshold of 1.2\n",
      "Found 16402 lines. Skipped 11. Loaded 16391 points.\n"
     ]
    },
    {
     "name": "stderr",
     "output_type": "stream",
     "text": [
      "  9%|▉         | 89/1014 [00:19<04:47,  3.22it/s]"
     ]
    },
    {
     "name": "stdout",
     "output_type": "stream",
     "text": [
      "Fitness score:  0.8373864635218283\n",
      "Frame : 88\n",
      "Error--------: 11.057796114724864\n",
      "Latent error above the threshold of 1.2\n",
      "Found 15090 lines. Skipped 11. Loaded 15079 points.\n"
     ]
    },
    {
     "name": "stderr",
     "output_type": "stream",
     "text": [
      "  9%|▉         | 90/1014 [00:19<04:54,  3.14it/s]"
     ]
    },
    {
     "name": "stdout",
     "output_type": "stream",
     "text": [
      "Fitness score:  0.8172102706453851\n",
      "Frame : 89\n",
      "Error--------: 11.171443608865426\n",
      "Latent error above the threshold of 1.2\n",
      "Found 15090 lines. Skipped 11. Loaded 15079 points.\n"
     ]
    },
    {
     "name": "stderr",
     "output_type": "stream",
     "text": [
      "  9%|▉         | 92/1014 [00:20<04:15,  3.61it/s]"
     ]
    },
    {
     "name": "stdout",
     "output_type": "stream",
     "text": [
      "Fitness score:  0.8166551006245663\n",
      "Frame : 90\n",
      "Error--------: 11.380262262666943\n",
      "Latent error above the threshold of 1.2\n",
      "Found 17866 lines. Skipped 11. Loaded 17855 points.\n",
      "Fitness score:  0.8172001040853499\n",
      "Frame : 91\n",
      "Error--------: 11.442375588167467\n",
      "Latent error above the threshold of 1.2\n"
     ]
    },
    {
     "name": "stderr",
     "output_type": "stream",
     "text": [
      "  9%|▉         | 93/1014 [00:20<04:28,  3.43it/s]"
     ]
    },
    {
     "name": "stdout",
     "output_type": "stream",
     "text": [
      "Found 18381 lines. Skipped 11. Loaded 18370 points.\n",
      "Fitness score:  0.8203922622246104\n",
      "Frame : 92\n",
      "Error--------: 11.446644963687216\n",
      "Latent error above the threshold of 1.2\n",
      "Found 11513 lines. Skipped 11. Loaded 11502 points.\n"
     ]
    },
    {
     "name": "stderr",
     "output_type": "stream",
     "text": [
      "  9%|▉         | 94/1014 [00:20<04:24,  3.48it/s]"
     ]
    },
    {
     "name": "stdout",
     "output_type": "stream",
     "text": [
      "Fitness score:  1.0\n",
      "Frame : 93\n",
      "Error--------: 11.016137129483578\n",
      "Latent error above the threshold of 1.2\n",
      "Found 14712 lines. Skipped 11. Loaded 14701 points.\n"
     ]
    },
    {
     "name": "stderr",
     "output_type": "stream",
     "text": [
      "  9%|▉         | 95/1014 [00:21<04:39,  3.29it/s]"
     ]
    },
    {
     "name": "stdout",
     "output_type": "stream",
     "text": [
      "Fitness score:  0.8341968911917098\n",
      "Frame : 94\n",
      "Error--------: 12.083175969718042\n",
      "Latent error above the threshold of 1.2\n",
      "Found 18530 lines. Skipped 11. Loaded 18519 points.\n"
     ]
    },
    {
     "name": "stderr",
     "output_type": "stream",
     "text": [
      "  9%|▉         | 96/1014 [00:21<04:26,  3.45it/s]"
     ]
    },
    {
     "name": "stdout",
     "output_type": "stream",
     "text": [
      "Fitness score:  0.8415566365531619\n",
      "Frame : 95\n",
      "Error--------: 11.689047777195094\n",
      "Latent error above the threshold of 1.2\n",
      "Found 14742 lines. Skipped 11. Loaded 14731 points.\n"
     ]
    },
    {
     "name": "stderr",
     "output_type": "stream",
     "text": [
      " 10%|▉         | 97/1014 [00:21<04:03,  3.77it/s]"
     ]
    },
    {
     "name": "stdout",
     "output_type": "stream",
     "text": [
      "Fitness score:  0.8285752942768232\n",
      "Frame : 96\n",
      "Error--------: 12.002882023042536\n",
      "Latent error above the threshold of 1.2\n",
      "Found 13534 lines. Skipped 11. Loaded 13523 points.\n"
     ]
    },
    {
     "name": "stderr",
     "output_type": "stream",
     "text": [
      " 10%|▉         | 98/1014 [00:22<04:00,  3.81it/s]"
     ]
    },
    {
     "name": "stdout",
     "output_type": "stream",
     "text": [
      "Fitness score:  0.8391874735505713\n",
      "Frame : 97\n",
      "Error--------: 11.981210255409291\n",
      "Latent error above the threshold of 1.2\n",
      "Found 14863 lines. Skipped 11. Loaded 14852 points.\n"
     ]
    },
    {
     "name": "stderr",
     "output_type": "stream",
     "text": [
      " 10%|▉         | 99/1014 [00:22<04:07,  3.69it/s]"
     ]
    },
    {
     "name": "stdout",
     "output_type": "stream",
     "text": [
      "Fitness score:  0.837446573831518\n",
      "Frame : 98\n",
      "Error--------: 12.208666281261626\n",
      "Latent error above the threshold of 1.2\n",
      "Found 15858 lines. Skipped 11. Loaded 15847 points.\n"
     ]
    },
    {
     "name": "stderr",
     "output_type": "stream",
     "text": [
      " 10%|▉         | 101/1014 [00:22<04:04,  3.74it/s]"
     ]
    },
    {
     "name": "stdout",
     "output_type": "stream",
     "text": [
      "Fitness score:  0.8378973441585248\n",
      "Frame : 99\n",
      "Error--------: 12.258834658991596\n",
      "Latent error above the threshold of 1.2\n",
      "Found 15774 lines. Skipped 11. Loaded 15763 points.\n",
      "Fitness score:  0.830537577598732\n",
      "Frame : 100\n",
      "Error--------: 12.440565083427487\n",
      "Latent error above the threshold of 1.2\n"
     ]
    },
    {
     "name": "stderr",
     "output_type": "stream",
     "text": [
      " 10%|█         | 102/1014 [00:23<03:35,  4.24it/s]"
     ]
    },
    {
     "name": "stdout",
     "output_type": "stream",
     "text": [
      "Found 15497 lines. Skipped 11. Loaded 15486 points.\n",
      "Fitness score:  0.8552670404249041\n",
      "Frame : 101\n",
      "Error--------: 12.597537941913773\n",
      "Latent error above the threshold of 1.2\n",
      "Found 15154 lines. Skipped 11. Loaded 15143 points.\n"
     ]
    },
    {
     "name": "stderr",
     "output_type": "stream",
     "text": [
      " 10%|█         | 104/1014 [00:23<03:02,  5.00it/s]"
     ]
    },
    {
     "name": "stdout",
     "output_type": "stream",
     "text": [
      "Fitness score:  0.8417008875347728\n",
      "Frame : 102\n",
      "Error--------: 12.736488285395243\n",
      "Latent error above the threshold of 1.2\n",
      "Found 15697 lines. Skipped 11. Loaded 15686 points.\n",
      "Fitness score:  0.8465058236272879\n",
      "Frame : 103\n",
      "Error--------: 12.759817463945913\n",
      "Latent error above the threshold of 1.2\n"
     ]
    },
    {
     "name": "stderr",
     "output_type": "stream",
     "text": [
      " 10%|█         | 105/1014 [00:23<03:11,  4.75it/s]"
     ]
    },
    {
     "name": "stdout",
     "output_type": "stream",
     "text": [
      "Found 15348 lines. Skipped 11. Loaded 15337 points.\n",
      "Fitness score:  1.0\n",
      "Frame : 104\n",
      "Error--------: 13.218709127269534\n",
      "Latent error above the threshold of 1.2\n",
      "Found 12979 lines. Skipped 11. Loaded 12968 points.\n"
     ]
    },
    {
     "name": "stderr",
     "output_type": "stream",
     "text": [
      " 11%|█         | 107/1014 [00:23<02:52,  5.27it/s]"
     ]
    },
    {
     "name": "stdout",
     "output_type": "stream",
     "text": [
      "Fitness score:  0.84874715261959\n",
      "Frame : 105\n",
      "Error--------: 12.93130055540418\n",
      "Latent error above the threshold of 1.2\n",
      "Found 12386 lines. Skipped 11. Loaded 12375 points.\n",
      "Fitness score:  0.8681283250040303\n",
      "Frame : 106\n",
      "Error--------: 12.979874215369728\n",
      "Latent error above the threshold of 1.2\n"
     ]
    },
    {
     "name": "stderr",
     "output_type": "stream",
     "text": [
      " 11%|█         | 108/1014 [00:24<02:57,  5.09it/s]"
     ]
    },
    {
     "name": "stdout",
     "output_type": "stream",
     "text": [
      "Found 13632 lines. Skipped 11. Loaded 13621 points.\n",
      "Fitness score:  0.844825124910778\n",
      "Frame : 107\n",
      "Error--------: 13.196622704759521\n",
      "Latent error above the threshold of 1.2\n"
     ]
    },
    {
     "name": "stderr",
     "output_type": "stream",
     "text": [
      " 11%|█         | 109/1014 [00:24<03:12,  4.70it/s]"
     ]
    },
    {
     "name": "stdout",
     "output_type": "stream",
     "text": [
      "Found 13296 lines. Skipped 11. Loaded 13285 points.\n",
      "Fitness score:  0.8463085320310255\n",
      "Frame : 108\n",
      "Error--------: 13.074651649303506\n",
      "Latent error above the threshold of 1.2\n"
     ]
    },
    {
     "name": "stderr",
     "output_type": "stream",
     "text": [
      " 11%|█         | 110/1014 [00:24<03:00,  5.01it/s]"
     ]
    },
    {
     "name": "stdout",
     "output_type": "stream",
     "text": [
      "Found 15385 lines. Skipped 11. Loaded 15374 points.\n",
      "Fitness score:  0.8418449197860962\n",
      "Frame : 109\n",
      "Error--------: 13.405360297171448\n",
      "Latent error above the threshold of 1.2\n",
      "Found 17209 lines. Skipped 11. Loaded 17198 points.\n"
     ]
    },
    {
     "name": "stderr",
     "output_type": "stream",
     "text": [
      " 11%|█         | 112/1014 [00:25<03:04,  4.88it/s]"
     ]
    },
    {
     "name": "stdout",
     "output_type": "stream",
     "text": [
      "Fitness score:  0.8333551683479627\n",
      "Frame : 110\n",
      "Error--------: 13.13588092392596\n",
      "Latent error above the threshold of 1.2\n",
      "Found 11997 lines. Skipped 11. Loaded 11986 points.\n",
      "Fitness score:  0.8589560526733302\n",
      "Frame : 111\n",
      "Error--------: 13.532644782933748\n",
      "Latent error above the threshold of 1.2\n"
     ]
    },
    {
     "name": "stderr",
     "output_type": "stream",
     "text": [
      " 11%|█         | 113/1014 [00:25<03:19,  4.52it/s]"
     ]
    },
    {
     "name": "stdout",
     "output_type": "stream",
     "text": [
      "Found 13622 lines. Skipped 11. Loaded 13611 points.\n",
      "Fitness score:  0.8379034561553842\n",
      "Frame : 112\n",
      "Error--------: 13.632469664879373\n",
      "Latent error above the threshold of 1.2\n",
      "Found 16443 lines. Skipped 11. Loaded 16432 points.\n"
     ]
    },
    {
     "name": "stderr",
     "output_type": "stream",
     "text": [
      " 11%|█▏        | 115/1014 [00:25<03:00,  4.99it/s]"
     ]
    },
    {
     "name": "stdout",
     "output_type": "stream",
     "text": [
      "Fitness score:  0.8220954356846473\n",
      "Frame : 113\n",
      "Error--------: 14.122239063482239\n",
      "Latent error above the threshold of 1.2\n",
      "Found 14428 lines. Skipped 11. Loaded 14417 points.\n",
      "Fitness score:  0.820125970411601\n",
      "Frame : 114\n",
      "Error--------: 14.619375732709704\n",
      "Latent error above the threshold of 1.2\n"
     ]
    },
    {
     "name": "stderr",
     "output_type": "stream",
     "text": [
      " 11%|█▏        | 116/1014 [00:25<02:55,  5.11it/s]"
     ]
    },
    {
     "name": "stdout",
     "output_type": "stream",
     "text": [
      "Found 29108 lines. Skipped 11. Loaded 29097 points.\n",
      "Fitness score:  0.9998818525519849\n",
      "Frame : 115\n",
      "Error--------: 15.09674363424036\n",
      "Latent error above the threshold of 1.2\n",
      "Found 9189 lines. Skipped 11. Loaded 9178 points.\n"
     ]
    },
    {
     "name": "stderr",
     "output_type": "stream",
     "text": [
      " 12%|█▏        | 118/1014 [00:26<02:40,  5.57it/s]"
     ]
    },
    {
     "name": "stdout",
     "output_type": "stream",
     "text": [
      "Fitness score:  0.8100568279662477\n",
      "Frame : 116\n",
      "Error--------: 15.230345659811144\n",
      "Latent error above the threshold of 1.2\n",
      "Found 14538 lines. Skipped 11. Loaded 14527 points.\n",
      "Fitness score:  0.7953306305046833\n",
      "Frame : 117\n",
      "Error--------: 15.460943463713983\n",
      "Latent error above the threshold of 1.2\n"
     ]
    },
    {
     "name": "stderr",
     "output_type": "stream",
     "text": [
      " 12%|█▏        | 119/1014 [00:26<02:55,  5.11it/s]"
     ]
    },
    {
     "name": "stdout",
     "output_type": "stream",
     "text": [
      "Found 15959 lines. Skipped 11. Loaded 15948 points.\n",
      "Fitness score:  0.7961501177122282\n",
      "Frame : 118\n",
      "Error--------: 15.722125311313624\n",
      "Latent error above the threshold of 1.2\n",
      "Found 17203 lines. Skipped 11. Loaded 17192 points.\n"
     ]
    },
    {
     "name": "stderr",
     "output_type": "stream",
     "text": [
      " 12%|█▏        | 121/1014 [00:26<02:49,  5.26it/s]"
     ]
    },
    {
     "name": "stdout",
     "output_type": "stream",
     "text": [
      "Fitness score:  0.77605404729138\n",
      "Frame : 119\n",
      "Error--------: 15.856599467421937\n",
      "Latent error above the threshold of 1.2\n",
      "Found 15424 lines. Skipped 11. Loaded 15413 points.\n",
      "Fitness score:  0.7958212113197567\n",
      "Frame : 120\n",
      "Error--------: 16.1660590962624\n",
      "Latent error above the threshold of 1.2\n"
     ]
    },
    {
     "name": "stderr",
     "output_type": "stream",
     "text": [
      " 12%|█▏        | 122/1014 [00:26<02:40,  5.54it/s]"
     ]
    },
    {
     "name": "stdout",
     "output_type": "stream",
     "text": [
      "Found 10119 lines. Skipped 11. Loaded 10108 points.\n",
      "Fitness score:  0.8320933378424078\n",
      "Frame : 121\n",
      "Error--------: 16.35013489844958\n",
      "Latent error above the threshold of 1.2\n",
      "Found 14464 lines. Skipped 11. Loaded 14453 points.\n"
     ]
    },
    {
     "name": "stderr",
     "output_type": "stream",
     "text": [
      " 12%|█▏        | 124/1014 [00:27<02:40,  5.54it/s]"
     ]
    },
    {
     "name": "stdout",
     "output_type": "stream",
     "text": [
      "Fitness score:  0.8239002329724544\n",
      "Frame : 122\n",
      "Error--------: 16.830775854982328\n",
      "Latent error above the threshold of 1.2\n",
      "Found 17331 lines. Skipped 11. Loaded 17320 points.\n",
      "Fitness score:  0.838397240281279\n",
      "Frame : 123\n",
      "Error--------: 17.335323506576643\n",
      "Latent error above the threshold of 1.2\n"
     ]
    },
    {
     "name": "stderr",
     "output_type": "stream",
     "text": [
      " 12%|█▏        | 125/1014 [00:27<02:47,  5.32it/s]"
     ]
    },
    {
     "name": "stdout",
     "output_type": "stream",
     "text": [
      "Found 15111 lines. Skipped 11. Loaded 15100 points.\n",
      "Fitness score:  0.8497913769123783\n",
      "Frame : 124\n",
      "Error--------: 17.53927415836489\n",
      "Latent error above the threshold of 1.2\n"
     ]
    },
    {
     "name": "stderr",
     "output_type": "stream",
     "text": [
      " 12%|█▏        | 126/1014 [00:27<03:12,  4.62it/s]"
     ]
    },
    {
     "name": "stdout",
     "output_type": "stream",
     "text": [
      "Found 11982 lines. Skipped 11. Loaded 11971 points.\n",
      "Fitness score:  0.862540192926045\n",
      "Frame : 125\n",
      "Error--------: 17.47854870084965\n",
      "Latent error above the threshold of 1.2\n",
      "Found 11511 lines. Skipped 11. Loaded 11500 points.\n"
     ]
    },
    {
     "name": "stderr",
     "output_type": "stream",
     "text": [
      " 13%|█▎        | 127/1014 [00:27<02:45,  5.38it/s]"
     ]
    },
    {
     "name": "stdout",
     "output_type": "stream",
     "text": [
      "Fitness score:  0.9998307093279161\n",
      "Frame : 126\n",
      "Error--------: 16.527453414440426\n",
      "Latent error above the threshold of 1.2\n",
      "Found 12785 lines. Skipped 11. Loaded 12774 points.\n"
     ]
    },
    {
     "name": "stderr",
     "output_type": "stream",
     "text": [
      " 13%|█▎        | 129/1014 [00:28<03:03,  4.82it/s]"
     ]
    },
    {
     "name": "stdout",
     "output_type": "stream",
     "text": [
      "Fitness score:  1.0\n",
      "Frame : 127\n",
      "Error--------: 17.71622530172527\n",
      "Latent error above the threshold of 1.2\n",
      "Found 15466 lines. Skipped 11. Loaded 15455 points.\n",
      "Fitness score:  0.8343461030383091\n",
      "Frame : 128\n",
      "Error--------: 18.291504223941\n",
      "Latent error above the threshold of 1.2\n"
     ]
    },
    {
     "name": "stderr",
     "output_type": "stream",
     "text": [
      " 13%|█▎        | 130/1014 [00:28<02:51,  5.15it/s]"
     ]
    },
    {
     "name": "stdout",
     "output_type": "stream",
     "text": [
      "Found 15272 lines. Skipped 11. Loaded 15261 points.\n",
      "Fitness score:  0.8561234891510121\n",
      "Frame : 129\n",
      "Error--------: 18.104224063267793\n",
      "Latent error above the threshold of 1.2\n",
      "Found 14488 lines. Skipped 11. Loaded 14477 points.\n"
     ]
    },
    {
     "name": "stderr",
     "output_type": "stream",
     "text": [
      " 13%|█▎        | 131/1014 [00:28<03:24,  4.32it/s]"
     ]
    },
    {
     "name": "stdout",
     "output_type": "stream",
     "text": [
      "Fitness score:  0.8524475524475524\n",
      "Frame : 130\n",
      "Error--------: 18.57298200994151\n",
      "Latent error above the threshold of 1.2\n",
      "Found 13728 lines. Skipped 11. Loaded 13717 points.\n"
     ]
    },
    {
     "name": "stderr",
     "output_type": "stream",
     "text": [
      " 13%|█▎        | 133/1014 [00:29<03:04,  4.77it/s]"
     ]
    },
    {
     "name": "stdout",
     "output_type": "stream",
     "text": [
      "Fitness score:  0.8509975944530919\n",
      "Frame : 131\n",
      "Error--------: 18.518108648208166\n",
      "Latent error above the threshold of 1.2\n",
      "Found 11126 lines. Skipped 11. Loaded 11115 points.\n",
      "Fitness score:  0.8651305188527232\n",
      "Frame : 132\n",
      "Error--------: 18.658390701743595\n",
      "Latent error above the threshold of 1.2\n"
     ]
    },
    {
     "name": "stderr",
     "output_type": "stream",
     "text": [
      " 13%|█▎        | 134/1014 [00:29<03:21,  4.38it/s]"
     ]
    },
    {
     "name": "stdout",
     "output_type": "stream",
     "text": [
      "Found 16212 lines. Skipped 11. Loaded 16201 points.\n",
      "Fitness score:  0.8373365358953829\n",
      "Frame : 133\n",
      "Error--------: 18.626684551448644\n",
      "Latent error above the threshold of 1.2\n",
      "Found 15874 lines. Skipped 11. Loaded 15863 points.\n"
     ]
    },
    {
     "name": "stderr",
     "output_type": "stream",
     "text": [
      " 13%|█▎        | 135/1014 [00:29<03:16,  4.48it/s]"
     ]
    },
    {
     "name": "stdout",
     "output_type": "stream",
     "text": [
      "Fitness score:  0.833945917563665\n",
      "Frame : 134\n",
      "Error--------: 18.82067197069639\n",
      "Latent error above the threshold of 1.2\n",
      "Found 16467 lines. Skipped 11. Loaded 16456 points.\n",
      "Fitness score:  0.8387423935091278\n"
     ]
    },
    {
     "name": "stderr",
     "output_type": "stream",
     "text": [
      " 14%|█▎        | 137/1014 [00:30<02:57,  4.95it/s]"
     ]
    },
    {
     "name": "stdout",
     "output_type": "stream",
     "text": [
      "Frame : 135\n",
      "Error--------: 19.131310043263344\n",
      "Latent error above the threshold of 1.2\n",
      "Found 12809 lines. Skipped 11. Loaded 12798 points.\n",
      "Fitness score:  0.8461648745519713\n",
      "Frame : 136\n",
      "Error--------: 19.26091937976175\n",
      "Latent error above the threshold of 1.2\n"
     ]
    },
    {
     "name": "stderr",
     "output_type": "stream",
     "text": [
      " 14%|█▎        | 138/1014 [00:30<02:43,  5.35it/s]"
     ]
    },
    {
     "name": "stdout",
     "output_type": "stream",
     "text": [
      "Found 16339 lines. Skipped 11. Loaded 16328 points.\n",
      "Fitness score:  0.8425052410901468\n",
      "Frame : 137\n",
      "Error--------: 19.485320814521955\n",
      "Latent error above the threshold of 1.2\n",
      "Found 9903 lines. Skipped 11. Loaded 9892 points.\n"
     ]
    },
    {
     "name": "stderr",
     "output_type": "stream",
     "text": [
      " 14%|█▎        | 139/1014 [00:30<02:46,  5.27it/s]"
     ]
    },
    {
     "name": "stdout",
     "output_type": "stream",
     "text": [
      "Fitness score:  1.0\n",
      "Frame : 138\n",
      "Error--------: 19.447814651821243\n",
      "Latent error above the threshold of 1.2\n",
      "Found 13352 lines. Skipped 11. Loaded 13341 points.\n"
     ]
    },
    {
     "name": "stderr",
     "output_type": "stream",
     "text": [
      " 14%|█▍        | 140/1014 [00:30<03:05,  4.72it/s]"
     ]
    },
    {
     "name": "stdout",
     "output_type": "stream",
     "text": [
      "Fitness score:  0.8483634857063942\n",
      "Frame : 139\n",
      "Error--------: 20.146678701247815\n",
      "Latent error above the threshold of 1.2\n",
      "Found 15448 lines. Skipped 11. Loaded 15437 points.\n"
     ]
    },
    {
     "name": "stderr",
     "output_type": "stream",
     "text": [
      " 14%|█▍        | 142/1014 [00:31<03:11,  4.56it/s]"
     ]
    },
    {
     "name": "stdout",
     "output_type": "stream",
     "text": [
      "Fitness score:  0.8487284227170905\n",
      "Frame : 140\n",
      "Error--------: 19.813441164276803\n",
      "Latent error above the threshold of 1.2\n",
      "Found 13591 lines. Skipped 11. Loaded 13580 points.\n",
      "Fitness score:  0.8452413793103448\n",
      "Frame : 141\n",
      "Error--------: 20.40889725222222\n",
      "Latent error above the threshold of 1.2\n"
     ]
    },
    {
     "name": "stderr",
     "output_type": "stream",
     "text": [
      " 14%|█▍        | 143/1014 [00:31<02:45,  5.25it/s]"
     ]
    },
    {
     "name": "stdout",
     "output_type": "stream",
     "text": [
      "Found 15461 lines. Skipped 11. Loaded 15450 points.\n",
      "Fitness score:  0.8590883027522935\n",
      "Frame : 142\n",
      "Error--------: 20.146335363160016\n",
      "Latent error above the threshold of 1.2\n",
      "Found 13249 lines. Skipped 11. Loaded 13238 points.\n"
     ]
    },
    {
     "name": "stderr",
     "output_type": "stream",
     "text": [
      " 14%|█▍        | 145/1014 [00:31<02:41,  5.39it/s]"
     ]
    },
    {
     "name": "stdout",
     "output_type": "stream",
     "text": [
      "Fitness score:  0.8558677202224173\n",
      "Frame : 143\n",
      "Error--------: 20.67315754671804\n",
      "Latent error above the threshold of 1.2\n",
      "Found 13928 lines. Skipped 11. Loaded 13917 points.\n",
      "Fitness score:  0.8395411605937921\n",
      "Frame : 144\n",
      "Error--------: 20.425476729421383\n",
      "Latent error above the threshold of 1.2\n"
     ]
    },
    {
     "name": "stderr",
     "output_type": "stream",
     "text": [
      " 14%|█▍        | 146/1014 [00:31<02:22,  6.07it/s]"
     ]
    },
    {
     "name": "stdout",
     "output_type": "stream",
     "text": [
      "Found 11361 lines. Skipped 11. Loaded 11350 points.\n",
      "Fitness score:  0.8642310146777281\n",
      "Frame : 145\n",
      "Error--------: 20.797113935844543\n",
      "Latent error above the threshold of 1.2\n",
      "Found 14460 lines. Skipped 11. Loaded 14449 points.\n"
     ]
    },
    {
     "name": "stderr",
     "output_type": "stream",
     "text": [
      " 15%|█▍        | 148/1014 [00:32<02:19,  6.19it/s]"
     ]
    },
    {
     "name": "stdout",
     "output_type": "stream",
     "text": [
      "Fitness score:  0.8526721920548728\n",
      "Frame : 146\n",
      "Error--------: 20.8227022128368\n",
      "Latent error above the threshold of 1.2\n",
      "Found 11683 lines. Skipped 11. Loaded 11672 points.\n",
      "Fitness score:  0.860257535850161\n",
      "Frame : 147\n",
      "Error--------: 20.935788102649596\n",
      "Latent error above the threshold of 1.2\n"
     ]
    },
    {
     "name": "stderr",
     "output_type": "stream",
     "text": [
      " 15%|█▍        | 149/1014 [00:32<02:44,  5.26it/s]"
     ]
    },
    {
     "name": "stdout",
     "output_type": "stream",
     "text": [
      "Found 16835 lines. Skipped 11. Loaded 16824 points.\n",
      "Fitness score:  0.8407416814833629\n",
      "Frame : 148\n",
      "Error--------: 20.930577468027714\n",
      "Latent error above the threshold of 1.2\n",
      "Found 13376 lines. Skipped 11. Loaded 13365 points.\n"
     ]
    },
    {
     "name": "stderr",
     "output_type": "stream",
     "text": [
      " 15%|█▍        | 150/1014 [00:32<03:37,  3.97it/s]"
     ]
    },
    {
     "name": "stdout",
     "output_type": "stream",
     "text": [
      "Fitness score:  1.0\n",
      "Frame : 149\n",
      "Error--------: 21.927118805922923\n",
      "Latent error above the threshold of 1.2\n",
      "Found 16501 lines. Skipped 11. Loaded 16490 points.\n"
     ]
    },
    {
     "name": "stderr",
     "output_type": "stream",
     "text": [
      " 15%|█▍        | 151/1014 [00:33<03:36,  3.98it/s]"
     ]
    },
    {
     "name": "stdout",
     "output_type": "stream",
     "text": [
      "Fitness score:  0.8534566027321651\n",
      "Frame : 150\n",
      "Error--------: 21.070115503086285\n",
      "Latent error above the threshold of 1.2\n",
      "Found 15882 lines. Skipped 11. Loaded 15871 points.\n"
     ]
    },
    {
     "name": "stderr",
     "output_type": "stream",
     "text": [
      " 15%|█▍        | 152/1014 [00:33<03:33,  4.04it/s]"
     ]
    },
    {
     "name": "stdout",
     "output_type": "stream",
     "text": [
      "Fitness score:  0.8371973209685729\n",
      "Frame : 151\n",
      "Error--------: 21.09993446625027\n",
      "Latent error above the threshold of 1.2\n",
      "Found 15902 lines. Skipped 11. Loaded 15891 points.\n"
     ]
    },
    {
     "name": "stderr",
     "output_type": "stream",
     "text": [
      " 15%|█▌        | 153/1014 [00:33<03:37,  3.97it/s]"
     ]
    },
    {
     "name": "stdout",
     "output_type": "stream",
     "text": [
      "Fitness score:  0.837474645030426\n",
      "Frame : 152\n",
      "Error--------: 21.23530247312242\n",
      "Latent error above the threshold of 1.2\n",
      "Found 17564 lines. Skipped 11. Loaded 17553 points.\n"
     ]
    },
    {
     "name": "stderr",
     "output_type": "stream",
     "text": [
      " 15%|█▌        | 154/1014 [00:33<03:26,  4.17it/s]"
     ]
    },
    {
     "name": "stdout",
     "output_type": "stream",
     "text": [
      "Fitness score:  0.8581737441021371\n",
      "Frame : 153\n",
      "Error--------: 21.31944105886105\n",
      "Latent error above the threshold of 1.2\n",
      "Found 13211 lines. Skipped 11. Loaded 13200 points.\n"
     ]
    },
    {
     "name": "stderr",
     "output_type": "stream",
     "text": [
      " 15%|█▌        | 155/1014 [00:33<03:29,  4.10it/s]"
     ]
    },
    {
     "name": "stdout",
     "output_type": "stream",
     "text": [
      "Fitness score:  0.8479410127991096\n",
      "Frame : 154\n",
      "Error--------: 21.410723526246468\n",
      "Latent error above the threshold of 1.2\n",
      "Found 12863 lines. Skipped 11. Loaded 12852 points.\n"
     ]
    },
    {
     "name": "stderr",
     "output_type": "stream",
     "text": [
      " 15%|█▌        | 156/1014 [00:34<03:31,  4.05it/s]"
     ]
    },
    {
     "name": "stdout",
     "output_type": "stream",
     "text": [
      "Fitness score:  0.8518153672952434\n",
      "Frame : 155\n",
      "Error--------: 21.4687930239504\n",
      "Latent error above the threshold of 1.2\n",
      "Found 14036 lines. Skipped 11. Loaded 14025 points.\n"
     ]
    },
    {
     "name": "stderr",
     "output_type": "stream",
     "text": [
      " 16%|█▌        | 158/1014 [00:34<03:06,  4.59it/s]"
     ]
    },
    {
     "name": "stdout",
     "output_type": "stream",
     "text": [
      "Fitness score:  0.8535541752933057\n",
      "Frame : 156\n",
      "Error--------: 21.647183529714255\n",
      "Latent error above the threshold of 1.2\n",
      "Found 14277 lines. Skipped 11. Loaded 14266 points.\n",
      "Fitness score:  0.8456269757639621\n",
      "Frame : 157\n",
      "Error--------: 21.70456880926435\n",
      "Latent error above the threshold of 1.2\n"
     ]
    },
    {
     "name": "stderr",
     "output_type": "stream",
     "text": [
      " 16%|█▌        | 159/1014 [00:34<03:05,  4.61it/s]"
     ]
    },
    {
     "name": "stdout",
     "output_type": "stream",
     "text": [
      "Found 12443 lines. Skipped 11. Loaded 12432 points.\n",
      "Fitness score:  0.852538387052151\n",
      "Frame : 158\n",
      "Error--------: 21.935958942834986\n",
      "Latent error above the threshold of 1.2\n"
     ]
    },
    {
     "name": "stderr",
     "output_type": "stream",
     "text": [
      " 16%|█▌        | 160/1014 [00:35<03:09,  4.51it/s]"
     ]
    },
    {
     "name": "stdout",
     "output_type": "stream",
     "text": [
      "Found 15692 lines. Skipped 11. Loaded 15681 points.\n",
      "Fitness score:  0.8503989361702128\n",
      "Frame : 159\n",
      "Error--------: 22.061372441006597\n",
      "Latent error above the threshold of 1.2\n"
     ]
    },
    {
     "name": "stderr",
     "output_type": "stream",
     "text": [
      " 16%|█▌        | 161/1014 [00:35<03:05,  4.59it/s]"
     ]
    },
    {
     "name": "stdout",
     "output_type": "stream",
     "text": [
      "Found 13944 lines. Skipped 11. Loaded 13933 points.\n",
      "Fitness score:  0.9998501872659176\n",
      "Frame : 160\n",
      "Error--------: 24.80983335761911\n",
      "Latent error above the threshold of 1.2\n",
      "Found 12953 lines. Skipped 11. Loaded 12942 points.\n"
     ]
    },
    {
     "name": "stderr",
     "output_type": "stream",
     "text": [
      " 16%|█▌        | 162/1014 [00:35<04:17,  3.31it/s]"
     ]
    },
    {
     "name": "stdout",
     "output_type": "stream",
     "text": [
      "Fitness score:  0.7961359093937375\n",
      "Frame : 161\n",
      "Error--------: 23.91379343983908\n",
      "Latent error above the threshold of 1.2\n",
      "Found 14975 lines. Skipped 11. Loaded 14964 points.\n"
     ]
    },
    {
     "name": "stderr",
     "output_type": "stream",
     "text": [
      " 16%|█▌        | 163/1014 [00:36<04:18,  3.29it/s]"
     ]
    },
    {
     "name": "stdout",
     "output_type": "stream",
     "text": [
      "Fitness score:  0.7939048149178959\n",
      "Frame : 162\n",
      "Error--------: 24.317031743208712\n",
      "Latent error above the threshold of 1.2\n",
      "Found 15875 lines. Skipped 11. Loaded 15864 points.\n"
     ]
    },
    {
     "name": "stderr",
     "output_type": "stream",
     "text": [
      " 16%|█▋        | 165/1014 [00:36<03:38,  3.88it/s]"
     ]
    },
    {
     "name": "stdout",
     "output_type": "stream",
     "text": [
      "Fitness score:  0.8012915377371183\n",
      "Frame : 163\n",
      "Error--------: 24.331841194036365\n",
      "Latent error above the threshold of 1.2\n",
      "Found 15875 lines. Skipped 11. Loaded 15864 points.\n",
      "Fitness score:  0.8011570025561684\n",
      "Frame : 164\n",
      "Error--------: 24.589054584088654\n",
      "Latent error above the threshold of 1.2\n"
     ]
    },
    {
     "name": "stderr",
     "output_type": "stream",
     "text": [
      " 16%|█▋        | 166/1014 [00:36<03:26,  4.10it/s]"
     ]
    },
    {
     "name": "stdout",
     "output_type": "stream",
     "text": [
      "Found 16173 lines. Skipped 11. Loaded 16162 points.\n",
      "Fitness score:  0.7898919657270582\n",
      "Frame : 165\n",
      "Error--------: 24.798918898545264\n",
      "Latent error above the threshold of 1.2\n"
     ]
    },
    {
     "name": "stderr",
     "output_type": "stream",
     "text": [
      " 16%|█▋        | 167/1014 [00:36<03:08,  4.50it/s]"
     ]
    },
    {
     "name": "stdout",
     "output_type": "stream",
     "text": [
      "Found 16784 lines. Skipped 11. Loaded 16773 points.\n",
      "Fitness score:  0.810117905127502\n",
      "Frame : 166\n",
      "Error--------: 24.919044427409215\n",
      "Latent error above the threshold of 1.2\n"
     ]
    },
    {
     "name": "stderr",
     "output_type": "stream",
     "text": [
      " 17%|█▋        | 168/1014 [00:37<03:18,  4.25it/s]"
     ]
    },
    {
     "name": "stdout",
     "output_type": "stream",
     "text": [
      "Found 12690 lines. Skipped 11. Loaded 12679 points.\n",
      "Fitness score:  0.8050752928053542\n",
      "Frame : 167\n",
      "Error--------: 25.28207946960219\n",
      "Latent error above the threshold of 1.2\n",
      "Found 11950 lines. Skipped 11. Loaded 11939 points.\n"
     ]
    },
    {
     "name": "stderr",
     "output_type": "stream",
     "text": [
      " 17%|█▋        | 170/1014 [00:37<02:32,  5.55it/s]"
     ]
    },
    {
     "name": "stdout",
     "output_type": "stream",
     "text": [
      "Fitness score:  0.8233225900966892\n",
      "Frame : 168\n",
      "Error--------: 25.369748863831894\n",
      "Latent error above the threshold of 1.2\n",
      "Found 13858 lines. Skipped 11. Loaded 13847 points.\n",
      "Fitness score:  0.8339681196219495\n",
      "Frame : 169\n",
      "Error--------: 25.784148261892156\n",
      "Latent error above the threshold of 1.2\n",
      "Found 16825 lines. Skipped 11. Loaded 16814 points.\n"
     ]
    },
    {
     "name": "stderr",
     "output_type": "stream",
     "text": [
      " 17%|█▋        | 172/1014 [00:37<02:11,  6.42it/s]"
     ]
    },
    {
     "name": "stdout",
     "output_type": "stream",
     "text": [
      "Fitness score:  0.8416572787582927\n",
      "Frame : 170\n",
      "Error--------: 26.325142630377293\n",
      "Latent error above the threshold of 1.2\n",
      "Found 13026 lines. Skipped 11. Loaded 13015 points.\n",
      "Fitness score:  0.9998491249245625\n",
      "Frame : 171\n",
      "Error--------: 25.08076342475268\n",
      "Latent error above the threshold of 1.2\n",
      "Found 14123 lines. Skipped 11. Loaded 14112 points.\n"
     ]
    },
    {
     "name": "stderr",
     "output_type": "stream",
     "text": [
      " 17%|█▋        | 174/1014 [00:38<02:04,  6.73it/s]"
     ]
    },
    {
     "name": "stdout",
     "output_type": "stream",
     "text": [
      "Fitness score:  0.8294868313874558\n",
      "Frame : 172\n",
      "Error--------: 26.807319936452966\n",
      "Latent error above the threshold of 1.2\n",
      "Found 12982 lines. Skipped 11. Loaded 12971 points.\n",
      "Fitness score:  0.8731736707335442\n",
      "Frame : 173\n",
      "Error--------: 26.66188459451316\n",
      "Latent error above the threshold of 1.2\n"
     ]
    },
    {
     "name": "stderr",
     "output_type": "stream",
     "text": [
      " 17%|█▋        | 175/1014 [00:38<02:22,  5.89it/s]"
     ]
    },
    {
     "name": "stdout",
     "output_type": "stream",
     "text": [
      "Found 15353 lines. Skipped 11. Loaded 15342 points.\n",
      "Fitness score:  0.8686841394217779\n",
      "Frame : 174\n",
      "Error--------: 26.888782547837295\n",
      "Latent error above the threshold of 1.2\n",
      "Found 15353 lines. Skipped 11. Loaded 15342 points.\n"
     ]
    },
    {
     "name": "stderr",
     "output_type": "stream",
     "text": [
      " 17%|█▋        | 177/1014 [00:38<02:12,  6.32it/s]"
     ]
    },
    {
     "name": "stdout",
     "output_type": "stream",
     "text": [
      "Fitness score:  0.8662523642258849\n",
      "Frame : 175\n",
      "Error--------: 26.92035022027758\n",
      "Latent error above the threshold of 1.2\n",
      "Found 16586 lines. Skipped 11. Loaded 16575 points.\n",
      "Fitness score:  0.8599948146227638\n",
      "Frame : 176\n",
      "Error--------: 27.1907247676185\n",
      "Latent error above the threshold of 1.2\n",
      "Found 18695 lines. Skipped 11. Loaded 18684 points.\n"
     ]
    },
    {
     "name": "stderr",
     "output_type": "stream",
     "text": [
      " 18%|█▊        | 179/1014 [00:38<02:05,  6.66it/s]"
     ]
    },
    {
     "name": "stdout",
     "output_type": "stream",
     "text": [
      "Fitness score:  0.8703802892340653\n",
      "Frame : 177\n",
      "Error--------: 27.13294073706774\n",
      "Latent error above the threshold of 1.2\n",
      "Found 14925 lines. Skipped 11. Loaded 14914 points.\n",
      "Fitness score:  0.8663748712667353\n",
      "Frame : 178\n",
      "Error--------: 27.415247464393673\n",
      "Latent error above the threshold of 1.2\n",
      "Found 17065 lines. Skipped 11. Loaded 17054 points.\n"
     ]
    },
    {
     "name": "stderr",
     "output_type": "stream",
     "text": [
      " 18%|█▊        | 180/1014 [00:38<02:08,  6.48it/s]"
     ]
    },
    {
     "name": "stdout",
     "output_type": "stream",
     "text": [
      "Fitness score:  0.8748093719672813\n",
      "Frame : 179\n",
      "Error--------: 27.394298551204358\n",
      "Latent error above the threshold of 1.2\n",
      "Found 12133 lines. Skipped 11. Loaded 12122 points.\n"
     ]
    },
    {
     "name": "stderr",
     "output_type": "stream",
     "text": [
      " 18%|█▊        | 182/1014 [00:39<02:18,  5.99it/s]"
     ]
    },
    {
     "name": "stdout",
     "output_type": "stream",
     "text": [
      "Fitness score:  0.8821631587033338\n",
      "Frame : 180\n",
      "Error--------: 27.800212312974868\n",
      "Latent error above the threshold of 1.2\n",
      "Found 15971 lines. Skipped 11. Loaded 15960 points.\n",
      "Fitness score:  0.8645886561062851\n",
      "Frame : 181\n",
      "Error--------: 27.73341054268683\n",
      "Latent error above the threshold of 1.2\n",
      "Found 12616 lines. Skipped 11. Loaded 12605 points.\n"
     ]
    },
    {
     "name": "stderr",
     "output_type": "stream",
     "text": [
      " 18%|█▊        | 184/1014 [00:39<02:03,  6.72it/s]"
     ]
    },
    {
     "name": "stdout",
     "output_type": "stream",
     "text": [
      "Fitness score:  1.0\n",
      "Frame : 182\n",
      "Error--------: 27.989344309167887\n",
      "Latent error above the threshold of 1.2\n",
      "Found 14402 lines. Skipped 11. Loaded 14391 points.\n",
      "Fitness score:  0.8775681341719077\n",
      "Frame : 183\n",
      "Error--------: 28.267526845442156\n",
      "Latent error above the threshold of 1.2\n",
      "Found 14634 lines. Skipped 11. Loaded 14623 points.\n"
     ]
    },
    {
     "name": "stderr",
     "output_type": "stream",
     "text": [
      " 18%|█▊        | 186/1014 [00:39<02:00,  6.86it/s]"
     ]
    },
    {
     "name": "stdout",
     "output_type": "stream",
     "text": [
      "Fitness score:  0.8810119544064499\n",
      "Frame : 184\n",
      "Error--------: 28.250817905070004\n",
      "Latent error above the threshold of 1.2\n",
      "Found 14254 lines. Skipped 11. Loaded 14243 points.\n",
      "Fitness score:  0.8788784514659835\n",
      "Frame : 185\n",
      "Error--------: 28.546648507683198\n",
      "Latent error above the threshold of 1.2\n",
      "Found 13999 lines. Skipped 11. Loaded 13988 points.\n"
     ]
    },
    {
     "name": "stderr",
     "output_type": "stream",
     "text": [
      " 18%|█▊        | 187/1014 [00:40<01:51,  7.42it/s]"
     ]
    },
    {
     "name": "stdout",
     "output_type": "stream",
     "text": [
      "Fitness score:  0.8780656782596646\n",
      "Frame : 186\n",
      "Error--------: 28.6338407138364\n",
      "Latent error above the threshold of 1.2\n",
      "Found 17059 lines. Skipped 11. Loaded 17048 points.\n"
     ]
    },
    {
     "name": "stderr",
     "output_type": "stream",
     "text": [
      " 19%|█▊        | 189/1014 [00:40<02:12,  6.24it/s]"
     ]
    },
    {
     "name": "stdout",
     "output_type": "stream",
     "text": [
      "Fitness score:  0.8668687634204876\n",
      "Frame : 187\n",
      "Error--------: 28.83438278618021\n",
      "Latent error above the threshold of 1.2\n",
      "Found 15317 lines. Skipped 11. Loaded 15306 points.\n",
      "Fitness score:  0.8660691421254801\n",
      "Frame : 188\n",
      "Error--------: 28.798609416776493\n",
      "Latent error above the threshold of 1.2\n",
      "Found 15835 lines. Skipped 11. Loaded 15824 points.\n"
     ]
    },
    {
     "name": "stderr",
     "output_type": "stream",
     "text": [
      " 19%|█▉        | 191/1014 [00:40<02:20,  5.84it/s]"
     ]
    },
    {
     "name": "stdout",
     "output_type": "stream",
     "text": [
      "Fitness score:  0.8654662379421222\n",
      "Frame : 189\n",
      "Error--------: 28.959071664687198\n",
      "Latent error above the threshold of 1.2\n",
      "Found 15243 lines. Skipped 11. Loaded 15232 points.\n",
      "Fitness score:  0.8850337326173757\n",
      "Frame : 190\n",
      "Error--------: 29.063046181096258\n",
      "Latent error above the threshold of 1.2\n",
      "Found 16319 lines. Skipped 11. Loaded 16308 points.\n"
     ]
    },
    {
     "name": "stderr",
     "output_type": "stream",
     "text": [
      " 19%|█▉        | 193/1014 [00:41<01:57,  6.99it/s]"
     ]
    },
    {
     "name": "stdout",
     "output_type": "stream",
     "text": [
      "Fitness score:  0.8640812786519638\n",
      "Frame : 191\n",
      "Error--------: 29.324168499941997\n",
      "Latent error above the threshold of 1.2\n",
      "Found 10903 lines. Skipped 11. Loaded 10892 points.\n",
      "Fitness score:  0.877051626380185\n",
      "Frame : 192\n",
      "Error--------: 29.276953824102904\n",
      "Latent error above the threshold of 1.2\n"
     ]
    },
    {
     "name": "stderr",
     "output_type": "stream",
     "text": [
      " 19%|█▉        | 194/1014 [00:41<02:12,  6.21it/s]"
     ]
    },
    {
     "name": "stdout",
     "output_type": "stream",
     "text": [
      "Found 12616 lines. Skipped 11. Loaded 12605 points.\n",
      "Fitness score:  1.0\n",
      "Frame : 193\n",
      "Error--------: 30.590293621720708\n",
      "Latent error above the threshold of 1.2\n",
      "Found 15988 lines. Skipped 11. Loaded 15977 points.\n"
     ]
    },
    {
     "name": "stderr",
     "output_type": "stream",
     "text": [
      " 19%|█▉        | 196/1014 [00:41<02:02,  6.67it/s]"
     ]
    },
    {
     "name": "stdout",
     "output_type": "stream",
     "text": [
      "Fitness score:  0.8289059549288682\n",
      "Frame : 194\n",
      "Error--------: 30.32292112313603\n",
      "Latent error above the threshold of 1.2\n",
      "Found 18900 lines. Skipped 11. Loaded 18889 points.\n",
      "Fitness score:  0.8172069825436409\n",
      "Frame : 195\n",
      "Error--------: 30.683379746153015\n",
      "Latent error above the threshold of 1.2\n",
      "Found 14361 lines. Skipped 11. Loaded 14350 points.\n"
     ]
    },
    {
     "name": "stderr",
     "output_type": "stream",
     "text": [
      " 20%|█▉        | 198/1014 [00:41<01:52,  7.24it/s]"
     ]
    },
    {
     "name": "stdout",
     "output_type": "stream",
     "text": [
      "Fitness score:  0.8305578684429642\n",
      "Frame : 196\n",
      "Error--------: 31.034117361956064\n",
      "Latent error above the threshold of 1.2\n",
      "Found 14354 lines. Skipped 11. Loaded 14343 points.\n",
      "Fitness score:  0.8247624371157071\n",
      "Frame : 197\n",
      "Error--------: 31.11224489946236\n",
      "Latent error above the threshold of 1.2\n",
      "Found 15289 lines. Skipped 11. Loaded 15278 points.\n"
     ]
    },
    {
     "name": "stderr",
     "output_type": "stream",
     "text": [
      " 20%|█▉        | 199/1014 [00:41<01:53,  7.17it/s]"
     ]
    },
    {
     "name": "stdout",
     "output_type": "stream",
     "text": [
      "Fitness score:  0.8202954048140044\n",
      "Frame : 198\n",
      "Error--------: 31.51282908002666\n",
      "Latent error above the threshold of 1.2\n",
      "Found 18098 lines. Skipped 11. Loaded 18087 points.\n"
     ]
    },
    {
     "name": "stderr",
     "output_type": "stream",
     "text": [
      " 20%|█▉        | 201/1014 [00:42<02:04,  6.55it/s]"
     ]
    },
    {
     "name": "stdout",
     "output_type": "stream",
     "text": [
      "Fitness score:  0.812388021499872\n",
      "Frame : 199\n",
      "Error--------: 31.67450608137458\n",
      "Latent error above the threshold of 1.2\n",
      "Found 12605 lines. Skipped 11. Loaded 12594 points.\n",
      "Fitness score:  0.822106824925816\n",
      "Frame : 200\n",
      "Error--------: 32.00451893654466\n",
      "Latent error above the threshold of 1.2\n",
      "Found 16053 lines. Skipped 11. Loaded 16042 points.\n"
     ]
    },
    {
     "name": "stderr",
     "output_type": "stream",
     "text": [
      " 20%|██        | 203/1014 [00:42<01:53,  7.15it/s]"
     ]
    },
    {
     "name": "stdout",
     "output_type": "stream",
     "text": [
      "Fitness score:  0.8277545327754533\n",
      "Frame : 201\n",
      "Error--------: 32.13137214389834\n",
      "Latent error above the threshold of 1.2\n",
      "Found 12927 lines. Skipped 11. Loaded 12916 points.\n",
      "Fitness score:  0.832621816575887\n",
      "Frame : 202\n",
      "Error--------: 32.655908692551186\n",
      "Latent error above the threshold of 1.2\n",
      "Found 12866 lines. Skipped 11. Loaded 12855 points.\n"
     ]
    },
    {
     "name": "stderr",
     "output_type": "stream",
     "text": [
      " 20%|██        | 205/1014 [00:42<01:48,  7.47it/s]"
     ]
    },
    {
     "name": "stdout",
     "output_type": "stream",
     "text": [
      "Fitness score:  0.8467410452143277\n",
      "Frame : 203\n",
      "Error--------: 32.98415502615386\n",
      "Latent error above the threshold of 1.2\n",
      "Found 9776 lines. Skipped 11. Loaded 9765 points.\n",
      "Fitness score:  1.0\n",
      "Frame : 204\n",
      "Error--------: 31.861948054872354\n",
      "Latent error above the threshold of 1.2\n",
      "Found 14074 lines. Skipped 11. Loaded 14063 points.\n"
     ]
    },
    {
     "name": "stderr",
     "output_type": "stream",
     "text": [
      " 20%|██        | 207/1014 [00:43<01:49,  7.36it/s]"
     ]
    },
    {
     "name": "stdout",
     "output_type": "stream",
     "text": [
      "Fitness score:  0.8248079988407477\n",
      "Frame : 205\n",
      "Error--------: 33.44290836813033\n",
      "Latent error above the threshold of 1.2\n",
      "Found 18407 lines. Skipped 11. Loaded 18396 points.\n",
      "Fitness score:  0.8533609857264853\n",
      "Frame : 206\n",
      "Error--------: 33.82868779544084\n",
      "Latent error above the threshold of 1.2\n"
     ]
    },
    {
     "name": "stderr",
     "output_type": "stream",
     "text": [
      " 21%|██        | 209/1014 [00:43<01:59,  6.74it/s]"
     ]
    },
    {
     "name": "stdout",
     "output_type": "stream",
     "text": [
      "Found 14489 lines. Skipped 11. Loaded 14478 points.\n",
      "Fitness score:  0.8661021434241863\n",
      "Frame : 207\n",
      "Error--------: 33.74388928025553\n",
      "Latent error above the threshold of 1.2\n",
      "Found 14489 lines. Skipped 11. Loaded 14478 points.\n",
      "Fitness score:  0.8653082826144483\n",
      "Frame : 208\n",
      "Error--------: 34.14768753193291\n",
      "Latent error above the threshold of 1.2\n"
     ]
    },
    {
     "name": "stderr",
     "output_type": "stream",
     "text": [
      " 21%|██        | 210/1014 [00:43<01:52,  7.17it/s]"
     ]
    },
    {
     "name": "stdout",
     "output_type": "stream",
     "text": [
      "Found 14025 lines. Skipped 11. Loaded 14014 points.\n",
      "Fitness score:  0.8700370930072813\n",
      "Frame : 209\n",
      "Error--------: 34.23023979489959\n",
      "Latent error above the threshold of 1.2\n",
      "Found 13688 lines. Skipped 11. Loaded 13677 points.\n"
     ]
    },
    {
     "name": "stderr",
     "output_type": "stream",
     "text": [
      " 21%|██        | 212/1014 [00:43<01:52,  7.13it/s]"
     ]
    },
    {
     "name": "stdout",
     "output_type": "stream",
     "text": [
      "Fitness score:  0.8661720252816708\n",
      "Frame : 210\n",
      "Error--------: 34.48400269693648\n",
      "Latent error above the threshold of 1.2\n",
      "Found 17282 lines. Skipped 11. Loaded 17271 points.\n",
      "Fitness score:  0.8579448376861117\n",
      "Frame : 211\n",
      "Error--------: 34.5095549955689\n",
      "Latent error above the threshold of 1.2\n",
      "Found 15818 lines. Skipped 11. Loaded 15807 points.\n"
     ]
    },
    {
     "name": "stderr",
     "output_type": "stream",
     "text": [
      " 21%|██        | 214/1014 [00:44<01:49,  7.34it/s]"
     ]
    },
    {
     "name": "stdout",
     "output_type": "stream",
     "text": [
      "Fitness score:  0.8648886652409108\n",
      "Frame : 212\n",
      "Error--------: 34.87144743902862\n",
      "Latent error above the threshold of 1.2\n",
      "Found 14014 lines. Skipped 11. Loaded 14003 points.\n",
      "Fitness score:  0.8789289871944121\n",
      "Frame : 213\n",
      "Error--------: 34.90270090633802\n",
      "Latent error above the threshold of 1.2\n"
     ]
    },
    {
     "name": "stderr",
     "output_type": "stream",
     "text": [
      " 21%|██▏       | 216/1014 [00:44<01:55,  6.89it/s]"
     ]
    },
    {
     "name": "stdout",
     "output_type": "stream",
     "text": [
      "Found 17496 lines. Skipped 11. Loaded 17485 points.\n",
      "Fitness score:  0.8595235156153561\n",
      "Frame : 214\n",
      "Error--------: 35.16686065479528\n",
      "Latent error above the threshold of 1.2\n",
      "Found 12585 lines. Skipped 11. Loaded 12574 points.\n",
      "Fitness score:  1.0\n",
      "Frame : 215\n",
      "Error--------: 34.33694116446908\n",
      "Latent error above the threshold of 1.2\n"
     ]
    },
    {
     "name": "stderr",
     "output_type": "stream",
     "text": [
      " 21%|██▏       | 218/1014 [00:44<01:42,  7.73it/s]"
     ]
    },
    {
     "name": "stdout",
     "output_type": "stream",
     "text": [
      "Found 14552 lines. Skipped 11. Loaded 14541 points.\n",
      "Fitness score:  0.8648354636932282\n",
      "Frame : 216\n",
      "Error--------: 36.07376540335718\n",
      "Latent error above the threshold of 1.2\n",
      "Found 11072 lines. Skipped 11. Loaded 11061 points.\n",
      "Fitness score:  0.8798553231640195\n",
      "Frame : 217\n",
      "Error--------: 35.162451120353474\n",
      "Latent error above the threshold of 1.2\n"
     ]
    },
    {
     "name": "stderr",
     "output_type": "stream",
     "text": [
      " 22%|██▏       | 219/1014 [00:44<01:38,  8.06it/s]"
     ]
    },
    {
     "name": "stdout",
     "output_type": "stream",
     "text": [
      "Found 11072 lines. Skipped 11. Loaded 11061 points.\n",
      "Fitness score:  0.8768674319861613\n",
      "Frame : 218\n",
      "Error--------: 36.09814238117995\n",
      "Latent error above the threshold of 1.2\n",
      "Found 15565 lines. Skipped 11. Loaded 15554 points.\n"
     ]
    },
    {
     "name": "stderr",
     "output_type": "stream",
     "text": [
      " 22%|██▏       | 221/1014 [00:44<01:44,  7.62it/s]"
     ]
    },
    {
     "name": "stdout",
     "output_type": "stream",
     "text": [
      "Fitness score:  0.8743792779492685\n",
      "Frame : 219\n",
      "Error--------: 35.87030823643442\n",
      "Latent error above the threshold of 1.2\n",
      "Found 13834 lines. Skipped 11. Loaded 13823 points.\n",
      "Fitness score:  0.8717559359469906\n",
      "Frame : 220\n",
      "Error--------: 36.71862044993568\n",
      "Latent error above the threshold of 1.2\n"
     ]
    },
    {
     "name": "stderr",
     "output_type": "stream",
     "text": [
      " 22%|██▏       | 222/1014 [00:45<02:13,  5.93it/s]"
     ]
    },
    {
     "name": "stdout",
     "output_type": "stream",
     "text": [
      "Found 15634 lines. Skipped 11. Loaded 15623 points.\n",
      "Fitness score:  0.8686295220491154\n",
      "Frame : 221\n",
      "Error--------: 36.33201177238921\n",
      "Latent error above the threshold of 1.2\n",
      "Found 12660 lines. Skipped 11. Loaded 12649 points.\n"
     ]
    },
    {
     "name": "stderr",
     "output_type": "stream",
     "text": [
      " 22%|██▏       | 224/1014 [00:45<01:58,  6.65it/s]"
     ]
    },
    {
     "name": "stdout",
     "output_type": "stream",
     "text": [
      "Fitness score:  0.8762532225723288\n",
      "Frame : 222\n",
      "Error--------: 37.06709411989716\n",
      "Latent error above the threshold of 1.2\n",
      "Found 13162 lines. Skipped 11. Loaded 13151 points.\n",
      "Fitness score:  0.8727017543859649\n",
      "Frame : 223\n",
      "Error--------: 36.88849018331931\n",
      "Latent error above the threshold of 1.2\n",
      "Found 14869 lines. Skipped 11. Loaded 14858 points.\n"
     ]
    },
    {
     "name": "stderr",
     "output_type": "stream",
     "text": [
      " 22%|██▏       | 226/1014 [00:45<02:01,  6.50it/s]"
     ]
    },
    {
     "name": "stdout",
     "output_type": "stream",
     "text": [
      "Fitness score:  0.8701246481704865\n",
      "Frame : 224\n",
      "Error--------: 37.44193848413059\n",
      "Latent error above the threshold of 1.2\n",
      "Found 13998 lines. Skipped 11. Loaded 13987 points.\n",
      "Fitness score:  0.8782271302790629\n",
      "Frame : 225\n",
      "Error--------: 37.30826350658513\n",
      "Latent error above the threshold of 1.2\n",
      "Found 12581 lines. Skipped 11. Loaded 12570 points.\n"
     ]
    },
    {
     "name": "stderr",
     "output_type": "stream",
     "text": [
      " 22%|██▏       | 228/1014 [00:46<01:50,  7.11it/s]"
     ]
    },
    {
     "name": "stdout",
     "output_type": "stream",
     "text": [
      "Fitness score:  1.0\n",
      "Frame : 226\n",
      "Error--------: 37.43568552914904\n",
      "Latent error above the threshold of 1.2\n",
      "Found 13560 lines. Skipped 11. Loaded 13549 points.\n",
      "Fitness score:  0.8745570517363572\n",
      "Frame : 227\n",
      "Error--------: 37.914321715760664\n",
      "Latent error above the threshold of 1.2\n"
     ]
    },
    {
     "name": "stderr",
     "output_type": "stream",
     "text": [
      " 23%|██▎       | 229/1014 [00:46<02:10,  6.00it/s]"
     ]
    },
    {
     "name": "stdout",
     "output_type": "stream",
     "text": [
      "Found 15478 lines. Skipped 11. Loaded 15467 points.\n",
      "Fitness score:  0.8713465553235908\n",
      "Frame : 228\n",
      "Error--------: 37.838606407448374\n",
      "Latent error above the threshold of 1.2\n",
      "Found 12907 lines. Skipped 11. Loaded 12896 points.\n"
     ]
    },
    {
     "name": "stderr",
     "output_type": "stream",
     "text": [
      " 23%|██▎       | 231/1014 [00:46<01:55,  6.78it/s]"
     ]
    },
    {
     "name": "stdout",
     "output_type": "stream",
     "text": [
      "Fitness score:  0.8756886565899138\n",
      "Frame : 229\n",
      "Error--------: 38.17068444841049\n",
      "Latent error above the threshold of 1.2\n",
      "Found 14982 lines. Skipped 11. Loaded 14971 points.\n",
      "Fitness score:  0.8706957132817991\n",
      "Frame : 230\n",
      "Error--------: 38.26577238314475\n",
      "Latent error above the threshold of 1.2\n"
     ]
    },
    {
     "name": "stderr",
     "output_type": "stream",
     "text": [
      " 23%|██▎       | 232/1014 [00:46<02:02,  6.40it/s]"
     ]
    },
    {
     "name": "stdout",
     "output_type": "stream",
     "text": [
      "Found 16236 lines. Skipped 11. Loaded 16225 points.\n",
      "Fitness score:  0.8670233091325946\n",
      "Frame : 231\n",
      "Error--------: 38.48316610798567\n",
      "Latent error above the threshold of 1.2\n",
      "Found 14107 lines. Skipped 11. Loaded 14096 points.\n"
     ]
    },
    {
     "name": "stderr",
     "output_type": "stream",
     "text": [
      " 23%|██▎       | 234/1014 [00:47<01:52,  6.92it/s]"
     ]
    },
    {
     "name": "stdout",
     "output_type": "stream",
     "text": [
      "Fitness score:  0.8671338279747183\n",
      "Frame : 232\n",
      "Error--------: 38.28667674129653\n",
      "Latent error above the threshold of 1.2\n",
      "Found 15312 lines. Skipped 11. Loaded 15301 points.\n",
      "Fitness score:  0.8653898768809849\n",
      "Frame : 233\n",
      "Error--------: 38.79095017060992\n",
      "Latent error above the threshold of 1.2\n",
      "Found 15173 lines. Skipped 11. Loaded 15162 points.\n"
     ]
    },
    {
     "name": "stderr",
     "output_type": "stream",
     "text": [
      " 23%|██▎       | 235/1014 [00:47<01:49,  7.13it/s]"
     ]
    },
    {
     "name": "stdout",
     "output_type": "stream",
     "text": [
      "Fitness score:  0.8718349928876244\n",
      "Frame : 234\n",
      "Error--------: 38.62495825033967\n",
      "Latent error above the threshold of 1.2\n",
      "Found 13357 lines. Skipped 11. Loaded 13346 points.\n"
     ]
    },
    {
     "name": "stderr",
     "output_type": "stream",
     "text": [
      " 23%|██▎       | 237/1014 [00:47<02:07,  6.10it/s]"
     ]
    },
    {
     "name": "stdout",
     "output_type": "stream",
     "text": [
      "Fitness score:  0.8750359092214881\n",
      "Frame : 235\n",
      "Error--------: 39.069235352078685\n",
      "Latent error above the threshold of 1.2\n",
      "Found 19295 lines. Skipped 11. Loaded 19284 points.\n",
      "Fitness score:  0.8688991323210412\n",
      "Frame : 236\n",
      "Error--------: 39.00694535869278\n",
      "Latent error above the threshold of 1.2\n",
      "Found 12735 lines. Skipped 11. Loaded 12724 points.\n"
     ]
    },
    {
     "name": "stderr",
     "output_type": "stream",
     "text": [
      " 24%|██▎       | 239/1014 [00:47<01:52,  6.87it/s]"
     ]
    },
    {
     "name": "stdout",
     "output_type": "stream",
     "text": [
      "Fitness score:  1.0\n",
      "Frame : 237\n",
      "Error--------: 41.63347075733642\n",
      "Latent error above the threshold of 1.2\n",
      "Found 13538 lines. Skipped 11. Loaded 13527 points.\n",
      "Fitness score:  1.0\n",
      "Frame : 238\n",
      "Error--------: 39.61279162007944\n",
      "Latent error above the threshold of 1.2\n",
      "Found 15133 lines. Skipped 11. Loaded 15122 points.\n"
     ]
    },
    {
     "name": "stderr",
     "output_type": "stream",
     "text": [
      " 24%|██▍       | 241/1014 [00:48<01:46,  7.26it/s]"
     ]
    },
    {
     "name": "stdout",
     "output_type": "stream",
     "text": [
      "Fitness score:  0.8644933228593873\n",
      "Frame : 239\n",
      "Error--------: 39.95352870780255\n",
      "Latent error above the threshold of 1.2\n",
      "Found 13858 lines. Skipped 11. Loaded 13847 points.\n",
      "Fitness score:  0.8748182611224193\n",
      "Frame : 240\n",
      "Error--------: 39.98935759913743\n",
      "Latent error above the threshold of 1.2\n",
      "Found 17674 lines. Skipped 11. Loaded 17663 points.\n"
     ]
    },
    {
     "name": "stderr",
     "output_type": "stream",
     "text": [
      " 24%|██▍       | 242/1014 [00:48<01:44,  7.40it/s]"
     ]
    },
    {
     "name": "stdout",
     "output_type": "stream",
     "text": [
      "Fitness score:  0.8743397275507367\n",
      "Frame : 241\n",
      "Error--------: 40.363306669426485\n",
      "Latent error above the threshold of 1.2\n",
      "Found 18060 lines. Skipped 11. Loaded 18049 points.\n"
     ]
    },
    {
     "name": "stderr",
     "output_type": "stream",
     "text": [
      " 24%|██▍       | 244/1014 [00:48<02:03,  6.22it/s]"
     ]
    },
    {
     "name": "stdout",
     "output_type": "stream",
     "text": [
      "Fitness score:  0.8561352304511736\n",
      "Frame : 242\n",
      "Error--------: 40.17345285120597\n",
      "Latent error above the threshold of 1.2\n",
      "Found 15413 lines. Skipped 11. Loaded 15402 points.\n",
      "Fitness score:  0.8586868413942178\n",
      "Frame : 243\n",
      "Error--------: 40.81694378920794\n",
      "Latent error above the threshold of 1.2\n",
      "Found 14904 lines. Skipped 11. Loaded 14893 points.\n"
     ]
    },
    {
     "name": "stderr",
     "output_type": "stream",
     "text": [
      " 24%|██▍       | 246/1014 [00:48<01:58,  6.46it/s]"
     ]
    },
    {
     "name": "stdout",
     "output_type": "stream",
     "text": [
      "Fitness score:  0.836637047163363\n",
      "Frame : 244\n",
      "Error--------: 41.29528326123266\n",
      "Latent error above the threshold of 1.2\n",
      "Found 16029 lines. Skipped 11. Loaded 16018 points.\n",
      "Fitness score:  0.7998649561107359\n",
      "Frame : 245\n",
      "Error--------: 42.786679541514324\n",
      "Latent error above the threshold of 1.2\n",
      "Found 12347 lines. Skipped 11. Loaded 12336 points.\n"
     ]
    },
    {
     "name": "stderr",
     "output_type": "stream",
     "text": [
      " 24%|██▍       | 248/1014 [00:49<01:45,  7.28it/s]"
     ]
    },
    {
     "name": "stdout",
     "output_type": "stream",
     "text": [
      "Fitness score:  0.8195974731893639\n",
      "Frame : 246\n",
      "Error--------: 42.90321980344362\n",
      "Latent error above the threshold of 1.2\n",
      "Found 11565 lines. Skipped 11. Loaded 11554 points.\n",
      "Fitness score:  0.8300210779885576\n",
      "Frame : 247\n",
      "Error--------: 43.25514245464885\n",
      "Latent error above the threshold of 1.2\n",
      "Found 12865 lines. Skipped 11. Loaded 12854 points.\n"
     ]
    },
    {
     "name": "stderr",
     "output_type": "stream",
     "text": [
      " 25%|██▍       | 250/1014 [00:49<02:01,  6.28it/s]"
     ]
    },
    {
     "name": "stdout",
     "output_type": "stream",
     "text": [
      "Fitness score:  0.8196470751702098\n",
      "Frame : 248\n",
      "Error--------: 43.420927010489294\n",
      "Latent error above the threshold of 1.2\n",
      "Found 11501 lines. Skipped 11. Loaded 11490 points.\n",
      "Fitness score:  1.0\n",
      "Frame : 249\n",
      "Error--------: 42.576392680824654\n",
      "Latent error above the threshold of 1.2\n"
     ]
    },
    {
     "name": "stderr",
     "output_type": "stream",
     "text": [
      " 25%|██▍       | 251/1014 [00:49<01:56,  6.57it/s]"
     ]
    },
    {
     "name": "stdout",
     "output_type": "stream",
     "text": [
      "Found 13294 lines. Skipped 11. Loaded 13283 points.\n",
      "Fitness score:  0.8195883409310678\n",
      "Frame : 250\n",
      "Error--------: 44.34061614502455\n",
      "Latent error above the threshold of 1.2\n",
      "Found 16581 lines. Skipped 11. Loaded 16570 points.\n"
     ]
    },
    {
     "name": "stderr",
     "output_type": "stream",
     "text": [
      " 25%|██▍       | 253/1014 [00:49<01:50,  6.88it/s]"
     ]
    },
    {
     "name": "stdout",
     "output_type": "stream",
     "text": [
      "Fitness score:  0.8391985615206782\n",
      "Frame : 251\n",
      "Error--------: 44.39312690946982\n",
      "Latent error above the threshold of 1.2\n",
      "Found 16581 lines. Skipped 11. Loaded 16570 points.\n",
      "Fitness score:  0.8443359876701773\n",
      "Frame : 252\n",
      "Error--------: 44.83292891540065\n",
      "Latent error above the threshold of 1.2\n",
      "Found 16357 lines. Skipped 11. Loaded 16346 points.\n"
     ]
    },
    {
     "name": "stderr",
     "output_type": "stream",
     "text": [
      " 25%|██▌       | 255/1014 [00:50<01:42,  7.38it/s]"
     ]
    },
    {
     "name": "stdout",
     "output_type": "stream",
     "text": [
      "Fitness score:  0.8585977281629456\n",
      "Frame : 253\n",
      "Error--------: 44.9691782200541\n",
      "Latent error above the threshold of 1.2\n",
      "Found 14201 lines. Skipped 11. Loaded 14190 points.\n",
      "Fitness score:  0.872257505773672\n",
      "Frame : 254\n",
      "Error--------: 45.18666638321351\n",
      "Latent error above the threshold of 1.2\n"
     ]
    },
    {
     "name": "stderr",
     "output_type": "stream",
     "text": [
      " 25%|██▌       | 257/1014 [00:50<01:51,  6.79it/s]"
     ]
    },
    {
     "name": "stdout",
     "output_type": "stream",
     "text": [
      "Found 14717 lines. Skipped 11. Loaded 14706 points.\n",
      "Fitness score:  0.8642366613840465\n",
      "Frame : 255\n",
      "Error--------: 45.37134656230354\n",
      "Latent error above the threshold of 1.2\n",
      "Found 12877 lines. Skipped 11. Loaded 12866 points.\n",
      "Fitness score:  0.8744433271081741\n",
      "Frame : 256\n",
      "Error--------: 45.66065382737466\n",
      "Latent error above the threshold of 1.2\n"
     ]
    },
    {
     "name": "stderr",
     "output_type": "stream",
     "text": [
      " 26%|██▌       | 259/1014 [00:50<01:40,  7.54it/s]"
     ]
    },
    {
     "name": "stdout",
     "output_type": "stream",
     "text": [
      "Found 12358 lines. Skipped 11. Loaded 12347 points.\n",
      "Fitness score:  0.8724387613618857\n",
      "Frame : 257\n",
      "Error--------: 45.646811825024734\n",
      "Latent error above the threshold of 1.2\n",
      "Found 16236 lines. Skipped 11. Loaded 16225 points.\n",
      "Fitness score:  0.863594711349653\n",
      "Frame : 258\n",
      "Error--------: 45.92023374640891\n",
      "Latent error above the threshold of 1.2\n"
     ]
    },
    {
     "name": "stderr",
     "output_type": "stream",
     "text": [
      " 26%|██▌       | 261/1014 [00:50<01:38,  7.62it/s]"
     ]
    },
    {
     "name": "stdout",
     "output_type": "stream",
     "text": [
      "Found 16165 lines. Skipped 11. Loaded 16154 points.\n",
      "Fitness score:  0.8657198192382182\n",
      "Frame : 259\n",
      "Error--------: 45.91501168250634\n",
      "Latent error above the threshold of 1.2\n",
      "Found 11686 lines. Skipped 11. Loaded 11675 points.\n",
      "Fitness score:  1.0\n",
      "Frame : 260\n",
      "Error--------: 44.83109179648569\n",
      "Latent error above the threshold of 1.2\n"
     ]
    },
    {
     "name": "stderr",
     "output_type": "stream",
     "text": [
      " 26%|██▌       | 262/1014 [00:51<01:39,  7.54it/s]"
     ]
    },
    {
     "name": "stdout",
     "output_type": "stream",
     "text": [
      "Found 18090 lines. Skipped 11. Loaded 18079 points.\n",
      "Fitness score:  0.8568667713491968\n",
      "Frame : 261\n",
      "Error--------: 47.24180868587292\n",
      "Latent error above the threshold of 1.2\n"
     ]
    },
    {
     "name": "stderr",
     "output_type": "stream",
     "text": [
      " 26%|██▌       | 264/1014 [00:51<01:48,  6.89it/s]"
     ]
    },
    {
     "name": "stdout",
     "output_type": "stream",
     "text": [
      "Found 14746 lines. Skipped 11. Loaded 14735 points.\n",
      "Fitness score:  0.8815109930647779\n",
      "Frame : 262\n",
      "Error--------: 45.89139839656467\n",
      "Latent error above the threshold of 1.2\n",
      "Found 17045 lines. Skipped 11. Loaded 17034 points.\n",
      "Fitness score:  0.8702567313713212\n",
      "Frame : 263\n",
      "Error--------: 47.22122071791102\n",
      "Latent error above the threshold of 1.2\n"
     ]
    },
    {
     "name": "stderr",
     "output_type": "stream",
     "text": [
      " 26%|██▌       | 265/1014 [00:51<01:46,  7.01it/s]"
     ]
    },
    {
     "name": "stdout",
     "output_type": "stream",
     "text": [
      "Found 16609 lines. Skipped 11. Loaded 16598 points.\n",
      "Fitness score:  0.8727249257777204\n",
      "Frame : 264\n",
      "Error--------: 46.517269829769624\n",
      "Latent error above the threshold of 1.2\n",
      "Found 15258 lines. Skipped 11. Loaded 15247 points.\n"
     ]
    },
    {
     "name": "stderr",
     "output_type": "stream",
     "text": [
      " 26%|██▋       | 267/1014 [00:51<01:39,  7.52it/s]"
     ]
    },
    {
     "name": "stdout",
     "output_type": "stream",
     "text": [
      "Fitness score:  0.8733578560168156\n",
      "Frame : 265\n",
      "Error--------: 47.43098277260685\n",
      "Latent error above the threshold of 1.2\n",
      "Found 13272 lines. Skipped 11. Loaded 13261 points.\n",
      "Fitness score:  0.8777456647398844\n",
      "Frame : 266\n",
      "Error--------: 46.998568489288886\n",
      "Latent error above the threshold of 1.2\n",
      "Found 11710 lines. Skipped 11. Loaded 11699 points.\n"
     ]
    },
    {
     "name": "stderr",
     "output_type": "stream",
     "text": [
      " 26%|██▋       | 268/1014 [00:51<01:39,  7.52it/s]"
     ]
    },
    {
     "name": "stdout",
     "output_type": "stream",
     "text": [
      "Fitness score:  0.8864985163204748\n",
      "Frame : 267\n",
      "Error--------: 47.73479233536371\n",
      "Latent error above the threshold of 1.2\n",
      "Found 15920 lines. Skipped 11. Loaded 15909 points.\n"
     ]
    },
    {
     "name": "stderr",
     "output_type": "stream",
     "text": [
      " 27%|██▋       | 270/1014 [00:52<01:55,  6.45it/s]"
     ]
    },
    {
     "name": "stdout",
     "output_type": "stream",
     "text": [
      "Fitness score:  0.88995782814971\n",
      "Frame : 268\n",
      "Error--------: 47.40878809101458\n",
      "Latent error above the threshold of 1.2\n",
      "Found 15920 lines. Skipped 11. Loaded 15909 points.\n",
      "Fitness score:  0.8900896151818661\n",
      "Frame : 269\n",
      "Error--------: 48.088699836092125\n",
      "Latent error above the threshold of 1.2\n",
      "Found 17867 lines. Skipped 11. Loaded 17856 points.\n"
     ]
    },
    {
     "name": "stderr",
     "output_type": "stream",
     "text": [
      " 27%|██▋       | 272/1014 [00:52<01:46,  6.97it/s]"
     ]
    },
    {
     "name": "stdout",
     "output_type": "stream",
     "text": [
      "Fitness score:  0.8844096542726679\n",
      "Frame : 270\n",
      "Error--------: 47.82547850629532\n",
      "Latent error above the threshold of 1.2\n",
      "Found 12960 lines. Skipped 11. Loaded 12949 points.\n",
      "Fitness score:  1.0\n",
      "Frame : 271\n",
      "Error--------: 47.55347034993466\n",
      "Latent error above the threshold of 1.2\n",
      "Found 14667 lines. Skipped 11. Loaded 14656 points.\n"
     ]
    },
    {
     "name": "stderr",
     "output_type": "stream",
     "text": [
      " 27%|██▋       | 274/1014 [00:52<01:59,  6.22it/s]"
     ]
    },
    {
     "name": "stdout",
     "output_type": "stream",
     "text": [
      "Fitness score:  0.8993983489576046\n",
      "Frame : 272\n",
      "Error--------: 48.746108339888934\n",
      "Latent error above the threshold of 1.2\n",
      "Found 15951 lines. Skipped 11. Loaded 15940 points.\n",
      "Fitness score:  0.8852326365475388\n",
      "Frame : 273\n",
      "Error--------: 48.28117932641231\n",
      "Latent error above the threshold of 1.2\n"
     ]
    },
    {
     "name": "stderr",
     "output_type": "stream",
     "text": [
      " 27%|██▋       | 275/1014 [00:53<02:14,  5.49it/s]"
     ]
    },
    {
     "name": "stdout",
     "output_type": "stream",
     "text": [
      "Found 17113 lines. Skipped 11. Loaded 17102 points.\n",
      "Fitness score:  0.8975631110462571\n",
      "Frame : 274\n",
      "Error--------: 48.826342279043736\n",
      "Latent error above the threshold of 1.2\n",
      "Found 15362 lines. Skipped 11. Loaded 15351 points.\n"
     ]
    },
    {
     "name": "stderr",
     "output_type": "stream",
     "text": [
      " 27%|██▋       | 277/1014 [00:53<01:56,  6.32it/s]"
     ]
    },
    {
     "name": "stdout",
     "output_type": "stream",
     "text": [
      "Fitness score:  0.8888735505245721\n",
      "Frame : 275\n",
      "Error--------: 48.841351378059336\n",
      "Latent error above the threshold of 1.2\n",
      "Found 11952 lines. Skipped 11. Loaded 11941 points.\n",
      "Fitness score:  0.8986830290332236\n",
      "Frame : 276\n",
      "Error--------: 49.30782248680722\n",
      "Latent error above the threshold of 1.2\n",
      "Found 16377 lines. Skipped 11. Loaded 16366 points.\n"
     ]
    },
    {
     "name": "stderr",
     "output_type": "stream",
     "text": [
      " 28%|██▊       | 279/1014 [00:53<01:47,  6.83it/s]"
     ]
    },
    {
     "name": "stdout",
     "output_type": "stream",
     "text": [
      "Fitness score:  0.8804564150192384\n",
      "Frame : 277\n",
      "Error--------: 49.407416375961645\n",
      "Latent error above the threshold of 1.2\n",
      "Found 13218 lines. Skipped 11. Loaded 13207 points.\n",
      "Fitness score:  0.8624926857811586\n",
      "Frame : 278\n",
      "Error--------: 50.049011703403394\n",
      "Latent error above the threshold of 1.2\n",
      "Found 13218 lines. Skipped 11. Loaded 13207 points.\n"
     ]
    },
    {
     "name": "stderr",
     "output_type": "stream",
     "text": [
      " 28%|██▊       | 281/1014 [00:54<01:41,  7.20it/s]"
     ]
    },
    {
     "name": "stdout",
     "output_type": "stream",
     "text": [
      "Fitness score:  0.8586892919836161\n",
      "Frame : 279\n",
      "Error--------: 50.16790516827331\n",
      "Latent error above the threshold of 1.2\n",
      "Found 15803 lines. Skipped 11. Loaded 15792 points.\n",
      "Fitness score:  0.8568785516056562\n",
      "Frame : 280\n",
      "Error--------: 50.581166053677954\n",
      "Latent error above the threshold of 1.2\n"
     ]
    },
    {
     "name": "stderr",
     "output_type": "stream",
     "text": [
      " 28%|██▊       | 282/1014 [00:54<02:00,  6.10it/s]"
     ]
    },
    {
     "name": "stdout",
     "output_type": "stream",
     "text": [
      "Found 13718 lines. Skipped 11. Loaded 13707 points.\n",
      "Fitness score:  0.8618421052631579\n",
      "Frame : 281\n",
      "Error--------: 50.5768087446806\n",
      "Latent error above the threshold of 1.2\n",
      "Found 11333 lines. Skipped 11. Loaded 11322 points.\n"
     ]
    },
    {
     "name": "stderr",
     "output_type": "stream",
     "text": [
      " 28%|██▊       | 284/1014 [00:54<01:46,  6.85it/s]"
     ]
    },
    {
     "name": "stdout",
     "output_type": "stream",
     "text": [
      "Fitness score:  1.0\n",
      "Frame : 282\n",
      "Error--------: 49.86868116897523\n",
      "Latent error above the threshold of 1.2\n",
      "Found 13241 lines. Skipped 11. Loaded 13230 points.\n",
      "Fitness score:  0.8895027624309392\n",
      "Frame : 283\n",
      "Error--------: 50.47390229937988\n",
      "Latent error above the threshold of 1.2\n"
     ]
    },
    {
     "name": "stderr",
     "output_type": "stream",
     "text": [
      " 28%|██▊       | 285/1014 [00:54<01:51,  6.54it/s]"
     ]
    },
    {
     "name": "stdout",
     "output_type": "stream",
     "text": [
      "Found 16019 lines. Skipped 11. Loaded 16008 points.\n",
      "Fitness score:  0.8537528329556059\n",
      "Frame : 284\n",
      "Error--------: 51.30473282534404\n",
      "Latent error above the threshold of 1.2\n",
      "Found 15285 lines. Skipped 11. Loaded 15274 points.\n"
     ]
    },
    {
     "name": "stderr",
     "output_type": "stream",
     "text": [
      " 28%|██▊       | 287/1014 [00:55<01:54,  6.32it/s]"
     ]
    },
    {
     "name": "stdout",
     "output_type": "stream",
     "text": [
      "Fitness score:  0.8636634844868735\n",
      "Frame : 285\n",
      "Error--------: 51.74225444202234\n",
      "Latent error above the threshold of 1.2\n",
      "Found 14540 lines. Skipped 11. Loaded 14529 points.\n",
      "Fitness score:  0.8601648778970291\n",
      "Frame : 286\n",
      "Error--------: 51.68847735142988\n",
      "Latent error above the threshold of 1.2\n",
      "Found 15694 lines. Skipped 11. Loaded 15683 points.\n"
     ]
    },
    {
     "name": "stderr",
     "output_type": "stream",
     "text": [
      " 28%|██▊       | 288/1014 [00:55<01:54,  6.34it/s]"
     ]
    },
    {
     "name": "stdout",
     "output_type": "stream",
     "text": [
      "Fitness score:  0.8503336510962822\n",
      "Frame : 287\n",
      "Error--------: 52.20784640454434\n",
      "Latent error above the threshold of 1.2\n",
      "Found 15542 lines. Skipped 11. Loaded 15531 points.\n",
      "Fitness score:  0.8569693288794412\n"
     ]
    },
    {
     "name": "stderr",
     "output_type": "stream",
     "text": [
      " 29%|██▊       | 290/1014 [00:55<01:52,  6.45it/s]"
     ]
    },
    {
     "name": "stdout",
     "output_type": "stream",
     "text": [
      "Frame : 288\n",
      "Error--------: 52.46027175088808\n",
      "Latent error above the threshold of 1.2\n",
      "Found 14396 lines. Skipped 11. Loaded 14385 points.\n",
      "Fitness score:  0.8777744894939331\n",
      "Frame : 289\n",
      "Error--------: 53.00323090254937\n",
      "Latent error above the threshold of 1.2\n",
      "Found 10255 lines. Skipped 11. Loaded 10244 points.\n"
     ]
    },
    {
     "name": "stderr",
     "output_type": "stream",
     "text": [
      " 29%|██▉       | 292/1014 [00:55<01:45,  6.84it/s]"
     ]
    },
    {
     "name": "stdout",
     "output_type": "stream",
     "text": [
      "Fitness score:  0.8959632425336397\n",
      "Frame : 290\n",
      "Error--------: 53.555986423360544\n",
      "Latent error above the threshold of 1.2\n",
      "Found 18262 lines. Skipped 11. Loaded 18251 points.\n",
      "Fitness score:  0.8956780923994039\n",
      "Frame : 291\n",
      "Error--------: 53.68769773041183\n",
      "Latent error above the threshold of 1.2\n",
      "Found 13933 lines. Skipped 11. Loaded 13922 points.\n"
     ]
    },
    {
     "name": "stderr",
     "output_type": "stream",
     "text": [
      " 29%|██▉       | 294/1014 [00:56<01:34,  7.62it/s]"
     ]
    },
    {
     "name": "stdout",
     "output_type": "stream",
     "text": [
      "Fitness score:  0.9023088023088023\n",
      "Frame : 292\n",
      "Error--------: 53.94894893505449\n",
      "Latent error above the threshold of 1.2\n",
      "Found 10302 lines. Skipped 11. Loaded 10291 points.\n",
      "Fitness score:  0.9998257536156124\n",
      "Frame : 293\n",
      "Error--------: 51.76069250515355\n",
      "Latent error above the threshold of 1.2\n"
     ]
    },
    {
     "name": "stderr",
     "output_type": "stream",
     "text": [
      " 29%|██▉       | 295/1014 [00:56<01:53,  6.36it/s]"
     ]
    },
    {
     "name": "stdout",
     "output_type": "stream",
     "text": [
      "Found 17123 lines. Skipped 11. Loaded 17112 points.\n",
      "Fitness score:  0.824552229049549\n",
      "Frame : 294\n",
      "Error--------: 53.31509727055368\n",
      "Latent error above the threshold of 1.2\n",
      "Found 16512 lines. Skipped 11. Loaded 16501 points.\n"
     ]
    },
    {
     "name": "stderr",
     "output_type": "stream",
     "text": [
      " 29%|██▉       | 297/1014 [00:56<01:42,  6.99it/s]"
     ]
    },
    {
     "name": "stdout",
     "output_type": "stream",
     "text": [
      "Fitness score:  0.8986029743127535\n",
      "Frame : 295\n",
      "Error--------: 55.11589580419792\n",
      "Latent error above the threshold of 1.2\n",
      "Found 11901 lines. Skipped 11. Loaded 11890 points.\n",
      "Fitness score:  0.9176396339539287\n",
      "Frame : 296\n",
      "Error--------: 54.591965005947166\n",
      "Latent error above the threshold of 1.2\n",
      "Found 11069 lines. Skipped 11. Loaded 11058 points.\n"
     ]
    },
    {
     "name": "stderr",
     "output_type": "stream",
     "text": [
      " 29%|██▉       | 299/1014 [00:56<01:34,  7.54it/s]"
     ]
    },
    {
     "name": "stdout",
     "output_type": "stream",
     "text": [
      "Fitness score:  0.8983428935627789\n",
      "Frame : 297\n",
      "Error--------: 55.00778078716721\n",
      "Latent error above the threshold of 1.2\n",
      "Found 14045 lines. Skipped 11. Loaded 14034 points.\n",
      "Fitness score:  0.9023904382470119\n",
      "Frame : 298\n",
      "Error--------: 55.14075969168942\n",
      "Latent error above the threshold of 1.2\n",
      "Found 15698 lines. Skipped 11. Loaded 15687 points.\n"
     ]
    },
    {
     "name": "stderr",
     "output_type": "stream",
     "text": [
      " 30%|██▉       | 301/1014 [00:57<01:34,  7.52it/s]"
     ]
    },
    {
     "name": "stdout",
     "output_type": "stream",
     "text": [
      "Fitness score:  0.9030483271375465\n",
      "Frame : 299\n",
      "Error--------: 55.25377378700994\n",
      "Latent error above the threshold of 1.2\n",
      "Found 14321 lines. Skipped 11. Loaded 14310 points.\n",
      "Fitness score:  0.9002853067047075\n",
      "Frame : 300\n",
      "Error--------: 55.5447395625133\n",
      "Latent error above the threshold of 1.2\n"
     ]
    },
    {
     "name": "stderr",
     "output_type": "stream",
     "text": [
      " 30%|██▉       | 302/1014 [00:57<01:53,  6.25it/s]"
     ]
    },
    {
     "name": "stdout",
     "output_type": "stream",
     "text": [
      "Found 13054 lines. Skipped 11. Loaded 13043 points.\n",
      "Fitness score:  0.9051439358187825\n",
      "Frame : 301\n",
      "Error--------: 55.60841062370677\n",
      "Latent error above the threshold of 1.2\n",
      "Found 15453 lines. Skipped 11. Loaded 15442 points.\n"
     ]
    },
    {
     "name": "stderr",
     "output_type": "stream",
     "text": [
      " 30%|██▉       | 304/1014 [00:57<01:50,  6.40it/s]"
     ]
    },
    {
     "name": "stdout",
     "output_type": "stream",
     "text": [
      "Fitness score:  0.8951977014639485\n",
      "Frame : 302\n",
      "Error--------: 55.93732017307108\n",
      "Latent error above the threshold of 1.2\n",
      "Found 14230 lines. Skipped 11. Loaded 14219 points.\n",
      "Fitness score:  0.8947368421052632\n",
      "Frame : 303\n",
      "Error--------: 56.04004393640153\n",
      "Latent error above the threshold of 1.2\n",
      "Found 10816 lines. Skipped 11. Loaded 10805 points.\n"
     ]
    },
    {
     "name": "stderr",
     "output_type": "stream",
     "text": [
      " 30%|███       | 306/1014 [00:57<01:36,  7.32it/s]"
     ]
    },
    {
     "name": "stdout",
     "output_type": "stream",
     "text": [
      "Fitness score:  1.0\n",
      "Frame : 304\n",
      "Error--------: 54.52595777963259\n",
      "Latent error above the threshold of 1.2\n",
      "Found 14393 lines. Skipped 11. Loaded 14382 points.\n",
      "Fitness score:  0.8992718446601942\n",
      "Frame : 305\n",
      "Error--------: 57.410321579151784\n",
      "Latent error above the threshold of 1.2\n",
      "Found 16069 lines. Skipped 11. Loaded 16058 points.\n"
     ]
    },
    {
     "name": "stderr",
     "output_type": "stream",
     "text": [
      " 30%|███       | 308/1014 [00:58<01:41,  6.94it/s]"
     ]
    },
    {
     "name": "stdout",
     "output_type": "stream",
     "text": [
      "Fitness score:  0.9012484219385608\n",
      "Frame : 306\n",
      "Error--------: 56.112535144199335\n",
      "Latent error above the threshold of 1.2\n",
      "Found 16867 lines. Skipped 11. Loaded 16856 points.\n",
      "Fitness score:  0.8953043953043953\n",
      "Frame : 307\n",
      "Error--------: 57.31317547325589\n",
      "Latent error above the threshold of 1.2\n"
     ]
    },
    {
     "name": "stderr",
     "output_type": "stream",
     "text": [
      " 30%|███       | 309/1014 [00:58<01:48,  6.50it/s]"
     ]
    },
    {
     "name": "stdout",
     "output_type": "stream",
     "text": [
      "Found 13188 lines. Skipped 11. Loaded 13177 points.\n",
      "Fitness score:  0.9056183115338883\n",
      "Frame : 308\n",
      "Error--------: 56.69336176926065\n",
      "Latent error above the threshold of 1.2\n"
     ]
    },
    {
     "name": "stderr",
     "output_type": "stream",
     "text": [
      " 31%|███       | 310/1014 [00:58<01:57,  6.01it/s]"
     ]
    },
    {
     "name": "stdout",
     "output_type": "stream",
     "text": [
      "Found 12688 lines. Skipped 11. Loaded 12677 points.\n",
      "Fitness score:  0.9142318567389256\n",
      "Frame : 309\n",
      "Error--------: 57.470023662828154\n",
      "Latent error above the threshold of 1.2\n",
      "Found 14817 lines. Skipped 11. Loaded 14806 points.\n"
     ]
    },
    {
     "name": "stderr",
     "output_type": "stream",
     "text": [
      " 31%|███       | 312/1014 [00:58<01:48,  6.48it/s]"
     ]
    },
    {
     "name": "stdout",
     "output_type": "stream",
     "text": [
      "Fitness score:  0.8967807131514364\n",
      "Frame : 310\n",
      "Error--------: 57.10728206841046\n",
      "Latent error above the threshold of 1.2\n",
      "Found 14421 lines. Skipped 11. Loaded 14410 points.\n",
      "Fitness score:  0.905225483178239\n",
      "Frame : 311\n",
      "Error--------: 57.60470319487898\n",
      "Latent error above the threshold of 1.2\n",
      "Found 14819 lines. Skipped 11. Loaded 14808 points.\n"
     ]
    },
    {
     "name": "stderr",
     "output_type": "stream",
     "text": [
      " 31%|███       | 314/1014 [00:58<01:36,  7.26it/s]"
     ]
    },
    {
     "name": "stdout",
     "output_type": "stream",
     "text": [
      "Fitness score:  0.9027110985597289\n",
      "Frame : 312\n",
      "Error--------: 57.660556956544895\n",
      "Latent error above the threshold of 1.2\n",
      "Found 14953 lines. Skipped 11. Loaded 14942 points.\n",
      "Fitness score:  0.8998061726554346\n",
      "Frame : 313\n",
      "Error--------: 57.957499792016016\n",
      "Latent error above the threshold of 1.2\n",
      "Found 18972 lines. Skipped 11. Loaded 18961 points.\n"
     ]
    },
    {
     "name": "stderr",
     "output_type": "stream",
     "text": [
      " 31%|███       | 315/1014 [00:59<01:38,  7.11it/s]"
     ]
    },
    {
     "name": "stdout",
     "output_type": "stream",
     "text": [
      "Fitness score:  0.8990002563445271\n",
      "Frame : 314\n",
      "Error--------: 58.04555440421008\n",
      "Latent error above the threshold of 1.2\n",
      "Found 14202 lines. Skipped 11. Loaded 14191 points.\n"
     ]
    },
    {
     "name": "stderr",
     "output_type": "stream",
     "text": [
      " 31%|███▏      | 317/1014 [00:59<01:47,  6.47it/s]"
     ]
    },
    {
     "name": "stdout",
     "output_type": "stream",
     "text": [
      "Fitness score:  0.9971303428485123\n",
      "Frame : 315\n",
      "Error--------: 56.99690189852493\n",
      "Latent error above the threshold of 1.2\n",
      "Found 14460 lines. Skipped 11. Loaded 14449 points.\n",
      "Fitness score:  0.9024425082131124\n",
      "Frame : 316\n",
      "Error--------: 58.89488123132254\n",
      "Latent error above the threshold of 1.2\n",
      "Found 17287 lines. Skipped 11. Loaded 17276 points.\n"
     ]
    },
    {
     "name": "stderr",
     "output_type": "stream",
     "text": [
      " 31%|███▏      | 319/1014 [00:59<01:37,  7.10it/s]"
     ]
    },
    {
     "name": "stdout",
     "output_type": "stream",
     "text": [
      "Fitness score:  0.9019946808510638\n",
      "Frame : 317\n",
      "Error--------: 58.2695881655847\n",
      "Latent error above the threshold of 1.2\n",
      "Found 14223 lines. Skipped 11. Loaded 14212 points.\n",
      "Fitness score:  0.9046410983435308\n",
      "Frame : 318\n",
      "Error--------: 58.814360841237516\n",
      "Latent error above the threshold of 1.2\n",
      "Found 14263 lines. Skipped 11. Loaded 14252 points.\n"
     ]
    },
    {
     "name": "stderr",
     "output_type": "stream",
     "text": [
      " 32%|███▏      | 321/1014 [01:00<01:35,  7.25it/s]"
     ]
    },
    {
     "name": "stdout",
     "output_type": "stream",
     "text": [
      "Fitness score:  0.9131933563146349\n",
      "Frame : 319\n",
      "Error--------: 58.80486824079293\n",
      "Latent error above the threshold of 1.2\n",
      "Found 14376 lines. Skipped 11. Loaded 14365 points.\n",
      "Fitness score:  0.901368215305969\n",
      "Frame : 320\n",
      "Error--------: 58.8289076991295\n",
      "Latent error above the threshold of 1.2\n"
     ]
    },
    {
     "name": "stderr",
     "output_type": "stream",
     "text": [
      " 32%|███▏      | 323/1014 [01:00<01:43,  6.65it/s]"
     ]
    },
    {
     "name": "stdout",
     "output_type": "stream",
     "text": [
      "Found 15166 lines. Skipped 11. Loaded 15155 points.\n",
      "Fitness score:  0.8946682121124312\n",
      "Frame : 321\n",
      "Error--------: 59.15487085997125\n",
      "Latent error above the threshold of 1.2\n",
      "Found 13395 lines. Skipped 11. Loaded 13384 points.\n",
      "Fitness score:  0.911014911014911\n",
      "Frame : 322\n",
      "Error--------: 59.00763461062471\n",
      "Latent error above the threshold of 1.2\n"
     ]
    },
    {
     "name": "stderr",
     "output_type": "stream",
     "text": [
      " 32%|███▏      | 325/1014 [01:00<01:33,  7.35it/s]"
     ]
    },
    {
     "name": "stdout",
     "output_type": "stream",
     "text": [
      "Found 12944 lines. Skipped 11. Loaded 12933 points.\n",
      "Fitness score:  0.9108768567321515\n",
      "Frame : 323\n",
      "Error--------: 59.156596846399395\n",
      "Latent error above the threshold of 1.2\n",
      "Found 13564 lines. Skipped 11. Loaded 13553 points.\n",
      "Fitness score:  0.9032924848663813\n",
      "Frame : 324\n",
      "Error--------: 59.25064001861825\n",
      "Latent error above the threshold of 1.2\n"
     ]
    },
    {
     "name": "stderr",
     "output_type": "stream",
     "text": [
      " 32%|███▏      | 326/1014 [01:00<01:33,  7.34it/s]"
     ]
    },
    {
     "name": "stdout",
     "output_type": "stream",
     "text": [
      "Found 18707 lines. Skipped 11. Loaded 18696 points.\n",
      "Fitness score:  0.8973314052846063\n",
      "Frame : 325\n",
      "Error--------: 59.37695313586032\n",
      "Latent error above the threshold of 1.2\n",
      "Found 14738 lines. Skipped 11. Loaded 14727 points.\n"
     ]
    },
    {
     "name": "stderr",
     "output_type": "stream",
     "text": [
      " 32%|███▏      | 328/1014 [01:01<01:38,  6.93it/s]"
     ]
    },
    {
     "name": "stdout",
     "output_type": "stream",
     "text": [
      "Fitness score:  1.0\n",
      "Frame : 326\n",
      "Error--------: 59.477955628334435\n",
      "Latent error above the threshold of 1.2\n",
      "Found 13701 lines. Skipped 11. Loaded 13690 points.\n",
      "Fitness score:  0.9023310711124225\n",
      "Frame : 327\n",
      "Error--------: 59.78313187047163\n",
      "Latent error above the threshold of 1.2\n"
     ]
    },
    {
     "name": "stderr",
     "output_type": "stream",
     "text": [
      " 33%|███▎      | 330/1014 [01:01<01:44,  6.53it/s]"
     ]
    },
    {
     "name": "stdout",
     "output_type": "stream",
     "text": [
      "Found 15820 lines. Skipped 11. Loaded 15809 points.\n",
      "Fitness score:  0.9076946472019465\n",
      "Frame : 328\n",
      "Error--------: 59.72680217583365\n",
      "Latent error above the threshold of 1.2\n",
      "Found 16913 lines. Skipped 11. Loaded 16902 points.\n",
      "Fitness score:  0.9117865085248332\n",
      "Frame : 329\n",
      "Error--------: 60.081934973049584\n",
      "Latent error above the threshold of 1.2\n"
     ]
    },
    {
     "name": "stderr",
     "output_type": "stream",
     "text": [
      " 33%|███▎      | 331/1014 [01:01<01:43,  6.59it/s]"
     ]
    },
    {
     "name": "stdout",
     "output_type": "stream",
     "text": [
      "Found 15390 lines. Skipped 11. Loaded 15379 points.\n",
      "Fitness score:  0.9066723573765827\n",
      "Frame : 330\n",
      "Error--------: 60.079312951434346\n",
      "Latent error above the threshold of 1.2\n",
      "Found 15411 lines. Skipped 11. Loaded 15400 points.\n"
     ]
    },
    {
     "name": "stderr",
     "output_type": "stream",
     "text": [
      " 33%|███▎      | 333/1014 [01:01<01:38,  6.88it/s]"
     ]
    },
    {
     "name": "stdout",
     "output_type": "stream",
     "text": [
      "Fitness score:  0.906860517946388\n",
      "Frame : 331\n",
      "Error--------: 60.31219353824251\n",
      "Latent error above the threshold of 1.2\n",
      "Found 16521 lines. Skipped 11. Loaded 16510 points.\n",
      "Fitness score:  0.9107662463627546\n",
      "Frame : 332\n",
      "Error--------: 60.30452974600877\n",
      "Latent error above the threshold of 1.2\n",
      "Found 13633 lines. Skipped 11. Loaded 13622 points.\n"
     ]
    },
    {
     "name": "stderr",
     "output_type": "stream",
     "text": [
      " 33%|███▎      | 334/1014 [01:02<01:52,  6.02it/s]"
     ]
    },
    {
     "name": "stdout",
     "output_type": "stream",
     "text": [
      "Fitness score:  0.9131140286177902\n",
      "Frame : 333\n",
      "Error--------: 60.58056825457648\n",
      "Latent error above the threshold of 1.2\n",
      "Found 13769 lines. Skipped 11. Loaded 13758 points.\n"
     ]
    },
    {
     "name": "stderr",
     "output_type": "stream",
     "text": [
      " 33%|███▎      | 336/1014 [01:02<01:53,  5.99it/s]"
     ]
    },
    {
     "name": "stdout",
     "output_type": "stream",
     "text": [
      "Fitness score:  0.9202463433410316\n",
      "Frame : 334\n",
      "Error--------: 60.812194133949525\n",
      "Latent error above the threshold of 1.2\n",
      "Found 14868 lines. Skipped 11. Loaded 14857 points.\n",
      "Fitness score:  0.921406860616587\n",
      "Frame : 335\n",
      "Error--------: 60.92044223320156\n",
      "Latent error above the threshold of 1.2\n",
      "Found 11874 lines. Skipped 11. Loaded 11863 points.\n"
     ]
    },
    {
     "name": "stderr",
     "output_type": "stream",
     "text": [
      " 33%|███▎      | 338/1014 [01:02<01:44,  6.45it/s]"
     ]
    },
    {
     "name": "stdout",
     "output_type": "stream",
     "text": [
      "Fitness score:  0.923440299723082\n",
      "Frame : 336\n",
      "Error--------: 61.25689407671147\n",
      "Latent error above the threshold of 1.2\n",
      "Found 13528 lines. Skipped 11. Loaded 13517 points.\n",
      "Fitness score:  1.0\n",
      "Frame : 337\n",
      "Error--------: 61.96914009416526\n",
      "Latent error above the threshold of 1.2\n",
      "Found 14574 lines. Skipped 11. Loaded 14563 points.\n"
     ]
    },
    {
     "name": "stderr",
     "output_type": "stream",
     "text": [
      " 34%|███▎      | 340/1014 [01:02<01:39,  6.79it/s]"
     ]
    },
    {
     "name": "stdout",
     "output_type": "stream",
     "text": [
      "Fitness score:  0.8461193360251233\n",
      "Frame : 338\n",
      "Error--------: 62.72994045260791\n",
      "Latent error above the threshold of 1.2\n",
      "Found 14868 lines. Skipped 11. Loaded 14857 points.\n",
      "Fitness score:  0.8326437437580254\n",
      "Frame : 339\n",
      "Error--------: 63.49105263808163\n",
      "Latent error above the threshold of 1.2\n",
      "Found 14868 lines. Skipped 11. Loaded 14857 points.\n"
     ]
    },
    {
     "name": "stderr",
     "output_type": "stream",
     "text": [
      " 34%|███▎      | 341/1014 [01:03<01:53,  5.95it/s]"
     ]
    },
    {
     "name": "stdout",
     "output_type": "stream",
     "text": [
      "Fitness score:  0.8330717648737338\n",
      "Frame : 340\n",
      "Error--------: 63.783106801952854\n",
      "Latent error above the threshold of 1.2\n",
      "Found 14978 lines. Skipped 11. Loaded 14967 points.\n"
     ]
    },
    {
     "name": "stderr",
     "output_type": "stream",
     "text": [
      " 34%|███▍      | 343/1014 [01:03<01:56,  5.74it/s]"
     ]
    },
    {
     "name": "stdout",
     "output_type": "stream",
     "text": [
      "Fitness score:  0.8259050915909418\n",
      "Frame : 341\n",
      "Error--------: 63.918610441969186\n",
      "Latent error above the threshold of 1.2\n",
      "Found 14806 lines. Skipped 11. Loaded 14795 points.\n",
      "Fitness score:  0.8335206518685024\n",
      "Frame : 342\n",
      "Error--------: 64.22638954661466\n",
      "Latent error above the threshold of 1.2\n",
      "Found 15238 lines. Skipped 11. Loaded 15227 points.\n"
     ]
    },
    {
     "name": "stderr",
     "output_type": "stream",
     "text": [
      " 34%|███▍      | 344/1014 [01:03<01:50,  6.04it/s]"
     ]
    },
    {
     "name": "stdout",
     "output_type": "stream",
     "text": [
      "Fitness score:  0.8260869565217391\n",
      "Frame : 343\n",
      "Error--------: 64.26357285931334\n",
      "Latent error above the threshold of 1.2\n",
      "Found 15462 lines. Skipped 11. Loaded 15451 points.\n"
     ]
    },
    {
     "name": "stderr",
     "output_type": "stream",
     "text": [
      " 34%|███▍      | 346/1014 [01:04<01:53,  5.89it/s]"
     ]
    },
    {
     "name": "stdout",
     "output_type": "stream",
     "text": [
      "Fitness score:  0.8304751194827101\n",
      "Frame : 344\n",
      "Error--------: 64.60579471761066\n",
      "Latent error above the threshold of 1.2\n",
      "Found 15021 lines. Skipped 11. Loaded 15010 points.\n",
      "Fitness score:  0.8413672217353199\n",
      "Frame : 345\n",
      "Error--------: 64.81600715706483\n",
      "Latent error above the threshold of 1.2\n",
      "Found 16800 lines. Skipped 11. Loaded 16789 points.\n"
     ]
    },
    {
     "name": "stderr",
     "output_type": "stream",
     "text": [
      " 34%|███▍      | 348/1014 [01:04<01:40,  6.65it/s]"
     ]
    },
    {
     "name": "stdout",
     "output_type": "stream",
     "text": [
      "Fitness score:  0.8418915378569557\n",
      "Frame : 346\n",
      "Error--------: 65.27815449779024\n",
      "Latent error above the threshold of 1.2\n",
      "Found 14682 lines. Skipped 11. Loaded 14671 points.\n",
      "Fitness score:  0.856920022688599\n",
      "Frame : 347\n",
      "Error--------: 65.34237285199865\n",
      "Latent error above the threshold of 1.2\n"
     ]
    },
    {
     "name": "stderr",
     "output_type": "stream",
     "text": [
      " 34%|███▍      | 349/1014 [01:04<02:19,  4.76it/s]"
     ]
    },
    {
     "name": "stdout",
     "output_type": "stream",
     "text": [
      "Found 12574 lines. Skipped 11. Loaded 12563 points.\n",
      "Fitness score:  0.9998472116119175\n",
      "Frame : 348\n",
      "Error--------: 64.92668786763501\n",
      "Latent error above the threshold of 1.2\n"
     ]
    },
    {
     "name": "stderr",
     "output_type": "stream",
     "text": [
      " 35%|███▍      | 350/1014 [01:04<02:04,  5.35it/s]"
     ]
    },
    {
     "name": "stdout",
     "output_type": "stream",
     "text": [
      "Found 12701 lines. Skipped 11. Loaded 12690 points.\n",
      "Fitness score:  0.9969869965112591\n",
      "Frame : 349\n",
      "Error--------: 63.895351165235546\n",
      "Latent error above the threshold of 1.2\n",
      "Found 14571 lines. Skipped 11. Loaded 14560 points.\n"
     ]
    },
    {
     "name": "stderr",
     "output_type": "stream",
     "text": [
      " 35%|███▍      | 352/1014 [01:05<01:48,  6.09it/s]"
     ]
    },
    {
     "name": "stdout",
     "output_type": "stream",
     "text": [
      "Fitness score:  0.8396594025111849\n",
      "Frame : 350\n",
      "Error--------: 65.32567947566639\n",
      "Latent error above the threshold of 1.2\n",
      "Found 14515 lines. Skipped 11. Loaded 14504 points.\n",
      "Fitness score:  0.8544553011521073\n",
      "Frame : 351\n",
      "Error--------: 66.30472527159675\n",
      "Latent error above the threshold of 1.2\n",
      "Found 15474 lines. Skipped 11. Loaded 15463 points.\n"
     ]
    },
    {
     "name": "stderr",
     "output_type": "stream",
     "text": [
      " 35%|███▍      | 354/1014 [01:05<01:45,  6.28it/s]"
     ]
    },
    {
     "name": "stdout",
     "output_type": "stream",
     "text": [
      "Fitness score:  0.8860394755798876\n",
      "Frame : 352\n",
      "Error--------: 66.81956635688849\n",
      "Latent error above the threshold of 1.2\n",
      "Found 16012 lines. Skipped 11. Loaded 16001 points.\n",
      "Fitness score:  0.8901840490797546\n",
      "Frame : 353\n",
      "Error--------: 66.72528805333494\n",
      "Latent error above the threshold of 1.2\n"
     ]
    },
    {
     "name": "stderr",
     "output_type": "stream",
     "text": [
      " 35%|███▌      | 355/1014 [01:05<02:00,  5.48it/s]"
     ]
    },
    {
     "name": "stdout",
     "output_type": "stream",
     "text": [
      "Found 16012 lines. Skipped 11. Loaded 16001 points.\n",
      "Fitness score:  0.8892638036809816\n",
      "Frame : 354\n",
      "Error--------: 67.14972551971627\n",
      "Latent error above the threshold of 1.2\n",
      "Found 16000 lines. Skipped 11. Loaded 15989 points.\n",
      "Fitness score:  0.8867898124825077\n",
      "Frame : 355\n",
      "Error--------: 67.04946250067904\n",
      "Latent error above the threshold of 1.2\n"
     ]
    },
    {
     "name": "stderr",
     "output_type": "stream",
     "text": [
      " 35%|███▌      | 357/1014 [01:05<01:48,  6.04it/s]"
     ]
    },
    {
     "name": "stdout",
     "output_type": "stream",
     "text": [
      "Found 16573 lines. Skipped 11. Loaded 16562 points.\n",
      "Fitness score:  0.8944639316760714\n",
      "Frame : 356\n",
      "Error--------: 67.38432903177986\n",
      "Latent error above the threshold of 1.2\n",
      "Found 13897 lines. Skipped 11. Loaded 13886 points.\n"
     ]
    },
    {
     "name": "stderr",
     "output_type": "stream",
     "text": [
      " 35%|███▌      | 359/1014 [01:06<01:36,  6.76it/s]"
     ]
    },
    {
     "name": "stdout",
     "output_type": "stream",
     "text": [
      "Fitness score:  0.8894854586129753\n",
      "Frame : 357\n",
      "Error--------: 67.33325353443804\n",
      "Latent error above the threshold of 1.2\n",
      "Found 15770 lines. Skipped 11. Loaded 15759 points.\n",
      "Fitness score:  0.8811376821848026\n",
      "Frame : 358\n",
      "Error--------: 67.60530646765243\n",
      "Latent error above the threshold of 1.2\n",
      "Found 16905 lines. Skipped 11. Loaded 16894 points.\n"
     ]
    },
    {
     "name": "stderr",
     "output_type": "stream",
     "text": [
      " 36%|███▌      | 360/1014 [01:06<01:34,  6.90it/s]"
     ]
    },
    {
     "name": "stdout",
     "output_type": "stream",
     "text": [
      "Fitness score:  0.8889215830513462\n",
      "Frame : 359\n",
      "Error--------: 67.58987445556579\n",
      "Latent error above the threshold of 1.2\n",
      "Found 15107 lines. Skipped 11. Loaded 15096 points.\n"
     ]
    },
    {
     "name": "stderr",
     "output_type": "stream",
     "text": [
      " 36%|███▌      | 362/1014 [01:06<01:43,  6.30it/s]"
     ]
    },
    {
     "name": "stdout",
     "output_type": "stream",
     "text": [
      "Fitness score:  0.9911849710982659\n",
      "Frame : 360\n",
      "Error--------: 66.09797014824728\n",
      "Latent error above the threshold of 1.2\n",
      "Found 15917 lines. Skipped 11. Loaded 15906 points.\n",
      "Fitness score:  0.8523526976680006\n",
      "Frame : 361\n",
      "Error--------: 68.13898001844052\n",
      "Latent error above the threshold of 1.2\n",
      "Found 14952 lines. Skipped 11. Loaded 14941 points.\n"
     ]
    },
    {
     "name": "stderr",
     "output_type": "stream",
     "text": [
      " 36%|███▌      | 364/1014 [01:06<01:34,  6.91it/s]"
     ]
    },
    {
     "name": "stdout",
     "output_type": "stream",
     "text": [
      "Fitness score:  0.8922827209679799\n",
      "Frame : 362\n",
      "Error--------: 68.01903441102299\n",
      "Latent error above the threshold of 1.2\n",
      "Found 15296 lines. Skipped 11. Loaded 15285 points.\n",
      "Fitness score:  0.8971947720752311\n",
      "Frame : 363\n",
      "Error--------: 68.46036070464731\n",
      "Latent error above the threshold of 1.2\n",
      "Found 12423 lines. Skipped 11. Loaded 12412 points.\n"
     ]
    },
    {
     "name": "stderr",
     "output_type": "stream",
     "text": [
      " 36%|███▌      | 366/1014 [01:07<01:30,  7.13it/s]"
     ]
    },
    {
     "name": "stdout",
     "output_type": "stream",
     "text": [
      "Fitness score:  0.8999837635979867\n",
      "Frame : 364\n",
      "Error--------: 68.32544940856855\n",
      "Latent error above the threshold of 1.2\n",
      "Found 18869 lines. Skipped 11. Loaded 18858 points.\n",
      "Fitness score:  0.8840324763193504\n",
      "Frame : 365\n",
      "Error--------: 68.76603431481364\n",
      "Latent error above the threshold of 1.2\n",
      "Found 14249 lines. Skipped 11. Loaded 14238 points.\n"
     ]
    },
    {
     "name": "stderr",
     "output_type": "stream",
     "text": [
      " 36%|███▌      | 367/1014 [01:07<01:26,  7.47it/s]"
     ]
    },
    {
     "name": "stdout",
     "output_type": "stream",
     "text": [
      "Fitness score:  0.8941447937698298\n",
      "Frame : 366\n",
      "Error--------: 68.34930475985574\n",
      "Latent error above the threshold of 1.2\n",
      "Found 16013 lines. Skipped 11. Loaded 16002 points.\n"
     ]
    },
    {
     "name": "stderr",
     "output_type": "stream",
     "text": [
      " 36%|███▋      | 369/1014 [01:07<01:37,  6.62it/s]"
     ]
    },
    {
     "name": "stdout",
     "output_type": "stream",
     "text": [
      "Fitness score:  0.8884410536922412\n",
      "Frame : 367\n",
      "Error--------: 68.99275852967948\n",
      "Latent error above the threshold of 1.2\n",
      "Found 14618 lines. Skipped 11. Loaded 14607 points.\n",
      "Fitness score:  0.8848228604752879\n",
      "Frame : 368\n",
      "Error--------: 68.7307866004051\n",
      "Latent error above the threshold of 1.2\n",
      "Found 17368 lines. Skipped 11. Loaded 17357 points.\n"
     ]
    },
    {
     "name": "stderr",
     "output_type": "stream",
     "text": [
      " 37%|███▋      | 371/1014 [01:08<01:37,  6.57it/s]"
     ]
    },
    {
     "name": "stdout",
     "output_type": "stream",
     "text": [
      "Fitness score:  0.8975409836065574\n",
      "Frame : 369\n",
      "Error--------: 69.18378977862317\n",
      "Latent error above the threshold of 1.2\n",
      "Found 12994 lines. Skipped 11. Loaded 12983 points.\n",
      "Fitness score:  0.8965404699738904\n",
      "Frame : 370\n",
      "Error--------: 69.09561478289766\n",
      "Latent error above the threshold of 1.2\n"
     ]
    },
    {
     "name": "stderr",
     "output_type": "stream",
     "text": [
      " 37%|███▋      | 372/1014 [01:08<01:39,  6.47it/s]"
     ]
    },
    {
     "name": "stdout",
     "output_type": "stream",
     "text": [
      "Found 11051 lines. Skipped 11. Loaded 11040 points.\n",
      "Fitness score:  0.9998320738874895\n",
      "Frame : 371\n",
      "Error--------: 68.01770561230556\n",
      "Latent error above the threshold of 1.2\n",
      "Found 14764 lines. Skipped 11. Loaded 14753 points.\n"
     ]
    },
    {
     "name": "stderr",
     "output_type": "stream",
     "text": [
      " 37%|███▋      | 373/1014 [01:08<01:39,  6.43it/s]"
     ]
    },
    {
     "name": "stdout",
     "output_type": "stream",
     "text": [
      "Fitness score:  0.8868921775898521\n",
      "Frame : 372\n",
      "Error--------: 69.76744564040496\n",
      "Latent error above the threshold of 1.2\n",
      "Found 13708 lines. Skipped 11. Loaded 13697 points.\n"
     ]
    },
    {
     "name": "stderr",
     "output_type": "stream",
     "text": [
      " 37%|███▋      | 375/1014 [01:08<01:44,  6.09it/s]"
     ]
    },
    {
     "name": "stdout",
     "output_type": "stream",
     "text": [
      "Fitness score:  0.8805572021339656\n",
      "Frame : 373\n",
      "Error--------: 69.21603228397375\n",
      "Latent error above the threshold of 1.2\n",
      "Found 13339 lines. Skipped 11. Loaded 13328 points.\n",
      "Fitness score:  0.8892023193856762\n",
      "Frame : 374\n",
      "Error--------: 69.55357729669373\n",
      "Latent error above the threshold of 1.2\n",
      "Found 16866 lines. Skipped 11. Loaded 16855 points.\n"
     ]
    },
    {
     "name": "stderr",
     "output_type": "stream",
     "text": [
      " 37%|███▋      | 377/1014 [01:08<01:35,  6.70it/s]"
     ]
    },
    {
     "name": "stdout",
     "output_type": "stream",
     "text": [
      "Fitness score:  0.8748627881448957\n",
      "Frame : 375\n",
      "Error--------: 69.56600464890741\n",
      "Latent error above the threshold of 1.2\n",
      "Found 15445 lines. Skipped 11. Loaded 15434 points.\n",
      "Fitness score:  0.8812086092715232\n",
      "Frame : 376\n",
      "Error--------: 69.70139524537724\n",
      "Latent error above the threshold of 1.2\n",
      "Found 12089 lines. Skipped 11. Loaded 12078 points.\n"
     ]
    },
    {
     "name": "stderr",
     "output_type": "stream",
     "text": [
      " 37%|███▋      | 379/1014 [01:09<01:44,  6.06it/s]"
     ]
    },
    {
     "name": "stdout",
     "output_type": "stream",
     "text": [
      "Fitness score:  0.8805901337021669\n",
      "Frame : 377\n",
      "Error--------: 69.72578310959331\n",
      "Latent error above the threshold of 1.2\n",
      "Found 16318 lines. Skipped 11. Loaded 16307 points.\n",
      "Fitness score:  0.8781401804302568\n",
      "Frame : 378\n",
      "Error--------: 69.9531221162504\n",
      "Latent error above the threshold of 1.2\n"
     ]
    },
    {
     "name": "stderr",
     "output_type": "stream",
     "text": [
      " 37%|███▋      | 380/1014 [01:09<01:56,  5.44it/s]"
     ]
    },
    {
     "name": "stdout",
     "output_type": "stream",
     "text": [
      "Found 17342 lines. Skipped 11. Loaded 17331 points.\n",
      "Fitness score:  0.872936400541272\n",
      "Frame : 379\n",
      "Error--------: 69.91667036204339\n",
      "Latent error above the threshold of 1.2\n",
      "Found 14663 lines. Skipped 11. Loaded 14652 points.\n"
     ]
    },
    {
     "name": "stderr",
     "output_type": "stream",
     "text": [
      " 38%|███▊      | 382/1014 [01:09<01:38,  6.39it/s]"
     ]
    },
    {
     "name": "stdout",
     "output_type": "stream",
     "text": [
      "Fitness score:  0.8803834808259587\n",
      "Frame : 380\n",
      "Error--------: 70.25079605005847\n",
      "Latent error above the threshold of 1.2\n",
      "Found 13658 lines. Skipped 11. Loaded 13647 points.\n",
      "Fitness score:  0.8749624737316122\n",
      "Frame : 381\n",
      "Error--------: 70.22371207561395\n",
      "Latent error above the threshold of 1.2\n",
      "Found 12905 lines. Skipped 11. Loaded 12894 points.\n"
     ]
    },
    {
     "name": "stderr",
     "output_type": "stream",
     "text": [
      " 38%|███▊      | 384/1014 [01:10<01:32,  6.80it/s]"
     ]
    },
    {
     "name": "stdout",
     "output_type": "stream",
     "text": [
      "Fitness score:  1.0\n",
      "Frame : 382\n",
      "Error--------: 70.25120995961791\n",
      "Latent error above the threshold of 1.2\n",
      "Found 17974 lines. Skipped 11. Loaded 17963 points.\n",
      "Fitness score:  0.873697373905794\n",
      "Frame : 383\n",
      "Error--------: 70.73563451874972\n",
      "Latent error above the threshold of 1.2\n"
     ]
    },
    {
     "name": "stderr",
     "output_type": "stream",
     "text": [
      " 38%|███▊      | 385/1014 [01:10<01:29,  7.00it/s]"
     ]
    },
    {
     "name": "stdout",
     "output_type": "stream",
     "text": [
      "Found 14222 lines. Skipped 11. Loaded 14211 points.\n",
      "Fitness score:  0.8625887809827512\n",
      "Frame : 384\n",
      "Error--------: 70.79854701333478\n",
      "Latent error above the threshold of 1.2\n",
      "Found 16600 lines. Skipped 11. Loaded 16589 points.\n"
     ]
    },
    {
     "name": "stderr",
     "output_type": "stream",
     "text": [
      " 38%|███▊      | 386/1014 [01:10<01:27,  7.20it/s]"
     ]
    },
    {
     "name": "stdout",
     "output_type": "stream",
     "text": [
      "Fitness score:  0.8595353862776878\n",
      "Frame : 385\n",
      "Error--------: 71.18695609443137\n",
      "Latent error above the threshold of 1.2\n",
      "Found 14447 lines. Skipped 11. Loaded 14436 points.\n"
     ]
    },
    {
     "name": "stderr",
     "output_type": "stream",
     "text": [
      " 38%|███▊      | 388/1014 [01:10<01:30,  6.95it/s]"
     ]
    },
    {
     "name": "stdout",
     "output_type": "stream",
     "text": [
      "Fitness score:  0.8541316633572629\n",
      "Frame : 386\n",
      "Error--------: 71.44161731802458\n",
      "Latent error above the threshold of 1.2\n",
      "Found 12492 lines. Skipped 11. Loaded 12481 points.\n",
      "Fitness score:  0.8284625158831004\n",
      "Frame : 387\n",
      "Error--------: 72.23044837864002\n",
      "Latent error above the threshold of 1.2\n",
      "Found 15536 lines. Skipped 11. Loaded 15525 points.\n"
     ]
    },
    {
     "name": "stderr",
     "output_type": "stream",
     "text": [
      " 38%|███▊      | 390/1014 [01:10<01:24,  7.35it/s]"
     ]
    },
    {
     "name": "stdout",
     "output_type": "stream",
     "text": [
      "Fitness score:  0.8014096185737977\n",
      "Frame : 388\n",
      "Error--------: 73.13050157372554\n",
      "Latent error above the threshold of 1.2\n",
      "Found 15158 lines. Skipped 11. Loaded 15147 points.\n",
      "Fitness score:  0.8469849613082202\n",
      "Frame : 389\n",
      "Error--------: 73.99545630285509\n",
      "Latent error above the threshold of 1.2\n",
      "Found 14559 lines. Skipped 11. Loaded 14548 points.\n"
     ]
    },
    {
     "name": "stderr",
     "output_type": "stream",
     "text": [
      " 39%|███▊      | 392/1014 [01:11<01:25,  7.27it/s]"
     ]
    },
    {
     "name": "stdout",
     "output_type": "stream",
     "text": [
      "Fitness score:  0.8628236303819196\n",
      "Frame : 390\n",
      "Error--------: 74.01551935756376\n",
      "Latent error above the threshold of 1.2\n",
      "Found 19843 lines. Skipped 11. Loaded 19832 points.\n",
      "Fitness score:  0.8458508069640361\n",
      "Frame : 391\n",
      "Error--------: 74.258441613118\n",
      "Latent error above the threshold of 1.2\n",
      "Found 15518 lines. Skipped 11. Loaded 15507 points.\n"
     ]
    },
    {
     "name": "stderr",
     "output_type": "stream",
     "text": [
      " 39%|███▉      | 393/1014 [01:11<01:21,  7.58it/s]"
     ]
    },
    {
     "name": "stdout",
     "output_type": "stream",
     "text": [
      "Fitness score:  0.8547232167446984\n",
      "Frame : 392\n",
      "Error--------: 74.2869090922607\n",
      "Latent error above the threshold of 1.2\n",
      "Found 12855 lines. Skipped 11. Loaded 12844 points.\n"
     ]
    },
    {
     "name": "stderr",
     "output_type": "stream",
     "text": [
      " 39%|███▉      | 395/1014 [01:11<01:32,  6.71it/s]"
     ]
    },
    {
     "name": "stdout",
     "output_type": "stream",
     "text": [
      "Fitness score:  0.9223255813953488\n",
      "Frame : 393\n",
      "Error--------: 73.0198949356008\n",
      "Latent error above the threshold of 1.2\n",
      "Found 14234 lines. Skipped 11. Loaded 14223 points.\n",
      "Fitness score:  0.8427442949093037\n",
      "Frame : 394\n",
      "Error--------: 75.02600505863396\n",
      "Latent error above the threshold of 1.2\n",
      "Found 11873 lines. Skipped 11. Loaded 11862 points.\n"
     ]
    },
    {
     "name": "stderr",
     "output_type": "stream",
     "text": [
      " 39%|███▉      | 397/1014 [01:11<01:26,  7.16it/s]"
     ]
    },
    {
     "name": "stdout",
     "output_type": "stream",
     "text": [
      "Fitness score:  0.86859375\n",
      "Frame : 395\n",
      "Error--------: 74.54807090635501\n",
      "Latent error above the threshold of 1.2\n",
      "Found 16614 lines. Skipped 11. Loaded 16603 points.\n",
      "Fitness score:  0.8557206954570948\n",
      "Frame : 396\n",
      "Error--------: 75.18931785628055\n",
      "Latent error above the threshold of 1.2\n",
      "Found 16893 lines. Skipped 11. Loaded 16882 points.\n"
     ]
    },
    {
     "name": "stderr",
     "output_type": "stream",
     "text": [
      " 39%|███▉      | 399/1014 [01:12<01:20,  7.60it/s]"
     ]
    },
    {
     "name": "stdout",
     "output_type": "stream",
     "text": [
      "Fitness score:  0.8461130273282038\n",
      "Frame : 397\n",
      "Error--------: 75.13140489127136\n",
      "Latent error above the threshold of 1.2\n",
      "Found 13826 lines. Skipped 11. Loaded 13815 points.\n",
      "Fitness score:  0.8567666422823702\n",
      "Frame : 398\n",
      "Error--------: 75.40073872955566\n",
      "Latent error above the threshold of 1.2\n"
     ]
    },
    {
     "name": "stderr",
     "output_type": "stream",
     "text": [
      " 39%|███▉      | 400/1014 [01:12<01:35,  6.43it/s]"
     ]
    },
    {
     "name": "stdout",
     "output_type": "stream",
     "text": [
      "Found 13695 lines. Skipped 11. Loaded 13684 points.\n",
      "Fitness score:  0.8741997439180538\n",
      "Frame : 399\n",
      "Error--------: 75.47881850356025\n",
      "Latent error above the threshold of 1.2\n",
      "Found 12809 lines. Skipped 11. Loaded 12798 points.\n"
     ]
    },
    {
     "name": "stderr",
     "output_type": "stream",
     "text": [
      " 40%|███▉      | 402/1014 [01:12<01:24,  7.24it/s]"
     ]
    },
    {
     "name": "stdout",
     "output_type": "stream",
     "text": [
      "Fitness score:  0.8598549158820805\n",
      "Frame : 400\n",
      "Error--------: 75.54550016948701\n",
      "Latent error above the threshold of 1.2\n",
      "Found 13543 lines. Skipped 11. Loaded 13532 points.\n",
      "Fitness score:  0.8552134766192274\n",
      "Frame : 401\n",
      "Error--------: 75.88335215004557\n",
      "Latent error above the threshold of 1.2\n",
      "Found 13005 lines. Skipped 11. Loaded 12994 points.\n"
     ]
    },
    {
     "name": "stderr",
     "output_type": "stream",
     "text": [
      " 40%|███▉      | 404/1014 [01:12<01:28,  6.86it/s]"
     ]
    },
    {
     "name": "stdout",
     "output_type": "stream",
     "text": [
      "Fitness score:  0.8593196860089272\n",
      "Frame : 402\n",
      "Error--------: 75.91243603334853\n",
      "Latent error above the threshold of 1.2\n",
      "Found 12494 lines. Skipped 11. Loaded 12483 points.\n",
      "Fitness score:  0.856364461934312\n",
      "Frame : 403\n",
      "Error--------: 76.05307686830204\n",
      "Latent error above the threshold of 1.2\n",
      "Found 13821 lines. Skipped 11. Loaded 13810 points.\n"
     ]
    },
    {
     "name": "stderr",
     "output_type": "stream",
     "text": [
      " 40%|████      | 406/1014 [01:13<01:24,  7.23it/s]"
     ]
    },
    {
     "name": "stdout",
     "output_type": "stream",
     "text": [
      "Fitness score:  0.9184884447220487\n",
      "Frame : 404\n",
      "Error--------: 75.42231849475408\n",
      "Latent error above the threshold of 1.2\n",
      "Found 16268 lines. Skipped 11. Loaded 16257 points.\n",
      "Fitness score:  0.8540186655523053\n",
      "Frame : 405\n",
      "Error--------: 76.92705814311832\n",
      "Latent error above the threshold of 1.2\n",
      "Found 13651 lines. Skipped 11. Loaded 13640 points.\n"
     ]
    },
    {
     "name": "stderr",
     "output_type": "stream",
     "text": [
      " 40%|████      | 407/1014 [01:13<01:19,  7.59it/s]"
     ]
    },
    {
     "name": "stdout",
     "output_type": "stream",
     "text": [
      "Fitness score:  0.8535323677209578\n",
      "Frame : 406\n",
      "Error--------: 76.19771763679728\n",
      "Latent error above the threshold of 1.2\n",
      "Found 16878 lines. Skipped 11. Loaded 16867 points.\n"
     ]
    },
    {
     "name": "stderr",
     "output_type": "stream",
     "text": [
      " 40%|████      | 409/1014 [01:13<01:29,  6.76it/s]"
     ]
    },
    {
     "name": "stdout",
     "output_type": "stream",
     "text": [
      "Fitness score:  0.8474457662701189\n",
      "Frame : 407\n",
      "Error--------: 76.99666277498868\n",
      "Latent error above the threshold of 1.2\n",
      "Found 14957 lines. Skipped 11. Loaded 14946 points.\n",
      "Fitness score:  0.8556173860730937\n",
      "Frame : 408\n",
      "Error--------: 76.61697645440476\n",
      "Latent error above the threshold of 1.2\n",
      "Found 15018 lines. Skipped 11. Loaded 15007 points.\n"
     ]
    },
    {
     "name": "stderr",
     "output_type": "stream",
     "text": [
      " 41%|████      | 411/1014 [01:14<01:32,  6.54it/s]"
     ]
    },
    {
     "name": "stdout",
     "output_type": "stream",
     "text": [
      "Fitness score:  0.8521980429385132\n",
      "Frame : 409\n",
      "Error--------: 77.1942815761182\n",
      "Latent error above the threshold of 1.2\n",
      "Found 18271 lines. Skipped 11. Loaded 18260 points.\n",
      "Fitness score:  0.8643887623386485\n",
      "Frame : 410\n",
      "Error--------: 76.8583311383634\n",
      "Latent error above the threshold of 1.2\n",
      "Found 14095 lines. Skipped 11. Loaded 14084 points.\n"
     ]
    },
    {
     "name": "stderr",
     "output_type": "stream",
     "text": [
      " 41%|████      | 413/1014 [01:14<01:28,  6.80it/s]"
     ]
    },
    {
     "name": "stdout",
     "output_type": "stream",
     "text": [
      "Fitness score:  0.8761290322580645\n",
      "Frame : 411\n",
      "Error--------: 77.28354098446147\n",
      "Latent error above the threshold of 1.2\n",
      "Found 15012 lines. Skipped 11. Loaded 15001 points.\n",
      "Fitness score:  0.8623620638234417\n",
      "Frame : 412\n",
      "Error--------: 77.14654127485692\n",
      "Latent error above the threshold of 1.2\n"
     ]
    },
    {
     "name": "stderr",
     "output_type": "stream",
     "text": [
      " 41%|████      | 414/1014 [01:14<01:39,  6.04it/s]"
     ]
    },
    {
     "name": "stdout",
     "output_type": "stream",
     "text": [
      "Found 14488 lines. Skipped 11. Loaded 14477 points.\n",
      "Fitness score:  0.8525276697577027\n",
      "Frame : 413\n",
      "Error--------: 77.45926056380756\n",
      "Latent error above the threshold of 1.2\n",
      "Found 13943 lines. Skipped 11. Loaded 13932 points.\n"
     ]
    },
    {
     "name": "stderr",
     "output_type": "stream",
     "text": [
      " 41%|████      | 416/1014 [01:14<01:27,  6.84it/s]"
     ]
    },
    {
     "name": "stdout",
     "output_type": "stream",
     "text": [
      "Fitness score:  0.8486184597295708\n",
      "Frame : 414\n",
      "Error--------: 77.61720788502154\n",
      "Latent error above the threshold of 1.2\n",
      "Found 14488 lines. Skipped 11. Loaded 14477 points.\n",
      "Fitness score:  0.9934239368697939\n",
      "Frame : 415\n",
      "Error--------: 76.2955463047667\n",
      "Latent error above the threshold of 1.2\n",
      "Found 16491 lines. Skipped 11. Loaded 16480 points.\n"
     ]
    },
    {
     "name": "stderr",
     "output_type": "stream",
     "text": [
      " 41%|████      | 418/1014 [01:15<01:21,  7.31it/s]"
     ]
    },
    {
     "name": "stdout",
     "output_type": "stream",
     "text": [
      "Fitness score:  0.8457350272232305\n",
      "Frame : 416\n",
      "Error--------: 78.29371610111629\n",
      "Latent error above the threshold of 1.2\n",
      "Found 13998 lines. Skipped 11. Loaded 13987 points.\n",
      "Fitness score:  0.8526609001612667\n",
      "Frame : 417\n",
      "Error--------: 77.9762941779873\n",
      "Latent error above the threshold of 1.2\n",
      "Found 13006 lines. Skipped 11. Loaded 12995 points.\n"
     ]
    },
    {
     "name": "stderr",
     "output_type": "stream",
     "text": [
      " 41%|████▏     | 419/1014 [01:15<01:22,  7.19it/s]"
     ]
    },
    {
     "name": "stdout",
     "output_type": "stream",
     "text": [
      "Fitness score:  0.856551724137931\n",
      "Frame : 418\n",
      "Error--------: 78.23748061685471\n",
      "Latent error above the threshold of 1.2\n",
      "Found 16145 lines. Skipped 11. Loaded 16134 points.\n"
     ]
    },
    {
     "name": "stderr",
     "output_type": "stream",
     "text": [
      " 42%|████▏     | 421/1014 [01:15<01:44,  5.69it/s]"
     ]
    },
    {
     "name": "stdout",
     "output_type": "stream",
     "text": [
      "Fitness score:  0.8452098730999861\n",
      "Frame : 419\n",
      "Error--------: 78.3278099392157\n",
      "Latent error above the threshold of 1.2\n",
      "Found 14115 lines. Skipped 11. Loaded 14104 points.\n",
      "Fitness score:  0.8569657523632419\n",
      "Frame : 420\n",
      "Error--------: 78.18963499740934\n",
      "Latent error above the threshold of 1.2\n",
      "Found 13782 lines. Skipped 11. Loaded 13771 points.\n"
     ]
    },
    {
     "name": "stderr",
     "output_type": "stream",
     "text": [
      " 42%|████▏     | 423/1014 [01:15<01:30,  6.53it/s]"
     ]
    },
    {
     "name": "stdout",
     "output_type": "stream",
     "text": [
      "Fitness score:  0.8578184591914569\n",
      "Frame : 421\n",
      "Error--------: 78.37687006966863\n",
      "Latent error above the threshold of 1.2\n",
      "Found 12860 lines. Skipped 11. Loaded 12849 points.\n",
      "Fitness score:  0.8570090540118639\n",
      "Frame : 422\n",
      "Error--------: 78.33578866148343\n",
      "Latent error above the threshold of 1.2\n",
      "Found 15489 lines. Skipped 11. Loaded 15478 points.\n"
     ]
    },
    {
     "name": "stderr",
     "output_type": "stream",
     "text": [
      " 42%|████▏     | 425/1014 [01:16<01:24,  7.01it/s]"
     ]
    },
    {
     "name": "stdout",
     "output_type": "stream",
     "text": [
      "Fitness score:  0.8682182985553772\n",
      "Frame : 423\n",
      "Error--------: 78.60095660922806\n",
      "Latent error above the threshold of 1.2\n",
      "Found 16039 lines. Skipped 11. Loaded 16028 points.\n",
      "Fitness score:  0.8538235294117648\n",
      "Frame : 424\n",
      "Error--------: 78.49300923091957\n",
      "Latent error above the threshold of 1.2\n",
      "Found 13240 lines. Skipped 11. Loaded 13229 points.\n"
     ]
    },
    {
     "name": "stderr",
     "output_type": "stream",
     "text": [
      " 42%|████▏     | 427/1014 [01:16<01:21,  7.23it/s]"
     ]
    },
    {
     "name": "stdout",
     "output_type": "stream",
     "text": [
      "Fitness score:  0.8575432041102289\n",
      "Frame : 425\n",
      "Error--------: 78.88762013240603\n",
      "Latent error above the threshold of 1.2\n",
      "Found 14785 lines. Skipped 11. Loaded 14774 points.\n",
      "Fitness score:  0.9998532002348797\n",
      "Frame : 426\n",
      "Error--------: 78.00772866505079\n",
      "Latent error above the threshold of 1.2\n"
     ]
    },
    {
     "name": "stderr",
     "output_type": "stream",
     "text": [
      " 42%|████▏     | 429/1014 [01:16<01:23,  7.01it/s]"
     ]
    },
    {
     "name": "stdout",
     "output_type": "stream",
     "text": [
      "Found 12466 lines. Skipped 11. Loaded 12455 points.\n",
      "Fitness score:  0.856307303193171\n",
      "Frame : 427\n",
      "Error--------: 79.5023996363129\n",
      "Latent error above the threshold of 1.2\n",
      "Found 12466 lines. Skipped 11. Loaded 12455 points.\n",
      "Fitness score:  0.8553588365475814\n",
      "Frame : 428\n",
      "Error--------: 78.89927190521247\n",
      "Latent error above the threshold of 1.2\n"
     ]
    },
    {
     "name": "stderr",
     "output_type": "stream",
     "text": [
      " 42%|████▏     | 430/1014 [01:16<01:19,  7.35it/s]"
     ]
    },
    {
     "name": "stdout",
     "output_type": "stream",
     "text": [
      "Found 14021 lines. Skipped 11. Loaded 14010 points.\n",
      "Fitness score:  0.8695509129791084\n",
      "Frame : 429\n",
      "Error--------: 79.43673566254445\n",
      "Latent error above the threshold of 1.2\n",
      "Found 15462 lines. Skipped 11. Loaded 15451 points.\n"
     ]
    },
    {
     "name": "stderr",
     "output_type": "stream",
     "text": [
      " 43%|████▎     | 432/1014 [01:17<01:21,  7.17it/s]"
     ]
    },
    {
     "name": "stdout",
     "output_type": "stream",
     "text": [
      "Fitness score:  0.8633684863523573\n",
      "Frame : 430\n",
      "Error--------: 79.17071908337378\n",
      "Latent error above the threshold of 1.2\n",
      "Found 15462 lines. Skipped 11. Loaded 15451 points.\n",
      "Fitness score:  0.8635235732009926\n",
      "Frame : 431\n",
      "Error--------: 79.68483881784674\n",
      "Latent error above the threshold of 1.2\n"
     ]
    },
    {
     "name": "stderr",
     "output_type": "stream",
     "text": [
      " 43%|████▎     | 433/1014 [01:17<01:21,  7.17it/s]"
     ]
    },
    {
     "name": "stdout",
     "output_type": "stream",
     "text": [
      "Found 16429 lines. Skipped 11. Loaded 16418 points.\n",
      "Fitness score:  0.8595656054745612\n",
      "Frame : 432\n",
      "Error--------: 79.51432613125075\n",
      "Latent error above the threshold of 1.2\n"
     ]
    },
    {
     "name": "stderr",
     "output_type": "stream",
     "text": [
      " 43%|████▎     | 434/1014 [01:17<01:35,  6.10it/s]"
     ]
    },
    {
     "name": "stdout",
     "output_type": "stream",
     "text": [
      "Found 15249 lines. Skipped 11. Loaded 15238 points.\n",
      "Fitness score:  0.8576134151819135\n",
      "Frame : 433\n",
      "Error--------: 79.90450962169395\n",
      "Latent error above the threshold of 1.2\n",
      "Found 12787 lines. Skipped 11. Loaded 12776 points.\n"
     ]
    },
    {
     "name": "stderr",
     "output_type": "stream",
     "text": [
      " 43%|████▎     | 436/1014 [01:17<01:24,  6.87it/s]"
     ]
    },
    {
     "name": "stdout",
     "output_type": "stream",
     "text": [
      "Fitness score:  0.8744588744588745\n",
      "Frame : 434\n",
      "Error--------: 79.94374003930122\n",
      "Latent error above the threshold of 1.2\n",
      "Found 14443 lines. Skipped 11. Loaded 14432 points.\n",
      "Fitness score:  0.8611324228939696\n",
      "Frame : 435\n",
      "Error--------: 80.06618180565476\n",
      "Latent error above the threshold of 1.2\n",
      "Found 12295 lines. Skipped 11. Loaded 12284 points.\n"
     ]
    },
    {
     "name": "stderr",
     "output_type": "stream",
     "text": [
      " 43%|████▎     | 438/1014 [01:18<01:17,  7.44it/s]"
     ]
    },
    {
     "name": "stdout",
     "output_type": "stream",
     "text": [
      "Fitness score:  0.8755940257976917\n",
      "Frame : 436\n",
      "Error--------: 80.32474461509148\n",
      "Latent error above the threshold of 1.2\n",
      "Found 16028 lines. Skipped 11. Loaded 16017 points.\n",
      "Fitness score:  0.9998523985239852\n",
      "Frame : 437\n",
      "Error--------: 80.54049089897995\n",
      "Latent error above the threshold of 1.2\n",
      "Found 15350 lines. Skipped 11. Loaded 15339 points.\n"
     ]
    },
    {
     "name": "stderr",
     "output_type": "stream",
     "text": [
      " 43%|████▎     | 440/1014 [01:18<01:17,  7.41it/s]"
     ]
    },
    {
     "name": "stdout",
     "output_type": "stream",
     "text": [
      "Fitness score:  0.8560454754954678\n",
      "Frame : 438\n",
      "Error--------: 80.80846617621687\n",
      "Latent error above the threshold of 1.2\n",
      "Found 17230 lines. Skipped 11. Loaded 17219 points.\n",
      "Fitness score:  0.8480939266560371\n",
      "Frame : 439\n",
      "Error--------: 80.52943958874943\n",
      "Latent error above the threshold of 1.2\n",
      "Found 13199 lines. Skipped 11. Loaded 13188 points.\n"
     ]
    },
    {
     "name": "stderr",
     "output_type": "stream",
     "text": [
      " 43%|████▎     | 441/1014 [01:18<01:20,  7.13it/s]"
     ]
    },
    {
     "name": "stdout",
     "output_type": "stream",
     "text": [
      "Fitness score:  0.8660583346912172\n",
      "Frame : 440\n",
      "Error--------: 81.38568637251294\n",
      "Latent error above the threshold of 1.2\n",
      "Found 14491 lines. Skipped 11. Loaded 14480 points.\n"
     ]
    },
    {
     "name": "stderr",
     "output_type": "stream",
     "text": [
      " 44%|████▎     | 443/1014 [01:18<01:32,  6.16it/s]"
     ]
    },
    {
     "name": "stdout",
     "output_type": "stream",
     "text": [
      "Fitness score:  0.781580122005654\n",
      "Frame : 441\n",
      "Error--------: 82.13427063467708\n",
      "Latent error above the threshold of 1.2\n",
      "Found 15689 lines. Skipped 11. Loaded 15678 points.\n",
      "Fitness score:  0.7782438883263417\n",
      "Frame : 442\n",
      "Error--------: 83.75455868533865\n",
      "Latent error above the threshold of 1.2\n",
      "Found 12811 lines. Skipped 11. Loaded 12800 points.\n"
     ]
    },
    {
     "name": "stderr",
     "output_type": "stream",
     "text": [
      " 44%|████▍     | 445/1014 [01:19<01:19,  7.12it/s]"
     ]
    },
    {
     "name": "stdout",
     "output_type": "stream",
     "text": [
      "Fitness score:  0.816496465043205\n",
      "Frame : 443\n",
      "Error--------: 83.64905065826618\n",
      "Latent error above the threshold of 1.2\n",
      "Found 14937 lines. Skipped 11. Loaded 14926 points.\n",
      "Fitness score:  0.7976920829681566\n",
      "Frame : 444\n",
      "Error--------: 83.75176912569326\n",
      "Latent error above the threshold of 1.2\n",
      "Found 18273 lines. Skipped 11. Loaded 18262 points.\n"
     ]
    },
    {
     "name": "stderr",
     "output_type": "stream",
     "text": [
      " 44%|████▍     | 447/1014 [01:19<01:18,  7.23it/s]"
     ]
    },
    {
     "name": "stdout",
     "output_type": "stream",
     "text": [
      "Fitness score:  0.8098265895953757\n",
      "Frame : 445\n",
      "Error--------: 84.1166220583023\n",
      "Latent error above the threshold of 1.2\n",
      "Found 15519 lines. Skipped 11. Loaded 15508 points.\n",
      "Fitness score:  0.8313329121920404\n",
      "Frame : 446\n",
      "Error--------: 84.41878802654465\n",
      "Latent error above the threshold of 1.2\n",
      "Found 15435 lines. Skipped 11. Loaded 15424 points.\n"
     ]
    },
    {
     "name": "stderr",
     "output_type": "stream",
     "text": [
      " 44%|████▍     | 448/1014 [01:19<01:20,  7.01it/s]"
     ]
    },
    {
     "name": "stdout",
     "output_type": "stream",
     "text": [
      "Fitness score:  0.8549273021001615\n",
      "Frame : 447\n",
      "Error--------: 84.88730588270309\n",
      "Latent error above the threshold of 1.2\n",
      "Found 14539 lines. Skipped 11. Loaded 14528 points.\n"
     ]
    },
    {
     "name": "stderr",
     "output_type": "stream",
     "text": [
      " 44%|████▍     | 450/1014 [01:19<01:32,  6.11it/s]"
     ]
    },
    {
     "name": "stdout",
     "output_type": "stream",
     "text": [
      "Fitness score:  0.8826658785281514\n",
      "Frame : 448\n",
      "Error--------: 83.67034340380403\n",
      "Latent error above the threshold of 1.2\n",
      "Found 15654 lines. Skipped 11. Loaded 15643 points.\n",
      "Fitness score:  0.8104350426072656\n",
      "Frame : 449\n",
      "Error--------: 85.1421238197836\n",
      "Latent error above the threshold of 1.2\n",
      "Found 12922 lines. Skipped 11. Loaded 12911 points.\n"
     ]
    },
    {
     "name": "stderr",
     "output_type": "stream",
     "text": [
      " 45%|████▍     | 452/1014 [01:20<01:18,  7.16it/s]"
     ]
    },
    {
     "name": "stdout",
     "output_type": "stream",
     "text": [
      "Fitness score:  0.8640883977900552\n",
      "Frame : 450\n",
      "Error--------: 85.4246721389926\n",
      "Latent error above the threshold of 1.2\n",
      "Found 14641 lines. Skipped 11. Loaded 14630 points.\n",
      "Fitness score:  0.8698514775685193\n",
      "Frame : 451\n",
      "Error--------: 85.53689487180502\n",
      "Latent error above the threshold of 1.2\n",
      "Found 13809 lines. Skipped 11. Loaded 13798 points.\n"
     ]
    },
    {
     "name": "stderr",
     "output_type": "stream",
     "text": [
      " 45%|████▍     | 454/1014 [01:20<01:12,  7.69it/s]"
     ]
    },
    {
     "name": "stdout",
     "output_type": "stream",
     "text": [
      "Fitness score:  0.8653125\n",
      "Frame : 452\n",
      "Error--------: 85.69821371475302\n",
      "Latent error above the threshold of 1.2\n",
      "Found 15062 lines. Skipped 11. Loaded 15051 points.\n",
      "Fitness score:  0.8864328047413103\n",
      "Frame : 453\n",
      "Error--------: 85.88681574643252\n",
      "Latent error above the threshold of 1.2\n"
     ]
    },
    {
     "name": "stderr",
     "output_type": "stream",
     "text": [
      " 45%|████▍     | 455/1014 [01:20<01:28,  6.34it/s]"
     ]
    },
    {
     "name": "stdout",
     "output_type": "stream",
     "text": [
      "Found 16521 lines. Skipped 11. Loaded 16510 points.\n",
      "Fitness score:  0.8725666367175802\n",
      "Frame : 454\n",
      "Error--------: 85.96771856712262\n",
      "Latent error above the threshold of 1.2\n",
      "Found 14140 lines. Skipped 11. Loaded 14129 points.\n"
     ]
    },
    {
     "name": "stderr",
     "output_type": "stream",
     "text": [
      " 45%|████▌     | 457/1014 [01:20<01:17,  7.17it/s]"
     ]
    },
    {
     "name": "stdout",
     "output_type": "stream",
     "text": [
      "Fitness score:  0.8792085527365565\n",
      "Frame : 455\n",
      "Error--------: 86.10496918496514\n",
      "Latent error above the threshold of 1.2\n",
      "Found 11814 lines. Skipped 11. Loaded 11803 points.\n",
      "Fitness score:  0.8858713762079307\n",
      "Frame : 456\n",
      "Error--------: 86.11906356708216\n",
      "Latent error above the threshold of 1.2\n",
      "Found 12694 lines. Skipped 11. Loaded 12683 points.\n"
     ]
    },
    {
     "name": "stderr",
     "output_type": "stream",
     "text": [
      " 45%|████▌     | 459/1014 [01:21<01:13,  7.57it/s]"
     ]
    },
    {
     "name": "stdout",
     "output_type": "stream",
     "text": [
      "Fitness score:  0.8834872792092043\n",
      "Frame : 457\n",
      "Error--------: 86.29463815592818\n",
      "Latent error above the threshold of 1.2\n",
      "Found 14453 lines. Skipped 11. Loaded 14442 points.\n",
      "Fitness score:  0.8811648661343354\n",
      "Frame : 458\n",
      "Error--------: 86.38307321226047\n",
      "Latent error above the threshold of 1.2\n",
      "Found 12565 lines. Skipped 11. Loaded 12554 points.\n"
     ]
    },
    {
     "name": "stderr",
     "output_type": "stream",
     "text": [
      " 45%|████▌     | 461/1014 [01:21<01:11,  7.74it/s]"
     ]
    },
    {
     "name": "stdout",
     "output_type": "stream",
     "text": [
      "Fitness score:  1.0\n",
      "Frame : 459\n",
      "Error--------: 85.95076677281546\n",
      "Latent error above the threshold of 1.2\n",
      "Found 11633 lines. Skipped 11. Loaded 11622 points.\n",
      "Fitness score:  0.9006126616746086\n",
      "Frame : 460\n",
      "Error--------: 86.2577653267433\n",
      "Latent error above the threshold of 1.2\n",
      "Found 14951 lines. Skipped 11. Loaded 14940 points.\n"
     ]
    },
    {
     "name": "stderr",
     "output_type": "stream",
     "text": [
      " 46%|████▌     | 462/1014 [01:21<01:10,  7.78it/s]"
     ]
    },
    {
     "name": "stdout",
     "output_type": "stream",
     "text": [
      "Fitness score:  0.8810745547841835\n",
      "Frame : 461\n",
      "Error--------: 87.23307385096034\n",
      "Latent error above the threshold of 1.2\n",
      "Found 16188 lines. Skipped 11. Loaded 16177 points.\n"
     ]
    },
    {
     "name": "stderr",
     "output_type": "stream",
     "text": [
      " 46%|████▌     | 464/1014 [01:21<01:22,  6.70it/s]"
     ]
    },
    {
     "name": "stdout",
     "output_type": "stream",
     "text": [
      "Fitness score:  0.8857658199308582\n",
      "Frame : 462\n",
      "Error--------: 86.65647829838862\n",
      "Latent error above the threshold of 1.2\n",
      "Found 14052 lines. Skipped 11. Loaded 14041 points.\n",
      "Fitness score:  0.8802114803625377\n",
      "Frame : 463\n",
      "Error--------: 87.43888735522862\n",
      "Latent error above the threshold of 1.2\n",
      "Found 15684 lines. Skipped 11. Loaded 15673 points.\n"
     ]
    },
    {
     "name": "stderr",
     "output_type": "stream",
     "text": [
      " 46%|████▌     | 466/1014 [01:22<01:19,  6.87it/s]"
     ]
    },
    {
     "name": "stdout",
     "output_type": "stream",
     "text": [
      "Fitness score:  0.8889416983523447\n",
      "Frame : 464\n",
      "Error--------: 87.10248684421597\n",
      "Latent error above the threshold of 1.2\n",
      "Found 13253 lines. Skipped 11. Loaded 13242 points.\n",
      "Fitness score:  0.9009628610729024\n",
      "Frame : 465\n",
      "Error--------: 87.47728424383054\n",
      "Latent error above the threshold of 1.2\n",
      "Found 15677 lines. Skipped 11. Loaded 15666 points.\n"
     ]
    },
    {
     "name": "stderr",
     "output_type": "stream",
     "text": [
      " 46%|████▌     | 468/1014 [01:22<01:14,  7.37it/s]"
     ]
    },
    {
     "name": "stdout",
     "output_type": "stream",
     "text": [
      "Fitness score:  0.8894768672512852\n",
      "Frame : 466\n",
      "Error--------: 87.48822172467945\n",
      "Latent error above the threshold of 1.2\n",
      "Found 11369 lines. Skipped 11. Loaded 11358 points.\n",
      "Fitness score:  0.9030334911450114\n",
      "Frame : 467\n",
      "Error--------: 87.62332480087181\n",
      "Latent error above the threshold of 1.2\n",
      "Found 17090 lines. Skipped 11. Loaded 17079 points.\n"
     ]
    },
    {
     "name": "stderr",
     "output_type": "stream",
     "text": [
      " 46%|████▋     | 469/1014 [01:22<01:14,  7.36it/s]"
     ]
    },
    {
     "name": "stdout",
     "output_type": "stream",
     "text": [
      "Fitness score:  0.8834364656785149\n",
      "Frame : 468\n",
      "Error--------: 87.72305685830419\n",
      "Latent error above the threshold of 1.2\n",
      "Found 12110 lines. Skipped 11. Loaded 12099 points.\n"
     ]
    },
    {
     "name": "stderr",
     "output_type": "stream",
     "text": [
      " 46%|████▋     | 471/1014 [01:22<01:20,  6.73it/s]"
     ]
    },
    {
     "name": "stdout",
     "output_type": "stream",
     "text": [
      "Fitness score:  0.897119341563786\n",
      "Frame : 469\n",
      "Error--------: 87.82930299626324\n",
      "Latent error above the threshold of 1.2\n",
      "Found 14397 lines. Skipped 11. Loaded 14386 points.\n",
      "Fitness score:  0.8955176264156963\n",
      "Frame : 470\n",
      "Error--------: 87.88373955916839\n",
      "Latent error above the threshold of 1.2\n",
      "Found 15717 lines. Skipped 11. Loaded 15706 points.\n"
     ]
    },
    {
     "name": "stderr",
     "output_type": "stream",
     "text": [
      " 47%|████▋     | 473/1014 [01:23<01:15,  7.14it/s]"
     ]
    },
    {
     "name": "stdout",
     "output_type": "stream",
     "text": [
      "Fitness score:  0.9040207522697795\n",
      "Frame : 471\n",
      "Error--------: 87.88626071185485\n",
      "Latent error above the threshold of 1.2\n",
      "Found 13591 lines. Skipped 11. Loaded 13580 points.\n",
      "Fitness score:  0.8979365079365079\n",
      "Frame : 472\n",
      "Error--------: 88.40186160547802\n",
      "Latent error above the threshold of 1.2\n",
      "Found 13862 lines. Skipped 11. Loaded 13851 points.\n"
     ]
    },
    {
     "name": "stderr",
     "output_type": "stream",
     "text": [
      " 47%|████▋     | 475/1014 [01:23<01:16,  7.03it/s]"
     ]
    },
    {
     "name": "stdout",
     "output_type": "stream",
     "text": [
      "Fitness score:  0.8865661967266245\n",
      "Frame : 473\n",
      "Error--------: 88.23232576235193\n",
      "Latent error above the threshold of 1.2\n",
      "Found 14480 lines. Skipped 11. Loaded 14469 points.\n",
      "Fitness score:  0.8910511798958014\n",
      "Frame : 474\n",
      "Error--------: 88.52543234979048\n",
      "Latent error above the threshold of 1.2\n",
      "Found 14599 lines. Skipped 11. Loaded 14588 points.\n"
     ]
    },
    {
     "name": "stderr",
     "output_type": "stream",
     "text": [
      " 47%|████▋     | 477/1014 [01:23<01:25,  6.29it/s]"
     ]
    },
    {
     "name": "stdout",
     "output_type": "stream",
     "text": [
      "Fitness score:  0.880627962085308\n",
      "Frame : 475\n",
      "Error--------: 88.23978843673297\n",
      "Latent error above the threshold of 1.2\n",
      "Found 10725 lines. Skipped 11. Loaded 10714 points.\n",
      "Fitness score:  0.8971863387011149\n",
      "Frame : 476\n",
      "Error--------: 88.80851588142136\n",
      "Latent error above the threshold of 1.2\n"
     ]
    },
    {
     "name": "stderr",
     "output_type": "stream",
     "text": [
      " 47%|████▋     | 479/1014 [01:24<01:17,  6.91it/s]"
     ]
    },
    {
     "name": "stdout",
     "output_type": "stream",
     "text": [
      "Found 14207 lines. Skipped 11. Loaded 14196 points.\n",
      "Fitness score:  0.8897093479968579\n",
      "Frame : 477\n",
      "Error--------: 88.59834179617705\n",
      "Latent error above the threshold of 1.2\n",
      "Found 12046 lines. Skipped 11. Loaded 12035 points.\n",
      "Fitness score:  0.898428053204353\n",
      "Frame : 478\n",
      "Error--------: 89.02249226018718\n",
      "Latent error above the threshold of 1.2\n"
     ]
    },
    {
     "name": "stderr",
     "output_type": "stream",
     "text": [
      " 47%|████▋     | 480/1014 [01:24<01:13,  7.31it/s]"
     ]
    },
    {
     "name": "stdout",
     "output_type": "stream",
     "text": [
      "Found 14475 lines. Skipped 11. Loaded 14464 points.\n",
      "Fitness score:  0.8876266502916794\n",
      "Frame : 479\n",
      "Error--------: 88.92470578701669\n",
      "Latent error above the threshold of 1.2\n",
      "Found 15763 lines. Skipped 11. Loaded 15752 points.\n",
      "Fitness score:  0.8733130169786678\n"
     ]
    },
    {
     "name": "stderr",
     "output_type": "stream",
     "text": [
      " 48%|████▊     | 482/1014 [01:24<01:10,  7.59it/s]"
     ]
    },
    {
     "name": "stdout",
     "output_type": "stream",
     "text": [
      "Frame : 480\n",
      "Error--------: 89.24776534349809\n",
      "Latent error above the threshold of 1.2\n",
      "Found 15008 lines. Skipped 11. Loaded 14997 points.\n",
      "Fitness score:  0.891016435295995\n",
      "Frame : 481\n",
      "Error--------: 89.31493313223488\n",
      "Latent error above the threshold of 1.2\n",
      "Found 14429 lines. Skipped 11. Loaded 14418 points.\n"
     ]
    },
    {
     "name": "stderr",
     "output_type": "stream",
     "text": [
      " 48%|████▊     | 483/1014 [01:24<01:11,  7.45it/s]"
     ]
    },
    {
     "name": "stdout",
     "output_type": "stream",
     "text": [
      "Fitness score:  0.9877098321342925\n",
      "Frame : 482\n",
      "Error--------: 88.93460351698741\n",
      "Latent error above the threshold of 1.2\n",
      "Found 14182 lines. Skipped 11. Loaded 14171 points.\n"
     ]
    },
    {
     "name": "stderr",
     "output_type": "stream",
     "text": [
      " 48%|████▊     | 485/1014 [01:24<01:24,  6.24it/s]"
     ]
    },
    {
     "name": "stdout",
     "output_type": "stream",
     "text": [
      "Fitness score:  0.878516228748068\n",
      "Frame : 483\n",
      "Error--------: 90.19126180609733\n",
      "Latent error above the threshold of 1.2\n",
      "Found 15372 lines. Skipped 11. Loaded 15361 points.\n",
      "Fitness score:  0.8825838103025347\n",
      "Frame : 484\n",
      "Error--------: 90.21242007237582\n",
      "Latent error above the threshold of 1.2\n",
      "Found 14991 lines. Skipped 11. Loaded 14980 points.\n"
     ]
    },
    {
     "name": "stderr",
     "output_type": "stream",
     "text": [
      " 48%|████▊     | 487/1014 [01:25<01:19,  6.63it/s]"
     ]
    },
    {
     "name": "stdout",
     "output_type": "stream",
     "text": [
      "Fitness score:  0.8674680691209616\n",
      "Frame : 485\n",
      "Error--------: 90.5627611561238\n",
      "Latent error above the threshold of 1.2\n",
      "Found 14354 lines. Skipped 11. Loaded 14343 points.\n",
      "Fitness score:  0.8493534818507555\n",
      "Frame : 486\n",
      "Error--------: 90.99481798475941\n",
      "Latent error above the threshold of 1.2\n",
      "Found 15559 lines. Skipped 11. Loaded 15548 points.\n"
     ]
    },
    {
     "name": "stderr",
     "output_type": "stream",
     "text": [
      " 48%|████▊     | 489/1014 [01:25<01:12,  7.20it/s]"
     ]
    },
    {
     "name": "stdout",
     "output_type": "stream",
     "text": [
      "Fitness score:  0.818942731277533\n",
      "Frame : 487\n",
      "Error--------: 91.5829785168695\n",
      "Latent error above the threshold of 1.2\n",
      "Found 13575 lines. Skipped 11. Loaded 13564 points.\n",
      "Fitness score:  0.8291705211224175\n",
      "Frame : 488\n",
      "Error--------: 92.32467150969835\n",
      "Latent error above the threshold of 1.2\n"
     ]
    },
    {
     "name": "stderr",
     "output_type": "stream",
     "text": [
      " 48%|████▊     | 490/1014 [01:25<01:27,  6.00it/s]"
     ]
    },
    {
     "name": "stdout",
     "output_type": "stream",
     "text": [
      "Found 14713 lines. Skipped 11. Loaded 14702 points.\n",
      "Fitness score:  0.8839696924676869\n",
      "Frame : 489\n",
      "Error--------: 93.58014331093075\n",
      "Latent error above the threshold of 1.2\n",
      "Found 12688 lines. Skipped 11. Loaded 12677 points.\n"
     ]
    },
    {
     "name": "stderr",
     "output_type": "stream",
     "text": [
      " 49%|████▊     | 492/1014 [01:25<01:18,  6.64it/s]"
     ]
    },
    {
     "name": "stdout",
     "output_type": "stream",
     "text": [
      "Fitness score:  0.9006772009029346\n",
      "Frame : 490\n",
      "Error--------: 93.25640214033015\n",
      "Latent error above the threshold of 1.2\n",
      "Found 13680 lines. Skipped 11. Loaded 13669 points.\n",
      "Fitness score:  0.9020003101256009\n",
      "Frame : 491\n",
      "Error--------: 93.85294210913936\n",
      "Latent error above the threshold of 1.2\n",
      "Found 12361 lines. Skipped 11. Loaded 12350 points.\n"
     ]
    },
    {
     "name": "stderr",
     "output_type": "stream",
     "text": [
      " 49%|████▊     | 494/1014 [01:26<01:09,  7.43it/s]"
     ]
    },
    {
     "name": "stdout",
     "output_type": "stream",
     "text": [
      "Fitness score:  0.9031886916502301\n",
      "Frame : 492\n",
      "Error--------: 93.54391080163123\n",
      "Latent error above the threshold of 1.2\n",
      "Found 12249 lines. Skipped 11. Loaded 12238 points.\n",
      "Fitness score:  0.8803971005357706\n",
      "Frame : 493\n",
      "Error--------: 92.2964942048348\n",
      "Latent error above the threshold of 1.2\n",
      "Found 15712 lines. Skipped 11. Loaded 15701 points.\n"
     ]
    },
    {
     "name": "stderr",
     "output_type": "stream",
     "text": [
      " 49%|████▉     | 496/1014 [01:26<01:05,  7.92it/s]"
     ]
    },
    {
     "name": "stdout",
     "output_type": "stream",
     "text": [
      "Fitness score:  0.8738694293701694\n",
      "Frame : 494\n",
      "Error--------: 93.91462612444317\n",
      "Latent error above the threshold of 1.2\n",
      "Found 11623 lines. Skipped 11. Loaded 11612 points.\n",
      "Fitness score:  0.913359229859821\n",
      "Frame : 495\n",
      "Error--------: 94.22910176354\n",
      "Latent error above the threshold of 1.2\n",
      "Found 13766 lines. Skipped 11. Loaded 13755 points.\n"
     ]
    },
    {
     "name": "stderr",
     "output_type": "stream",
     "text": [
      " 49%|████▉     | 497/1014 [01:26<01:08,  7.53it/s]"
     ]
    },
    {
     "name": "stdout",
     "output_type": "stream",
     "text": [
      "Fitness score:  0.9035589450270098\n",
      "Frame : 496\n",
      "Error--------: 94.12859235278538\n",
      "Latent error above the threshold of 1.2\n",
      "Found 13344 lines. Skipped 11. Loaded 13333 points.\n"
     ]
    },
    {
     "name": "stderr",
     "output_type": "stream",
     "text": [
      " 49%|████▉     | 499/1014 [01:26<01:18,  6.57it/s]"
     ]
    },
    {
     "name": "stdout",
     "output_type": "stream",
     "text": [
      "Fitness score:  0.902435064935065\n",
      "Frame : 497\n",
      "Error--------: 94.57117124760646\n",
      "Latent error above the threshold of 1.2\n",
      "Found 14247 lines. Skipped 11. Loaded 14236 points.\n",
      "Fitness score:  0.9006696428571429\n",
      "Frame : 498\n",
      "Error--------: 94.39550776525232\n",
      "Latent error above the threshold of 1.2\n",
      "Found 15210 lines. Skipped 11. Loaded 15199 points.\n"
     ]
    },
    {
     "name": "stderr",
     "output_type": "stream",
     "text": [
      " 49%|████▉     | 501/1014 [01:27<01:18,  6.55it/s]"
     ]
    },
    {
     "name": "stdout",
     "output_type": "stream",
     "text": [
      "Fitness score:  0.9028101226517622\n",
      "Frame : 499\n",
      "Error--------: 94.8446488809667\n",
      "Latent error above the threshold of 1.2\n",
      "Found 14765 lines. Skipped 11. Loaded 14754 points.\n",
      "Fitness score:  0.8978112984324165\n",
      "Frame : 500\n",
      "Error--------: 94.62152492072511\n",
      "Latent error above the threshold of 1.2\n"
     ]
    },
    {
     "name": "stderr",
     "output_type": "stream",
     "text": [
      " 50%|████▉     | 502/1014 [01:27<01:13,  7.00it/s]"
     ]
    },
    {
     "name": "stdout",
     "output_type": "stream",
     "text": [
      "Found 15372 lines. Skipped 11. Loaded 15361 points.\n",
      "Fitness score:  0.9015185686362953\n",
      "Frame : 501\n",
      "Error--------: 95.05711754225864\n",
      "Latent error above the threshold of 1.2\n",
      "Found 15152 lines. Skipped 11. Loaded 15141 points.\n"
     ]
    },
    {
     "name": "stderr",
     "output_type": "stream",
     "text": [
      " 50%|████▉     | 504/1014 [01:27<01:09,  7.30it/s]"
     ]
    },
    {
     "name": "stdout",
     "output_type": "stream",
     "text": [
      "Fitness score:  0.895899530942654\n",
      "Frame : 502\n",
      "Error--------: 94.8096580904459\n",
      "Latent error above the threshold of 1.2\n",
      "Found 14134 lines. Skipped 11. Loaded 14123 points.\n",
      "Fitness score:  0.8997377757211168\n",
      "Frame : 503\n",
      "Error--------: 95.18146340417391\n",
      "Latent error above the threshold of 1.2\n"
     ]
    },
    {
     "name": "stderr",
     "output_type": "stream",
     "text": [
      " 50%|████▉     | 505/1014 [01:27<01:22,  6.18it/s]"
     ]
    },
    {
     "name": "stdout",
     "output_type": "stream",
     "text": [
      "Found 12454 lines. Skipped 11. Loaded 12443 points.\n",
      "Fitness score:  0.8880105401844532\n",
      "Frame : 504\n",
      "Error--------: 94.53785090337877\n",
      "Latent error above the threshold of 1.2\n",
      "Found 13491 lines. Skipped 11. Loaded 13480 points.\n"
     ]
    },
    {
     "name": "stderr",
     "output_type": "stream",
     "text": [
      " 50%|█████     | 507/1014 [01:28<01:15,  6.73it/s]"
     ]
    },
    {
     "name": "stdout",
     "output_type": "stream",
     "text": [
      "Fitness score:  0.9107346473366998\n",
      "Frame : 505\n",
      "Error--------: 95.83443032327676\n",
      "Latent error above the threshold of 1.2\n",
      "Found 17252 lines. Skipped 11. Loaded 17241 points.\n",
      "Fitness score:  0.8903207732175374\n",
      "Frame : 506\n",
      "Error--------: 95.24490393253893\n",
      "Latent error above the threshold of 1.2\n",
      "Found 11313 lines. Skipped 11. Loaded 11302 points.\n"
     ]
    },
    {
     "name": "stderr",
     "output_type": "stream",
     "text": [
      " 50%|█████     | 509/1014 [01:28<01:07,  7.46it/s]"
     ]
    },
    {
     "name": "stdout",
     "output_type": "stream",
     "text": [
      "Fitness score:  0.9083114610673666\n",
      "Frame : 507\n",
      "Error--------: 95.86093536563693\n",
      "Latent error above the threshold of 1.2\n",
      "Found 14129 lines. Skipped 11. Loaded 14118 points.\n",
      "Fitness score:  0.8970290869497589\n",
      "Frame : 508\n",
      "Error--------: 95.7832444528622\n",
      "Latent error above the threshold of 1.2\n",
      "Found 14120 lines. Skipped 11. Loaded 14109 points.\n"
     ]
    },
    {
     "name": "stderr",
     "output_type": "stream",
     "text": [
      " 50%|█████     | 510/1014 [01:28<01:07,  7.51it/s]"
     ]
    },
    {
     "name": "stdout",
     "output_type": "stream",
     "text": [
      "Fitness score:  0.9051646028390214\n",
      "Frame : 509\n",
      "Error--------: 96.08220395124485\n",
      "Latent error above the threshold of 1.2\n",
      "Found 16603 lines. Skipped 11. Loaded 16592 points.\n"
     ]
    },
    {
     "name": "stderr",
     "output_type": "stream",
     "text": [
      " 50%|█████     | 512/1014 [01:28<01:15,  6.66it/s]"
     ]
    },
    {
     "name": "stdout",
     "output_type": "stream",
     "text": [
      "Fitness score:  0.9136334610472542\n",
      "Frame : 510\n",
      "Error--------: 96.13956756471102\n",
      "Latent error above the threshold of 1.2\n",
      "Found 13695 lines. Skipped 11. Loaded 13684 points.\n",
      "Fitness score:  0.9102416570771001\n",
      "Frame : 511\n",
      "Error--------: 96.21741925491541\n",
      "Latent error above the threshold of 1.2\n",
      "Found 15978 lines. Skipped 11. Loaded 15967 points.\n"
     ]
    },
    {
     "name": "stderr",
     "output_type": "stream",
     "text": [
      " 51%|█████     | 513/1014 [01:29<01:28,  5.63it/s]"
     ]
    },
    {
     "name": "stdout",
     "output_type": "stream",
     "text": [
      "Fitness score:  0.8952380952380953\n",
      "Frame : 512\n",
      "Error--------: 96.37546271048558\n",
      "Latent error above the threshold of 1.2\n",
      "Found 18605 lines. Skipped 11. Loaded 18594 points.\n"
     ]
    },
    {
     "name": "stderr",
     "output_type": "stream",
     "text": [
      " 51%|█████     | 515/1014 [01:29<01:36,  5.19it/s]"
     ]
    },
    {
     "name": "stdout",
     "output_type": "stream",
     "text": [
      "Fitness score:  0.8918249380677127\n",
      "Frame : 513\n",
      "Error--------: 96.4970871305263\n",
      "Latent error above the threshold of 1.2\n",
      "Found 13364 lines. Skipped 11. Loaded 13353 points.\n",
      "Fitness score:  0.9024124513618677\n",
      "Frame : 514\n",
      "Error--------: 96.6467942380488\n",
      "Latent error above the threshold of 1.2\n",
      "Found 15141 lines. Skipped 11. Loaded 15130 points.\n"
     ]
    },
    {
     "name": "stderr",
     "output_type": "stream",
     "text": [
      " 51%|█████     | 517/1014 [01:29<01:29,  5.53it/s]"
     ]
    },
    {
     "name": "stdout",
     "output_type": "stream",
     "text": [
      "Fitness score:  0.875415522474346\n",
      "Frame : 515\n",
      "Error--------: 97.01669329467956\n",
      "Latent error above the threshold of 1.2\n",
      "Found 15868 lines. Skipped 11. Loaded 15857 points.\n",
      "Fitness score:  0.8990462215700661\n",
      "Frame : 516\n",
      "Error--------: 96.88997006135226\n",
      "Latent error above the threshold of 1.2\n"
     ]
    },
    {
     "name": "stderr",
     "output_type": "stream",
     "text": [
      " 51%|█████     | 518/1014 [01:30<01:37,  5.09it/s]"
     ]
    },
    {
     "name": "stdout",
     "output_type": "stream",
     "text": [
      "Found 15453 lines. Skipped 11. Loaded 15442 points.\n",
      "Fitness score:  0.9027591349739\n",
      "Frame : 517\n",
      "Error--------: 96.95457045777351\n",
      "Latent error above the threshold of 1.2\n",
      "Found 13104 lines. Skipped 11. Loaded 13093 points.\n"
     ]
    },
    {
     "name": "stderr",
     "output_type": "stream",
     "text": [
      " 51%|█████▏    | 520/1014 [01:30<01:22,  5.98it/s]"
     ]
    },
    {
     "name": "stdout",
     "output_type": "stream",
     "text": [
      "Fitness score:  0.9081816691260862\n",
      "Frame : 518\n",
      "Error--------: 97.04482433547102\n",
      "Latent error above the threshold of 1.2\n",
      "Found 14349 lines. Skipped 11. Loaded 14338 points.\n",
      "Fitness score:  0.9055855284036813\n",
      "Frame : 519\n",
      "Error--------: 97.14880545092522\n",
      "Latent error above the threshold of 1.2\n"
     ]
    },
    {
     "name": "stderr",
     "output_type": "stream",
     "text": [
      " 51%|█████▏    | 521/1014 [01:30<01:18,  6.25it/s]"
     ]
    },
    {
     "name": "stdout",
     "output_type": "stream",
     "text": [
      "Found 15069 lines. Skipped 11. Loaded 15058 points.\n",
      "Fitness score:  0.8974058332111974\n",
      "Frame : 520\n",
      "Error--------: 97.32364611391276\n",
      "Latent error above the threshold of 1.2\n",
      "Found 13900 lines. Skipped 11. Loaded 13889 points.\n"
     ]
    },
    {
     "name": "stderr",
     "output_type": "stream",
     "text": [
      " 52%|█████▏    | 523/1014 [01:30<01:14,  6.55it/s]"
     ]
    },
    {
     "name": "stdout",
     "output_type": "stream",
     "text": [
      "Fitness score:  0.8952903520804756\n",
      "Frame : 521\n",
      "Error--------: 97.20998943207142\n",
      "Latent error above the threshold of 1.2\n",
      "Found 16659 lines. Skipped 11. Loaded 16648 points.\n",
      "Fitness score:  0.889849730649277\n",
      "Frame : 522\n",
      "Error--------: 97.4853746302774\n",
      "Latent error above the threshold of 1.2\n"
     ]
    },
    {
     "name": "stderr",
     "output_type": "stream",
     "text": [
      " 52%|█████▏    | 524/1014 [01:31<01:22,  5.92it/s]"
     ]
    },
    {
     "name": "stdout",
     "output_type": "stream",
     "text": [
      "Found 13201 lines. Skipped 11. Loaded 13190 points.\n",
      "Fitness score:  0.8976172175249808\n",
      "Frame : 523\n",
      "Error--------: 97.21950243781596\n",
      "Latent error above the threshold of 1.2\n",
      "Found 15697 lines. Skipped 11. Loaded 15686 points.\n"
     ]
    },
    {
     "name": "stderr",
     "output_type": "stream",
     "text": [
      " 52%|█████▏    | 526/1014 [01:31<01:16,  6.35it/s]"
     ]
    },
    {
     "name": "stdout",
     "output_type": "stream",
     "text": [
      "Fitness score:  0.8903390551851327\n",
      "Frame : 524\n",
      "Error--------: 97.72831177165064\n",
      "Latent error above the threshold of 1.2\n",
      "Found 14520 lines. Skipped 11. Loaded 14509 points.\n",
      "Fitness score:  0.8940078289671786\n",
      "Frame : 525\n",
      "Error--------: 97.5095674953186\n",
      "Latent error above the threshold of 1.2\n",
      "Found 12483 lines. Skipped 11. Loaded 12472 points.\n"
     ]
    },
    {
     "name": "stderr",
     "output_type": "stream",
     "text": [
      " 52%|█████▏    | 528/1014 [01:31<01:09,  7.00it/s]"
     ]
    },
    {
     "name": "stdout",
     "output_type": "stream",
     "text": [
      "Fitness score:  0.9259554140127388\n",
      "Frame : 526\n",
      "Error--------: 97.89902856342482\n",
      "Latent error above the threshold of 1.2\n",
      "Found 12784 lines. Skipped 11. Loaded 12773 points.\n",
      "Fitness score:  0.8935366958622772\n",
      "Frame : 527\n",
      "Error--------: 97.63159281364551\n",
      "Latent error above the threshold of 1.2\n"
     ]
    },
    {
     "name": "stderr",
     "output_type": "stream",
     "text": [
      " 52%|█████▏    | 530/1014 [01:31<01:04,  7.53it/s]"
     ]
    },
    {
     "name": "stdout",
     "output_type": "stream",
     "text": [
      "Found 12784 lines. Skipped 11. Loaded 12773 points.\n",
      "Fitness score:  0.8938387194201147\n",
      "Frame : 528\n",
      "Error--------: 98.20000860493474\n",
      "Latent error above the threshold of 1.2\n",
      "Found 12521 lines. Skipped 11. Loaded 12510 points.\n",
      "Fitness score:  0.9063992359121299\n",
      "Frame : 529\n",
      "Error--------: 97.97642951482052\n",
      "Latent error above the threshold of 1.2\n"
     ]
    },
    {
     "name": "stderr",
     "output_type": "stream",
     "text": [
      " 52%|█████▏    | 531/1014 [01:32<01:04,  7.53it/s]"
     ]
    },
    {
     "name": "stdout",
     "output_type": "stream",
     "text": [
      "Found 17309 lines. Skipped 11. Loaded 17298 points.\n",
      "Fitness score:  0.89171974522293\n",
      "Frame : 530\n",
      "Error--------: 98.37502411799869\n",
      "Latent error above the threshold of 1.2\n"
     ]
    },
    {
     "name": "stderr",
     "output_type": "stream",
     "text": [
      " 52%|█████▏    | 532/1014 [01:32<01:22,  5.82it/s]"
     ]
    },
    {
     "name": "stdout",
     "output_type": "stream",
     "text": [
      "Found 15645 lines. Skipped 11. Loaded 15634 points.\n",
      "Fitness score:  0.9001143183766791\n",
      "Frame : 531\n",
      "Error--------: 98.17443286116247\n",
      "Latent error above the threshold of 1.2\n",
      "Found 16157 lines. Skipped 11. Loaded 16146 points.\n"
     ]
    },
    {
     "name": "stderr",
     "output_type": "stream",
     "text": [
      " 53%|█████▎    | 534/1014 [01:32<01:14,  6.46it/s]"
     ]
    },
    {
     "name": "stdout",
     "output_type": "stream",
     "text": [
      "Fitness score:  0.8991048399332423\n",
      "Frame : 532\n",
      "Error--------: 98.75419311936373\n",
      "Latent error above the threshold of 1.2\n",
      "Found 13084 lines. Skipped 11. Loaded 13073 points.\n",
      "Fitness score:  0.9102524150825803\n",
      "Frame : 533\n",
      "Error--------: 98.62381464031758\n",
      "Latent error above the threshold of 1.2\n",
      "Found 12617 lines. Skipped 11. Loaded 12606 points.\n"
     ]
    },
    {
     "name": "stderr",
     "output_type": "stream",
     "text": [
      " 53%|█████▎    | 536/1014 [01:32<01:08,  7.00it/s]"
     ]
    },
    {
     "name": "stdout",
     "output_type": "stream",
     "text": [
      "Fitness score:  0.9002334630350195\n",
      "Frame : 534\n",
      "Error--------: 99.04642648724372\n",
      "Latent error above the threshold of 1.2\n",
      "Found 15589 lines. Skipped 11. Loaded 15578 points.\n",
      "Fitness score:  0.8661831626848692\n",
      "Frame : 535\n",
      "Error--------: 99.64007956223259\n",
      "Latent error above the threshold of 1.2\n",
      "Found 13804 lines. Skipped 11. Loaded 13793 points.\n"
     ]
    },
    {
     "name": "stderr",
     "output_type": "stream",
     "text": [
      " 53%|█████▎    | 538/1014 [01:33<01:03,  7.55it/s]"
     ]
    },
    {
     "name": "stdout",
     "output_type": "stream",
     "text": [
      "Fitness score:  0.8339932541428362\n",
      "Frame : 536\n",
      "Error--------: 100.16334991150869\n",
      "Latent error above the threshold of 1.2\n",
      "Found 12378 lines. Skipped 11. Loaded 12367 points.\n",
      "Fitness score:  0.887865833607366\n",
      "Frame : 537\n",
      "Error--------: 100.8370702337629\n",
      "Latent error above the threshold of 1.2\n"
     ]
    },
    {
     "name": "stderr",
     "output_type": "stream",
     "text": [
      " 53%|█████▎    | 539/1014 [01:33<01:19,  6.00it/s]"
     ]
    },
    {
     "name": "stdout",
     "output_type": "stream",
     "text": [
      "Found 12836 lines. Skipped 11. Loaded 12825 points.\n",
      "Fitness score:  0.8331284572833436\n",
      "Frame : 538\n",
      "Error--------: 101.1879263676236\n",
      "Latent error above the threshold of 1.2\n",
      "Found 16866 lines. Skipped 11. Loaded 16855 points.\n"
     ]
    },
    {
     "name": "stderr",
     "output_type": "stream",
     "text": [
      " 53%|█████▎    | 541/1014 [01:33<01:11,  6.57it/s]"
     ]
    },
    {
     "name": "stdout",
     "output_type": "stream",
     "text": [
      "Fitness score:  0.8141757366604725\n",
      "Frame : 539\n",
      "Error--------: 101.88521363024618\n",
      "Latent error above the threshold of 1.2\n",
      "Found 14674 lines. Skipped 11. Loaded 14663 points.\n",
      "Fitness score:  0.8278366991137586\n",
      "Frame : 540\n",
      "Error--------: 101.4772754536254\n",
      "Latent error above the threshold of 1.2\n",
      "Found 14811 lines. Skipped 11. Loaded 14800 points.\n"
     ]
    },
    {
     "name": "stderr",
     "output_type": "stream",
     "text": [
      " 54%|█████▎    | 543/1014 [01:33<01:07,  6.93it/s]"
     ]
    },
    {
     "name": "stdout",
     "output_type": "stream",
     "text": [
      "Fitness score:  0.8315774687456103\n",
      "Frame : 541\n",
      "Error--------: 102.47798528451504\n",
      "Latent error above the threshold of 1.2\n",
      "Found 17456 lines. Skipped 11. Loaded 17445 points.\n",
      "Fitness score:  0.8263251609368579\n",
      "Frame : 542\n",
      "Error--------: 101.84603419959596\n",
      "Latent error above the threshold of 1.2\n",
      "Found 15780 lines. Skipped 11. Loaded 15769 points.\n"
     ]
    },
    {
     "name": "stderr",
     "output_type": "stream",
     "text": [
      " 54%|█████▎    | 544/1014 [01:34<01:09,  6.75it/s]"
     ]
    },
    {
     "name": "stdout",
     "output_type": "stream",
     "text": [
      "Fitness score:  0.835745398341998\n",
      "Frame : 543\n",
      "Error--------: 102.98245480473939\n",
      "Latent error above the threshold of 1.2\n",
      "Found 11743 lines. Skipped 11. Loaded 11732 points.\n"
     ]
    },
    {
     "name": "stderr",
     "output_type": "stream",
     "text": [
      " 54%|█████▍    | 546/1014 [01:34<01:20,  5.79it/s]"
     ]
    },
    {
     "name": "stdout",
     "output_type": "stream",
     "text": [
      "Fitness score:  0.8586602706869968\n",
      "Frame : 544\n",
      "Error--------: 102.21870429005178\n",
      "Latent error above the threshold of 1.2\n",
      "Found 16169 lines. Skipped 11. Loaded 16158 points.\n",
      "Fitness score:  0.8528108557186375\n",
      "Frame : 545\n",
      "Error--------: 103.37950605351813\n",
      "Latent error above the threshold of 1.2\n"
     ]
    },
    {
     "name": "stderr",
     "output_type": "stream",
     "text": [
      " 54%|█████▍    | 547/1014 [01:34<01:15,  6.16it/s]"
     ]
    },
    {
     "name": "stdout",
     "output_type": "stream",
     "text": [
      "Found 13659 lines. Skipped 11. Loaded 13648 points.\n",
      "Fitness score:  0.869126458530432\n",
      "Frame : 546\n",
      "Error--------: 102.6743145857822\n",
      "Latent error above the threshold of 1.2\n",
      "Found 16527 lines. Skipped 11. Loaded 16516 points.\n"
     ]
    },
    {
     "name": "stderr",
     "output_type": "stream",
     "text": [
      " 54%|█████▍    | 549/1014 [01:34<01:11,  6.51it/s]"
     ]
    },
    {
     "name": "stdout",
     "output_type": "stream",
     "text": [
      "Fitness score:  0.872412393451495\n",
      "Frame : 547\n",
      "Error--------: 104.08798994216991\n",
      "Latent error above the threshold of 1.2\n",
      "Found 12246 lines. Skipped 11. Loaded 12235 points.\n",
      "Fitness score:  0.8777012966223787\n",
      "Frame : 548\n",
      "Error--------: 102.82080726837995\n",
      "Latent error above the threshold of 1.2\n"
     ]
    },
    {
     "name": "stderr",
     "output_type": "stream",
     "text": [
      " 54%|█████▍    | 550/1014 [01:35<01:11,  6.52it/s]"
     ]
    },
    {
     "name": "stdout",
     "output_type": "stream",
     "text": [
      "Found 21001 lines. Skipped 11. Loaded 20990 points.\n",
      "Fitness score:  0.8919368246051538\n",
      "Frame : 549\n",
      "Error--------: 104.8987128045279\n",
      "Latent error above the threshold of 1.2\n"
     ]
    },
    {
     "name": "stderr",
     "output_type": "stream",
     "text": [
      " 54%|█████▍    | 551/1014 [01:35<01:22,  5.64it/s]"
     ]
    },
    {
     "name": "stdout",
     "output_type": "stream",
     "text": [
      "Found 15469 lines. Skipped 11. Loaded 15458 points.\n",
      "Fitness score:  0.8968970380818053\n",
      "Frame : 550\n",
      "Error--------: 103.55242639593234\n",
      "Latent error above the threshold of 1.2\n",
      "Found 13514 lines. Skipped 11. Loaded 13503 points.\n"
     ]
    },
    {
     "name": "stderr",
     "output_type": "stream",
     "text": [
      " 55%|█████▍    | 553/1014 [01:35<01:12,  6.33it/s]"
     ]
    },
    {
     "name": "stdout",
     "output_type": "stream",
     "text": [
      "Fitness score:  0.9002836244215554\n",
      "Frame : 551\n",
      "Error--------: 105.13040956605141\n",
      "Latent error above the threshold of 1.2\n",
      "Found 15392 lines. Skipped 11. Loaded 15381 points.\n",
      "Fitness score:  0.9128560431100847\n",
      "Frame : 552\n",
      "Error--------: 103.81552148022519\n",
      "Latent error above the threshold of 1.2\n",
      "Found 13109 lines. Skipped 11. Loaded 13098 points.\n"
     ]
    },
    {
     "name": "stderr",
     "output_type": "stream",
     "text": [
      " 55%|█████▍    | 555/1014 [01:35<01:13,  6.21it/s]"
     ]
    },
    {
     "name": "stdout",
     "output_type": "stream",
     "text": [
      "Fitness score:  0.9166275613952761\n",
      "Frame : 553\n",
      "Error--------: 105.17805989265847\n",
      "Latent error above the threshold of 1.2\n",
      "Found 12938 lines. Skipped 11. Loaded 12927 points.\n",
      "Fitness score:  0.9147358665430955\n",
      "Frame : 554\n",
      "Error--------: 104.12523942465678\n",
      "Latent error above the threshold of 1.2\n",
      "Found 16358 lines. Skipped 11. Loaded 16347 points.\n"
     ]
    },
    {
     "name": "stderr",
     "output_type": "stream",
     "text": [
      " 55%|█████▍    | 557/1014 [01:36<01:10,  6.49it/s]"
     ]
    },
    {
     "name": "stdout",
     "output_type": "stream",
     "text": [
      "Fitness score:  0.9125480700754878\n",
      "Frame : 555\n",
      "Error--------: 105.29519492434174\n",
      "Latent error above the threshold of 1.2\n",
      "Found 13181 lines. Skipped 11. Loaded 13170 points.\n",
      "Fitness score:  0.9235658914728683\n",
      "Frame : 556\n",
      "Error--------: 104.5122167422412\n",
      "Latent error above the threshold of 1.2\n",
      "Found 16839 lines. Skipped 11. Loaded 16828 points.\n"
     ]
    },
    {
     "name": "stderr",
     "output_type": "stream",
     "text": [
      " 55%|█████▌    | 558/1014 [01:36<01:16,  5.94it/s]"
     ]
    },
    {
     "name": "stdout",
     "output_type": "stream",
     "text": [
      "Fitness score:  0.9171448565430371\n",
      "Frame : 557\n",
      "Error--------: 105.64639134649752\n",
      "Latent error above the threshold of 1.2\n",
      "Found 16403 lines. Skipped 11. Loaded 16392 points.\n"
     ]
    },
    {
     "name": "stderr",
     "output_type": "stream",
     "text": [
      " 55%|█████▌    | 559/1014 [01:36<01:31,  4.99it/s]"
     ]
    },
    {
     "name": "stdout",
     "output_type": "stream",
     "text": [
      "Fitness score:  0.9188140759213078\n",
      "Frame : 558\n",
      "Error--------: 104.86746957700386\n",
      "Latent error above the threshold of 1.2\n",
      "Found 13994 lines. Skipped 11. Loaded 13983 points.\n"
     ]
    },
    {
     "name": "stderr",
     "output_type": "stream",
     "text": [
      " 55%|█████▌    | 561/1014 [01:37<01:37,  4.62it/s]"
     ]
    },
    {
     "name": "stdout",
     "output_type": "stream",
     "text": [
      "Fitness score:  0.8727326791555159\n",
      "Frame : 559\n",
      "Error--------: 106.18272296833872\n",
      "Latent error above the threshold of 1.2\n",
      "Found 13322 lines. Skipped 11. Loaded 13311 points.\n",
      "Fitness score:  0.9211446740858505\n",
      "Frame : 560\n",
      "Error--------: 105.20986933733107\n",
      "Latent error above the threshold of 1.2\n"
     ]
    },
    {
     "name": "stderr",
     "output_type": "stream",
     "text": [
      " 55%|█████▌    | 562/1014 [01:37<01:29,  5.07it/s]"
     ]
    },
    {
     "name": "stdout",
     "output_type": "stream",
     "text": [
      "Found 13689 lines. Skipped 11. Loaded 13678 points.\n",
      "Fitness score:  0.9242029928432011\n",
      "Frame : 561\n",
      "Error--------: 106.15791425301947\n",
      "Latent error above the threshold of 1.2\n",
      "Found 13969 lines. Skipped 11. Loaded 13958 points.\n"
     ]
    },
    {
     "name": "stderr",
     "output_type": "stream",
     "text": [
      " 56%|█████▌    | 564/1014 [01:37<01:16,  5.91it/s]"
     ]
    },
    {
     "name": "stdout",
     "output_type": "stream",
     "text": [
      "Fitness score:  0.9199453136867689\n",
      "Frame : 562\n",
      "Error--------: 105.88196698703258\n",
      "Latent error above the threshold of 1.2\n",
      "Found 14006 lines. Skipped 11. Loaded 13995 points.\n",
      "Fitness score:  0.9140150954565636\n",
      "Frame : 563\n",
      "Error--------: 106.18317829411392\n",
      "Latent error above the threshold of 1.2\n",
      "Found 15614 lines. Skipped 11. Loaded 15603 points.\n"
     ]
    },
    {
     "name": "stderr",
     "output_type": "stream",
     "text": [
      " 56%|█████▌    | 565/1014 [01:37<01:19,  5.63it/s]"
     ]
    },
    {
     "name": "stdout",
     "output_type": "stream",
     "text": [
      "Fitness score:  0.9182833627278072\n",
      "Frame : 564\n",
      "Error--------: 106.19698208323592\n",
      "Latent error above the threshold of 1.2\n",
      "Found 15928 lines. Skipped 11. Loaded 15917 points.\n"
     ]
    },
    {
     "name": "stderr",
     "output_type": "stream",
     "text": [
      " 56%|█████▌    | 567/1014 [01:38<01:19,  5.63it/s]"
     ]
    },
    {
     "name": "stdout",
     "output_type": "stream",
     "text": [
      "Fitness score:  0.9180589859073078\n",
      "Frame : 565\n",
      "Error--------: 106.37339301620116\n",
      "Latent error above the threshold of 1.2\n",
      "Found 13903 lines. Skipped 11. Loaded 13892 points.\n",
      "Fitness score:  0.9248573757131214\n",
      "Frame : 566\n",
      "Error--------: 106.27239659225025\n",
      "Latent error above the threshold of 1.2\n",
      "Found 13903 lines. Skipped 11. Loaded 13892 points.\n"
     ]
    },
    {
     "name": "stderr",
     "output_type": "stream",
     "text": [
      " 56%|█████▌    | 569/1014 [01:38<01:08,  6.49it/s]"
     ]
    },
    {
     "name": "stdout",
     "output_type": "stream",
     "text": [
      "Fitness score:  0.9250203748981255\n",
      "Frame : 567\n",
      "Error--------: 106.6860780163857\n",
      "Latent error above the threshold of 1.2\n",
      "Found 14082 lines. Skipped 11. Loaded 14071 points.\n",
      "Fitness score:  0.9184896613724902\n",
      "Frame : 568\n",
      "Error--------: 106.5606211768125\n",
      "Latent error above the threshold of 1.2\n",
      "Found 15607 lines. Skipped 11. Loaded 15596 points.\n"
     ]
    },
    {
     "name": "stderr",
     "output_type": "stream",
     "text": [
      " 56%|█████▋    | 571/1014 [01:38<01:02,  7.10it/s]"
     ]
    },
    {
     "name": "stdout",
     "output_type": "stream",
     "text": [
      "Fitness score:  0.9124835357822333\n",
      "Frame : 569\n",
      "Error--------: 106.78673267560379\n",
      "Latent error above the threshold of 1.2\n",
      "Found 12421 lines. Skipped 11. Loaded 12410 points.\n",
      "Fitness score:  1.0\n",
      "Frame : 570\n",
      "Error--------: 108.31862783932691\n",
      "Latent error above the threshold of 1.2\n",
      "Found 17100 lines. Skipped 11. Loaded 17089 points.\n"
     ]
    },
    {
     "name": "stderr",
     "output_type": "stream",
     "text": [
      " 56%|█████▋    | 572/1014 [01:38<01:06,  6.60it/s]"
     ]
    },
    {
     "name": "stdout",
     "output_type": "stream",
     "text": [
      "Fitness score:  0.877249100359856\n",
      "Frame : 571\n",
      "Error--------: 108.6318536345361\n",
      "Latent error above the threshold of 1.2\n",
      "Found 14819 lines. Skipped 11. Loaded 14808 points.\n"
     ]
    },
    {
     "name": "stderr",
     "output_type": "stream",
     "text": [
      " 57%|█████▋    | 574/1014 [01:39<01:12,  6.08it/s]"
     ]
    },
    {
     "name": "stdout",
     "output_type": "stream",
     "text": [
      "Fitness score:  0.8736607142857142\n",
      "Frame : 572\n",
      "Error--------: 107.70956208590127\n",
      "Latent error above the threshold of 1.2\n",
      "Found 15930 lines. Skipped 11. Loaded 15919 points.\n",
      "Fitness score:  0.8775414451047857\n",
      "Frame : 573\n",
      "Error--------: 108.49438583262946\n",
      "Latent error above the threshold of 1.2\n",
      "Found 15587 lines. Skipped 11. Loaded 15576 points.\n"
     ]
    },
    {
     "name": "stderr",
     "output_type": "stream",
     "text": [
      " 57%|█████▋    | 576/1014 [01:39<01:04,  6.81it/s]"
     ]
    },
    {
     "name": "stdout",
     "output_type": "stream",
     "text": [
      "Fitness score:  0.8627133608004709\n",
      "Frame : 574\n",
      "Error--------: 108.10216446259723\n",
      "Latent error above the threshold of 1.2\n",
      "Found 15587 lines. Skipped 11. Loaded 15576 points.\n",
      "Fitness score:  0.8635962330782814\n",
      "Frame : 575\n",
      "Error--------: 109.28871174552785\n",
      "Latent error above the threshold of 1.2\n",
      "Found 15255 lines. Skipped 11. Loaded 15244 points.\n"
     ]
    },
    {
     "name": "stderr",
     "output_type": "stream",
     "text": [
      " 57%|█████▋    | 578/1014 [01:39<00:59,  7.27it/s]"
     ]
    },
    {
     "name": "stdout",
     "output_type": "stream",
     "text": [
      "Fitness score:  0.8688626476072094\n",
      "Frame : 576\n",
      "Error--------: 108.73981884501494\n",
      "Latent error above the threshold of 1.2\n",
      "Found 11747 lines. Skipped 11. Loaded 11736 points.\n",
      "Fitness score:  0.8672552419990541\n",
      "Frame : 577\n",
      "Error--------: 110.05055232672349\n",
      "Latent error above the threshold of 1.2\n"
     ]
    },
    {
     "name": "stderr",
     "output_type": "stream",
     "text": [
      " 57%|█████▋    | 579/1014 [01:39<01:11,  6.11it/s]"
     ]
    },
    {
     "name": "stdout",
     "output_type": "stream",
     "text": [
      "Found 15519 lines. Skipped 11. Loaded 15508 points.\n",
      "Fitness score:  0.8856172140430351\n",
      "Frame : 578\n",
      "Error--------: 109.48392700769344\n",
      "Latent error above the threshold of 1.2\n",
      "Found 16856 lines. Skipped 11. Loaded 16845 points.\n"
     ]
    },
    {
     "name": "stderr",
     "output_type": "stream",
     "text": [
      " 57%|█████▋    | 581/1014 [01:40<01:10,  6.14it/s]"
     ]
    },
    {
     "name": "stdout",
     "output_type": "stream",
     "text": [
      "Fitness score:  0.9146220394270316\n",
      "Frame : 579\n",
      "Error--------: 111.74777832867635\n",
      "Latent error above the threshold of 1.2\n",
      "Found 13121 lines. Skipped 11. Loaded 13110 points.\n",
      "Fitness score:  0.9253236501420903\n",
      "Frame : 580\n",
      "Error--------: 110.10883703267422\n",
      "Latent error above the threshold of 1.2\n"
     ]
    },
    {
     "name": "stderr",
     "output_type": "stream",
     "text": [
      " 57%|█████▋    | 582/1014 [01:40<01:05,  6.58it/s]"
     ]
    },
    {
     "name": "stdout",
     "output_type": "stream",
     "text": [
      "Found 13971 lines. Skipped 11. Loaded 13960 points.\n",
      "Fitness score:  0.9191100633564167\n",
      "Frame : 581\n",
      "Error--------: 111.74073245109739\n",
      "Latent error above the threshold of 1.2\n",
      "Found 17100 lines. Skipped 11. Loaded 17089 points.\n"
     ]
    },
    {
     "name": "stderr",
     "output_type": "stream",
     "text": [
      " 58%|█████▊    | 584/1014 [01:40<01:05,  6.55it/s]"
     ]
    },
    {
     "name": "stdout",
     "output_type": "stream",
     "text": [
      "Fitness score:  0.8909769425563108\n",
      "Frame : 582\n",
      "Error--------: 110.22110218590336\n",
      "Latent error above the threshold of 1.2\n",
      "Found 13566 lines. Skipped 11. Loaded 13555 points.\n",
      "Fitness score:  0.9163939303778638\n",
      "Frame : 583\n",
      "Error--------: 112.77471237159334\n",
      "Latent error above the threshold of 1.2\n"
     ]
    },
    {
     "name": "stderr",
     "output_type": "stream",
     "text": [
      " 58%|█████▊    | 585/1014 [01:40<01:04,  6.65it/s]"
     ]
    },
    {
     "name": "stdout",
     "output_type": "stream",
     "text": [
      "Found 14484 lines. Skipped 11. Loaded 14473 points.\n",
      "Fitness score:  0.917601246105919\n",
      "Frame : 584\n",
      "Error--------: 111.07211497185008\n",
      "Latent error above the threshold of 1.2\n"
     ]
    },
    {
     "name": "stderr",
     "output_type": "stream",
     "text": [
      " 58%|█████▊    | 586/1014 [01:41<01:15,  5.70it/s]"
     ]
    },
    {
     "name": "stdout",
     "output_type": "stream",
     "text": [
      "Found 16053 lines. Skipped 11. Loaded 16042 points.\n",
      "Fitness score:  0.909066195460106\n",
      "Frame : 585\n",
      "Error--------: 112.95062883026925\n",
      "Latent error above the threshold of 1.2\n",
      "Found 15900 lines. Skipped 11. Loaded 15889 points.\n"
     ]
    },
    {
     "name": "stderr",
     "output_type": "stream",
     "text": [
      " 58%|█████▊    | 588/1014 [01:41<01:04,  6.56it/s]"
     ]
    },
    {
     "name": "stdout",
     "output_type": "stream",
     "text": [
      "Fitness score:  0.913049685893775\n",
      "Frame : 586\n",
      "Error--------: 111.54581088670243\n",
      "Latent error above the threshold of 1.2\n",
      "Found 13512 lines. Skipped 11. Loaded 13501 points.\n",
      "Fitness score:  0.9131368937998773\n",
      "Frame : 587\n",
      "Error--------: 112.96957639916214\n",
      "Latent error above the threshold of 1.2\n",
      "Found 16981 lines. Skipped 11. Loaded 16970 points.\n"
     ]
    },
    {
     "name": "stderr",
     "output_type": "stream",
     "text": [
      " 58%|█████▊    | 590/1014 [01:41<00:59,  7.15it/s]"
     ]
    },
    {
     "name": "stdout",
     "output_type": "stream",
     "text": [
      "Fitness score:  0.9216952891129667\n",
      "Frame : 588\n",
      "Error--------: 112.01525046194882\n",
      "Latent error above the threshold of 1.2\n",
      "Found 13910 lines. Skipped 11. Loaded 13899 points.\n",
      "Fitness score:  0.919825778351347\n",
      "Frame : 589\n",
      "Error--------: 113.17939971050095\n",
      "Latent error above the threshold of 1.2\n",
      "Found 13300 lines. Skipped 11. Loaded 13289 points.\n"
     ]
    },
    {
     "name": "stderr",
     "output_type": "stream",
     "text": [
      " 58%|█████▊    | 591/1014 [01:41<00:58,  7.25it/s]"
     ]
    },
    {
     "name": "stdout",
     "output_type": "stream",
     "text": [
      "Fitness score:  0.9210272873194222\n",
      "Frame : 590\n",
      "Error--------: 112.36043795030818\n",
      "Latent error above the threshold of 1.2\n",
      "Found 14310 lines. Skipped 11. Loaded 14299 points.\n"
     ]
    },
    {
     "name": "stderr",
     "output_type": "stream",
     "text": [
      " 58%|█████▊    | 593/1014 [01:42<01:03,  6.60it/s]"
     ]
    },
    {
     "name": "stdout",
     "output_type": "stream",
     "text": [
      "Fitness score:  0.9086142322097378\n",
      "Frame : 591\n",
      "Error--------: 113.31485520758987\n",
      "Latent error above the threshold of 1.2\n",
      "Found 14317 lines. Skipped 11. Loaded 14306 points.\n",
      "Fitness score:  0.9135464231354642\n",
      "Frame : 592\n",
      "Error--------: 112.61085640471944\n",
      "Latent error above the threshold of 1.2\n",
      "Found 13282 lines. Skipped 11. Loaded 13271 points.\n"
     ]
    },
    {
     "name": "stderr",
     "output_type": "stream",
     "text": [
      " 59%|█████▊    | 595/1014 [01:42<01:08,  6.15it/s]"
     ]
    },
    {
     "name": "stdout",
     "output_type": "stream",
     "text": [
      "Fitness score:  0.8799178385210934\n",
      "Frame : 593\n",
      "Error--------: 113.0298360203362\n",
      "Latent error above the threshold of 1.2\n",
      "Found 12946 lines. Skipped 11. Loaded 12935 points.\n",
      "Fitness score:  0.9092977400273017\n",
      "Frame : 594\n",
      "Error--------: 113.30178370474954\n",
      "Latent error above the threshold of 1.2\n",
      "Found 17606 lines. Skipped 11. Loaded 17595 points.\n"
     ]
    },
    {
     "name": "stderr",
     "output_type": "stream",
     "text": [
      " 59%|█████▉    | 597/1014 [01:42<01:01,  6.77it/s]"
     ]
    },
    {
     "name": "stdout",
     "output_type": "stream",
     "text": [
      "Fitness score:  0.9170952158329437\n",
      "Frame : 595\n",
      "Error--------: 113.53741664974338\n",
      "Latent error above the threshold of 1.2\n",
      "Found 17178 lines. Skipped 11. Loaded 17167 points.\n",
      "Fitness score:  0.9077676696990903\n",
      "Frame : 596\n",
      "Error--------: 113.53839308569903\n",
      "Latent error above the threshold of 1.2\n",
      "Found 15128 lines. Skipped 11. Loaded 15117 points.\n"
     ]
    },
    {
     "name": "stderr",
     "output_type": "stream",
     "text": [
      " 59%|█████▉    | 598/1014 [01:42<00:59,  6.95it/s]"
     ]
    },
    {
     "name": "stdout",
     "output_type": "stream",
     "text": [
      "Fitness score:  0.916604727218671\n",
      "Frame : 597\n",
      "Error--------: 113.805264829916\n",
      "Latent error above the threshold of 1.2\n",
      "Found 15128 lines. Skipped 11. Loaded 15117 points.\n"
     ]
    },
    {
     "name": "stderr",
     "output_type": "stream",
     "text": [
      " 59%|█████▉    | 600/1014 [01:43<01:05,  6.28it/s]"
     ]
    },
    {
     "name": "stdout",
     "output_type": "stream",
     "text": [
      "Fitness score:  0.9158614538427233\n",
      "Frame : 598\n",
      "Error--------: 113.95664898248617\n",
      "Latent error above the threshold of 1.2\n",
      "Found 14075 lines. Skipped 11. Loaded 14064 points.\n",
      "Fitness score:  0.9141535024732726\n",
      "Frame : 599\n",
      "Error--------: 114.09568608563652\n",
      "Latent error above the threshold of 1.2\n",
      "Found 14805 lines. Skipped 11. Loaded 14794 points.\n"
     ]
    },
    {
     "name": "stderr",
     "output_type": "stream",
     "text": [
      " 59%|█████▉    | 602/1014 [01:43<01:10,  5.88it/s]"
     ]
    },
    {
     "name": "stdout",
     "output_type": "stream",
     "text": [
      "Fitness score:  0.9048561424874411\n",
      "Frame : 600\n",
      "Error--------: 114.34934805522605\n",
      "Latent error above the threshold of 1.2\n",
      "Found 15746 lines. Skipped 11. Loaded 15735 points.\n",
      "Fitness score:  0.9042038962941262\n",
      "Frame : 601\n",
      "Error--------: 114.47473244256938\n",
      "Latent error above the threshold of 1.2\n",
      "Found 12227 lines. Skipped 11. Loaded 12216 points.\n"
     ]
    },
    {
     "name": "stderr",
     "output_type": "stream",
     "text": [
      " 60%|█████▉    | 604/1014 [01:43<01:06,  6.18it/s]"
     ]
    },
    {
     "name": "stdout",
     "output_type": "stream",
     "text": [
      "Fitness score:  0.9064279902359642\n",
      "Frame : 602\n",
      "Error--------: 114.44595040417326\n",
      "Latent error above the threshold of 1.2\n",
      "Found 14536 lines. Skipped 11. Loaded 14525 points.\n",
      "Fitness score:  0.9026022304832714\n",
      "Frame : 603\n",
      "Error--------: 114.98578693998074\n",
      "Latent error above the threshold of 1.2\n"
     ]
    },
    {
     "name": "stderr",
     "output_type": "stream",
     "text": [
      " 60%|█████▉    | 605/1014 [01:44<01:12,  5.61it/s]"
     ]
    },
    {
     "name": "stdout",
     "output_type": "stream",
     "text": [
      "Found 12678 lines. Skipped 11. Loaded 12667 points.\n",
      "Fitness score:  0.8813454713778738\n",
      "Frame : 604\n",
      "Error--------: 115.43118251213593\n",
      "Latent error above the threshold of 1.2\n",
      "Found 17113 lines. Skipped 11. Loaded 17102 points.\n"
     ]
    },
    {
     "name": "stderr",
     "output_type": "stream",
     "text": [
      " 60%|█████▉    | 607/1014 [01:44<01:08,  5.98it/s]"
     ]
    },
    {
     "name": "stdout",
     "output_type": "stream",
     "text": [
      "Fitness score:  0.8997440273037542\n",
      "Frame : 605\n",
      "Error--------: 115.13840267451248\n",
      "Latent error above the threshold of 1.2\n",
      "Found 14905 lines. Skipped 11. Loaded 14894 points.\n",
      "Fitness score:  0.9106529209621993\n",
      "Frame : 606\n",
      "Error--------: 115.48810710851639\n",
      "Latent error above the threshold of 1.2\n"
     ]
    },
    {
     "name": "stderr",
     "output_type": "stream",
     "text": [
      " 60%|█████▉    | 608/1014 [01:44<01:04,  6.29it/s]"
     ]
    },
    {
     "name": "stdout",
     "output_type": "stream",
     "text": [
      "Found 12724 lines. Skipped 11. Loaded 12713 points.\n",
      "Fitness score:  0.8992519497055547\n",
      "Frame : 607\n",
      "Error--------: 115.56477632550298\n",
      "Latent error above the threshold of 1.2\n",
      "Found 14339 lines. Skipped 11. Loaded 14328 points.\n"
     ]
    },
    {
     "name": "stderr",
     "output_type": "stream",
     "text": [
      " 60%|██████    | 610/1014 [01:44<01:07,  5.96it/s]"
     ]
    },
    {
     "name": "stdout",
     "output_type": "stream",
     "text": [
      "Fitness score:  0.8950227573043605\n",
      "Frame : 608\n",
      "Error--------: 115.61221165911608\n",
      "Latent error above the threshold of 1.2\n",
      "Found 17307 lines. Skipped 11. Loaded 17296 points.\n",
      "Fitness score:  0.9016046018770815\n",
      "Frame : 609\n",
      "Error--------: 115.71841846540923\n",
      "Latent error above the threshold of 1.2\n"
     ]
    },
    {
     "name": "stderr",
     "output_type": "stream",
     "text": [
      " 60%|██████    | 611/1014 [01:45<01:04,  6.21it/s]"
     ]
    },
    {
     "name": "stdout",
     "output_type": "stream",
     "text": [
      "Found 14326 lines. Skipped 11. Loaded 14315 points.\n",
      "Fitness score:  0.9073233959818535\n",
      "Frame : 610\n",
      "Error--------: 115.83470095819607\n",
      "Latent error above the threshold of 1.2\n"
     ]
    },
    {
     "name": "stderr",
     "output_type": "stream",
     "text": [
      " 60%|██████    | 612/1014 [01:45<01:16,  5.26it/s]"
     ]
    },
    {
     "name": "stdout",
     "output_type": "stream",
     "text": [
      "Found 16645 lines. Skipped 11. Loaded 16634 points.\n",
      "Fitness score:  0.8896402877697842\n",
      "Frame : 611\n",
      "Error--------: 115.95692199312938\n",
      "Latent error above the threshold of 1.2\n",
      "Found 12724 lines. Skipped 11. Loaded 12713 points.\n"
     ]
    },
    {
     "name": "stderr",
     "output_type": "stream",
     "text": [
      " 61%|██████    | 614/1014 [01:45<01:03,  6.31it/s]"
     ]
    },
    {
     "name": "stdout",
     "output_type": "stream",
     "text": [
      "Fitness score:  0.9030728996404054\n",
      "Frame : 612\n",
      "Error--------: 116.03173201069461\n",
      "Latent error above the threshold of 1.2\n",
      "Found 15710 lines. Skipped 11. Loaded 15699 points.\n",
      "Fitness score:  0.8914909090909091\n",
      "Frame : 613\n",
      "Error--------: 116.06075388859331\n",
      "Latent error above the threshold of 1.2\n",
      "Found 11156 lines. Skipped 11. Loaded 11145 points.\n"
     ]
    },
    {
     "name": "stderr",
     "output_type": "stream",
     "text": [
      " 61%|██████    | 616/1014 [01:45<01:01,  6.47it/s]"
     ]
    },
    {
     "name": "stdout",
     "output_type": "stream",
     "text": [
      "Fitness score:  0.9001860937235663\n",
      "Frame : 614\n",
      "Error--------: 116.46782290196519\n",
      "Latent error above the threshold of 1.2\n",
      "Found 16006 lines. Skipped 11. Loaded 15995 points.\n",
      "Fitness score:  0.8649930264993027\n",
      "Frame : 615\n",
      "Error--------: 118.03411968251949\n",
      "Latent error above the threshold of 1.2\n",
      "Found 13920 lines. Skipped 11. Loaded 13909 points.\n"
     ]
    },
    {
     "name": "stderr",
     "output_type": "stream",
     "text": [
      " 61%|██████    | 617/1014 [01:46<01:00,  6.58it/s]"
     ]
    },
    {
     "name": "stdout",
     "output_type": "stream",
     "text": [
      "Fitness score:  0.8531020471948741\n",
      "Frame : 616\n",
      "Error--------: 117.66482537333758\n",
      "Latent error above the threshold of 1.2\n",
      "Found 13834 lines. Skipped 11. Loaded 13823 points.\n"
     ]
    },
    {
     "name": "stderr",
     "output_type": "stream",
     "text": [
      " 61%|██████    | 619/1014 [01:46<01:04,  6.13it/s]"
     ]
    },
    {
     "name": "stdout",
     "output_type": "stream",
     "text": [
      "Fitness score:  0.8648447942967473\n",
      "Frame : 617\n",
      "Error--------: 117.5296973837986\n",
      "Latent error above the threshold of 1.2\n",
      "Found 16450 lines. Skipped 11. Loaded 16439 points.\n",
      "Fitness score:  0.8967246513085724\n",
      "Frame : 618\n",
      "Error--------: 117.33270940409781\n",
      "Latent error above the threshold of 1.2\n",
      "Found 16201 lines. Skipped 11. Loaded 16190 points.\n"
     ]
    },
    {
     "name": "stderr",
     "output_type": "stream",
     "text": [
      " 61%|██████    | 621/1014 [01:46<00:58,  6.77it/s]"
     ]
    },
    {
     "name": "stdout",
     "output_type": "stream",
     "text": [
      "Fitness score:  0.8860402873644175\n",
      "Frame : 619\n",
      "Error--------: 117.26272725675341\n",
      "Latent error above the threshold of 1.2\n",
      "Found 15075 lines. Skipped 11. Loaded 15064 points.\n",
      "Fitness score:  0.8824950269963058\n",
      "Frame : 620\n",
      "Error--------: 117.59940100267994\n",
      "Latent error above the threshold of 1.2\n"
     ]
    },
    {
     "name": "stderr",
     "output_type": "stream",
     "text": [
      " 61%|██████▏   | 622/1014 [01:46<01:09,  5.63it/s]"
     ]
    },
    {
     "name": "stdout",
     "output_type": "stream",
     "text": [
      "Found 15113 lines. Skipped 11. Loaded 15102 points.\n",
      "Fitness score:  0.8805693950177936\n",
      "Frame : 621\n",
      "Error--------: 117.70608385989904\n",
      "Latent error above the threshold of 1.2\n"
     ]
    },
    {
     "name": "stderr",
     "output_type": "stream",
     "text": [
      " 61%|██████▏   | 623/1014 [01:47<01:04,  6.04it/s]"
     ]
    },
    {
     "name": "stdout",
     "output_type": "stream",
     "text": [
      "Found 17450 lines. Skipped 11. Loaded 17439 points.\n",
      "Fitness score:  0.8768802228412256\n",
      "Frame : 622\n",
      "Error--------: 117.86842483046433\n",
      "Latent error above the threshold of 1.2\n"
     ]
    },
    {
     "name": "stderr",
     "output_type": "stream",
     "text": [
      " 62%|██████▏   | 625/1014 [01:47<01:03,  6.14it/s]"
     ]
    },
    {
     "name": "stdout",
     "output_type": "stream",
     "text": [
      "Found 15276 lines. Skipped 11. Loaded 15265 points.\n",
      "Fitness score:  0.8704160246533128\n",
      "Frame : 623\n",
      "Error--------: 118.63620111984638\n",
      "Latent error above the threshold of 1.2\n",
      "Found 11904 lines. Skipped 11. Loaded 11893 points.\n",
      "Fitness score:  0.8435178933153274\n",
      "Frame : 624\n",
      "Error--------: 119.43632449420146\n",
      "Latent error above the threshold of 1.2\n"
     ]
    },
    {
     "name": "stderr",
     "output_type": "stream",
     "text": [
      " 62%|██████▏   | 626/1014 [01:47<01:00,  6.37it/s]"
     ]
    },
    {
     "name": "stdout",
     "output_type": "stream",
     "text": [
      "Found 15834 lines. Skipped 11. Loaded 15823 points.\n",
      "Fitness score:  0.8303496503496504\n",
      "Frame : 625\n",
      "Error--------: 120.4332815552157\n",
      "Latent error above the threshold of 1.2\n",
      "Found 12612 lines. Skipped 11. Loaded 12601 points.\n"
     ]
    },
    {
     "name": "stderr",
     "output_type": "stream",
     "text": [
      " 62%|██████▏   | 628/1014 [01:47<00:57,  6.72it/s]"
     ]
    },
    {
     "name": "stdout",
     "output_type": "stream",
     "text": [
      "Fitness score:  0.89241400973771\n",
      "Frame : 626\n",
      "Error--------: 119.78439485192631\n",
      "Latent error above the threshold of 1.2\n",
      "Found 16766 lines. Skipped 11. Loaded 16755 points.\n",
      "Fitness score:  0.8454234122042341\n",
      "Frame : 627\n",
      "Error--------: 120.79704188583416\n",
      "Latent error above the threshold of 1.2\n",
      "Found 14838 lines. Skipped 11. Loaded 14827 points.\n"
     ]
    },
    {
     "name": "stderr",
     "output_type": "stream",
     "text": [
      " 62%|██████▏   | 630/1014 [01:48<00:55,  6.95it/s]"
     ]
    },
    {
     "name": "stdout",
     "output_type": "stream",
     "text": [
      "Fitness score:  0.8408187306729495\n",
      "Frame : 628\n",
      "Error--------: 120.5355785299633\n",
      "Latent error above the threshold of 1.2\n",
      "Found 14990 lines. Skipped 11. Loaded 14979 points.\n",
      "Fitness score:  0.8445465942331801\n",
      "Frame : 629\n",
      "Error--------: 121.42578200033383\n",
      "Latent error above the threshold of 1.2\n"
     ]
    },
    {
     "name": "stderr",
     "output_type": "stream",
     "text": [
      " 62%|██████▏   | 631/1014 [01:48<01:04,  5.94it/s]"
     ]
    },
    {
     "name": "stdout",
     "output_type": "stream",
     "text": [
      "Found 16789 lines. Skipped 11. Loaded 16778 points.\n",
      "Fitness score:  0.8693814287727208\n",
      "Frame : 630\n",
      "Error--------: 121.24587513079106\n",
      "Latent error above the threshold of 1.2\n",
      "Found 15916 lines. Skipped 11. Loaded 15905 points.\n"
     ]
    },
    {
     "name": "stderr",
     "output_type": "stream",
     "text": [
      " 62%|██████▏   | 633/1014 [01:48<00:56,  6.76it/s]"
     ]
    },
    {
     "name": "stdout",
     "output_type": "stream",
     "text": [
      "Fitness score:  0.8773104351622762\n",
      "Frame : 631\n",
      "Error--------: 122.0422236001182\n",
      "Latent error above the threshold of 1.2\n",
      "Found 16194 lines. Skipped 11. Loaded 16183 points.\n",
      "Fitness score:  0.8843724251579237\n",
      "Frame : 632\n",
      "Error--------: 122.02467050469332\n",
      "Latent error above the threshold of 1.2\n",
      "Found 20095 lines. Skipped 11. Loaded 20084 points.\n"
     ]
    },
    {
     "name": "stderr",
     "output_type": "stream",
     "text": [
      " 63%|██████▎   | 635/1014 [01:49<00:59,  6.36it/s]"
     ]
    },
    {
     "name": "stdout",
     "output_type": "stream",
     "text": [
      "Fitness score:  0.894029428409734\n",
      "Frame : 633\n",
      "Error--------: 122.4606855576679\n",
      "Latent error above the threshold of 1.2\n",
      "Found 14720 lines. Skipped 11. Loaded 14709 points.\n",
      "Fitness score:  0.9018348623853211\n",
      "Frame : 634\n",
      "Error--------: 122.41159979982135\n",
      "Latent error above the threshold of 1.2\n",
      "Found 17755 lines. Skipped 11. Loaded 17744 points.\n"
     ]
    },
    {
     "name": "stderr",
     "output_type": "stream",
     "text": [
      " 63%|██████▎   | 636/1014 [01:49<00:59,  6.31it/s]"
     ]
    },
    {
     "name": "stdout",
     "output_type": "stream",
     "text": [
      "Fitness score:  0.8903689889436526\n",
      "Frame : 635\n",
      "Error--------: 122.88340233050633\n",
      "Latent error above the threshold of 1.2\n",
      "Found 15140 lines. Skipped 11. Loaded 15129 points.\n"
     ]
    },
    {
     "name": "stderr",
     "output_type": "stream",
     "text": [
      " 63%|██████▎   | 638/1014 [01:49<00:59,  6.29it/s]"
     ]
    },
    {
     "name": "stdout",
     "output_type": "stream",
     "text": [
      "Fitness score:  0.9058500914076782\n",
      "Frame : 636\n",
      "Error--------: 122.58144398271945\n",
      "Latent error above the threshold of 1.2\n",
      "Found 13605 lines. Skipped 11. Loaded 13594 points.\n",
      "Fitness score:  0.8996591077515933\n",
      "Frame : 637\n",
      "Error--------: 122.92960413844561\n",
      "Latent error above the threshold of 1.2\n",
      "Found 15140 lines. Skipped 11. Loaded 15129 points.\n"
     ]
    },
    {
     "name": "stderr",
     "output_type": "stream",
     "text": [
      " 63%|██████▎   | 640/1014 [01:49<00:55,  6.78it/s]"
     ]
    },
    {
     "name": "stdout",
     "output_type": "stream",
     "text": [
      "Fitness score:  0.9041742839731871\n",
      "Frame : 638\n",
      "Error--------: 123.29581865290447\n",
      "Latent error above the threshold of 1.2\n",
      "Found 13911 lines. Skipped 11. Loaded 13900 points.\n",
      "Fitness score:  0.9088766692851532\n",
      "Frame : 639\n",
      "Error--------: 123.10458190453437\n",
      "Latent error above the threshold of 1.2\n",
      "Found 13911 lines. Skipped 11. Loaded 13900 points.\n"
     ]
    },
    {
     "name": "stderr",
     "output_type": "stream",
     "text": [
      " 63%|██████▎   | 642/1014 [01:50<00:51,  7.17it/s]"
     ]
    },
    {
     "name": "stdout",
     "output_type": "stream",
     "text": [
      "Fitness score:  0.9084053417124902\n",
      "Frame : 640\n",
      "Error--------: 123.56387571532885\n",
      "Latent error above the threshold of 1.2\n",
      "Found 19374 lines. Skipped 11. Loaded 19363 points.\n",
      "Fitness score:  0.8929770203976246\n",
      "Frame : 641\n",
      "Error--------: 123.53555260646958\n",
      "Latent error above the threshold of 1.2\n"
     ]
    },
    {
     "name": "stderr",
     "output_type": "stream",
     "text": [
      " 63%|██████▎   | 643/1014 [01:50<01:01,  6.00it/s]"
     ]
    },
    {
     "name": "stdout",
     "output_type": "stream",
     "text": [
      "Found 16177 lines. Skipped 11. Loaded 16166 points.\n",
      "Fitness score:  0.9067652075042638\n",
      "Frame : 642\n",
      "Error--------: 123.49865768538099\n",
      "Latent error above the threshold of 1.2\n",
      "Found 12567 lines. Skipped 11. Loaded 12556 points.\n"
     ]
    },
    {
     "name": "stderr",
     "output_type": "stream",
     "text": [
      " 64%|██████▎   | 645/1014 [01:50<01:00,  6.07it/s]"
     ]
    },
    {
     "name": "stdout",
     "output_type": "stream",
     "text": [
      "Fitness score:  0.9143775100401607\n",
      "Frame : 643\n",
      "Error--------: 123.7642608764665\n",
      "Latent error above the threshold of 1.2\n",
      "Found 15015 lines. Skipped 11. Loaded 15004 points.\n",
      "Fitness score:  0.9086651053864169\n",
      "Frame : 644\n",
      "Error--------: 123.70429138526286\n",
      "Latent error above the threshold of 1.2\n"
     ]
    },
    {
     "name": "stderr",
     "output_type": "stream",
     "text": [
      " 64%|██████▎   | 646/1014 [01:50<00:58,  6.34it/s]"
     ]
    },
    {
     "name": "stdout",
     "output_type": "stream",
     "text": [
      "Found 16723 lines. Skipped 11. Loaded 16712 points.\n",
      "Fitness score:  0.9043513957307061\n",
      "Frame : 645\n",
      "Error--------: 124.05997076216624\n",
      "Latent error above the threshold of 1.2\n",
      "Found 15279 lines. Skipped 11. Loaded 15268 points.\n"
     ]
    },
    {
     "name": "stderr",
     "output_type": "stream",
     "text": [
      " 64%|██████▍   | 648/1014 [01:51<00:55,  6.63it/s]"
     ]
    },
    {
     "name": "stdout",
     "output_type": "stream",
     "text": [
      "Fitness score:  0.9139016018306636\n",
      "Frame : 646\n",
      "Error--------: 123.91571690392101\n",
      "Latent error above the threshold of 1.2\n",
      "Found 15279 lines. Skipped 11. Loaded 15268 points.\n",
      "Fitness score:  0.9140446224256293\n",
      "Frame : 647\n",
      "Error--------: 124.34979084058376\n",
      "Latent error above the threshold of 1.2\n",
      "Found 9623 lines. Skipped 11. Loaded 9612 points.\n"
     ]
    },
    {
     "name": "stderr",
     "output_type": "stream",
     "text": [
      " 64%|██████▍   | 649/1014 [01:51<00:50,  7.17it/s]"
     ]
    },
    {
     "name": "stdout",
     "output_type": "stream",
     "text": [
      "Fitness score:  0.902841918294849\n",
      "Frame : 648\n",
      "Error--------: 125.21051987909306\n",
      "Latent error above the threshold of 1.2\n",
      "Found 13988 lines. Skipped 11. Loaded 13977 points.\n"
     ]
    },
    {
     "name": "stderr",
     "output_type": "stream",
     "text": [
      " 64%|██████▍   | 651/1014 [01:51<00:52,  6.86it/s]"
     ]
    },
    {
     "name": "stdout",
     "output_type": "stream",
     "text": [
      "Fitness score:  0.9167482859941234\n",
      "Frame : 649\n",
      "Error--------: 124.47620995614068\n",
      "Latent error above the threshold of 1.2\n",
      "Found 13315 lines. Skipped 11. Loaded 13304 points.\n",
      "Fitness score:  0.9111043689320388\n",
      "Frame : 650\n",
      "Error--------: 124.97441690717031\n",
      "Latent error above the threshold of 1.2\n",
      "Found 16277 lines. Skipped 11. Loaded 16266 points.\n"
     ]
    },
    {
     "name": "stderr",
     "output_type": "stream",
     "text": [
      " 64%|██████▍   | 653/1014 [01:51<00:54,  6.57it/s]"
     ]
    },
    {
     "name": "stdout",
     "output_type": "stream",
     "text": [
      "Fitness score:  0.9153992395437263\n",
      "Frame : 651\n",
      "Error--------: 124.77508174417014\n",
      "Latent error above the threshold of 1.2\n",
      "Found 13337 lines. Skipped 11. Loaded 13326 points.\n",
      "Fitness score:  0.9043157733067118\n",
      "Frame : 652\n",
      "Error--------: 125.13658507381457\n",
      "Latent error above the threshold of 1.2\n",
      "Found 14840 lines. Skipped 11. Loaded 14829 points.\n"
     ]
    },
    {
     "name": "stderr",
     "output_type": "stream",
     "text": [
      " 65%|██████▍   | 655/1014 [01:52<00:48,  7.37it/s]"
     ]
    },
    {
     "name": "stdout",
     "output_type": "stream",
     "text": [
      "Fitness score:  0.9051964120012372\n",
      "Frame : 653\n",
      "Error--------: 125.16036227866279\n",
      "Latent error above the threshold of 1.2\n",
      "Found 16173 lines. Skipped 11. Loaded 16162 points.\n",
      "Fitness score:  0.8982566447556445\n",
      "Frame : 654\n",
      "Error--------: 125.36308568283485\n",
      "Latent error above the threshold of 1.2\n"
     ]
    },
    {
     "name": "stderr",
     "output_type": "stream",
     "text": [
      " 65%|██████▍   | 657/1014 [01:52<00:51,  6.94it/s]"
     ]
    },
    {
     "name": "stdout",
     "output_type": "stream",
     "text": [
      "Found 18084 lines. Skipped 11. Loaded 18073 points.\n",
      "Fitness score:  0.8915923222492566\n",
      "Frame : 655\n",
      "Error--------: 125.50036134510233\n",
      "Latent error above the threshold of 1.2\n",
      "Found 12515 lines. Skipped 11. Loaded 12504 points.\n",
      "Fitness score:  0.9100120212948651\n",
      "Frame : 656\n",
      "Error--------: 125.7401726041119\n",
      "Latent error above the threshold of 1.2\n"
     ]
    },
    {
     "name": "stderr",
     "output_type": "stream",
     "text": [
      " 65%|██████▍   | 659/1014 [01:52<00:47,  7.53it/s]"
     ]
    },
    {
     "name": "stdout",
     "output_type": "stream",
     "text": [
      "Found 13332 lines. Skipped 11. Loaded 13321 points.\n",
      "Fitness score:  0.905954552993863\n",
      "Frame : 657\n",
      "Error--------: 125.88625856766087\n",
      "Latent error above the threshold of 1.2\n",
      "Found 15510 lines. Skipped 11. Loaded 15499 points.\n",
      "Fitness score:  0.8826701646990235\n",
      "Frame : 658\n",
      "Error--------: 126.02119023764372\n",
      "Latent error above the threshold of 1.2\n"
     ]
    },
    {
     "name": "stderr",
     "output_type": "stream",
     "text": [
      " 65%|██████▌   | 660/1014 [01:52<00:48,  7.34it/s]"
     ]
    },
    {
     "name": "stdout",
     "output_type": "stream",
     "text": [
      "Found 13432 lines. Skipped 11. Loaded 13421 points.\n",
      "Fitness score:  0.8782934131736527\n",
      "Frame : 659\n",
      "Error--------: 127.49522593644551\n",
      "Latent error above the threshold of 1.2\n",
      "Found 17583 lines. Skipped 11. Loaded 17572 points.\n"
     ]
    },
    {
     "name": "stderr",
     "output_type": "stream",
     "text": [
      " 65%|██████▌   | 661/1014 [01:52<00:47,  7.38it/s]"
     ]
    },
    {
     "name": "stdout",
     "output_type": "stream",
     "text": [
      "Fitness score:  0.8398651495996629\n",
      "Frame : 660\n",
      "Error--------: 127.82562082977398\n",
      "Latent error above the threshold of 1.2\n",
      "Found 14861 lines. Skipped 11. Loaded 14850 points.\n"
     ]
    },
    {
     "name": "stderr",
     "output_type": "stream",
     "text": [
      " 65%|██████▌   | 663/1014 [01:53<00:54,  6.47it/s]"
     ]
    },
    {
     "name": "stdout",
     "output_type": "stream",
     "text": [
      "Fitness score:  0.8562470606678163\n",
      "Frame : 661\n",
      "Error--------: 127.9390094974319\n",
      "Latent error above the threshold of 1.2\n",
      "Found 16694 lines. Skipped 11. Loaded 16683 points.\n",
      "Fitness score:  0.839298445743619\n",
      "Frame : 662\n",
      "Error--------: 128.27221663126915\n",
      "Latent error above the threshold of 1.2\n",
      "Found 17777 lines. Skipped 11. Loaded 17766 points.\n"
     ]
    },
    {
     "name": "stderr",
     "output_type": "stream",
     "text": [
      " 66%|██████▌   | 665/1014 [01:53<00:49,  7.01it/s]"
     ]
    },
    {
     "name": "stdout",
     "output_type": "stream",
     "text": [
      "Fitness score:  0.8461327857631759\n",
      "Frame : 663\n",
      "Error--------: 128.7481119145804\n",
      "Latent error above the threshold of 1.2\n",
      "Found 14861 lines. Skipped 11. Loaded 14850 points.\n",
      "Fitness score:  0.8766338669408136\n",
      "Frame : 664\n",
      "Error--------: 129.41466946167745\n",
      "Latent error above the threshold of 1.2\n",
      "Found 16444 lines. Skipped 11. Loaded 16433 points.\n"
     ]
    },
    {
     "name": "stderr",
     "output_type": "stream",
     "text": [
      " 66%|██████▌   | 666/1014 [01:53<00:55,  6.26it/s]"
     ]
    },
    {
     "name": "stdout",
     "output_type": "stream",
     "text": [
      "Fitness score:  0.9022652799544094\n",
      "Frame : 665\n",
      "Error--------: 129.95975526009772\n",
      "Latent error above the threshold of 1.2\n",
      "Found 15417 lines. Skipped 11. Loaded 15406 points.\n"
     ]
    },
    {
     "name": "stderr",
     "output_type": "stream",
     "text": [
      " 66%|██████▌   | 667/1014 [01:54<01:16,  4.52it/s]"
     ]
    },
    {
     "name": "stdout",
     "output_type": "stream",
     "text": [
      "Fitness score:  0.8992520897492301\n",
      "Frame : 666\n",
      "Error--------: 129.64886520004663\n",
      "Latent error above the threshold of 1.2\n",
      "Found 15417 lines. Skipped 11. Loaded 15406 points.\n"
     ]
    },
    {
     "name": "stderr",
     "output_type": "stream",
     "text": [
      " 66%|██████▌   | 669/1014 [01:54<01:09,  4.98it/s]"
     ]
    },
    {
     "name": "stdout",
     "output_type": "stream",
     "text": [
      "Fitness score:  0.899545387886787\n",
      "Frame : 667\n",
      "Error--------: 130.17813849266687\n",
      "Latent error above the threshold of 1.2\n",
      "Found 19133 lines. Skipped 11. Loaded 19122 points.\n",
      "Fitness score:  0.8908847184986595\n",
      "Frame : 668\n",
      "Error--------: 130.24996561450405\n",
      "Latent error above the threshold of 1.2\n",
      "Found 15172 lines. Skipped 11. Loaded 15161 points.\n"
     ]
    },
    {
     "name": "stderr",
     "output_type": "stream",
     "text": [
      " 66%|██████▌   | 671/1014 [01:54<00:55,  6.17it/s]"
     ]
    },
    {
     "name": "stdout",
     "output_type": "stream",
     "text": [
      "Fitness score:  0.9050007375719132\n",
      "Frame : 669\n",
      "Error--------: 130.3322285772319\n",
      "Latent error above the threshold of 1.2\n",
      "Found 12644 lines. Skipped 11. Loaded 12633 points.\n",
      "Fitness score:  0.9064546304957904\n",
      "Frame : 670\n",
      "Error--------: 129.81728663129775\n",
      "Latent error above the threshold of 1.2\n",
      "Found 15513 lines. Skipped 11. Loaded 15502 points.\n"
     ]
    },
    {
     "name": "stderr",
     "output_type": "stream",
     "text": [
      " 66%|██████▋   | 673/1014 [01:54<00:51,  6.64it/s]"
     ]
    },
    {
     "name": "stdout",
     "output_type": "stream",
     "text": [
      "Fitness score:  0.899023709902371\n",
      "Frame : 671\n",
      "Error--------: 131.09657187444438\n",
      "Latent error above the threshold of 1.2\n",
      "Found 16785 lines. Skipped 11. Loaded 16774 points.\n",
      "Fitness score:  0.9002184996358339\n",
      "Frame : 672\n",
      "Error--------: 130.55068029605425\n",
      "Latent error above the threshold of 1.2\n"
     ]
    },
    {
     "name": "stderr",
     "output_type": "stream",
     "text": [
      " 66%|██████▋   | 674/1014 [01:55<00:59,  5.68it/s]"
     ]
    },
    {
     "name": "stdout",
     "output_type": "stream",
     "text": [
      "Found 15707 lines. Skipped 11. Loaded 15696 points.\n",
      "Fitness score:  0.9085809581564585\n",
      "Frame : 673\n",
      "Error--------: 131.12307537633706\n",
      "Latent error above the threshold of 1.2\n",
      "Found 17027 lines. Skipped 11. Loaded 17016 points.\n"
     ]
    },
    {
     "name": "stderr",
     "output_type": "stream",
     "text": [
      " 67%|██████▋   | 676/1014 [01:55<00:54,  6.24it/s]"
     ]
    },
    {
     "name": "stdout",
     "output_type": "stream",
     "text": [
      "Fitness score:  0.899596156524161\n",
      "Frame : 674\n",
      "Error--------: 131.0936220715528\n",
      "Latent error above the threshold of 1.2\n",
      "Found 13122 lines. Skipped 11. Loaded 13111 points.\n",
      "Fitness score:  0.905988209742476\n",
      "Frame : 675\n",
      "Error--------: 131.41679582224526\n",
      "Latent error above the threshold of 1.2\n",
      "Found 20526 lines. Skipped 11. Loaded 20515 points.\n"
     ]
    },
    {
     "name": "stderr",
     "output_type": "stream",
     "text": [
      " 67%|██████▋   | 678/1014 [01:55<00:51,  6.54it/s]"
     ]
    },
    {
     "name": "stdout",
     "output_type": "stream",
     "text": [
      "Fitness score:  0.8910128766759591\n",
      "Frame : 676\n",
      "Error--------: 131.47881096255847\n",
      "Latent error above the threshold of 1.2\n",
      "Found 13555 lines. Skipped 11. Loaded 13544 points.\n",
      "Fitness score:  0.9143094841930116\n",
      "Frame : 677\n",
      "Error--------: 131.6341539365869\n",
      "Latent error above the threshold of 1.2\n",
      "Found 17206 lines. Skipped 11. Loaded 17195 points.\n"
     ]
    },
    {
     "name": "stderr",
     "output_type": "stream",
     "text": [
      " 67%|██████▋   | 679/1014 [01:55<00:49,  6.80it/s]"
     ]
    },
    {
     "name": "stdout",
     "output_type": "stream",
     "text": [
      "Fitness score:  0.8967522337257127\n",
      "Frame : 678\n",
      "Error--------: 131.77016886819226\n",
      "Latent error above the threshold of 1.2\n",
      "Found 13639 lines. Skipped 11. Loaded 13628 points.\n"
     ]
    },
    {
     "name": "stderr",
     "output_type": "stream",
     "text": [
      " 67%|██████▋   | 681/1014 [01:56<00:51,  6.41it/s]"
     ]
    },
    {
     "name": "stdout",
     "output_type": "stream",
     "text": [
      "Fitness score:  0.9012155716264041\n",
      "Frame : 679\n",
      "Error--------: 132.0140789193896\n",
      "Latent error above the threshold of 1.2\n",
      "Found 15803 lines. Skipped 11. Loaded 15792 points.\n",
      "Fitness score:  0.8980210891232124\n",
      "Frame : 680\n",
      "Error--------: 132.05744316796614\n",
      "Latent error above the threshold of 1.2\n",
      "Found 13164 lines. Skipped 11. Loaded 13153 points.\n"
     ]
    },
    {
     "name": "stderr",
     "output_type": "stream",
     "text": [
      " 67%|██████▋   | 683/1014 [01:56<00:45,  7.22it/s]"
     ]
    },
    {
     "name": "stdout",
     "output_type": "stream",
     "text": [
      "Fitness score:  0.9998487140695915\n",
      "Frame : 681\n",
      "Error--------: 131.9348808354836\n",
      "Latent error above the threshold of 1.2\n",
      "Found 14285 lines. Skipped 11. Loaded 14274 points.\n",
      "Fitness score:  0.8971585172364056\n",
      "Frame : 682\n",
      "Error--------: 132.7771083694146\n",
      "Latent error above the threshold of 1.2\n",
      "Found 15943 lines. Skipped 11. Loaded 15932 points.\n"
     ]
    },
    {
     "name": "stderr",
     "output_type": "stream",
     "text": [
      " 68%|██████▊   | 685/1014 [01:56<00:46,  7.12it/s]"
     ]
    },
    {
     "name": "stdout",
     "output_type": "stream",
     "text": [
      "Fitness score:  0.8989032620922385\n",
      "Frame : 683\n",
      "Error--------: 132.5540527227065\n",
      "Latent error above the threshold of 1.2\n",
      "Found 17520 lines. Skipped 11. Loaded 17509 points.\n",
      "Fitness score:  0.896041696013523\n",
      "Frame : 684\n",
      "Error--------: 132.9649084007481\n",
      "Latent error above the threshold of 1.2\n",
      "Found 15440 lines. Skipped 11. Loaded 15429 points.\n"
     ]
    },
    {
     "name": "stderr",
     "output_type": "stream",
     "text": [
      " 68%|██████▊   | 686/1014 [01:57<00:56,  5.85it/s]"
     ]
    },
    {
     "name": "stdout",
     "output_type": "stream",
     "text": [
      "Fitness score:  0.9115202867850741\n",
      "Frame : 685\n",
      "Error--------: 132.88342801519545\n",
      "Latent error above the threshold of 1.2\n",
      "Found 15614 lines. Skipped 11. Loaded 15603 points.\n"
     ]
    },
    {
     "name": "stderr",
     "output_type": "stream",
     "text": [
      " 68%|██████▊   | 688/1014 [01:57<00:55,  5.85it/s]"
     ]
    },
    {
     "name": "stdout",
     "output_type": "stream",
     "text": [
      "Fitness score:  0.9123434704830053\n",
      "Frame : 686\n",
      "Error--------: 133.0634443263397\n",
      "Latent error above the threshold of 1.2\n",
      "Found 15594 lines. Skipped 11. Loaded 15583 points.\n",
      "Fitness score:  0.9066331342345174\n",
      "Frame : 687\n",
      "Error--------: 133.16134340269417\n",
      "Latent error above the threshold of 1.2\n",
      "Found 17490 lines. Skipped 11. Loaded 17479 points.\n"
     ]
    },
    {
     "name": "stderr",
     "output_type": "stream",
     "text": [
      " 68%|██████▊   | 690/1014 [01:57<00:48,  6.68it/s]"
     ]
    },
    {
     "name": "stdout",
     "output_type": "stream",
     "text": [
      "Fitness score:  0.8934717678850803\n",
      "Frame : 688\n",
      "Error--------: 133.4660954375026\n",
      "Latent error above the threshold of 1.2\n",
      "Found 16792 lines. Skipped 11. Loaded 16781 points.\n",
      "Fitness score:  0.8958820093457944\n",
      "Frame : 689\n",
      "Error--------: 133.4514870834421\n",
      "Latent error above the threshold of 1.2\n",
      "Found 15899 lines. Skipped 11. Loaded 15888 points.\n"
     ]
    },
    {
     "name": "stderr",
     "output_type": "stream",
     "text": [
      " 68%|██████▊   | 692/1014 [01:57<00:46,  6.93it/s]"
     ]
    },
    {
     "name": "stdout",
     "output_type": "stream",
     "text": [
      "Fitness score:  0.9018698578908003\n",
      "Frame : 690\n",
      "Error--------: 133.8099517374906\n",
      "Latent error above the threshold of 1.2\n",
      "Found 17376 lines. Skipped 11. Loaded 17365 points.\n",
      "Fitness score:  0.8891535874439462\n",
      "Frame : 691\n",
      "Error--------: 133.7798175005444\n",
      "Latent error above the threshold of 1.2\n"
     ]
    },
    {
     "name": "stderr",
     "output_type": "stream",
     "text": [
      " 68%|██████▊   | 693/1014 [01:58<00:53,  5.95it/s]"
     ]
    },
    {
     "name": "stdout",
     "output_type": "stream",
     "text": [
      "Found 17387 lines. Skipped 11. Loaded 17376 points.\n",
      "Fitness score:  0.8976784178847808\n",
      "Frame : 692\n",
      "Error--------: 134.1891739539644\n",
      "Latent error above the threshold of 1.2\n",
      "Found 16996 lines. Skipped 11. Loaded 16985 points.\n"
     ]
    },
    {
     "name": "stderr",
     "output_type": "stream",
     "text": [
      " 69%|██████▊   | 695/1014 [01:58<00:52,  6.13it/s]"
     ]
    },
    {
     "name": "stdout",
     "output_type": "stream",
     "text": [
      "Fitness score:  0.8997095033891271\n",
      "Frame : 693\n",
      "Error--------: 135.7397832417622\n",
      "Latent error above the threshold of 1.2\n",
      "Found 15831 lines. Skipped 11. Loaded 15820 points.\n",
      "Fitness score:  0.8789190803224843\n",
      "Frame : 694\n",
      "Error--------: 134.58248295201847\n",
      "Latent error above the threshold of 1.2\n",
      "Found 13325 lines. Skipped 11. Loaded 13314 points.\n"
     ]
    },
    {
     "name": "stderr",
     "output_type": "stream",
     "text": [
      " 69%|██████▊   | 697/1014 [01:58<00:45,  6.90it/s]"
     ]
    },
    {
     "name": "stdout",
     "output_type": "stream",
     "text": [
      "Fitness score:  0.9070394072078141\n",
      "Frame : 695\n",
      "Error--------: 134.38064854314788\n",
      "Latent error above the threshold of 1.2\n",
      "Found 14037 lines. Skipped 11. Loaded 14026 points.\n",
      "Fitness score:  0.8984447900466563\n",
      "Frame : 696\n",
      "Error--------: 134.7144667338521\n",
      "Latent error above the threshold of 1.2\n",
      "Found 12565 lines. Skipped 11. Loaded 12554 points.\n"
     ]
    },
    {
     "name": "stderr",
     "output_type": "stream",
     "text": [
      " 69%|██████▉   | 698/1014 [01:58<00:45,  6.89it/s]"
     ]
    },
    {
     "name": "stdout",
     "output_type": "stream",
     "text": [
      "Fitness score:  0.9050611974859412\n",
      "Frame : 697\n",
      "Error--------: 134.78646108560562\n",
      "Latent error above the threshold of 1.2\n",
      "Found 14109 lines. Skipped 11. Loaded 14098 points.\n"
     ]
    },
    {
     "name": "stderr",
     "output_type": "stream",
     "text": [
      " 69%|██████▉   | 700/1014 [01:59<00:49,  6.32it/s]"
     ]
    },
    {
     "name": "stdout",
     "output_type": "stream",
     "text": [
      "Fitness score:  0.8946135831381733\n",
      "Frame : 698\n",
      "Error--------: 134.9496041004252\n",
      "Latent error above the threshold of 1.2\n",
      "Found 14312 lines. Skipped 11. Loaded 14301 points.\n",
      "Fitness score:  0.9073642119293569\n",
      "Frame : 699\n",
      "Error--------: 135.19114436417527\n",
      "Latent error above the threshold of 1.2\n",
      "Found 14722 lines. Skipped 11. Loaded 14711 points.\n"
     ]
    },
    {
     "name": "stderr",
     "output_type": "stream",
     "text": [
      " 69%|██████▉   | 702/1014 [01:59<00:48,  6.39it/s]"
     ]
    },
    {
     "name": "stdout",
     "output_type": "stream",
     "text": [
      "Fitness score:  0.8940284653465347\n",
      "Frame : 700\n",
      "Error--------: 135.20493837329454\n",
      "Latent error above the threshold of 1.2\n",
      "Found 17353 lines. Skipped 11. Loaded 17342 points.\n",
      "Fitness score:  0.9034359224881942\n",
      "Frame : 701\n",
      "Error--------: 135.6010102644372\n",
      "Latent error above the threshold of 1.2\n"
     ]
    },
    {
     "name": "stderr",
     "output_type": "stream",
     "text": [
      " 69%|██████▉   | 704/1014 [01:59<00:43,  7.14it/s]"
     ]
    },
    {
     "name": "stdout",
     "output_type": "stream",
     "text": [
      "Found 16252 lines. Skipped 11. Loaded 16241 points.\n",
      "Fitness score:  0.886611426079372\n",
      "Frame : 702\n",
      "Error--------: 135.62176834931972\n",
      "Latent error above the threshold of 1.2\n",
      "Found 14248 lines. Skipped 11. Loaded 14237 points.\n",
      "Fitness score:  0.8949173682569379\n",
      "Frame : 703\n",
      "Error--------: 136.1466567279714\n",
      "Latent error above the threshold of 1.2\n"
     ]
    },
    {
     "name": "stderr",
     "output_type": "stream",
     "text": [
      " 70%|██████▉   | 705/1014 [01:59<00:40,  7.54it/s]"
     ]
    },
    {
     "name": "stdout",
     "output_type": "stream",
     "text": [
      "Found 14967 lines. Skipped 11. Loaded 14956 points.\n",
      "Fitness score:  0.8807039401962311\n",
      "Frame : 704\n",
      "Error--------: 137.29679982019405\n",
      "Latent error above the threshold of 1.2\n"
     ]
    },
    {
     "name": "stderr",
     "output_type": "stream",
     "text": [
      " 70%|██████▉   | 706/1014 [02:00<00:49,  6.25it/s]"
     ]
    },
    {
     "name": "stdout",
     "output_type": "stream",
     "text": [
      "Found 16461 lines. Skipped 11. Loaded 16450 points.\n",
      "Fitness score:  0.850679482930063\n",
      "Frame : 705\n",
      "Error--------: 138.1242997345\n",
      "Latent error above the threshold of 1.2\n",
      "Found 15690 lines. Skipped 11. Loaded 15679 points.\n"
     ]
    },
    {
     "name": "stderr",
     "output_type": "stream",
     "text": [
      " 70%|██████▉   | 708/1014 [02:00<00:46,  6.55it/s]"
     ]
    },
    {
     "name": "stdout",
     "output_type": "stream",
     "text": [
      "Fitness score:  0.834031727027836\n",
      "Frame : 706\n",
      "Error--------: 138.15501168377577\n",
      "Latent error above the threshold of 1.2\n",
      "Found 18022 lines. Skipped 11. Loaded 18011 points.\n",
      "Fitness score:  0.827020202020202\n",
      "Frame : 707\n",
      "Error--------: 138.26233614789845\n",
      "Latent error above the threshold of 1.2\n",
      "Found 15626 lines. Skipped 11. Loaded 15615 points.\n"
     ]
    },
    {
     "name": "stderr",
     "output_type": "stream",
     "text": [
      " 70%|███████   | 710/1014 [02:00<00:41,  7.29it/s]"
     ]
    },
    {
     "name": "stdout",
     "output_type": "stream",
     "text": [
      "Fitness score:  0.8444408584799097\n",
      "Frame : 708\n",
      "Error--------: 138.31517013502702\n",
      "Latent error above the threshold of 1.2\n",
      "Found 13331 lines. Skipped 11. Loaded 13320 points.\n",
      "Fitness score:  0.8480635551142006\n",
      "Frame : 709\n",
      "Error--------: 138.73156376814242\n",
      "Latent error above the threshold of 1.2\n",
      "Found 16868 lines. Skipped 11. Loaded 16857 points.\n"
     ]
    },
    {
     "name": "stderr",
     "output_type": "stream",
     "text": [
      " 70%|███████   | 711/1014 [02:00<00:41,  7.24it/s]"
     ]
    },
    {
     "name": "stdout",
     "output_type": "stream",
     "text": [
      "Fitness score:  0.8425778421433744\n",
      "Frame : 710\n",
      "Error--------: 139.179478397698\n",
      "Latent error above the threshold of 1.2\n",
      "Found 15749 lines. Skipped 11. Loaded 15738 points.\n"
     ]
    },
    {
     "name": "stderr",
     "output_type": "stream",
     "text": [
      " 70%|███████   | 713/1014 [02:01<00:46,  6.49it/s]"
     ]
    },
    {
     "name": "stdout",
     "output_type": "stream",
     "text": [
      "Fitness score:  0.8551248357424441\n",
      "Frame : 711\n",
      "Error--------: 139.0329271327125\n",
      "Latent error above the threshold of 1.2\n",
      "Found 15488 lines. Skipped 11. Loaded 15477 points.\n",
      "Fitness score:  0.8456549935149157\n",
      "Frame : 712\n",
      "Error--------: 139.81507481246527\n",
      "Latent error above the threshold of 1.2\n",
      "Found 12814 lines. Skipped 11. Loaded 12803 points.\n"
     ]
    },
    {
     "name": "stderr",
     "output_type": "stream",
     "text": [
      " 71%|███████   | 715/1014 [02:01<00:40,  7.44it/s]"
     ]
    },
    {
     "name": "stdout",
     "output_type": "stream",
     "text": [
      "Fitness score:  0.8711162255466053\n",
      "Frame : 713\n",
      "Error--------: 139.50178835059776\n",
      "Latent error above the threshold of 1.2\n",
      "Found 15968 lines. Skipped 11. Loaded 15957 points.\n",
      "Fitness score:  0.8687369937570033\n",
      "Frame : 714\n",
      "Error--------: 140.23385875188777\n",
      "Latent error above the threshold of 1.2\n",
      "Found 15233 lines. Skipped 11. Loaded 15222 points.\n"
     ]
    },
    {
     "name": "stderr",
     "output_type": "stream",
     "text": [
      " 71%|███████   | 717/1014 [02:01<00:40,  7.26it/s]"
     ]
    },
    {
     "name": "stdout",
     "output_type": "stream",
     "text": [
      "Fitness score:  0.9157214644651831\n",
      "Frame : 715\n",
      "Error--------: 139.75251601991368\n",
      "Latent error above the threshold of 1.2\n",
      "Found 15895 lines. Skipped 11. Loaded 15884 points.\n",
      "Fitness score:  0.8691440138808559\n",
      "Frame : 716\n",
      "Error--------: 140.89921658743992\n",
      "Latent error above the threshold of 1.2\n"
     ]
    },
    {
     "name": "stderr",
     "output_type": "stream",
     "text": [
      " 71%|███████   | 718/1014 [02:01<00:49,  5.97it/s]"
     ]
    },
    {
     "name": "stdout",
     "output_type": "stream",
     "text": [
      "Found 14495 lines. Skipped 11. Loaded 14484 points.\n",
      "Fitness score:  0.8966818682182733\n",
      "Frame : 717\n",
      "Error--------: 140.96295931532205\n",
      "Latent error above the threshold of 1.2\n",
      "Found 15815 lines. Skipped 11. Loaded 15804 points.\n"
     ]
    },
    {
     "name": "stderr",
     "output_type": "stream",
     "text": [
      " 71%|███████   | 720/1014 [02:02<00:42,  6.87it/s]"
     ]
    },
    {
     "name": "stdout",
     "output_type": "stream",
     "text": [
      "Fitness score:  0.9108592692828146\n",
      "Frame : 718\n",
      "Error--------: 141.1127381940372\n",
      "Latent error above the threshold of 1.2\n",
      "Found 11385 lines. Skipped 11. Loaded 11374 points.\n",
      "Fitness score:  0.9145223827987311\n",
      "Frame : 719\n",
      "Error--------: 141.46446205856668\n",
      "Latent error above the threshold of 1.2\n"
     ]
    },
    {
     "name": "stderr",
     "output_type": "stream",
     "text": [
      " 71%|███████   | 721/1014 [02:02<00:46,  6.30it/s]"
     ]
    },
    {
     "name": "stdout",
     "output_type": "stream",
     "text": [
      "Found 13347 lines. Skipped 11. Loaded 13336 points.\n",
      "Fitness score:  0.9112008072653885\n",
      "Frame : 720\n",
      "Error--------: 141.5806606996609\n",
      "Latent error above the threshold of 1.2\n",
      "Found 14614 lines. Skipped 11. Loaded 14603 points.\n"
     ]
    },
    {
     "name": "stderr",
     "output_type": "stream",
     "text": [
      " 71%|███████▏  | 723/1014 [02:02<00:43,  6.73it/s]"
     ]
    },
    {
     "name": "stdout",
     "output_type": "stream",
     "text": [
      "Fitness score:  0.9119423012411942\n",
      "Frame : 721\n",
      "Error--------: 141.74043873196166\n",
      "Latent error above the threshold of 1.2\n",
      "Found 14733 lines. Skipped 11. Loaded 14722 points.\n",
      "Fitness score:  0.9161957048280317\n",
      "Frame : 722\n",
      "Error--------: 142.00932035838548\n",
      "Latent error above the threshold of 1.2\n",
      "Found 17346 lines. Skipped 11. Loaded 17335 points.\n"
     ]
    },
    {
     "name": "stderr",
     "output_type": "stream",
     "text": [
      " 71%|███████▏  | 724/1014 [02:02<00:45,  6.44it/s]"
     ]
    },
    {
     "name": "stdout",
     "output_type": "stream",
     "text": [
      "Fitness score:  0.9179902260232132\n",
      "Frame : 723\n",
      "Error--------: 142.21079172236585\n",
      "Latent error above the threshold of 1.2\n",
      "Found 14773 lines. Skipped 11. Loaded 14762 points.\n"
     ]
    },
    {
     "name": "stderr",
     "output_type": "stream",
     "text": [
      " 72%|███████▏  | 726/1014 [02:03<00:52,  5.53it/s]"
     ]
    },
    {
     "name": "stdout",
     "output_type": "stream",
     "text": [
      "Fitness score:  0.9192196065785231\n",
      "Frame : 724\n",
      "Error--------: 142.1957571102053\n",
      "Latent error above the threshold of 1.2\n",
      "Found 13042 lines. Skipped 11. Loaded 13031 points.\n",
      "Fitness score:  0.9214322077040557\n",
      "Frame : 725\n",
      "Error--------: 142.40892382262732\n",
      "Latent error above the threshold of 1.2\n"
     ]
    },
    {
     "name": "stderr",
     "output_type": "stream",
     "text": [
      " 72%|███████▏  | 727/1014 [02:03<00:46,  6.12it/s]"
     ]
    },
    {
     "name": "stdout",
     "output_type": "stream",
     "text": [
      "Found 14700 lines. Skipped 11. Loaded 14689 points.\n",
      "Fitness score:  0.9080981421075025\n",
      "Frame : 726\n",
      "Error--------: 142.2280249672065\n",
      "Latent error above the threshold of 1.2\n",
      "Found 12849 lines. Skipped 11. Loaded 12838 points.\n"
     ]
    },
    {
     "name": "stderr",
     "output_type": "stream",
     "text": [
      " 72%|███████▏  | 729/1014 [02:03<00:45,  6.32it/s]"
     ]
    },
    {
     "name": "stdout",
     "output_type": "stream",
     "text": [
      "Fitness score:  0.9297653216275537\n",
      "Frame : 727\n",
      "Error--------: 142.91926372493046\n",
      "Latent error above the threshold of 1.2\n",
      "Found 14230 lines. Skipped 11. Loaded 14219 points.\n",
      "Fitness score:  0.9277461350691619\n",
      "Frame : 728\n",
      "Error--------: 142.8076017868412\n",
      "Latent error above the threshold of 1.2\n",
      "Found 15678 lines. Skipped 11. Loaded 15667 points.\n"
     ]
    },
    {
     "name": "stderr",
     "output_type": "stream",
     "text": [
      " 72%|███████▏  | 731/1014 [02:04<00:41,  6.81it/s]"
     ]
    },
    {
     "name": "stdout",
     "output_type": "stream",
     "text": [
      "Fitness score:  0.9306242274412856\n",
      "Frame : 729\n",
      "Error--------: 143.27146483533642\n",
      "Latent error above the threshold of 1.2\n",
      "Found 15678 lines. Skipped 11. Loaded 15667 points.\n",
      "Fitness score:  0.9276885043263288\n",
      "Frame : 730\n",
      "Error--------: 143.50920276206537\n",
      "Latent error above the threshold of 1.2\n"
     ]
    },
    {
     "name": "stderr",
     "output_type": "stream",
     "text": [
      " 72%|███████▏  | 732/1014 [02:04<00:49,  5.72it/s]"
     ]
    },
    {
     "name": "stdout",
     "output_type": "stream",
     "text": [
      "Found 19337 lines. Skipped 11. Loaded 19326 points.\n",
      "Fitness score:  0.9265110885635599\n",
      "Frame : 731\n",
      "Error--------: 143.66972110406212\n",
      "Latent error above the threshold of 1.2\n",
      "Found 16139 lines. Skipped 11. Loaded 16128 points.\n"
     ]
    },
    {
     "name": "stderr",
     "output_type": "stream",
     "text": [
      " 72%|███████▏  | 734/1014 [02:04<00:40,  6.85it/s]"
     ]
    },
    {
     "name": "stdout",
     "output_type": "stream",
     "text": [
      "Fitness score:  0.935494433529797\n",
      "Frame : 732\n",
      "Error--------: 143.7854360379533\n",
      "Latent error above the threshold of 1.2\n",
      "Found 13272 lines. Skipped 11. Loaded 13261 points.\n",
      "Fitness score:  0.9394457748888129\n",
      "Frame : 733\n",
      "Error--------: 143.82672962282518\n",
      "Latent error above the threshold of 1.2\n",
      "Found 15052 lines. Skipped 11. Loaded 15041 points.\n"
     ]
    },
    {
     "name": "stderr",
     "output_type": "stream",
     "text": [
      " 73%|███████▎  | 736/1014 [02:04<00:39,  7.13it/s]"
     ]
    },
    {
     "name": "stdout",
     "output_type": "stream",
     "text": [
      "Fitness score:  0.9336655247586422\n",
      "Frame : 734\n",
      "Error--------: 144.1232748238047\n",
      "Latent error above the threshold of 1.2\n",
      "Found 16732 lines. Skipped 11. Loaded 16721 points.\n",
      "Fitness score:  0.9411458333333333\n",
      "Frame : 735\n",
      "Error--------: 144.0170456668173\n",
      "Latent error above the threshold of 1.2\n",
      "Found 15301 lines. Skipped 11. Loaded 15290 points.\n"
     ]
    },
    {
     "name": "stderr",
     "output_type": "stream",
     "text": [
      " 73%|███████▎  | 737/1014 [02:04<00:40,  6.83it/s]"
     ]
    },
    {
     "name": "stdout",
     "output_type": "stream",
     "text": [
      "Fitness score:  0.9354627354627355\n",
      "Frame : 736\n",
      "Error--------: 144.26914057839625\n",
      "Latent error above the threshold of 1.2\n",
      "Found 15454 lines. Skipped 11. Loaded 15443 points.\n"
     ]
    },
    {
     "name": "stderr",
     "output_type": "stream",
     "text": [
      " 73%|███████▎  | 738/1014 [02:05<00:48,  5.69it/s]"
     ]
    },
    {
     "name": "stdout",
     "output_type": "stream",
     "text": [
      "Fitness score:  0.9142142436727487\n",
      "Frame : 737\n",
      "Error--------: 145.30514818026916\n",
      "Latent error above the threshold of 1.2\n",
      "Found 16005 lines. Skipped 11. Loaded 15994 points.\n"
     ]
    },
    {
     "name": "stderr",
     "output_type": "stream",
     "text": [
      " 73%|███████▎  | 740/1014 [02:05<00:47,  5.80it/s]"
     ]
    },
    {
     "name": "stdout",
     "output_type": "stream",
     "text": [
      "Fitness score:  0.9126335637963545\n",
      "Frame : 738\n",
      "Error--------: 145.04252240835524\n",
      "Latent error above the threshold of 1.2\n",
      "Found 16005 lines. Skipped 11. Loaded 15994 points.\n",
      "Fitness score:  0.9330609679446888\n",
      "Frame : 739\n",
      "Error--------: 144.71313705058876\n",
      "Latent error above the threshold of 1.2\n",
      "Found 18383 lines. Skipped 11. Loaded 18372 points.\n"
     ]
    },
    {
     "name": "stderr",
     "output_type": "stream",
     "text": [
      " 73%|███████▎  | 742/1014 [02:05<00:40,  6.73it/s]"
     ]
    },
    {
     "name": "stdout",
     "output_type": "stream",
     "text": [
      "Fitness score:  0.9320754716981132\n",
      "Frame : 740\n",
      "Error--------: 145.3390645812338\n",
      "Latent error above the threshold of 1.2\n",
      "Found 12198 lines. Skipped 11. Loaded 12187 points.\n",
      "Fitness score:  0.9335903276677764\n",
      "Frame : 741\n",
      "Error--------: 145.0852296116201\n",
      "Latent error above the threshold of 1.2\n",
      "Found 14439 lines. Skipped 11. Loaded 14428 points.\n"
     ]
    },
    {
     "name": "stderr",
     "output_type": "stream",
     "text": [
      " 73%|███████▎  | 744/1014 [02:06<00:37,  7.17it/s]"
     ]
    },
    {
     "name": "stdout",
     "output_type": "stream",
     "text": [
      "Fitness score:  0.932214437021346\n",
      "Frame : 742\n",
      "Error--------: 145.5944054308353\n",
      "Latent error above the threshold of 1.2\n",
      "Found 14450 lines. Skipped 11. Loaded 14439 points.\n",
      "Fitness score:  0.9331578947368421\n",
      "Frame : 743\n",
      "Error--------: 145.4954190123394\n",
      "Latent error above the threshold of 1.2\n"
     ]
    },
    {
     "name": "stderr",
     "output_type": "stream",
     "text": [
      " 73%|███████▎  | 745/1014 [02:06<00:42,  6.32it/s]"
     ]
    },
    {
     "name": "stdout",
     "output_type": "stream",
     "text": [
      "Found 14593 lines. Skipped 11. Loaded 14582 points.\n",
      "Fitness score:  0.9268785596178578\n",
      "Frame : 744\n",
      "Error--------: 146.24685240100243\n",
      "Latent error above the threshold of 1.2\n",
      "Found 11604 lines. Skipped 11. Loaded 11593 points.\n"
     ]
    },
    {
     "name": "stderr",
     "output_type": "stream",
     "text": [
      " 74%|███████▎  | 747/1014 [02:06<00:42,  6.28it/s]"
     ]
    },
    {
     "name": "stdout",
     "output_type": "stream",
     "text": [
      "Fitness score:  0.9066994037179937\n",
      "Frame : 745\n",
      "Error--------: 146.44924981589992\n",
      "Latent error above the threshold of 1.2\n",
      "Found 15267 lines. Skipped 11. Loaded 15256 points.\n",
      "Fitness score:  0.9102868627809245\n",
      "Frame : 746\n",
      "Error--------: 146.96732334404982\n",
      "Latent error above the threshold of 1.2\n"
     ]
    },
    {
     "name": "stderr",
     "output_type": "stream",
     "text": [
      " 74%|███████▍  | 748/1014 [02:06<00:41,  6.36it/s]"
     ]
    },
    {
     "name": "stdout",
     "output_type": "stream",
     "text": [
      "Found 16080 lines. Skipped 11. Loaded 16069 points.\n",
      "Fitness score:  0.8999832747951162\n",
      "Frame : 747\n",
      "Error--------: 146.89274750189043\n",
      "Latent error above the threshold of 1.2\n",
      "Found 17031 lines. Skipped 11. Loaded 17020 points.\n"
     ]
    },
    {
     "name": "stderr",
     "output_type": "stream",
     "text": [
      " 74%|███████▍  | 750/1014 [02:07<00:38,  6.81it/s]"
     ]
    },
    {
     "name": "stdout",
     "output_type": "stream",
     "text": [
      "Fitness score:  0.91123579341102\n",
      "Frame : 748\n",
      "Error--------: 147.24016871262438\n",
      "Latent error above the threshold of 1.2\n",
      "Found 16380 lines. Skipped 11. Loaded 16369 points.\n",
      "Fitness score:  0.902232746955345\n",
      "Frame : 749\n",
      "Error--------: 147.4392726964822\n",
      "Latent error above the threshold of 1.2\n",
      "Found 14661 lines. Skipped 11. Loaded 14650 points.\n"
     ]
    },
    {
     "name": "stderr",
     "output_type": "stream",
     "text": [
      " 74%|███████▍  | 751/1014 [02:07<00:45,  5.78it/s]"
     ]
    },
    {
     "name": "stdout",
     "output_type": "stream",
     "text": [
      "Fitness score:  0.9003011040481766\n",
      "Frame : 750\n",
      "Error--------: 147.8670138783219\n",
      "Latent error above the threshold of 1.2\n",
      "Found 15669 lines. Skipped 11. Loaded 15658 points.\n"
     ]
    },
    {
     "name": "stderr",
     "output_type": "stream",
     "text": [
      " 74%|███████▍  | 753/1014 [02:07<00:44,  5.92it/s]"
     ]
    },
    {
     "name": "stdout",
     "output_type": "stream",
     "text": [
      "Fitness score:  0.8973365617433414\n",
      "Frame : 751\n",
      "Error--------: 147.7874093072996\n",
      "Latent error above the threshold of 1.2\n",
      "Found 14644 lines. Skipped 11. Loaded 14633 points.\n",
      "Fitness score:  0.9374281491213664\n",
      "Frame : 752\n",
      "Error--------: 149.18171568518082\n",
      "Latent error above the threshold of 1.2\n",
      "Found 17017 lines. Skipped 11. Loaded 17006 points.\n"
     ]
    },
    {
     "name": "stderr",
     "output_type": "stream",
     "text": [
      " 74%|███████▍  | 755/1014 [02:07<00:37,  6.93it/s]"
     ]
    },
    {
     "name": "stdout",
     "output_type": "stream",
     "text": [
      "Fitness score:  0.9607771926638823\n",
      "Frame : 753\n",
      "Error--------: 148.65147502284307\n",
      "Latent error above the threshold of 1.2\n",
      "Found 11638 lines. Skipped 11. Loaded 11627 points.\n",
      "Fitness score:  0.965001891789633\n",
      "Frame : 754\n",
      "Error--------: 149.68434690638145\n",
      "Latent error above the threshold of 1.2\n",
      "Found 15802 lines. Skipped 11. Loaded 15791 points.\n"
     ]
    },
    {
     "name": "stderr",
     "output_type": "stream",
     "text": [
      " 75%|███████▍  | 757/1014 [02:08<00:35,  7.16it/s]"
     ]
    },
    {
     "name": "stdout",
     "output_type": "stream",
     "text": [
      "Fitness score:  0.9634628044766294\n",
      "Frame : 755\n",
      "Error--------: 149.0891534260961\n",
      "Latent error above the threshold of 1.2\n",
      "Found 15356 lines. Skipped 11. Loaded 15345 points.\n",
      "Fitness score:  0.9653532608695652\n",
      "Frame : 756\n",
      "Error--------: 149.88012199188705\n",
      "Latent error above the threshold of 1.2\n"
     ]
    },
    {
     "name": "stderr",
     "output_type": "stream",
     "text": [
      " 75%|███████▍  | 758/1014 [02:08<00:43,  5.90it/s]"
     ]
    },
    {
     "name": "stdout",
     "output_type": "stream",
     "text": [
      "Found 15854 lines. Skipped 11. Loaded 15843 points.\n",
      "Fitness score:  0.9611778253002139\n",
      "Frame : 757\n",
      "Error--------: 149.33996152410083\n",
      "Latent error above the threshold of 1.2\n",
      "Found 14294 lines. Skipped 11. Loaded 14283 points.\n"
     ]
    },
    {
     "name": "stderr",
     "output_type": "stream",
     "text": [
      " 75%|███████▍  | 760/1014 [02:08<00:37,  6.69it/s]"
     ]
    },
    {
     "name": "stdout",
     "output_type": "stream",
     "text": [
      "Fitness score:  0.960960960960961\n",
      "Frame : 758\n",
      "Error--------: 149.9552667678248\n",
      "Latent error above the threshold of 1.2\n",
      "Found 17031 lines. Skipped 11. Loaded 17020 points.\n",
      "Fitness score:  0.9128182995252482\n",
      "Frame : 759\n",
      "Error--------: 148.68934238945684\n",
      "Latent error above the threshold of 1.2\n",
      "Found 16267 lines. Skipped 11. Loaded 16256 points.\n"
     ]
    },
    {
     "name": "stderr",
     "output_type": "stream",
     "text": [
      " 75%|███████▌  | 762/1014 [02:08<00:33,  7.57it/s]"
     ]
    },
    {
     "name": "stdout",
     "output_type": "stream",
     "text": [
      "Fitness score:  0.9628576506131153\n",
      "Frame : 760\n",
      "Error--------: 151.17094174037544\n",
      "Latent error above the threshold of 1.2\n",
      "Found 12335 lines. Skipped 11. Loaded 12324 points.\n",
      "Fitness score:  0.9663850440409851\n",
      "Frame : 761\n",
      "Error--------: 149.93591733464834\n",
      "Latent error above the threshold of 1.2\n",
      "Found 16006 lines. Skipped 11. Loaded 15995 points.\n"
     ]
    },
    {
     "name": "stderr",
     "output_type": "stream",
     "text": [
      " 75%|███████▌  | 763/1014 [02:08<00:35,  7.13it/s]"
     ]
    },
    {
     "name": "stdout",
     "output_type": "stream",
     "text": [
      "Fitness score:  0.9579736113373514\n",
      "Frame : 762\n",
      "Error--------: 150.60905773990214\n",
      "Latent error above the threshold of 1.2\n",
      "Found 15301 lines. Skipped 11. Loaded 15290 points.\n"
     ]
    },
    {
     "name": "stderr",
     "output_type": "stream",
     "text": [
      " 75%|███████▌  | 765/1014 [02:09<00:40,  6.15it/s]"
     ]
    },
    {
     "name": "stdout",
     "output_type": "stream",
     "text": [
      "Fitness score:  0.9639606167564555\n",
      "Frame : 763\n",
      "Error--------: 150.54478850634774\n",
      "Latent error above the threshold of 1.2\n",
      "Found 15598 lines. Skipped 11. Loaded 15587 points.\n",
      "Fitness score:  0.9585519412381952\n",
      "Frame : 764\n",
      "Error--------: 150.5516364824616\n",
      "Latent error above the threshold of 1.2\n"
     ]
    },
    {
     "name": "stderr",
     "output_type": "stream",
     "text": [
      " 76%|███████▌  | 766/1014 [02:09<00:39,  6.22it/s]"
     ]
    },
    {
     "name": "stdout",
     "output_type": "stream",
     "text": [
      "Found 15949 lines. Skipped 11. Loaded 15938 points.\n",
      "Fitness score:  0.9557743658210948\n",
      "Frame : 765\n",
      "Error--------: 150.98441101223497\n",
      "Latent error above the threshold of 1.2\n",
      "Found 13250 lines. Skipped 11. Loaded 13239 points.\n",
      "Fitness score:  0.9606398274622574\n"
     ]
    },
    {
     "name": "stderr",
     "output_type": "stream",
     "text": [
      " 76%|███████▌  | 768/1014 [02:09<00:34,  7.23it/s]"
     ]
    },
    {
     "name": "stdout",
     "output_type": "stream",
     "text": [
      "Frame : 766\n",
      "Error--------: 150.74797695885908\n",
      "Latent error above the threshold of 1.2\n",
      "Found 15353 lines. Skipped 11. Loaded 15342 points.\n",
      "Fitness score:  0.9505849484896106\n",
      "Frame : 767\n",
      "Error--------: 151.18743880522584\n",
      "Latent error above the threshold of 1.2\n",
      "Found 13977 lines. Skipped 11. Loaded 13966 points.\n"
     ]
    },
    {
     "name": "stderr",
     "output_type": "stream",
     "text": [
      " 76%|███████▌  | 770/1014 [02:10<00:35,  6.82it/s]"
     ]
    },
    {
     "name": "stdout",
     "output_type": "stream",
     "text": [
      "Fitness score:  0.96068669527897\n",
      "Frame : 768\n",
      "Error--------: 150.9403114446577\n",
      "Latent error above the threshold of 1.2\n",
      "Found 14913 lines. Skipped 11. Loaded 14902 points.\n",
      "Fitness score:  0.9555431547619048\n",
      "Frame : 769\n",
      "Error--------: 151.43500843569655\n",
      "Latent error above the threshold of 1.2\n"
     ]
    },
    {
     "name": "stderr",
     "output_type": "stream",
     "text": [
      " 76%|███████▌  | 772/1014 [02:10<00:36,  6.60it/s]"
     ]
    },
    {
     "name": "stdout",
     "output_type": "stream",
     "text": [
      "Found 12946 lines. Skipped 11. Loaded 12935 points.\n",
      "Fitness score:  0.9215843489416292\n",
      "Frame : 770\n",
      "Error--------: 151.02378723072596\n",
      "Latent error above the threshold of 1.2\n",
      "Found 13417 lines. Skipped 11. Loaded 13406 points.\n",
      "Fitness score:  0.9562759140595553\n",
      "Frame : 771\n",
      "Error--------: 151.5191337423683\n",
      "Latent error above the threshold of 1.2\n"
     ]
    },
    {
     "name": "stderr",
     "output_type": "stream",
     "text": [
      " 76%|███████▌  | 773/1014 [02:10<00:35,  6.84it/s]"
     ]
    },
    {
     "name": "stdout",
     "output_type": "stream",
     "text": [
      "Found 13933 lines. Skipped 11. Loaded 13922 points.\n",
      "Fitness score:  0.9541825095057034\n",
      "Frame : 772\n",
      "Error--------: 151.8741864246415\n",
      "Latent error above the threshold of 1.2\n",
      "Found 11380 lines. Skipped 11. Loaded 11369 points.\n"
     ]
    },
    {
     "name": "stderr",
     "output_type": "stream",
     "text": [
      " 76%|███████▋  | 775/1014 [02:10<00:36,  6.63it/s]"
     ]
    },
    {
     "name": "stdout",
     "output_type": "stream",
     "text": [
      "Fitness score:  0.9560236511456024\n",
      "Frame : 773\n",
      "Error--------: 151.6539335825407\n",
      "Latent error above the threshold of 1.2\n",
      "Found 16057 lines. Skipped 11. Loaded 16046 points.\n",
      "Fitness score:  0.9488182281924843\n",
      "Frame : 774\n",
      "Error--------: 152.35723236218774\n",
      "Latent error above the threshold of 1.2\n"
     ]
    },
    {
     "name": "stderr",
     "output_type": "stream",
     "text": [
      " 77%|███████▋  | 777/1014 [02:11<00:31,  7.61it/s]"
     ]
    },
    {
     "name": "stdout",
     "output_type": "stream",
     "text": [
      "Found 13592 lines. Skipped 11. Loaded 13581 points.\n",
      "Fitness score:  0.9566112159149374\n",
      "Frame : 775\n",
      "Error--------: 151.81171818692226\n",
      "Latent error above the threshold of 1.2\n",
      "Found 11650 lines. Skipped 11. Loaded 11639 points.\n",
      "Fitness score:  0.9565217391304348\n",
      "Frame : 776\n",
      "Error--------: 152.67126563600823\n",
      "Latent error above the threshold of 1.2\n"
     ]
    },
    {
     "name": "stderr",
     "output_type": "stream",
     "text": [
      " 77%|███████▋  | 779/1014 [02:11<00:33,  6.95it/s]"
     ]
    },
    {
     "name": "stdout",
     "output_type": "stream",
     "text": [
      "Found 13020 lines. Skipped 11. Loaded 13009 points.\n",
      "Fitness score:  0.9529390551749009\n",
      "Frame : 777\n",
      "Error--------: 152.1289302765997\n",
      "Latent error above the threshold of 1.2\n",
      "Found 10614 lines. Skipped 11. Loaded 10603 points.\n",
      "Fitness score:  0.9548979591836735\n",
      "Frame : 778\n",
      "Error--------: 152.8686028828762\n",
      "Latent error above the threshold of 1.2\n"
     ]
    },
    {
     "name": "stderr",
     "output_type": "stream",
     "text": [
      " 77%|███████▋  | 780/1014 [02:11<00:32,  7.27it/s]"
     ]
    },
    {
     "name": "stdout",
     "output_type": "stream",
     "text": [
      "Found 14632 lines. Skipped 11. Loaded 14621 points.\n",
      "Fitness score:  0.9461670154080274\n",
      "Frame : 779\n",
      "Error--------: 152.52055907240594\n",
      "Latent error above the threshold of 1.2\n",
      "Found 16550 lines. Skipped 11. Loaded 16539 points.\n"
     ]
    },
    {
     "name": "stderr",
     "output_type": "stream",
     "text": [
      " 77%|███████▋  | 782/1014 [02:11<00:35,  6.47it/s]"
     ]
    },
    {
     "name": "stdout",
     "output_type": "stream",
     "text": [
      "Fitness score:  0.9419679040363106\n",
      "Frame : 780\n",
      "Error--------: 153.14140397644317\n",
      "Latent error above the threshold of 1.2\n",
      "Found 14538 lines. Skipped 11. Loaded 14527 points.\n",
      "Fitness score:  0.9208729216152018\n",
      "Frame : 781\n",
      "Error--------: 153.3059131217038\n",
      "Latent error above the threshold of 1.2\n"
     ]
    },
    {
     "name": "stderr",
     "output_type": "stream",
     "text": [
      " 77%|███████▋  | 783/1014 [02:12<00:34,  6.62it/s]"
     ]
    },
    {
     "name": "stdout",
     "output_type": "stream",
     "text": [
      "Found 13696 lines. Skipped 11. Loaded 13685 points.\n",
      "Fitness score:  0.936279926335175\n",
      "Frame : 782\n",
      "Error--------: 152.71280732238336\n",
      "Latent error above the threshold of 1.2\n",
      "Found 12456 lines. Skipped 11. Loaded 12445 points.\n"
     ]
    },
    {
     "name": "stderr",
     "output_type": "stream",
     "text": [
      " 77%|███████▋  | 784/1014 [02:12<00:34,  6.63it/s]"
     ]
    },
    {
     "name": "stdout",
     "output_type": "stream",
     "text": [
      "Fitness score:  0.9355195283714075\n",
      "Frame : 783\n",
      "Error--------: 153.23733316446592\n",
      "Latent error above the threshold of 1.2\n",
      "Found 12456 lines. Skipped 11. Loaded 12445 points.\n"
     ]
    },
    {
     "name": "stderr",
     "output_type": "stream",
     "text": [
      " 78%|███████▊  | 786/1014 [02:12<00:35,  6.35it/s]"
     ]
    },
    {
     "name": "stdout",
     "output_type": "stream",
     "text": [
      "Fitness score:  0.9358879882092852\n",
      "Frame : 784\n",
      "Error--------: 153.03279981603777\n",
      "Latent error above the threshold of 1.2\n",
      "Found 14195 lines. Skipped 11. Loaded 14184 points.\n",
      "Fitness score:  0.9374182701288997\n",
      "Frame : 785\n",
      "Error--------: 153.48517156986128\n",
      "Latent error above the threshold of 1.2\n",
      "Found 14096 lines. Skipped 11. Loaded 14085 points.\n"
     ]
    },
    {
     "name": "stderr",
     "output_type": "stream",
     "text": [
      " 78%|███████▊  | 788/1014 [02:12<00:32,  6.99it/s]"
     ]
    },
    {
     "name": "stdout",
     "output_type": "stream",
     "text": [
      "Fitness score:  0.9370464135021097\n",
      "Frame : 786\n",
      "Error--------: 153.0350992955021\n",
      "Latent error above the threshold of 1.2\n",
      "Found 14308 lines. Skipped 11. Loaded 14297 points.\n",
      "Fitness score:  0.9313521028849496\n",
      "Frame : 787\n",
      "Error--------: 153.70105938241096\n",
      "Latent error above the threshold of 1.2\n",
      "Found 12728 lines. Skipped 11. Loaded 12717 points.\n"
     ]
    },
    {
     "name": "stderr",
     "output_type": "stream",
     "text": [
      " 78%|███████▊  | 790/1014 [02:13<00:32,  6.95it/s]"
     ]
    },
    {
     "name": "stdout",
     "output_type": "stream",
     "text": [
      "Fitness score:  0.9235071261049973\n",
      "Frame : 788\n",
      "Error--------: 153.24770981109722\n",
      "Latent error above the threshold of 1.2\n",
      "Found 16244 lines. Skipped 11. Loaded 16233 points.\n",
      "Fitness score:  0.9203153833249454\n",
      "Frame : 789\n",
      "Error--------: 153.85565268715703\n",
      "Latent error above the threshold of 1.2\n",
      "Found 12129 lines. Skipped 11. Loaded 12118 points.\n"
     ]
    },
    {
     "name": "stderr",
     "output_type": "stream",
     "text": [
      " 78%|███████▊  | 791/1014 [02:13<00:31,  7.07it/s]"
     ]
    },
    {
     "name": "stdout",
     "output_type": "stream",
     "text": [
      "Fitness score:  0.92361238322037\n",
      "Frame : 790\n",
      "Error--------: 153.43683858287142\n",
      "Latent error above the threshold of 1.2\n",
      "Found 12733 lines. Skipped 11. Loaded 12722 points.\n"
     ]
    },
    {
     "name": "stderr",
     "output_type": "stream",
     "text": [
      " 78%|███████▊  | 793/1014 [02:13<00:33,  6.62it/s]"
     ]
    },
    {
     "name": "stdout",
     "output_type": "stream",
     "text": [
      "Fitness score:  0.9195883481597767\n",
      "Frame : 791\n",
      "Error--------: 153.97882690357505\n",
      "Latent error above the threshold of 1.2\n",
      "Found 13783 lines. Skipped 11. Loaded 13772 points.\n",
      "Fitness score:  1.0\n",
      "Frame : 792\n",
      "Error--------: 156.0236344302951\n",
      "Latent error above the threshold of 1.2\n",
      "Found 15308 lines. Skipped 11. Loaded 15297 points.\n"
     ]
    },
    {
     "name": "stderr",
     "output_type": "stream",
     "text": [
      " 78%|███████▊  | 795/1014 [02:13<00:34,  6.28it/s]"
     ]
    },
    {
     "name": "stdout",
     "output_type": "stream",
     "text": [
      "Fitness score:  0.9229147847034026\n",
      "Frame : 793\n",
      "Error--------: 154.58571573593662\n",
      "Latent error above the threshold of 1.2\n",
      "Found 11684 lines. Skipped 11. Loaded 11673 points.\n",
      "Fitness score:  0.9181818181818182\n",
      "Frame : 794\n",
      "Error--------: 153.99972912921118\n",
      "Latent error above the threshold of 1.2\n",
      "Found 13315 lines. Skipped 11. Loaded 13304 points.\n"
     ]
    },
    {
     "name": "stderr",
     "output_type": "stream",
     "text": [
      " 79%|███████▊  | 797/1014 [02:14<00:32,  6.66it/s]"
     ]
    },
    {
     "name": "stdout",
     "output_type": "stream",
     "text": [
      "Fitness score:  0.9148623853211009\n",
      "Frame : 795\n",
      "Error--------: 154.70375635881513\n",
      "Latent error above the threshold of 1.2\n",
      "Found 13033 lines. Skipped 11. Loaded 13022 points.\n",
      "Fitness score:  0.8991776903825527\n",
      "Frame : 796\n",
      "Error--------: 154.25756959114324\n",
      "Latent error above the threshold of 1.2\n",
      "Found 15369 lines. Skipped 11. Loaded 15358 points.\n"
     ]
    },
    {
     "name": "stderr",
     "output_type": "stream",
     "text": [
      " 79%|███████▊  | 798/1014 [02:14<00:33,  6.49it/s]"
     ]
    },
    {
     "name": "stdout",
     "output_type": "stream",
     "text": [
      "Fitness score:  0.8994152046783626\n",
      "Frame : 797\n",
      "Error--------: 154.97984331852388\n",
      "Latent error above the threshold of 1.2\n",
      "Found 15515 lines. Skipped 11. Loaded 15504 points.\n"
     ]
    },
    {
     "name": "stderr",
     "output_type": "stream",
     "text": [
      " 79%|███████▉  | 800/1014 [02:14<00:36,  5.80it/s]"
     ]
    },
    {
     "name": "stdout",
     "output_type": "stream",
     "text": [
      "Fitness score:  0.8895100295955278\n",
      "Frame : 798\n",
      "Error--------: 154.5611981303956\n",
      "Latent error above the threshold of 1.2\n",
      "Found 14933 lines. Skipped 11. Loaded 14922 points.\n",
      "Fitness score:  0.8966783216783217\n",
      "Frame : 799\n",
      "Error--------: 155.16924511613624\n",
      "Latent error above the threshold of 1.2\n",
      "Found 9600 lines. Skipped 11. Loaded 9589 points.\n"
     ]
    },
    {
     "name": "stderr",
     "output_type": "stream",
     "text": [
      " 79%|███████▉  | 802/1014 [02:14<00:30,  7.01it/s]"
     ]
    },
    {
     "name": "stdout",
     "output_type": "stream",
     "text": [
      "Fitness score:  0.8817943018791675\n",
      "Frame : 800\n",
      "Error--------: 155.07045393638512\n",
      "Latent error above the threshold of 1.2\n",
      "Found 13714 lines. Skipped 11. Loaded 13703 points.\n",
      "Fitness score:  0.870877308707124\n",
      "Frame : 801\n",
      "Error--------: 155.36284469086905\n",
      "Latent error above the threshold of 1.2\n",
      "Found 11516 lines. Skipped 11. Loaded 11505 points.\n"
     ]
    },
    {
     "name": "stderr",
     "output_type": "stream",
     "text": [
      " 79%|███████▉  | 804/1014 [02:15<00:28,  7.30it/s]"
     ]
    },
    {
     "name": "stdout",
     "output_type": "stream",
     "text": [
      "Fitness score:  0.8721340388007055\n",
      "Frame : 802\n",
      "Error--------: 155.303931782221\n",
      "Latent error above the threshold of 1.2\n",
      "Found 14121 lines. Skipped 11. Loaded 14110 points.\n",
      "Fitness score:  0.8589104933311907\n",
      "Frame : 803\n",
      "Error--------: 155.5932760048713\n",
      "Latent error above the threshold of 1.2\n",
      "Found 12361 lines. Skipped 11. Loaded 12350 points.\n"
     ]
    },
    {
     "name": "stderr",
     "output_type": "stream",
     "text": [
      " 79%|███████▉  | 806/1014 [02:15<00:32,  6.38it/s]"
     ]
    },
    {
     "name": "stdout",
     "output_type": "stream",
     "text": [
      "Fitness score:  0.9096794081381011\n",
      "Frame : 804\n",
      "Error--------: 157.45135480621374\n",
      "Latent error above the threshold of 1.2\n",
      "Found 12842 lines. Skipped 11. Loaded 12831 points.\n",
      "Fitness score:  0.7119005328596802\n",
      "Frame : 805\n",
      "Error--------: 157.3641453897854\n",
      "Latent error above the threshold of 1.2\n"
     ]
    },
    {
     "name": "stderr",
     "output_type": "stream",
     "text": [
      " 80%|███████▉  | 807/1014 [02:15<00:31,  6.49it/s]"
     ]
    },
    {
     "name": "stdout",
     "output_type": "stream",
     "text": [
      "Found 12842 lines. Skipped 11. Loaded 12831 points.\n",
      "Fitness score:  0.816696269982238\n",
      "Frame : 806\n",
      "Error--------: 157.54659870668596\n",
      "Latent error above the threshold of 1.2\n",
      "Found 12540 lines. Skipped 11. Loaded 12529 points.\n"
     ]
    },
    {
     "name": "stderr",
     "output_type": "stream",
     "text": [
      " 80%|███████▉  | 809/1014 [02:15<00:28,  7.21it/s]"
     ]
    },
    {
     "name": "stdout",
     "output_type": "stream",
     "text": [
      "Fitness score:  0.8071180555555556\n",
      "Frame : 807\n",
      "Error--------: 157.84702801786653\n",
      "Latent error above the threshold of 1.2\n",
      "Found 14290 lines. Skipped 11. Loaded 14279 points.\n",
      "Fitness score:  0.802979578172079\n",
      "Frame : 808\n",
      "Error--------: 157.92712760429262\n",
      "Latent error above the threshold of 1.2\n",
      "Found 14150 lines. Skipped 11. Loaded 14139 points.\n"
     ]
    },
    {
     "name": "stderr",
     "output_type": "stream",
     "text": [
      " 80%|███████▉  | 811/1014 [02:16<00:29,  7.00it/s]"
     ]
    },
    {
     "name": "stdout",
     "output_type": "stream",
     "text": [
      "Fitness score:  0.8037697744867048\n",
      "Frame : 809\n",
      "Error--------: 158.00141631704162\n",
      "Latent error above the threshold of 1.2\n",
      "Found 17340 lines. Skipped 11. Loaded 17329 points.\n",
      "Fitness score:  0.7940272288098376\n",
      "Frame : 810\n",
      "Error--------: 158.1306348456875\n",
      "Latent error above the threshold of 1.2\n",
      "Found 11556 lines. Skipped 11. Loaded 11545 points.\n"
     ]
    },
    {
     "name": "stderr",
     "output_type": "stream",
     "text": [
      " 80%|████████  | 812/1014 [02:16<00:26,  7.55it/s]"
     ]
    },
    {
     "name": "stdout",
     "output_type": "stream",
     "text": [
      "Fitness score:  0.8009375523187678\n",
      "Frame : 811\n",
      "Error--------: 158.4896190387504\n",
      "Latent error above the threshold of 1.2\n",
      "Found 12922 lines. Skipped 11. Loaded 12911 points.\n"
     ]
    },
    {
     "name": "stderr",
     "output_type": "stream",
     "text": [
      " 80%|████████  | 814/1014 [02:16<00:29,  6.68it/s]"
     ]
    },
    {
     "name": "stdout",
     "output_type": "stream",
     "text": [
      "Fitness score:  0.8082641770401107\n",
      "Frame : 812\n",
      "Error--------: 158.5017059436677\n",
      "Latent error above the threshold of 1.2\n",
      "Found 11836 lines. Skipped 11. Loaded 11825 points.\n",
      "Fitness score:  0.8041066401722139\n",
      "Frame : 813\n",
      "Error--------: 158.7028257248866\n",
      "Latent error above the threshold of 1.2\n",
      "Found 11913 lines. Skipped 11. Loaded 11902 points.\n"
     ]
    },
    {
     "name": "stderr",
     "output_type": "stream",
     "text": [
      " 80%|████████  | 816/1014 [02:16<00:27,  7.18it/s]"
     ]
    },
    {
     "name": "stdout",
     "output_type": "stream",
     "text": [
      "Fitness score:  0.7991570757010861\n",
      "Frame : 814\n",
      "Error--------: 158.76617235138355\n",
      "Latent error above the threshold of 1.2\n",
      "Found 11850 lines. Skipped 11. Loaded 11839 points.\n",
      "Fitness score:  0.9249229771363711\n",
      "Frame : 815\n",
      "Error--------: 159.21705134870516\n",
      "Latent error above the threshold of 1.2\n",
      "Found 13779 lines. Skipped 11. Loaded 13768 points.\n"
     ]
    },
    {
     "name": "stderr",
     "output_type": "stream",
     "text": [
      " 81%|████████  | 818/1014 [02:17<00:27,  7.17it/s]"
     ]
    },
    {
     "name": "stdout",
     "output_type": "stream",
     "text": [
      "Fitness score:  0.8006425702811245\n",
      "Frame : 816\n",
      "Error--------: 159.23896731166963\n",
      "Latent error above the threshold of 1.2\n",
      "Found 14172 lines. Skipped 11. Loaded 14161 points.\n",
      "Fitness score:  0.7976747941223963\n",
      "Frame : 817\n",
      "Error--------: 159.32985445920733\n",
      "Latent error above the threshold of 1.2\n"
     ]
    },
    {
     "name": "stderr",
     "output_type": "stream",
     "text": [
      " 81%|████████  | 819/1014 [02:17<00:32,  6.08it/s]"
     ]
    },
    {
     "name": "stdout",
     "output_type": "stream",
     "text": [
      "Found 13677 lines. Skipped 11. Loaded 13666 points.\n",
      "Fitness score:  0.789710910786447\n",
      "Frame : 818\n",
      "Error--------: 159.66360365042797\n",
      "Latent error above the threshold of 1.2\n",
      "Found 14285 lines. Skipped 11. Loaded 14274 points.\n"
     ]
    },
    {
     "name": "stderr",
     "output_type": "stream",
     "text": [
      " 81%|████████  | 820/1014 [02:17<00:33,  5.82it/s]"
     ]
    },
    {
     "name": "stdout",
     "output_type": "stream",
     "text": [
      "Fitness score:  0.7963885429638854\n",
      "Frame : 819\n",
      "Error--------: 159.493536697282\n",
      "Latent error above the threshold of 1.2\n",
      "Found 13308 lines. Skipped 11. Loaded 13297 points.\n"
     ]
    },
    {
     "name": "stderr",
     "output_type": "stream",
     "text": [
      " 81%|████████  | 822/1014 [02:18<00:32,  5.97it/s]"
     ]
    },
    {
     "name": "stdout",
     "output_type": "stream",
     "text": [
      "Fitness score:  0.7927342927342927\n",
      "Frame : 820\n",
      "Error--------: 159.73310195007178\n",
      "Latent error above the threshold of 1.2\n",
      "Found 14080 lines. Skipped 11. Loaded 14069 points.\n",
      "Fitness score:  0.7916526422080108\n",
      "Frame : 821\n",
      "Error--------: 159.67114873796393\n",
      "Latent error above the threshold of 1.2\n",
      "Found 14267 lines. Skipped 11. Loaded 14256 points.\n"
     ]
    },
    {
     "name": "stderr",
     "output_type": "stream",
     "text": [
      " 81%|████████▏ | 824/1014 [02:18<00:28,  6.70it/s]"
     ]
    },
    {
     "name": "stdout",
     "output_type": "stream",
     "text": [
      "Fitness score:  0.7851863500550401\n",
      "Frame : 822\n",
      "Error--------: 160.24631648168102\n",
      "Latent error above the threshold of 1.2\n",
      "Found 12576 lines. Skipped 11. Loaded 12565 points.\n",
      "Fitness score:  0.7887480190174326\n",
      "Frame : 823\n",
      "Error--------: 160.53584275657673\n",
      "Latent error above the threshold of 1.2\n",
      "Found 11939 lines. Skipped 11. Loaded 11928 points.\n"
     ]
    },
    {
     "name": "stderr",
     "output_type": "stream",
     "text": [
      " 81%|████████▏ | 826/1014 [02:18<00:25,  7.27it/s]"
     ]
    },
    {
     "name": "stdout",
     "output_type": "stream",
     "text": [
      "Fitness score:  0.8083861530960507\n",
      "Frame : 824\n",
      "Error--------: 160.86206367330593\n",
      "Latent error above the threshold of 1.2\n",
      "Found 11043 lines. Skipped 11. Loaded 11032 points.\n",
      "Fitness score:  0.8100050530570996\n",
      "Frame : 825\n",
      "Error--------: 161.52580214734832\n",
      "Latent error above the threshold of 1.2\n",
      "Found 11880 lines. Skipped 11. Loaded 11869 points.\n"
     ]
    },
    {
     "name": "stderr",
     "output_type": "stream",
     "text": [
      " 82%|████████▏ | 827/1014 [02:18<00:26,  7.04it/s]"
     ]
    },
    {
     "name": "stdout",
     "output_type": "stream",
     "text": [
      "Fitness score:  0.9234494610217153\n",
      "Frame : 826\n",
      "Error--------: 159.68829781973443\n",
      "Latent error above the threshold of 1.2\n",
      "Found 10754 lines. Skipped 11. Loaded 10743 points.\n",
      "Fitness score:  0.7986946066643765\n"
     ]
    },
    {
     "name": "stderr",
     "output_type": "stream",
     "text": [
      " 82%|████████▏ | 829/1014 [02:19<00:27,  6.82it/s]"
     ]
    },
    {
     "name": "stdout",
     "output_type": "stream",
     "text": [
      "Frame : 827\n",
      "Error--------: 160.82379628570445\n",
      "Latent error above the threshold of 1.2\n",
      "Found 13167 lines. Skipped 11. Loaded 13156 points.\n",
      "Fitness score:  0.7744218971212836\n",
      "Frame : 828\n",
      "Error--------: 161.5350479234992\n",
      "Latent error above the threshold of 1.2\n",
      "Found 12926 lines. Skipped 11. Loaded 12915 points.\n"
     ]
    },
    {
     "name": "stderr",
     "output_type": "stream",
     "text": [
      " 82%|████████▏ | 831/1014 [02:19<00:26,  6.86it/s]"
     ]
    },
    {
     "name": "stdout",
     "output_type": "stream",
     "text": [
      "Fitness score:  0.7924823805794832\n",
      "Frame : 829\n",
      "Error--------: 162.12233976557482\n",
      "Latent error above the threshold of 1.2\n",
      "Found 15366 lines. Skipped 11. Loaded 15355 points.\n",
      "Fitness score:  0.80495401957876\n",
      "Frame : 830\n",
      "Error--------: 161.94861400853014\n",
      "Latent error above the threshold of 1.2\n",
      "Found 13073 lines. Skipped 11. Loaded 13062 points.\n"
     ]
    },
    {
     "name": "stderr",
     "output_type": "stream",
     "text": [
      " 82%|████████▏ | 833/1014 [02:19<00:27,  6.70it/s]"
     ]
    },
    {
     "name": "stdout",
     "output_type": "stream",
     "text": [
      "Fitness score:  0.8105191022785677\n",
      "Frame : 831\n",
      "Error--------: 162.2470420617468\n",
      "Latent error above the threshold of 1.2\n",
      "Found 12883 lines. Skipped 11. Loaded 12872 points.\n",
      "Fitness score:  0.7962754856317226\n",
      "Frame : 832\n",
      "Error--------: 162.18557898488748\n",
      "Latent error above the threshold of 1.2\n"
     ]
    },
    {
     "name": "stderr",
     "output_type": "stream",
     "text": [
      " 82%|████████▏ | 834/1014 [02:19<00:28,  6.28it/s]"
     ]
    },
    {
     "name": "stdout",
     "output_type": "stream",
     "text": [
      "Found 14181 lines. Skipped 11. Loaded 14170 points.\n",
      "Fitness score:  0.8060338019270258\n",
      "Frame : 833\n",
      "Error--------: 162.56725048529478\n",
      "Latent error above the threshold of 1.2\n"
     ]
    },
    {
     "name": "stderr",
     "output_type": "stream",
     "text": [
      " 82%|████████▏ | 835/1014 [02:20<00:32,  5.48it/s]"
     ]
    },
    {
     "name": "stdout",
     "output_type": "stream",
     "text": [
      "Found 12616 lines. Skipped 11. Loaded 12605 points.\n",
      "Fitness score:  0.8063439065108514\n",
      "Frame : 834\n",
      "Error--------: 162.18917066460685\n",
      "Latent error above the threshold of 1.2\n",
      "Found 10713 lines. Skipped 11. Loaded 10702 points.\n"
     ]
    },
    {
     "name": "stderr",
     "output_type": "stream",
     "text": [
      " 83%|████████▎ | 837/1014 [02:20<00:27,  6.38it/s]"
     ]
    },
    {
     "name": "stdout",
     "output_type": "stream",
     "text": [
      "Fitness score:  0.81412157153447\n",
      "Frame : 835\n",
      "Error--------: 162.6678797828661\n",
      "Latent error above the threshold of 1.2\n",
      "Found 12720 lines. Skipped 11. Loaded 12709 points.\n",
      "Fitness score:  0.8070059484467944\n",
      "Frame : 836\n",
      "Error--------: 162.48294107509489\n",
      "Latent error above the threshold of 1.2\n",
      "Found 13946 lines. Skipped 11. Loaded 13935 points.\n"
     ]
    },
    {
     "name": "stderr",
     "output_type": "stream",
     "text": [
      " 83%|████████▎ | 839/1014 [02:20<00:25,  6.99it/s]"
     ]
    },
    {
     "name": "stdout",
     "output_type": "stream",
     "text": [
      "Fitness score:  0.9175906502846869\n",
      "Frame : 837\n",
      "Error--------: 163.1522995800869\n",
      "Latent error above the threshold of 1.2\n",
      "Found 12256 lines. Skipped 11. Loaded 12245 points.\n",
      "Fitness score:  0.8051324503311258\n",
      "Frame : 838\n",
      "Error--------: 162.7280859290087\n",
      "Latent error above the threshold of 1.2\n"
     ]
    },
    {
     "name": "stderr",
     "output_type": "stream",
     "text": [
      " 83%|████████▎ | 840/1014 [02:20<00:25,  6.93it/s]"
     ]
    },
    {
     "name": "stdout",
     "output_type": "stream",
     "text": [
      "Found 12750 lines. Skipped 11. Loaded 12739 points.\n",
      "Fitness score:  0.8245366284201235\n",
      "Frame : 839\n",
      "Error--------: 163.3915358673512\n",
      "Latent error above the threshold of 1.2\n",
      "Found 16018 lines. Skipped 11. Loaded 16007 points.\n"
     ]
    },
    {
     "name": "stderr",
     "output_type": "stream",
     "text": [
      " 83%|████████▎ | 842/1014 [02:20<00:24,  7.09it/s]"
     ]
    },
    {
     "name": "stdout",
     "output_type": "stream",
     "text": [
      "Fitness score:  0.8038951310861423\n",
      "Frame : 840\n",
      "Error--------: 162.87522668746578\n",
      "Latent error above the threshold of 1.2\n",
      "Found 11000 lines. Skipped 11. Loaded 10989 points.\n",
      "Fitness score:  0.8213881554130517\n",
      "Frame : 841\n",
      "Error--------: 163.38165085744356\n",
      "Latent error above the threshold of 1.2\n"
     ]
    },
    {
     "name": "stderr",
     "output_type": "stream",
     "text": [
      " 83%|████████▎ | 843/1014 [02:21<00:34,  5.00it/s]"
     ]
    },
    {
     "name": "stdout",
     "output_type": "stream",
     "text": [
      "Found 11000 lines. Skipped 11. Loaded 10989 points.\n",
      "Fitness score:  0.7974349302150132\n",
      "Frame : 842\n",
      "Error--------: 163.64756034467317\n",
      "Latent error above the threshold of 1.2\n"
     ]
    },
    {
     "name": "stderr",
     "output_type": "stream",
     "text": [
      " 83%|████████▎ | 845/1014 [02:21<00:27,  6.23it/s]"
     ]
    },
    {
     "name": "stdout",
     "output_type": "stream",
     "text": [
      "Found 12379 lines. Skipped 11. Loaded 12368 points.\n",
      "Fitness score:  0.8038340770120641\n",
      "Frame : 843\n",
      "Error--------: 163.62933879796745\n",
      "Latent error above the threshold of 1.2\n",
      "Found 14062 lines. Skipped 11. Loaded 14051 points.\n",
      "Fitness score:  0.7967964824120602\n",
      "Frame : 844\n",
      "Error--------: 163.01445384705926\n",
      "Latent error above the threshold of 1.2\n"
     ]
    },
    {
     "name": "stderr",
     "output_type": "stream",
     "text": [
      " 84%|████████▎ | 847/1014 [02:21<00:22,  7.31it/s]"
     ]
    },
    {
     "name": "stdout",
     "output_type": "stream",
     "text": [
      "Found 13255 lines. Skipped 11. Loaded 13244 points.\n",
      "Fitness score:  0.8217260322523481\n",
      "Frame : 845\n",
      "Error--------: 163.7747544299154\n",
      "Latent error above the threshold of 1.2\n",
      "Found 11734 lines. Skipped 11. Loaded 11723 points.\n",
      "Fitness score:  0.8184818481848185\n",
      "Frame : 846\n",
      "Error--------: 163.13073820264137\n",
      "Latent error above the threshold of 1.2\n"
     ]
    },
    {
     "name": "stderr",
     "output_type": "stream",
     "text": [
      " 84%|████████▎ | 848/1014 [02:21<00:22,  7.53it/s]"
     ]
    },
    {
     "name": "stdout",
     "output_type": "stream",
     "text": [
      "Found 11251 lines. Skipped 11. Loaded 11240 points.\n",
      "Fitness score:  0.8207263064658991\n",
      "Frame : 847\n",
      "Error--------: 164.03654078816197\n",
      "Latent error above the threshold of 1.2\n",
      "Found 13561 lines. Skipped 11. Loaded 13550 points.\n"
     ]
    },
    {
     "name": "stderr",
     "output_type": "stream",
     "text": [
      " 84%|████████▍ | 850/1014 [02:22<00:22,  7.35it/s]"
     ]
    },
    {
     "name": "stdout",
     "output_type": "stream",
     "text": [
      "Fitness score:  0.9156199202009753\n",
      "Frame : 848\n",
      "Error--------: 164.64905318695958\n",
      "Latent error above the threshold of 1.2\n",
      "Found 12217 lines. Skipped 11. Loaded 12206 points.\n",
      "Fitness score:  0.7208708964109543\n",
      "Frame : 849\n",
      "Error--------: 164.4881908767849\n",
      "Latent error above the threshold of 1.2\n"
     ]
    },
    {
     "name": "stderr",
     "output_type": "stream",
     "text": [
      " 84%|████████▍ | 852/1014 [02:22<00:23,  6.90it/s]"
     ]
    },
    {
     "name": "stdout",
     "output_type": "stream",
     "text": [
      "Found 12410 lines. Skipped 11. Loaded 12399 points.\n",
      "Fitness score:  0.8089830508474576\n",
      "Frame : 850\n",
      "Error--------: 163.77880467115946\n",
      "Latent error above the threshold of 1.2\n",
      "Found 11128 lines. Skipped 11. Loaded 11117 points.\n",
      "Fitness score:  0.8209714185516395\n",
      "Frame : 851\n",
      "Error--------: 164.34764928457173\n",
      "Latent error above the threshold of 1.2\n"
     ]
    },
    {
     "name": "stderr",
     "output_type": "stream",
     "text": [
      " 84%|████████▍ | 853/1014 [02:22<00:22,  7.09it/s]"
     ]
    },
    {
     "name": "stdout",
     "output_type": "stream",
     "text": [
      "Found 11056 lines. Skipped 11. Loaded 11045 points.\n",
      "Fitness score:  0.8161726914510878\n",
      "Frame : 852\n",
      "Error--------: 164.02201043618857\n",
      "Latent error above the threshold of 1.2\n",
      "Found 13706 lines. Skipped 11. Loaded 13695 points.\n"
     ]
    },
    {
     "name": "stderr",
     "output_type": "stream",
     "text": [
      " 84%|████████▍ | 855/1014 [02:22<00:22,  6.94it/s]"
     ]
    },
    {
     "name": "stdout",
     "output_type": "stream",
     "text": [
      "Fitness score:  0.8146953405017922\n",
      "Frame : 853\n",
      "Error--------: 164.44596282203366\n",
      "Latent error above the threshold of 1.2\n",
      "Found 12017 lines. Skipped 11. Loaded 12006 points.\n",
      "Fitness score:  0.8198419666374013\n",
      "Frame : 854\n",
      "Error--------: 164.33899090879845\n",
      "Latent error above the threshold of 1.2\n"
     ]
    },
    {
     "name": "stderr",
     "output_type": "stream",
     "text": [
      " 85%|████████▍ | 857/1014 [02:23<00:20,  7.64it/s]"
     ]
    },
    {
     "name": "stdout",
     "output_type": "stream",
     "text": [
      "Found 13318 lines. Skipped 11. Loaded 13307 points.\n",
      "Fitness score:  0.8081442137453726\n",
      "Frame : 855\n",
      "Error--------: 164.56336080077193\n",
      "Latent error above the threshold of 1.2\n",
      "Found 9852 lines. Skipped 11. Loaded 9841 points.\n",
      "Fitness score:  0.8117977528089888\n",
      "Frame : 856\n",
      "Error--------: 164.75905937142912\n",
      "Latent error above the threshold of 1.2\n"
     ]
    },
    {
     "name": "stderr",
     "output_type": "stream",
     "text": [
      " 85%|████████▍ | 859/1014 [02:23<00:18,  8.17it/s]"
     ]
    },
    {
     "name": "stdout",
     "output_type": "stream",
     "text": [
      "Found 12434 lines. Skipped 11. Loaded 12423 points.\n",
      "Fitness score:  0.8014705882352942\n",
      "Frame : 857\n",
      "Error--------: 165.294339997784\n",
      "Latent error above the threshold of 1.2\n",
      "Found 10236 lines. Skipped 11. Loaded 10225 points.\n",
      "Fitness score:  0.8031752104055088\n",
      "Frame : 858\n",
      "Error--------: 165.8204835511965\n",
      "Latent error above the threshold of 1.2\n"
     ]
    },
    {
     "name": "stderr",
     "output_type": "stream",
     "text": [
      " 85%|████████▍ | 861/1014 [02:23<00:21,  7.26it/s]"
     ]
    },
    {
     "name": "stdout",
     "output_type": "stream",
     "text": [
      "Found 12467 lines. Skipped 11. Loaded 12456 points.\n",
      "Fitness score:  0.9213036565977742\n",
      "Frame : 859\n",
      "Error--------: 166.2321590678633\n",
      "Latent error above the threshold of 1.2\n",
      "Found 11559 lines. Skipped 11. Loaded 11548 points.\n",
      "Fitness score:  0.7498587304577133\n",
      "Frame : 860\n",
      "Error--------: 166.37578552918887\n",
      "Latent error above the threshold of 1.2\n"
     ]
    },
    {
     "name": "stderr",
     "output_type": "stream",
     "text": [
      " 85%|████████▌ | 862/1014 [02:23<00:20,  7.35it/s]"
     ]
    },
    {
     "name": "stdout",
     "output_type": "stream",
     "text": [
      "Found 14188 lines. Skipped 11. Loaded 14177 points.\n",
      "Fitness score:  0.8026523523839596\n",
      "Frame : 861\n",
      "Error--------: 167.29348211912148\n",
      "Latent error above the threshold of 1.2\n",
      "Found 14586 lines. Skipped 11. Loaded 14575 points.\n"
     ]
    },
    {
     "name": "stderr",
     "output_type": "stream",
     "text": [
      " 85%|████████▌ | 864/1014 [02:24<00:19,  7.70it/s]"
     ]
    },
    {
     "name": "stdout",
     "output_type": "stream",
     "text": [
      "Fitness score:  0.8075477863094266\n",
      "Frame : 862\n",
      "Error--------: 167.2130861668924\n",
      "Latent error above the threshold of 1.2\n",
      "Found 11278 lines. Skipped 11. Loaded 11267 points.\n",
      "Fitness score:  0.8259613648673045\n",
      "Frame : 863\n",
      "Error--------: 167.29471867916035\n",
      "Latent error above the threshold of 1.2\n",
      "Found 11863 lines. Skipped 11. Loaded 11852 points.\n"
     ]
    },
    {
     "name": "stderr",
     "output_type": "stream",
     "text": [
      " 85%|████████▌ | 866/1014 [02:24<00:20,  7.25it/s]"
     ]
    },
    {
     "name": "stdout",
     "output_type": "stream",
     "text": [
      "Fitness score:  0.833220223956566\n",
      "Frame : 864\n",
      "Error--------: 167.60062940926878\n",
      "Latent error above the threshold of 1.2\n",
      "Found 11863 lines. Skipped 11. Loaded 11852 points.\n",
      "Fitness score:  0.8294876145232439\n",
      "Frame : 865\n",
      "Error--------: 167.85956282237774\n",
      "Latent error above the threshold of 1.2\n",
      "Found 16137 lines. Skipped 11. Loaded 16126 points.\n"
     ]
    },
    {
     "name": "stderr",
     "output_type": "stream",
     "text": [
      " 86%|████████▌ | 868/1014 [02:24<00:18,  7.81it/s]"
     ]
    },
    {
     "name": "stdout",
     "output_type": "stream",
     "text": [
      "Fitness score:  0.8063741191543882\n",
      "Frame : 866\n",
      "Error--------: 167.83275549732613\n",
      "Latent error above the threshold of 1.2\n",
      "Found 11532 lines. Skipped 11. Loaded 11521 points.\n",
      "Fitness score:  0.8256880733944955\n",
      "Frame : 867\n",
      "Error--------: 167.89475039829986\n",
      "Latent error above the threshold of 1.2\n"
     ]
    },
    {
     "name": "stderr",
     "output_type": "stream",
     "text": [
      " 86%|████████▌ | 869/1014 [02:24<00:22,  6.47it/s]"
     ]
    },
    {
     "name": "stdout",
     "output_type": "stream",
     "text": [
      "Found 11986 lines. Skipped 11. Loaded 11975 points.\n",
      "Fitness score:  0.8200873362445414\n",
      "Frame : 868\n",
      "Error--------: 167.98921974527383\n",
      "Latent error above the threshold of 1.2\n",
      "Found 12109 lines. Skipped 11. Loaded 12098 points.\n"
     ]
    },
    {
     "name": "stderr",
     "output_type": "stream",
     "text": [
      " 86%|████████▌ | 871/1014 [02:25<00:20,  7.05it/s]"
     ]
    },
    {
     "name": "stdout",
     "output_type": "stream",
     "text": [
      "Fitness score:  0.8252106998900697\n",
      "Frame : 869\n",
      "Error--------: 168.3639359913403\n",
      "Latent error above the threshold of 1.2\n",
      "Found 14324 lines. Skipped 11. Loaded 14313 points.\n",
      "Fitness score:  0.9089513281130047\n",
      "Frame : 870\n",
      "Error--------: 167.1234231417972\n",
      "Latent error above the threshold of 1.2\n",
      "Found 13591 lines. Skipped 11. Loaded 13580 points.\n"
     ]
    },
    {
     "name": "stderr",
     "output_type": "stream",
     "text": [
      " 86%|████████▌ | 873/1014 [02:25<00:19,  7.32it/s]"
     ]
    },
    {
     "name": "stdout",
     "output_type": "stream",
     "text": [
      "Fitness score:  0.7578709340754914\n",
      "Frame : 871\n",
      "Error--------: 167.27234618243813\n",
      "Latent error above the threshold of 1.2\n",
      "Found 13004 lines. Skipped 11. Loaded 12993 points.\n",
      "Fitness score:  0.8345348438036388\n",
      "Frame : 872\n",
      "Error--------: 169.04850825818605\n",
      "Latent error above the threshold of 1.2\n",
      "Found 13269 lines. Skipped 11. Loaded 13258 points.\n"
     ]
    },
    {
     "name": "stderr",
     "output_type": "stream",
     "text": [
      " 86%|████████▋ | 875/1014 [02:25<00:18,  7.36it/s]"
     ]
    },
    {
     "name": "stdout",
     "output_type": "stream",
     "text": [
      "Fitness score:  0.8103541254718677\n",
      "Frame : 873\n",
      "Error--------: 168.5081887616368\n",
      "Latent error above the threshold of 1.2\n",
      "Found 13025 lines. Skipped 11. Loaded 13014 points.\n",
      "Fitness score:  0.8153690936606692\n",
      "Frame : 874\n",
      "Error--------: 168.9335587695931\n",
      "Latent error above the threshold of 1.2\n",
      "Found 12435 lines. Skipped 11. Loaded 12424 points.\n"
     ]
    },
    {
     "name": "stderr",
     "output_type": "stream",
     "text": [
      " 86%|████████▋ | 877/1014 [02:26<00:22,  6.02it/s]"
     ]
    },
    {
     "name": "stdout",
     "output_type": "stream",
     "text": [
      "Fitness score:  0.8209109730848861\n",
      "Frame : 875\n",
      "Error--------: 168.82832365445302\n",
      "Latent error above the threshold of 1.2\n",
      "Found 10197 lines. Skipped 11. Loaded 10186 points.\n",
      "Fitness score:  0.821455938697318\n",
      "Frame : 876\n",
      "Error--------: 169.13618785706822\n",
      "Latent error above the threshold of 1.2\n"
     ]
    },
    {
     "name": "stderr",
     "output_type": "stream",
     "text": [
      " 87%|████████▋ | 879/1014 [02:26<00:19,  7.03it/s]"
     ]
    },
    {
     "name": "stdout",
     "output_type": "stream",
     "text": [
      "Found 14520 lines. Skipped 11. Loaded 14509 points.\n",
      "Fitness score:  0.8072386492163516\n",
      "Frame : 877\n",
      "Error--------: 169.148397390565\n",
      "Latent error above the threshold of 1.2\n",
      "Found 12575 lines. Skipped 11. Loaded 12564 points.\n",
      "Fitness score:  0.8113921872311134\n",
      "Frame : 878\n",
      "Error--------: 169.3469085625728\n",
      "Latent error above the threshold of 1.2\n"
     ]
    },
    {
     "name": "stderr",
     "output_type": "stream",
     "text": [
      " 87%|████████▋ | 881/1014 [02:26<00:17,  7.49it/s]"
     ]
    },
    {
     "name": "stdout",
     "output_type": "stream",
     "text": [
      "Found 12759 lines. Skipped 11. Loaded 12748 points.\n",
      "Fitness score:  0.8270676691729323\n",
      "Frame : 879\n",
      "Error--------: 169.22874370553654\n",
      "Latent error above the threshold of 1.2\n",
      "Found 11626 lines. Skipped 11. Loaded 11615 points.\n",
      "Fitness score:  0.8237109658678287\n",
      "Frame : 880\n",
      "Error--------: 169.6822837961579\n",
      "Latent error above the threshold of 1.2\n"
     ]
    },
    {
     "name": "stderr",
     "output_type": "stream",
     "text": [
      " 87%|████████▋ | 882/1014 [02:26<00:17,  7.53it/s]"
     ]
    },
    {
     "name": "stdout",
     "output_type": "stream",
     "text": [
      "Found 14324 lines. Skipped 11. Loaded 14313 points.\n",
      "Fitness score:  0.9089513281130047\n",
      "Frame : 881\n",
      "Error--------: 168.84888696062185\n",
      "Latent error above the threshold of 1.2\n",
      "Found 11212 lines. Skipped 11. Loaded 11201 points.\n"
     ]
    },
    {
     "name": "stderr",
     "output_type": "stream",
     "text": [
      " 87%|████████▋ | 884/1014 [02:26<00:17,  7.54it/s]"
     ]
    },
    {
     "name": "stdout",
     "output_type": "stream",
     "text": [
      "Fitness score:  0.8159176029962547\n",
      "Frame : 882\n",
      "Error--------: 170.33921669841683\n",
      "Latent error above the threshold of 1.2\n",
      "Found 12337 lines. Skipped 11. Loaded 12326 points.\n",
      "Fitness score:  0.8322342901474011\n",
      "Frame : 883\n",
      "Error--------: 169.3842543013913\n",
      "Latent error above the threshold of 1.2\n"
     ]
    },
    {
     "name": "stderr",
     "output_type": "stream",
     "text": [
      " 87%|████████▋ | 885/1014 [02:27<00:20,  6.23it/s]"
     ]
    },
    {
     "name": "stdout",
     "output_type": "stream",
     "text": [
      "Found 11665 lines. Skipped 11. Loaded 11654 points.\n",
      "Fitness score:  0.8469049013864479\n",
      "Frame : 884\n",
      "Error--------: 169.8956033929173\n",
      "Latent error above the threshold of 1.2\n",
      "Found 13956 lines. Skipped 11. Loaded 13945 points.\n"
     ]
    },
    {
     "name": "stderr",
     "output_type": "stream",
     "text": [
      " 87%|████████▋ | 887/1014 [02:27<00:20,  6.33it/s]"
     ]
    },
    {
     "name": "stdout",
     "output_type": "stream",
     "text": [
      "Fitness score:  0.8332773673606447\n",
      "Frame : 885\n",
      "Error--------: 169.92463620443246\n",
      "Latent error above the threshold of 1.2\n",
      "Found 13956 lines. Skipped 11. Loaded 13945 points.\n",
      "Fitness score:  0.8232034922766958\n",
      "Frame : 886\n",
      "Error--------: 170.30619910436866\n",
      "Latent error above the threshold of 1.2\n"
     ]
    },
    {
     "name": "stderr",
     "output_type": "stream",
     "text": [
      " 88%|████████▊ | 888/1014 [02:27<00:18,  6.82it/s]"
     ]
    },
    {
     "name": "stdout",
     "output_type": "stream",
     "text": [
      "Found 10052 lines. Skipped 11. Loaded 10041 points.\n",
      "Fitness score:  0.8275142314990512\n",
      "Frame : 887\n",
      "Error--------: 170.25697987312512\n",
      "Latent error above the threshold of 1.2\n",
      "Found 12025 lines. Skipped 11. Loaded 12014 points.\n"
     ]
    },
    {
     "name": "stderr",
     "output_type": "stream",
     "text": [
      " 88%|████████▊ | 890/1014 [02:27<00:17,  7.05it/s]"
     ]
    },
    {
     "name": "stdout",
     "output_type": "stream",
     "text": [
      "Fitness score:  0.8218865273142456\n",
      "Frame : 888\n",
      "Error--------: 170.46527302062617\n",
      "Latent error above the threshold of 1.2\n",
      "Found 9046 lines. Skipped 11. Loaded 9035 points.\n",
      "Fitness score:  0.834225659329764\n",
      "Frame : 889\n",
      "Error--------: 170.48776843230192\n",
      "Latent error above the threshold of 1.2\n",
      "Found 13227 lines. Skipped 11. Loaded 13216 points.\n"
     ]
    },
    {
     "name": "stderr",
     "output_type": "stream",
     "text": [
      " 88%|████████▊ | 892/1014 [02:28<00:19,  6.21it/s]"
     ]
    },
    {
     "name": "stdout",
     "output_type": "stream",
     "text": [
      "Fitness score:  0.8214348359936853\n",
      "Frame : 890\n",
      "Error--------: 170.7265492740572\n",
      "Latent error above the threshold of 1.2\n",
      "Found 10635 lines. Skipped 11. Loaded 10624 points.\n",
      "Fitness score:  0.8307926829268293\n",
      "Frame : 891\n",
      "Error--------: 170.79047005020618\n",
      "Latent error above the threshold of 1.2\n"
     ]
    },
    {
     "name": "stderr",
     "output_type": "stream",
     "text": [
      " 88%|████████▊ | 893/1014 [02:28<00:19,  6.29it/s]"
     ]
    },
    {
     "name": "stdout",
     "output_type": "stream",
     "text": [
      "Found 14580 lines. Skipped 11. Loaded 14569 points.\n",
      "Fitness score:  0.9024180855630276\n",
      "Frame : 892\n",
      "Error--------: 170.12724549755256\n",
      "Latent error above the threshold of 1.2\n"
     ]
    },
    {
     "name": "stderr",
     "output_type": "stream",
     "text": [
      " 88%|████████▊ | 895/1014 [02:28<00:18,  6.27it/s]"
     ]
    },
    {
     "name": "stdout",
     "output_type": "stream",
     "text": [
      "Found 11517 lines. Skipped 11. Loaded 11506 points.\n",
      "Fitness score:  0.8078285181733458\n",
      "Frame : 893\n",
      "Error--------: 170.8502818629957\n",
      "Latent error above the threshold of 1.2\n",
      "Found 11567 lines. Skipped 11. Loaded 11556 points.\n",
      "Fitness score:  0.8164800880895577\n",
      "Frame : 894\n",
      "Error--------: 171.25617386762357\n",
      "Latent error above the threshold of 1.2\n"
     ]
    },
    {
     "name": "stderr",
     "output_type": "stream",
     "text": [
      " 88%|████████▊ | 896/1014 [02:28<00:17,  6.68it/s]"
     ]
    },
    {
     "name": "stdout",
     "output_type": "stream",
     "text": [
      "Found 12394 lines. Skipped 11. Loaded 12383 points.\n",
      "Fitness score:  0.8168859649122807\n",
      "Frame : 895\n",
      "Error--------: 170.8955339385293\n",
      "Latent error above the threshold of 1.2\n",
      "Found 12265 lines. Skipped 11. Loaded 12254 points.\n"
     ]
    },
    {
     "name": "stderr",
     "output_type": "stream",
     "text": [
      " 89%|████████▊ | 898/1014 [02:29<00:16,  6.93it/s]"
     ]
    },
    {
     "name": "stdout",
     "output_type": "stream",
     "text": [
      "Fitness score:  0.821981981981982\n",
      "Frame : 896\n",
      "Error--------: 171.2735698528194\n",
      "Latent error above the threshold of 1.2\n",
      "Found 12522 lines. Skipped 11. Loaded 12511 points.\n",
      "Fitness score:  0.8155249441548772\n",
      "Frame : 897\n",
      "Error--------: 170.5446406813779\n",
      "Latent error above the threshold of 1.2\n",
      "Found 11335 lines. Skipped 11. Loaded 11324 points.\n"
     ]
    },
    {
     "name": "stderr",
     "output_type": "stream",
     "text": [
      " 89%|████████▉ | 900/1014 [02:29<00:16,  7.02it/s]"
     ]
    },
    {
     "name": "stdout",
     "output_type": "stream",
     "text": [
      "Fitness score:  0.8146575595347979\n",
      "Frame : 898\n",
      "Error--------: 171.78429794354517\n",
      "Latent error above the threshold of 1.2\n",
      "Found 12322 lines. Skipped 11. Loaded 12311 points.\n",
      "Fitness score:  0.8097173471272862\n",
      "Frame : 899\n",
      "Error--------: 170.7679337657292\n",
      "Latent error above the threshold of 1.2\n",
      "Found 12328 lines. Skipped 11. Loaded 12317 points.\n"
     ]
    },
    {
     "name": "stderr",
     "output_type": "stream",
     "text": [
      " 89%|████████▉ | 901/1014 [02:29<00:19,  5.81it/s]"
     ]
    },
    {
     "name": "stdout",
     "output_type": "stream",
     "text": [
      "Fitness score:  0.8141738021497541\n",
      "Frame : 900\n",
      "Error--------: 171.76690165122636\n",
      "Latent error above the threshold of 1.2\n",
      "Found 11679 lines. Skipped 11. Loaded 11668 points.\n"
     ]
    },
    {
     "name": "stderr",
     "output_type": "stream",
     "text": [
      " 89%|████████▉ | 903/1014 [02:30<00:20,  5.51it/s]"
     ]
    },
    {
     "name": "stdout",
     "output_type": "stream",
     "text": [
      "Fitness score:  0.8249448566272308\n",
      "Frame : 901\n",
      "Error--------: 170.83140469476626\n",
      "Latent error above the threshold of 1.2\n",
      "Found 11840 lines. Skipped 11. Loaded 11829 points.\n",
      "Fitness score:  0.814526353921391\n",
      "Frame : 902\n",
      "Error--------: 171.70685041520093\n",
      "Latent error above the threshold of 1.2\n",
      "Found 12541 lines. Skipped 11. Loaded 12530 points.\n"
     ]
    },
    {
     "name": "stderr",
     "output_type": "stream",
     "text": [
      " 89%|████████▉ | 905/1014 [02:30<00:17,  6.23it/s]"
     ]
    },
    {
     "name": "stdout",
     "output_type": "stream",
     "text": [
      "Fitness score:  1.0\n",
      "Frame : 903\n",
      "Error--------: 172.7931682156587\n",
      "Latent error above the threshold of 1.2\n",
      "Found 12739 lines. Skipped 11. Loaded 12728 points.\n",
      "Fitness score:  0.9111528234005944\n",
      "Frame : 904\n",
      "Error--------: 171.2752543588854\n",
      "Latent error above the threshold of 1.2\n",
      "Found 12114 lines. Skipped 11. Loaded 12103 points.\n"
     ]
    },
    {
     "name": "stderr",
     "output_type": "stream",
     "text": [
      " 89%|████████▉ | 907/1014 [02:30<00:15,  6.97it/s]"
     ]
    },
    {
     "name": "stdout",
     "output_type": "stream",
     "text": [
      "Fitness score:  0.8200181983621474\n",
      "Frame : 905\n",
      "Error--------: 171.63821126313488\n",
      "Latent error above the threshold of 1.2\n",
      "Found 13203 lines. Skipped 11. Loaded 13192 points.\n",
      "Fitness score:  0.8235088943146146\n",
      "Frame : 906\n",
      "Error--------: 172.09317121726943\n",
      "Latent error above the threshold of 1.2\n",
      "Found 10567 lines. Skipped 11. Loaded 10556 points.\n"
     ]
    },
    {
     "name": "stderr",
     "output_type": "stream",
     "text": [
      " 90%|████████▉ | 909/1014 [02:30<00:14,  7.12it/s]"
     ]
    },
    {
     "name": "stdout",
     "output_type": "stream",
     "text": [
      "Fitness score:  0.8257389162561576\n",
      "Frame : 907\n",
      "Error--------: 171.53199634691117\n",
      "Latent error above the threshold of 1.2\n",
      "Found 9503 lines. Skipped 11. Loaded 9492 points.\n",
      "Fitness score:  0.8340646190666134\n",
      "Frame : 908\n",
      "Error--------: 172.20180792477103\n",
      "Latent error above the threshold of 1.2\n",
      "Found 12413 lines. Skipped 11. Loaded 12402 points.\n"
     ]
    },
    {
     "name": "stderr",
     "output_type": "stream",
     "text": [
      " 90%|████████▉ | 910/1014 [02:31<00:14,  7.02it/s]"
     ]
    },
    {
     "name": "stdout",
     "output_type": "stream",
     "text": [
      "Fitness score:  0.8237743706227523\n",
      "Frame : 909\n",
      "Error--------: 171.8383877886235\n",
      "Latent error above the threshold of 1.2\n",
      "Found 13039 lines. Skipped 11. Loaded 13028 points.\n"
     ]
    },
    {
     "name": "stderr",
     "output_type": "stream",
     "text": [
      " 90%|████████▉ | 912/1014 [02:31<00:16,  6.12it/s]"
     ]
    },
    {
     "name": "stdout",
     "output_type": "stream",
     "text": [
      "Fitness score:  0.8138407013616863\n",
      "Frame : 910\n",
      "Error--------: 172.5517767050801\n",
      "Latent error above the threshold of 1.2\n",
      "Found 9633 lines. Skipped 11. Loaded 9622 points.\n",
      "Fitness score:  0.8284171167428334\n",
      "Frame : 911\n",
      "Error--------: 171.94609208788316\n",
      "Latent error above the threshold of 1.2\n",
      "Found 11788 lines. Skipped 11. Loaded 11777 points.\n"
     ]
    },
    {
     "name": "stderr",
     "output_type": "stream",
     "text": [
      " 90%|█████████ | 914/1014 [02:31<00:15,  6.52it/s]"
     ]
    },
    {
     "name": "stdout",
     "output_type": "stream",
     "text": [
      "Fitness score:  0.8300510576221736\n",
      "Frame : 912\n",
      "Error--------: 172.52450780668855\n",
      "Latent error above the threshold of 1.2\n",
      "Found 11695 lines. Skipped 11. Loaded 11684 points.\n",
      "Fitness score:  0.820580474934037\n",
      "Frame : 913\n",
      "Error--------: 172.17486084171128\n",
      "Latent error above the threshold of 1.2\n",
      "Found 12221 lines. Skipped 11. Loaded 12210 points.\n"
     ]
    },
    {
     "name": "stderr",
     "output_type": "stream",
     "text": [
      " 90%|█████████ | 916/1014 [02:31<00:14,  6.91it/s]"
     ]
    },
    {
     "name": "stdout",
     "output_type": "stream",
     "text": [
      "Fitness score:  0.8232204310813258\n",
      "Frame : 914\n",
      "Error--------: 172.64111803525313\n",
      "Latent error above the threshold of 1.2\n",
      "Found 13924 lines. Skipped 11. Loaded 13913 points.\n",
      "Fitness score:  0.9096774193548387\n",
      "Frame : 915\n",
      "Error--------: 173.3804083471527\n",
      "Latent error above the threshold of 1.2\n",
      "Found 13297 lines. Skipped 11. Loaded 13286 points.\n"
     ]
    },
    {
     "name": "stderr",
     "output_type": "stream",
     "text": [
      " 91%|█████████ | 918/1014 [02:32<00:13,  7.20it/s]"
     ]
    },
    {
     "name": "stdout",
     "output_type": "stream",
     "text": [
      "Fitness score:  0.8148791934642795\n",
      "Frame : 916\n",
      "Error--------: 172.63291120172087\n",
      "Latent error above the threshold of 1.2\n",
      "Found 11679 lines. Skipped 11. Loaded 11668 points.\n",
      "Fitness score:  0.819352395379663\n",
      "Frame : 917\n",
      "Error--------: 172.87578927468695\n",
      "Latent error above the threshold of 1.2\n"
     ]
    },
    {
     "name": "stderr",
     "output_type": "stream",
     "text": [
      " 91%|█████████ | 919/1014 [02:32<00:15,  6.10it/s]"
     ]
    },
    {
     "name": "stdout",
     "output_type": "stream",
     "text": [
      "Found 11103 lines. Skipped 11. Loaded 11092 points.\n",
      "Fitness score:  0.8107955614068083\n",
      "Frame : 918\n",
      "Error--------: 173.0422300829779\n",
      "Latent error above the threshold of 1.2\n",
      "Found 13052 lines. Skipped 11. Loaded 13041 points.\n"
     ]
    },
    {
     "name": "stderr",
     "output_type": "stream",
     "text": [
      " 91%|█████████ | 921/1014 [02:32<00:14,  6.35it/s]"
     ]
    },
    {
     "name": "stdout",
     "output_type": "stream",
     "text": [
      "Fitness score:  0.8167597765363128\n",
      "Frame : 919\n",
      "Error--------: 172.96946173637156\n",
      "Latent error above the threshold of 1.2\n",
      "Found 12861 lines. Skipped 11. Loaded 12850 points.\n",
      "Fitness score:  0.8208457624144587\n",
      "Frame : 920\n",
      "Error--------: 173.36875005290153\n",
      "Latent error above the threshold of 1.2\n"
     ]
    },
    {
     "name": "stderr",
     "output_type": "stream",
     "text": [
      " 91%|█████████ | 922/1014 [02:32<00:15,  6.07it/s]"
     ]
    },
    {
     "name": "stdout",
     "output_type": "stream",
     "text": [
      "Found 11012 lines. Skipped 11. Loaded 11001 points.\n",
      "Fitness score:  0.8334906550877855\n",
      "Frame : 921\n",
      "Error--------: 172.15842628937898\n",
      "Latent error above the threshold of 1.2\n",
      "Found 11012 lines. Skipped 11. Loaded 11001 points.\n"
     ]
    },
    {
     "name": "stderr",
     "output_type": "stream",
     "text": [
      " 91%|█████████ | 924/1014 [02:33<00:12,  7.06it/s]"
     ]
    },
    {
     "name": "stdout",
     "output_type": "stream",
     "text": [
      "Fitness score:  0.2476873702095526\n",
      "Frame : 922\n",
      "Error--------: 172.91009943484318\n",
      "Latent error above the threshold of 1.2\n",
      "Found 11959 lines. Skipped 11. Loaded 11948 points.\n",
      "Fitness score:  0.8213765477057539\n",
      "Frame : 923\n",
      "Error--------: 173.8683964330007\n",
      "Latent error above the threshold of 1.2\n",
      "Found 11812 lines. Skipped 11. Loaded 11801 points.\n"
     ]
    },
    {
     "name": "stderr",
     "output_type": "stream",
     "text": [
      " 91%|█████████▏| 926/1014 [02:33<00:12,  7.17it/s]"
     ]
    },
    {
     "name": "stdout",
     "output_type": "stream",
     "text": [
      "Fitness score:  0.8031394275161589\n",
      "Frame : 924\n",
      "Error--------: 175.45457368260062\n",
      "Latent error above the threshold of 1.2\n",
      "Found 12212 lines. Skipped 11. Loaded 12201 points.\n",
      "Fitness score:  0.8017366136034733\n",
      "Frame : 925\n",
      "Error--------: 174.96250410600138\n",
      "Latent error above the threshold of 1.2\n"
     ]
    },
    {
     "name": "stderr",
     "output_type": "stream",
     "text": [
      " 92%|█████████▏| 928/1014 [02:33<00:12,  6.76it/s]"
     ]
    },
    {
     "name": "stdout",
     "output_type": "stream",
     "text": [
      "Found 13194 lines. Skipped 11. Loaded 13183 points.\n",
      "Fitness score:  0.9051428571428571\n",
      "Frame : 926\n",
      "Error--------: 174.71384466699197\n",
      "Latent error above the threshold of 1.2\n",
      "Found 11812 lines. Skipped 11. Loaded 11801 points.\n",
      "Fitness score:  0.7674935209181785\n",
      "Frame : 927\n",
      "Error--------: 174.82017304356933\n",
      "Latent error above the threshold of 1.2\n"
     ]
    },
    {
     "name": "stderr",
     "output_type": "stream",
     "text": [
      " 92%|█████████▏| 929/1014 [02:33<00:11,  7.25it/s]"
     ]
    },
    {
     "name": "stdout",
     "output_type": "stream",
     "text": [
      "Found 10840 lines. Skipped 11. Loaded 10829 points.\n",
      "Fitness score:  0.8010721807390389\n",
      "Frame : 928\n",
      "Error--------: 176.0115726915859\n",
      "Latent error above the threshold of 1.2\n",
      "Found 12285 lines. Skipped 11. Loaded 12274 points.\n"
     ]
    },
    {
     "name": "stderr",
     "output_type": "stream",
     "text": [
      " 92%|█████████▏| 931/1014 [02:34<00:13,  6.13it/s]"
     ]
    },
    {
     "name": "stdout",
     "output_type": "stream",
     "text": [
      "Fitness score:  0.7808219178082192\n",
      "Frame : 929\n",
      "Error--------: 175.36879348645422\n",
      "Latent error above the threshold of 1.2\n",
      "Found 12674 lines. Skipped 11. Loaded 12663 points.\n",
      "Fitness score:  0.787760185020459\n",
      "Frame : 930\n",
      "Error--------: 176.40344278647936\n",
      "Latent error above the threshold of 1.2\n"
     ]
    },
    {
     "name": "stderr",
     "output_type": "stream",
     "text": [
      " 92%|█████████▏| 933/1014 [02:34<00:11,  7.17it/s]"
     ]
    },
    {
     "name": "stdout",
     "output_type": "stream",
     "text": [
      "Found 12237 lines. Skipped 11. Loaded 12226 points.\n",
      "Fitness score:  0.8012302960399846\n",
      "Frame : 931\n",
      "Error--------: 175.68224716035587\n",
      "Latent error above the threshold of 1.2\n",
      "Found 10612 lines. Skipped 11. Loaded 10601 points.\n",
      "Fitness score:  0.804557061481045\n",
      "Frame : 932\n",
      "Error--------: 176.61318666008077\n",
      "Latent error above the threshold of 1.2\n"
     ]
    },
    {
     "name": "stderr",
     "output_type": "stream",
     "text": [
      " 92%|█████████▏| 934/1014 [02:34<00:10,  7.68it/s]"
     ]
    },
    {
     "name": "stdout",
     "output_type": "stream",
     "text": [
      "Found 12307 lines. Skipped 11. Loaded 12296 points.\n",
      "Fitness score:  0.8124875324157191\n",
      "Frame : 933\n",
      "Error--------: 176.02515566449813\n",
      "Latent error above the threshold of 1.2\n"
     ]
    },
    {
     "name": "stderr",
     "output_type": "stream",
     "text": [
      " 92%|█████████▏| 936/1014 [02:34<00:11,  7.04it/s]"
     ]
    },
    {
     "name": "stdout",
     "output_type": "stream",
     "text": [
      "Found 13558 lines. Skipped 11. Loaded 13547 points.\n",
      "Fitness score:  0.793836344314559\n",
      "Frame : 934\n",
      "Error--------: 176.9905178057283\n",
      "Latent error above the threshold of 1.2\n",
      "Found 13111 lines. Skipped 11. Loaded 13100 points.\n",
      "Fitness score:  0.8117715617715617\n",
      "Frame : 935\n",
      "Error--------: 176.44481027364694\n",
      "Latent error above the threshold of 1.2\n"
     ]
    },
    {
     "name": "stderr",
     "output_type": "stream",
     "text": [
      " 92%|█████████▏| 937/1014 [02:35<00:11,  6.91it/s]"
     ]
    },
    {
     "name": "stdout",
     "output_type": "stream",
     "text": [
      "Found 11381 lines. Skipped 11. Loaded 11370 points.\n",
      "Fitness score:  0.7988816043193212\n",
      "Frame : 936\n",
      "Error--------: 177.23899800820425\n",
      "Latent error above the threshold of 1.2\n",
      "Found 15735 lines. Skipped 11. Loaded 15724 points.\n"
     ]
    },
    {
     "name": "stderr",
     "output_type": "stream",
     "text": [
      " 93%|█████████▎| 939/1014 [02:35<00:10,  7.06it/s]"
     ]
    },
    {
     "name": "stdout",
     "output_type": "stream",
     "text": [
      "Fitness score:  0.8660714285714286\n",
      "Frame : 937\n",
      "Error--------: 176.37387730903018\n",
      "Latent error above the threshold of 1.2\n",
      "Found 13933 lines. Skipped 11. Loaded 13922 points.\n",
      "Fitness score:  0.7793053545586107\n",
      "Frame : 938\n",
      "Error--------: 177.2930713607979\n",
      "Latent error above the threshold of 1.2\n",
      "Found 11187 lines. Skipped 11. Loaded 11176 points.\n"
     ]
    },
    {
     "name": "stderr",
     "output_type": "stream",
     "text": [
      " 93%|█████████▎| 941/1014 [02:35<00:09,  7.31it/s]"
     ]
    },
    {
     "name": "stdout",
     "output_type": "stream",
     "text": [
      "Fitness score:  0.81064039408867\n",
      "Frame : 939\n",
      "Error--------: 177.05468917607408\n",
      "Latent error above the threshold of 1.2\n",
      "Found 12162 lines. Skipped 11. Loaded 12151 points.\n",
      "Fitness score:  0.7969420100689912\n",
      "Frame : 940\n",
      "Error--------: 177.9145064296637\n",
      "Latent error above the threshold of 1.2\n",
      "Found 12068 lines. Skipped 11. Loaded 12057 points.\n"
     ]
    },
    {
     "name": "stderr",
     "output_type": "stream",
     "text": [
      " 93%|█████████▎| 943/1014 [02:35<00:09,  7.76it/s]"
     ]
    },
    {
     "name": "stdout",
     "output_type": "stream",
     "text": [
      "Fitness score:  0.796809095910508\n",
      "Frame : 941\n",
      "Error--------: 177.292146864149\n",
      "Latent error above the threshold of 1.2\n",
      "Found 9897 lines. Skipped 11. Loaded 9886 points.\n",
      "Fitness score:  0.8095142914251449\n",
      "Frame : 942\n",
      "Error--------: 178.19761700855776\n",
      "Latent error above the threshold of 1.2\n"
     ]
    },
    {
     "name": "stderr",
     "output_type": "stream",
     "text": [
      " 93%|█████████▎| 944/1014 [02:36<00:10,  6.51it/s]"
     ]
    },
    {
     "name": "stdout",
     "output_type": "stream",
     "text": [
      "Found 12404 lines. Skipped 11. Loaded 12393 points.\n",
      "Fitness score:  0.7904898105112621\n",
      "Frame : 943\n",
      "Error--------: 177.48592993884725\n",
      "Latent error above the threshold of 1.2\n",
      "Found 11550 lines. Skipped 11. Loaded 11539 points.\n",
      "Fitness score:  0.8088093864204655\n"
     ]
    },
    {
     "name": "stderr",
     "output_type": "stream",
     "text": [
      " 93%|█████████▎| 946/1014 [02:36<00:09,  7.28it/s]"
     ]
    },
    {
     "name": "stdout",
     "output_type": "stream",
     "text": [
      "Frame : 944\n",
      "Error--------: 178.46087179622307\n",
      "Latent error above the threshold of 1.2\n",
      "Found 12405 lines. Skipped 11. Loaded 12394 points.\n",
      "Fitness score:  0.7943236931920244\n",
      "Frame : 945\n",
      "Error--------: 177.68728506968637\n",
      "Latent error above the threshold of 1.2\n",
      "Found 13087 lines. Skipped 11. Loaded 13076 points.\n"
     ]
    },
    {
     "name": "stderr",
     "output_type": "stream",
     "text": [
      " 93%|█████████▎| 948/1014 [02:36<00:09,  6.85it/s]"
     ]
    },
    {
     "name": "stdout",
     "output_type": "stream",
     "text": [
      "Fitness score:  0.7829809540450813\n",
      "Frame : 946\n",
      "Error--------: 178.66674061636633\n",
      "Latent error above the threshold of 1.2\n",
      "Found 13488 lines. Skipped 11. Loaded 13477 points.\n",
      "Fitness score:  0.8097079868497389\n",
      "Frame : 947\n",
      "Error--------: 177.83650674220684\n",
      "Latent error above the threshold of 1.2\n",
      "Found 15316 lines. Skipped 11. Loaded 15305 points.\n"
     ]
    },
    {
     "name": "stderr",
     "output_type": "stream",
     "text": [
      " 94%|█████████▎| 950/1014 [02:36<00:08,  7.28it/s]"
     ]
    },
    {
     "name": "stdout",
     "output_type": "stream",
     "text": [
      "Fitness score:  0.899042004421518\n",
      "Frame : 948\n",
      "Error--------: 177.3278545296331\n",
      "Latent error above the threshold of 1.2\n",
      "Found 12773 lines. Skipped 11. Loaded 12762 points.\n",
      "Fitness score:  0.7633030788396512\n",
      "Frame : 949\n",
      "Error--------: 177.7265819402739\n",
      "Latent error above the threshold of 1.2\n"
     ]
    },
    {
     "name": "stderr",
     "output_type": "stream",
     "text": [
      " 94%|█████████▍| 951/1014 [02:37<00:10,  5.89it/s]"
     ]
    },
    {
     "name": "stdout",
     "output_type": "stream",
     "text": [
      "Found 11124 lines. Skipped 11. Loaded 11113 points.\n",
      "Fitness score:  0.7883129123468426\n",
      "Frame : 950\n",
      "Error--------: 179.06608575698246\n",
      "Latent error above the threshold of 1.2\n",
      "Found 13555 lines. Skipped 11. Loaded 13544 points.\n"
     ]
    },
    {
     "name": "stderr",
     "output_type": "stream",
     "text": [
      " 94%|█████████▍| 953/1014 [02:37<00:09,  6.54it/s]"
     ]
    },
    {
     "name": "stdout",
     "output_type": "stream",
     "text": [
      "Fitness score:  0.8064995357474466\n",
      "Frame : 951\n",
      "Error--------: 178.2210295413892\n",
      "Latent error above the threshold of 1.2\n",
      "Found 11582 lines. Skipped 11. Loaded 11571 points.\n",
      "Fitness score:  0.8143939393939394\n",
      "Frame : 952\n",
      "Error--------: 178.99866031113183\n",
      "Latent error above the threshold of 1.2\n",
      "Found 12471 lines. Skipped 11. Loaded 12460 points.\n"
     ]
    },
    {
     "name": "stderr",
     "output_type": "stream",
     "text": [
      " 94%|█████████▍| 955/1014 [02:37<00:08,  7.36it/s]"
     ]
    },
    {
     "name": "stdout",
     "output_type": "stream",
     "text": [
      "Fitness score:  0.8002931476731403\n",
      "Frame : 953\n",
      "Error--------: 178.710870861627\n",
      "Latent error above the threshold of 1.2\n",
      "Found 12290 lines. Skipped 11. Loaded 12279 points.\n",
      "Fitness score:  0.8080305927342256\n",
      "Frame : 954\n",
      "Error--------: 179.3754105192676\n",
      "Latent error above the threshold of 1.2\n",
      "Found 12670 lines. Skipped 11. Loaded 12659 points.\n"
     ]
    },
    {
     "name": "stderr",
     "output_type": "stream",
     "text": [
      " 94%|█████████▍| 957/1014 [02:37<00:07,  7.61it/s]"
     ]
    },
    {
     "name": "stdout",
     "output_type": "stream",
     "text": [
      "Fitness score:  0.7885906040268457\n",
      "Frame : 955\n",
      "Error--------: 178.85706624879109\n",
      "Latent error above the threshold of 1.2\n",
      "Found 11865 lines. Skipped 11. Loaded 11854 points.\n",
      "Fitness score:  0.8045056786445727\n",
      "Frame : 956\n",
      "Error--------: 179.6621297427723\n",
      "Latent error above the threshold of 1.2\n",
      "Found 12518 lines. Skipped 11. Loaded 12507 points.\n"
     ]
    },
    {
     "name": "stderr",
     "output_type": "stream",
     "text": [
      " 94%|█████████▍| 958/1014 [02:38<00:08,  6.39it/s]"
     ]
    },
    {
     "name": "stdout",
     "output_type": "stream",
     "text": [
      "Fitness score:  0.8036693777189332\n",
      "Frame : 957\n",
      "Error--------: 179.02248132616882\n",
      "Latent error above the threshold of 1.2\n",
      "Found 10167 lines. Skipped 11. Loaded 10156 points.\n"
     ]
    },
    {
     "name": "stderr",
     "output_type": "stream",
     "text": [
      " 95%|█████████▍| 960/1014 [02:38<00:08,  6.39it/s]"
     ]
    },
    {
     "name": "stdout",
     "output_type": "stream",
     "text": [
      "Fitness score:  0.804276632633404\n",
      "Frame : 958\n",
      "Error--------: 179.75201710260242\n",
      "Latent error above the threshold of 1.2\n",
      "Found 14198 lines. Skipped 11. Loaded 14187 points.\n",
      "Fitness score:  0.8915840851944978\n",
      "Frame : 959\n",
      "Error--------: 178.41639192671025\n",
      "Latent error above the threshold of 1.2\n",
      "Found 11355 lines. Skipped 11. Loaded 11344 points.\n"
     ]
    },
    {
     "name": "stderr",
     "output_type": "stream",
     "text": [
      " 95%|█████████▍| 962/1014 [02:38<00:07,  7.11it/s]"
     ]
    },
    {
     "name": "stdout",
     "output_type": "stream",
     "text": [
      "Fitness score:  0.789778206364513\n",
      "Frame : 960\n",
      "Error--------: 179.60576612303592\n",
      "Latent error above the threshold of 1.2\n",
      "Found 12775 lines. Skipped 11. Loaded 12764 points.\n",
      "Fitness score:  0.8144409937888198\n",
      "Frame : 961\n",
      "Error--------: 179.9052518129755\n",
      "Latent error above the threshold of 1.2\n",
      "Found 12653 lines. Skipped 11. Loaded 12642 points.\n"
     ]
    },
    {
     "name": "stderr",
     "output_type": "stream",
     "text": [
      " 95%|█████████▌| 964/1014 [02:38<00:06,  7.61it/s]"
     ]
    },
    {
     "name": "stdout",
     "output_type": "stream",
     "text": [
      "Fitness score:  0.7997118155619597\n",
      "Frame : 962\n",
      "Error--------: 179.7226844860973\n",
      "Latent error above the threshold of 1.2\n",
      "Found 11004 lines. Skipped 11. Loaded 10993 points.\n",
      "Fitness score:  0.8193535975375145\n",
      "Frame : 963\n",
      "Error--------: 179.82293303370093\n",
      "Latent error above the threshold of 1.2\n",
      "Found 11004 lines. Skipped 11. Loaded 10993 points.\n"
     ]
    },
    {
     "name": "stderr",
     "output_type": "stream",
     "text": [
      " 95%|█████████▌| 966/1014 [02:39<00:07,  6.36it/s]"
     ]
    },
    {
     "name": "stdout",
     "output_type": "stream",
     "text": [
      "Fitness score:  0.8208926510196229\n",
      "Frame : 964\n",
      "Error--------: 180.29452720487697\n",
      "Latent error above the threshold of 1.2\n",
      "Found 13355 lines. Skipped 11. Loaded 13344 points.\n",
      "Fitness score:  0.8108755760368663\n",
      "Frame : 965\n",
      "Error--------: 179.85564297233668\n",
      "Latent error above the threshold of 1.2\n"
     ]
    },
    {
     "name": "stderr",
     "output_type": "stream",
     "text": [
      " 95%|█████████▌| 967/1014 [02:39<00:08,  5.79it/s]"
     ]
    },
    {
     "name": "stdout",
     "output_type": "stream",
     "text": [
      "Found 11022 lines. Skipped 11. Loaded 11011 points.\n",
      "Fitness score:  0.8109790605546123\n",
      "Frame : 966\n",
      "Error--------: 180.43750610251115\n",
      "Latent error above the threshold of 1.2\n",
      "Found 14411 lines. Skipped 11. Loaded 14400 points.\n"
     ]
    },
    {
     "name": "stderr",
     "output_type": "stream",
     "text": [
      " 96%|█████████▌| 969/1014 [02:39<00:07,  5.86it/s]"
     ]
    },
    {
     "name": "stdout",
     "output_type": "stream",
     "text": [
      "Fitness score:  0.792256523963841\n",
      "Frame : 967\n",
      "Error--------: 180.76353171827824\n",
      "Latent error above the threshold of 1.2\n",
      "Found 14139 lines. Skipped 11. Loaded 14128 points.\n",
      "Fitness score:  0.8331145696606038\n",
      "Frame : 968\n",
      "Error--------: 180.99210752106168\n",
      "Latent error above the threshold of 1.2\n"
     ]
    },
    {
     "name": "stderr",
     "output_type": "stream",
     "text": [
      " 96%|█████████▌| 970/1014 [02:40<00:06,  6.50it/s]"
     ]
    },
    {
     "name": "stdout",
     "output_type": "stream",
     "text": [
      "Found 11002 lines. Skipped 11. Loaded 10991 points.\n",
      "Fitness score:  0.8154482240180417\n",
      "Frame : 969\n",
      "Error--------: 180.67192463524395\n",
      "Latent error above the threshold of 1.2\n",
      "Found 16272 lines. Skipped 11. Loaded 16261 points.\n"
     ]
    },
    {
     "name": "stderr",
     "output_type": "stream",
     "text": [
      " 96%|█████████▌| 972/1014 [02:40<00:06,  6.73it/s]"
     ]
    },
    {
     "name": "stdout",
     "output_type": "stream",
     "text": [
      "Fitness score:  0.8908670834465887\n",
      "Frame : 970\n",
      "Error--------: 179.24095304474818\n",
      "Latent error above the threshold of 1.2\n",
      "Found 11406 lines. Skipped 11. Loaded 11395 points.\n",
      "Fitness score:  0.7788318452380952\n",
      "Frame : 971\n",
      "Error--------: 180.561907116584\n",
      "Latent error above the threshold of 1.2\n",
      "Found 12502 lines. Skipped 11. Loaded 12491 points.\n"
     ]
    },
    {
     "name": "stderr",
     "output_type": "stream",
     "text": [
      " 96%|█████████▌| 973/1014 [02:40<00:06,  6.63it/s]"
     ]
    },
    {
     "name": "stdout",
     "output_type": "stream",
     "text": [
      "Fitness score:  0.7876059322033898\n",
      "Frame : 972\n",
      "Error--------: 180.69207750090754\n",
      "Latent error above the threshold of 1.2\n",
      "Found 13508 lines. Skipped 11. Loaded 13497 points.\n"
     ]
    },
    {
     "name": "stderr",
     "output_type": "stream",
     "text": [
      " 96%|█████████▌| 975/1014 [02:40<00:06,  6.04it/s]"
     ]
    },
    {
     "name": "stdout",
     "output_type": "stream",
     "text": [
      "Fitness score:  0.8037560303239145\n",
      "Frame : 973\n",
      "Error--------: 181.36661748887303\n",
      "Latent error above the threshold of 1.2\n",
      "Found 12141 lines. Skipped 11. Loaded 12130 points.\n",
      "Fitness score:  0.15956853263901805\n",
      "Frame : 974\n",
      "Error--------: 180.9206161260721\n",
      "Latent error above the threshold of 1.2\n",
      "Found 12705 lines. Skipped 11. Loaded 12694 points.\n"
     ]
    },
    {
     "name": "stderr",
     "output_type": "stream",
     "text": [
      " 96%|█████████▋| 977/1014 [02:41<00:05,  6.84it/s]"
     ]
    },
    {
     "name": "stdout",
     "output_type": "stream",
     "text": [
      "Fitness score:  0.809223563321924\n",
      "Frame : 975\n",
      "Error--------: 181.56872241111705\n",
      "Latent error above the threshold of 1.2\n",
      "Found 12310 lines. Skipped 11. Loaded 12299 points.\n",
      "Fitness score:  0.7941541186891053\n",
      "Frame : 976\n",
      "Error--------: 182.27257410824805\n",
      "Latent error above the threshold of 1.2\n",
      "Found 13209 lines. Skipped 11. Loaded 13198 points.\n"
     ]
    },
    {
     "name": "stderr",
     "output_type": "stream",
     "text": [
      " 97%|█████████▋| 979/1014 [02:41<00:06,  5.49it/s]"
     ]
    },
    {
     "name": "stdout",
     "output_type": "stream",
     "text": [
      "Fitness score:  0.8175210405508799\n",
      "Frame : 977\n",
      "Error--------: 182.08153046954774\n",
      "Latent error above the threshold of 1.2\n",
      "Found 11665 lines. Skipped 11. Loaded 11654 points.\n",
      "Fitness score:  0.8019726858877086\n",
      "Frame : 978\n",
      "Error--------: 182.52644499905307\n",
      "Latent error above the threshold of 1.2\n"
     ]
    },
    {
     "name": "stderr",
     "output_type": "stream",
     "text": [
      " 97%|█████████▋| 980/1014 [02:41<00:05,  5.94it/s]"
     ]
    },
    {
     "name": "stdout",
     "output_type": "stream",
     "text": [
      "Found 13766 lines. Skipped 11. Loaded 13755 points.\n",
      "Fitness score:  0.783569209527097\n",
      "Frame : 979\n",
      "Error--------: 182.32609954524494\n",
      "Latent error above the threshold of 1.2\n",
      "Found 11891 lines. Skipped 11. Loaded 11880 points.\n"
     ]
    },
    {
     "name": "stderr",
     "output_type": "stream",
     "text": [
      " 97%|█████████▋| 981/1014 [02:41<00:05,  6.33it/s]"
     ]
    },
    {
     "name": "stdout",
     "output_type": "stream",
     "text": [
      "Fitness score:  0.8019652305366591\n",
      "Frame : 980\n",
      "Error--------: 182.47652163393127\n",
      "Latent error above the threshold of 1.2\n",
      "Found 15831 lines. Skipped 11. Loaded 15820 points.\n"
     ]
    },
    {
     "name": "stderr",
     "output_type": "stream",
     "text": [
      " 97%|█████████▋| 983/1014 [02:42<00:05,  6.08it/s]"
     ]
    },
    {
     "name": "stdout",
     "output_type": "stream",
     "text": [
      "Fitness score:  0.8254011422355181\n",
      "Frame : 981\n",
      "Error--------: 182.37682488455533\n",
      "Latent error above the threshold of 1.2\n",
      "Found 11674 lines. Skipped 11. Loaded 11663 points.\n",
      "Fitness score:  0.7702383118064399\n",
      "Frame : 982\n",
      "Error--------: 182.74876685873397\n",
      "Latent error above the threshold of 1.2\n",
      "Found 14255 lines. Skipped 11. Loaded 14244 points.\n"
     ]
    },
    {
     "name": "stderr",
     "output_type": "stream",
     "text": [
      " 97%|█████████▋| 985/1014 [02:42<00:04,  6.77it/s]"
     ]
    },
    {
     "name": "stdout",
     "output_type": "stream",
     "text": [
      "Fitness score:  0.7914047902157296\n",
      "Frame : 983\n",
      "Error--------: 182.2402278265801\n",
      "Latent error above the threshold of 1.2\n",
      "Found 11341 lines. Skipped 11. Loaded 11330 points.\n",
      "Fitness score:  0.7875532506019634\n",
      "Frame : 984\n",
      "Error--------: 182.7021023091427\n",
      "Latent error above the threshold of 1.2\n",
      "Found 11705 lines. Skipped 11. Loaded 11694 points.\n"
     ]
    },
    {
     "name": "stderr",
     "output_type": "stream",
     "text": [
      " 97%|█████████▋| 987/1014 [02:42<00:03,  7.75it/s]"
     ]
    },
    {
     "name": "stdout",
     "output_type": "stream",
     "text": [
      "Fitness score:  0.8036079598289009\n",
      "Frame : 985\n",
      "Error--------: 182.2828005845287\n",
      "Latent error above the threshold of 1.2\n",
      "Found 11637 lines. Skipped 11. Loaded 11626 points.\n",
      "Fitness score:  0.8093362221784518\n",
      "Frame : 986\n",
      "Error--------: 182.69025957473312\n",
      "Latent error above the threshold of 1.2\n",
      "Found 13036 lines. Skipped 11. Loaded 13025 points.\n"
     ]
    },
    {
     "name": "stderr",
     "output_type": "stream",
     "text": [
      " 97%|█████████▋| 988/1014 [02:42<00:03,  7.07it/s]"
     ]
    },
    {
     "name": "stdout",
     "output_type": "stream",
     "text": [
      "Fitness score:  0.7980526505589615\n",
      "Frame : 987\n",
      "Error--------: 182.21697186599923\n",
      "Latent error above the threshold of 1.2\n",
      "Found 12604 lines. Skipped 11. Loaded 12593 points.\n"
     ]
    },
    {
     "name": "stderr",
     "output_type": "stream",
     "text": [
      " 98%|█████████▊| 989/1014 [02:43<00:04,  6.07it/s]"
     ]
    },
    {
     "name": "stdout",
     "output_type": "stream",
     "text": [
      "Fitness score:  0.7986804564907275\n",
      "Frame : 988\n",
      "Error--------: 182.71691743518574\n",
      "Latent error above the threshold of 1.2\n",
      "Found 12991 lines. Skipped 11. Loaded 12980 points.\n"
     ]
    },
    {
     "name": "stderr",
     "output_type": "stream",
     "text": [
      " 98%|█████████▊| 991/1014 [02:43<00:03,  5.96it/s]"
     ]
    },
    {
     "name": "stdout",
     "output_type": "stream",
     "text": [
      "Fitness score:  0.7974638957379359\n",
      "Frame : 989\n",
      "Error--------: 182.1277014092885\n",
      "Latent error above the threshold of 1.2\n",
      "Found 13648 lines. Skipped 11. Loaded 13637 points.\n",
      "Fitness score:  0.7655935613682092\n",
      "Frame : 990\n",
      "Error--------: 182.33548006273807\n",
      "Latent error above the threshold of 1.2\n",
      "Found 12515 lines. Skipped 11. Loaded 12504 points.\n"
     ]
    },
    {
     "name": "stderr",
     "output_type": "stream",
     "text": [
      " 98%|█████████▊| 993/1014 [02:43<00:03,  6.48it/s]"
     ]
    },
    {
     "name": "stdout",
     "output_type": "stream",
     "text": [
      "Fitness score:  0.800810858452318\n",
      "Frame : 991\n",
      "Error--------: 182.0193604333967\n",
      "Latent error above the threshold of 1.2\n",
      "Found 15025 lines. Skipped 11. Loaded 15014 points.\n",
      "Fitness score:  0.8360422013116624\n",
      "Frame : 992\n",
      "Error--------: 182.35266361233548\n",
      "Latent error above the threshold of 1.2\n",
      "Found 8916 lines. Skipped 11. Loaded 8905 points.\n"
     ]
    },
    {
     "name": "stderr",
     "output_type": "stream",
     "text": [
      " 98%|█████████▊| 995/1014 [02:43<00:02,  7.30it/s]"
     ]
    },
    {
     "name": "stdout",
     "output_type": "stream",
     "text": [
      "Fitness score:  0.8040567951318458\n",
      "Frame : 993\n",
      "Error--------: 181.97936772300486\n",
      "Latent error above the threshold of 1.2\n",
      "Found 10810 lines. Skipped 11. Loaded 10799 points.\n",
      "Fitness score:  0.808860034370823\n",
      "Frame : 994\n",
      "Error--------: 182.49388734814178\n",
      "Latent error above the threshold of 1.2\n",
      "Found 12769 lines. Skipped 11. Loaded 12758 points.\n"
     ]
    },
    {
     "name": "stderr",
     "output_type": "stream",
     "text": [
      " 98%|█████████▊| 997/1014 [02:44<00:02,  6.93it/s]"
     ]
    },
    {
     "name": "stdout",
     "output_type": "stream",
     "text": [
      "Fitness score:  0.7991875662310137\n",
      "Frame : 995\n",
      "Error--------: 181.94546235816136\n",
      "Latent error above the threshold of 1.2\n",
      "Found 10108 lines. Skipped 11. Loaded 10097 points.\n",
      "Fitness score:  0.8029210925644916\n",
      "Frame : 996\n",
      "Error--------: 182.50362263019787\n",
      "Latent error above the threshold of 1.2\n"
     ]
    },
    {
     "name": "stderr",
     "output_type": "stream",
     "text": [
      " 98%|█████████▊| 998/1014 [02:44<00:02,  5.86it/s]"
     ]
    },
    {
     "name": "stdout",
     "output_type": "stream",
     "text": [
      "Found 11361 lines. Skipped 11. Loaded 11350 points.\n",
      "Fitness score:  0.7913974524644637\n",
      "Frame : 997\n",
      "Error--------: 181.95440670585447\n",
      "Latent error above the threshold of 1.2\n",
      "Found 11997 lines. Skipped 11. Loaded 11986 points.\n"
     ]
    },
    {
     "name": "stderr",
     "output_type": "stream",
     "text": [
      " 99%|█████████▊| 1000/1014 [02:44<00:02,  6.70it/s]"
     ]
    },
    {
     "name": "stdout",
     "output_type": "stream",
     "text": [
      "Fitness score:  0.8023604346197077\n",
      "Frame : 998\n",
      "Error--------: 182.48545654139247\n",
      "Latent error above the threshold of 1.2\n",
      "Found 13334 lines. Skipped 11. Loaded 13323 points.\n",
      "Fitness score:  0.7938461538461539\n",
      "Frame : 999\n",
      "Error--------: 181.95553350248227\n",
      "Latent error above the threshold of 1.2\n",
      "Found 11565 lines. Skipped 11. Loaded 11554 points.\n"
     ]
    },
    {
     "name": "stderr",
     "output_type": "stream",
     "text": [
      " 99%|█████████▉| 1002/1014 [02:45<00:01,  6.40it/s]"
     ]
    },
    {
     "name": "stdout",
     "output_type": "stream",
     "text": [
      "Fitness score:  0.8020022246941045\n",
      "Frame : 1000\n",
      "Error--------: 182.57402433255302\n",
      "Latent error above the threshold of 1.2\n",
      "Found 12093 lines. Skipped 11. Loaded 12082 points.\n",
      "Fitness score:  0.8012177650429799\n",
      "Frame : 1001\n",
      "Error--------: 181.95990750129187\n",
      "Latent error above the threshold of 1.2\n"
     ]
    },
    {
     "name": "stderr",
     "output_type": "stream",
     "text": [
      " 99%|█████████▉| 1003/1014 [02:45<00:01,  6.45it/s]"
     ]
    },
    {
     "name": "stdout",
     "output_type": "stream",
     "text": [
      "Found 13654 lines. Skipped 11. Loaded 13643 points.\n",
      "Fitness score:  0.7897938492734031\n",
      "Frame : 1002\n",
      "Error--------: 182.5027904847381\n",
      "Latent error above the threshold of 1.2\n",
      "Found 15025 lines. Skipped 11. Loaded 15014 points.\n"
     ]
    },
    {
     "name": "stderr",
     "output_type": "stream",
     "text": [
      " 99%|█████████▉| 1005/1014 [02:45<00:01,  6.57it/s]"
     ]
    },
    {
     "name": "stdout",
     "output_type": "stream",
     "text": [
      "Fitness score:  0.826489877388081\n",
      "Frame : 1003\n",
      "Error--------: 182.41489949325978\n",
      "Latent error above the threshold of 1.2\n",
      "Found 13652 lines. Skipped 11. Loaded 13641 points.\n",
      "Fitness score:  0.7847317744154058\n",
      "Frame : 1004\n",
      "Error--------: 182.27602689716437\n",
      "Latent error above the threshold of 1.2\n"
     ]
    },
    {
     "name": "stderr",
     "output_type": "stream",
     "text": [
      " 99%|█████████▉| 1007/1014 [02:45<00:01,  6.60it/s]"
     ]
    },
    {
     "name": "stdout",
     "output_type": "stream",
     "text": [
      "Found 12905 lines. Skipped 11. Loaded 12894 points.\n",
      "Fitness score:  0.8023508137432188\n",
      "Frame : 1005\n",
      "Error--------: 182.28475883790327\n",
      "Latent error above the threshold of 1.2\n",
      "Found 9851 lines. Skipped 11. Loaded 9840 points.\n",
      "Fitness score:  0.8125124131082423\n",
      "Frame : 1006\n",
      "Error--------: 182.39644061060588\n",
      "Latent error above the threshold of 1.2\n"
     ]
    },
    {
     "name": "stderr",
     "output_type": "stream",
     "text": [
      " 99%|█████████▉| 1008/1014 [02:45<00:00,  7.12it/s]"
     ]
    },
    {
     "name": "stdout",
     "output_type": "stream",
     "text": [
      "Found 12246 lines. Skipped 11. Loaded 12235 points.\n",
      "Fitness score:  0.8136846095526914\n",
      "Frame : 1007\n",
      "Error--------: 182.26875939551053\n",
      "Latent error above the threshold of 1.2\n",
      "Found 12493 lines. Skipped 11. Loaded 12482 points.\n"
     ]
    },
    {
     "name": "stderr",
     "output_type": "stream",
     "text": [
      "100%|█████████▉| 1010/1014 [02:46<00:00,  6.52it/s]"
     ]
    },
    {
     "name": "stdout",
     "output_type": "stream",
     "text": [
      "Fitness score:  0.8139402018663112\n",
      "Frame : 1008\n",
      "Error--------: 182.40470070611178\n",
      "Latent error above the threshold of 1.2\n",
      "Found 14209 lines. Skipped 11. Loaded 14198 points.\n",
      "Fitness score:  0.7973507655255462\n",
      "Frame : 1009\n",
      "Error--------: 182.3105749171095\n",
      "Latent error above the threshold of 1.2\n",
      "Found 11748 lines. Skipped 11. Loaded 11737 points.\n"
     ]
    },
    {
     "name": "stderr",
     "output_type": "stream",
     "text": [
      "100%|█████████▉| 1012/1014 [02:46<00:00,  6.38it/s]"
     ]
    },
    {
     "name": "stdout",
     "output_type": "stream",
     "text": [
      "Fitness score:  0.8102996254681648\n",
      "Frame : 1010\n",
      "Error--------: 182.38484343391235\n",
      "Latent error above the threshold of 1.2\n",
      "Found 13864 lines. Skipped 11. Loaded 13853 points.\n",
      "Fitness score:  0.812110922467459\n",
      "Frame : 1011\n",
      "Error--------: 182.32437370109437\n",
      "Latent error above the threshold of 1.2\n"
     ]
    },
    {
     "name": "stderr",
     "output_type": "stream",
     "text": [
      "100%|██████████| 1014/1014 [02:47<00:00,  6.07it/s]"
     ]
    },
    {
     "name": "stdout",
     "output_type": "stream",
     "text": [
      "Found 26254 lines. Skipped 11. Loaded 26243 points.\n",
      "Fitness score:  0.7868667494076498\n",
      "Frame : 1012\n",
      "Error--------: 182.3774913815114\n",
      "Latent error above the threshold of 1.2\n",
      "Found 12734 lines. Skipped 11. Loaded 12723 points.\n",
      "Fitness score:  0.8044062332079527\n",
      "Frame : 1013\n",
      "Error--------: 182.29063632603706\n",
      "Latent error above the threshold of 1.2\n",
      "Total execution time: 167.016 seconds\n"
     ]
    },
    {
     "name": "stderr",
     "output_type": "stream",
     "text": [
      "\n"
     ]
    }
   ],
   "source": [
    "#initial transformation\n",
    "\n",
    "initTransform = np.identity(4)\n",
    "icp_errors =[]\n",
    "voxel_size = 0.2\n",
    "\n",
    "map_cloud = o3d.io.read_point_cloud(\"app/projects/dataset/map.pcd\")\n",
    "\n",
    "start_time = time.time()\n",
    "\n",
    "\n",
    "#loops over all frames and returns the the lateral errors \n",
    "for sample in tqdm(range(samples)):\n",
    "\n",
    "    frame_path = os.path.join(frames_dir, frame_files[sample])\n",
    "    source_points = load_data(frame_path)\n",
    "    \n",
    "    \n",
    "    #voxel filter\n",
    "    points = voxel_downsample(source_points, 0.2)\n",
    "\n",
    "\n",
    "    #transfrom source points based on last alignment transformation\n",
    "    source_pcd = o3d.geometry.PointCloud()\n",
    "    source_pcd.points = o3d.utility.Vector3dVector(points)\n",
    "    source_pcd = source_pcd.transform(initTransform)\n",
    "    source_points = np.array(source_pcd.points)\n",
    "\n",
    "    #ICP alignmnet \n",
    "    \n",
    "    reg_result = o3d.pipelines.registration.registration_icp(source_pcd, map_cloud,  max_correspondence_distance = 1.6)\n",
    "    \n",
    "    distance = reg_result.fitness\n",
    "    print(\"Fitness score: \", distance)\n",
    "\n",
    "   #transformation matrix from alignment\n",
    "\n",
    "    initTransform = reg_result.transformation\n",
    "\n",
    "    \n",
    "    #grab frame values from ground truth\n",
    "    frame_gt = g_df[g_df['Frame'] == sample]\n",
    "\n",
    "\n",
    "    \n",
    "    # Calculate L2 norm for latent error \n",
    "    errors = np.linalg.norm(np.array([initTransform[0,3],initTransform[1,3],initTransform[2,3]])-np.array([ frame_gt[' x'].item(),  frame_gt[' y'].item(),  frame_gt[' z'].item()]))  \n",
    "    print('Frame :', sample)\n",
    "    print(\"Error--------:\", errors) \n",
    "    if errors>1.2:\n",
    "        print(\"Latent error above the threshold of 1.2\")\n",
    "\n",
    "  \n",
    "    \n",
    "\n",
    "    icp_errors.append(errors)\n",
    "\n",
    "end_time = time.time()\n",
    "total_icp_time = end_time - start_time\n",
    "\n",
    "print(f\"Total execution time: {total_icp_time:.3f} seconds\")\n",
    "\n"
   ]
  },
  {
   "cell_type": "markdown",
   "metadata": {},
   "source": [
    "## NDT Localization ##\n",
    "\n",
    "\n",
    "The normal distribution transform calculates the probability densitiy function based on the normal distribution for the points to estimatate the likelyhood of sampling a point at given area in the pointcloud, this is done piecewise by dividing the pointcloud map into a grid. that a point belongs into certain grid cell. The transformation from one pointcloud to another becomes a statistical problem and\n",
    "can now be solved using e.g.: maximum likelyhood optimization. One possibility is to use the newton alogrithm to optimize the function\n",
    "and find the transform."
   ]
  },
  {
   "cell_type": "code",
   "execution_count": 5,
   "metadata": {},
   "outputs": [
    {
     "name": "stderr",
     "output_type": "stream",
     "text": [
      "  0%|          | 0/10 [00:00<?, ?it/s]"
     ]
    },
    {
     "name": "stdout",
     "output_type": "stream",
     "text": [
      "Found 9104 lines. Skipped 11. Loaded 9093 points.\n"
     ]
    },
    {
     "name": "stderr",
     "output_type": "stream",
     "text": [
      " 10%|█         | 1/10 [00:49<07:21, 49.08s/it]"
     ]
    },
    {
     "name": "stdout",
     "output_type": "stream",
     "text": [
      "Frame : 0\n",
      "Error--------: 0.13682945132125604\n",
      "Found 22369 lines. Skipped 11. Loaded 22358 points.\n"
     ]
    },
    {
     "name": "stderr",
     "output_type": "stream",
     "text": [
      " 20%|██        | 2/10 [02:03<08:29, 63.71s/it]"
     ]
    },
    {
     "name": "stdout",
     "output_type": "stream",
     "text": [
      "Frame : 1\n",
      "Error--------: 0.26979649471522504\n",
      "Found 13580 lines. Skipped 11. Loaded 13569 points.\n"
     ]
    },
    {
     "name": "stderr",
     "output_type": "stream",
     "text": [
      " 30%|███       | 3/10 [02:54<06:45, 57.97s/it]"
     ]
    },
    {
     "name": "stdout",
     "output_type": "stream",
     "text": [
      "Frame : 2\n",
      "Error--------: 0.18242211721568974\n",
      "Found 14875 lines. Skipped 11. Loaded 14864 points.\n"
     ]
    },
    {
     "name": "stderr",
     "output_type": "stream",
     "text": [
      " 40%|████      | 4/10 [03:48<05:38, 56.35s/it]"
     ]
    },
    {
     "name": "stdout",
     "output_type": "stream",
     "text": [
      "Frame : 3\n",
      "Error--------: 0.18869914214734174\n",
      "Found 13437 lines. Skipped 11. Loaded 13426 points.\n"
     ]
    },
    {
     "name": "stderr",
     "output_type": "stream",
     "text": [
      " 50%|█████     | 5/10 [04:16<03:51, 46.24s/it]"
     ]
    },
    {
     "name": "stdout",
     "output_type": "stream",
     "text": [
      "Frame : 4\n",
      "Error--------: 0.17891081161793898\n",
      "Found 12078 lines. Skipped 11. Loaded 12067 points.\n"
     ]
    },
    {
     "name": "stderr",
     "output_type": "stream",
     "text": [
      " 60%|██████    | 6/10 [04:38<02:32, 38.07s/it]"
     ]
    },
    {
     "name": "stdout",
     "output_type": "stream",
     "text": [
      "Frame : 5\n",
      "Error--------: 0.3890519745771752\n",
      "Found 12213 lines. Skipped 11. Loaded 12202 points.\n"
     ]
    },
    {
     "name": "stderr",
     "output_type": "stream",
     "text": [
      " 70%|███████   | 7/10 [05:07<01:44, 34.99s/it]"
     ]
    },
    {
     "name": "stdout",
     "output_type": "stream",
     "text": [
      "Frame : 6\n",
      "Error--------: 0.2782864154091915\n",
      "Found 10780 lines. Skipped 11. Loaded 10769 points.\n"
     ]
    },
    {
     "name": "stderr",
     "output_type": "stream",
     "text": [
      " 80%|████████  | 8/10 [05:35<01:05, 32.99s/it]"
     ]
    },
    {
     "name": "stdout",
     "output_type": "stream",
     "text": [
      "Frame : 7\n",
      "Error--------: 0.3338248509585279\n",
      "Found 11521 lines. Skipped 11. Loaded 11510 points.\n"
     ]
    },
    {
     "name": "stderr",
     "output_type": "stream",
     "text": [
      " 90%|█████████ | 9/10 [05:56<00:29, 29.24s/it]"
     ]
    },
    {
     "name": "stdout",
     "output_type": "stream",
     "text": [
      "Frame : 8\n",
      "Error--------: 0.3418364097426772\n",
      "Found 11323 lines. Skipped 11. Loaded 11312 points.\n"
     ]
    },
    {
     "name": "stderr",
     "output_type": "stream",
     "text": [
      "100%|██████████| 10/10 [06:21<00:00, 38.19s/it]"
     ]
    },
    {
     "name": "stdout",
     "output_type": "stream",
     "text": [
      "Frame : 9\n",
      "Error--------: 0.3212125622731511\n",
      "Total execution time: 381.900 seconds\n"
     ]
    },
    {
     "name": "stderr",
     "output_type": "stream",
     "text": [
      "\n"
     ]
    }
   ],
   "source": [
    "#initial transformation\n",
    "initTransform = np.identity(4)\n",
    "ndt_errors =[]\n",
    "voxel_size = 0.2\n",
    "\n",
    "start_time = time.time()\n",
    "\n",
    "#loops over all frames and returns the the lateral errors \n",
    "for sample in tqdm(range(10)):\n",
    "\n",
    "    frame_path = os.path.join(\"/app/projects/dataset/frames/\", frame_files[sample])\n",
    "    source_points = load_data(frame_path)\n",
    "    \n",
    "    \n",
    "    #voxel filter\n",
    "    points = voxel_downsample(source_points, 0.6)\n",
    "\n",
    "\n",
    "    #transfrom source points based on last alignment transformation\n",
    "    pcd = o3d.geometry.PointCloud()\n",
    "    pcd.points = o3d.utility.Vector3dVector(points)\n",
    "    pcd = pcd.transform(initTransform)\n",
    "    t_points = np.array(pcd.points)\n",
    "\n",
    "    #NDT alignmnet returns transformation matrix\n",
    "\n",
    "    trans, score= ndt(source= t_points, target=target_points,transformation=np.identity(4),voxelize=0, nr_iterations=60, epsilon=1e-3,\n",
    "                         inlier_threshold=1e-3, distance_threshold= 1, downsample = 0, visualize=False)\n",
    "    \n",
    "\n",
    "    initTransform = trans \n",
    "\n",
    "    \n",
    "    #grab frame values from ground truth\n",
    "    frame_gt = g_df[g_df['Frame'] == sample]\n",
    "\n",
    "\n",
    "    \n",
    "    # Calculate L2 norm for latent error \n",
    "    errors = np.linalg.norm(np.array([initTransform[0,3],initTransform[1,3],initTransform[2,3]])-np.array([ frame_gt[' x'].item(),  frame_gt[' y'].item(),  frame_gt[' z'].item()]))  \n",
    "    print('Frame :', sample)\n",
    "    print(\"Error--------:\", errors) \n",
    "    if errors>1.2:\n",
    "        print(\"Too big error\")\n",
    "\n",
    "\n",
    "\n",
    "\n",
    "    ndt_errors.append(errors)\n",
    "\n",
    "end_time = time.time()\n",
    "total_ndt_time = end_time - start_time\n",
    "\n",
    "print(f\"Total execution time: {total_ndt_time:.3f} seconds\")\n"
   ]
  },
  {
   "cell_type": "markdown",
   "metadata": {},
   "source": [
    "## Analysis \n",
    "\n",
    "### RMSE\n",
    "\n",
    "### Runtime\n",
    "Without any downsampling the *ndt* needs around 15 seconds for the calculation of one transform from our data set. With the chosen downsampling \n",
    "and voxelization parameter, the calculation takes only roughly one second. While trying the algorithm on not downsampled data samples,\n",
    "no performance difference could be observed."
   ]
  },
  {
   "cell_type": "code",
   "execution_count": 8,
   "metadata": {},
   "outputs": [
    {
     "name": "stdout",
     "output_type": "stream",
     "text": [
      "Number of sucessful frames localization using ICP : 28\n",
      "Mean error using ICP localization : 94.946\n",
      "Max error using ICP localization : 182.749\n",
      "Time needed for localization of all frames using ICP : 167.016 seconds\n"
     ]
    }
   ],
   "source": [
    "error_icp = np.array(icp_errors)\n",
    "Mean_icp_error = np.mean(error_icp)\n",
    "Max_icp_error = np.max(error_icp)\n",
    "\n",
    "print(\"Number of sucessful frames localization using ICP :\", len(error_icp[error_icp<1.2]))\n",
    "print(\"Mean error using ICP localization :\",f'{Mean_icp_error:.3f}')\n",
    "print(\"Max error using ICP localization :\", f'{Max_icp_error:.3f}')\n",
    "print(\"Time needed for localization of all frames using ICP :\", f'{total_icp_time:.3f}', \"seconds\")\n"
   ]
  },
  {
   "cell_type": "code",
   "execution_count": 9,
   "metadata": {},
   "outputs": [
    {
     "name": "stdout",
     "output_type": "stream",
     "text": [
      "Number of failed frames localization using NDT : 10\n",
      "Mean error using NDT localization : 0.262\n",
      "Max error using NDT localization : 0.389\n",
      "Time needed for localization of all frames using ndt : 381.900 seconds\n"
     ]
    }
   ],
   "source": [
    "error_ndt = np.array(ndt_errors)\n",
    "Mean_ndt_error = np.mean(error_ndt)\n",
    "Max_ndt_error = np.max(error_ndt)\n",
    "\n",
    "print(\"Number of failed frames localization using NDT :\", len(error_ndt[error_ndt<1.2]))\n",
    "print(\"Mean error using NDT localization :\", f'{Mean_ndt_error:.3f}')\n",
    "print(\"Max error using NDT localization :\", f'{Max_ndt_error:.3f}')\n",
    "print(\"Time needed for localization of all frames using ndt :\", f'{total_ndt_time:.3f}', \"seconds\")"
   ]
  }
 ],
 "metadata": {
  "kernelspec": {
   "display_name": "Python 3 (ipykernel)",
   "language": "python",
   "name": "python3"
  },
  "language_info": {
   "codemirror_mode": {
    "name": "ipython",
    "version": 3
   },
   "file_extension": ".py",
   "mimetype": "text/x-python",
   "name": "python",
   "nbconvert_exporter": "python",
   "pygments_lexer": "ipython3",
   "version": "3.8.10"
  }
 },
 "nbformat": 4,
 "nbformat_minor": 2
}
